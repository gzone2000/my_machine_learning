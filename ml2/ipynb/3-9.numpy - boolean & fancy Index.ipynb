{
 "cells": [
  {
   "attachments": {},
   "cell_type": "markdown",
   "metadata": {},
   "source": [
    "# 3-9 numpy - boolean & fancy Index"
   ]
  },
  {
   "cell_type": "markdown",
   "metadata": {},
   "source": [
    "## boolean Index"
   ]
  },
  {
   "cell_type": "code",
   "execution_count": 1,
   "metadata": {},
   "outputs": [],
   "source": [
    "import numpy as np"
   ]
  },
  {
   "cell_type": "code",
   "execution_count": 3,
   "metadata": {},
   "outputs": [
    {
     "data": {
      "text/plain": [
       "array([1., 4., 0., 2., 3., 8., 9., 7.])"
      ]
     },
     "execution_count": 3,
     "metadata": {},
     "output_type": "execute_result"
    }
   ],
   "source": [
    "test_array = np.array([1, 4, 0, 2, 3, 8, 9, 7], float)\n",
    "test_array"
   ]
  },
  {
   "cell_type": "code",
   "execution_count": 4,
   "metadata": {},
   "outputs": [
    {
     "data": {
      "text/plain": [
       "array([False,  True, False, False, False,  True,  True,  True])"
      ]
     },
     "execution_count": 4,
     "metadata": {},
     "output_type": "execute_result"
    }
   ],
   "source": [
    "test_array > 3"
   ]
  },
  {
   "cell_type": "code",
   "execution_count": 5,
   "metadata": {},
   "outputs": [
    {
     "data": {
      "text/plain": [
       "array([4., 8., 9., 7.])"
      ]
     },
     "execution_count": 5,
     "metadata": {},
     "output_type": "execute_result"
    }
   ],
   "source": [
    "test_array[test_array > 3]"
   ]
  },
  {
   "cell_type": "code",
   "execution_count": 6,
   "metadata": {},
   "outputs": [
    {
     "data": {
      "text/plain": [
       "array([ True, False,  True,  True, False, False, False, False])"
      ]
     },
     "execution_count": 6,
     "metadata": {},
     "output_type": "execute_result"
    }
   ],
   "source": [
    "condition = test_array < 3\n",
    "condition"
   ]
  },
  {
   "cell_type": "code",
   "execution_count": 7,
   "metadata": {},
   "outputs": [
    {
     "data": {
      "text/plain": [
       "array([1., 0., 2.])"
      ]
     },
     "execution_count": 7,
     "metadata": {},
     "output_type": "execute_result"
    }
   ],
   "source": [
    "test_array[condition]"
   ]
  },
  {
   "cell_type": "code",
   "execution_count": 11,
   "metadata": {},
   "outputs": [
    {
     "data": {
      "text/plain": [
       "array([[12, 13, 14, 12, 16, 14, 11, 10,  9],\n",
       "       [11, 14, 12, 15, 10, 10, 11, 12, 11],\n",
       "       [10, 12, 14, 12, 16, 14, 11, 12, 12],\n",
       "       [ 9, 11, 14, 10, 10, 14, 11, 12, 10],\n",
       "       [12, 11, 14, 12, 11, 14, 11, 12, 13],\n",
       "       [10, 15, 12, 10, 12, 14, 11, 15, 12],\n",
       "       [13, 17, 12, 15, 14, 14, 11, 18, 10],\n",
       "       [10, 16, 12, 14, 15, 14, 11, 18, 11],\n",
       "       [10, 19, 12, 18, 18, 14, 11, 17, 10],\n",
       "       [10, 22, 12, 11, 11, 14, 11, 18, 13],\n",
       "       [12, 17, 16, 12, 16, 14, 11, 17, 11]])"
      ]
     },
     "execution_count": 11,
     "metadata": {},
     "output_type": "execute_result"
    }
   ],
   "source": [
    "A = np.array([\n",
    "    [12, 13, 14, 12, 16, 14, 11, 10, 9],\n",
    "    [11, 14, 12, 15, 10, 10, 11, 12, 11],\n",
    "    [10, 12, 14, 12, 16, 14, 11, 12, 12],\n",
    "    [9, 11, 14, 10, 10, 14, 11, 12, 10],\n",
    "    [12, 11, 14, 12, 11, 14, 11, 12, 13],\n",
    "    [10, 15, 12, 10, 12, 14, 11, 15, 12],\n",
    "    [13, 17, 12, 15, 14, 14, 11, 18, 10],\n",
    "    [10, 16, 12, 14, 15, 14, 11, 18, 11],\n",
    "    [10, 19, 12, 18, 18, 14, 11, 17, 10],\n",
    "    [10, 22, 12, 11, 11, 14, 11, 18, 13],\n",
    "    [12, 17, 16, 12, 16, 14, 11, 17, 11]\n",
    "])\n",
    "A"
   ]
  },
  {
   "cell_type": "code",
   "execution_count": 13,
   "metadata": {},
   "outputs": [
    {
     "data": {
      "text/plain": [
       "array([[ True,  True,  True,  True, False,  True,  True,  True,  True],\n",
       "       [ True,  True,  True, False,  True,  True,  True,  True,  True],\n",
       "       [ True,  True,  True,  True, False,  True,  True,  True,  True],\n",
       "       [ True,  True,  True,  True,  True,  True,  True,  True,  True],\n",
       "       [ True,  True,  True,  True,  True,  True,  True,  True,  True],\n",
       "       [ True, False,  True,  True,  True,  True,  True, False,  True],\n",
       "       [ True, False,  True, False,  True,  True,  True, False,  True],\n",
       "       [ True, False,  True,  True, False,  True,  True, False,  True],\n",
       "       [ True, False,  True, False, False,  True,  True, False,  True],\n",
       "       [ True, False,  True,  True,  True,  True,  True, False,  True],\n",
       "       [ True, False, False,  True, False,  True,  True, False,  True]])"
      ]
     },
     "execution_count": 13,
     "metadata": {},
     "output_type": "execute_result"
    }
   ],
   "source": [
    "B = A < 15\n",
    "B"
   ]
  },
  {
   "cell_type": "code",
   "execution_count": 14,
   "metadata": {},
   "outputs": [
    {
     "data": {
      "text/plain": [
       "array([[1, 1, 1, 1, 0, 1, 1, 1, 1],\n",
       "       [1, 1, 1, 0, 1, 1, 1, 1, 1],\n",
       "       [1, 1, 1, 1, 0, 1, 1, 1, 1],\n",
       "       [1, 1, 1, 1, 1, 1, 1, 1, 1],\n",
       "       [1, 1, 1, 1, 1, 1, 1, 1, 1],\n",
       "       [1, 0, 1, 1, 1, 1, 1, 0, 1],\n",
       "       [1, 0, 1, 0, 1, 1, 1, 0, 1],\n",
       "       [1, 0, 1, 1, 0, 1, 1, 0, 1],\n",
       "       [1, 0, 1, 0, 0, 1, 1, 0, 1],\n",
       "       [1, 0, 1, 1, 1, 1, 1, 0, 1],\n",
       "       [1, 0, 0, 1, 0, 1, 1, 0, 1]])"
      ]
     },
     "execution_count": 14,
     "metadata": {},
     "output_type": "execute_result"
    }
   ],
   "source": [
    "B.astype(np.int)"
   ]
  },
  {
   "cell_type": "markdown",
   "metadata": {},
   "source": [
    "## fancy Index"
   ]
  },
  {
   "cell_type": "code",
   "execution_count": 15,
   "metadata": {},
   "outputs": [],
   "source": [
    "a = np.array([2, 4, 6, 8], float)\n",
    "b = np.array([0, 0, 1, 3, 2, 1], int)"
   ]
  },
  {
   "cell_type": "code",
   "execution_count": 16,
   "metadata": {},
   "outputs": [
    {
     "data": {
      "text/plain": [
       "array([2., 2., 4., 8., 6., 4.])"
      ]
     },
     "execution_count": 16,
     "metadata": {},
     "output_type": "execute_result"
    }
   ],
   "source": [
    "a[b]"
   ]
  },
  {
   "cell_type": "code",
   "execution_count": 17,
   "metadata": {},
   "outputs": [
    {
     "data": {
      "text/plain": [
       "array([2., 2., 4., 8., 6., 4.])"
      ]
     },
     "execution_count": 17,
     "metadata": {},
     "output_type": "execute_result"
    }
   ],
   "source": [
    "a.take(b)  # take 함수 : bracket index와  같은 효과"
   ]
  },
  {
   "cell_type": "code",
   "execution_count": 20,
   "metadata": {},
   "outputs": [
    {
     "data": {
      "text/plain": [
       "array([ 1.,  4., 16., 16.,  4.])"
      ]
     },
     "execution_count": 20,
     "metadata": {},
     "output_type": "execute_result"
    }
   ],
   "source": [
    "a = np.array([[1, 4], [9, 16]], float)\n",
    "b = np.array([0, 0, 1, 1, 0], int)\n",
    "c = np.array([0, 1, 1, 1, 1], int)\n",
    "a[b, c]   # b를 row index, c를 column index로 변환하여 표시함"
   ]
  },
  {
   "cell_type": "code",
   "execution_count": null,
   "metadata": {},
   "outputs": [],
   "source": []
  }
 ],
 "metadata": {
  "kernelspec": {
   "display_name": "Python 3",
   "language": "python",
   "name": "python3"
  },
  "language_info": {
   "codemirror_mode": {
    "name": "ipython",
    "version": 3
   },
   "file_extension": ".py",
   "mimetype": "text/x-python",
   "name": "python",
   "nbconvert_exporter": "python",
   "pygments_lexer": "ipython3",
   "version": "3.7.0"
  }
 },
 "nbformat": 4,
 "nbformat_minor": 4
}
