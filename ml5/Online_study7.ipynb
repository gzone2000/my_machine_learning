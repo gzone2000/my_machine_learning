{
  "nbformat": 4,
  "nbformat_minor": 0,
  "metadata": {
    "colab": {
      "name": "Online_study7.ipynb",
      "provenance": [],
      "collapsed_sections": []
    },
    "kernelspec": {
      "name": "python3",
      "display_name": "Python 3"
    },
    "language_info": {
      "name": "python"
    }
  },
  "cells": [
    {
      "cell_type": "markdown",
      "source": [
        "# COLAB 한글깨짐 방지"
      ],
      "metadata": {
        "id": "8fFvMfQj7ixN"
      }
    },
    {
      "cell_type": "code",
      "source": [
        "!apt-get install -y fonts-nanum\n",
        "!fc-cache -fv\n",
        "!rm ~/.cache/matplotlib -rf"
      ],
      "metadata": {
        "colab": {
          "base_uri": "https://localhost:8080/"
        },
        "id": "Zj2mzwBJ7hzE",
        "outputId": "2bb79259-aa17-4d9f-fdf6-d0fd19101274"
      },
      "execution_count": 417,
      "outputs": [
        {
          "output_type": "stream",
          "name": "stdout",
          "text": [
            "Reading package lists... Done\n",
            "Building dependency tree       \n",
            "Reading state information... Done\n",
            "fonts-nanum is already the newest version (20170925-1).\n",
            "0 upgraded, 0 newly installed, 0 to remove and 37 not upgraded.\n",
            "/usr/share/fonts: caching, new cache contents: 0 fonts, 1 dirs\n",
            "/usr/share/fonts/truetype: caching, new cache contents: 0 fonts, 3 dirs\n",
            "/usr/share/fonts/truetype/humor-sans: caching, new cache contents: 1 fonts, 0 dirs\n",
            "/usr/share/fonts/truetype/liberation: caching, new cache contents: 16 fonts, 0 dirs\n",
            "/usr/share/fonts/truetype/nanum: caching, new cache contents: 10 fonts, 0 dirs\n",
            "/usr/local/share/fonts: caching, new cache contents: 0 fonts, 0 dirs\n",
            "/root/.local/share/fonts: skipping, no such directory\n",
            "/root/.fonts: skipping, no such directory\n",
            "/var/cache/fontconfig: cleaning cache directory\n",
            "/root/.cache/fontconfig: not cleaning non-existent cache directory\n",
            "/root/.fontconfig: not cleaning non-existent cache directory\n",
            "fc-cache: succeeded\n"
          ]
        }
      ]
    },
    {
      "cell_type": "code",
      "source": [
        "# 상단의 [런타임 - 런타임 다시 시작] 을 클릭하여 런타임을 재시작합니다."
      ],
      "metadata": {
        "id": "cUYldATo7iLi"
      },
      "execution_count": 418,
      "outputs": []
    },
    {
      "cell_type": "code",
      "source": [
        "import matplotlib.pyplot as plt\n",
        "plt.rc('font', family='NanumBarunGothic')"
      ],
      "metadata": {
        "id": "_doS9x9r7iZC"
      },
      "execution_count": 419,
      "outputs": []
    },
    {
      "cell_type": "markdown",
      "source": [
        "# 실제 데이터 : 온라인 학습 엑셀 데이터 읽어오기"
      ],
      "metadata": {
        "id": "1Q-mA40c7_gA"
      }
    },
    {
      "cell_type": "code",
      "execution_count": 420,
      "metadata": {
        "id": "3ItW-scPahND"
      },
      "outputs": [],
      "source": [
        "import pandas as pd\n",
        "import numpy as np\n",
        "import datetime\n",
        "import warnings\n",
        "warnings.filterwarnings('ignore')\n",
        "np.random.seed(41)"
      ]
    },
    {
      "cell_type": "code",
      "source": [
        "!ls -al /content/drive/MyDrive/"
      ],
      "metadata": {
        "colab": {
          "base_uri": "https://localhost:8080/"
        },
        "id": "GS7yKveBbZyo",
        "outputId": "6e8be5d9-7b6b-4c8f-86fc-86ae13785ec6"
      },
      "execution_count": 421,
      "outputs": [
        {
          "output_type": "stream",
          "name": "stdout",
          "text": [
            "total 328288\n",
            "-rw------- 1 root root 34431677 Jan 17 02:27 '온라인 학습 데이트_2021_10월-12월_4Q.csv'\n",
            "-rw------- 1 root root 13101785 Dec 21 09:37 '온라인 학습 데이트_2021_10월-12월.xlsx'\n",
            "-rw------- 1 root root 37228165 Jan 17 02:27 '온라인 학습 데이트_2021_1월-3월_1Q.csv'\n",
            "-rw------- 1 root root 14350942 Dec 21 09:36 '온라인 학습 데이트_2021_1월-3월.xlsx'\n",
            "-rw------- 1 root root 43239058 Jan 17 02:27 '온라인 학습 데이트_2021_4월-6월_2Q.csv'\n",
            "-rw------- 1 root root 17046149 Dec 21 09:36 '온라인 학습 데이트_2021_4월-6월.xlsx'\n",
            "-rw------- 1 root root 45059913 Jan 17 02:27 '온라인 학습 데이트_2021_7월-9월_3Q.csv'\n",
            "-rw------- 1 root root 16324314 Dec 21 09:36 '온라인 학습 데이트_2021_7월-9월.xlsx'\n",
            "-rw------- 1 root root  1303292 Jan 13 01:04  ansan_data_toEucKR.csv\n",
            "drwx------ 2 root root     4096 Sep  1  2020 'Colab Notebooks'\n",
            "-rw------- 1 root root 47236400 Aug 20 04:48 'Python활용AI모델링_05.머신러닝 모델링_V4.2_오윤우.pptx'\n",
            "-rw------- 1 root root 66751212 Aug 20 04:48 'Python활용AI모델링_06.딥러닝 모델링_v4.2_오윤우.pptx'\n",
            "-rw------- 1 root root    85760 Feb 15  2021 'python, pandas, AI 정리(2021.02.14).txt'\n"
          ]
        }
      ]
    },
    {
      "cell_type": "markdown",
      "source": [
        "# 재가공 데이터 : 처음이라 생각하고 데이터 파일 읽어 들이자"
      ],
      "metadata": {
        "id": "2L8wpppyJoPG"
      }
    },
    {
      "cell_type": "code",
      "source": [
        "df_1Q = pd.read_csv('/content/drive/MyDrive/온라인 학습 데이트_2021_1월-3월_1Q.csv', encoding='cp949')\n",
        "df_2Q = pd.read_csv('/content/drive/MyDrive/온라인 학습 데이트_2021_4월-6월_2Q.csv', encoding='cp949')\n",
        "df_3Q = pd.read_csv('/content/drive/MyDrive/온라인 학습 데이트_2021_7월-9월_3Q.csv', encoding='cp949')\n",
        "df_4Q = pd.read_csv('/content/drive/MyDrive/온라인 학습 데이트_2021_10월-12월_4Q.csv', encoding='cp949')"
      ],
      "metadata": {
        "id": "jW3ncFYM13QF"
      },
      "execution_count": 422,
      "outputs": []
    },
    {
      "cell_type": "code",
      "source": [
        "print(df_1Q.shape)\n",
        "print(df_2Q.shape)\n",
        "print(df_3Q.shape)\n",
        "print(df_4Q.shape)"
      ],
      "metadata": {
        "colab": {
          "base_uri": "https://localhost:8080/"
        },
        "id": "PeYQ8UC2sesF",
        "outputId": "06e7610f-56bd-4308-b7e0-2ec337c1b1b2"
      },
      "execution_count": 423,
      "outputs": [
        {
          "output_type": "stream",
          "name": "stdout",
          "text": [
            "(189516, 18)\n",
            "(235732, 18)\n",
            "(213501, 18)\n",
            "(160051, 18)\n"
          ]
        }
      ]
    },
    {
      "cell_type": "code",
      "source": [
        "df_1Q.info()"
      ],
      "metadata": {
        "colab": {
          "base_uri": "https://localhost:8080/"
        },
        "id": "i26sOq2_seuY",
        "outputId": "38941bf7-9db6-47f3-e88b-2782382b3284"
      },
      "execution_count": 424,
      "outputs": [
        {
          "output_type": "stream",
          "name": "stdout",
          "text": [
            "<class 'pandas.core.frame.DataFrame'>\n",
            "RangeIndex: 189516 entries, 0 to 189515\n",
            "Data columns (total 18 columns):\n",
            " #   Column      Non-Null Count   Dtype  \n",
            "---  ------      --------------   -----  \n",
            " 0   교육분야1차      189516 non-null  object \n",
            " 1   교육분야2차      189516 non-null  object \n",
            " 2   과정코드        189516 non-null  int64  \n",
            " 3   과정명(학습명)    189516 non-null  object \n",
            " 4   과정등록일(생성일)  184041 non-null  object \n",
            " 5   학습시작일       189516 non-null  object \n",
            " 6   학습종료일       189516 non-null  object \n",
            " 7   사번(ID)      189516 non-null  object \n",
            " 8   소속부서        189516 non-null  object \n",
            " 9   호칭          189516 non-null  object \n",
            " 10  직무          189516 non-null  object \n",
            " 11  제작/소싱       42300 non-null   object \n",
            " 12  자격증보유여부     189516 non-null  object \n",
            " 13  학습지수        189280 non-null  float64\n",
            " 14  과정코드비율      189516 non-null  float64\n",
            " 15  경력개월수       189516 non-null  float64\n",
            " 16  어학점수        189516 non-null  float64\n",
            " 17  수강횟수        189516 non-null  float64\n",
            "dtypes: float64(5), int64(1), object(12)\n",
            "memory usage: 26.0+ MB\n"
          ]
        }
      ]
    },
    {
      "cell_type": "code",
      "source": [
        "df_2Q.info()"
      ],
      "metadata": {
        "colab": {
          "base_uri": "https://localhost:8080/"
        },
        "id": "O1uWBwWlKry6",
        "outputId": "390b7c5e-6d06-4bb7-b53d-98db138c6bcc"
      },
      "execution_count": 425,
      "outputs": [
        {
          "output_type": "stream",
          "name": "stdout",
          "text": [
            "<class 'pandas.core.frame.DataFrame'>\n",
            "RangeIndex: 235732 entries, 0 to 235731\n",
            "Data columns (total 18 columns):\n",
            " #   Column      Non-Null Count   Dtype  \n",
            "---  ------      --------------   -----  \n",
            " 0   교육분야1차      235732 non-null  object \n",
            " 1   교육분야2차      235732 non-null  object \n",
            " 2   과정코드        235732 non-null  int64  \n",
            " 3   과정명(학습명)    235732 non-null  object \n",
            " 4   과정등록일(생성일)  3837 non-null    object \n",
            " 5   학습시작일       235732 non-null  object \n",
            " 6   학습종료일       235732 non-null  object \n",
            " 7   사번(ID)      235732 non-null  object \n",
            " 8   소속부서        235732 non-null  object \n",
            " 9   호칭          235732 non-null  object \n",
            " 10  직무          235732 non-null  object \n",
            " 11  제작/소싱       55766 non-null   object \n",
            " 12  자격증보유여부     235732 non-null  object \n",
            " 13  학습지수        235449 non-null  float64\n",
            " 14  과정코드비율      235732 non-null  float64\n",
            " 15  경력개월수       235732 non-null  float64\n",
            " 16  어학점수        235732 non-null  float64\n",
            " 17  수강횟수        235732 non-null  float64\n",
            "dtypes: float64(5), int64(1), object(12)\n",
            "memory usage: 32.4+ MB\n"
          ]
        }
      ]
    },
    {
      "cell_type": "code",
      "source": [
        "df_3Q.info()"
      ],
      "metadata": {
        "colab": {
          "base_uri": "https://localhost:8080/"
        },
        "id": "hlsBk1MEKuuA",
        "outputId": "5071cbed-ede0-4bd1-f2d8-82e5b7025b84"
      },
      "execution_count": 426,
      "outputs": [
        {
          "output_type": "stream",
          "name": "stdout",
          "text": [
            "<class 'pandas.core.frame.DataFrame'>\n",
            "RangeIndex: 213501 entries, 0 to 213500\n",
            "Data columns (total 18 columns):\n",
            " #   Column      Non-Null Count   Dtype  \n",
            "---  ------      --------------   -----  \n",
            " 0   교육분야1차      213501 non-null  object \n",
            " 1   교육분야2차      213501 non-null  object \n",
            " 2   과정코드        213501 non-null  int64  \n",
            " 3   과정명(학습명)    213501 non-null  object \n",
            " 4   과정등록일(생성일)  213501 non-null  object \n",
            " 5   학습시작일       213501 non-null  object \n",
            " 6   학습종료일       213501 non-null  object \n",
            " 7   사번(ID)      213501 non-null  object \n",
            " 8   소속부서        213501 non-null  object \n",
            " 9   호칭          213501 non-null  object \n",
            " 10  직무          213501 non-null  object \n",
            " 11  제작/소싱       52215 non-null   object \n",
            " 12  자격증보유여부     213501 non-null  object \n",
            " 13  학습지수        213220 non-null  float64\n",
            " 14  과정코드비율      213501 non-null  float64\n",
            " 15  경력개월수       213501 non-null  float64\n",
            " 16  어학점수        213501 non-null  float64\n",
            " 17  수강횟수        213501 non-null  float64\n",
            "dtypes: float64(5), int64(1), object(12)\n",
            "memory usage: 29.3+ MB\n"
          ]
        }
      ]
    },
    {
      "cell_type": "code",
      "source": [
        "df_4Q.info()"
      ],
      "metadata": {
        "colab": {
          "base_uri": "https://localhost:8080/"
        },
        "id": "Tza2p37mKx-t",
        "outputId": "d84e4716-680e-4430-a993-cefd07492433"
      },
      "execution_count": 427,
      "outputs": [
        {
          "output_type": "stream",
          "name": "stdout",
          "text": [
            "<class 'pandas.core.frame.DataFrame'>\n",
            "RangeIndex: 160051 entries, 0 to 160050\n",
            "Data columns (total 18 columns):\n",
            " #   Column      Non-Null Count   Dtype  \n",
            "---  ------      --------------   -----  \n",
            " 0   교육분야1차      160051 non-null  object \n",
            " 1   교육분야2차      160051 non-null  object \n",
            " 2   과정코드        160051 non-null  int64  \n",
            " 3   과정명(학습명)    160051 non-null  object \n",
            " 4   과정등록일(생성일)  160051 non-null  object \n",
            " 5   학습시작일       160051 non-null  object \n",
            " 6   학습종료일       160051 non-null  object \n",
            " 7   사번(ID)      160051 non-null  object \n",
            " 8   소속부서        160051 non-null  object \n",
            " 9   호칭          160051 non-null  object \n",
            " 10  직무          160051 non-null  object \n",
            " 11  제작/소싱       66683 non-null   object \n",
            " 12  자격증보유여부     160051 non-null  object \n",
            " 13  학습지수        159842 non-null  float64\n",
            " 14  과정코드비율      160051 non-null  float64\n",
            " 15  경력개월수       160051 non-null  float64\n",
            " 16  어학점수        160051 non-null  float64\n",
            " 17  수강횟수        160051 non-null  float64\n",
            "dtypes: float64(5), int64(1), object(12)\n",
            "memory usage: 22.0+ MB\n"
          ]
        }
      ]
    },
    {
      "cell_type": "code",
      "source": [
        "df_Q = pd.concat([df_1Q, df_2Q, df_3Q, df_4Q], axis=0)"
      ],
      "metadata": {
        "id": "M-XzJ_4HKzXu"
      },
      "execution_count": 428,
      "outputs": []
    },
    {
      "cell_type": "code",
      "source": [
        "192703 + 236263 + 215125 + 160622 "
      ],
      "metadata": {
        "colab": {
          "base_uri": "https://localhost:8080/"
        },
        "id": "BbO5z7b7LF9h",
        "outputId": "778447d2-c8e4-4e80-a9fd-33f0d9c08376"
      },
      "execution_count": 429,
      "outputs": [
        {
          "output_type": "execute_result",
          "data": {
            "text/plain": [
              "804713"
            ]
          },
          "metadata": {},
          "execution_count": 429
        }
      ]
    },
    {
      "cell_type": "code",
      "source": [
        "df_Q.info()"
      ],
      "metadata": {
        "colab": {
          "base_uri": "https://localhost:8080/"
        },
        "id": "sfMJu117LPlc",
        "outputId": "92f287c9-93a7-4e81-ca54-ff5038c07232"
      },
      "execution_count": 430,
      "outputs": [
        {
          "output_type": "stream",
          "name": "stdout",
          "text": [
            "<class 'pandas.core.frame.DataFrame'>\n",
            "Int64Index: 798800 entries, 0 to 160050\n",
            "Data columns (total 18 columns):\n",
            " #   Column      Non-Null Count   Dtype  \n",
            "---  ------      --------------   -----  \n",
            " 0   교육분야1차      798800 non-null  object \n",
            " 1   교육분야2차      798800 non-null  object \n",
            " 2   과정코드        798800 non-null  int64  \n",
            " 3   과정명(학습명)    798800 non-null  object \n",
            " 4   과정등록일(생성일)  561430 non-null  object \n",
            " 5   학습시작일       798800 non-null  object \n",
            " 6   학습종료일       798800 non-null  object \n",
            " 7   사번(ID)      798800 non-null  object \n",
            " 8   소속부서        798800 non-null  object \n",
            " 9   호칭          798800 non-null  object \n",
            " 10  직무          798800 non-null  object \n",
            " 11  제작/소싱       216964 non-null  object \n",
            " 12  자격증보유여부     798800 non-null  object \n",
            " 13  학습지수        797791 non-null  float64\n",
            " 14  과정코드비율      798800 non-null  float64\n",
            " 15  경력개월수       798800 non-null  float64\n",
            " 16  어학점수        798800 non-null  float64\n",
            " 17  수강횟수        798800 non-null  float64\n",
            "dtypes: float64(5), int64(1), object(12)\n",
            "memory usage: 115.8+ MB\n"
          ]
        }
      ]
    },
    {
      "cell_type": "code",
      "source": [
        "df_Q.isnull().sum()"
      ],
      "metadata": {
        "colab": {
          "base_uri": "https://localhost:8080/"
        },
        "id": "AHKKS6J4fOsk",
        "outputId": "8e3b2928-1ce6-41a6-f771-c1222e71d9bd"
      },
      "execution_count": 431,
      "outputs": [
        {
          "output_type": "execute_result",
          "data": {
            "text/plain": [
              "교육분야1차             0\n",
              "교육분야2차             0\n",
              "과정코드               0\n",
              "과정명(학습명)           0\n",
              "과정등록일(생성일)    237370\n",
              "학습시작일              0\n",
              "학습종료일              0\n",
              "사번(ID)             0\n",
              "소속부서               0\n",
              "호칭                 0\n",
              "직무                 0\n",
              "제작/소싱         581836\n",
              "자격증보유여부            0\n",
              "학습지수            1009\n",
              "과정코드비율             0\n",
              "경력개월수              0\n",
              "어학점수               0\n",
              "수강횟수               0\n",
              "dtype: int64"
            ]
          },
          "metadata": {},
          "execution_count": 431
        }
      ]
    },
    {
      "cell_type": "markdown",
      "source": [
        "# 시간대별 학습 발췌을 위해 작업 수행\n",
        "- 학습시작일, 학습종료일 : datetime으로 타입 변환\n",
        "- 학습시작일, 학습종료일 : time 분리\n",
        "- 요일 분리\n",
        "- 과정코드 string 변경하기\n",
        "- 학습 시간을 초단위로 변경\n"
      ],
      "metadata": {
        "id": "7iNqneaoLrWc"
      }
    },
    {
      "cell_type": "code",
      "source": [
        "df_Q['학습시작일'] = pd.to_datetime(df_Q['학습시작일'])\n",
        "df_Q['학습종료일'] = pd.to_datetime(df_Q['학습종료일'])"
      ],
      "metadata": {
        "id": "QOIhOP9CLorg"
      },
      "execution_count": 432,
      "outputs": []
    },
    {
      "cell_type": "code",
      "source": [
        "df_Q['학습시작일_TIME'] = df_Q['학습시작일'].dt.time\n",
        "df_Q['학습종료일_TIME'] = df_Q['학습종료일'].dt.time"
      ],
      "metadata": {
        "id": "ObRV9SEPLorg"
      },
      "execution_count": 433,
      "outputs": []
    },
    {
      "cell_type": "code",
      "source": [
        "df_Q.info()"
      ],
      "metadata": {
        "colab": {
          "base_uri": "https://localhost:8080/"
        },
        "outputId": "a49c8774-a685-40cf-fcde-68923ba29ddb",
        "id": "rYO2BWiNLorh"
      },
      "execution_count": 434,
      "outputs": [
        {
          "output_type": "stream",
          "name": "stdout",
          "text": [
            "<class 'pandas.core.frame.DataFrame'>\n",
            "Int64Index: 798800 entries, 0 to 160050\n",
            "Data columns (total 20 columns):\n",
            " #   Column      Non-Null Count   Dtype         \n",
            "---  ------      --------------   -----         \n",
            " 0   교육분야1차      798800 non-null  object        \n",
            " 1   교육분야2차      798800 non-null  object        \n",
            " 2   과정코드        798800 non-null  int64         \n",
            " 3   과정명(학습명)    798800 non-null  object        \n",
            " 4   과정등록일(생성일)  561430 non-null  object        \n",
            " 5   학습시작일       798800 non-null  datetime64[ns]\n",
            " 6   학습종료일       798800 non-null  datetime64[ns]\n",
            " 7   사번(ID)      798800 non-null  object        \n",
            " 8   소속부서        798800 non-null  object        \n",
            " 9   호칭          798800 non-null  object        \n",
            " 10  직무          798800 non-null  object        \n",
            " 11  제작/소싱       216964 non-null  object        \n",
            " 12  자격증보유여부     798800 non-null  object        \n",
            " 13  학습지수        797791 non-null  float64       \n",
            " 14  과정코드비율      798800 non-null  float64       \n",
            " 15  경력개월수       798800 non-null  float64       \n",
            " 16  어학점수        798800 non-null  float64       \n",
            " 17  수강횟수        798800 non-null  float64       \n",
            " 18  학습시작일_TIME  798800 non-null  object        \n",
            " 19  학습종료일_TIME  798800 non-null  object        \n",
            "dtypes: datetime64[ns](2), float64(5), int64(1), object(12)\n",
            "memory usage: 128.0+ MB\n"
          ]
        }
      ]
    },
    {
      "cell_type": "code",
      "source": [
        "df_Q['학습요일'] = df_Q['학습시작일'].dt.weekday"
      ],
      "metadata": {
        "id": "sPovTyucLori"
      },
      "execution_count": 435,
      "outputs": []
    },
    {
      "cell_type": "code",
      "source": [
        "df_Q['학습요일']"
      ],
      "metadata": {
        "colab": {
          "base_uri": "https://localhost:8080/"
        },
        "id": "5ucskQPL1QzC",
        "outputId": "35e23f06-5628-45f7-a64f-3cd095e9ea82"
      },
      "execution_count": 436,
      "outputs": [
        {
          "output_type": "execute_result",
          "data": {
            "text/plain": [
              "0         4\n",
              "1         4\n",
              "2         4\n",
              "3         4\n",
              "4         4\n",
              "         ..\n",
              "160046    0\n",
              "160047    0\n",
              "160048    0\n",
              "160049    0\n",
              "160050    0\n",
              "Name: 학습요일, Length: 798800, dtype: int64"
            ]
          },
          "metadata": {},
          "execution_count": 436
        }
      ]
    },
    {
      "cell_type": "code",
      "source": [
        "conv = {0:'월', 1:'화', 2:'수', 3:'목', 4:'금', 5:'토', 6:'일'}\n",
        "df_Q['학습요일_CONV'] = df_Q['학습요일'].map(conv)"
      ],
      "metadata": {
        "id": "896PqQPELori"
      },
      "execution_count": 437,
      "outputs": []
    },
    {
      "cell_type": "code",
      "source": [
        "df_Q['학습요일_CONV'].value_counts()"
      ],
      "metadata": {
        "colab": {
          "base_uri": "https://localhost:8080/"
        },
        "outputId": "64e98b98-7f0d-40f8-c732-1acd3e7b72ba",
        "id": "dSPjVKquLorj"
      },
      "execution_count": 438,
      "outputs": [
        {
          "output_type": "execute_result",
          "data": {
            "text/plain": [
              "금    154164\n",
              "화    152969\n",
              "목    149903\n",
              "월    140875\n",
              "수    139942\n",
              "토     30506\n",
              "일     30441\n",
              "Name: 학습요일_CONV, dtype: int64"
            ]
          },
          "metadata": {},
          "execution_count": 438
        }
      ]
    },
    {
      "cell_type": "code",
      "source": [
        "df_Q.info()"
      ],
      "metadata": {
        "colab": {
          "base_uri": "https://localhost:8080/"
        },
        "outputId": "c3f1a294-f03d-410a-9c0e-62b9e23406a9",
        "id": "gtxpMVZJLorj"
      },
      "execution_count": 439,
      "outputs": [
        {
          "output_type": "stream",
          "name": "stdout",
          "text": [
            "<class 'pandas.core.frame.DataFrame'>\n",
            "Int64Index: 798800 entries, 0 to 160050\n",
            "Data columns (total 22 columns):\n",
            " #   Column      Non-Null Count   Dtype         \n",
            "---  ------      --------------   -----         \n",
            " 0   교육분야1차      798800 non-null  object        \n",
            " 1   교육분야2차      798800 non-null  object        \n",
            " 2   과정코드        798800 non-null  int64         \n",
            " 3   과정명(학습명)    798800 non-null  object        \n",
            " 4   과정등록일(생성일)  561430 non-null  object        \n",
            " 5   학습시작일       798800 non-null  datetime64[ns]\n",
            " 6   학습종료일       798800 non-null  datetime64[ns]\n",
            " 7   사번(ID)      798800 non-null  object        \n",
            " 8   소속부서        798800 non-null  object        \n",
            " 9   호칭          798800 non-null  object        \n",
            " 10  직무          798800 non-null  object        \n",
            " 11  제작/소싱       216964 non-null  object        \n",
            " 12  자격증보유여부     798800 non-null  object        \n",
            " 13  학습지수        797791 non-null  float64       \n",
            " 14  과정코드비율      798800 non-null  float64       \n",
            " 15  경력개월수       798800 non-null  float64       \n",
            " 16  어학점수        798800 non-null  float64       \n",
            " 17  수강횟수        798800 non-null  float64       \n",
            " 18  학습시작일_TIME  798800 non-null  object        \n",
            " 19  학습종료일_TIME  798800 non-null  object        \n",
            " 20  학습요일        798800 non-null  int64         \n",
            " 21  학습요일_CONV   798800 non-null  object        \n",
            "dtypes: datetime64[ns](2), float64(5), int64(2), object(13)\n",
            "memory usage: 140.2+ MB\n"
          ]
        }
      ]
    },
    {
      "cell_type": "markdown",
      "source": [
        "### 과정코드 string 변경하기"
      ],
      "metadata": {
        "id": "-yr-cdYzOO4O"
      }
    },
    {
      "cell_type": "code",
      "source": [
        "df_Q['과정코드'] = df_Q['과정코드'].astype(str)"
      ],
      "metadata": {
        "id": "KJbFKe8cOOU5"
      },
      "execution_count": 440,
      "outputs": []
    },
    {
      "cell_type": "markdown",
      "source": [
        "### 학습 시간을 초단위로 변경"
      ],
      "metadata": {
        "id": "CXOu-wQPGv9e"
      }
    },
    {
      "cell_type": "code",
      "source": [
        "df_Q['학습시간'] = df_Q['학습종료일'] - df_Q['학습시작일']"
      ],
      "metadata": {
        "id": "0yH8ab4g9-lB"
      },
      "execution_count": 441,
      "outputs": []
    },
    {
      "cell_type": "code",
      "source": [
        "# 학습 시간을 초단위로 변경\n",
        "df_Q['학습시간'] = np.round(df_Q['학습시간'].dt.total_seconds())"
      ],
      "metadata": {
        "id": "IxvZ8c1r9-nq"
      },
      "execution_count": 442,
      "outputs": []
    },
    {
      "cell_type": "code",
      "source": [
        "df_Q['학습시간']"
      ],
      "metadata": {
        "colab": {
          "base_uri": "https://localhost:8080/"
        },
        "id": "pBy5SUnE9-rD",
        "outputId": "aaa66531-3aa6-488a-863c-2e69ddf70bc7"
      },
      "execution_count": 443,
      "outputs": [
        {
          "output_type": "execute_result",
          "data": {
            "text/plain": [
              "0         51080.0\n",
              "1         80443.0\n",
              "2           184.0\n",
              "3           638.0\n",
              "4           253.0\n",
              "           ...   \n",
              "160046      350.0\n",
              "160047     1051.0\n",
              "160048      233.0\n",
              "160049      822.0\n",
              "160050     2317.0\n",
              "Name: 학습시간, Length: 798800, dtype: float64"
            ]
          },
          "metadata": {},
          "execution_count": 443
        }
      ]
    },
    {
      "cell_type": "markdown",
      "source": [
        "# [직급기준] \n",
        "- 가장 많이 학습한 콘텐츠 교육분야1차\n",
        "- 요일별 학습량 분석: 월/화/수/목/금/토/일"
      ],
      "metadata": {
        "id": "m6ds22-lMw9k"
      }
    },
    {
      "cell_type": "markdown",
      "source": [
        "### 가장 많이 학습한 콘텐츠 교육분야1차"
      ],
      "metadata": {
        "id": "xbERDsA6lsJA"
      }
    },
    {
      "cell_type": "code",
      "source": [
        "df_Q['교육분야1차'].value_counts()"
      ],
      "metadata": {
        "colab": {
          "base_uri": "https://localhost:8080/"
        },
        "id": "fDx6rqjhkJ3v",
        "outputId": "4763242a-bb16-45fd-fd82-79a557f222f8"
      },
      "execution_count": 444,
      "outputs": [
        {
          "output_type": "execute_result",
          "data": {
            "text/plain": [
              "DX         295837\n",
              "경영지원        77211\n",
              "네트워크        74201\n",
              "일하는 방식      70889\n",
              "영업/마케팅      46335\n",
              "B2B         42338\n",
              "그룹사         39568\n",
              "OSP         39001\n",
              "고객발자기혁신     32520\n",
              "경영전략        29839\n",
              "리더십         29526\n",
              "IT          21535\n",
              "Name: 교육분야1차, dtype: int64"
            ]
          },
          "metadata": {},
          "execution_count": 444
        }
      ]
    },
    {
      "cell_type": "code",
      "source": [
        "df_Q.groupby(['호칭', '교육분야1차'])"
      ],
      "metadata": {
        "colab": {
          "base_uri": "https://localhost:8080/"
        },
        "id": "njkEgzDNkJ6O",
        "outputId": "2a86d40c-76c1-4eb0-9221-ccb034265338"
      },
      "execution_count": 445,
      "outputs": [
        {
          "output_type": "execute_result",
          "data": {
            "text/plain": [
              "<pandas.core.groupby.generic.DataFrameGroupBy object at 0x7fee0bf30050>"
            ]
          },
          "metadata": {},
          "execution_count": 445
        }
      ]
    },
    {
      "cell_type": "code",
      "source": [
        "df_Q.groupby(['호칭', '교육분야1차'])[['과정코드']].count()"
      ],
      "metadata": {
        "colab": {
          "base_uri": "https://localhost:8080/",
          "height": 455
        },
        "id": "OI0Rtev5kJ9N",
        "outputId": "3f215639-0828-46f5-fc3e-82460f90158c"
      },
      "execution_count": 446,
      "outputs": [
        {
          "output_type": "execute_result",
          "data": {
            "text/html": [
              "\n",
              "  <div id=\"df-3500067e-bc80-4512-9b7b-7297cbc34e46\">\n",
              "    <div class=\"colab-df-container\">\n",
              "      <div>\n",
              "<style scoped>\n",
              "    .dataframe tbody tr th:only-of-type {\n",
              "        vertical-align: middle;\n",
              "    }\n",
              "\n",
              "    .dataframe tbody tr th {\n",
              "        vertical-align: top;\n",
              "    }\n",
              "\n",
              "    .dataframe thead th {\n",
              "        text-align: right;\n",
              "    }\n",
              "</style>\n",
              "<table border=\"1\" class=\"dataframe\">\n",
              "  <thead>\n",
              "    <tr style=\"text-align: right;\">\n",
              "      <th></th>\n",
              "      <th></th>\n",
              "      <th>과정코드</th>\n",
              "    </tr>\n",
              "    <tr>\n",
              "      <th>호칭</th>\n",
              "      <th>교육분야1차</th>\n",
              "      <th></th>\n",
              "    </tr>\n",
              "  </thead>\n",
              "  <tbody>\n",
              "    <tr>\n",
              "      <th rowspan=\"5\" valign=\"top\">과장</th>\n",
              "      <th>B2B</th>\n",
              "      <td>8372</td>\n",
              "    </tr>\n",
              "    <tr>\n",
              "      <th>DX</th>\n",
              "      <td>59190</td>\n",
              "    </tr>\n",
              "    <tr>\n",
              "      <th>IT</th>\n",
              "      <td>4403</td>\n",
              "    </tr>\n",
              "    <tr>\n",
              "      <th>OSP</th>\n",
              "      <td>7754</td>\n",
              "    </tr>\n",
              "    <tr>\n",
              "      <th>경영전략</th>\n",
              "      <td>5977</td>\n",
              "    </tr>\n",
              "    <tr>\n",
              "      <th>...</th>\n",
              "      <th>...</th>\n",
              "      <td>...</td>\n",
              "    </tr>\n",
              "    <tr>\n",
              "      <th rowspan=\"5\" valign=\"top\">차장</th>\n",
              "      <th>그룹사</th>\n",
              "      <td>6040</td>\n",
              "    </tr>\n",
              "    <tr>\n",
              "      <th>네트워크</th>\n",
              "      <td>11020</td>\n",
              "    </tr>\n",
              "    <tr>\n",
              "      <th>리더십</th>\n",
              "      <td>4374</td>\n",
              "    </tr>\n",
              "    <tr>\n",
              "      <th>영업/마케팅</th>\n",
              "      <td>6967</td>\n",
              "    </tr>\n",
              "    <tr>\n",
              "      <th>일하는 방식</th>\n",
              "      <td>10668</td>\n",
              "    </tr>\n",
              "  </tbody>\n",
              "</table>\n",
              "<p>72 rows × 1 columns</p>\n",
              "</div>\n",
              "      <button class=\"colab-df-convert\" onclick=\"convertToInteractive('df-3500067e-bc80-4512-9b7b-7297cbc34e46')\"\n",
              "              title=\"Convert this dataframe to an interactive table.\"\n",
              "              style=\"display:none;\">\n",
              "        \n",
              "  <svg xmlns=\"http://www.w3.org/2000/svg\" height=\"24px\"viewBox=\"0 0 24 24\"\n",
              "       width=\"24px\">\n",
              "    <path d=\"M0 0h24v24H0V0z\" fill=\"none\"/>\n",
              "    <path d=\"M18.56 5.44l.94 2.06.94-2.06 2.06-.94-2.06-.94-.94-2.06-.94 2.06-2.06.94zm-11 1L8.5 8.5l.94-2.06 2.06-.94-2.06-.94L8.5 2.5l-.94 2.06-2.06.94zm10 10l.94 2.06.94-2.06 2.06-.94-2.06-.94-.94-2.06-.94 2.06-2.06.94z\"/><path d=\"M17.41 7.96l-1.37-1.37c-.4-.4-.92-.59-1.43-.59-.52 0-1.04.2-1.43.59L10.3 9.45l-7.72 7.72c-.78.78-.78 2.05 0 2.83L4 21.41c.39.39.9.59 1.41.59.51 0 1.02-.2 1.41-.59l7.78-7.78 2.81-2.81c.8-.78.8-2.07 0-2.86zM5.41 20L4 18.59l7.72-7.72 1.47 1.35L5.41 20z\"/>\n",
              "  </svg>\n",
              "      </button>\n",
              "      \n",
              "  <style>\n",
              "    .colab-df-container {\n",
              "      display:flex;\n",
              "      flex-wrap:wrap;\n",
              "      gap: 12px;\n",
              "    }\n",
              "\n",
              "    .colab-df-convert {\n",
              "      background-color: #E8F0FE;\n",
              "      border: none;\n",
              "      border-radius: 50%;\n",
              "      cursor: pointer;\n",
              "      display: none;\n",
              "      fill: #1967D2;\n",
              "      height: 32px;\n",
              "      padding: 0 0 0 0;\n",
              "      width: 32px;\n",
              "    }\n",
              "\n",
              "    .colab-df-convert:hover {\n",
              "      background-color: #E2EBFA;\n",
              "      box-shadow: 0px 1px 2px rgba(60, 64, 67, 0.3), 0px 1px 3px 1px rgba(60, 64, 67, 0.15);\n",
              "      fill: #174EA6;\n",
              "    }\n",
              "\n",
              "    [theme=dark] .colab-df-convert {\n",
              "      background-color: #3B4455;\n",
              "      fill: #D2E3FC;\n",
              "    }\n",
              "\n",
              "    [theme=dark] .colab-df-convert:hover {\n",
              "      background-color: #434B5C;\n",
              "      box-shadow: 0px 1px 3px 1px rgba(0, 0, 0, 0.15);\n",
              "      filter: drop-shadow(0px 1px 2px rgba(0, 0, 0, 0.3));\n",
              "      fill: #FFFFFF;\n",
              "    }\n",
              "  </style>\n",
              "\n",
              "      <script>\n",
              "        const buttonEl =\n",
              "          document.querySelector('#df-3500067e-bc80-4512-9b7b-7297cbc34e46 button.colab-df-convert');\n",
              "        buttonEl.style.display =\n",
              "          google.colab.kernel.accessAllowed ? 'block' : 'none';\n",
              "\n",
              "        async function convertToInteractive(key) {\n",
              "          const element = document.querySelector('#df-3500067e-bc80-4512-9b7b-7297cbc34e46');\n",
              "          const dataTable =\n",
              "            await google.colab.kernel.invokeFunction('convertToInteractive',\n",
              "                                                     [key], {});\n",
              "          if (!dataTable) return;\n",
              "\n",
              "          const docLinkHtml = 'Like what you see? Visit the ' +\n",
              "            '<a target=\"_blank\" href=https://colab.research.google.com/notebooks/data_table.ipynb>data table notebook</a>'\n",
              "            + ' to learn more about interactive tables.';\n",
              "          element.innerHTML = '';\n",
              "          dataTable['output_type'] = 'display_data';\n",
              "          await google.colab.output.renderOutput(dataTable, element);\n",
              "          const docLink = document.createElement('div');\n",
              "          docLink.innerHTML = docLinkHtml;\n",
              "          element.appendChild(docLink);\n",
              "        }\n",
              "      </script>\n",
              "    </div>\n",
              "  </div>\n",
              "  "
            ],
            "text/plain": [
              "            과정코드\n",
              "호칭 교육분야1차       \n",
              "과장 B2B      8372\n",
              "   DX      59190\n",
              "   IT       4403\n",
              "   OSP      7754\n",
              "   경영전략     5977\n",
              "...          ...\n",
              "차장 그룹사      6040\n",
              "   네트워크    11020\n",
              "   리더십      4374\n",
              "   영업/마케팅   6967\n",
              "   일하는 방식  10668\n",
              "\n",
              "[72 rows x 1 columns]"
            ]
          },
          "metadata": {},
          "execution_count": 446
        }
      ]
    },
    {
      "cell_type": "code",
      "source": [
        "df_Q.groupby(['호칭', '교육분야1차'])[['과정코드']].count().sort_values(by=['호칭', '과정코드'], ascending=[True, False])"
      ],
      "metadata": {
        "colab": {
          "base_uri": "https://localhost:8080/",
          "height": 455
        },
        "id": "KTm3D9RkkKAP",
        "outputId": "e2de38fb-033a-4dee-ed26-33112bb87704"
      },
      "execution_count": 447,
      "outputs": [
        {
          "output_type": "execute_result",
          "data": {
            "text/html": [
              "\n",
              "  <div id=\"df-ccc951b5-2777-4e15-a7e2-dfd143841e3f\">\n",
              "    <div class=\"colab-df-container\">\n",
              "      <div>\n",
              "<style scoped>\n",
              "    .dataframe tbody tr th:only-of-type {\n",
              "        vertical-align: middle;\n",
              "    }\n",
              "\n",
              "    .dataframe tbody tr th {\n",
              "        vertical-align: top;\n",
              "    }\n",
              "\n",
              "    .dataframe thead th {\n",
              "        text-align: right;\n",
              "    }\n",
              "</style>\n",
              "<table border=\"1\" class=\"dataframe\">\n",
              "  <thead>\n",
              "    <tr style=\"text-align: right;\">\n",
              "      <th></th>\n",
              "      <th></th>\n",
              "      <th>과정코드</th>\n",
              "    </tr>\n",
              "    <tr>\n",
              "      <th>호칭</th>\n",
              "      <th>교육분야1차</th>\n",
              "      <th></th>\n",
              "    </tr>\n",
              "  </thead>\n",
              "  <tbody>\n",
              "    <tr>\n",
              "      <th rowspan=\"5\" valign=\"top\">과장</th>\n",
              "      <th>DX</th>\n",
              "      <td>59190</td>\n",
              "    </tr>\n",
              "    <tr>\n",
              "      <th>경영지원</th>\n",
              "      <td>15299</td>\n",
              "    </tr>\n",
              "    <tr>\n",
              "      <th>네트워크</th>\n",
              "      <td>14687</td>\n",
              "    </tr>\n",
              "    <tr>\n",
              "      <th>일하는 방식</th>\n",
              "      <td>14280</td>\n",
              "    </tr>\n",
              "    <tr>\n",
              "      <th>영업/마케팅</th>\n",
              "      <td>9195</td>\n",
              "    </tr>\n",
              "    <tr>\n",
              "      <th>...</th>\n",
              "      <th>...</th>\n",
              "      <td>...</td>\n",
              "    </tr>\n",
              "    <tr>\n",
              "      <th rowspan=\"5\" valign=\"top\">차장</th>\n",
              "      <th>OSP</th>\n",
              "      <td>5873</td>\n",
              "    </tr>\n",
              "    <tr>\n",
              "      <th>고객발자기혁신</th>\n",
              "      <td>4772</td>\n",
              "    </tr>\n",
              "    <tr>\n",
              "      <th>경영전략</th>\n",
              "      <td>4457</td>\n",
              "    </tr>\n",
              "    <tr>\n",
              "      <th>리더십</th>\n",
              "      <td>4374</td>\n",
              "    </tr>\n",
              "    <tr>\n",
              "      <th>IT</th>\n",
              "      <td>3342</td>\n",
              "    </tr>\n",
              "  </tbody>\n",
              "</table>\n",
              "<p>72 rows × 1 columns</p>\n",
              "</div>\n",
              "      <button class=\"colab-df-convert\" onclick=\"convertToInteractive('df-ccc951b5-2777-4e15-a7e2-dfd143841e3f')\"\n",
              "              title=\"Convert this dataframe to an interactive table.\"\n",
              "              style=\"display:none;\">\n",
              "        \n",
              "  <svg xmlns=\"http://www.w3.org/2000/svg\" height=\"24px\"viewBox=\"0 0 24 24\"\n",
              "       width=\"24px\">\n",
              "    <path d=\"M0 0h24v24H0V0z\" fill=\"none\"/>\n",
              "    <path d=\"M18.56 5.44l.94 2.06.94-2.06 2.06-.94-2.06-.94-.94-2.06-.94 2.06-2.06.94zm-11 1L8.5 8.5l.94-2.06 2.06-.94-2.06-.94L8.5 2.5l-.94 2.06-2.06.94zm10 10l.94 2.06.94-2.06 2.06-.94-2.06-.94-.94-2.06-.94 2.06-2.06.94z\"/><path d=\"M17.41 7.96l-1.37-1.37c-.4-.4-.92-.59-1.43-.59-.52 0-1.04.2-1.43.59L10.3 9.45l-7.72 7.72c-.78.78-.78 2.05 0 2.83L4 21.41c.39.39.9.59 1.41.59.51 0 1.02-.2 1.41-.59l7.78-7.78 2.81-2.81c.8-.78.8-2.07 0-2.86zM5.41 20L4 18.59l7.72-7.72 1.47 1.35L5.41 20z\"/>\n",
              "  </svg>\n",
              "      </button>\n",
              "      \n",
              "  <style>\n",
              "    .colab-df-container {\n",
              "      display:flex;\n",
              "      flex-wrap:wrap;\n",
              "      gap: 12px;\n",
              "    }\n",
              "\n",
              "    .colab-df-convert {\n",
              "      background-color: #E8F0FE;\n",
              "      border: none;\n",
              "      border-radius: 50%;\n",
              "      cursor: pointer;\n",
              "      display: none;\n",
              "      fill: #1967D2;\n",
              "      height: 32px;\n",
              "      padding: 0 0 0 0;\n",
              "      width: 32px;\n",
              "    }\n",
              "\n",
              "    .colab-df-convert:hover {\n",
              "      background-color: #E2EBFA;\n",
              "      box-shadow: 0px 1px 2px rgba(60, 64, 67, 0.3), 0px 1px 3px 1px rgba(60, 64, 67, 0.15);\n",
              "      fill: #174EA6;\n",
              "    }\n",
              "\n",
              "    [theme=dark] .colab-df-convert {\n",
              "      background-color: #3B4455;\n",
              "      fill: #D2E3FC;\n",
              "    }\n",
              "\n",
              "    [theme=dark] .colab-df-convert:hover {\n",
              "      background-color: #434B5C;\n",
              "      box-shadow: 0px 1px 3px 1px rgba(0, 0, 0, 0.15);\n",
              "      filter: drop-shadow(0px 1px 2px rgba(0, 0, 0, 0.3));\n",
              "      fill: #FFFFFF;\n",
              "    }\n",
              "  </style>\n",
              "\n",
              "      <script>\n",
              "        const buttonEl =\n",
              "          document.querySelector('#df-ccc951b5-2777-4e15-a7e2-dfd143841e3f button.colab-df-convert');\n",
              "        buttonEl.style.display =\n",
              "          google.colab.kernel.accessAllowed ? 'block' : 'none';\n",
              "\n",
              "        async function convertToInteractive(key) {\n",
              "          const element = document.querySelector('#df-ccc951b5-2777-4e15-a7e2-dfd143841e3f');\n",
              "          const dataTable =\n",
              "            await google.colab.kernel.invokeFunction('convertToInteractive',\n",
              "                                                     [key], {});\n",
              "          if (!dataTable) return;\n",
              "\n",
              "          const docLinkHtml = 'Like what you see? Visit the ' +\n",
              "            '<a target=\"_blank\" href=https://colab.research.google.com/notebooks/data_table.ipynb>data table notebook</a>'\n",
              "            + ' to learn more about interactive tables.';\n",
              "          element.innerHTML = '';\n",
              "          dataTable['output_type'] = 'display_data';\n",
              "          await google.colab.output.renderOutput(dataTable, element);\n",
              "          const docLink = document.createElement('div');\n",
              "          docLink.innerHTML = docLinkHtml;\n",
              "          element.appendChild(docLink);\n",
              "        }\n",
              "      </script>\n",
              "    </div>\n",
              "  </div>\n",
              "  "
            ],
            "text/plain": [
              "             과정코드\n",
              "호칭 교육분야1차        \n",
              "과장 DX       59190\n",
              "   경영지원     15299\n",
              "   네트워크     14687\n",
              "   일하는 방식   14280\n",
              "   영업/마케팅    9195\n",
              "...           ...\n",
              "차장 OSP       5873\n",
              "   고객발자기혁신   4772\n",
              "   경영전략      4457\n",
              "   리더십       4374\n",
              "   IT        3342\n",
              "\n",
              "[72 rows x 1 columns]"
            ]
          },
          "metadata": {},
          "execution_count": 447
        }
      ]
    },
    {
      "cell_type": "markdown",
      "source": [
        "### 요일별 학습량 분석: 월/화/수/목/금/토/일"
      ],
      "metadata": {
        "id": "z7d9pCdhlxuQ"
      }
    },
    {
      "cell_type": "code",
      "source": [
        "df_Q['학습요일_CONV'].value_counts()"
      ],
      "metadata": {
        "colab": {
          "base_uri": "https://localhost:8080/"
        },
        "id": "IoioUOA2kKDH",
        "outputId": "1b993aaa-6034-4c07-ed31-1a4008059a64"
      },
      "execution_count": 448,
      "outputs": [
        {
          "output_type": "execute_result",
          "data": {
            "text/plain": [
              "금    154164\n",
              "화    152969\n",
              "목    149903\n",
              "월    140875\n",
              "수    139942\n",
              "토     30506\n",
              "일     30441\n",
              "Name: 학습요일_CONV, dtype: int64"
            ]
          },
          "metadata": {},
          "execution_count": 448
        }
      ]
    },
    {
      "cell_type": "code",
      "source": [
        "df_Q.groupby(['호칭', '학습요일_CONV'])"
      ],
      "metadata": {
        "colab": {
          "base_uri": "https://localhost:8080/"
        },
        "id": "2zncIE5glzrI",
        "outputId": "239d7113-2282-4de6-cce4-1135f503bbe1"
      },
      "execution_count": 449,
      "outputs": [
        {
          "output_type": "execute_result",
          "data": {
            "text/plain": [
              "<pandas.core.groupby.generic.DataFrameGroupBy object at 0x7fee0bf25b50>"
            ]
          },
          "metadata": {},
          "execution_count": 449
        }
      ]
    },
    {
      "cell_type": "code",
      "source": [
        "df_Q.groupby(['호칭', '학습요일_CONV'])[['과정코드']].count()"
      ],
      "metadata": {
        "colab": {
          "base_uri": "https://localhost:8080/",
          "height": 1000
        },
        "id": "cq6g1xQwl3wq",
        "outputId": "f91ff953-2d8f-4cf1-fb4c-15af0a65d50c"
      },
      "execution_count": 450,
      "outputs": [
        {
          "output_type": "execute_result",
          "data": {
            "text/html": [
              "\n",
              "  <div id=\"df-2d95ee99-21e5-49ca-bb89-97595a5a61c2\">\n",
              "    <div class=\"colab-df-container\">\n",
              "      <div>\n",
              "<style scoped>\n",
              "    .dataframe tbody tr th:only-of-type {\n",
              "        vertical-align: middle;\n",
              "    }\n",
              "\n",
              "    .dataframe tbody tr th {\n",
              "        vertical-align: top;\n",
              "    }\n",
              "\n",
              "    .dataframe thead th {\n",
              "        text-align: right;\n",
              "    }\n",
              "</style>\n",
              "<table border=\"1\" class=\"dataframe\">\n",
              "  <thead>\n",
              "    <tr style=\"text-align: right;\">\n",
              "      <th></th>\n",
              "      <th></th>\n",
              "      <th>과정코드</th>\n",
              "    </tr>\n",
              "    <tr>\n",
              "      <th>호칭</th>\n",
              "      <th>학습요일_CONV</th>\n",
              "      <th></th>\n",
              "    </tr>\n",
              "  </thead>\n",
              "  <tbody>\n",
              "    <tr>\n",
              "      <th rowspan=\"7\" valign=\"top\">과장</th>\n",
              "      <th>금</th>\n",
              "      <td>30859</td>\n",
              "    </tr>\n",
              "    <tr>\n",
              "      <th>목</th>\n",
              "      <td>29675</td>\n",
              "    </tr>\n",
              "    <tr>\n",
              "      <th>수</th>\n",
              "      <td>27994</td>\n",
              "    </tr>\n",
              "    <tr>\n",
              "      <th>월</th>\n",
              "      <td>27976</td>\n",
              "    </tr>\n",
              "    <tr>\n",
              "      <th>일</th>\n",
              "      <td>6185</td>\n",
              "    </tr>\n",
              "    <tr>\n",
              "      <th>토</th>\n",
              "      <td>6115</td>\n",
              "    </tr>\n",
              "    <tr>\n",
              "      <th>화</th>\n",
              "      <td>30636</td>\n",
              "    </tr>\n",
              "    <tr>\n",
              "      <th rowspan=\"7\" valign=\"top\">대리</th>\n",
              "      <th>금</th>\n",
              "      <td>38306</td>\n",
              "    </tr>\n",
              "    <tr>\n",
              "      <th>목</th>\n",
              "      <td>37767</td>\n",
              "    </tr>\n",
              "    <tr>\n",
              "      <th>수</th>\n",
              "      <td>35097</td>\n",
              "    </tr>\n",
              "    <tr>\n",
              "      <th>월</th>\n",
              "      <td>34864</td>\n",
              "    </tr>\n",
              "    <tr>\n",
              "      <th>일</th>\n",
              "      <td>7532</td>\n",
              "    </tr>\n",
              "    <tr>\n",
              "      <th>토</th>\n",
              "      <td>7763</td>\n",
              "    </tr>\n",
              "    <tr>\n",
              "      <th>화</th>\n",
              "      <td>38342</td>\n",
              "    </tr>\n",
              "    <tr>\n",
              "      <th rowspan=\"7\" valign=\"top\">부장</th>\n",
              "      <th>금</th>\n",
              "      <td>15496</td>\n",
              "    </tr>\n",
              "    <tr>\n",
              "      <th>목</th>\n",
              "      <td>14992</td>\n",
              "    </tr>\n",
              "    <tr>\n",
              "      <th>수</th>\n",
              "      <td>13979</td>\n",
              "    </tr>\n",
              "    <tr>\n",
              "      <th>월</th>\n",
              "      <td>14113</td>\n",
              "    </tr>\n",
              "    <tr>\n",
              "      <th>일</th>\n",
              "      <td>3016</td>\n",
              "    </tr>\n",
              "    <tr>\n",
              "      <th>토</th>\n",
              "      <td>3019</td>\n",
              "    </tr>\n",
              "    <tr>\n",
              "      <th>화</th>\n",
              "      <td>15166</td>\n",
              "    </tr>\n",
              "    <tr>\n",
              "      <th rowspan=\"7\" valign=\"top\">사원</th>\n",
              "      <th>금</th>\n",
              "      <td>38621</td>\n",
              "    </tr>\n",
              "    <tr>\n",
              "      <th>목</th>\n",
              "      <td>37256</td>\n",
              "    </tr>\n",
              "    <tr>\n",
              "      <th>수</th>\n",
              "      <td>34921</td>\n",
              "    </tr>\n",
              "    <tr>\n",
              "      <th>월</th>\n",
              "      <td>35512</td>\n",
              "    </tr>\n",
              "    <tr>\n",
              "      <th>일</th>\n",
              "      <td>7723</td>\n",
              "    </tr>\n",
              "    <tr>\n",
              "      <th>토</th>\n",
              "      <td>7575</td>\n",
              "    </tr>\n",
              "    <tr>\n",
              "      <th>화</th>\n",
              "      <td>38102</td>\n",
              "    </tr>\n",
              "    <tr>\n",
              "      <th rowspan=\"7\" valign=\"top\">임원</th>\n",
              "      <th>금</th>\n",
              "      <td>7724</td>\n",
              "    </tr>\n",
              "    <tr>\n",
              "      <th>목</th>\n",
              "      <td>7540</td>\n",
              "    </tr>\n",
              "    <tr>\n",
              "      <th>수</th>\n",
              "      <td>6987</td>\n",
              "    </tr>\n",
              "    <tr>\n",
              "      <th>월</th>\n",
              "      <td>7211</td>\n",
              "    </tr>\n",
              "    <tr>\n",
              "      <th>일</th>\n",
              "      <td>1495</td>\n",
              "    </tr>\n",
              "    <tr>\n",
              "      <th>토</th>\n",
              "      <td>1522</td>\n",
              "    </tr>\n",
              "    <tr>\n",
              "      <th>화</th>\n",
              "      <td>7671</td>\n",
              "    </tr>\n",
              "    <tr>\n",
              "      <th rowspan=\"7\" valign=\"top\">차장</th>\n",
              "      <th>금</th>\n",
              "      <td>23158</td>\n",
              "    </tr>\n",
              "    <tr>\n",
              "      <th>목</th>\n",
              "      <td>22673</td>\n",
              "    </tr>\n",
              "    <tr>\n",
              "      <th>수</th>\n",
              "      <td>20964</td>\n",
              "    </tr>\n",
              "    <tr>\n",
              "      <th>월</th>\n",
              "      <td>21199</td>\n",
              "    </tr>\n",
              "    <tr>\n",
              "      <th>일</th>\n",
              "      <td>4490</td>\n",
              "    </tr>\n",
              "    <tr>\n",
              "      <th>토</th>\n",
              "      <td>4512</td>\n",
              "    </tr>\n",
              "    <tr>\n",
              "      <th>화</th>\n",
              "      <td>23052</td>\n",
              "    </tr>\n",
              "  </tbody>\n",
              "</table>\n",
              "</div>\n",
              "      <button class=\"colab-df-convert\" onclick=\"convertToInteractive('df-2d95ee99-21e5-49ca-bb89-97595a5a61c2')\"\n",
              "              title=\"Convert this dataframe to an interactive table.\"\n",
              "              style=\"display:none;\">\n",
              "        \n",
              "  <svg xmlns=\"http://www.w3.org/2000/svg\" height=\"24px\"viewBox=\"0 0 24 24\"\n",
              "       width=\"24px\">\n",
              "    <path d=\"M0 0h24v24H0V0z\" fill=\"none\"/>\n",
              "    <path d=\"M18.56 5.44l.94 2.06.94-2.06 2.06-.94-2.06-.94-.94-2.06-.94 2.06-2.06.94zm-11 1L8.5 8.5l.94-2.06 2.06-.94-2.06-.94L8.5 2.5l-.94 2.06-2.06.94zm10 10l.94 2.06.94-2.06 2.06-.94-2.06-.94-.94-2.06-.94 2.06-2.06.94z\"/><path d=\"M17.41 7.96l-1.37-1.37c-.4-.4-.92-.59-1.43-.59-.52 0-1.04.2-1.43.59L10.3 9.45l-7.72 7.72c-.78.78-.78 2.05 0 2.83L4 21.41c.39.39.9.59 1.41.59.51 0 1.02-.2 1.41-.59l7.78-7.78 2.81-2.81c.8-.78.8-2.07 0-2.86zM5.41 20L4 18.59l7.72-7.72 1.47 1.35L5.41 20z\"/>\n",
              "  </svg>\n",
              "      </button>\n",
              "      \n",
              "  <style>\n",
              "    .colab-df-container {\n",
              "      display:flex;\n",
              "      flex-wrap:wrap;\n",
              "      gap: 12px;\n",
              "    }\n",
              "\n",
              "    .colab-df-convert {\n",
              "      background-color: #E8F0FE;\n",
              "      border: none;\n",
              "      border-radius: 50%;\n",
              "      cursor: pointer;\n",
              "      display: none;\n",
              "      fill: #1967D2;\n",
              "      height: 32px;\n",
              "      padding: 0 0 0 0;\n",
              "      width: 32px;\n",
              "    }\n",
              "\n",
              "    .colab-df-convert:hover {\n",
              "      background-color: #E2EBFA;\n",
              "      box-shadow: 0px 1px 2px rgba(60, 64, 67, 0.3), 0px 1px 3px 1px rgba(60, 64, 67, 0.15);\n",
              "      fill: #174EA6;\n",
              "    }\n",
              "\n",
              "    [theme=dark] .colab-df-convert {\n",
              "      background-color: #3B4455;\n",
              "      fill: #D2E3FC;\n",
              "    }\n",
              "\n",
              "    [theme=dark] .colab-df-convert:hover {\n",
              "      background-color: #434B5C;\n",
              "      box-shadow: 0px 1px 3px 1px rgba(0, 0, 0, 0.15);\n",
              "      filter: drop-shadow(0px 1px 2px rgba(0, 0, 0, 0.3));\n",
              "      fill: #FFFFFF;\n",
              "    }\n",
              "  </style>\n",
              "\n",
              "      <script>\n",
              "        const buttonEl =\n",
              "          document.querySelector('#df-2d95ee99-21e5-49ca-bb89-97595a5a61c2 button.colab-df-convert');\n",
              "        buttonEl.style.display =\n",
              "          google.colab.kernel.accessAllowed ? 'block' : 'none';\n",
              "\n",
              "        async function convertToInteractive(key) {\n",
              "          const element = document.querySelector('#df-2d95ee99-21e5-49ca-bb89-97595a5a61c2');\n",
              "          const dataTable =\n",
              "            await google.colab.kernel.invokeFunction('convertToInteractive',\n",
              "                                                     [key], {});\n",
              "          if (!dataTable) return;\n",
              "\n",
              "          const docLinkHtml = 'Like what you see? Visit the ' +\n",
              "            '<a target=\"_blank\" href=https://colab.research.google.com/notebooks/data_table.ipynb>data table notebook</a>'\n",
              "            + ' to learn more about interactive tables.';\n",
              "          element.innerHTML = '';\n",
              "          dataTable['output_type'] = 'display_data';\n",
              "          await google.colab.output.renderOutput(dataTable, element);\n",
              "          const docLink = document.createElement('div');\n",
              "          docLink.innerHTML = docLinkHtml;\n",
              "          element.appendChild(docLink);\n",
              "        }\n",
              "      </script>\n",
              "    </div>\n",
              "  </div>\n",
              "  "
            ],
            "text/plain": [
              "               과정코드\n",
              "호칭 학습요일_CONV       \n",
              "과장 금          30859\n",
              "   목          29675\n",
              "   수          27994\n",
              "   월          27976\n",
              "   일           6185\n",
              "   토           6115\n",
              "   화          30636\n",
              "대리 금          38306\n",
              "   목          37767\n",
              "   수          35097\n",
              "   월          34864\n",
              "   일           7532\n",
              "   토           7763\n",
              "   화          38342\n",
              "부장 금          15496\n",
              "   목          14992\n",
              "   수          13979\n",
              "   월          14113\n",
              "   일           3016\n",
              "   토           3019\n",
              "   화          15166\n",
              "사원 금          38621\n",
              "   목          37256\n",
              "   수          34921\n",
              "   월          35512\n",
              "   일           7723\n",
              "   토           7575\n",
              "   화          38102\n",
              "임원 금           7724\n",
              "   목           7540\n",
              "   수           6987\n",
              "   월           7211\n",
              "   일           1495\n",
              "   토           1522\n",
              "   화           7671\n",
              "차장 금          23158\n",
              "   목          22673\n",
              "   수          20964\n",
              "   월          21199\n",
              "   일           4490\n",
              "   토           4512\n",
              "   화          23052"
            ]
          },
          "metadata": {},
          "execution_count": 450
        }
      ]
    },
    {
      "cell_type": "code",
      "source": [
        "df_Q.groupby(['호칭', '학습요일_CONV'])[['과정코드']].count().sort_values(by=['호칭', '과정코드'], ascending=[True, False])"
      ],
      "metadata": {
        "colab": {
          "base_uri": "https://localhost:8080/",
          "height": 1000
        },
        "id": "6CEZd-39l6In",
        "outputId": "90113d99-b987-4c68-fa3f-f200e9100cd2"
      },
      "execution_count": 451,
      "outputs": [
        {
          "output_type": "execute_result",
          "data": {
            "text/html": [
              "\n",
              "  <div id=\"df-ff937b6c-7a6e-4734-a571-0878e127f68a\">\n",
              "    <div class=\"colab-df-container\">\n",
              "      <div>\n",
              "<style scoped>\n",
              "    .dataframe tbody tr th:only-of-type {\n",
              "        vertical-align: middle;\n",
              "    }\n",
              "\n",
              "    .dataframe tbody tr th {\n",
              "        vertical-align: top;\n",
              "    }\n",
              "\n",
              "    .dataframe thead th {\n",
              "        text-align: right;\n",
              "    }\n",
              "</style>\n",
              "<table border=\"1\" class=\"dataframe\">\n",
              "  <thead>\n",
              "    <tr style=\"text-align: right;\">\n",
              "      <th></th>\n",
              "      <th></th>\n",
              "      <th>과정코드</th>\n",
              "    </tr>\n",
              "    <tr>\n",
              "      <th>호칭</th>\n",
              "      <th>학습요일_CONV</th>\n",
              "      <th></th>\n",
              "    </tr>\n",
              "  </thead>\n",
              "  <tbody>\n",
              "    <tr>\n",
              "      <th rowspan=\"7\" valign=\"top\">과장</th>\n",
              "      <th>금</th>\n",
              "      <td>30859</td>\n",
              "    </tr>\n",
              "    <tr>\n",
              "      <th>화</th>\n",
              "      <td>30636</td>\n",
              "    </tr>\n",
              "    <tr>\n",
              "      <th>목</th>\n",
              "      <td>29675</td>\n",
              "    </tr>\n",
              "    <tr>\n",
              "      <th>수</th>\n",
              "      <td>27994</td>\n",
              "    </tr>\n",
              "    <tr>\n",
              "      <th>월</th>\n",
              "      <td>27976</td>\n",
              "    </tr>\n",
              "    <tr>\n",
              "      <th>일</th>\n",
              "      <td>6185</td>\n",
              "    </tr>\n",
              "    <tr>\n",
              "      <th>토</th>\n",
              "      <td>6115</td>\n",
              "    </tr>\n",
              "    <tr>\n",
              "      <th rowspan=\"7\" valign=\"top\">대리</th>\n",
              "      <th>화</th>\n",
              "      <td>38342</td>\n",
              "    </tr>\n",
              "    <tr>\n",
              "      <th>금</th>\n",
              "      <td>38306</td>\n",
              "    </tr>\n",
              "    <tr>\n",
              "      <th>목</th>\n",
              "      <td>37767</td>\n",
              "    </tr>\n",
              "    <tr>\n",
              "      <th>수</th>\n",
              "      <td>35097</td>\n",
              "    </tr>\n",
              "    <tr>\n",
              "      <th>월</th>\n",
              "      <td>34864</td>\n",
              "    </tr>\n",
              "    <tr>\n",
              "      <th>토</th>\n",
              "      <td>7763</td>\n",
              "    </tr>\n",
              "    <tr>\n",
              "      <th>일</th>\n",
              "      <td>7532</td>\n",
              "    </tr>\n",
              "    <tr>\n",
              "      <th rowspan=\"7\" valign=\"top\">부장</th>\n",
              "      <th>금</th>\n",
              "      <td>15496</td>\n",
              "    </tr>\n",
              "    <tr>\n",
              "      <th>화</th>\n",
              "      <td>15166</td>\n",
              "    </tr>\n",
              "    <tr>\n",
              "      <th>목</th>\n",
              "      <td>14992</td>\n",
              "    </tr>\n",
              "    <tr>\n",
              "      <th>월</th>\n",
              "      <td>14113</td>\n",
              "    </tr>\n",
              "    <tr>\n",
              "      <th>수</th>\n",
              "      <td>13979</td>\n",
              "    </tr>\n",
              "    <tr>\n",
              "      <th>토</th>\n",
              "      <td>3019</td>\n",
              "    </tr>\n",
              "    <tr>\n",
              "      <th>일</th>\n",
              "      <td>3016</td>\n",
              "    </tr>\n",
              "    <tr>\n",
              "      <th rowspan=\"7\" valign=\"top\">사원</th>\n",
              "      <th>금</th>\n",
              "      <td>38621</td>\n",
              "    </tr>\n",
              "    <tr>\n",
              "      <th>화</th>\n",
              "      <td>38102</td>\n",
              "    </tr>\n",
              "    <tr>\n",
              "      <th>목</th>\n",
              "      <td>37256</td>\n",
              "    </tr>\n",
              "    <tr>\n",
              "      <th>월</th>\n",
              "      <td>35512</td>\n",
              "    </tr>\n",
              "    <tr>\n",
              "      <th>수</th>\n",
              "      <td>34921</td>\n",
              "    </tr>\n",
              "    <tr>\n",
              "      <th>일</th>\n",
              "      <td>7723</td>\n",
              "    </tr>\n",
              "    <tr>\n",
              "      <th>토</th>\n",
              "      <td>7575</td>\n",
              "    </tr>\n",
              "    <tr>\n",
              "      <th rowspan=\"7\" valign=\"top\">임원</th>\n",
              "      <th>금</th>\n",
              "      <td>7724</td>\n",
              "    </tr>\n",
              "    <tr>\n",
              "      <th>화</th>\n",
              "      <td>7671</td>\n",
              "    </tr>\n",
              "    <tr>\n",
              "      <th>목</th>\n",
              "      <td>7540</td>\n",
              "    </tr>\n",
              "    <tr>\n",
              "      <th>월</th>\n",
              "      <td>7211</td>\n",
              "    </tr>\n",
              "    <tr>\n",
              "      <th>수</th>\n",
              "      <td>6987</td>\n",
              "    </tr>\n",
              "    <tr>\n",
              "      <th>토</th>\n",
              "      <td>1522</td>\n",
              "    </tr>\n",
              "    <tr>\n",
              "      <th>일</th>\n",
              "      <td>1495</td>\n",
              "    </tr>\n",
              "    <tr>\n",
              "      <th rowspan=\"7\" valign=\"top\">차장</th>\n",
              "      <th>금</th>\n",
              "      <td>23158</td>\n",
              "    </tr>\n",
              "    <tr>\n",
              "      <th>화</th>\n",
              "      <td>23052</td>\n",
              "    </tr>\n",
              "    <tr>\n",
              "      <th>목</th>\n",
              "      <td>22673</td>\n",
              "    </tr>\n",
              "    <tr>\n",
              "      <th>월</th>\n",
              "      <td>21199</td>\n",
              "    </tr>\n",
              "    <tr>\n",
              "      <th>수</th>\n",
              "      <td>20964</td>\n",
              "    </tr>\n",
              "    <tr>\n",
              "      <th>토</th>\n",
              "      <td>4512</td>\n",
              "    </tr>\n",
              "    <tr>\n",
              "      <th>일</th>\n",
              "      <td>4490</td>\n",
              "    </tr>\n",
              "  </tbody>\n",
              "</table>\n",
              "</div>\n",
              "      <button class=\"colab-df-convert\" onclick=\"convertToInteractive('df-ff937b6c-7a6e-4734-a571-0878e127f68a')\"\n",
              "              title=\"Convert this dataframe to an interactive table.\"\n",
              "              style=\"display:none;\">\n",
              "        \n",
              "  <svg xmlns=\"http://www.w3.org/2000/svg\" height=\"24px\"viewBox=\"0 0 24 24\"\n",
              "       width=\"24px\">\n",
              "    <path d=\"M0 0h24v24H0V0z\" fill=\"none\"/>\n",
              "    <path d=\"M18.56 5.44l.94 2.06.94-2.06 2.06-.94-2.06-.94-.94-2.06-.94 2.06-2.06.94zm-11 1L8.5 8.5l.94-2.06 2.06-.94-2.06-.94L8.5 2.5l-.94 2.06-2.06.94zm10 10l.94 2.06.94-2.06 2.06-.94-2.06-.94-.94-2.06-.94 2.06-2.06.94z\"/><path d=\"M17.41 7.96l-1.37-1.37c-.4-.4-.92-.59-1.43-.59-.52 0-1.04.2-1.43.59L10.3 9.45l-7.72 7.72c-.78.78-.78 2.05 0 2.83L4 21.41c.39.39.9.59 1.41.59.51 0 1.02-.2 1.41-.59l7.78-7.78 2.81-2.81c.8-.78.8-2.07 0-2.86zM5.41 20L4 18.59l7.72-7.72 1.47 1.35L5.41 20z\"/>\n",
              "  </svg>\n",
              "      </button>\n",
              "      \n",
              "  <style>\n",
              "    .colab-df-container {\n",
              "      display:flex;\n",
              "      flex-wrap:wrap;\n",
              "      gap: 12px;\n",
              "    }\n",
              "\n",
              "    .colab-df-convert {\n",
              "      background-color: #E8F0FE;\n",
              "      border: none;\n",
              "      border-radius: 50%;\n",
              "      cursor: pointer;\n",
              "      display: none;\n",
              "      fill: #1967D2;\n",
              "      height: 32px;\n",
              "      padding: 0 0 0 0;\n",
              "      width: 32px;\n",
              "    }\n",
              "\n",
              "    .colab-df-convert:hover {\n",
              "      background-color: #E2EBFA;\n",
              "      box-shadow: 0px 1px 2px rgba(60, 64, 67, 0.3), 0px 1px 3px 1px rgba(60, 64, 67, 0.15);\n",
              "      fill: #174EA6;\n",
              "    }\n",
              "\n",
              "    [theme=dark] .colab-df-convert {\n",
              "      background-color: #3B4455;\n",
              "      fill: #D2E3FC;\n",
              "    }\n",
              "\n",
              "    [theme=dark] .colab-df-convert:hover {\n",
              "      background-color: #434B5C;\n",
              "      box-shadow: 0px 1px 3px 1px rgba(0, 0, 0, 0.15);\n",
              "      filter: drop-shadow(0px 1px 2px rgba(0, 0, 0, 0.3));\n",
              "      fill: #FFFFFF;\n",
              "    }\n",
              "  </style>\n",
              "\n",
              "      <script>\n",
              "        const buttonEl =\n",
              "          document.querySelector('#df-ff937b6c-7a6e-4734-a571-0878e127f68a button.colab-df-convert');\n",
              "        buttonEl.style.display =\n",
              "          google.colab.kernel.accessAllowed ? 'block' : 'none';\n",
              "\n",
              "        async function convertToInteractive(key) {\n",
              "          const element = document.querySelector('#df-ff937b6c-7a6e-4734-a571-0878e127f68a');\n",
              "          const dataTable =\n",
              "            await google.colab.kernel.invokeFunction('convertToInteractive',\n",
              "                                                     [key], {});\n",
              "          if (!dataTable) return;\n",
              "\n",
              "          const docLinkHtml = 'Like what you see? Visit the ' +\n",
              "            '<a target=\"_blank\" href=https://colab.research.google.com/notebooks/data_table.ipynb>data table notebook</a>'\n",
              "            + ' to learn more about interactive tables.';\n",
              "          element.innerHTML = '';\n",
              "          dataTable['output_type'] = 'display_data';\n",
              "          await google.colab.output.renderOutput(dataTable, element);\n",
              "          const docLink = document.createElement('div');\n",
              "          docLink.innerHTML = docLinkHtml;\n",
              "          element.appendChild(docLink);\n",
              "        }\n",
              "      </script>\n",
              "    </div>\n",
              "  </div>\n",
              "  "
            ],
            "text/plain": [
              "               과정코드\n",
              "호칭 학습요일_CONV       \n",
              "과장 금          30859\n",
              "   화          30636\n",
              "   목          29675\n",
              "   수          27994\n",
              "   월          27976\n",
              "   일           6185\n",
              "   토           6115\n",
              "대리 화          38342\n",
              "   금          38306\n",
              "   목          37767\n",
              "   수          35097\n",
              "   월          34864\n",
              "   토           7763\n",
              "   일           7532\n",
              "부장 금          15496\n",
              "   화          15166\n",
              "   목          14992\n",
              "   월          14113\n",
              "   수          13979\n",
              "   토           3019\n",
              "   일           3016\n",
              "사원 금          38621\n",
              "   화          38102\n",
              "   목          37256\n",
              "   월          35512\n",
              "   수          34921\n",
              "   일           7723\n",
              "   토           7575\n",
              "임원 금           7724\n",
              "   화           7671\n",
              "   목           7540\n",
              "   월           7211\n",
              "   수           6987\n",
              "   토           1522\n",
              "   일           1495\n",
              "차장 금          23158\n",
              "   화          23052\n",
              "   목          22673\n",
              "   월          21199\n",
              "   수          20964\n",
              "   토           4512\n",
              "   일           4490"
            ]
          },
          "metadata": {},
          "execution_count": 451
        }
      ]
    },
    {
      "cell_type": "markdown",
      "source": [
        "# 과정명에서 가장 많이 발생하는 단어 알아보기"
      ],
      "metadata": {
        "id": "2eoLia53Xd4z"
      }
    },
    {
      "cell_type": "markdown",
      "source": [
        "## 불필요한 숫자, 단어 제거 "
      ],
      "metadata": {
        "id": "btx8_4-ccHPx"
      }
    },
    {
      "cell_type": "code",
      "source": [
        "subject = df_Q[['과정코드', '과정명(학습명)']]\n",
        "subject.head()"
      ],
      "metadata": {
        "colab": {
          "base_uri": "https://localhost:8080/",
          "height": 206
        },
        "id": "ncokVNNzcWIF",
        "outputId": "e9d963ea-a44a-416d-a32d-42409ba5c1ee"
      },
      "execution_count": 452,
      "outputs": [
        {
          "output_type": "execute_result",
          "data": {
            "text/html": [
              "\n",
              "  <div id=\"df-acc8edb7-a3b8-46b8-870a-2052e59972aa\">\n",
              "    <div class=\"colab-df-container\">\n",
              "      <div>\n",
              "<style scoped>\n",
              "    .dataframe tbody tr th:only-of-type {\n",
              "        vertical-align: middle;\n",
              "    }\n",
              "\n",
              "    .dataframe tbody tr th {\n",
              "        vertical-align: top;\n",
              "    }\n",
              "\n",
              "    .dataframe thead th {\n",
              "        text-align: right;\n",
              "    }\n",
              "</style>\n",
              "<table border=\"1\" class=\"dataframe\">\n",
              "  <thead>\n",
              "    <tr style=\"text-align: right;\">\n",
              "      <th></th>\n",
              "      <th>과정코드</th>\n",
              "      <th>과정명(학습명)</th>\n",
              "    </tr>\n",
              "  </thead>\n",
              "  <tbody>\n",
              "    <tr>\n",
              "      <th>0</th>\n",
              "      <td>100008519</td>\n",
              "      <td>K에듀 상품 바로 알기 3편형 영상 상품</td>\n",
              "    </tr>\n",
              "    <tr>\n",
              "      <th>1</th>\n",
              "      <td>100007873</td>\n",
              "      <td>트러블슈팅리모컨</td>\n",
              "    </tr>\n",
              "    <tr>\n",
              "      <th>2</th>\n",
              "      <td>100008091</td>\n",
              "      <td>코드 활용 광선번 관리(-)</td>\n",
              "    </tr>\n",
              "    <tr>\n",
              "      <th>3</th>\n",
              "      <td>100009868</td>\n",
              "      <td>기가(홈매니저)</td>\n",
              "    </tr>\n",
              "    <tr>\n",
              "      <th>4</th>\n",
              "      <td>100008194</td>\n",
              "      <td>공유기 셋팅방법</td>\n",
              "    </tr>\n",
              "  </tbody>\n",
              "</table>\n",
              "</div>\n",
              "      <button class=\"colab-df-convert\" onclick=\"convertToInteractive('df-acc8edb7-a3b8-46b8-870a-2052e59972aa')\"\n",
              "              title=\"Convert this dataframe to an interactive table.\"\n",
              "              style=\"display:none;\">\n",
              "        \n",
              "  <svg xmlns=\"http://www.w3.org/2000/svg\" height=\"24px\"viewBox=\"0 0 24 24\"\n",
              "       width=\"24px\">\n",
              "    <path d=\"M0 0h24v24H0V0z\" fill=\"none\"/>\n",
              "    <path d=\"M18.56 5.44l.94 2.06.94-2.06 2.06-.94-2.06-.94-.94-2.06-.94 2.06-2.06.94zm-11 1L8.5 8.5l.94-2.06 2.06-.94-2.06-.94L8.5 2.5l-.94 2.06-2.06.94zm10 10l.94 2.06.94-2.06 2.06-.94-2.06-.94-.94-2.06-.94 2.06-2.06.94z\"/><path d=\"M17.41 7.96l-1.37-1.37c-.4-.4-.92-.59-1.43-.59-.52 0-1.04.2-1.43.59L10.3 9.45l-7.72 7.72c-.78.78-.78 2.05 0 2.83L4 21.41c.39.39.9.59 1.41.59.51 0 1.02-.2 1.41-.59l7.78-7.78 2.81-2.81c.8-.78.8-2.07 0-2.86zM5.41 20L4 18.59l7.72-7.72 1.47 1.35L5.41 20z\"/>\n",
              "  </svg>\n",
              "      </button>\n",
              "      \n",
              "  <style>\n",
              "    .colab-df-container {\n",
              "      display:flex;\n",
              "      flex-wrap:wrap;\n",
              "      gap: 12px;\n",
              "    }\n",
              "\n",
              "    .colab-df-convert {\n",
              "      background-color: #E8F0FE;\n",
              "      border: none;\n",
              "      border-radius: 50%;\n",
              "      cursor: pointer;\n",
              "      display: none;\n",
              "      fill: #1967D2;\n",
              "      height: 32px;\n",
              "      padding: 0 0 0 0;\n",
              "      width: 32px;\n",
              "    }\n",
              "\n",
              "    .colab-df-convert:hover {\n",
              "      background-color: #E2EBFA;\n",
              "      box-shadow: 0px 1px 2px rgba(60, 64, 67, 0.3), 0px 1px 3px 1px rgba(60, 64, 67, 0.15);\n",
              "      fill: #174EA6;\n",
              "    }\n",
              "\n",
              "    [theme=dark] .colab-df-convert {\n",
              "      background-color: #3B4455;\n",
              "      fill: #D2E3FC;\n",
              "    }\n",
              "\n",
              "    [theme=dark] .colab-df-convert:hover {\n",
              "      background-color: #434B5C;\n",
              "      box-shadow: 0px 1px 3px 1px rgba(0, 0, 0, 0.15);\n",
              "      filter: drop-shadow(0px 1px 2px rgba(0, 0, 0, 0.3));\n",
              "      fill: #FFFFFF;\n",
              "    }\n",
              "  </style>\n",
              "\n",
              "      <script>\n",
              "        const buttonEl =\n",
              "          document.querySelector('#df-acc8edb7-a3b8-46b8-870a-2052e59972aa button.colab-df-convert');\n",
              "        buttonEl.style.display =\n",
              "          google.colab.kernel.accessAllowed ? 'block' : 'none';\n",
              "\n",
              "        async function convertToInteractive(key) {\n",
              "          const element = document.querySelector('#df-acc8edb7-a3b8-46b8-870a-2052e59972aa');\n",
              "          const dataTable =\n",
              "            await google.colab.kernel.invokeFunction('convertToInteractive',\n",
              "                                                     [key], {});\n",
              "          if (!dataTable) return;\n",
              "\n",
              "          const docLinkHtml = 'Like what you see? Visit the ' +\n",
              "            '<a target=\"_blank\" href=https://colab.research.google.com/notebooks/data_table.ipynb>data table notebook</a>'\n",
              "            + ' to learn more about interactive tables.';\n",
              "          element.innerHTML = '';\n",
              "          dataTable['output_type'] = 'display_data';\n",
              "          await google.colab.output.renderOutput(dataTable, element);\n",
              "          const docLink = document.createElement('div');\n",
              "          docLink.innerHTML = docLinkHtml;\n",
              "          element.appendChild(docLink);\n",
              "        }\n",
              "      </script>\n",
              "    </div>\n",
              "  </div>\n",
              "  "
            ],
            "text/plain": [
              "        과정코드                과정명(학습명)\n",
              "0  100008519  K에듀 상품 바로 알기 3편형 영상 상품\n",
              "1  100007873                트러블슈팅리모컨\n",
              "2  100008091         코드 활용 광선번 관리(-)\n",
              "3  100009868                기가(홈매니저)\n",
              "4  100008194                공유기 셋팅방법"
            ]
          },
          "metadata": {},
          "execution_count": 452
        }
      ]
    },
    {
      "cell_type": "code",
      "source": [
        "import re\n",
        "\n",
        "subject['과정명(학습명)'] = subject['과정명(학습명)'].apply(lambda x : re.sub(r'\\d+','', x))\n",
        "subject['과정명(학습명)'] = subject['과정명(학습명)'].str.replace('및','')\n",
        "subject['과정명(학습명)'] = subject['과정명(학습명)'].str.replace('편','')\n",
        "subject['과정명(학습명)'] = subject['과정명(학습명)'].str.replace('위한','')"
      ],
      "metadata": {
        "id": "sO42w4apcWEd"
      },
      "execution_count": 453,
      "outputs": []
    },
    {
      "cell_type": "code",
      "source": [
        "subject.head()"
      ],
      "metadata": {
        "colab": {
          "base_uri": "https://localhost:8080/",
          "height": 206
        },
        "id": "eTEGvxQKcWBl",
        "outputId": "c3a7f855-9644-42ec-f83e-7fd42671b70a"
      },
      "execution_count": 454,
      "outputs": [
        {
          "output_type": "execute_result",
          "data": {
            "text/html": [
              "\n",
              "  <div id=\"df-6aac10c7-450e-4338-8401-8470f323c6f2\">\n",
              "    <div class=\"colab-df-container\">\n",
              "      <div>\n",
              "<style scoped>\n",
              "    .dataframe tbody tr th:only-of-type {\n",
              "        vertical-align: middle;\n",
              "    }\n",
              "\n",
              "    .dataframe tbody tr th {\n",
              "        vertical-align: top;\n",
              "    }\n",
              "\n",
              "    .dataframe thead th {\n",
              "        text-align: right;\n",
              "    }\n",
              "</style>\n",
              "<table border=\"1\" class=\"dataframe\">\n",
              "  <thead>\n",
              "    <tr style=\"text-align: right;\">\n",
              "      <th></th>\n",
              "      <th>과정코드</th>\n",
              "      <th>과정명(학습명)</th>\n",
              "    </tr>\n",
              "  </thead>\n",
              "  <tbody>\n",
              "    <tr>\n",
              "      <th>0</th>\n",
              "      <td>100008519</td>\n",
              "      <td>K에듀 상품 바로 알기 형 영상 상품</td>\n",
              "    </tr>\n",
              "    <tr>\n",
              "      <th>1</th>\n",
              "      <td>100007873</td>\n",
              "      <td>트러블슈팅리모컨</td>\n",
              "    </tr>\n",
              "    <tr>\n",
              "      <th>2</th>\n",
              "      <td>100008091</td>\n",
              "      <td>코드 활용 광선번 관리(-)</td>\n",
              "    </tr>\n",
              "    <tr>\n",
              "      <th>3</th>\n",
              "      <td>100009868</td>\n",
              "      <td>기가(홈매니저)</td>\n",
              "    </tr>\n",
              "    <tr>\n",
              "      <th>4</th>\n",
              "      <td>100008194</td>\n",
              "      <td>공유기 셋팅방법</td>\n",
              "    </tr>\n",
              "  </tbody>\n",
              "</table>\n",
              "</div>\n",
              "      <button class=\"colab-df-convert\" onclick=\"convertToInteractive('df-6aac10c7-450e-4338-8401-8470f323c6f2')\"\n",
              "              title=\"Convert this dataframe to an interactive table.\"\n",
              "              style=\"display:none;\">\n",
              "        \n",
              "  <svg xmlns=\"http://www.w3.org/2000/svg\" height=\"24px\"viewBox=\"0 0 24 24\"\n",
              "       width=\"24px\">\n",
              "    <path d=\"M0 0h24v24H0V0z\" fill=\"none\"/>\n",
              "    <path d=\"M18.56 5.44l.94 2.06.94-2.06 2.06-.94-2.06-.94-.94-2.06-.94 2.06-2.06.94zm-11 1L8.5 8.5l.94-2.06 2.06-.94-2.06-.94L8.5 2.5l-.94 2.06-2.06.94zm10 10l.94 2.06.94-2.06 2.06-.94-2.06-.94-.94-2.06-.94 2.06-2.06.94z\"/><path d=\"M17.41 7.96l-1.37-1.37c-.4-.4-.92-.59-1.43-.59-.52 0-1.04.2-1.43.59L10.3 9.45l-7.72 7.72c-.78.78-.78 2.05 0 2.83L4 21.41c.39.39.9.59 1.41.59.51 0 1.02-.2 1.41-.59l7.78-7.78 2.81-2.81c.8-.78.8-2.07 0-2.86zM5.41 20L4 18.59l7.72-7.72 1.47 1.35L5.41 20z\"/>\n",
              "  </svg>\n",
              "      </button>\n",
              "      \n",
              "  <style>\n",
              "    .colab-df-container {\n",
              "      display:flex;\n",
              "      flex-wrap:wrap;\n",
              "      gap: 12px;\n",
              "    }\n",
              "\n",
              "    .colab-df-convert {\n",
              "      background-color: #E8F0FE;\n",
              "      border: none;\n",
              "      border-radius: 50%;\n",
              "      cursor: pointer;\n",
              "      display: none;\n",
              "      fill: #1967D2;\n",
              "      height: 32px;\n",
              "      padding: 0 0 0 0;\n",
              "      width: 32px;\n",
              "    }\n",
              "\n",
              "    .colab-df-convert:hover {\n",
              "      background-color: #E2EBFA;\n",
              "      box-shadow: 0px 1px 2px rgba(60, 64, 67, 0.3), 0px 1px 3px 1px rgba(60, 64, 67, 0.15);\n",
              "      fill: #174EA6;\n",
              "    }\n",
              "\n",
              "    [theme=dark] .colab-df-convert {\n",
              "      background-color: #3B4455;\n",
              "      fill: #D2E3FC;\n",
              "    }\n",
              "\n",
              "    [theme=dark] .colab-df-convert:hover {\n",
              "      background-color: #434B5C;\n",
              "      box-shadow: 0px 1px 3px 1px rgba(0, 0, 0, 0.15);\n",
              "      filter: drop-shadow(0px 1px 2px rgba(0, 0, 0, 0.3));\n",
              "      fill: #FFFFFF;\n",
              "    }\n",
              "  </style>\n",
              "\n",
              "      <script>\n",
              "        const buttonEl =\n",
              "          document.querySelector('#df-6aac10c7-450e-4338-8401-8470f323c6f2 button.colab-df-convert');\n",
              "        buttonEl.style.display =\n",
              "          google.colab.kernel.accessAllowed ? 'block' : 'none';\n",
              "\n",
              "        async function convertToInteractive(key) {\n",
              "          const element = document.querySelector('#df-6aac10c7-450e-4338-8401-8470f323c6f2');\n",
              "          const dataTable =\n",
              "            await google.colab.kernel.invokeFunction('convertToInteractive',\n",
              "                                                     [key], {});\n",
              "          if (!dataTable) return;\n",
              "\n",
              "          const docLinkHtml = 'Like what you see? Visit the ' +\n",
              "            '<a target=\"_blank\" href=https://colab.research.google.com/notebooks/data_table.ipynb>data table notebook</a>'\n",
              "            + ' to learn more about interactive tables.';\n",
              "          element.innerHTML = '';\n",
              "          dataTable['output_type'] = 'display_data';\n",
              "          await google.colab.output.renderOutput(dataTable, element);\n",
              "          const docLink = document.createElement('div');\n",
              "          docLink.innerHTML = docLinkHtml;\n",
              "          element.appendChild(docLink);\n",
              "        }\n",
              "      </script>\n",
              "    </div>\n",
              "  </div>\n",
              "  "
            ],
            "text/plain": [
              "        과정코드              과정명(학습명)\n",
              "0  100008519  K에듀 상품 바로 알기 형 영상 상품\n",
              "1  100007873              트러블슈팅리모컨\n",
              "2  100008091       코드 활용 광선번 관리(-)\n",
              "3  100009868              기가(홈매니저)\n",
              "4  100008194              공유기 셋팅방법"
            ]
          },
          "metadata": {},
          "execution_count": 454
        }
      ]
    },
    {
      "cell_type": "code",
      "source": [
        "SENTENCE_LIST = subject['과정명(학습명)'].values\n",
        "SENTENCE_LIST[:5]"
      ],
      "metadata": {
        "colab": {
          "base_uri": "https://localhost:8080/"
        },
        "id": "QwkHhg83XdRU",
        "outputId": "e11c725f-e175-4dad-e361-d63609130044"
      },
      "execution_count": 455,
      "outputs": [
        {
          "output_type": "execute_result",
          "data": {
            "text/plain": [
              "array(['K에듀 상품 바로 알기 형 영상 상품', '트러블슈팅리모컨', '코드 활용 광선번 관리(-)', '기가(홈매니저)',\n",
              "       '공유기 셋팅방법'], dtype=object)"
            ]
          },
          "metadata": {},
          "execution_count": 455
        }
      ]
    },
    {
      "cell_type": "code",
      "source": [
        "# 기계가 텍스트를 숫자로 처리할 수 있도록 훈련 데이터와 테스트 데이터에 정수 인코딩을 수행해야 합니다\n",
        "from tensorflow.keras.preprocessing.text import Tokenizer\n",
        "\n",
        "tokenizer = Tokenizer()\n",
        "tokenizer.fit_on_texts(SENTENCE_LIST)"
      ],
      "metadata": {
        "id": "h6Bav-OGXdUY"
      },
      "execution_count": 456,
      "outputs": []
    },
    {
      "cell_type": "code",
      "source": [
        "# 각 단어에 고유한 정수가 부여 확인\n",
        "print(tokenizer.word_index)"
      ],
      "metadata": {
        "colab": {
          "base_uri": "https://localhost:8080/"
        },
        "id": "f1bNrU9pXdW5",
        "outputId": "0064c142-90e8-4d77-d070-aeceeaf6e174"
      },
      "execution_count": 457,
      "outputs": [
        {
          "output_type": "stream",
          "name": "stdout",
          "text": [
            "{'ai': 1, '이해': 2, 'k에듀': 3, 'ai이해': 4, '자산화': 5, '전문지식': 6, '데이터': 7, 'rpa': 8, '모델링': 9, '클라우드': 10, 'ai로': 11, '알아보는': 12, 'k에듀의': 13, '주요': 14, 'ai기술': 15, '상품': 16, '컴플라이언스': 17, '딥러닝': 18, '현장훈련': 19, '업무': 20, '나의': 21, '미니인터뷰': 22, '파이썬기초': 23, '해지는': 24, '미니강좌': 25, '자동화': 26, '고객발자기혁신': 27, '머신러닝': 28, '강': 29, '사례': 30, '체험': 31, '국사온라인': 32, '해보기': 33, '이해하기': 34, '에센스': 35, '실전': 36, '비대면': 37, '성과관리를': 38, '목표수립': 39, '예측': 40, '알기': 41, '바로': 42, '프로세스': 43, '년': 44, '시각화': 45, '가이드': 46, '직원용': 47, '활용': 48, '방법': 49, '왜': 50, '부패방지': 51, '이유': 52, '직원': 53, '기초': 54, '알고리즘': 55, '육성코칭법': 56, '사업': 57, '매뉴얼': 58, '디지털': 59, '의': 60, '개요': 61, '되는': 62, '입찰': 63, '머신러닝과': 64, 'ai정의': 65, '파이썬전처리': 66, '전략': 67, '과정': 68, '분석': 69, '기본개념': 70, '기능': 71, '고객': 72, '교시': 73, '차시': 74, '네트워크': 75, '고객센터': 76, '관련': 77, 'ai업무적용사례': 78, '기술전문': 79, '파이썬판다스': 80, '업무적용': 81, '만들기': 82, '방지': 83, '교육': 84, '프리미어': 85, 'k에듀그룹': 86, 'rpa로': 87, '통한': 88, '실습': 89, '스마트팩토리': 90, '현장': 91, '구축': 92, '기술': 93, 'ai업무적용프로세스': 94, '서비스': 95, '소개': 96, '기본': 97, '산업안전': 98, '보건법': 99, '중대재해': 100, '처벌법': 101, '있는': 102, '메타버스': 103, '노하우': 104, '장비': 105, '안내': 106, '시연': 107, '트렌드': 108, '형': 109, '해외부패방지법': 110, '혁신': 111, '할': 112, '플랫폼': 113, '입문': 114, '요소': 115, '세대': 116, '어떻게': 117, '준수': 118, '알면': 119, '도움이': 120, 'ai지식과': 121, '메일': 122, '주의사항': 123, '핵심': 124, '사용법': 125, '책임감': 126, '부당한': 127, '공동행위': 128, '담함': 129, '반부패': 130, '법령': 131, '수': 132, '작업': 133, '로봇': 134, '하는': 135, '지능형': 136, '세상을': 137, '부패방지행동강령': 138, '인터넷': 139, '기능실습': 140, '필수': 141, '리더': 142, '영상': 143, '설치': 144, 'ai로봇': 145, '운용': 146, '영업': 147, '미래': 148, '안전': 149, '아마존': 150, '탐지': 151, '영상분석': 152, 'ai사례실습악성사이트': 153, 'k에듀남부': 154, '회사생활': 155, '베이직': 156, '스쿨': 157, 'ai를': 158, '유선상품': 159, '살펴보기': 160, '영상상품': 161, '업무처리지침': 162, '세일즈': 163, 'k에듀경영': 164, '기': 165, '바로알기': 166, '내부회계관리제도': 167, '리더의': 168, '것인가': 169, '시큐어코딩': 170, 'ai개요': 171, '영상장비': 172, '우리': 173, 'ai가': 174, '관리': 175, '엑셀': 176, '상반기': 177, '용어': 178, '법률': 179, '우수사례': 180, '영상정보보호': 181, '생성관리': 182, '제공하는': 183, '인터뷰': 184, '활동': 185, '우수지사사원': 186, '대분야': 187, 'ai용어': 188, '이미': 189, '해설': 190, '금융': 191, '분류': 192, '보안': 193, '대비': 194, '시작하기': 195, '유형별': 196, '아직': 197, '안전관리': 198, '무선액세스망의': 199, '인공지능': 200, '딥러닝의': 201, '누가': 202, '특강': 203, '호우리': 204, '동네엔': 205, '콜체크인이': 206, '안될까요': 207, '모델': 208, 'k에듀개요': 209, '프로모션': 210, '시대': 211, '프레젠테이션': 212, 'ai요소기술과': 213, '화': 214, '현장리더': 215, '서버스토리지': 216, '시니어': 217, '한눈에': 218, '광케이블': 219, '호소중한': 220, '아이의': 221, '지켜주나요': 222, '현장노하우': 223, '짤': 224, '바꾸는': 225, '기능실습사용법': 226, '데이터준비': 227, '센스있는': 228, '리더스': 229, 'ai사례실습내비게이션': 230, '도착시간예측': 231, '심화엑셀': 232, 'k에듀상품': 233, '심화웹': 234, '온다': 235, '개발': 236, '기업과': 237, '이제하라': 238, '솔루션': 239, '사례실습영업실적': 240, '뽑기': 241, '한': 242, '가치': 243, '기능실습데이터분석': 244, '성희롱': 245, '개인정보보호의': 246, '구성': 247, '미디어': 248, '기능실습모델링': 249, '법': 250, '베어로보틱스': 251, '활용한': 252, '도착한': 253, 'ai의': 254, '허위과장광고': 255, '채널별': 256, '판매지침': 257, '혁신을': 258, '트랜스포메이션': 259, '번째': 260, '웹': 261, '안전조치': 262, '보건조치': 263, '개통': 264, '지켜야': 265, '회사와': 266, '근로자가': 267, '비즈니스': 268, '뉴스봇': 269, '취향': 270, '서식지': 271, '검증': 272, '월': 273, '가지': 274, '전처리': 275, '호불모지를': 276, '기회의': 277, '땅으로': 278, '스마트': 279, '인프라': 280, '동케이블': 281, '공유회': 282, 'ai취득': 283, '가치제안서': 284, '강화': 285, '무선과': 286, '통합': 287, '구조': 288, '여러': 289, '스크랩': 290, '전환': 291, '최적화': 292, '사례로': 293, '할까': 294, '안전관리통신주': 295, '사례실습언론기사': 296, '오거크레인': 297, '그': 298, '운용기초': 299, '명': 300, '사례실습': 301, '보통의': 302, '가장': 303, '함께': 304, '생성': 305, '만드는': 306, '기능실습기초': 307, '보기': 308, '하도급법': 309, '부정경쟁방지법': 310, '리더는': 311, '데이터를': 312, '조회': 313, '힘': 314, '단어': 315, '기업을': 316, '커피': 317, '직책자용': 318, '목표면담': 319, '텍스트': 320, '사례실습미디어': 321, '셀': 322, '캠페인': 323, '유무선': 324, '이노베이션이란': 325, '자기혁신': 326, '조건부': 327, '있다': 328, '마이봇': 329, '따라해보기': 330, '정보보안': 331, '관한': 332, '설명': 333, '말': 334, '것': 335, '주요기능': 336, '복합역량': 337, '메타버스가': 338, '기능실습엑셀': 339, '있을까': 340, '법칙': 341, '해지': 342, '콘텐츠': 343, '최고의': 344, '응대': 345, '등': 346, '예방교육': 347, '예방을': 348, '인식': 349, 'k에듀고객': 350, '종류': 351, '숏폼콘텐츠': 352, '리더십의': 353, '없는': 354, '가는': 355, '처리': 356, '예방': 357, '사원': 358, '개인정보보호와': 359, '분석사례': 360, '태도': 361, '소통': 362, '필요한': 363, '상품역량강화': 364, '시대가': 365, '패킷량': 366, '고객서비스팀장': 367, '쉽게': 368, '강남서부': 369, '아파트': 370, '잘': 371, '첫걸음': 372, 'ai기능': 373, '중계기': 374, '적용': 375, '를': 376, '프로젝트': 377, '회사는': 378, '팝업': 379, '가입자': 380, '초': 381, '안에': 382, '이유는': 383, '이론': 384, '제작': 385, '키즈랜드': 386, '사례실습가입자': 387, '거래': 388, '기법': 389, '혁신의': 390, '모바일': 391, '업계': 392, '당신의': 393, '슬기로운': 394, '하도급': 395, '공정화에': 396, '중요성': 397, 'ai서비스': 398, '환경': 399, '버킷차량': 400, '절차': 401, '표준가이드': 402, '결합총정리': 403, '분석하기': 404, '호서과장이': 405, '모델하우스를': 406, '매번': 407, '제휴상품': 408, '서버': 409, '삼성중계기': 410, '절차서': 411, '특징': 412, '조직': 413, '변화': 414, '재난안전통신망': 415, '자재': 416, '감정': 417, '무엇인가': 418, '인사평가': 419, '평가자': 420, '방안': 421, '이용': 422, '빔포밍의': 423, '기반': 424, '도면관리': 425, '활용하기': 426, '선택의': 427, '관계': 428, '비밀': 429, '업무처리': 430, '세일즈는': 431, '인재': 432, '알아야': 433, 'k에듀차량사고': 434, '방어운전': 435, '수칙': 436, '안': 437, '꿈꾼다': 438, '변화시키다': 439, '스킬': 440, '후': 441, '파이썬': 442, '확보': 443, '없다': 444, '차': 445, '예방법': 446, '품질도우미': 447, '품질개선': 448, '총정리': 449, '쉬운우리보안': 450, '피싱메일': 451, '지식': 452, '경쟁력': 453, '아니다': 454, '가치경로와': 455, '기능적': 456, '신흥기술': 457, '생성적': 458, '적대': 459, '웹스크래핑하기': 460, '선정': 461, '게': 462, '개요보안은': 463, '필요한가요': 464, 'ai사례': 465, '직장에서': 466, '그룹사': 467, '배경': 468, '얻는': 469, '일': 470, '공사': 471, '사례실습미세먼지': 472, '수치': 473, '작동법': 474, '초격차': 475, '다음': 476, '특별한': 477, '사례실습네트워크': 478, '빅데이터': 479, '민원': 480, '학습': 481, '코칭': 482, '운영': 483, '하기': 484, '호텔서빙': 485, '작업지시서작업일보': 486, '원리': 487, '만': 488, '체계': 489, '차트': 490, '게임': 491, '코딩': 492, '방법론': 493, 'ai서비스로봇': 494, '현대': 495, '가이드라인': 496, '외부소싱': 497, '커뮤니케이션': 498, '그리고': 499, '경험적': 500, '창출': 501, '집': 502, '안전관리가공선로': 503, 'ai와의': 504, '협업모델': 505, '대리점법의': 506, '등주작업': 507, '회': 508, '핵심기술': 509, '만나는': 510, '결합': 511, '지점이': 512, '완전정복하기': 513, '속도': 514, '등록': 515, '탁월한': 516, '모델과의': 517, '다': 518, '유통영업': 519, '보는': 520, '자산': 521, '발표전': 522, '체크리스트': 523, '하드웨어': 524, '사람이': 525, '분석을': 526, '고객발자기혁신이란': 527, '사례심화': 528, '활용법': 529, '무선': 530, '회사가': 531, '기업이': 532, '개념': 533, '된': 534, '임직원': 535, '생활백서': 536, '프로그램': 537, '접속': 538, '제': 539, '제작하기': 540, '호초간단': 541, '헌금콜': 542, '써보셨나요': 543, '유통사관학교': 544, '만들어가는k에듀': 545, '고수': 546, '신입이': 547, '아니라': 548, '어떤': 549, '새벽': 550, '배송처럼': 551, '민첩한': 552, '이용한': 553, '사용이유': 554, '설비이전': 555, '리더십': 556, '습관': 557, '불만': 558, '플랫폼과': 559, '성단': 560, 'ai사례실습': 561, '특성': 562, '산출': 563, '크리에이터': 564, '세상': 565, '코리아': 566, '사례실습자동차': 567, '연비': 568, '수집': 569, '새로운': 570, '멀티단자함': 571, '된다': 572, '함수': 573, '알려주는': 574, '대표': 575, '변경': 576, '구매': 577, '유의사항': 578, '그룹공동상품': 579, '기술지원': 580, '데이터분석': 581, '천재': 582, '고객입력': 583, '완료등록': 584, '인증': 585, '기타완료': 586, '마음을': 587, '바람직한': 588, '내': 589, '기능과': 590, '미래사업의': 591, '신뢰를': 592, '초고속': 593, '우리는': 594, '아이디어': 595, '비대면보이스': 596, '발음발성변화': 597, '기술현황': 598, '제공방식': 599, '유지관리': 600, '비대면이미지': 601, '안전관리통신작업': 602, '명품': 603, '시트의': 604, '그린선언': 605, '그린투자': 606, '서식': 607, '유통': 608, '블록체인과': 609, '준비': 610, '이름': 611, '시트로': 612, '분리하기': 613, '호개학했더니': 614, '전화기에': 615, '불이': 616, '났어요': 617, '스피치': 618, '양식': 619, '에': 620, '안으로': 621, '출근만': 622, '질의응답': 623, '고객유형': 624, '실패하는': 625, '스토리텔링': 626, '상품구조의': 627, '이해관계자': 628, '시작': 629, '자동차': 630, '비즈니스의': 631, '성능': 632, '안전관리맨홀': 633, '당신이': 634, '경영코칭프로그램': 635, '역설': 636, '사이': 637, '사는': 638, '기준': 639, '사회': 640, '문제를': 641, '외면하면': 642, '탄': 643, '추진': 644, '지배구조': 645, '주목해야': 646, '말고': 647, '프로그래밍': 648, '개발사례': 649, 'ai사례실습시청이력기반선호도': 650, '따라잡기': 651, '이전': 652, '으로': 653, '시니어케어': 654, '설계': 655, '대리점': 656, '포스트': 657, '아마존의': 658, '불패의': 659, '나쁜': 660, '첫': 661, '브랜드': 662, '프로토콜': 663, '착한': 664, '리더가': 665, '전부는': 666, '고객발': 667, '파일': 668, '코로나': 669, '시': 670, '디자인': 671, '순간': 672, '잡아라': 673, '문': 674, '다루기': 675, '실패한다': 676, '메타버스에': 677, '자주': 678, '들어오는': 679, '사람들의': 680, '호미션': 681, '임파서블새는': 682, '전기요금을': 683, '심화': 684, '랜케이블': 685, '어디서부터': 686, '시작해야': 687, '선': 688, '공간의': 689, '구분하기': 690, '관점': 691, '유능한': 692, '직원도': 693, '무능하게': 694, '향상': 695, '꽃': 696, '하반기': 697, '이해스마트팩토리': 698, '스타벅스': 699, '호': 700, '자료형': 701, '방식': 702, '기업의': 703, '아이디어로': 704, '승부하라': 705, '위임': 706, '인정': 707, '모든': 708, '맞춤형': 709, '코드': 710, '존리의': 711, '부자되기': 712, '좋은': 713, '더': 714, '망': 715, '손쉬운': 716, '꼭': 717, '실무자용': 718, '돈': 719, '생태계': 720, '호여보': 721, '아버님': 722, '댁에': 723, '놓아드려야겠어요': 724, '부': 725, '시대의': 726, '대륙에': 727, '정착한': 728, '레거시': 729, '워싱턴': 730, '파워포인트': 731, '다른': 732, '높이는': 733, '세': 734, '선도할': 735, '도태될': 736, '포토샵이미지': 737, '대응': 738, '전환을': 739, '인': 740, '부서별': 741, '맞춤교육': 742, '마인드셋': 743, '세상에': 744, '구성원은': 745, '사람': 746, '실습과정': 747, '세계': 748, '패키지': 749, '고객과': 750, '세일즈맨의': 751, '컨택센터': 752, '모빌리티': 753, '소셜뷰티': 754, '로레알': 755, '매장': 756, '과학이다': 757, '중심': 758, '말이': 759, '매니지드': 760, '위치': 761, '선두에': 762, '기업으로': 763, '포토샵': 764, '직무': 765, '유선망': 766, '감정노동': 767, '이들을': 768, '방어막': 769, '서빙로봇지도': 770, '그리기와': 771, '라벨': 772, '설정': 773, '기획하라': 774, '이': 775, '변신한': 776, '버버리': 777, '온라인강좌': 778, '오류처리까지': 779, '보충강좌': 780, '주택형': 781, '빠른': 782, '모니터링': 783, '나가는': 784, '매일매일': 785, '영업루틴': 786, '만나기': 787, '파트': 788, '노무': 789, '팀': 790, '큰': 791, '광': 792, '형상': 793, '입력방법': 794, '무선시설': 795, '철탑종류': 796, '꿀': 797, '파워미터': 798, '추출': 799, '전원선의': 800, '허용전류': 801, '카카오의': 802, '사업구조': 803, '주장치': 804, '추천': 805, '관계형성': 806, '커넥터': 807, '연결방법': 808, '감시절차서': 809, '값': 810, '전': 811, '국가재난안전통신망': 812, '진짜': 813, '셀의': 814, '눈에': 815, '생활': 816, '여인': 817, '퓨어시스': 818, '공기정화': 819, '살균기': 820, '제품설명': 821, '바꿔라': 822, '하지만': 823, '바꾸지': 824, '마라': 825, 'ai스마트': 826, '오픈': 827, '시설': 828, '이끄는': 829, '얼마나': 830, '고객사': 831, '라우팅': 832, '강성': 833, '청약': 834, '정리하기': 835, '사람은': 836, '가입자선로시설': 837, '구축절차': 838, '올바로': 839, '코어': 840, '홈': 841, '계층과': 842, '선로피해': 843, '초동대처': 844, '알아야할': 845, '애플카': 846, '팩트와': 847, '루머': 848, '않는': 849, '안정운용을': 850, '와': 851, '축의': 852, '갤럭시': 853, '합치기': 854, '댁내형장비': 855, '시설공법': 856, '조작법': 857, '걸작': 858, '공통': 859, '네트워크의': 860, '모두가': 861, '인입광': 862, '코딩이란': 863, '계속': 864, '문법': 865, '마스터': 866, '위대한': 867, '선로설비': 868, '업무처리시간': 869, '단축방법': 870, '호외국인을': 871, '통신생활': 872, '열쇠': 873, '못': 874, '맨홀위치탐지기': 875, '느림': 876, '재해피해': 877, '최소화': 878, '한전': 879, '배전설비': 880, '공가': 881, '없이': 882, '드뷔시가': 883, '선사한': 884, '달콤한': 885, '밤산책': 886, '공통점이': 887, '썸네일': 888, '안전사고': 889, 'rpa취득': 890, '공사성': 891, '허가': 892, '사업의': 893, '교원라이프': 894, '자막': 895, '도로': 896, '점용': 897, '굴착': 898, '코딩하면': 899, '뭘까': 900, '스타트업': 901, 'k에듀아키텍처': 902, '조건부가설': 903, '업무활용': 904, '코딩으로': 905, '분석에서': 906, '시각화까지': 907, '강좌': 908, '무출동': 909, '가': 910, '엣지': 911, '대화에': 912, '알림': 913, '제안프로세스강': 914, '아마존은': 915, '뉴': 916, '노멀': 917, '디지털워크': 918, '파트너스': 919, '임정욱': 920, '유니트': 921, '구분방법': 922, '권한신청': 923, '기존': 924, '다른점': 925, '재무강': 926, '옴니채널마케팅': 927, '것이': 928, '판다스': 929, '통신': 930, '않은': 931, '시스템': 932, '열리는': 933, '식료품': 934, '기본사용법': 935, '지갑이': 936, '사례인프라': 937, '이상징후': 938, '자동판단': 939, '코넷': 940, '서빙로봇': 941, '투자성': 942, '될': 943, '스타십': 944, '테크놀로지스자율주행': 945, '로봇을': 946, '근거리': 947, '배달': 948, '표': 949, '술을': 950, '개발한': 951, '광공급': 952, '전용무선': 953, '공사비': 954, '제대로': 955, '무선코어': 956, '음성서비스': 957, '스타벅스는': 958, '회사만': 959, '하고': 960, '옷을': 961, '완전': 962, '답을': 963, '작성': 964, '단자함': 965, '버켓차량': 966, '사전준비': 967, '안테나': 968, '구찌와': 969, '루이비통은': 970, '메타버스에서': 971, '팔까': 972, '공유기': 973, '셋팅방법': 974, '세미나': 975, '사이트': 976, '비대면교육': 977, '보고서': 978, '박사': 979, '라우팅과': 980, '스위칭': 981, '단추': 982, '는': 983, '볼': 984, '등이': 985, '정복하기': 986, '포토샵광고로고': 987, '얼마에': 988, '살래': 989, '가격전략': 990, '집착이다': 991, '깔때기론': 992, '만든다': 993, '당신에게': 994, '컷': 995, '감정의': 996, '발견': 997, '너는': 998, '매우': 999, '사람이란다': 1000, '데이터는': 1001, '광선번': 1002, '시리즈': 1003, '템플릿': 1004, '고퀄리티': 1005, '네이버': 1006, '정지훈': 1007, '재발견': 1008, '선로공사': 1009, '자산취득': 1010, '분만에': 1011, '데이터가': 1012, '고려한': 1013, '가격결정': 1014, '빠르게': 1015, '구글은': 1016, '빅데이터를': 1017, '활용했는가': 1018, '효과적인': 1019, '재택근무': 1020, '수행을': 1021, '엘리큐': 1022, '노인들을': 1023, '나이': 1024, '함께하는': 1025, '온라인': 1026, '단축키': 1027, '배우는': 1028, '경제': 1029, '홍보영상': 1030, '오프라인': 1031, '존재하는': 1032, '컴플라이언스의': 1033, '모델평가': 1034, '날짜시간': 1035, '연차': 1036, '구하기': 1037, 'ai사업소개': 1038, '잘하기': 1039, '마음가짐': 1040, '성공팩': 1041, '낙관성': 1042, '사장님': 1043, '입문자를': 1044, '엔비디아가': 1045, '컴퓨팅도': 1046, '앞서는': 1047, '검사': 1048, '집의': 1049, '경쟁': 1050, '역량': 1051, '사랑할': 1052, '사랑하라': 1053, '만든': 1054, '사용': 1055, '호처리': 1056, '속에서': 1057, '보정': 1058, '엔지니어': 1059, '전화번호': 1060, '사로잡는': 1061, '원격': 1062, '시대를': 1063, '신규': 1064, '다운로드': 1065, '두': 1066, '움직일': 1067, '언어의': 1068, '술테크': 1069, '브람스를': 1070, '좋아하세요': 1071, '설치하기': 1072, '마케팅': 1073, '대한': 1074, '이해와': 1075, '영어': 1076, '강연선': 1077, '인입크램프': 1078, '일자별': 1079, '승객': 1080, '산업의': 1081, '경제학': 1082, '방송장비운용자교육': 1083, '오피스분당': 1084, '제안': 1085, '인턴교육조': 1086, '시연회': 1087, '발표영상': 1088, '문과도': 1089, '쏙쏙': 1090, '클라우드의': 1091, '실습준비': 1092, '카메라': 1093, '데이터의': 1094, '빌딩': 1095, '하나로': 1096, '공기주입시설': 1097, '수학': 1098, '댁내단말': 1099, '구성방법': 1100, '서비스의': 1101, '읽은': 1102, '맥주의': 1103, '승리': 1104, '받는': 1105, '판매무기': 1106, '영업사례': 1107, '문제풀이': 1108, '정보': 1109, '않으면': 1110, '가입정보': 1111, '프라임': 1112, '유선': 1113, '직무공통': 1114, '통신시설운용관리': 1115, '자산처분': 1116, '불용처리': 1117, '그리기': 1118, '피어난': 1119, '르네상스의': 1120, '칭찬이': 1121, '무서운': 1122, '직장인들에게': 1123, '범위': 1124, '대형고장': 1125, '재해관리': 1126, '부모역할': 1127, '피벗': 1128, '어느': 1129, '선로시설': 1130, '무선역량': 1131, '지도시각화': 1132, '구독과': 1133, '좋아요의': 1134, '꿀팁': 1135, '하나': 1136, '도로상': 1137, '맨홀': 1138, '운영하기': 1139, '문과가': 1140, '개발자와': 1141, '통하려면': 1142, '기초지식': 1143, '현장안전관리': 1144, '스트라빈스키의': 1145, '조금': 1146, '봄': 1147, '내용': 1148, '넣기': 1149, '도전과제': 1150, '자동': 1151, '운용절차서': 1152, '소개와': 1153, '알고': 1154, '불한': 1155, 'ai서빙로봇': 1156, '혜택': 1157, '이해하는': 1158, '팬데믹': 1159, '물구나무서기가': 1160, '사지': 1161, '구독하라': 1162, '픽사에는': 1163, '화장실이': 1164, '하나다': 1165, '만나다': 1166, '실행하기': 1167, '설변': 1168, '유형': 1169, '개선': 1170, '직원을': 1171, '넷플릭스': 1172, '도리언': 1173, '그레이의': 1174, '초상': 1175, '포토샵포토샵과': 1176, '레이어의': 1177, '안전점검': 1178, '일지': 1179, '무료': 1180, '가공선로': 1181, '종단처리방법': 1182, '테이블': 1183, '회복하는': 1184, '디지털로': 1185, '생각하라': 1186, '병합하기': 1187, '용기': 1188, '원인자부담': 1189, '그룹': 1190, '이미지': 1191, '실행': 1192, '빅데이터로': 1193, '개의': 1194, '고객경험': 1195, '경험': 1196, '고객발자기혁신기업인터넷': 1197, '광접속모듈': 1198, '구글의': 1199, '천재들은': 1200, '정도': 1201, '사람들일까': 1202, '개인정보보호': 1203, '읽기': 1204, '변환하기': 1205, '탄생한': 1206, '올레탭': 1207, 'ai사례실습가입': 1208, '서빙로봇설정': 1209, '스펙': 1210, '전송': 1211, '품질관리시스템': 1212, '운용절차': 1213, '중계기셋업절차': 1214, '피해처리화성지점': 1215, '최초': 1216, '교수': 1217, '중': 1218, '소규모회의실': 1219, '페이스북이': 1220, '학습하기': 1221, '입력': 1222, '구성원의': 1223, '플랫폼을': 1224, '계측기': 1225, '슬라이드': 1226, '법칙을': 1227, '유비쿼스셋업절차서': 1228, '성장의': 1229, '간다항동지점': 1230, '말을': 1231, '번역하는': 1232, '세상의': 1233, '정보보호와': 1234, '팝니다': 1235, '고객을': 1236, '다산셋업절차서': 1237, '유치': 1238, 'rpa실습하기': 1239, '얼리어답터': 1240, '단기기변': 1241, '타겟예측': 1242, '자산일까': 1243, '쿠팡': 1244, '흔드는': 1245, '쇼피파이와': 1246, '호사장님을': 1247, '우린': 1248, '깐부잖아요': 1249, '한국': 1250, '생태계와': 1251, '과': 1252, '화웨이셋업절차서': 1253, '노동법': 1254, '미움받을': 1255, '필요': 1256, '당신은': 1257, '기획자다': 1258, '제의': 1259, '원하는': 1260, '올바른': 1261, '프레임': 1262, '진화': 1263, '기본개용': 1264, '확인': 1265, '않았다': 1266, '콘텐츠가': 1267, '채권관리의': 1268, '재무제표': 1269, '조명': 1270, '기대신': 1271, '빛을': 1272, '똑같이': 1273, '집해보기': 1274, '좀더': 1275, '사용해볼까요': 1276, '비용': 1277, '기능을': 1278, '강남역': 1279, '치킨집을': 1280, '차려라': 1281, '이론교시': 1282, '살려내는': 1283, '다루는': 1284, '인터넷전화': 1285, '세기까지': 1286, '부를': 1287, '거머쥘': 1288, '조건문': 1289, '사용한': 1290, '미래를': 1291, '현황': 1292, '사용하기': 1293, '반복문': 1294, '산업혁명': 1295, '쓰면': 1296, '천지창조': 1297, '공유경제': 1298, '신임팀장과정': 1299, '영업활동': 1300, '마지막': 1301, '상품설명': 1302, '집중하는': 1303, '경영과': 1304, '판매정책의': 1305, '질투로': 1306, '인해': 1307, '컬러링': 1308, '노정석': 1309, '비팩토리': 1310, '효과': 1311, '품질분석': 1312, '유재석은': 1313, '유산슬이': 1314, '되었을까': 1315, '고객중심': 1316, '기반예측': 1317, '기술원리': 1318, '산업안전보건법': 1319, '산업재해보상법': 1320, '프리토타이핑': 1321, '종이가': 1322, '머리로': 1323, '항상': 1324, '플랫폼의': 1325, '단축기': 1326, '있나요': 1327, '재무': 1328, '통계': 1329, '트랜드': 1330, '안전사고예방': 1331, '사례집': 1332, '작성하기': 1333, '개설의': 1334, '컨설팅': 1335, '작은': 1336, '콜체크인': 1337, '상권분석': 1338, '입지평가': 1339, '퇴근을': 1340, '만들어주는': 1341, '고장난': 1342, '물건으로': 1343, '시작한': 1344, '이베이': 1345, '간단': 1346, '세상이': 1347, '읽기쓰기반복자동화': 1348, '수행': 1349, '인형의': 1350, '펭수와': 1351, '평행이론': 1352, '표현력': 1353, '추출하기': 1354, '정의': 1355, '도형을': 1356, '검색되지': 1357, '존재하지': 1358, '않는다': 1359, '어디까지': 1360, '독일군의': 1361, '암호를': 1362, '푼': 1363, '페이스북': 1364, '통계함수': 1365, '진실': 1366, 'rpa우수사례': 1367, '날아다니는': 1368, '택시': 1369, '곧': 1370, '현대서빙로봇': 1371, '현장설치': 1372, '변화를': 1373, '이반': 1374, '다섯': 1375, '빅뱅': 1376, '언택트': 1377, '요구하는': 1378, '심화네트워크': 1379, '제안프로젝트관리': 1380, '영업컨설팅': 1381, '기본기향상교육': 1382, '숙면을': 1383, '바흐의': 1384, '선율': 1385, '추가': 1386, '이메일': 1387, '가능한': 1388, '빠르기만': 1389, '했다면': 1390, '라': 1391, '부르지': 1392, '사전': 1393, '내가': 1394, '저격': 1395, '스트리밍': 1396, '물결': 1397, '이코노미': 1398, '을': 1399, '활용하는': 1400, '여인들': 1401, '인공지능과': 1402, '직접': 1403, '폭군': 1404, '세와': 1405, '성': 1406, '바실리': 1407, '대성당': 1408, '저장': 1409, '운동': 1410, '중심의': 1411, '강직장': 1412, '분산과': 1413, '표준차': 1414, '이끄는가': 1415, '파바로티가': 1416, '사랑한': 1417, '질투의': 1418, '센서형': 1419, '누구나': 1420, '비교': 1421, '것은': 1422, '탐구생활': 1423, '기획을': 1424, '준비단계': 1425, '수행프로젝트관리': 1426, '집어삼킨다': 1427, '수주사업': 1428, '매출관리': 1429, '관련변동사항': 1430, '사용자': 1431, '사업타당성': 1432, '파괴적': 1433, '자산은': 1434, '전략의': 1435, '요청': 1436, '경쟁사': 1437, '플랫폼이': 1438, '브랜드를': 1439, '먹어': 1440, '치운다': 1441, 'k에듀전원시설': 1442, '운용에': 1443, '전기이론': 1444, '변수의': 1445, '계획': 1446, '간다중랑지점': 1447, '고찰': 1448, '경영의': 1449, '수주': 1450, '신상품개발': 1451, '기획': 1452, '익히기': 1453, '산업용로봇의': 1454, '가져오기': 1455, '이야기': 1456, '데이터로': 1457, '뜨는': 1458, '읽는': 1459, '뒤바뀐': 1460, '유무선복합역량': 1461, '네': 1462, '란': 1463, '패턴별로': 1464, '표지배경': 1465, '환기필터': 1466, '제작집': 1467, '기로에서': 1468, '마주한': 1469, '명상곡': 1470, '콜': 1471, '대학': 1472, '융복합사업모델': 1473, '감가상각': 1474, '나만의': 1475, '루브르의': 1476, '피렌체': 1477, '모나': 1478, '리자': 1479, '자동차는': 1480, '탈': 1481, '달변가의': 1482, '실습과제': 1483, '하라': 1484, '로봇시스템': 1485, '선택': 1486, '역량강화': 1487, '국내': 1488, '어도비': 1489, '프리미어로': 1490, '집기술': 1491, '복잡한': 1492, '참조도': 1493, '번에': 1494, '유용한': 1495, '변경하기': 1496, '아이폰': 1497, '성공의': 1498, '준비하기': 1499, '역량과': 1500, '비결은': 1501, '미국으로': 1502, '떠난': 1503, '황금의': 1504, '비전공': 1505, '직장인들은': 1506, '코딩을': 1507, '낯선': 1508, '언어로': 1509, '중요한': 1510, '구글이': 1511, '아파트내': 1512, '기획자에게는': 1513, '돈을': 1514, '금지어': 1515, '싱크': 1516, '어게인': 1517, '분리': 1518, '사전방문': 1519, '블록체인': 1520, '위험시설': 1521, '본사': 1522, '가보니': 1523, '여섯': 1524, '해야': 1525, '하지': 1526, '출입통제': 1527, '폴리곤영역시설분석': 1528, '패킷전송네트워크': 1529, '대형도면출력': 1530, '간다수지지점': 1531, '구식': 1532, '슈퍼마켓이': 1533, '거대': 1534, '이긴': 1535, '변화의': 1536, '핀테크': 1537, '인사이트': 1538, '애니메이션과': 1539, '전환효과': 1540, '형태부터': 1541, '미울까': 1542, '해지징후고객': 1543, '탐험': 1544, '리모트': 1545, '고소작업차': 1546, '작동메뉴얼': 1547, 'k에듀시설관리사용법': 1548, '이승국권진영과': 1549, '광전송네트워크': 1550, 'ai사례실습딥러닝을': 1551, '스팸문자': 1552, '분류예측': 1553, '무선차대리점매장': 1554, '육성': 1555, '발전시설': 1556, '장애': 1557, '아마존이': 1558, '깡패인': 1559, '반드시': 1560, '찾는다': 1561, '토지소유정보': 1562, '건물중첩관로': 1563, '픽토그램': 1564, '모래의': 1565, '여자': 1566, '비결': 1567, '페이스캅': 1568, '삶의': 1569, '전략으로': 1570, '드론': 1571, '엔터도': 1572, '명품도': 1573, '세계에': 1574, '풍덩우리는': 1575, '준비할까': 1576, '인간': 1577, '아마존을': 1578, '플라이휠': 1579, '개설': 1580, '출점': 1581, '도미노피자': 1582, '공룡보다': 1583, '주가상승률이': 1584, '높은이유': 1585, '영역': 1586, '꿈도': 1587, '치고': 1588, '들어간다': 1589, '색감': 1590, '언어': 1591, '라이브이벤트': 1592, '게임회사를': 1593, '줄줄이': 1594, '사들이고': 1595, '피자와': 1596, '공통점은': 1597, '제휴카드': 1598, '가족과': 1599, '떠나는': 1600, '클래식': 1601, '여행': 1602, '항목': 1603, '몰입': 1604, '품질': 1605, '플릭스는': 1606, '말한다': 1607, '속의': 1608, '기업문화': 1609, '타자': 1610, '외': 1611, '삭제': 1612, '욕구를': 1613, '발견하고': 1614, '취향을': 1615, '설계하라': 1616, '합성하기': 1617, '삽입부터': 1618, '디자인까지': 1619, '함수로': 1620, '나누고': 1621, '성명': 1622, '소속': 1623, '스토리': 1624, '아직도': 1625, '끝나지': 1626, '오랜': 1627, '완성하기': 1628, '반값초이스': 1629, '혁명의': 1630, '주인공': 1631, '토스': 1632, '도전정신과': 1633, '치킨값은': 1634, '비쌀까': 1635, '재료비를': 1636, '개더타운은': 1637, '사무실의': 1638, '대세가': 1639, '됐나': 1640, '유통영업의': 1641, '무기를': 1642, '갖춘': 1643, '엔비디아': 1644, '직류전원시설의': 1645, '언박싱': 1646, '현실과': 1647, '가상세계에': 1648, '동시에': 1649, '안전보건관련업무': 1650, '안전보건관리규정': 1651, '동기식': 1652, '환경구성': 1653, '단': 1654, '비용의': 1655, '지금': 1656, '수배전시설': 1657, '계통': 1658, '자연스러운': 1659, '여름에': 1660, '떨어지는': 1661, '타자꾸준한': 1662, '상품소개': 1663, '팀장': 1664, '배터리': 1665, '애플': 1666, '메타버스엔': 1667, '휴먼이': 1668, '산다': 1669, '지도사': 1670, '급': 1671, '디지코': 1672, '통신주': 1673, '보조': 1674, '안전대': 1675, '죔줄': 1676, '조건': 1677, '잡았을까': 1678, '사람을': 1679, '기획자라면': 1680, '납득시켜라': 1681, '부서명': 1682, '표시': 1683, '문자열': 1684, '원칙': 1685, '일론': 1686, '머스크는': 1687, '아이언': 1688, '맨이': 1689, '전산': 1690, '킬러멘트': 1691, 'ai모델링': 1692, '데이터테이블': 1693, '바꾸고': 1694, '파장분배장치': 1695, '장치': 1696, '노무강': 1697, '카드뉴스': 1698, '같은': 1699, '테슬라의': 1700, '데이부터': 1701, '전고체': 1702, '배터리까지': 1703, '나로부터': 1704, '촬영': 1705, '천재들에겐': 1706, '고객의': 1707, '팀만': 1708, '만나면': 1709, '잘하는거야': 1710, '만들고': 1711, '살게': 1712, '올라탄': 1713, '기업들': 1714, '초기셋팅': 1715, '색': 1716, '고객발자기혁신펌웨어': 1717, '전국적용': 1718, '아정전': 1719, '인공지능의': 1720, '만들다': 1721, '교원라이프플러스': 1722, '반론극복': 1723, '정리': 1724, '바리스타': 1725, '방송전용회선서비스': 1726, '트러블슈팅리모컨': 1727, '광단자함': 1728, '모빌리티커넥티드': 1729, '카': 1730, '도모음으로': 1731, '높이기': 1732, '열고': 1733, '파이프라인에서': 1734, '플랫폼으로': 1735, '흑사병의': 1736, '수호성인': 1737, '무정전시설의': 1738, '전원집중관리시스템의': 1739, '필요로': 1740, '플릭스와': 1741, '공생': 1742, '소비시장의': 1743, '권력자': 1744, '네이티브': 1745, '회복탄력성향상': 1746, '생존': 1747, 'ai사례실습공기질': 1748, '주식': 1749, '협업': 1750, '진정한': 1751, '무선데이터': 1752, '기본절차': 1753, '제품경제에서': 1754, '구독경제로': 1755, '믿은': 1756, '거짓': 1757, '속은': 1758, '버거운': 1759, '비전공자': 1760, '배울': 1761, '반도체': 1762, '동작': 1763, '폴더블': 1764, '광코어접속방법': 1765, '개선등을': 1766, '기술혁신충남충북지역': 1767, '무엇이든': 1768, '백본': 1769, '전원연결': 1770, '지도맵핑': 1771, '의미': 1772, '시나리오': 1773, '마스터로': 1774, '플릭스': 1775, '서막': 1776, '소스가': 1777, '마인드를': 1778, '이길': 1779, '스타벅스를': 1780, '성공적으로': 1781, '이끈': 1782, '세남자': 1783, '받기': 1784, '완성': 1785, '사외공사': 1786, '홈스쿨': 1787, '실무에': 1788, '사고': 1789, '동화': 1790, '마을에서': 1791, '자유의': 1792, '여신상': 1793, '달라진': 1794, '따라하는': 1795, '한방에': 1796, '단계': 1797, '기업모바일전화': 1798, '땐': 1799, '분석유통': 1800, '애린': 1801, '왕자': 1802, '우리가': 1803, '빅데이터와': 1804, '아마존에서': 1805, '물건': 1806, '샀는데': 1807, '날': 1808, '배송돼': 1809, '네이티브를': 1810, '공식은': 1811, '매너를': 1812, '매너는': 1813, '카리브': 1814, '해에서': 1815, '업무를': 1816, '생애': 1817, '신임': 1818, '적응': 1819, '라이브러리': 1820, '쿠팡이': 1821, '번가를': 1822, '마드리드의': 1823, '상황이다': 1824, '미리': 1825, '솎아내는': 1826, '유효성': 1827, '소소한': 1828, '미라클': 1829, '코칭신뢰': 1830, '물류관리시스템': 1831, '연애': 1832, '소설': 1833, '노인': 1834, '향해': 1835, '지구의': 1836, '주인은': 1837, '식물': 1838, '전주에': 1839, '설치된': 1840, '포트': 1841, '증설작업': 1842, '요금제': 1843, '코칭리더십': 1844, '수식': 1845, '활용스킬': 1846, '정형': 1847, '물건을': 1848, '자꾸': 1849, '작심살일만': 1850, '반복하는': 1851, '투자에': 1852, '심리학적': 1853, '결측치': 1854, '튀김을': 1855, '사랑하는가': 1856, '등기부등본': 1857, '타사': 1858, '속엔': 1859, '너무': 1860, '많아': 1861, '멀티': 1862, '페르소나': 1863, '전성시대': 1864, '파면된': 1865, '조선': 1866, '걸작을': 1867, '계약': 1868, '나는': 1869, '유통망': 1870, '파리의': 1871, '흉물에서': 1872, '상징으로': 1873, '에펠탑': 1874, '완성되지': 1875, '사그라다': 1876, '파밀리아': 1877, '경쟁우위': 1878, '춤추게': 1879, '공유오피스': 1880, '포화': 1881, '새로': 1882, '남다른': 1883, '전략들': 1884, '함수를': 1885, '재무상태표와': 1886, '몰랐던': 1887, '통합오퍼링의': 1888, '각기': 1889, '광접속함체를': 1890, '이어주는': 1891, '다리역할을': 1892, '하는구성방법': 1893, '유선역량차소매매장': 1894, '실격': 1895, '인쇄': 1896, '방문': 1897, '회선': 1898, '발생주의와': 1899, '현금주의': 1900, '마이데이터는': 1901, '누구의': 1902, '현실가상': 1903, '디지털트윈': 1904, '스위치': 1905, '감지기': 1906, '심화가입자': 1907, '확대': 1908, '입찰제안': 1909, '교육패키지': 1910, '수행강': 1911, '정신': 1912, '블록체인의': 1913, '잔혹한': 1914, '순교자인가': 1915, '영웅인가': 1916, '특장점': 1917, '로봇설정': 1918, '유통제도의': 1919, '규칙': 1920, '물어보살': 1921, '와이해하기': 1922, '시장을': 1923, '차별화': 1924, '셀프조치': 1925, '타노스는': 1926, '인구감소를': 1927, '주장했을까': 1928, '중량물': 1929, '안전작업': 1930, '가공': 1931, '대세': 1932, '풀버전': 1933, '눈썰미': 1934, '죄다': 1935, '게임에': 1936, '목숨거나': 1937, '순서': 1938, '시장': 1939, '쓰기': 1940, '깡': 1941, '살려낸': 1942, '이들': 1943, '카멜레온': 1944, '제작의': 1945, '촬영의': 1946, '하버드': 1947, '도구': 1948, '구축형': 1949, '공감': 1950, '개미군단': 1951, '결집해': 1952, '위협하는': 1953, '쇼피파이': 1954, '이상': 1955, '자본주의': 1956, '독일의': 1957, '불운이': 1958, '따라다니는': 1959, '파악하기': 1960, '가진': 1961, '와인': 1962, '가격을': 1963, '괜찮아': 1964, '상업적': 1965, '올해': 1966, '주가만': 1967, '배': 1968, '미국선': 1969, '집에서': 1970, '운동한다펠로톤한다': 1971, '코로나시대의': 1972, '인간관계': 1973, '빅히트등': 1974, '엔터네인먼트': 1975, '생존전략': 1976, '모델링과': 1977, '투자금도': 1978, '설계자다': 1979, '투자': 1980, '성공전략': 1981, '괴롭힘': 1982, '팀장님이': 1983, '감탄하는': 1984, '간트': 1985, '경영은': 1986, '반대말이다': 1987, '소비': 1988, '성장전략을': 1989, '정리하는': 1990, '최재홍': 1991, '교수의': 1992, '촌철살인': 1993, '모두': 1994, '예비': 1995, '중독자다': 1996, '끝내자': 1997, '필터': 1998, '슬라이서': 1999, '알려줘도': 2000, '바꿀까': 2001, '정년퇴직자용': 2002, '퇴직준비': 2003, '초급': 2004, '대전환': 2005, '쓰는': 2006, '신사업': 2007, 'ai환경공장플랫폼': 2008, '실패해도': 2009, '말러의': 2010, '위로': 2011, '처리하기': 2012, '백설공주': 2013, '스토리보드처럼': 2014, '스토리보드': 2015, '번은': 2016, '달린다': 2017, '중대재해처벌법의': 2018, '작업하기': 2019, '부채': 2020, '온라인보다': 2021, '온라인스러운': 2022, 'ai주택형솔루션': 2023, '분석물류': 2024, '판매': 2025, '시즌': 2026, '아는': 2027, '진출': 2028, '플릭스에': 2029, '하나의': 2030, '소를': 2031, '지켜드립니다': 2032, '상세': 2033, '저장하기': 2034, '툴': 2035, '분석보험': 2036, '활용이빈호': 2037, '신입사원이': 2038, '직장': 2039, '평가와': 2040, '알아보기': 2041, '파일로': 2042, '아닌': 2043, '유선상품차': 2044, '유형과': 2045, '폰트': 2046, '운영방법론교육': 2047, '체크인': 2048, '스마트폰': 2049, '끝내기': 2050, '논리적': 2051, '설득을': 2052, '카지노가': 2053, '단골': 2054, '잃지': 2055, '순서파괴': 2056, '패널': 2057, '주만에': 2058, '제품이': 2059, '방역의': 2060, '주역으로': 2061, '일러스트일러스트레이터의': 2062, '소리': 2063, '지역': 2064, '일러스트포스터': 2065, '순금이라': 2066, '무선네트워크': 2067, '즈니는': 2068, '플릭스를': 2069, '패스트캠퍼스': 2070, '교육안내': 2071, '키즈상품': 2072, '키즈랜드프라임홈스쿨': 2073, '미취학아동': 2074, '내보내기': 2075, '혁신은': 2076, '돌연변이를': 2077, '사랑해': 2078, '실리콘밸리가': 2079, '역사': 2080, '키네마스터': 2081, '앱을': 2082, '간한': 2083, '영상제작': 2084, '고액': 2085, '연봉': 2086, '생성되는': 2087, '안전혁신사례부산경남지역': 2088, '공략': 2089, '농어촌': 2090, '재해피해고객의': 2091, '장애요인제거전남전북지역': 2092, '훈련': 2093, '명령어': 2094, '디커플링': 2095, '인미래': 2096, '공존': 2097, '제안팀': 2098, '행거선통기': 2099, '무선송수신기': 2100, '활용대구경북지역': 2101, '주목하라': 2102, '착각하는': 2103, '치킨집도안하면': 2104, '살아남을': 2105, '연령별': 2106, '활용가이드': 2107, '고객용': 2108, '사전인지알람': 2109, '등을': 2110, '안전사고예방강남서부지역': 2111, '먹여': 2112, '살리는': 2113, '인코딩': 2114, '값으로': 2115, '값을': 2116, '천재해커의': 2117, '자녀교육법': 2118, '시간관리법': 2119, '영업에': 2120, '캔': 2121, '희망': 2122, '빵': 2123, '아키모토': 2124, '핵심가치': 2125, '초안에': 2126, '다짐이': 2127, '이끈다': 2128, '가자': 2129, '투자금은': 2130, '비용일까': 2131, '선도기업으로': 2132, '길': 2133, '기술지원체계': 2134, '기억하라': 2135, '주고받는': 2136, '동물이다': 2137, '한걸음씩': 2138, '차근차근': 2139, '걸까': 2140, '이름으로': 2141, '미리보기': 2142, '담는': 2143, '고객이해': 2144, '통합제안': 2145, '대업종': 2146, '국민마트': 2147, '지원물류': 2148, '근본': 2149, '블록체인이란': 2150, '배워보는': 2151, '라디오코덱': 2152, '모빌리티디지털': 2153, '물류': 2154, '프로': 2155, '재무제표를': 2156, '리스트': 2157, '페이지': 2158, '반값활용판매': 2159, '제안심화': 2160, '금융고객': 2161, '이전사업': 2162, '활용세일즈': 2163, '재무컨설팅': 2164, '거지': 2165, '목표와': 2166, '포토샵새로운': 2167, '영원히': 2168, '일러스트오브젝트': 2169, '자본의': 2170, '글쓰기': 2171, '재무상태표가': 2172, '송파빌딩': 2173, '뭘': 2174, '배워야': 2175, '영업현장과': 2176, '파트너스퀘어': 2177, '구글엔': 2178, '있고': 2179, '아마존엔': 2180, '룰루레몬이': 2181, '테크기업과': 2182, '주가흐름': 2183, '보이는': 2184, 'k에듀매장': 2185, 'ai금융이': 2186, '다지기': 2187, '견적': 2188, '한다': 2189, '흐름': 2190, '임원': 2191, '화이트해커': 2192, '길라잡이': 2193, '따릉이': 2194, '지도': 2195, '소스': 2196, '제안일정': 2197, '미러리스': 2198, '카메라를': 2199, '이용하여': 2200, '촬영하기': 2201, '고': 2202, '여는': 2203, '연습': 2204, '붙잡기': 2205, '아무노래는': 2206, '신드롬을': 2207, '일으켰을까': 2208, '사업주': 2209, '경계를': 2210, '지우다': 2211, '폰트도': 2212, '줄간격과': 2213, '자간': 2214, '감성': 2215, '무선망': 2216, '도전': 2217, '자유롭게': 2218, '명이': 2219, '죽은': 2220, '문서도': 2221, '폰트와': 2222, '사이즈': 2223, '기술자료': 2224, '플릭스의': 2225, '독주를': 2226, '막을': 2227, '차유통정책제도의': 2228, '사전규격': 2229, '자료구조': 2230, '대': 2231, '구독': 2232, '싹': 2233, '스피커': 2234, '돌봄': 2235, '마이리얼트립의': 2236, '피버팅': 2237, '일러스트일러스트': 2238, '애플처럼': 2239, '독립': 2240, '선언한': 2241, '전용': 2242, '고장요소': 2243, '해소강북강원지역': 2244, '활용방법': 2245, '활용한호처리': 2246, '포토샵인물': 2247, '직원의': 2248, '그룹시너지': 2249, '비전': 2250, '제안목차': 2251, '천': 2252, '근무하는': 2253, '환경사업': 2254, '선택을': 2255, '보여줘라': 2256, '우리들을': 2257, '응원가': 2258, '그럼': 2259, '모으지': 2260, '모집단과': 2261, '랜덤샘플링': 2262, '채우기': 2263, '포트나이트는': 2264, '메타버스인데': 2265, '배그는': 2266, '부정청탁': 2267, '금품': 2268, '수수의': 2269, '금지에': 2270, '소개k에듀': 2271, '샘플링을': 2272, '잘못하면': 2273, '일어나는': 2274, '대참사': 2275, '향': 2276, '채널구조': 2277, '모의해킹': 2278, '페어링하면': 2279, '끈끈해집니다': 2280, '손익계산서가': 2281, '정': 2282, '보': 2283, '배운': 2284, '고열량': 2285, '뿌수기': 2286, '생각': 2287, '위기를': 2288, '기회로': 2289, '싶을': 2290, '헨델처럼': 2291, '구조와': 2292, '설레게': 2293, '효과컨트롤': 2294, '리텐션의': 2295, '분포의': 2296, '모양': 2297, '조는': 2298, '돈일까': 2299, '기준을': 2300, '눈금자': 2301, '눈금선': 2302, '안내선': 2303, '전산처리': 2304, '코어망': 2305, '특성과': 2306, '현대오일뱅크': 2307, '자격': 2308, '성과로': 2309, '충분할까': 2310, '영업의': 2311, '자본': 2312, '용어와': 2313, '기호부터': 2314, '모수치와': 2315, '표본수치': 2316, '일등': 2317, '따라잡는': 2318, '대륙의': 2319, '카카오엔터의': 2320, '글로절': 2321, '현금흐름표가': 2322, '통해': 2323, '백본망의': 2324, '집중경향치': 2325, '메뉴를': 2326, '골랐을까': 2327, '회사의': 2328, '액세스': 2329, '일러스트아이콘로고': 2330, '믿어도': 2331, '진단': 2332, '그래픽': 2333, '호텔서빙로봇': 2334, '기업가': 2335, '돈이': 2336, '되려면': 2337, '사람이어야': 2338, '설치방법': 2339, '덕후': 2340, '젠슨': 2341, '황이': 2342, '게임에서': 2343, '아이디어가': 2344, '심장을': 2345, '뛰게': 2346, '힐톱': 2347, '개인폰으로': 2348, '먼바다에서도': 2349, '통화를': 2350, '영상으로': 2351, '사업자': 2352, '큐톤광고': 2353, '휴식방법': 2354, '어디나': 2355, '문제아는': 2356, '아웃라이어': 2357, '덤앰덤': 2358, '신무기': 2359, '핵심요약': 2360, '갈등을': 2361, '메모의': 2362, '디지털통화': 2363, '현장실사': 2364, '팔레트': 2365, '작도': 2366, '워드': 2367, '뭐가': 2368, '문제일까': 2369, '확인과': 2370, '자연어': 2371, '조절하기': 2372, '정보는': 2373, '주석에': 2374, '정리집계하기': 2375, '알아보자': 2376, '구성요소별': 2377, '핵심포인트': 2378, '코딩시연': 2379, '당장': 2380, '언어에': 2381, '속': 2382, '쇼핑은': 2383, '불해도': 2384, '욕망은': 2385, '지속된다': 2386, '무정전': 2387, '유형자산의': 2388, '구성요소': 2389, '마인크래프트': 2390, '마르지': 2391, '플래티넘': 2392, '직장인도': 2393, '진출전략': 2394, '냄새의': 2395, '심리학': 2396, '성과가': 2397, '에너지사업모델': 2398, '발굴': 2399, '김사장님의': 2400, '세금은': 2401, '납부하고': 2402, '있겠지': 2403, '정부': 2404, '해커가': 2405, '구글과': 2406, '내부문서': 2407, '훑고': 2408, 'ai화장품': 2409, '전송은': 2410, '무엇일까요': 2411, '관리와': 2412, '패널과': 2413, '양자': 2414, '암호': 2415, '생크림': 2416, '사움': 2417, '아이싱': 2418, '로': 2419, '정량제안서': 2420, '입사할': 2421, '급여는': 2422, '종업원': 2423, '딕셔너리': 2424, '싫은': 2425, '하이': 2426, '우리의': 2427, '고난은': 2428, '찾아온다': 2429, '츠무라제약': 2430, '영상보안': 2431, '키워드': 2432, '검색': 2433, '만남': 2434, '블록체인을': 2435, '딜리버리': 2436, '차대리점': 2437, '영업관리': 2438, '텍스트데이터': 2439, '향상을': 2440, '부가서비스': 2441, '종': 2442, '기본팩': 2443, '농어촌공동이용망의': 2444, '끄기': 2445, '책을': 2446, '심리학을': 2447, 'k에듀교원라이프': 2448, '팀즈': 2449, '첨단': 2450, '교통시스템': 2451, '매장생산성': 2452, '태양광': 2453, '사용방법': 2454, '다시': 2455, '통신산업의': 2456, '공룡의': 2457, '약정갱신': 2458, '마켓': 2459, '제조유통물류': 2460, '수익비용': 2461, '대응의': 2462, '현대카드': 2463, '초이스': 2464, '제공방안': 2465, '무료소스': 2466, '빌려줘도': 2467, '되겠지': 2468, '금융기관': 2469, '투자를': 2470, '해도': 2471, '되는걸까': 2472, '투자자': 2473, '표준활동': 2474, '현금흐름표': 2475, '김대리의': 2476, '똑똑한': 2477, '소비생활': 2478, '개선효과': 2479, '필터링': 2480, '원가검토': 2481, '갤럭시워치클래식': 2482, '인사': 2483, '밀레니얼': 2484, '금융산업의': 2485, '빅데이터는': 2486, '생겨': 2487, '먹었나': 2488, '아키텍처': 2489, '인디자인브로셔': 2490, '망의': 2491, '렉스턴': 2492, '실무기술': 2493, '보안솔루션': 2494, 'ai빅데이터': 2495, '성공을': 2496, '공공서비스': 2497, '추정': 2498, '아키텍쳐': 2499, '있으면': 2500, '헬스케어': 2501, '연결은': 2502, '의미가': 2503, '사용가이드': 2504, '솔루션의': 2505, '생각하는영업': 2506, '가만있자켜는': 2507, '스위치가': 2508, '어디': 2509, '있더라': 2510, '제페토': 2511, '로블록스': 2512, '잘나가는': 2513, '메타버스의': 2514, '인포그래픽': 2515, '윈도우': 2516, '삼성': 2517, '움직이는': 2518, '고객발자기혁신엘리베이터': 2519, '안은': 2520, '품질사각지대가': 2521, '아닙니다': 2522, '우수사례호': 2523, '될까': 2524, '경영진': 2525, '완벽주의와': 2526, '스탠더드': 2527, '종료': 2528, '만들': 2529, '베트남': 2530, '로마의': 2531, '초대': 2532, '황제': 2533, '아우구스투스': 2534, '네이버의': 2535, '경쟁력은': 2536, '젊어지고': 2537, '있다는': 2538, '모션': 2539, '그래픽의': 2540, '키': 2541, '화면전환': 2542, '생활밀착형': 2543, '파이썬의': 2544, '기업도': 2545, '살아남는다': 2546, '크래프톤': 2547, '장병규': 2548, '의장이': 2549, '말하는': 2550, '개발자라는': 2551, '직업의': 2552, '전자파강도측정': 2553, '표준운용': 2554, '탐방': 2555, '수익': 2556, '비전을': 2557, '명확히': 2558, '서민준': 2559, '영유아': 2560, '외부감사제도의': 2561, '전자공시': 2562, '기능별': 2563, '바다': 2564, '일하지': 2565, '두려움': 2566, '고객사구조': 2567, '이펙트': 2568, '읽어내기': 2569, '상무보': 2570, '코로나가': 2571, '촉발한': 2572, '빅뱅플랫폼': 2573, '마스크': 2574, '대리점매장': 2575, '매너': 2576, '흐름과': 2577, '영업노하우': 2578, '담당자를': 2579, '취미로': 2580, '쉬운': 2581, '보너스': 2582, '다운': 2583, '레볼루션': 2584, '초속도': 2585, '데이터만': 2586, '꿀도': 2587, '선로': 2588, '리더와': 2589, '공존하는': 2590, '가상화': 2591, '기타': 2592, '유망분야와': 2593, '분할영상': 2594, '감사의견의': 2595, '프라임키즈랜드': 2596, '상금': 2597, '아무': 2598, '벌금': 2599, '이기는': 2600, '기업': 2601, '고민': 2602, '첫인상': 2603, '직감은': 2604, '과연': 2605, '광역본부': 2606, '온택트': 2607, '러닝센터': 2608, '소개영상': 2609, '연결의': 2610, '정보의': 2611, '상의': 2612, '교육이론': 2613, '집자가': 2614, '고급': 2615, '수익과': 2616, '디지털트랜스포메이션': 2617, '아이디어도출': 2618, '감사의견': 2619, '자산의': 2620, '인디자인메뉴': 2621, '인터페이스에': 2622, '성장시키는': 2623, '종합': 2624, '사진': 2625, '신한류': 2626, '공감이': 2627, '법인세비용과': 2628, '당기순이익': 2629, '일러스트명함': 2630, '리딩을': 2631, '무선역량차판매정책의': 2632, '로봇타겟섹터': 2633, '유관자료': 2634, '색보정': 2635, '라이트룸': 2636, '다빈치': 2637, '리졸브': 2638, '네트워크층': 2639, '프로토콜이윤석': 2640, '매출': 2641, '평가': 2642, '실리콘밸리의': 2643, '유망기업과의': 2644, '자율주행차보다': 2645, '빨리': 2646, '항공': 2647, '택시가': 2648, '뜬다': 2649, 'k에듀잘나가게': 2650, '프리미어와': 2651, '사용하면': 2652, '시너지가': 2653, '자주나는': 2654, '오류경고': 2655, '해결법': 2656, '성격별': 2657, '것일까': 2658, '인간에': 2659, '스노우플레이크는': 2660, '대항마라': 2661, '불리나': 2662, '국경': 2663, '돈은': 2664, '암호화폐': 2665, '변화는': 2666, '기초이론': 2667, '재무상태표': 2668, '애프터': 2669, '글자': 2670, '인디자인기본': 2671, '도툴바': 2672, '디브리핑': 2673, '유선업셀링패키지': 2674, '안내를': 2675, '업셀링': 2676, '보정하기': 2677, '인디자인페이지': 2678, '평면도': 2679, '선택하고': 2680, '수립': 2681, '금융수주시': 2682, '준비한사례': 2683, '기타수익비용': 2684, '벌': 2685, 'k에듀교육자료': 2686, '선행사업의': 2687, '인디자인텍스트': 2688, '매출채권의': 2689, '고객응대': 2690, '피터': 2691, '취약성을': 2692, '드러내라': 2693, '현금흐름': 2694, '유동비유동': 2695, '손바닥': 2696, '매장들': 2697, '도미노': 2698, '포드': 2699, '넷플릭스의성공과': 2700, '실패': 2701, '변하면': 2702, '전략도': 2703, '변해야': 2704, '오프라인은': 2705, '자판기': 2706, '온라인은': 2707, '오프라인처럼': 2708, '무선센서카메라': 2709, '감시체계': 2710, 'ai주택형솔루션상품': 2711, '홍보': 2712, '수납율': 2713, '성공포인트': 2714, '한국판': 2715, '뉴딜을': 2716, '공공시장': 2717, '개인': 2718, '예절': 2719, '승인': 2720, '일으킨': 2721, '나델라의': 2722, '두가지': 2723, '그들은': 2724, '트렌스포메이션에': 2725, '성공했나': 2726, '가이드북': 2727, '글로벌': 2728, '찾아': 2729, '성과관리': 2730, '직촬': 2731, '분석기': 2732, '고도화': 2733, '기준정보': 2734, '회계세무물품구매': 2735, '가상': 2736, '트래픽': 2737, '밀레니얼의': 2738, '문제해결': 2739, '팀장들': 2740, '제품시연': 2741, '고객감동': 2742, '실천방법': 2743, '달라지는': 2744, '핫한': 2745, '따라잡기입문': 2746, '높이자': 2747, '충남충북영업': 2748, '정하기': 2749, '리스크': 2750, '사내기업가': 2751, '심다': 2752, '영업캠프': 2753, '분식집': 2754, '경쟁도': 2755, '싸움이다': 2756, '구축사업': 2757, '업스트림': 2758, '재고자산의': 2759, '자산관리': 2760, '상황별예방': 2761, '하는가': 2762, '실행이': 2763, '영업노하우당근마켓': 2764, '종류중계기': 2765, '모닝클래스': 2766, '공통역량차주인정신과': 2767, '열정을': 2768, '산업시대에': 2769, '코딩에': 2770, '답이': 2771, '스마트생태공장': 2772, '무형자산의': 2773, '감시절차': 2774, 'ai아파트': 2775, '스마트에너지': 2776, '상황별': 2777, '손익계산서와': 2778, '차이': 2779, '일반부채의': 2780, '칭찬': 2781, '최소한의': 2782, '비용으로': 2783, '제작하는': 2784, '교통전략': 2785, '관리지원': 2786, 'ai클라우드': 2787, 'rpa기초교육': 2788, '망구성': 2789, '입주': 2790, '회차': 2791, '구글': 2792, '콘텐츠의': 2793, '철기시대의': 2794, '석공이': 2795, '되지': 2796, '않으려면': 2797, '방역서비스': 2798, '부르는': 2799, '주파수': 2800, '생존의': 2801, '미츠보시': 2802, '게이토': 2803, '말레이시아': 2804, '기업고객': 2805, '타사비교': 2806, '기축': 2807, '공략툴': 2808, '써드': 2809, '씽킹': 2810, '변수': 2811, '모드': 2812, '수업': 2813, '유선센서': 2814, '자원관리': 2815, '되기': 2816, '뇌': 2817, '우리동네': 2818, '맛집': 2819, '제작제공을': 2820, '유치하기': 2821, '올레프라임홈스쿨': 2822, '강의에': 2823, '인용되는': 2824, '잘못': 2825, '알려진': 2826, '사실': 2827, '단기장기의': 2828, '구분': 2829, '발주서': 2830, '기가': 2831, '관제통신': 2832, '따라하기': 2833, '공통역랑': 2834, '차몰입과': 2835, '주인의식을': 2836, '종류광': 2837, '충당부채': 2838, '우발부채의': 2839, '연말정산': 2840, '도스': 2841, '타겟': 2842, '천명': 2843, '투입한': 2844, '구성과': 2845, '강좌촬영녹화집': 2846, '시간의': 2847, '전송망': 2848, '일타강사': 2849, '금융출동': 2850, '전략을': 2851, '액션으로': 2852, '옮기려면': 2853, '공헌이익': 2854, '여왕': 2855, '향수': 2856, '덕분에': 2857, '청혼': 2858, '받다': 2859, '상품프로모션': 2860, '출시마케팅': 2861, '시작하려면': 2862, '뭐부터': 2863, '긴급복구': 2864, '처리기술': 2865, '애견과': 2866, '반려견': 2867, '브레인': 2868, '유선판매': 2869, '알짜배기': 2870, '성과': 2871, '진다': 2872, '원가': 2873, '레버리지': 2874, '빅데이터의': 2875, '컨버전스': 2876, '파일의': 2877, '수합하기': 2878, '용모': 2879, '복장': 2880, '무선센서': 2881, '휴대용': 2882, '선로시험기': 2883, '뜬구름': 2884, '잡지': 2885, '기반통화서비스': 2886, '탭': 2887, '성과를': 2888, '단말': 2889, '일과': 2890, '블록체인이': 2891, '분식회계': 2892, '쓸모': 2893, '전략이란': 2894, '할인율': 2895, '해지머니': 2896, '세상쉬운리텐션': 2897, '요금': 2898, '광전화': 2899, '전력유도의': 2900, '현상과': 2901, '대책': 2902, '갤럭시폴드': 2903, '변화점': 2904, '예약혜택': 2905, '정리해': 2906, '드림': 2907, '차량': 2908, '사건': 2909, '소프트웨어': 2910, '볼렌즈': 2911, '콜박스': 2912, '신청하기': 2913, '무엇이': 2914, '칭찬을': 2915, '직업': 2916, '윤리의식': 2917, '함양': 2918, '간': 2919, '기억은': 2920, '조작된': 2921, '것이다': 2922, '제주': 2923, '드러커의': 2924, '경영을': 2925, '읽다': 2926, '프리미엄': 2927, '싱글결합': 2928, '포토샵디자인': 2929, 'ai빅데이터관제': 2930, '융합기술': 2931, '애자일': 2932, '경제성': 2933, '지표': 2934, '도운용': 2935, '건강검진표': 2936, '이후의': 2937, '융합': 2938, '이익잉여금의': 2939, '문명의': 2940, '되는걸까요': 2941, '플러스': 2942, '세기': 2943, '자동개통': 2944, '출입통제리더': 2945, '스티브': 2946, '잡스라면': 2947, '했을까': 2948, '것의': 2949, '수준을': 2950, '부상하게': 2951, '나를': 2952, '세계의': 2953, '리더들은': 2954, '직감을': 2955, '단련하는가': 2956, '도출': 2957, '개통작업': 2958, '인사이드형': 2959, '세대와': 2960, '소통하는': 2961, '경우': 2962, '질문': 2963, '제출': 2964, '지원팀': 2965, '의료병원': 2966, '녹화': 2967, '트러블': 2968, '슈팅': 2969, '단말의': 2970, '워크의성과관리': 2971, '전화상담': 2972, '완결영업상품': 2973, '포인트': 2974, '전문가': 2975, '조직문화': 2976, '연동프로그램': 2977, '역습': 2978, '맛보기': 2979, '알기쉬운': 2980, '저대역': 2981, '번외': 2982, '노드': 2983, '금융시설': 2984, '이상개국': 2985, '미개국': 2986, '사람들': 2987, '내방객': 2988, '증대': 2989, '활성화': 2990, '플레이스': 2991, '세렌디피티': 2992, '형태': 2993, '질투는': 2994, '경계선에서': 2995, '말하다': 2996, '프라임슈퍼': 2997, '호텔로봇': 2998, '올레로': 2999, '화재경보': 3000, '인생의': 3001, '의미와': 3002, '따른': 3003, '쉬어도': 3004, '승패는': 3005, '직선이': 3006, '곡선': 3007, '구간에서': 3008, '조회하기': 3009, '성공은': 3010, '책임을': 3011, '수반한다': 3012, '공자가': 3013, '던지는': 3014, '설명회': 3015, '분야': 3016, '코딩에도': 3017, '종류가': 3018, '있다고': 3019, '본': 3020, '방문상담설계': 3021, '타겟팅': 3022, '내일설계휴직': 3023, '작성법': 3024, '출동': 3025, '출동지령': 3026, '초기': 3027, '따뜻한': 3028, '우정': 3029, '초고': 3030, '유선역량차': 3031, '소형주택': 3032, '실전영업': 3033, '사장님성공팩가게정보알림메시지': 3034, '고객발자기혁신정전정보': 3035, '사전공유': 3036, '마련': 3037, '형식': 3038, '전원시설': 3039, '뽀개기차종우': 3040, '코딩이': 3041, '사물인터넷을': 3042, '조정한다고': 3043, '구피': 3044, '수컷의': 3045, '워크': 3046, '상호신뢰와': 3047, 'k에듀교육체계의': 3048, '인터뷰ai': 3049, '단말보험': 3050, '도면': 3051, '노출': 3052, '와이어샤크': 3053, '금융시설설명': 3054, '카드부': 3055, '창의적': 3056, '행복할까': 3057, '실습해설': 3058, '내는': 3059, '에너지': 3060, '크롤링': 3061, '강좌핵심만': 3062, '콕콕': 3063, '짚어주는': 3064, '실험계획수립': 3065, '조직에': 3066, '이것을': 3067, '바란다': 3068, '인스턴스': 3069, '견적서': 3070, '두뇌의': 3071, '조직에는': 3072, '마인드셋이': 3073, '실적': 3074, '자동차를': 3075, '싶은': 3076, '우수사례지자체': 3077, '협단체와': 3078, '협업으로': 3079, '농가': 3080, '인프라구축': 3081, 'ai경로당': 3082, '데이터댐은': 3083, '젖줄인가': 3084, '연산자': 3085, '차유통채널의': 3086, '슈퍼플랜': 3087, '훈련영상k에듀결합세일즈': 3088, '정비요령': 3089, '추천하는': 3090, '컴플라이언스도급리스크': 3091, '불법파견': 3092, '관리방안': 3093, '전화는': 3094, '걸까요': 3095, '동영상': 3096, '광선로': 3097, '품질측정기': 3098, '정확하게': 3099, '생활은': 3100, '트레이드': 3101, '오프': 3102, '워크의': 3103, '생각이': 3104, '복부': 3105, '신호를': 3106, '중복고장': 3107, '해결하기': 3108, '청구수납': 3109, '업무의': 3110, '첫번재': 3111, '혁신기술': 3112, '대해': 3113, '소상공인': 3114, '자존감은': 3115, '진짜인가요': 3116, '최종': 3117, '복무': 3118, '보수': 3119, '복리후생제도': 3120, '네트워크진단사례': 3121, '도매': 3122, '사외공사장': 3123, '대처능력': 3124, '리포트': 3125, '숨겨진': 3126, '사춘기': 3127, '이해해야': 3128, '케이티즈온더블럭아이폰세일즈': 3129, '구문': 3130, '두뇌': 3131, '뇌가': 3132, '인지하는': 3133, '법칙이': 3134, '강점': 3135, '국제망': 3136, 'ai사례실습ai를': 3137, '안전모': 3138, '이미지검출': 3139, '우수': 3140, '전체설명': 3141, '로그인': 3142, '리더를': 3143, '소비자': 3144, '넷플릭스시즌믹스': 3145, '고요금제': 3146, '유치유지': 3147, '포렌식': 3148, '자동차회사': 3149, 'ai로보틱스': 3150, '김범준': 3151, '일러스트캐릭터': 3152, '처음': 3153, '집최유진': 3154, '아카데미': 3155, '팀원은': 3156, '스타일을': 3157, '닮는다': 3158, '찌르레기': 3159, '군무의': 3160, '대차평형이론과': 3161, '홈트레이닝': 3162, '표준형견적실제': 3163, '인사제도의': 3164, '대용량설정': 3165, '중계': 3166, '시스템역할': 3167, '전송기술': 3168, '인터프리터': 3169, '방식컴파일러': 3170, '슈퍼체인지': 3171, '채널': 3172, '계산하기': 3173, '자금조달': 3174, '상품세일즈': 3175, '강좌간결한': 3176, '스크립트': 3177, '수배전': 3178, '내장': 3179, '체계적': 3180, '피라미드': 3181, '사랑의': 3182, '마법의': 3183, '망프로토콜': 3184, '인디자인이미지': 3185, '기초가': 3186, '거래의': 3187, '일어날까': 3188, '칭찬나쁜': 3189, '슈퍼콤비네이션': 3190, 'ai아파트주택': 3191, '유선상품의': 3192, '조선시대': 3193, '마라톤': 3194, '선수가': 3195, '지치지': 3196, '않고': 3197, '달리려면': 3198, 'ai로봇이': 3199, '현대중공업': 3200, '사업협력': 3201, '전남전북영업': 3202, '높은': 3203, '상권': 3204, '화웨이': 3205, '줄': 3206, '정리의': 3207, '많이': 3208, '세계는': 3209, '유사하다는': 3210, '행복에': 3211, '한발': 3212, '다가서는': 3213, '팀장이': 3214, '되면': 3215, '식상해지는': 3216, '더원컴퍼니': 3217, '가게정보알림메시지': 3218, '소개자료': 3219, '만들어지는가': 3220, '기발한': 3221, '필요하다면': 3222, '연동구조': 3223, '앱': 3224, '기업인터넷전화': 3225, '어장이': 3226, '마르기': 3227, '전에': 3228, '물고기를': 3229, '길러라': 3230, '구성하는': 3231, '네이비씰': 3232, '승리의': 3233, '차트를': 3234, '행과': 3235, '열의': 3236, '공유': 3237, '반복': 3238, '트러블슈팅에러코드': 3239, '충청': 3240, '목차': 3241, '부서이동과': 3242, '강자': 3243, '만랩': 3244, '전신운동': 3245, '하체': 3246, '몸을': 3247, '광중계기': 3248, '유무선복합': 3249, '강화무선역량차': 3250, '영업전략': 3251, '업셀링하향방어': 3252, '조합의': 3253, '성화긴급복': 3254, '에서의': 3255, '음성호': 3256, '우수사례경쟁사': 3257, '우세': 3258, '지역에서의': 3259, '공략으로': 3260, '외부': 3261, '논리': 3262, '연료전지': 3263, '작업일보': 3264, '협업을': 3265, '가을이': 3266, '오면': 3267, '천고마비': 3268, '가망고객': 3269, '벗어나는': 3270, '마인드': 3271, '매일': 3272, '휴대폰은': 3273, '주고받을까요': 3274, '사용과': 3275, '메소드': 3276, 'k에듀엔지니어': 3277, '아마존처럼': 3278, '경청하고': 3279, '인정하라': 3280, '트래픽공통': 3281, '종류k에듀': 3282, '가설수립': 3283, '탐색하기': 3284, '강의개요': 3285, '객체': 3286, '탄생': 3287, '안테나의': 3288, '일본': 3289, '다치기': 3290, '시르면': 3291, '닥치고': 3292, '준비운동': 3293, '강재무제표': 3294, '랜덤액세스': 3295, '데이터전송절차': 3296, '타겟고객': 3297, '아웃바운드': 3298, '유선차상권영업활동': 3299, '기업전용': 3300, '잠자는': 3301, '숲': 3302, '공주는': 3303, '행복했을까': 3304, '창의력': 3305, '단번에': 3306, '코리언트': 3307, '실전고수의': 3308, '강북강원본부': 3309, '친구사이': 3310, '무선결합': 3311, '변형하기': 3312, '매출누락': 3313, '세무위험': 3314, '집합': 3315, '튜플': 3316, '감리': 3317, '해야하는': 3318, '숨은': 3319, '탈출하기': 3320, '해석': 3321, '상': 3322, '직업능력개발훈련이란': 3323, '공략법': 3324, '공통역량차센스': 3325, '사전체크': 3326, '첫번째': 3327, '최저임금': 3328, '연령대별': 3329, '미래의': 3330, '플랫폼시스템': 3331, '이후': 3332, '인적자원관리': 3333, '또': 3334, '최적의': 3335, '사소한': 3336, '조직에서': 3337, '심리적으로': 3338, '안전하신가요': 3339, '복합세일즈': 3340, '없다고': 3341, '차를': 3342, '만드나': 3343, '리뉴얼': 3344, '발전과': 3345, '친해지기': 3346, '문자열을': 3347, '입맛대로': 3348, '강의': 3349, '산업단지': 3350, '바로견적견적템플릿': 3351, '방식의': 3352, '전송전달망의': 3353, '진화과정': 3354, '전송망별': 3355, '장비소개': 3356, '맛': 3357, '실제': 3358, '기회': 3359, '부터': 3360, '초경량비행장치': 3361, '기록': 3362, '생각하는': 3363, '표준형견적거리': 3364, '원가의': 3365, 'k에듀왓칭스쿨기업메시징영업스킬': 3366, '코위버시스템': 3367, '고고객유치': 3368, '유지율': 3369, '방어': 3370, '프리랜서': 3371, '동기부여': 3372, '숫자': 3373, '논리값': 3374, '백업': 3375, '바로견적시뮬레이션': 3376, '손익계산서의': 3377, '영업관련': 3378, '상위': 3379, '퍼센트의': 3380, '운동법': 3381, '아웃사이드': 3382, '이동통신': 3383, '경보': 3384, '세부항목': 3385, '파일을': 3386, 'rpa를': 3387, '활용한조회': 3388, '자동화김남윤': 3389, '바로견적고객정보입력': 3390, '소통의': 3391, '소규모': 3392, '전력중개사업': 3393, '뉴욕타임스는': 3394, '살아남았을까': 3395, 'k에듀과정': 3396, '회수': 3397, '소방안전서비스': 3398, '수행감리': 3399, '핸드북': 3400, '팀은': 3401, '벽체선': 3402, '창문': 3403, '삶을': 3404, '랑톡서비스': 3405, '개요와': 3406, '양방향': 3407, '예약': 3408, '알리미': 3409, '초등학생': 3410, '사례정교한': 3411, '영업활성화': 3412, '빠진': 3413, '처리하는': 3414, '정의와': 3415, '장': 3416, '보고서란': 3417, '갚아야': 3418, '채무': 3419, '표준형견적표준형공사비': 3420, '경쟁에서': 3421, 'k에듀왓칭스쿨중소법인': 3422, '통신상품패키지': 3423, '활용통한': 3424, '수납율향상': 3425, '휴먼': 3426, '유연평가': 3427, '모듈': 3428, '키우는': 3429, '존': 3430, '프로파일링': 3431, '통합오퍼링': 3432, '주제': 3433, '발견하기': 3434, '사람만이': 3435, '손에': 3436, '넣는': 3437, '이동성': 3438, '카테크': 3439, 'k에듀슈퍼카드로': 3440, '돈벌자': 3441, '세금관리부가세': 3442, '잠깐': 3443, '이곳에서': 3444, '통화가': 3445, '안된다구요': 3446, '협상': 3447, '승인이': 3448, '재견적': 3449, '계약서서명': 3450, '계약공사희망일': 3451, '효율적인': 3452, '전기': 3453, '책쓰기의': 3454, '개': 3455, '관문': 3456, '진정성': 3457, '분석의': 3458, '유선역량차상권영업활동': 3459, '시즌할리스': 3460, '뱅크': 3461, '스마트통장': 3462, '활용하라': 3463, '지사장': 3464, '생각의': 3465, '배우기': 3466, '영감을': 3467, '마중': 3468, '나가라': 3469, '사회적': 3470, '반항에': 3471, '상을': 3472, '주어라': 3473, '머신러닝을': 3474, '말하기': 3475, '관계가': 3476, '술술': 3477, '풀리는': 3478, '유선역량차유선채널': 3479, '협업시너지': 3480, '세일즈팁': 3481, '조': 3482, '흔들': 3483, '삼국지가': 3484, '시작됐다': 3485, '인자들의': 3486, '아마존추격전': 3487, '관리하라': 3488, '동선로': 3489, '고장위치측정기': 3490, '한계': 3491, '인센티브': 3492, '주고도': 3493, '욕먹는': 3494, '따라': 3495, '나홀로': 3496, '혼자일까': 3497, '플랫폼은': 3498, '버는가': 3499, '아이디어의': 3500, '단말교체프로그램': 3501, '하이브': 3502, '비용항목': 3503, '세금위험': 3504, '전략수립': 3505, '이벤트의': 3506, '이해김남윤': 3507, '통합계약': 3508, '확장': 3509, '작명권을': 3510, '함부로': 3511, '허하지': 3512, '말라': 3513, '상상력': 3514, '무역산업의': 3515, '상거래': 3516, '하': 3517, '찾아서': 3518, '쉰들러': 3519, '엘리베이터': 3520, '수주사례발표': 3521, '미래에': 3522, '겸손하라': 3523, '융합보안실증센터': 3524, '보안서비스': 3525, '목표를': 3526, '주는': 3527, '필요하다': 3528, '웹페이지': 3529, '어르신대상': 3530, '최신폰고': 3531, '등록과': 3532, '현금영수증': 3533, '미래보고서': 3534, '무선망의': 3535, '팔만대장경이': 3536, '나라를': 3537, '구했을까': 3538, '찰스': 3539, '경쟁에': 3540, '오해': 3541, '잃어버린': 3542, '포석정에': 3543, '식민사관': 3544, '커버리지': 3545, '단어가': 3546, '당신을': 3547, '말해준다': 3548, '도': 3549, '투자한': 3550, '데이터브릭스': 3551, '사람도': 3552, '우위': 3553, '선로와': 3554, '상관분석': 3555, '콘셉트': 3556, '사라진다': 3557, '예측을': 3558, '해보자': 3559, '구결합': 3560, '데이터센터등급': 3561, '장기고객': 3562, '할인': 3563, '순간을': 3564, '회사에서': 3565, '당당하게': 3566, '인바운드마케팅': 3567, '회계의': 3568, '실적공개': 3569, '활용서비스': 3570, '극대화를': 3571, '기초에서': 3572, '까지': 3573, '빅': 3574, '신경을': 3575, '끄면': 3576, '행복해': 3577, '승리하는': 3578, '수집하기': 3579, '자율협력주행과': 3580, '위주': 3581, '역할': 3582, '거꾸로': 3583, 'ai개발': 3584, '오픈랩': 3585, '실전고수': 3586, '부산경남본부': 3587, '무선단말': 3588, '무서랜': 3589, '신호측정': 3590, '채널간섭패킷분석': 3591, '우수사례상권마스터': 3592, '취미가': 3593, '모의훈련': 3594, '가치가': 3595, '기가오피스의': 3596, '생각을': 3597, '순환운동': 3598, '인플루언서': 3599, '한국의': 3600, '손익계산서로': 3601, '영업비관련': 3602, '망정책': 3603, '실전패킷': 3604, '핀셋영업기회발굴': 3605, '신비키즈폰': 3606, '이상치': 3607, '직류시설': 3608, '채널컨텐츠고객': 3609, '숨은니즈': 3610, '탐색고객': 3611, '다스리지': 3612, '다스림': 3613, '버핏': 3614, '발행': 3615, '경영': 3616, '리니지으로': 3617, '부활한': 3618, '엔씨': 3619, '다음은': 3620, '무엇일까': 3621, '로봇산업': 3622, '전망과': 3623, '로봇사업': 3624, '복합': 3625, '무선역량차대리점': 3626, '손익': 3627, '고객과의': 3628, '계약에서': 3629, '생기는': 3630, '세금관리원천세': 3631, '비교연산자': 3632, '공중선': 3633, '지혜': 3634, '대구경북컨설팅': 3635, '유선분야': 3636, '원격감리': 3637, '사용요령': 3638, '강남서부영업': 3639, '경진대회': 3640, '벽': 3641, '관계에': 3642, '후를': 3643, '내다보는': 3644, '쥘': 3645, '베른': 3646, '메이커': 3647, '목표': 3648, '확인사항가지': 3649, '중국': 3650, '문화대혁명이': 3651, '없었다면': 3652, '안전한': 3653, 'k에듀에게': 3654, '플랜를': 3655, '가동하라': 3656, '리드': 3657, '호프먼': 3658, '직관적': 3659, '의사결정에서': 3660, '주의해야': 3661, '프레임워크': 3662, '부모다': 3663, '아이핑거개구리': 3664, '뱃살': 3665, '타파를': 3666, '회귀': 3667, '홈트': 3668, '수료보고': 3669, '인정신청과': 3670, '변경신고': 3671, '팩토리': 3672, '업의': 3673, '창업지원센터': 3674, '두번째': 3675, '채권의': 3676, '소멸시효와': 3677, '기본설정': 3678, '밥법': 3679, '훈련영상': 3680, '세금관리법인세소득세': 3681, 'ai서빙로봇우수사례': 3682, '부산경남컨설팅': 3683, '폴더': 3684, '위치와': 3685, '출입통제관리': 3686, '잘근잘근': 3687, '수주공략': 3688, '쉽고': 3689, '끄는': 3690, '사업관리': 3691, '국제회계기준': 3692, '좋아요에': 3693, '중독되는가': 3694, '슈퍼맨은': 3695, '미국에': 3696, '나타났을까': 3697, '자녀의': 3698, '인간이다': 3699, '평면도자재': 3700, '평면도기본': 3701, '매장과': 3702, '상권을': 3703, '살린': 3704, '아이피피': 3705, '범주형': 3706, '자료의': 3707, '의미까지': 3708, '반값초이스를': 3709, '활용한세일즈': 3710, '우리넷자동화': 3711, '현장훈려': 3712, '근로계약종료': 3713, '퇴직금': 3714, '기초상식': 3715, '모드와': 3716, '호텔': 3717, '시장의': 3718, '포트폴리오': 3719, '퇴거전략': 3720, '에서': 3721, '직원행동주의': 3722, '적게': 3723, '자도': 3724, '피곤할': 3725, '청소에': 3726, '철학적': 3727, '집단지성의': 3728, '가치와': 3729, '민주주의': 3730, '충실한가': 3731, '프로젝트와': 3732, '영업무기오피스넷': 3733, '무선업셀링혜택을': 3734, '클로징': 3735, '우수사례신': 3736, '바람': 3737, '액션': 3738, '약정할인반환금': 3739, '저축은행': 3740, '밸류체인': 3741, '데이터기반': 3742, '사투리를': 3743, '고치시겠습니까': 3744, '비버': 3745, '대상': 3746, '명장': 3747, '신천옹': 3748, '엄마': 3749, '삼만': 3750, '리': 3751, '거리는': 3752, '자녀에게': 3753, '평면도감지기': 3754, '모바일개선': 3755, '고도화에': 3756, '이용가이드': 3757, '정보통신감리원': 3758, '인정교육': 3759, '인터넷지킴이': 3760, '센터와': 3761, '서비스리텐션': 3762, '과학적': 3763, '간단한': 3764, '스크래핑': 3765, '업무용차량일지': 3766, '자동등록': 3767, '유통리더의': 3768, '일터만들기': 3769, '빌링': 3770, '분석리포트': 3771, '도형': 3772, '접근': 3773, '해결': 3774, '지금은': 3775, '모순을': 3776, '끌어안으라회장': 3777, '원고투고': 3778, '출고하기': 3779, '오늘은': 3780, '먹을까': 3781, '빅브라더': 3782, '매몰비용과': 3783, '행동향': 3784, '공유소비': 3785, '재무안정성': 3786, '평가지표': 3787, '생각하는영업슈퍼렌탈': 3788, '우수사례에너지': 3789, '대하여': 3790, '기지국': 3791, '바꿔볼까요': 3792, '미루기는': 3793, '일일까': 3794, '신인증': 3795, '서비스이해': 3796, '쟁기': 3797, '쿡': 3798, '다양한': 3799, '결정하는': 3800, '전송업무': 3801, '전송기본이론': 3802, '그룹시너지그룹사': 3803, '맞는': 3804, '피곤한': 3805, '문서를': 3806, '검색하기': 3807, '실시신고와': 3808, '확정자신고': 3809, '상담내역기반유형예측': 3810, '이익률': 3811, '잘되는': 3812, '판잘하는': 3813, '사의와': 3814, '로봇레퍼런스': 3815, '각': 3816, '나우리': 3817, '추구하는': 3818, '동기가': 3819, '다르다': 3820, '기지국물량등록': 3821, '포함': 3822, '구조의': 3823, '동기를': 3824, '활용할': 3825, '악성메일': 3826, '코어기술': 3827, '세계에서': 3828, '주류기업은': 3829, '친구와': 3830, '적의': 3831, '우리나라의': 3832, '유행': 3833, '관계를': 3834, '내방을': 3835, '유도하는': 3836, 'k에듀폰': 3837, '활용분야': 3838, '시설과': 3839, '품질고객': 3840, '강북강원영업': 3841, '기하학이': 3842, '난공불락의': 3843, '요새': 3844, '소통과': 3845, '혁신사례발굴': 3846, '노하우수도권서부본부': 3847, '결정을': 3848, '회장의': 3849, '늑대': 3850, '영어는': 3851, '국제': 3852, '언어가': 3853, '되었나': 3854, '친구관계의': 3855, '바뀌는': 3856, '정보수집': 3857, '설계자들': 3858, '광역본부주도': 3859, '경영과학화': 3860, '캠페인개요': 3861, '발전': 3862, '연동': 3863, '분석전기전자산업': 3864, '인빌딩': 3865, '점검': 3866, '박자를': 3867, '맞춰라': 3868, '시각적': 3869, '말투': 3870, '폰트의': 3871, '정치': 3872, '영화': 3873, '유행과': 3874, '전염패턴': 3875, '웹사이트에서': 3876, '스팸분류': 3877, '재미로보는ai관상서비스': 3878, '머신러닝불성실': 3879, '납부고객': 3880, '영업무기': 3881, '통합전산매뉴얼': 3882, '공동이용': 3883, '로봇소개': 3884, '로봇별': 3885, '구성도와': 3886, '연결도': 3887, '초보': 3888, '정류기': 3889, '기초선로시설유지보수': 3890, '새': 3891, '의제가': 3892, '조직과': 3893, '인적자원의': 3894, '선발의': 3895, '무병장수': 3896, '원한다면': 3897, '도시시골': 3898, '하비들을': 3899, '공통역량차': 3900, '시장환경의': 3901, '투자의사결정모형': 3902, '코어특징이해': 3903, '학습플랫폼': 3904, '지니어스': 3905, '달성으로': 3906, '경품재약정고객': 3907, '전산기법': 3908, '트레이닝의': 3909, '전송전용': 3910, '사로잡자': 3911, '빠르고': 3912, '입력하기': 3913, '알고리즘은': 3914, '인간을': 3915, '회의하라': 3916, '컨텐츠': 3917, '클래스의': 3918, '피드': 3919, '보내기': 3920, '무선무선망의': 3921, '보고서의': 3922, '진행을': 3923, '년변경안': 3924, '분석제약': 3925, '바이오': 3926, '이해ai': 3927, '냉방기': 3928, '불확실성에': 3929, '대비하는': 3930, '조직의': 3931, '관점에서': 3932, '알아보는절차와기초': 3933, '생각해보고': 3934, '하면': 3935, '호리에': 3936, '다카후미': 3937, '좋아지고': 3938, '나빠지고': 3939, '휘둘리니까': 3940, '허리': 3941, '말자': 3942, '퍼펙트한': 3943, '강세무용어': 3944, '제공': 3945, '파이토치': 3946, '일어나는가': 3947, '복원': 3948, '능력을': 3949, '슈퍼안심리텐션': 3950, '평균대': 3951, '위에': 3952, '태그': 3953, '스타일': 3954, '강퇴직금': 3955, '실습오퍼꾸러미': 3956, 'ai비즈니스': 3957, '애널리틱스': 3958, '강금석': 3959, '품격을': 3960, '신호별': 3961, '보안장비': 3962, '뿌리부터': 3963, '기술적': 3964, '새해': 3965, '라멘에는': 3966, '통증을': 3967, '크롤링하기': 3968, '직업능력개발훈련': 3969, '본학습': 3970, '유전자': 3971, '과부하': 3972, '교체': 3973, '인과관계를': 3974, '파악할': 3975, '매트릭스': 3976, '너머': 3977, '부채와': 3978, '영상제작법': 3979, '시그널': 3980, '숨만': 3981, '피로가': 3982, '전부다': 3983, '활용차': 3984, '소매매장': 3985, '투이어스': 3986, '관저점': 3987, '임베딩': 3988, 'ai음성인식': 3989, '장준혁': 3990, '리스크의': 3991, '과학': 3992, '고객사유출동비': 3993, '유료화': 3994, '구내': 3995, '싶다면': 3996, '셋팅': 3997, '절체': 3998, '무선망요구사항': 3999, '구체적인': 4000, '모델을': 4001, '갖고': 4002, '생각하자': 4003, '대구': 4004, 'ai을': 4005, '실시간': 4006, '장애인지': 4007, '품질진단': 4008, '도대체': 4009, '애자일인가': 4010, '관직에': 4011, '오른': 4012, '장애인은': 4013, '유행어의': 4014, '뜻은': 4015, '오늘': 4016, '먹은': 4017, '음식이': 4018, '컨디션을': 4019, '결정한다': 4020, '소중한': 4021, '어깨': 4022, '올레': 4023, '노하우블로그': 4024, '공유모델과': 4025, '영업제휴카드': 4026, '품질의': 4027, '품질측정장비': 4028, '행정': 4029, '진단조치': 4030, 'ai자연어처리': 4031, '죄와': 4032, '신입사원도': 4033, '완결영업': 4034, '문서의': 4035, '마음의': 4036, '메모': 4037, '흡수': 4038, '능력': 4039, '기르기': 4040, '전략적': 4041, '사고에': 4042, '작심삼일': 4043, '근육': 4044, '글을': 4045, '수요예측': 4046, '주택': 4047, '인젝션': 4048, '강세무이슈': 4049, '인생을': 4050, '기본을': 4051, '잡자문서': 4052, '작성의': 4053, '발전사업의': 4054, '국사최적화': 4055, '강북k에듀의대동맥': 4056, '통신시설의': 4057, '일상점검': 4058, '수정': 4059, '중간삽입': 4060, '초기접속절차의': 4061, '터치': 4062, '팁': 4063, '과잉': 4064, '만성': 4065, '피로에': 4066, '대처하는': 4067, '팔리는': 4068, '신뢰의': 4069, '모델학습까지': 4070, '인간의': 4071, '섞고': 4072, '버무리면': 4073, '보인다': 4074, '금융자산의': 4075, '만들자': 4076, '집중하라': 4077, '파헤치기': 4078, '지역노드': 4079, '투자설계': 4080, '경계': 4081, '닭도리탕과': 4082, '닭볶음탕의': 4083, '자동이체': 4084, '확대를': 4085, '갤럭시을': 4086, 'k에듀에서': 4087, '구매해야': 4088, '코위버노드': 4089, '추가삭제': 4090, '업셀링신규': 4091, '성장과': 4092, '거대한': 4093, '재무디자인': 4094, '상수': 4095, '표로': 4096, '함수의': 4097, '과학을': 4098, '관리하다': 4099, '스타인': 4100, '문제': 4101, '해결의': 4102, '찾자': 4103, '기술동향': 4104, '주식배당': 4105, '업무에': 4106, '수식으로': 4107, '셋업절차서': 4108, '옵션': 4109, '이슈들': 4110, '고객경험혁신': 4111, '단맛과': 4112, '쓴맛의': 4113, '커피를': 4114, '마실까': 4115, '크롤링의': 4116, '법인의': 4117, '설립과': 4118, '주식의': 4119, '경제전망': 4120, '부의': 4121, '영업당근마켓': 4122, '다이렉트': 4123, '동작이해': 4124, '가입형': 4125, '평균사용개월수': 4126, '성장하기': 4127, '신입입문과정결합상품': 4128, '꿀벌과': 4129, '게릴라': 4130, '미사용고객': 4131, '정적': 4132, '단서': 4133, '메모법': 4134, '중복': 4135, '타사혜택고객': 4136, '앙트러프러너가': 4137, '진출사례': 4138, '간하게': 4139, '문서': 4140, '자동화하기': 4141, '뉴노멀': 4142, '인포그래픽을': 4143, '넘어': 4144, '대재앙': 4145, '발명품': 4146, '남들': 4147, '앞에만': 4148, '서면': 4149, '떨릴까': 4150, '공부한다': 4151, '독자를': 4152, '시대와': 4153, '이것만은': 4154, '이성과': 4155, '위비스사용법': 4156, '전용운용': 4157, '오만과': 4158, '견': 4159, '미종료시': 4160, '대처방안': 4161, '통신장비': 4162, '신입사원의': 4163, '눈으로': 4164, '동기신호망': 4165, '알아서': 4166, '해킹': 4167, '장애처리와': 4168, '협업대전지사': 4169, '작전연구의': 4170, '원조': 4171, '티버톤과': 4172, '애플야드': 4173, '설명왕': 4174, '데이터집과': 4175, '서식지정하기': 4176, '부탁해': 4177, '대용량쉽게': 4178, '눈을': 4179, '내릴까': 4180, '납작': 4181, '엉덩이를': 4182, '힙': 4183, '가시나는': 4184, '만리장성에서': 4185, '유래됐다': 4186, '리함의': 4187, '역습이': 4188, '시작되다': 4189, '살아서도': 4190, '죽어서도': 4191, '영원한': 4192, '쓰임': 4193, '선형': 4194, '결정할': 4195, '자산과': 4196, '주가배수모형': 4197, '의사결정': 4198, '음성': 4199, '특화': 4200, '이동통신보안의': 4201, '긴급본': 4202, '황무지': 4203, '신입입문과정제휴카드': 4204, '피크': 4205, '있는통계': 4206, '분석활용하기': 4207, '기업메시징': 4208, '직접모듈': 4209, '트레이닝이': 4210, '케이블': 4211, '프로세스의': 4212, '선구자': 4213, '모우리젭슨': 4214, '엑셀차트로': 4215, '조직구조의': 4216, '실행과': 4217, '교환': 4218, '기반한': 4219, '세기가': 4220, '인적자원과': 4221, '과제': 4222, '재무제표의': 4223, '종류와': 4224, '개별연결': 4225, '공간이': 4226, '바뀌면': 4227, '바뀐다': 4228, '비즈니스를': 4229, '해결하는': 4230, '생각정리의': 4231, '기본원리': 4232, '몸은': 4233, '바뀌지': 4234, '태조': 4235, '이성계는': 4236, '파란': 4237, '곤룡포를': 4238, '입었나': 4239, '동물의': 4240, '지배자': 4241, '결말은': 4242, '말로': 4243, '그렇게': 4244, '어렵니': 4245, '경쟁전략': 4246, '제프': 4247, '자기통찰': 4248, '설명서': 4249, '운영스킬': 4250, '제로투원': 4251, '기본세팅': 4252, '인증기록': 4253, '생성자와': 4254, '소멸자': 4255, '찐': 4256, '워크숍': 4257, '대응하는': 4258, 'ai강연희': 4259, 'ai공략을': 4260, 'ai사용법': 4261, '송출': 4262, '코위버': 4263, '백본망': 4264, '심층분석': 4265, '기초부터': 4266, '손상과': 4267, '메모로': 4268, '뒤흔든': 4269, '위인들': 4270, '리한': 4271, '차이를': 4272, '따로': 4273, '같이': 4274, '보상': 4275, '크롤링에': 4276, '선물은': 4277, '도자기': 4278, '엇갈린': 4279, '운명': 4280, '결코': 4281, '안녕할': 4282, '다중': 4283, '라인': 4284, '코드에': 4285, '디버깅': 4286, '크리에이터가': 4287, '되고': 4288, '싶어': 4289, '인적자원관리의': 4290, '메뉴얼': 4291, '유선역량차상권분석': 4292, '인터페이스': 4293, '스몰': 4294, '자이언츠가': 4295, '실수': 4296, '상속과': 4297, '다형성': 4298, '멤버사용': 4299, '보고하기': 4300, '누락': 4301, '신기술': 4302, '현금흐름표로': 4303, '실질적인': 4304, '자금의': 4305, '가독성': 4306, '빅뱅의': 4307, '탈환': 4308, '구조화': 4309, '레이아웃과': 4310, '설정하기': 4311, '관리의': 4312, '사채': 4313, '부모의': 4314, '선풍기를': 4315, '켜고': 4316, '자면': 4317, '정말': 4318, '큰일': 4319, '날까': 4320, '미니멀리즘': 4321, '습관의': 4322, '디테일': 4323, '케라스로': 4324, '권매가': 4325, '어려운': 4326, '이유와': 4327, '해결방안': 4328, '세일즈쎄쎄쎄': 4329, '탄소중립에': 4330, '아십니까': 4331, '논리연산자': 4332, '길이': 4333, '태양광발전의': 4334, '제안수행': 4335, '컴플라이언스점검계획': 4336, '수행단계별': 4337, '설명한무선망': 4338, '조건문다양한': 4339, '발전을': 4340, '이끄나': 4341, '강북환경에서의': 4342, '접지의': 4343, '강남': 4344, '찾는': 4345, '차세대': 4346, '몰입형': 4347, '고전적인': 4348, '시각의': 4349, '공모전': 4350, '능력에': 4351, '뇌도': 4352, '방귀를': 4353, '낀다고': 4354, '천재들이': 4355, '뻔한': 4356, '속임수에': 4357, '넘어가는': 4358, '상비들을': 4359, '상체': 4360, '얼굴의': 4361, '플라스틱': 4362, '자기계발서는': 4363, '뻔하다고': 4364, '베조스': 4365, '세상에는': 4366, '기본에': 4367, '달성하는': 4368, '오리지널스': 4369, '이해하자': 4370, '영업무기센트릭스': 4371, '신규전산': 4372, '유선역량차기축': 4373, '기업고객장애대응': 4374, '개통진행정보조회': 4375, '사용안내': 4376, '분석호처리': 4377, 'k에듀디즈니': 4378, '함수에서': 4379, '에러가': 4380, '발생하는': 4381, '양날의': 4382, '다른가': 4383, '객관적인': 4384, '요금고객': 4385, '기록의': 4386, '결과를': 4387, '선행변수': 4388, '집하기': 4389, '수배전도': 4390, '전원': 4391, '수용과정': 4392, '인공지능을': 4393, '사후관리': 4394, '타입변환': 4395, '나에게': 4396, '남부': 4397, '비루한': 4398, '받쳐주는': 4399, '동시판매': 4400, '컷집': 4401, '영상속도': 4402, '예비자재': 4403, '무선결합고객': 4404, '예외': 4405, '클래스': 4406, '예외처리하기': 4407, '캠페인과': 4408, '미래에너지': 4409, '사업최병훈': 4410, '품질개선과': 4411, '조건으로': 4412, '결과표시하기': 4413, '시스템의': 4414, '홈인터넷': 4415, '서비스망과': 4416, '민원발생추적': 4417, '이익잉여금처분계산서와': 4418, '자본변동표': 4419, '업링크': 4420, '타이밍에': 4421, '따른커버리지': 4422, '가끔': 4423, '엉뚱한': 4424, '똑똑해질': 4425, '욕망의': 4426, '거울에': 4427, '패션을': 4428, '비추다': 4429, '세가지': 4430, '최강의': 4431, '인디자인인쇄': 4432, '실습사전체크': 4433, 'k에듀로봇': 4434, '설치과정과': 4435, '테스트': 4436, '복합연산자': 4437, '형변환': 4438, '인덱싱': 4439, '수요관리사업': 4440, '세트': 4441, '무선액세스': 4442, '친구가': 4443, '추진방향': 4444, '머신': 4445, '크라우드': 4446, '차트막대꺾은선그래프': 4447, '효과적인미니강좌': 4448, '포털': 4449, '사이트상위': 4450, '부산광케이블': 4451, '장애시간': 4452, '단축': 4453, '어바웃': 4454, '킬러': 4455, '포괄손익계산서': 4456, '스타벅스의': 4457, '이미지레이어활용': 4458, '논리사고': 4459, '군수업체가': 4460, '조리기구를': 4461, '금융자산': 4462, '포지셔닝': 4463, '불러오기': 4464, '시퀀스': 4465, '학원업종': 4466, '강남서부법인': 4467, '이코노믹스': 4468, '무엇을': 4469, '생각하는가': 4470, '총': 4471, '균': 4472, '쇠': 4473, '체크': 4474, '마이너스': 4475, '시리즈의': 4476, '이해리텐션': 4477, '고도화를': 4478, '설계요령': 4479, '인입': 4480, '표현하자': 4481, '협조공조프로세스를': 4482, '영업기회발굴고양지사': 4483, '표준': 4484, '감리원': 4485, '해지절차': 4486, '간소화': 4487, '실감미디어': 4488, '척척해결': 4489, '메모를': 4490, '시간관리의': 4491, '직책자': 4492, '우리넷': 4493, '요금문의': 4494, '기억력': 4495, '도형변형': 4496, '바꾸다': 4497, '무선시스템': 4498, '피벗테이블로': 4499, '상품목록과': 4500, '매출현황': 4501, '로봇이': 4502, '혼자': 4503, '대화를': 4504, '너와': 4505, '연결고리': 4506, '인구혁명': 4507, '상승': 4508, '하락': 4509, '삽입': 4510, '오디오': 4511, '조정': 4512, '건물지원사업': 4513, '신입입문과정모바일': 4514, '핵심요금상품': 4515, '분리하여': 4516, '변수에': 4517, '문자': 4518, '붙이기': 4519, '플랫폼네트워크': 4520, '요금조정': 4521, '품질진단을': 4522, '영업기회발굴안산지사': 4523, '애질리티를': 4524, '미래사업': 4525, '차트원형차트': 4526, '라이프를': 4527, '평가제도의': 4528, '무형자산으로서': 4529, '많은': 4530, '사람들이': 4531, '오해하고': 4532, '현주소': 4533, '효과와': 4534, '코딩인가': 4535, '스트럭쳐란': 4536, '근태관리': 4537, '선발': 4538, '성공하는': 4539, '그놈의': 4540, '워라밸': 4541, '스트레스의': 4542, '마이크로트렌드': 4543, '원스톱': 4544, '활용노하우': 4545, '대량절체': 4546, '보충강좌사규': 4547, '오이디푸스': 4548, '왕': 4549, '동향': 4550, '연금디자인': 4551, '챗봇': 4552, '직원과실': 4553, '환경변수': 4554, '로딩': 4555, '다중상속과': 4556, '이름충돌': 4557, '서서': 4558, '회의가': 4559, '능률이': 4560, '오른다': 4561, '중심적인': 4562, '쇼핑': 4563, '년의': 4564, '온라인커머스': 4565, '완성형': 4566, '운전방식의': 4567, '호남광선로': 4568, '감시회선': 4569, '구성방식': 4570, '개선을': 4571, '미칠듯한': 4572, '유혹의': 4573, '저': 4574, '신입사원': 4575, '경제적': 4576, '폭격기는': 4577, '유보트를': 4578, '시에나': 4579, '잘하는': 4580, '예방하기': 4581, '표준형견적': 4582, '사자커피': 4583, '브랜딩': 4584, '대가': 4585, '정렬': 4586, '가상화까지': 4587, '차트그림차트표': 4588, '성공': 4589, '기본개념과': 4590, '방호구축': 4591, '추진현황': 4592, '하시나요': 4593, '잠재고객': 4594, '확보를': 4595, '스트럭쳐의': 4596, '찾아라': 4597, '해봐의': 4598, '공통역량차리더의': 4599, '딥러닝을': 4600, '주가': 4601, '화폐의': 4602, '강노동법': 4603, '코넷국제허브': 4604, '기업전용서비스': 4605, '신입입문과정부가서비스': 4606, '강점으로': 4607, '이끌어라': 4608, '블루오션전략': 4609, '발견의': 4610, '문자열과': 4611, '곱하기': 4612, '변환': 4613, '제안사례': 4614, '일기': 4615, '쓰기로': 4616, '대문호가': 4617, '톨스토이': 4618, '요약영상': 4619, '친구의': 4620, '친구다': 4621, '사진을': 4622, '정년을': 4623, '앞둔': 4624, 'k에듀맨의': 4625, '다짐': 4626, '특징과': 4627, '취득원가': 4628, '회계제도': 4629, '중저가': 4630, '개통프로세스': 4631, '안전화를': 4632, '나도': 4633, '현장에서': 4634, '현실': 4635, '무관심과': 4636, '불신의': 4637, '스마트에너지에': 4638, '더한': 4639, '잼': 4640, '대량작업서를': 4641, '절체방법': 4642, '도형활용실습': 4643, '필요한가': 4644, '사이언스': 4645, '열린': 4646, '비법': 4647, '대칭키암호와': 4648, '공개키암호': 4649, '운명을': 4650, '바꾼': 4651, '의한커버리지': 4652, '제한': 4653, '세상과': 4654, '트라우마': 4655, '가지만': 4656, '준비하자': 4657, '삽입과': 4658, '바디프랜드': 4659, '활용법쎄쎄쎄': 4660, '에덴의': 4661, '동쪽': 4662, '역전의': 4663, '대화': 4664, '특이점이': 4665, '시킬': 4666, '데모': 4667, '바꾼다': 4668, '무순단': 4669, '내용을': 4670, '제목': 4671, '되나': 4672, '초전설득': 4673, '알기쉬운지출': 4674, '가슴': 4675, '뛰는': 4676, '전력품질분석기': 4677, '레포트': 4678, '기술꽃': 4679, '필': 4680, '무렵': 4681, '나은': 4682, '내일': 4683, '가치로': 4684, '연결되는전략법': 4685, '시발점': 4686, '오프라인의': 4687, '타깃': 4688, '년을': 4689, '변화시킬': 4690, '한재권': 4691, '수시청': 4692, '선수납': 4693, '사람만': 4694, '이솝': 4695, '직무위주': 4696, '하워드': 4697, '막스': 4698, '투자와': 4699, '사이클의': 4700, '쓰면서': 4701, '로직트리로': 4702, '상하체': 4703, '무조건': 4704, '대화의': 4705, '강도를': 4706, '원내비': 4707, '도착시간': 4708, '하향방어': 4709, '채권': 4710, '발행과': 4711, '메자닌': 4712, '증권을': 4713, '우선순위': 4714, '기업가치': 4715, '측정에': 4716, '컨트롤': 4717, '코어연동구조': 4718, '강법인세': 4719, '넥스트': 4720, '얕은': 4721, '복사와': 4722, '깊은': 4723, '복사': 4724, '등리더': 4725, '입니다': 4726, '가설로': 4727, '결과': 4728, '추정하기': 4729, '꿀템': 4730, '질문을': 4731, '체인저': 4732, '수배전의': 4733, '주요기기를': 4734, '부산통신화재발생': 4735, '자동신고체계': 4736, '업데이트': 4737, '컨설팅을': 4738, '인터넷을': 4739, '도형스마트아트색상': 4740, '부상': 4741, '요령': 4742, '알아도': 4743, '글잘러가': 4744, '청구수미납': 4745, '다양성': 4746, '가정': 4747, '기초교육': 4748, '손익정보': 4749, '손익의': 4750, '구분과': 4751, '주식발행과': 4752, '잉여금을': 4753, '워치': 4754, '디바이스': 4755, '스마트에너지플랫폼': 4756, '통화용스위치': 4757, '업그레이드': 4758, '리부팅': 4759, '우리매장핫딜': 4760, '주홍글자': 4761, '모르면서': 4762, '척': 4763, '정체': 4764, '후속방안': 4765, '가변인자와': 4766, '정의되지': 4767, '인자처리': 4768, '호텔의': 4769, '높이다': 4770, '입문를': 4771, '고장처리': 4772, '고비가': 4773, '찾아오면': 4774, '견뎌야': 4775, '협업의': 4776, '칭찬하는': 4777, '비교되는': 4778, '공무자': 4779, '공식': 4780, '인터넷에': 4781, '접속하면': 4782, '일이': 4783, '성공이': 4784, '실패를': 4785, '채널코딩': 4786, '설계툴시작': 4787, '네트워크보안': 4788, '튜닝': 4789, '통찰력': 4790, '간의': 4791, '관계와': 4792, '주석': 4793, '모집과': 4794, '기본적인': 4795, '분류하는': 4796, '확인하기': 4797, '백': 4798, '세까지': 4799, '건강한': 4800, '무릎을': 4801, '창고': 4802, '평생': 4803, '써먹는': 4804, '핵무기': 4805, '단말교체': 4806, '프로그램슈퍼체인지슈퍼찬스': 4807, '금융의': 4808, '블록체인기술': 4809, '씨엘자동화': 4810, 'ai에': 4811, '신입입문과정인터넷': 4812, '즐거움': 4813, '자서전': 4814, '기본과정': 4815, '수열': 4816, '람다속성과이터레이터': 4817, '가변형과': 4818, '불변형': 4819, '글쓰기를': 4820, '실습송민정': 4821, '대전환의': 4822, '스토리지': 4823, '컬러를': 4824, '소수가': 4825, '지켜낸': 4826, '불씨': 4827, '신문': 4828, '개척자들': 4829, '이미지배경제거표지활용': 4830, '바퀴의': 4831, '반란': 4832, '마이크로': 4833, '인터넷속도': 4834, '품질향상': 4835, '손으로': 4836, '독서': 4837, '초서': 4838, '자존감': 4839, '모듈을': 4840, '사용해서': 4841, '빌링이해하기': 4842, '다가온': 4843, '인간관계론': 4844, '배려적': 4845, '고객원인': 4846, '보스톤': 4847, '주택가격': 4848, '예측하기': 4849, '미디어로그기반': 4850, '장르추천': 4851, '포맷과': 4852, '홈탐지회피': 4853, '티저영상': 4854, '레퍼런스청초수물회': 4855, '시간': 4856, '진화하는': 4857, '디지로그': 4858, '도사용법': 4859, '사용설명서': 4860, '재활용의정부지사': 4861, '역량혁신': 4862, '페스티벌': 4863, '이슈': 4864, '전달력을': 4865, '스미싱': 4866, '설계툴소개': 4867, '설계툴기지국': 4868, '해석결과': 4869, '턴어라운드의': 4870, '전제': 4871, '샤넬': 4872, '잠재력을': 4873, '깨우는': 4874, '향기': 4875, '숙박': 4876, '현장적응기': 4877, '개인기량': 4878, '글': 4879, '잘쓰는': 4880, '자유로운': 4881, '이기주의자': 4882, '도입': 4883, '가입전환': 4884, '통화량': 4885, '광학문자인식': 4886, '스팸차단': 4887, '웹구축': 4888, '자본비용의': 4889, '측정과': 4890, '지속가능성': 4891, '케이뱅크': 4892, '체크카드': 4893, '제휴': 4894, '유튜브': 4895, '퇴계문선': 4896, '군주론': 4897, '문자의': 4898, '아스키': 4899, '코드값을': 4900, '얻고': 4901, '운용자': 4902, '어린이집예비군': 4903, '피드백': 4904, '파괴자에': 4905, '관제': 4906, '수준': 4907, '미니강좌스킬': 4908, '바디랭귀지': 4909, '김대리도': 4910, '도식화는': 4911, '생명이다': 4912, '도식화': 4913, '표현': 4914, '에어비앤비의': 4915, '등의': 4916, '랜섬웨어': 4917, '꿰뚫기': 4918, '스포츠': 4919, '나이키': 4920, '신화의': 4921, '고객관계에': 4922, '세일즈포스의': 4923, '패턴이': 4924, '생각나지': 4925, '않을': 4926, '때는': 4927, '잔인한': 4928, '독이다': 4929, '완화하는': 4930, '하버드의': 4931, '망가뜨리는': 4932, '잘못된': 4933, '기타포괄손익': 4934, '측위환경분석을': 4935, '측위방식': 4936, '모바일인터넷해지예측모델링': 4937, '메시징': 4938, '시계열': 4939, '매장의': 4940, '직원관리': 4941, '장비의': 4942, '융합과': 4943, '이동통신기술': 4944, '국제표준': 4945, '검색방법': 4946, '무선번호전환': 4947, '간적용': 4948, '신입입문과정키즈랜드': 4949, '욕망이라는': 4950, '이름의': 4951, '전차': 4952, '것들은': 4953, '다를까': 4954, '지정': 4955, '출력': 4956, '타입': 4957, '문자열간에': 4958, '인포그래픽의': 4959, '이중화': 4960, '개념파괴': 4961, '기가오피스': 4962, '개통의': 4963, '정석': 4964, '강약조절로': 4965, '청중을': 4966, '발전설비': 4967, '턴어라운드': 4968, '초격차를': 4969, '혁신전략': 4970, '노키아': 4971, '수직계열화': 4972, '기업고객전용': 4973, '루이비통': 4974, '말발굽': 4975, '소리를': 4976, '가방에': 4977, '담다': 4978, '재난문자와': 4979, '위치측위': 4980, '전략실행의': 4981, '프로세스와': 4982, '부문': 4983, '현장전문가의': 4984, '다짐과': 4985, '포부': 4986, '폭발적인': 4987, '노출을': 4988, '효과적': 4989, '생각정리': 4990, '상관값에': 4991, '관계성': 4992, '가상분석': 4993, '도사용하기': 4994, '포텐셜': 4995, '가구내영업기회발굴': 4996, '세일즈포인트': 4997, '사람에': 4998, '집중한다': 4999, 'k에듀북부': 5000, '백본망은': 5001, '구성되어': 5002, '상점': 5003, '재약정을': 5004, '연계': 5005, '무상증자': 5006, '액면분할의': 5007, '사고가': 5008, '필요할': 5009, '로직트리': 5010, '반복문의': 5011, '금수저문': 5012, '문사용': 5013, '작업하자': 5014, '이미지다운캡쳐': 5015, '발전기': 5016, '응급조치': 5017, '안전수칙': 5018, '영상출력': 5019, '구현': 5020, '브랜드는': 5021, '플랫폼이다': 5022, '재활용과': 5023, '즉석': 5024, '운영지속성': 5025, '도구와': 5026, '스트럭쳐를': 5027, '전개하는': 5028, '계급과': 5029, '디킨스': 5030, '유혹하는': 5031, '금융상품과': 5032, '회귀의': 5033, '유발하는': 5034, '둥근': 5035, '다이어트': 5036, '황금률': 5037, '지문인식': 5038, '출입관리시스템': 5039, '현금흐름정보의': 5040, '자기자본': 5041, '총자산': 5042, '초과이익할인모형': 5043, '배당할인모형': 5044, '시간가치': 5045, '개통방법': 5046, '머큐리자동화': 5047, '간기능': 5048, '보드와노드': 5049, '미래인재육성': 5050, '전일제': 5051, '고객응대지킴이': 5052, '설득': 5053, '자리에': 5054, '앉히면': 5055, '안되는': 5056, '금융시장': 5057, '분노와': 5058, '성과의': 5059, '상관관계': 5060, '위기관리에': 5061, '능한': 5062, '조직이': 5063, '습관을': 5064, '유형별로': 5065, '구성법': 5066, '분기국사': 5067, '화재감시': 5068, '점검관리법': 5069, '복잡성에': 5070, '빠지다': 5071, '어플리케이션': 5072, '무임승차자를': 5073, '없앨': 5074, '기업전체의': 5075, '성과측정도구': 5076, '설명잘하는': 5077, '적장이': 5078, '베스트바이': 5079, '부활전략': 5080, '버려라': 5081, '러쉬': 5082, '단말k에듀': 5083, '관포지교': 5084, '핵심역량': 5085, '뉴트로와': 5086, '휠라코리아': 5087, '축전지': 5088, '타입별': 5089, '노란': 5090, '핸들': 5091, '조절을': 5092, '벡터소스와': 5093, '픽토그램의': 5094, '타입체크': 5095, '한꺼번에': 5096, '최후의': 5097, '승자는': 5098, '다각화': 5099, '트렌드인가': 5100, '병원종교시설': 5101, '리하게': 5102, '균형을': 5103, '분개와': 5104, '수정분개': 5105, '진출전략과': 5106, '아': 5107, '이제야': 5108, '이해할': 5109, '회귀분석머신러닝': 5110, '참는': 5111, '미덕이': 5112, '관계도': 5113, '반품이': 5114, '되나요': 5115, '블로그에서': 5116, '선을': 5117, '최소제곱법': 5118, '최소의': 5119, '최대의': 5120, '의자를': 5121, '상사와': 5122, '친해지는': 5123, '연봉이': 5124, '오르는': 5125, '악성사이트': 5126, '자동탐지': 5127, '가입정보를': 5128, '고객유형예측': 5129, '영업해피콜': 5130, '고객헤택': 5131, '영업무기간신청서': 5132, '솔루션소개': 5133, '노하우이해': 5134, '트렌드에': 5135, '방송신호': 5136, '베이스밴드': 5137, '신호구조': 5138, '집실습교육': 5139, '논어와': 5140, '주판': 5141, '디즈니': 5142, '기업용인터넷전화': 5143, '도스모드용모드용': 5144, '자기경영': 5145, '고수의': 5146, '이전계획': 5147, '실행방법': 5148, '고객선로분야': 5149, '홍채인식': 5150, '도형과': 5151, '왕의': 5152, '귀환': 5153, '마이크로소프트': 5154, '마케터는': 5155, '농부다': 5156, '끝내는보안': 5157, '활동성비율과': 5158, '시장비율': 5159, '파헤치는': 5160, '지분법적용': 5161, '투자주식': 5162, '해지위약금': 5163, '면제': 5164, '강력한': 5165, '적기': 5166, '개통과': 5167, '투자비절감': 5168, '방법남부산지사': 5169, '팀원': 5170, '전략군': 5171, '주목할만한': 5172, '요소기술': 5173, '관리기능을': 5174, '등장과': 5175, '심리적': 5176, '계약과': 5177, '현실적': 5178, '직무소개': 5179, '텍스트로': 5180, '보상의': 5181, '사랑하는': 5182, '터너': 5183, '기욤': 5184, '뮈소': 5185, '가치사슬': 5186, '읽지': 5187, '못하면': 5188, '쓸': 5189, '피로와': 5190, '스트레스를': 5191, '해소시키는': 5192, '스트레칭': 5193, '오해하지': 5194, '결과는': 5195, '결과일뿐': 5196, '상관값의': 5197, '바른': 5198, '운동이': 5199, '수출진출사례': 5200, '연': 5201, '에티켓': 5202, '원가흐름의': 5203, '초서를': 5204, '갖기': 5205, '영업무기번호이동': 5206, '센트릭스': 5207, '세일즈하우스': 5208, '강회계용어': 5209, '강재무상태표': 5210, '강해고': 5211, '일에': 5212, '거짓말': 5213, '양철북': 5214, '신입입문과정': 5215, '앞서가는': 5216, '조직은': 5217, '세대의': 5218, '요즘': 5219, '라이브': 5220, '커머스': 5221, '돈관리': 5222, '계약변경': 5223, '직장인을': 5224, '실용적인': 5225, '매력적인': 5226, '직급에': 5227, '맞춰': 5228, '다르게': 5229, '반복을': 5230, '줄여': 5231, '지자체': 5232, '설계기초': 5233, '오프라인에': 5234, '진출했을까': 5235, '낙뢰피해예방을': 5236, '접지': 5237, '오퍼링': 5238, '조직활성화를': 5239, '노하우k에듀남부': 5240, '장흥팀': 5241, '열정과': 5242, '기업인터넷': 5243, '전격': 5244, '니즈를': 5245, '영업공조활동부천지사': 5246, '계양지점': 5247, '높여라': 5248, '전국통합': 5249, '사업환경': 5250, '레고': 5251, '반복의': 5252, '차이로': 5253, '창조': 5254, '언제': 5255, '임파워먼트를': 5256, '심각하게': 5257, '고려해야': 5258, '금융클라우드': 5259, '금융보안데이터센터': 5260, '복습': 5261, '대출장': 5262, '맛집로드': 5263, '대구로': 5264, '출장오셨나요': 5265, '소비데이터의': 5266, '응용': 5267, '패킷분석': 5268, '기출풀이': 5269, '글의': 5270, '자료활용': 5271, '패턴': 5272, '전체를': 5273, '설정할': 5274, '전통적': 5275, '먹히는': 5276, '파워': 5277, '쓰게': 5278, '오레오': 5279, '질을': 5280, '엉덩이': 5281, '계층': 5282, '법적': 5283, '이슈와': 5284, '직무위주의': 5285, '시장분석': 5286, '표준원가': 5287, '강근로시간': 5288, '중대재해처벌법': 5289, '대응역량': 5290, '디스크': 5291, '동선기반': 5292, '와이어': 5293, '실천윤리학': 5294, '멋진': 5295, '신세계': 5296, '무작정': 5297, '용도': 5298, '삭제와': 5299, '공장건물용태양광연계용': 5300, '태양광발전': 5301, 'k에듀플랫폼': 5302, '미디어빅뱅': 5303, '감시장치': 5304, '손실과다': 5305, '입증하는': 5306, '발휘': 5307, '전제조건': 5308, '수적': 5309, '열세를': 5310, '극복하는': 5311, '팀의': 5312, '계획은': 5313, '빗나가는가': 5314, '간단하게': 5315, '통신용': 5316, '장비는': 5317, '인가요': 5318, '감리를': 5319, '노트': 5320, '과업범위': 5321, '위험이슈관리': 5322, '단계별': 5323, '심의': 5324, '질문으로': 5325, '전입자': 5326, '멘토': 5327, '산업혁명의': 5328, '기본적': 5329, '명의도용가입사실': 5330, '부인': 5331, '고급필터': 5332, '우리병원': 5333, '요금처리': 5334, '목표달성을': 5335, '대형': 5336, '통찰을': 5337, '최고경영자의': 5338, '영향력은': 5339, '협력전략': 5340, '조치': 5341, '미니워크숍': 5342, '웹을': 5343, '활용하여': 5344, '민원처리하기': 5345, '위해': 5346, '신제품': 5347, '요건': 5348, '사고와': 5349, '자본금과': 5350, '이익잉여금과': 5351, '다양화': 5352, '틸': 5353, '스타트업을': 5354, '성공으로': 5355, '사채의': 5356, '정착을': 5357, '제언': 5358, '문제해결이란': 5359, '코어강화훈련': 5360, '기술을': 5361, '돈버는': 5362, '단호하고': 5363, '우아한': 5364, '거절의': 5365, '강박에서': 5366, '돌려라': 5367, '잔소리하는': 5368, '저가법과': 5369, '감모손실': 5370, '점검하기': 5371, '평가의': 5372, '임금에': 5373, '논의': 5374, '메인': 5375, '페이지를': 5376, '재고자산': 5377, '비율분석의': 5378, '유동성비율': 5379, '수익성비율': 5380, '환경분석': 5381, '커뮤니티': 5382, '강연차유급휴가': 5383, '그룹상무': 5384, '생각에': 5385, '경영경제인생': 5386, '불평등': 5387, '기원론': 5388, '가치를': 5389, '재발견하라': 5390, '무형자산': 5391, '안전체험교육관': 5392, '전문': 5393, '공사성사업': 5394, '고용산재보험': 5395, '고객인식등을': 5396, '본질적': 5397, '가치에': 5398, '리모와': 5399, '효율화': 5400, '연료전지의': 5401, '펌웨어': 5402, '운의': 5403, '확률을': 5404, '도전의': 5405, '기회를': 5406, '열다': 5407, '다가가는기초강의': 5408, '클라우드개요': 5409, '랑방': 5410, '딸을': 5411, '바느질': 5412, '기본원리와': 5413, '구성방식에': 5414, '박수용': 5415, '인수합병의': 5416, '연결': 5417, '빌딩영업': 5418, '디자인이': 5419, '전부가': 5420, '발뮤다': 5421, '하자': 5422, '경쟁의': 5423, '납입자본': 5424, '거래와': 5425, '자기주식': 5426, '회의를': 5427, '유무형자산의': 5428, '벤치마킹': 5429, '오토매틱': 5430, '실전에서': 5431, '사용하는': 5432, '원천': 5433, '성공과': 5434, '은둔': 5435, '파수꾼이': 5436, '작가': 5437, '신시장과': 5438, '욕혁신': 5439, '이동수단에서': 5440, '플랫폼으로의': 5441, '스마트카': 5442, '가족이니까': 5443, '당연하다고': 5444, '생각하면': 5445, '칼인': 5446, '교육개발': 5447, '계정과': 5448, '유동부채': 5449, '보고서를': 5450, '보고자료': 5451, '고객가치와': 5452, '고객지향적': 5453, '시장분석전망': 5454, '해외진출': 5455, '사채발행비와': 5456, '상환': 5457, '텍스트형': 5458, '로밍': 5459, '야무지게': 5460, '애플워치개통': 5461, '동시착신기술': 5462, '난중일기': 5463, '비극의': 5464, '나노': 5465, '인플루언서를': 5466, '어플': 5467, '운용방법': 5468, '통제는': 5469, '칼이다': 5470, '어서와': 5471, '은': 5472, '처음이지': 5473, '이해도를': 5474, '높여': 5475, '실무': 5476, '강제력을': 5477, '대체': 5478, '뭐길래': 5479, '선입견을': 5480, '버리면': 5481, '기회가': 5482, '보인다k에듀': 5483, '이렇게': 5484, '제안을': 5485, '기업분석': 5486, '승부처': 5487, '소양': 5488, '고퀄로': 5489, '승부하자': 5490, '침묵을': 5491, '경계하라': 5492, '것을': 5493, '거시환경의': 5494, '활용한개통': 5495, '최적화까지': 5496, '중장기환경': 5497, '비교방법': 5498, '무선품질': 5499, '저절로': 5500, '글이': 5501, '써지는': 5502, '만다라트': 5503, '타이밍을': 5504, '놓치면': 5505, '대화는': 5506, '불안을': 5507, '극복한': 5508, '단의': 5509, '레이먼드': 5510, '카버': 5511, '베껴쓰기': 5512, '기기': 5513, '못쓰게': 5514, '답일까': 5515, '삶에': 5516, '들이는': 5517, '습관들': 5518, '끝까지': 5519, '읽히는': 5520, '살아있는': 5521, '유튜브에서': 5522, '통하는': 5523, '대본쓰기': 5524, '애니메이션하이퍼링크': 5525, '자료를': 5526, '효과적으로': 5527, '표차트': 5528, '노동의': 5529, '상담내비게이터': 5530, '마케팅프로세스': 5531, 'k에듀사업과': 5532, '복지제도': 5533, '구글애널리틱스': 5534, '사업성': 5535, '검토': 5536, '심의하기': 5537, '강근로계약서': 5538, '강대리점': 5539, '도매대리점': 5540, '세무처리': 5541, '강부가세': 5542, '베풂의': 5543, '시민': 5544, '인재를': 5545, '뽑는': 5546, '보안관제': 5547, '사업실패': 5548, '우리나라': 5549, '택시대학': 5550, '설립까지': 5551, '공략사례': 5552, '상사의': 5553, '성향': 5554, '소용량': 5555, '식별': 5556, '거래혁명': 5557, '직류전원의': 5558, '주요장치': 5559, '채널서비스제공을': 5560, '정복': 5561, '전기차': 5562, '충전사업의': 5563, '규격': 5564, '인쇄물을': 5565, '만들어': 5566, '보자': 5567, '포스터디자인네임카드': 5568, '알리바바와': 5569, '철의': 5570, '삼각': 5571, '관제업무': 5572, '균형평가표': 5573, '순서에': 5574, '대해서': 5575, '도형병합기능': 5576, '방지사용': 5577, '제거와': 5578, '삭제하기': 5579, '패션': 5580, '신흥': 5581, '오프화이트': 5582, '전략과': 5583, '관리자의': 5584, '적합성': 5585, '즐거운': 5586, '비용혁신': 5587, '명가': 5588, '블루보틀': 5589, '개인정보보호법': 5590, '그래프': 5591, '경험과': 5592, '예방k에듀북부': 5593, '추가적인': 5594, '제도들': 5595, '참여의': 5596, '오픈스택': 5597, '프로젝트의': 5598, '성공적인': 5599, '가격': 5600, '책정방법과': 5601, '비대면마이케이티앱': 5602, '중요하다': 5603, '비즈니스에도': 5604, '진정성을': 5605, '담아라': 5606, '잘해주고': 5607, '상처받고': 5608, '로직트리의': 5609, '가치제안': 5610, '누구를': 5611, '위해서가': 5612, '패배를': 5613, '안하게': 5614, '받아들이는': 5615, '마음': 5616, '매직': 5617, '넘버': 5618, '과업대비표': 5619, '위험이슈관리대장': 5620, '작성방법': 5621, '자녀와': 5622, '소통을': 5623, '디자인하자': 5624, '배경디자인': 5625, '요소를': 5626, '채우자': 5627, '사업부와': 5628, '기능부서의': 5629, '성과측정': 5630, '통합가입': 5631, '시장세분화': 5632, '원칙에': 5633, '발생주의': 5634, '경영성과표': 5635, '강근로자성': 5636, '판단': 5637, '강주휴수당': 5638, '평균임금': 5639, '강최저임금': 5640, 'k에듀컴플라이언스': 5641, '황금가지': 5642, '목민심서': 5643, '최고': 5644, '결합유도': 5645, '통화비서': 5646, '절대': 5647, '거절할': 5648, '오류해결': 5649, '대역전환과': 5650, '상용화의': 5651, '나열의': 5652, '시각적으로': 5653, '노하우k에듀': 5654, '은평지점': 5655, '퓨쳐인': 5656, '경로': 5657, '알고싶다': 5658, '망팀': 5659, '기능의': 5660, '불만고객': 5661, '응대요령': 5662, '기업전용파헤치기': 5663, '행복한': 5664, '준비하는': 5665, '다논': 5666, '노동조합': 5667, '알렉산더': 5668, '맥퀸': 5669, '야만적': 5670, '아름다움': 5671, '향과': 5672, '맛을': 5673, '창조하다': 5674, '지보단': 5675, '츠타야': 5676, '성장기': 5677, '때': 5678, '원넘버': 5679, '동시착신': 5680, '부모는': 5681, '꿈을': 5682, '지켜주는': 5683, '수호자와': 5684, '존재': 5685, '문제의': 5686, '음악': 5687, '임파워먼트의': 5688, '에너지의': 5689, '가족의': 5690, '제품': 5691, '혁신과': 5692, '진심어린': 5693, '사과와': 5694, '현명한': 5695, '용서': 5696, '본원적': 5697, '마케터를': 5698, '당기손익과': 5699, '상각후원가측정': 5700, '시사점': 5701, '손익정보와': 5702, '재무상태의': 5703, '속성': 5704, '안티고네': 5705, '동물농장': 5706, '인간과': 5707, '초인': 5708, '이세이': 5709, '미야케': 5710, '주름진': 5711, '옷으로': 5712, '펴다': 5713, '개조식으로': 5714, '표현하기': 5715, '트랜스포메이션은': 5716, '어도비처럼': 5717, '무선표준': 5718, '직류전원': 5719, '고객니즈사항': 5720, '파악을': 5721, '기본입력범위선택': 5722, '랩스터': 5723, '연구실': 5724, '촉진': 5725, '설치가이드': 5726, '지출전표': 5727, '인도네시아': 5728, '알려주는기초': 5729, '본업에서': 5730, '진화하고': 5731, '생존한다': 5732, '후지필름': 5733, '사항': 5734, '시험': 5735, '와이파이끊김현상': 5736, '상호간섭': 5737, '해소제주지역': 5738, '통한순수이설': 5739, '공간도': 5740, '구독한다': 5741, '아도레스': 5742, '템플릿이': 5743, '시작이다': 5744, '도형색': 5745, '맞추자': 5746, '안내선슬라이드': 5747, '개체': 5748, '지속가능한': 5749, '솔루션도출하기': 5750, '마드는': 5751, '리바이스': 5752, '직조로': 5753, '일상의': 5754, '예술': 5755, '수준별로': 5756, '장애인': 5757, '인식개선': 5758, '수미납': 5759, '패러다임': 5760, '임파워먼트란': 5761, '참여제도': 5762, '고려할': 5763, '사항은': 5764, '애널리틱스를': 5765, '고객차': 5766, '재무상태': 5767, '회계등식과': 5768, '내방': 5769, '판매상담으로': 5770, '유도하기': 5771, '사이먼': 5772, '사이넥의': 5773, '리어왕': 5774, '제경영': 5775, '기업은': 5776, '어디로': 5777, '갔을까': 5778, '미래기업의': 5779, '의무론': 5780, '코아': 5781, '컴피턴스': 5782, '경영혁명': 5783, '프랭클린': 5784, '아메바': 5785, '마케팅과': 5786, '모바일평면도': 5787, '제국의': 5788, '모바일평면도기본': 5789, '모바일평면도감지기': 5790, '청약요청': 5791, '모바일평면도자재추가': 5792, '시장현황전략적': 5793, '진심으로': 5794, '경청하라': 5795, '수배전설비': 5796, '주요기기': 5797, '차별화된': 5798, '시연를': 5799, '충남지역': 5800, '현재와': 5801, '바라본': 5802, '축적의': 5803, '결국': 5804, '결단력': 5805, '완판의': 5806, '슈프림': 5807, '살다': 5808, '시티즌': 5809, '신입사원과': 5810, '오지': 5811, '구성도': 5812, '블루에이프런으로': 5813, '밀키트': 5814, '구독의': 5815, '위기': 5816, '히트펌프의': 5817, '원리와': 5818, '소비자중심경영': 5819, '예술이': 5820, '테라다': 5821, '몽블랑': 5822, '추억과': 5823, '에세이': 5824, '저널쓰기': 5825, '조언에': 5826, '반발하는': 5827, '타이머': 5828, '통합유통': 5829, '사항들': 5830, '표적시장': 5831, 'k에듀비전과': 5832, '오더문의': 5833, '타당성': 5834, '현금흐름할인모형': 5835, '확정된': 5836, '잠재적': 5837, '투자금과': 5838, '회수가능액': 5839, '적용기능': 5840, '음성사서함': 5841, '서비스와': 5842, '불가사리로': 5843, '억을': 5844, '번': 5845, '서울대생의': 5846, '레미제라블': 5847, '호모': 5848, '상식': 5849, '밖의': 5850, '훈민정음': 5851, '야생의': 5852, '미적교육에': 5853, '지': 5854, '침묵하지': 5855, '직원들': 5856, '홈매니저': 5857, '기업용': 5858, '임미숙': 5859, '시키면': 5860, '향상될까': 5861, '자신만만한': 5862, '냉방설비의': 5863, '효율화와': 5864, '홈단말': 5865, '그녀의': 5866, '시간은': 5867, '거꾸로흐른다': 5868, '서버가상화': 5869, '셀이동단축키': 5870, '인공지능이': 5871, '기업통화상품': 5872, '기업메시지': 5873, '야': 5874, '너두개통할': 5875, '있어': 5876, '진화는': 5877, '클래스패스처럼': 5878, '해상도': 5879, '포토뷰어로': 5880, '자기개발': 5881, '로드맵': 5882, '텍스트연결하기': 5883, '자료': 5884, '계산된': 5885, '프레젠테이션을': 5886, '미술관박물관체육공간': 5887, '다중조건': 5888, '버리지마': 5889, '프라이탁': 5890, '오타쿠가': 5891, '인디': 5892, '시설정합장치의': 5893, 'k에듀등그것이': 5894, '사고법': 5895, '클럽에서': 5896, '총액결합할인': 5897, '유선전자신청서': 5898, '참여제도의': 5899, '직업윤리': 5900, '유동자산': 5901, '위험자산': 5902, '감가상각과': 5903, '재평가': 5904, '측위': 5905, '긴급': 5906, '특번': 5907, '약정만료': 5908, '강임금채권': 5909, '링': 5910, '긴급복처리절차': 5911, '충돌': 5912, '균형성과관리지표': 5913, '이기적': 5914, '간디': 5915, '불복종': 5916, '존재와': 5917, '라오콘': 5918, '미술과': 5919, '문학의': 5920, '경계에': 5921, '실습과제소개': 5922, '가속': 5923, '강정수': 5924, '에너지사업': 5925, '점검사항': 5926, '직원역량을': 5927, '더욱': 5928, '발전시키는': 5929, '채우기핸들': 5930, '돈으로': 5931, '만족': 5932, '살': 5933, '품질불만': 5934, '고객대상': 5935, '고객경험품질': 5936, '체질화': 5937, '보이스옵스': 5938, '활용해': 5939, '콜을': 5940, '분석하여': 5941, '효율성을': 5942, '높여주는': 5943, '차별화서비스': 5944, '개통자재개선': 5945, '전문대리점': 5946, '활용방법과': 5947, '신인사원': 5948, '성능개선': 5949, '그것이': 5950, '셀서식': 5951, '계약체결': 5952, '표준형공사비': 5953, '영업전산': 5954, '시대변화하는': 5955, '패킷변환장치를': 5956, '대학교도서관': 5957, '신서비스': 5958, '경제의': 5959, '도래': 5960, '빠른실행도구서식복사바꾸기': 5961, '그들을': 5962, '성장하게': 5963, '가치소비시대의': 5964, '폭풍성장': 5965, '클라우드에': 5966, '자퇴': 5967, '적극적이고': 5968, '신중한': 5969, '태도가': 5970, '명성': 5971, '유지': 5972, '애정표현하기': 5973, '이성': 5974, '관심과': 5975, '통제가': 5976, '적절한': 5977, '방식은': 5978, '친고민': 5979, '경험을': 5980, '빌려주자': 5981, '청구': 5982, '최신': 5983, '구독하세요': 5984, '그로버': 5985, '도산': 5986, '보내는': 5987, '연결재무제표': 5988, '현금흐름표의': 5989, '프로세서': 5990, '제어계': 5991, '통화로계': 5992, '조치절차': 5993, '팩트풀니스': 5994, '메가트렌드': 5995, '카르멘': 5996, '예술이란': 5997, '궁극의': 5998, '돈키호테': 5999, '엄마를': 6000, '모험': 6001, '우리매장가지': 6002, '약속': 6003, '정신건강이': 6004, '경쟁력이다': 6005, '일하는': 6006, '피벗기본정렬데이터누적차트': 6007, '청약승인': 6008, '넥사인공지능': 6009, '블랙박스': 6010, '무리한': 6011, '요구는': 6012, '내인생의': 6013, '성공체험': 6014, '셀프': 6015, '리더십을': 6016, '디자인하라': 6017, '표준동향뿌리부터': 6018, '현장전문가': 6019, '스타': 6020, '고객설명사항': 6021, '사용자지정목록그림으로붙여넣기': 6022, '일반': 6023, '표준공법과': 6024, '고객감동사례': 6025, '고객분석사용법': 6026, '라우터': 6027, '사업전략': 6028, '패러다임을': 6029, '낙뢰피해': 6030, '절연': 6031, '접지개선': 6032, '인터렉션의': 6033, '진화웨어러블보이스형': 6034, '지향적': 6035, '수립과': 6036, '가치공동창출': 6037, '속도는': 6038, '변덕이': 6039, '심할까': 6040, '카드': 6041, '뉴스': 6042, '영상집': 6043, '수주지원': 6044, '빠른채우기텍스트연결실습': 6045, '갖자': 6046, '발의서': 6047, '종류별': 6048, '설계기준': 6049, '피벗기타기능실습': 6050, '안의': 6051, '욕망을': 6052, '깨워라': 6053, '젠틀몬스터': 6054, '믹스': 6055, '사회공헌': 6056, '리딩하라': 6057, '스케줄': 6058, '다크': 6059, '효과는': 6060, '한국채택': 6061, '분류와': 6062, '계산': 6063, '원가행태': 6064, '관련원가': 6065, '강임금의': 6066, '가정의': 6067, '균형': 6068, '다시보기': 6069, '슬픈': 6070, '열대': 6071, '우상의': 6072, '황혼': 6073, '아이네이스': 6074, '아웃풋': 6075, '매니지먼트': 6076, '빌헬름': 6077, '마이스터': 6078, '수업시대': 6079, '진보와': 6080, '빈곤': 6081, '페스트': 6082, '탄생과': 6083, '브랜드의': 6084, '데드라인': 6085, '콜센터': 6086, '아이봇': 6087, '권한': 6088, '빅데이터스마트': 6089, '신인류': 6090, '돕는': 6091, '생성삭제': 6092, '배경제거': 6093, '표지활용': 6094, 'k에듀인을': 6095, '언론홍보': 6096, '인터넷초고속': 6097, '망고도화': 6098, '작업절차': 6099, '핵심톡': 6100, 'ai소개': 6101, '부서원과의': 6102, '소통협업': 6103, '직원들의': 6104, '경청': 6105, '현장접수': 6106, 'ai융합기술': 6107, '사례와': 6108, '옥창석': 6109, '플라자와': 6110, '고객감동충북지역': 6111, '개통을': 6112, '전북지역': 6113, '전남지역': 6114, 'k에듀알짜사용법': 6115, '이강윤': 6116, '자동차의': 6117, '최강림': 6118, '거리': 6119, '수변전설비': 6120, '결선도': 6121, '전력실': 6122, '점검확인': 6123, '복합계전기': 6124, '영업사원': 6125, '이해하는개론': 6126, '서비스를': 6127, '리드하라': 6128, '끊김고객': 6129, '해소를': 6130, '고객만족k에듀': 6131, '남부북부': 6132, '스크립트를': 6133, '통한주처리기간': 6134, '강조': 6135, '찾아가는': 6136, '고충발굴': 6137, '고충처리를': 6138, '일터': 6139, '이슈사항': 6140, '활용수도권서부지역': 6141, '체계화된': 6142, '허들제거수도권강북지역': 6143, '부하분산': 6144, '이동기지국': 6145, '제비용혁신': 6146, '신속하고': 6147, '유연하게': 6148, '젠하이저': 6149, '조도': 6150, '예측하는': 6151, '이익조정': 6152, '비유동자산과': 6153, '자산구성의': 6154, '적정성': 6155, '자산손상': 6156, '손익과': 6157, '강근로자': 6158, '인원수': 6159, '산정': 6160, '강근로기준법': 6161, '강프리랜서': 6162, '강임금지급의': 6163, '모집수수료': 6164, '회계처리': 6165, '주요사례': 6166, '상무': 6167, '무선고': 6168, '폭풍의': 6169, '언덕': 6170, '자전거': 6171, '도둑': 6172, '미디어의': 6173, '사피엔스': 6174, '영웅숭배론': 6175, '굿': 6176, '컴퍼니': 6177, '창의성의': 6178, '기술복제시대의': 6179, '예술작품': 6180, '율리시스': 6181, '시간과': 6182, '도덕경': 6183, '지킬': 6184, '박사와': 6185, '하이드': 6186, '씨': 6187, '퍼포먼스': 6188, '개통실우수사례': 6189, '하버드가': 6190, '가르치는': 6191, '시각장애인': 6192, '가정에충북지역': 6193, '이노베이션': 6194, '데이터정리실습': 6195, '신규서비스스마트존캐스트': 6196, '쿠폰메시지': 6197, '노하우안산지사': 6198, '제이앤씨컴': 6199, '그래멀리': 6200, '효율적으로': 6201, 'ai기반': 6202, 'k에듀대리점과': 6203, '유통구조': 6204, '신규서비스': 6205, '시대기업과': 6206, '개인의': 6207, '대응전략': 6208, '스티치': 6209, '픽스내게': 6210, '어울리는': 6211, '찾아주는': 6212, '방화벽': 6213, '신바람나게': 6214, '인정과': 6215, '절감기술k에듀': 6216, '기본세팅단축키': 6217, '조직문화를': 6218, '방송': 6219, '리허설': 6220, '실력자는': 6221, '리허설도': 6222, '잘한다': 6223, '차산업혁명과': 6224, '엔지니어링팀': 6225, '기본운용': 6226, '스마트시티': 6227, '끈기를': 6228, '북돋는': 6229, '영업기회활동': 6230, '연결검사': 6231, '오류': 6232, '싶다': 6233, '지역화폐': 6234, '각오와': 6235, '기업에': 6236, '의한': 6237, '빌딩환경': 6238, '개선서비스부산지역': 6239, '이동': 6240, '조건부서식': 6241, '고객인식': 6242, '이제는': 6243, '행동해야': 6244, '개통고장시': 6245, '대처': 6246, '기가홈캠': 6247, '시장전문가': 6248, '초청': 6249, '플랫폼서비스와': 6250, '태그매니저': 6251, '전국대표번호': 6252, '프리미엄서비스': 6253, '공감대': 6254, '국제회계기준의': 6255, '영업외손익과': 6256, '매출액': 6257, '강연장근로': 6258, '주휴일': 6259, '강개인사업자': 6260, '법인전환': 6261, '회차뉴커머스': 6262, '책': 6263, '읽어주는': 6264, '남자': 6265, '율곡전서': 6266, '파는': 6267, '데우스': 6268, '일의': 6269, '적과': 6270, '흑': 6271, '초우량기업의': 6272, '국부론': 6273, '열린사회와': 6274, '적들': 6275, '자본론': 6276, '동방견문록': 6277, '이방인': 6278, '데미안': 6279, '관리는': 6280, '달라졌나': 6281, '관광솔루션': 6282, '초기개통': 6283, '품질검사': 6284, '통한분석': 6285, '주차관리': 6286, '고객유형별': 6287, '결제시스템': 6288, '긴급복방안': 6289, '핵심만쏙쏙': 6290, '아주쉬운': 6291, '개선강원지역': 6292, '산업혁명스마트': 6293, '커넥티드월드': 6294, '이경전': 6295, '저속급': 6296, '지도대구지역': 6297, '사원이': 6298, '되다': 6299, '복합사업': 6300, '영업기회': 6301, '변경사항': 6302, '기반추천': 6303, '시장현황': 6304, '진출방안': 6305, '목소리': 6306, '목소리가': 6307, '높인다': 6308, '시스코의': 6309, '플롯이': 6310, '픽토그램을': 6311, '제어망팀에서': 6312, '유용한명령어': 6313, '공통역량강화': 6314, '자동분석': 6315, '노동관계조정법': 6316, '이용한추가': 6317, '텍스트나누기': 6318, '원리자동화팁': 6319, '실리콘': 6320, '밸리': 6321, '문화의': 6322, '디자인톡': 6323, '전단지': 6324, '세일즈톡': 6325, '의사결정을': 6326, '방해하는': 6327, '것들': 6328, '화웨이시리즈': 6329, '과세표준': 6330, '수축사회': 6331, '결정적': 6332, '프로비스': 6333, '설계자': 6334, '기하학': 6335, '원론': 6336, '디스럽터': 6337, '교란자들': 6338, '방법서설': 6339, '고독한': 6340, '군중': 6341, '나와': 6342, '너': 6343, '고용': 6344, '이자': 6345, '일반이론': 6346, '고도를': 6347, '기다리며': 6348, '시간을': 6349, '일리치의': 6350, '죽음': 6351, '결합활용': 6352, '신뢰도': 6353, '높이기쎄쎄쎄': 6354, '퍼플오션': 6355, '메세징': 6356, '전남': 6357, '시장개발팀': 6358, '로보마트': 6359, '자율주행': 6360, '카카오뱅크의': 6361, '조직불안부터': 6362, '해소하라': 6363, '공격': 6364, '설명과': 6365, '다이폴': 6366, '방사패턴': 6367, '팩스마타': 6368, '구글에서': 6369, '후원하는': 6370, '자동팩트체크': 6371, '글롯': 6372, '익명으로': 6373, '일자리를': 6374, '서칭할': 6375, 'ai기반의': 6376, '채용': 6377, '복사캡쳐': 6378, '이미지활용': 6379, '지역형': 6380, '제주지사': 6381, '국제마라톤대회': 6382, '중계방송': 6383, '기기변경': 6384, '정률형': 6385, '학교에서': 6386, '채널용량': 6387, '공식이': 6388, '실무에서': 6389, '적용되고': 6390, '있는가': 6391, '유통망개설': 6392, '프랜차이즈': 6393, '상품의': 6394, '통합컨설팅전남지역': 6395, '발전적피드백으로': 6396, '팀원을': 6397, '만들라': 6398, '곰믹스로': 6399, '전원환경': 6400, '물어보세요': 6401, '버전': 6402, '타사고객을': 6403, 'k에듀고객으로': 6404, '전환수도권강북고객본보': 6405, '프레젠테이션은': 6406, '정체성이': 6407, '먼저다': 6408, '재설정': 6409, '공기질': 6410, '알기쉬운전기요금': 6411, '지출': 6412, '자동필터고급필터': 6413, '역사는': 6414, '만든다k에듀': 6415, '호남광역지사': 6416, '피벗슬라이서시간막대그룹': 6417, '써봤니': 6418, '회선인증': 6419, '개통준공강화제': 6420, '면담기법과': 6421, '상담기술': 6422, '백본장비': 6423, '고객경험혁신군인': 6424, '고객경험혁신대학생': 6425, '재학생': 6426, '지속가능경영': 6427, '너를': 6428, '파헤친다': 6429, '단체협약': 6430, '취업규칙': 6431, '규약': 6432, '가팝업': 6433, '지문리더': 6434, '설정추가': 6435, '비밀번호': 6436, '강휴일근로': 6437, '가족친화제도': 6438, '매출신고': 6439, '하버드에서': 6440, '영업혁신': 6441, '괴델': 6442, '에셔': 6443, '바흐': 6444, '달과': 6445, '펜스': 6446, '소통행위론': 6447, '고백록': 6448, '프로테스탄티즘의': 6449, '윤리와': 6450, '힘든': 6451, '오딧세이아': 6452, '역사란': 6453, '어린왕자': 6454, '종의': 6455, '기원': 6456, '아니어도': 6457, '진주지사': 6458, '고충처리제도': 6459, '써': 6460, '봤니': 6461, 'k에듀구조': 6462, '나도개발자': 6463, '연속스타의': 6464, '집념': 6465, '이미지개선': 6466, '고객이': 6467, '과학적영업마케팅부': 6468, '소매': 6469, '타겟문자': 6470, '발송': 6471, '답이다': 6472, '유통망수수료': 6473, '버튼으로': 6474, '엔지니어들을': 6475, '기초구조': 6476, '기업무선영업': 6477, '전격분석': 6478, 'k에듀빅데이터': 6479, '변형균': 6480, '사업을': 6481, '노트북': 6482, '인증결과': 6483, '직원으로서': 6484, '구매시스템': 6485, '그룹인력개발원': 6486, '원주연수원': 6487, '인사이트를': 6488, '액션가이드': 6489, '근로기준법': 6490, '유해': 6491, '맞춤': 6492, '사은품': 6493, '배송': 6494, '지연': 6495, '수수료': 6496, '정산': 6497, '신규가입명의변경가입': 6498, '태그메니저': 6499, '수사법': 6500, '구성에': 6501, '엣지를': 6502, '넣자': 6503, '융복합사업': 6504, '강종합소득세': 6505, '유의항목': 6506, '추징사례': 6507, '캐즘': 6508, '저소득층': 6509, '공략하라': 6510, '차라투스트라는': 6511, '말했다': 6512, '기업가정신': 6513, '변론': 6514, '진리와': 6515, '로열티': 6516, '도덕감정론': 6517, '경제발전의': 6518, '꿈의': 6519, '프랑스': 6520, '혁명에': 6521, '인생론': 6522, '접근법에': 6523, '일괄가입': 6524, '달성률': 6525, '초과달성': 6526, '비법k에듀': 6527, '목포지사': 6528, '인증처리': 6529, '운칠기삼': 6530, '도전과': 6531, '흔들림': 6532, '작도최종': 6533, '차별화된서비스k에듀남부': 6534, '알': 6535, '설계도면': 6536, '판독': 6537, '완성으로': 6538, '등달성': 6539, '성공체험으로': 6540, '춤추는': 6541, '엔지니어구미지사': 6542, '이동규': 6543, '방식변화를': 6544, '제시k에듀': 6545, '센터': 6546, '변화와': 6547, '비바비디오로': 6548, '영상보안서비스': 6549, '출입통제장치': 6550, '제어': 6551, '활용한대응': 6552, '자카르타': 6553, '아시안게임': 6554, '방송기술': 6555, '되돌아보기': 6556, '라우팅설정': 6557, '질문의': 6558, '콘테스트': 6559, '이미지메이킹': 6560, '청중의': 6561, '시각을': 6562, '시스템사용법': 6563, '무비메이커로': 6564, '고객에게': 6565, '전문가가': 6566, '더존연동': 6567, '장애조치': 6568, '가이드북수도권강남지역': 6569, '모방': 6570, '고수의전략을': 6571, 'k에듀신입사원을': 6572, '와의': 6573, '일정': 6574, '차단': 6575, '연계한호처리': 6576, '슈퍼할부카드': 6577, '해지처리': 6578, '헷갈리는': 6579, '업무지식': 6580, '남녀고용평등과': 6581, '일가정': 6582, '양립지원에': 6583, '권한문의': 6584, '통신상태': 6585, '로열클럽': 6586, '현장교육': 6587, '의료기기': 6588, '컴플라이언스와': 6589, '윤리경영': 6590, '강당연퇴직': 6591, '공익': 6592, '영혼이': 6593, '디퍼런트': 6594, '혁신기업의': 6595, '딜레마': 6596, '천문학': 6597, '리버스': 6598, '슈퍼팬덤': 6599, '투자의': 6600, '파워풀': 6601, '차별화의': 6602, '천재들': 6603, '구독경제': 6604, '중독자': 6605, '우신예찬': 6606, '니코마코스': 6607, '윤리학': 6608, '플루타크': 6609, '영웅전': 6610, '로마사': 6611, '논고': 6612, '국화와': 6613, '칼': 6614, '프린키피아': 6615, '특수': 6616, '상대성': 6617, '이론과': 6618, '상대성이론에': 6619, '기계시대': 6620, '인에비터블': 6621, '생명의': 6622, '그물': 6623, '파우스트': 6624, '에티카': 6625, '그리스인': 6626, '조르바': 6627, '노인과': 6628, '미래융합사업': 6629, '전략방향': 6630, '권오륭': 6631, '청소년': 6632, '유해차단': 6633, '지원팀을': 6634, '고장조치': 6635, '김종철': 6636, '셀데이터': 6637, '자르기연결하기': 6638, '도입에': 6639, '상담노하우충남지역': 6640, '성공체험면담으로': 6641, '성공체험을': 6642, '발굴하라': 6643, '에러': 6644, '노하우복지할인': 6645, '전국형': 6646, '매장채널': 6647, '영업전략과': 6648, '몰입하는': 6649, '카자흐스탄': 6650, '러시아시장산업동향': 6651, '서버의': 6652, '대박': 6653, '패키지로': 6654, '대박나기': 6655, '사물인터넷': 6656, '이광욱': 6657, '인니': 6658, '단선복구': 6659, '설계툴측정데이터': 6660, '시니어스타의': 6661, '아이무비로': 6662, '신규처리': 6663, '비즈나루': 6664, '기본이론': 6665, '전자파의': 6666, '생성원리': 6667, '파라미터': 6668, '꾸미기': 6669, '질의응답에도': 6670, '노하우가': 6671, '아두이노': 6672, '활용기초': 6673, '통합오퍼링이': 6674, '한마디': 6675, '전주지사': 6676, '활용팁': 6677, '대리점과': 6678, '협업부산지역': 6679, '고객접점': 6680, '부서간': 6681, '협업수도권서부본부': 6682, '사용방법에': 6683, '근태처리': 6684, '근무일': 6685, '고객망': 6686, '궁금해': 6687, '메디블록을': 6688, '코닥비트코인코닥코인': 6689, '왕도': 6690, '홈캠': 6691, '고충처리': 6692, '주니퍼셋업절차서': 6693, '설득과': 6694, '감성적': 6695, '청중과': 6696, '형성이': 6697, '몸짓': 6698, '제스처': 6699, '시선처리': 6700, '워킹을': 6701, '배우자': 6702, '청중이': 6703, '기억하는': 6704, '구조로': 6705, '말하자': 6706, '연출': 6707, '세련된': 6708, '연출로': 6709, '메시지에': 6710, '힘을': 6711, '싣자': 6712, '물류채권여신': 6713, '카드리더': 6714, '가장기': 6715, '결합처리': 6716, '구비서류': 6717, '파밍차단': 6718, '다운로더': 6719, '에너지효율화': 6720, '냉온수기교체': 6721, '기반의': 6722, '중점': 6723, '강합의해지': 6724, '강징계절차': 6725, '수행단계별착수': 6726, '강추정': 6727, '근태결과': 6728, '경영전략': 6729, '판단력': 6730, '비판': 6731, '예술론': 6732, '논리철학논고': 6733, '정신현상학': 6734, '멋대로': 6735, '해라': 6736, '지적자본론': 6737, '워런': 6738, '버핏과의': 6739, '점심식사': 6740, '에픽': 6741, '오즈의': 6742, '마법사': 6743, '모비딕': 6744, '아폴론과': 6745, '다프네': 6746, '타르소스에': 6747, '클레오파트라': 6748, '진주귀고리를': 6749, '소녀': 6750, '케인': 6751, '모던타임즈': 6752, '아라비아의': 6753, '로렌스': 6754, '무': 6755, '로마제국': 6756, '쇠망사': 6757, '자치통감': 6758, '천구의': 6759, '회전에': 6760, '관하여': 6761, '과학혁명의': 6762, '지각현상학': 6763, '루덴스': 6764, '투자심의': 6765, '지그재그': 6766, '스위트룸': 6767, '화장실에서': 6768, '깨달은': 6769, '교훈': 6770, '딥': 6771, '주': 6772, '스마트하게': 6773, '감시화면': 6774, '재무비율분석수익성': 6775, '활동성': 6776, '인간중심의': 6777, '구축하라': 6778, '회의진행': 6779, '기술로': 6780, '조직생산성을': 6781, '배가하라': 6782, '재난안전플랫폼': 6783, '도시': 6784, '시티': 6785, '교안작성활용': 6786, '인터렉션': 6787, '모델변화와': 6788, '기업전략': 6789, '요약': 6790, '코칭리더의': 6791, '품격': 6792, '제강': 6793, '간견적': 6794, '삼성셋업절차서': 6795, '업무집중': 6796, '교육훈련': 6797, '밀착': 6798, '청주지사': 6799, 'k에듀신뢰경영': 6800, '율': 6801, '자체': 6802, '개발툴': 6803, '불만고객을': 6804, '충성고객으로': 6805, '전환수도권강북지역': 6806, '재배치': 6807, '기준과': 6808, '눈높이에': 6809, '설명제주지역': 6810, '침해': 6811, '프로젝트관리': 6812, '회귀분석으로': 6813, '비용추정하기': 6814, '결합계산기사용매뉴얼': 6815, '협상할': 6816, '설득력을': 6817, '발휘하는': 6818, '도입한다면': 6819, '블록체인에': 6820, '단시간에': 6821, '친한': 6822, '신뢰와': 6823, '신용을': 6824, '입찰의': 6825, '정석을': 6826, '보여주다': 6827, '스쿨넷': 6828, '통합오더': 6829, '실적수수료': 6830, '단순화를': 6831, '통화품질개선': 6832, '신축경쟁사': 6833, '공략하기': 6834, '서버설정': 6835, '모뎀': 6836, '고객경험관리': 6837, '표준설정': 6838, '신규번호이동': 6839, '중소형': 6840, '이너텔커뮤니케이터': 6841, '센서': 6842, '공조영업활동': 6843, '스마트로': 6844, '웹하드': 6845, '정보보안이': 6846, '범죄예방': 6847, '변화하는': 6848, '모습': 6849, '불확실성': 6850, '똑똑하고': 6851, '작고': 6852, '온몸으로': 6853, '느끼는': 6854, '엔터테인먼트': 6855, '실감형': 6856, '균형이란': 6857, '이뤄야': 6858, '도모하는': 6859, '행복해지는': 6860, '생애주기별': 6861, '직장에서의': 6862, '가족친화경영인가': 6863, '가족친화경영과': 6864, '가족친화경영': 6865, '타인의': 6866, '강징계사유': 6867, '내부': 6868, '관리시스템': 6869, '내부프로세스': 6870, '범위관리': 6871, '예술의': 6872, '종말': 6873, '루이비통도': 6874, '넷플릭스처럼': 6875, '티핑': 6876, '바위를': 6877, '들어올려라': 6878, '철학이': 6879, '퍼미션': 6880, '쉬나의': 6881, '선택실험실': 6882, '예술작품의': 6883, '근원': 6884, '모나리자': 6885, '프리마베라': 6886, '아테네': 6887, '학당': 6888, '사비니의': 6889, '의지와': 6890, '표상으로서의': 6891, '창조적': 6892, '철학의': 6893, '위안': 6894, '폴리테이아': 6895, '실천이성비판': 6896, '순수이성비판': 6897, '여자의': 6898, '일생': 6899, '상품출시': 6900, '사업계획서': 6901, '이설을': 6902, '국간': 6903, '절감': 6904, '조직력으로': 6905, '승전보를': 6906, '울리다': 6907, '야구는': 6908, '성과도': 6909, '평균회귀': 6910, '미래성장': 6911, '비콘': 6912, '솔루션차량관제': 6913, '기업전용정복하기': 6914, '원주': 6915, '도입과': 6916, '과금제어의': 6917, '줌': 6918, '바쁜': 6919, '부모들을': 6920, '어린이': 6921, '픽업': 6922, '내부환경분석': 6923, '물음표가': 6924, '분야개': 6925, '분야의': 6926, '그룹경계': 6927, '권한설정': 6928, '전국대표번호서비스': 6929, '시장동향': 6930, '주요이슈': 6931, '실습을': 6932, '통한기초': 6933, '쌓기': 6934, '통합보안': 6935, '영상정보': 6936, '년연속의': 6937, '시스템소개': 6938, '시간설정': 6939, '인증실패': 6940, '인증자료': 6941, '오늘도': 6942, 'k에듀를': 6943, '보고': 6944, '협상스킬': 6945, '협력사': 6946, '평가시스템': 6947, '용역개발': 6948, '보안인프라': 6949, '지시': 6950, '의심할': 6951, '혁신이': 6952, '탄생한다': 6953, '전략은': 6954, '무엇입니까': 6955, '알고리즘도': 6956, '관리자가': 6957, '관리부터': 6958, '명의': 6959, '데이터명의': 6960, '베조스의': 6961, '선택은': 6962, '하던': 6963, '유통업': 6964, '거뜬히': 6965, '해내는': 6966, '본질은': 6967, '혁신이다': 6968, '인종차별을': 6969, '한다면': 6970, '적용하려면': 6971, 'ai쇼핑': 6972, '브랜드가': 6973, '현실이': 6974, '증강현실': 6975, '에지': 6976, '컴퓨팅이': 6977, '뜨고': 6978, '맥주': 6979, '배달하는': 6980, '냉장고': 6981, '사물이': 6982, '몰려온다': 6983, '요구사항': 6984, '공공사업의': 6985, '강포괄임금': 6986, '강취업규칙': 6987, '강금품청산': 6988, '근태시간': 6989, '브랜딩에서': 6990, '전환까지네이버': 6991, '광고의': 6992, '시너지': 6993, '쇼핑검색광고': 6994, '제품카탈로그형': 6995, '역량향상': 6996, '발전의': 6997, '초연결': 6998, '이노베이터': 6999, '보랏빛': 7000, '소가': 7001, '아틀란티스': 7002, '히트': 7003, '리프레시': 7004, '입소문': 7005, '초연결시대': 7006, '혁신적': 7007, '고객경험설계': 7008, '우르비노의': 7009, '비너스': 7010, '도덕과': 7011, '종교의': 7012, '지식인을': 7013, '변명': 7014, '주요전략': 7015, '담당제를': 7016, '영업성과': 7017, '교역': 7018, '투자동향': 7019, '한국기업': 7020, '경찰청': 7021, '업무망': 7022, '설계툴터널': 7023, '지배하라': 7024, '설계툴무선망': 7025, '자동설계': 7026, '지하중계기': 7027, '솔선수범': 7028, '측정단위': 7029, '잡음': 7030, '재무비율분석안정성': 7031, '인재육성': 7032, '전략적으로': 7033, '접근하라': 7034, '노사공동': 7035, '사회공헌활동': 7036, '노사랑': 7037, '실패에서': 7038, '영업성공기법': 7039, '재난안전통신망셋업절차서': 7040, '개념과': 7041, '필요성': 7042, '협상의': 7043, '회의': 7044, '요금온라인': 7045, '변화내용': 7046, 'k에듀인이': 7047, '개선의': 7048, '승부하다': 7049, '서광주지사': 7050, 'k에듀네트워크의': 7051, '강점을': 7052, '견적관리': 7053, '고객관리': 7054, '측정': 7055, '대덕센터': 7056, '접근으로': 7057, '오리엔테이션': 7058, '소비의': 7059, '플레이디': 7060, '제안서의': 7061, '독점빌딩': 7062, '탈환을': 7063, '노력': 7064, '개척하다': 7065, '에너지절약의': 7066, 'k에듀에너지': 7067, '매니저': 7068, '와파라미터': 7069, '설계툴': 7070, '욧포': 7071, '제작한': 7072, '컨텐츠를': 7073, '지니사진': 7074, '아이템': 7075, '구매를': 7076, '투지아': 7077, '아시아': 7078, '최대': 7079, '스냅퍼': 7080, '전문가를': 7081, '매칭해주는': 7082, '태블로': 7083, '올레똑똑': 7084, '치매노인': 7085, '실종': 7086, '해양': 7087, '떠오르는': 7088, '블루오션을': 7089, '신재생': 7090, '레벨컨설팅': 7091, '오퍼링으로': 7092, '도전하다': 7093, '고지를': 7094, '지켜라': 7095, '무선상하수도': 7096, '관제사업': 7097, '경제현황': 7098, '가상번호': 7099, '인포그래픽이란': 7100, '사진형': 7101, '감시': 7102, '공조': 7103, 'k에듀빌딩': 7104, '토탈': 7105, '케어프랜차이즈': 7106, '채권사고': 7107, '책임관리': 7108, '기업무선새로운': 7109, '도약을': 7110, '출발': 7111, '무선국': 7112, '업무절차': 7113, '부하': 7114, '지역의': 7115, '비대면교육팀': 7116, '오픈건': 7117, '영업달인만': 7118, '프로세일즈': 7119, '보안리더': 7120, '업무처리방식': 7121, '대가지급기준': 7122, '자신감을': 7123, '주장': 7124, '말하라': 7125, '사물인터넷과': 7126, '패러다임의': 7127, '출입통제관리리': 7128, '퇴사자': 7129, '세션직원': 7130}\n"
          ]
        }
      ]
    },
    {
      "cell_type": "code",
      "source": [
        "# 각 단어 갯수 순으로 정렬\n",
        "sorted(tokenizer.word_counts.items(), key=lambda x : x[1], reverse=True)[:10]"
      ],
      "metadata": {
        "colab": {
          "base_uri": "https://localhost:8080/"
        },
        "id": "gxSfO8iMXdZu",
        "outputId": "e09406cf-e6a2-4e6b-b9b8-c0820bdad65b"
      },
      "execution_count": 458,
      "outputs": [
        {
          "output_type": "execute_result",
          "data": {
            "text/plain": [
              "[('ai', 62144),\n",
              " ('이해', 44574),\n",
              " ('k에듀', 43270),\n",
              " ('ai이해', 31514),\n",
              " ('자산화', 29734),\n",
              " ('전문지식', 29703),\n",
              " ('데이터', 27843),\n",
              " ('rpa', 22898),\n",
              " ('모델링', 20539),\n",
              " ('클라우드', 20523)]"
            ]
          },
          "metadata": {},
          "execution_count": 458
        }
      ]
    },
    {
      "cell_type": "markdown",
      "source": [
        "# IT분야 데이터만 분리하기\n",
        "- 교육분야1차: IT"
      ],
      "metadata": {
        "id": "kvM4i-T9dLtV"
      }
    },
    {
      "cell_type": "markdown",
      "source": [
        "### Boolean Index"
      ],
      "metadata": {
        "id": "3P7o6u1vmVUv"
      }
    },
    {
      "cell_type": "code",
      "source": [
        "df_Q['교육분야1차'] == 'IT'"
      ],
      "metadata": {
        "colab": {
          "base_uri": "https://localhost:8080/"
        },
        "id": "d-t6QPl3mR4G",
        "outputId": "c48aa931-3a62-4cf0-c957-0700025f7e47"
      },
      "execution_count": 459,
      "outputs": [
        {
          "output_type": "execute_result",
          "data": {
            "text/plain": [
              "0         False\n",
              "1         False\n",
              "2         False\n",
              "3         False\n",
              "4         False\n",
              "          ...  \n",
              "160046    False\n",
              "160047    False\n",
              "160048    False\n",
              "160049    False\n",
              "160050    False\n",
              "Name: 교육분야1차, Length: 798800, dtype: bool"
            ]
          },
          "metadata": {},
          "execution_count": 459
        }
      ]
    },
    {
      "cell_type": "code",
      "source": [
        "cond1 = (df_Q['교육분야1차'] == 'IT')\n",
        "cond1"
      ],
      "metadata": {
        "id": "moJ4gXh7dK7v",
        "colab": {
          "base_uri": "https://localhost:8080/"
        },
        "outputId": "5ba90c54-374e-424e-f691-6871602c3e2c"
      },
      "execution_count": 460,
      "outputs": [
        {
          "output_type": "execute_result",
          "data": {
            "text/plain": [
              "0         False\n",
              "1         False\n",
              "2         False\n",
              "3         False\n",
              "4         False\n",
              "          ...  \n",
              "160046    False\n",
              "160047    False\n",
              "160048    False\n",
              "160049    False\n",
              "160050    False\n",
              "Name: 교육분야1차, Length: 798800, dtype: bool"
            ]
          },
          "metadata": {},
          "execution_count": 460
        }
      ]
    },
    {
      "cell_type": "code",
      "source": [
        "df_IT_Q = df_Q[cond1]\n",
        "df_IT_Q[['교육분야1차', '호칭']].head(3)"
      ],
      "metadata": {
        "id": "D0rZJYZvdK7v",
        "colab": {
          "base_uri": "https://localhost:8080/",
          "height": 143
        },
        "outputId": "756758b1-907d-407e-a5d5-2b101bfac757"
      },
      "execution_count": 461,
      "outputs": [
        {
          "output_type": "execute_result",
          "data": {
            "text/html": [
              "\n",
              "  <div id=\"df-29b93b52-1cc7-4f2b-965a-f69803218f71\">\n",
              "    <div class=\"colab-df-container\">\n",
              "      <div>\n",
              "<style scoped>\n",
              "    .dataframe tbody tr th:only-of-type {\n",
              "        vertical-align: middle;\n",
              "    }\n",
              "\n",
              "    .dataframe tbody tr th {\n",
              "        vertical-align: top;\n",
              "    }\n",
              "\n",
              "    .dataframe thead th {\n",
              "        text-align: right;\n",
              "    }\n",
              "</style>\n",
              "<table border=\"1\" class=\"dataframe\">\n",
              "  <thead>\n",
              "    <tr style=\"text-align: right;\">\n",
              "      <th></th>\n",
              "      <th>교육분야1차</th>\n",
              "      <th>호칭</th>\n",
              "    </tr>\n",
              "  </thead>\n",
              "  <tbody>\n",
              "    <tr>\n",
              "      <th>741</th>\n",
              "      <td>IT</td>\n",
              "      <td>사원</td>\n",
              "    </tr>\n",
              "    <tr>\n",
              "      <th>853</th>\n",
              "      <td>IT</td>\n",
              "      <td>대리</td>\n",
              "    </tr>\n",
              "    <tr>\n",
              "      <th>889</th>\n",
              "      <td>IT</td>\n",
              "      <td>사원</td>\n",
              "    </tr>\n",
              "  </tbody>\n",
              "</table>\n",
              "</div>\n",
              "      <button class=\"colab-df-convert\" onclick=\"convertToInteractive('df-29b93b52-1cc7-4f2b-965a-f69803218f71')\"\n",
              "              title=\"Convert this dataframe to an interactive table.\"\n",
              "              style=\"display:none;\">\n",
              "        \n",
              "  <svg xmlns=\"http://www.w3.org/2000/svg\" height=\"24px\"viewBox=\"0 0 24 24\"\n",
              "       width=\"24px\">\n",
              "    <path d=\"M0 0h24v24H0V0z\" fill=\"none\"/>\n",
              "    <path d=\"M18.56 5.44l.94 2.06.94-2.06 2.06-.94-2.06-.94-.94-2.06-.94 2.06-2.06.94zm-11 1L8.5 8.5l.94-2.06 2.06-.94-2.06-.94L8.5 2.5l-.94 2.06-2.06.94zm10 10l.94 2.06.94-2.06 2.06-.94-2.06-.94-.94-2.06-.94 2.06-2.06.94z\"/><path d=\"M17.41 7.96l-1.37-1.37c-.4-.4-.92-.59-1.43-.59-.52 0-1.04.2-1.43.59L10.3 9.45l-7.72 7.72c-.78.78-.78 2.05 0 2.83L4 21.41c.39.39.9.59 1.41.59.51 0 1.02-.2 1.41-.59l7.78-7.78 2.81-2.81c.8-.78.8-2.07 0-2.86zM5.41 20L4 18.59l7.72-7.72 1.47 1.35L5.41 20z\"/>\n",
              "  </svg>\n",
              "      </button>\n",
              "      \n",
              "  <style>\n",
              "    .colab-df-container {\n",
              "      display:flex;\n",
              "      flex-wrap:wrap;\n",
              "      gap: 12px;\n",
              "    }\n",
              "\n",
              "    .colab-df-convert {\n",
              "      background-color: #E8F0FE;\n",
              "      border: none;\n",
              "      border-radius: 50%;\n",
              "      cursor: pointer;\n",
              "      display: none;\n",
              "      fill: #1967D2;\n",
              "      height: 32px;\n",
              "      padding: 0 0 0 0;\n",
              "      width: 32px;\n",
              "    }\n",
              "\n",
              "    .colab-df-convert:hover {\n",
              "      background-color: #E2EBFA;\n",
              "      box-shadow: 0px 1px 2px rgba(60, 64, 67, 0.3), 0px 1px 3px 1px rgba(60, 64, 67, 0.15);\n",
              "      fill: #174EA6;\n",
              "    }\n",
              "\n",
              "    [theme=dark] .colab-df-convert {\n",
              "      background-color: #3B4455;\n",
              "      fill: #D2E3FC;\n",
              "    }\n",
              "\n",
              "    [theme=dark] .colab-df-convert:hover {\n",
              "      background-color: #434B5C;\n",
              "      box-shadow: 0px 1px 3px 1px rgba(0, 0, 0, 0.15);\n",
              "      filter: drop-shadow(0px 1px 2px rgba(0, 0, 0, 0.3));\n",
              "      fill: #FFFFFF;\n",
              "    }\n",
              "  </style>\n",
              "\n",
              "      <script>\n",
              "        const buttonEl =\n",
              "          document.querySelector('#df-29b93b52-1cc7-4f2b-965a-f69803218f71 button.colab-df-convert');\n",
              "        buttonEl.style.display =\n",
              "          google.colab.kernel.accessAllowed ? 'block' : 'none';\n",
              "\n",
              "        async function convertToInteractive(key) {\n",
              "          const element = document.querySelector('#df-29b93b52-1cc7-4f2b-965a-f69803218f71');\n",
              "          const dataTable =\n",
              "            await google.colab.kernel.invokeFunction('convertToInteractive',\n",
              "                                                     [key], {});\n",
              "          if (!dataTable) return;\n",
              "\n",
              "          const docLinkHtml = 'Like what you see? Visit the ' +\n",
              "            '<a target=\"_blank\" href=https://colab.research.google.com/notebooks/data_table.ipynb>data table notebook</a>'\n",
              "            + ' to learn more about interactive tables.';\n",
              "          element.innerHTML = '';\n",
              "          dataTable['output_type'] = 'display_data';\n",
              "          await google.colab.output.renderOutput(dataTable, element);\n",
              "          const docLink = document.createElement('div');\n",
              "          docLink.innerHTML = docLinkHtml;\n",
              "          element.appendChild(docLink);\n",
              "        }\n",
              "      </script>\n",
              "    </div>\n",
              "  </div>\n",
              "  "
            ],
            "text/plain": [
              "    교육분야1차  호칭\n",
              "741     IT  사원\n",
              "853     IT  대리\n",
              "889     IT  사원"
            ]
          },
          "metadata": {},
          "execution_count": 461
        }
      ]
    },
    {
      "cell_type": "code",
      "source": [
        "df_IT_Q .reset_index(drop=True, inplace=True)\n",
        "df_IT_Q[['교육분야1차', '호칭']].head(3)"
      ],
      "metadata": {
        "colab": {
          "base_uri": "https://localhost:8080/",
          "height": 143
        },
        "id": "jM5JR0TNmnVA",
        "outputId": "d67d5208-2af2-45a9-e629-59159728fde9"
      },
      "execution_count": 462,
      "outputs": [
        {
          "output_type": "execute_result",
          "data": {
            "text/html": [
              "\n",
              "  <div id=\"df-ed313ea0-040a-4583-8b6e-03d835ebb684\">\n",
              "    <div class=\"colab-df-container\">\n",
              "      <div>\n",
              "<style scoped>\n",
              "    .dataframe tbody tr th:only-of-type {\n",
              "        vertical-align: middle;\n",
              "    }\n",
              "\n",
              "    .dataframe tbody tr th {\n",
              "        vertical-align: top;\n",
              "    }\n",
              "\n",
              "    .dataframe thead th {\n",
              "        text-align: right;\n",
              "    }\n",
              "</style>\n",
              "<table border=\"1\" class=\"dataframe\">\n",
              "  <thead>\n",
              "    <tr style=\"text-align: right;\">\n",
              "      <th></th>\n",
              "      <th>교육분야1차</th>\n",
              "      <th>호칭</th>\n",
              "    </tr>\n",
              "  </thead>\n",
              "  <tbody>\n",
              "    <tr>\n",
              "      <th>0</th>\n",
              "      <td>IT</td>\n",
              "      <td>사원</td>\n",
              "    </tr>\n",
              "    <tr>\n",
              "      <th>1</th>\n",
              "      <td>IT</td>\n",
              "      <td>대리</td>\n",
              "    </tr>\n",
              "    <tr>\n",
              "      <th>2</th>\n",
              "      <td>IT</td>\n",
              "      <td>사원</td>\n",
              "    </tr>\n",
              "  </tbody>\n",
              "</table>\n",
              "</div>\n",
              "      <button class=\"colab-df-convert\" onclick=\"convertToInteractive('df-ed313ea0-040a-4583-8b6e-03d835ebb684')\"\n",
              "              title=\"Convert this dataframe to an interactive table.\"\n",
              "              style=\"display:none;\">\n",
              "        \n",
              "  <svg xmlns=\"http://www.w3.org/2000/svg\" height=\"24px\"viewBox=\"0 0 24 24\"\n",
              "       width=\"24px\">\n",
              "    <path d=\"M0 0h24v24H0V0z\" fill=\"none\"/>\n",
              "    <path d=\"M18.56 5.44l.94 2.06.94-2.06 2.06-.94-2.06-.94-.94-2.06-.94 2.06-2.06.94zm-11 1L8.5 8.5l.94-2.06 2.06-.94-2.06-.94L8.5 2.5l-.94 2.06-2.06.94zm10 10l.94 2.06.94-2.06 2.06-.94-2.06-.94-.94-2.06-.94 2.06-2.06.94z\"/><path d=\"M17.41 7.96l-1.37-1.37c-.4-.4-.92-.59-1.43-.59-.52 0-1.04.2-1.43.59L10.3 9.45l-7.72 7.72c-.78.78-.78 2.05 0 2.83L4 21.41c.39.39.9.59 1.41.59.51 0 1.02-.2 1.41-.59l7.78-7.78 2.81-2.81c.8-.78.8-2.07 0-2.86zM5.41 20L4 18.59l7.72-7.72 1.47 1.35L5.41 20z\"/>\n",
              "  </svg>\n",
              "      </button>\n",
              "      \n",
              "  <style>\n",
              "    .colab-df-container {\n",
              "      display:flex;\n",
              "      flex-wrap:wrap;\n",
              "      gap: 12px;\n",
              "    }\n",
              "\n",
              "    .colab-df-convert {\n",
              "      background-color: #E8F0FE;\n",
              "      border: none;\n",
              "      border-radius: 50%;\n",
              "      cursor: pointer;\n",
              "      display: none;\n",
              "      fill: #1967D2;\n",
              "      height: 32px;\n",
              "      padding: 0 0 0 0;\n",
              "      width: 32px;\n",
              "    }\n",
              "\n",
              "    .colab-df-convert:hover {\n",
              "      background-color: #E2EBFA;\n",
              "      box-shadow: 0px 1px 2px rgba(60, 64, 67, 0.3), 0px 1px 3px 1px rgba(60, 64, 67, 0.15);\n",
              "      fill: #174EA6;\n",
              "    }\n",
              "\n",
              "    [theme=dark] .colab-df-convert {\n",
              "      background-color: #3B4455;\n",
              "      fill: #D2E3FC;\n",
              "    }\n",
              "\n",
              "    [theme=dark] .colab-df-convert:hover {\n",
              "      background-color: #434B5C;\n",
              "      box-shadow: 0px 1px 3px 1px rgba(0, 0, 0, 0.15);\n",
              "      filter: drop-shadow(0px 1px 2px rgba(0, 0, 0, 0.3));\n",
              "      fill: #FFFFFF;\n",
              "    }\n",
              "  </style>\n",
              "\n",
              "      <script>\n",
              "        const buttonEl =\n",
              "          document.querySelector('#df-ed313ea0-040a-4583-8b6e-03d835ebb684 button.colab-df-convert');\n",
              "        buttonEl.style.display =\n",
              "          google.colab.kernel.accessAllowed ? 'block' : 'none';\n",
              "\n",
              "        async function convertToInteractive(key) {\n",
              "          const element = document.querySelector('#df-ed313ea0-040a-4583-8b6e-03d835ebb684');\n",
              "          const dataTable =\n",
              "            await google.colab.kernel.invokeFunction('convertToInteractive',\n",
              "                                                     [key], {});\n",
              "          if (!dataTable) return;\n",
              "\n",
              "          const docLinkHtml = 'Like what you see? Visit the ' +\n",
              "            '<a target=\"_blank\" href=https://colab.research.google.com/notebooks/data_table.ipynb>data table notebook</a>'\n",
              "            + ' to learn more about interactive tables.';\n",
              "          element.innerHTML = '';\n",
              "          dataTable['output_type'] = 'display_data';\n",
              "          await google.colab.output.renderOutput(dataTable, element);\n",
              "          const docLink = document.createElement('div');\n",
              "          docLink.innerHTML = docLinkHtml;\n",
              "          element.appendChild(docLink);\n",
              "        }\n",
              "      </script>\n",
              "    </div>\n",
              "  </div>\n",
              "  "
            ],
            "text/plain": [
              "  교육분야1차  호칭\n",
              "0     IT  사원\n",
              "1     IT  대리\n",
              "2     IT  사원"
            ]
          },
          "metadata": {},
          "execution_count": 462
        }
      ]
    },
    {
      "cell_type": "code",
      "source": [
        "df_IT_Q.shape"
      ],
      "metadata": {
        "colab": {
          "base_uri": "https://localhost:8080/"
        },
        "id": "_qVHyKp1chxY",
        "outputId": "ddbb1e95-f3cf-4a04-d11a-92f36e0ccea5"
      },
      "execution_count": 463,
      "outputs": [
        {
          "output_type": "execute_result",
          "data": {
            "text/plain": [
              "(21535, 23)"
            ]
          },
          "metadata": {},
          "execution_count": 463
        }
      ]
    },
    {
      "cell_type": "code",
      "source": [
        "df_IT_Q.head(3)"
      ],
      "metadata": {
        "colab": {
          "base_uri": "https://localhost:8080/",
          "height": 798
        },
        "id": "ZRk3YzkzeWNc",
        "outputId": "54ae982c-1e57-4da3-e178-73b74461271f"
      },
      "execution_count": 464,
      "outputs": [
        {
          "output_type": "execute_result",
          "data": {
            "text/html": [
              "\n",
              "  <div id=\"df-3bd57f01-89c8-4316-b7e8-93815d4c9ad0\">\n",
              "    <div class=\"colab-df-container\">\n",
              "      <div>\n",
              "<style scoped>\n",
              "    .dataframe tbody tr th:only-of-type {\n",
              "        vertical-align: middle;\n",
              "    }\n",
              "\n",
              "    .dataframe tbody tr th {\n",
              "        vertical-align: top;\n",
              "    }\n",
              "\n",
              "    .dataframe thead th {\n",
              "        text-align: right;\n",
              "    }\n",
              "</style>\n",
              "<table border=\"1\" class=\"dataframe\">\n",
              "  <thead>\n",
              "    <tr style=\"text-align: right;\">\n",
              "      <th></th>\n",
              "      <th>교육분야1차</th>\n",
              "      <th>교육분야2차</th>\n",
              "      <th>과정코드</th>\n",
              "      <th>과정명(학습명)</th>\n",
              "      <th>과정등록일(생성일)</th>\n",
              "      <th>학습시작일</th>\n",
              "      <th>학습종료일</th>\n",
              "      <th>사번(ID)</th>\n",
              "      <th>소속부서</th>\n",
              "      <th>호칭</th>\n",
              "      <th>직무</th>\n",
              "      <th>제작/소싱</th>\n",
              "      <th>자격증보유여부</th>\n",
              "      <th>학습지수</th>\n",
              "      <th>과정코드비율</th>\n",
              "      <th>경력개월수</th>\n",
              "      <th>어학점수</th>\n",
              "      <th>수강횟수</th>\n",
              "      <th>학습시작일_TIME</th>\n",
              "      <th>학습종료일_TIME</th>\n",
              "      <th>학습요일</th>\n",
              "      <th>학습요일_CONV</th>\n",
              "      <th>학습시간</th>\n",
              "    </tr>\n",
              "  </thead>\n",
              "  <tbody>\n",
              "    <tr>\n",
              "      <th>0</th>\n",
              "      <td>IT</td>\n",
              "      <td>it</td>\n",
              "      <td>200000890</td>\n",
              "      <td>K에듀 임직원 정보보안 생활백서</td>\n",
              "      <td>2020-11-23 18:52:31.0</td>\n",
              "      <td>2021-01-03 19:25:32</td>\n",
              "      <td>2021-01-03 19:27:35</td>\n",
              "      <td>6100410106</td>\n",
              "      <td>기타</td>\n",
              "      <td>사원</td>\n",
              "      <td>영업</td>\n",
              "      <td>NaN</td>\n",
              "      <td>N</td>\n",
              "      <td>51.0</td>\n",
              "      <td>43.259518</td>\n",
              "      <td>56.0</td>\n",
              "      <td>808.0</td>\n",
              "      <td>2.0</td>\n",
              "      <td>19:25:32</td>\n",
              "      <td>19:27:35</td>\n",
              "      <td>6</td>\n",
              "      <td>일</td>\n",
              "      <td>123.0</td>\n",
              "    </tr>\n",
              "    <tr>\n",
              "      <th>1</th>\n",
              "      <td>IT</td>\n",
              "      <td>it</td>\n",
              "      <td>100008024</td>\n",
              "      <td>RPA실습하기</td>\n",
              "      <td>2018-07-17 13:26:04.0</td>\n",
              "      <td>2021-01-04 08:31:52</td>\n",
              "      <td>2021-01-04 08:34:07</td>\n",
              "      <td>3820059936</td>\n",
              "      <td>전남</td>\n",
              "      <td>대리</td>\n",
              "      <td>HR</td>\n",
              "      <td>NaN</td>\n",
              "      <td>N</td>\n",
              "      <td>70.0</td>\n",
              "      <td>23.852305</td>\n",
              "      <td>128.0</td>\n",
              "      <td>906.0</td>\n",
              "      <td>1.0</td>\n",
              "      <td>08:31:52</td>\n",
              "      <td>08:34:07</td>\n",
              "      <td>0</td>\n",
              "      <td>월</td>\n",
              "      <td>135.0</td>\n",
              "    </tr>\n",
              "    <tr>\n",
              "      <th>2</th>\n",
              "      <td>IT</td>\n",
              "      <td>it</td>\n",
              "      <td>200000516</td>\n",
              "      <td>1 전환 가입자 예측 모델 만들기</td>\n",
              "      <td>2020-11-12 09:19:45.0</td>\n",
              "      <td>2021-01-04 08:52:03</td>\n",
              "      <td>2021-01-04 14:01:08</td>\n",
              "      <td>9100099099</td>\n",
              "      <td>기타</td>\n",
              "      <td>사원</td>\n",
              "      <td>HR</td>\n",
              "      <td>NaN</td>\n",
              "      <td>N</td>\n",
              "      <td>75.0</td>\n",
              "      <td>71.629759</td>\n",
              "      <td>124.0</td>\n",
              "      <td>730.0</td>\n",
              "      <td>7.0</td>\n",
              "      <td>08:52:03</td>\n",
              "      <td>14:01:08</td>\n",
              "      <td>0</td>\n",
              "      <td>월</td>\n",
              "      <td>18545.0</td>\n",
              "    </tr>\n",
              "  </tbody>\n",
              "</table>\n",
              "</div>\n",
              "      <button class=\"colab-df-convert\" onclick=\"convertToInteractive('df-3bd57f01-89c8-4316-b7e8-93815d4c9ad0')\"\n",
              "              title=\"Convert this dataframe to an interactive table.\"\n",
              "              style=\"display:none;\">\n",
              "        \n",
              "  <svg xmlns=\"http://www.w3.org/2000/svg\" height=\"24px\"viewBox=\"0 0 24 24\"\n",
              "       width=\"24px\">\n",
              "    <path d=\"M0 0h24v24H0V0z\" fill=\"none\"/>\n",
              "    <path d=\"M18.56 5.44l.94 2.06.94-2.06 2.06-.94-2.06-.94-.94-2.06-.94 2.06-2.06.94zm-11 1L8.5 8.5l.94-2.06 2.06-.94-2.06-.94L8.5 2.5l-.94 2.06-2.06.94zm10 10l.94 2.06.94-2.06 2.06-.94-2.06-.94-.94-2.06-.94 2.06-2.06.94z\"/><path d=\"M17.41 7.96l-1.37-1.37c-.4-.4-.92-.59-1.43-.59-.52 0-1.04.2-1.43.59L10.3 9.45l-7.72 7.72c-.78.78-.78 2.05 0 2.83L4 21.41c.39.39.9.59 1.41.59.51 0 1.02-.2 1.41-.59l7.78-7.78 2.81-2.81c.8-.78.8-2.07 0-2.86zM5.41 20L4 18.59l7.72-7.72 1.47 1.35L5.41 20z\"/>\n",
              "  </svg>\n",
              "      </button>\n",
              "      \n",
              "  <style>\n",
              "    .colab-df-container {\n",
              "      display:flex;\n",
              "      flex-wrap:wrap;\n",
              "      gap: 12px;\n",
              "    }\n",
              "\n",
              "    .colab-df-convert {\n",
              "      background-color: #E8F0FE;\n",
              "      border: none;\n",
              "      border-radius: 50%;\n",
              "      cursor: pointer;\n",
              "      display: none;\n",
              "      fill: #1967D2;\n",
              "      height: 32px;\n",
              "      padding: 0 0 0 0;\n",
              "      width: 32px;\n",
              "    }\n",
              "\n",
              "    .colab-df-convert:hover {\n",
              "      background-color: #E2EBFA;\n",
              "      box-shadow: 0px 1px 2px rgba(60, 64, 67, 0.3), 0px 1px 3px 1px rgba(60, 64, 67, 0.15);\n",
              "      fill: #174EA6;\n",
              "    }\n",
              "\n",
              "    [theme=dark] .colab-df-convert {\n",
              "      background-color: #3B4455;\n",
              "      fill: #D2E3FC;\n",
              "    }\n",
              "\n",
              "    [theme=dark] .colab-df-convert:hover {\n",
              "      background-color: #434B5C;\n",
              "      box-shadow: 0px 1px 3px 1px rgba(0, 0, 0, 0.15);\n",
              "      filter: drop-shadow(0px 1px 2px rgba(0, 0, 0, 0.3));\n",
              "      fill: #FFFFFF;\n",
              "    }\n",
              "  </style>\n",
              "\n",
              "      <script>\n",
              "        const buttonEl =\n",
              "          document.querySelector('#df-3bd57f01-89c8-4316-b7e8-93815d4c9ad0 button.colab-df-convert');\n",
              "        buttonEl.style.display =\n",
              "          google.colab.kernel.accessAllowed ? 'block' : 'none';\n",
              "\n",
              "        async function convertToInteractive(key) {\n",
              "          const element = document.querySelector('#df-3bd57f01-89c8-4316-b7e8-93815d4c9ad0');\n",
              "          const dataTable =\n",
              "            await google.colab.kernel.invokeFunction('convertToInteractive',\n",
              "                                                     [key], {});\n",
              "          if (!dataTable) return;\n",
              "\n",
              "          const docLinkHtml = 'Like what you see? Visit the ' +\n",
              "            '<a target=\"_blank\" href=https://colab.research.google.com/notebooks/data_table.ipynb>data table notebook</a>'\n",
              "            + ' to learn more about interactive tables.';\n",
              "          element.innerHTML = '';\n",
              "          dataTable['output_type'] = 'display_data';\n",
              "          await google.colab.output.renderOutput(dataTable, element);\n",
              "          const docLink = document.createElement('div');\n",
              "          docLink.innerHTML = docLinkHtml;\n",
              "          element.appendChild(docLink);\n",
              "        }\n",
              "      </script>\n",
              "    </div>\n",
              "  </div>\n",
              "  "
            ],
            "text/plain": [
              "  교육분야1차 교육분야2차       과정코드  ... 학습요일 학습요일_CONV     학습시간\n",
              "0     IT     it  200000890  ...    6         일    123.0\n",
              "1     IT     it  100008024  ...    0         월    135.0\n",
              "2     IT     it  200000516  ...    0         월  18545.0\n",
              "\n",
              "[3 rows x 23 columns]"
            ]
          },
          "metadata": {},
          "execution_count": 464
        }
      ]
    },
    {
      "cell_type": "code",
      "source": [
        "df_IT_Q.info()"
      ],
      "metadata": {
        "colab": {
          "base_uri": "https://localhost:8080/"
        },
        "id": "SdxLcbjCchz2",
        "outputId": "daf00f8c-ae07-4617-9c3d-66b3b37ceaeb"
      },
      "execution_count": 465,
      "outputs": [
        {
          "output_type": "stream",
          "name": "stdout",
          "text": [
            "<class 'pandas.core.frame.DataFrame'>\n",
            "RangeIndex: 21535 entries, 0 to 21534\n",
            "Data columns (total 23 columns):\n",
            " #   Column      Non-Null Count  Dtype         \n",
            "---  ------      --------------  -----         \n",
            " 0   교육분야1차      21535 non-null  object        \n",
            " 1   교육분야2차      21535 non-null  object        \n",
            " 2   과정코드        21535 non-null  object        \n",
            " 3   과정명(학습명)    21535 non-null  object        \n",
            " 4   과정등록일(생성일)  12731 non-null  object        \n",
            " 5   학습시작일       21535 non-null  datetime64[ns]\n",
            " 6   학습종료일       21535 non-null  datetime64[ns]\n",
            " 7   사번(ID)      21535 non-null  object        \n",
            " 8   소속부서        21535 non-null  object        \n",
            " 9   호칭          21535 non-null  object        \n",
            " 10  직무          21535 non-null  object        \n",
            " 11  제작/소싱       13 non-null     object        \n",
            " 12  자격증보유여부     21535 non-null  object        \n",
            " 13  학습지수        21505 non-null  float64       \n",
            " 14  과정코드비율      21535 non-null  float64       \n",
            " 15  경력개월수       21535 non-null  float64       \n",
            " 16  어학점수        21535 non-null  float64       \n",
            " 17  수강횟수        21535 non-null  float64       \n",
            " 18  학습시작일_TIME  21535 non-null  object        \n",
            " 19  학습종료일_TIME  21535 non-null  object        \n",
            " 20  학습요일        21535 non-null  int64         \n",
            " 21  학습요일_CONV   21535 non-null  object        \n",
            " 22  학습시간        21535 non-null  float64       \n",
            "dtypes: datetime64[ns](2), float64(6), int64(1), object(14)\n",
            "memory usage: 3.8+ MB\n"
          ]
        }
      ]
    },
    {
      "cell_type": "markdown",
      "source": [
        "### 과정코드:과정명 디셔너리 만들기"
      ],
      "metadata": {
        "id": "7oZkdSRQG265"
      }
    },
    {
      "cell_type": "code",
      "source": [
        "# 과정코드 --> 과정명 변환 할수 있게\n",
        "과정코드_TO_과정명 = {}\n",
        "for idx in df_IT_Q.index:\n",
        "  code = df_IT_Q.loc[idx, '과정코드']\n",
        "  name = df_IT_Q.loc[idx, '과정명(학습명)']\n",
        "  과정코드_TO_과정명[str(code)] = name"
      ],
      "metadata": {
        "id": "XtczZR-j9-xM"
      },
      "execution_count": 466,
      "outputs": []
    },
    {
      "cell_type": "markdown",
      "source": [
        "# 시각화 & 전처리 \n",
        "- 연속형 컬럼에 대해 시각화를 통한 이상치 제거\n",
        "- 카테고리형 컬럼 시각화를 통한 분포 확인\n",
        "- null 처리             \n",
        "- null 많은 컬럼 , 불필요한 컬럼 삭제"
      ],
      "metadata": {
        "id": "jsLB-Jqb4Bbi"
      }
    },
    {
      "cell_type": "markdown",
      "source": [
        "### 연속형 컬럼에 대해 시각화를 통한 이상치 제거"
      ],
      "metadata": {
        "id": "9-BwV_gXW4oB"
      }
    },
    {
      "cell_type": "markdown",
      "source": [
        "#### 학습시간 이상치 제거"
      ],
      "metadata": {
        "id": "Pt08XzQX-5RA"
      }
    },
    {
      "cell_type": "code",
      "source": [
        "df_IT_Q['학습시간'].plot(kind='box')"
      ],
      "metadata": {
        "colab": {
          "base_uri": "https://localhost:8080/",
          "height": 294
        },
        "id": "81z9F2boWvZI",
        "outputId": "0aff469f-a35b-4d9e-f6ff-4154b7da9f7c"
      },
      "execution_count": 467,
      "outputs": [
        {
          "output_type": "execute_result",
          "data": {
            "text/plain": [
              "<matplotlib.axes._subplots.AxesSubplot at 0x7fee05426150>"
            ]
          },
          "metadata": {},
          "execution_count": 467
        },
        {
          "output_type": "display_data",
          "data": {
            "image/png": "[encoded data removed]",
            "text/plain": [
              "<Figure size 432x288 with 1 Axes>"
            ]
          },
          "metadata": {
            "needs_background": "light"
          }
        }
      ]
    },
    {
      "cell_type": "code",
      "source": [
        "drop_index = df_IT_Q[df_IT_Q['학습시간'] > 0.4 * 1e7].index\n",
        "drop_index"
      ],
      "metadata": {
        "colab": {
          "base_uri": "https://localhost:8080/"
        },
        "id": "0jH_HL0XWvb1",
        "outputId": "a341f23a-3d80-4187-c6a1-ddff4e833935"
      },
      "execution_count": 468,
      "outputs": [
        {
          "output_type": "execute_result",
          "data": {
            "text/plain": [
              "Int64Index([2796, 3028, 3162, 3809, 3984, 3985], dtype='int64')"
            ]
          },
          "metadata": {},
          "execution_count": 468
        }
      ]
    },
    {
      "cell_type": "code",
      "source": [
        "df_IT_Q.drop(drop_index, axis=0, inplace=True)\n",
        "df_IT_Q['학습시간'].plot(kind='box')"
      ],
      "metadata": {
        "colab": {
          "base_uri": "https://localhost:8080/",
          "height": 294
        },
        "id": "cUAn482HWvew",
        "outputId": "a7faf95c-ab73-479b-d83a-7f6a94ebe912"
      },
      "execution_count": 469,
      "outputs": [
        {
          "output_type": "execute_result",
          "data": {
            "text/plain": [
              "<matplotlib.axes._subplots.AxesSubplot at 0x7fee11c3fd50>"
            ]
          },
          "metadata": {},
          "execution_count": 469
        },
        {
          "output_type": "display_data",
          "data": {
            "image/png": "[encoded data removed]",
            "text/plain": [
              "<Figure size 432x288 with 1 Axes>"
            ]
          },
          "metadata": {
            "needs_background": "light"
          }
        }
      ]
    },
    {
      "cell_type": "code",
      "source": [
        "drop_index = df_IT_Q[df_IT_Q['학습시간'] > 2000 ].index\n",
        "len(drop_index)"
      ],
      "metadata": {
        "colab": {
          "base_uri": "https://localhost:8080/"
        },
        "id": "Rij2lgAJXCZ9",
        "outputId": "9398ec31-a65d-4696-9b9e-10337404cae6"
      },
      "execution_count": 470,
      "outputs": [
        {
          "output_type": "execute_result",
          "data": {
            "text/plain": [
              "4839"
            ]
          },
          "metadata": {},
          "execution_count": 470
        }
      ]
    },
    {
      "cell_type": "code",
      "source": [
        "df_IT_Q.drop(drop_index, axis=0, inplace=True)\n",
        "df_IT_Q['학습시간'].plot(kind='box')"
      ],
      "metadata": {
        "colab": {
          "base_uri": "https://localhost:8080/",
          "height": 283
        },
        "id": "KPnr861XXIQI",
        "outputId": "34b2bf5e-7408-4a52-b7be-1c80c64dd047"
      },
      "execution_count": 471,
      "outputs": [
        {
          "output_type": "execute_result",
          "data": {
            "text/plain": [
              "<matplotlib.axes._subplots.AxesSubplot at 0x7fee0539aa50>"
            ]
          },
          "metadata": {},
          "execution_count": 471
        },
        {
          "output_type": "display_data",
          "data": {
            "image/png": "[encoded data removed]",
            "text/plain": [
              "<Figure size 432x288 with 1 Axes>"
            ]
          },
          "metadata": {
            "needs_background": "light"
          }
        }
      ]
    },
    {
      "cell_type": "markdown",
      "source": [
        "#### 경력개월수 이상치 제거"
      ],
      "metadata": {
        "id": "eXdhimk4y895"
      }
    },
    {
      "cell_type": "code",
      "source": [
        "df_IT_Q['경력개월수'].plot(kind='box')"
      ],
      "metadata": {
        "colab": {
          "base_uri": "https://localhost:8080/",
          "height": 283
        },
        "id": "n6Pbzhj0yzw1",
        "outputId": "28100230-ef57-4ad2-9b1a-7a98f67bc7e4"
      },
      "execution_count": 472,
      "outputs": [
        {
          "output_type": "execute_result",
          "data": {
            "text/plain": [
              "<matplotlib.axes._subplots.AxesSubplot at 0x7fee0531c590>"
            ]
          },
          "metadata": {},
          "execution_count": 472
        },
        {
          "output_type": "display_data",
          "data": {
            "image/png": "[encoded data removed]",
            "text/plain": [
              "<Figure size 432x288 with 1 Axes>"
            ]
          },
          "metadata": {
            "needs_background": "light"
          }
        }
      ]
    },
    {
      "cell_type": "code",
      "source": [
        "drop_index = df_IT_Q[df_IT_Q['경력개월수'] > 200].index\n",
        "df_IT_Q.drop(drop_index, axis=0, inplace=True)"
      ],
      "metadata": {
        "id": "N_tEg580yzzK"
      },
      "execution_count": 473,
      "outputs": []
    },
    {
      "cell_type": "code",
      "source": [
        "df_IT_Q['경력개월수'].plot(kind='box')"
      ],
      "metadata": {
        "colab": {
          "base_uri": "https://localhost:8080/",
          "height": 283
        },
        "id": "7yr93hGgyz10",
        "outputId": "2affd64d-a9e5-4aba-b890-5b390bd720ae"
      },
      "execution_count": 474,
      "outputs": [
        {
          "output_type": "execute_result",
          "data": {
            "text/plain": [
              "<matplotlib.axes._subplots.AxesSubplot at 0x7fee052dff50>"
            ]
          },
          "metadata": {},
          "execution_count": 474
        },
        {
          "output_type": "display_data",
          "data": {
            "image/png": "[encoded data removed]",
            "text/plain": [
              "<Figure size 432x288 with 1 Axes>"
            ]
          },
          "metadata": {
            "needs_background": "light"
          }
        }
      ]
    },
    {
      "cell_type": "markdown",
      "source": [
        "#### 어학점수 이상치 제거"
      ],
      "metadata": {
        "id": "PNCJ4Iohzs1E"
      }
    },
    {
      "cell_type": "code",
      "source": [
        "df_IT_Q['어학점수'].plot(kind='box')"
      ],
      "metadata": {
        "colab": {
          "base_uri": "https://localhost:8080/",
          "height": 283
        },
        "id": "vzzgxVcsyz7P",
        "outputId": "b390fb1b-2fe8-4c53-fc44-aa4ae9a54763"
      },
      "execution_count": 475,
      "outputs": [
        {
          "output_type": "execute_result",
          "data": {
            "text/plain": [
              "<matplotlib.axes._subplots.AxesSubplot at 0x7fee052c0210>"
            ]
          },
          "metadata": {},
          "execution_count": 475
        },
        {
          "output_type": "display_data",
          "data": {
            "image/png": "[encoded data removed]",
            "text/plain": [
              "<Figure size 432x288 with 1 Axes>"
            ]
          },
          "metadata": {
            "needs_background": "light"
          }
        }
      ]
    },
    {
      "cell_type": "code",
      "source": [
        "drop_index = df_IT_Q[df_IT_Q['어학점수'] < 240].index\n",
        "df_IT_Q.drop(drop_index, axis=0, inplace=True)"
      ],
      "metadata": {
        "id": "U4tq31Ocyz96"
      },
      "execution_count": 476,
      "outputs": []
    },
    {
      "cell_type": "code",
      "source": [
        "df_IT_Q['어학점수'].plot(kind='box')"
      ],
      "metadata": {
        "colab": {
          "base_uri": "https://localhost:8080/",
          "height": 283
        },
        "id": "TlgyCcWMy0A4",
        "outputId": "16db555a-8a77-43a7-ee96-1fd26d0e81b5"
      },
      "execution_count": 477,
      "outputs": [
        {
          "output_type": "execute_result",
          "data": {
            "text/plain": [
              "<matplotlib.axes._subplots.AxesSubplot at 0x7fee0528b590>"
            ]
          },
          "metadata": {},
          "execution_count": 477
        },
        {
          "output_type": "display_data",
          "data": {
            "image/png": "[encoded data removed]",
            "text/plain": [
              "<Figure size 432x288 with 1 Axes>"
            ]
          },
          "metadata": {
            "needs_background": "light"
          }
        }
      ]
    },
    {
      "cell_type": "markdown",
      "source": [
        "#### 수강횟수 이상치 제거"
      ],
      "metadata": {
        "id": "M6E5IIiQ0Kf3"
      }
    },
    {
      "cell_type": "code",
      "source": [
        "df_IT_Q['수강횟수'].plot(kind='box')"
      ],
      "metadata": {
        "colab": {
          "base_uri": "https://localhost:8080/",
          "height": 283
        },
        "id": "DjU0VyA7z_3-",
        "outputId": "1c21bdeb-9dbd-4381-c9d6-42513d6e9de8"
      },
      "execution_count": 478,
      "outputs": [
        {
          "output_type": "execute_result",
          "data": {
            "text/plain": [
              "<matplotlib.axes._subplots.AxesSubplot at 0x7fee05250250>"
            ]
          },
          "metadata": {},
          "execution_count": 478
        },
        {
          "output_type": "display_data",
          "data": {
            "image/png": "[encoded data removed]",
            "text/plain": [
              "<Figure size 432x288 with 1 Axes>"
            ]
          },
          "metadata": {
            "needs_background": "light"
          }
        }
      ]
    },
    {
      "cell_type": "code",
      "source": [
        "drop_index = df_IT_Q[df_IT_Q['수강횟수'] > 10].index\n",
        "df_IT_Q.drop(drop_index, axis=0, inplace=True)"
      ],
      "metadata": {
        "id": "cVV4Tq-I0F0B"
      },
      "execution_count": 479,
      "outputs": []
    },
    {
      "cell_type": "code",
      "source": [
        "df_IT_Q['수강횟수'].plot(kind='box')"
      ],
      "metadata": {
        "colab": {
          "base_uri": "https://localhost:8080/",
          "height": 283
        },
        "id": "5c6lpuqd0F2d",
        "outputId": "624a582d-cce2-492d-a147-ed134c481ab0"
      },
      "execution_count": 480,
      "outputs": [
        {
          "output_type": "execute_result",
          "data": {
            "text/plain": [
              "<matplotlib.axes._subplots.AxesSubplot at 0x7fee051c92d0>"
            ]
          },
          "metadata": {},
          "execution_count": 480
        },
        {
          "output_type": "display_data",
          "data": {
            "image/png": "[encoded data removed]",
            "text/plain": [
              "<Figure size 432x288 with 1 Axes>"
            ]
          },
          "metadata": {
            "needs_background": "light"
          }
        }
      ]
    },
    {
      "cell_type": "markdown",
      "source": [
        "#### 학습지수, 학습시간 컬럼은 큰 이상치 없어 넘어감"
      ],
      "metadata": {
        "id": "vlfK2JrJ_aCk"
      }
    },
    {
      "cell_type": "code",
      "source": [
        "df_IT_Q['학습지수'].plot(kind='box')"
      ],
      "metadata": {
        "colab": {
          "base_uri": "https://localhost:8080/",
          "height": 283
        },
        "id": "dwUSeFegXsEa",
        "outputId": "9d4c9e9d-d120-4b88-e55b-c526391bc013"
      },
      "execution_count": 481,
      "outputs": [
        {
          "output_type": "execute_result",
          "data": {
            "text/plain": [
              "<matplotlib.axes._subplots.AxesSubplot at 0x7fee05123f10>"
            ]
          },
          "metadata": {},
          "execution_count": 481
        },
        {
          "output_type": "display_data",
          "data": {
            "image/png": "[encoded data removed]",
            "text/plain": [
              "<Figure size 432x288 with 1 Axes>"
            ]
          },
          "metadata": {
            "needs_background": "light"
          }
        }
      ]
    },
    {
      "cell_type": "code",
      "source": [
        "df_IT_Q['학습시간'].plot(kind='box')"
      ],
      "metadata": {
        "colab": {
          "base_uri": "https://localhost:8080/",
          "height": 283
        },
        "id": "7iyNxDeSXsHQ",
        "outputId": "cb3a77e8-c19d-40f4-a29f-a3bea20ea11e"
      },
      "execution_count": 482,
      "outputs": [
        {
          "output_type": "execute_result",
          "data": {
            "text/plain": [
              "<matplotlib.axes._subplots.AxesSubplot at 0x7fee11c3f810>"
            ]
          },
          "metadata": {},
          "execution_count": 482
        },
        {
          "output_type": "display_data",
          "data": {
            "image/png": "[encoded data removed]",
            "text/plain": [
              "<Figure size 432x288 with 1 Axes>"
            ]
          },
          "metadata": {
            "needs_background": "light"
          }
        }
      ]
    },
    {
      "cell_type": "code",
      "source": [
        "df_IT_Q.plot(kind='scatter', x='학습지수', y='과정코드비율')"
      ],
      "metadata": {
        "colab": {
          "base_uri": "https://localhost:8080/",
          "height": 297
        },
        "id": "_jB8AmLLIyyA",
        "outputId": "c2ae7f4e-0d3d-44dd-f6ff-35ca05e1b6d4"
      },
      "execution_count": 483,
      "outputs": [
        {
          "output_type": "execute_result",
          "data": {
            "text/plain": [
              "<matplotlib.axes._subplots.AxesSubplot at 0x7fee05065110>"
            ]
          },
          "metadata": {},
          "execution_count": 483
        },
        {
          "output_type": "display_data",
          "data": {
            "image/png": "[encoded data removed]",
            "text/plain": [
              "<Figure size 432x288 with 1 Axes>"
            ]
          },
          "metadata": {
            "needs_background": "light"
          }
        }
      ]
    },
    {
      "cell_type": "code",
      "source": [
        "df_IT_Q.info()"
      ],
      "metadata": {
        "colab": {
          "base_uri": "https://localhost:8080/"
        },
        "id": "1eKTvgS0XNe7",
        "outputId": "93179378-fe14-4f1d-ded4-d5e48f22319e"
      },
      "execution_count": 484,
      "outputs": [
        {
          "output_type": "stream",
          "name": "stdout",
          "text": [
            "<class 'pandas.core.frame.DataFrame'>\n",
            "Int64Index: 16566 entries, 0 to 21534\n",
            "Data columns (total 23 columns):\n",
            " #   Column      Non-Null Count  Dtype         \n",
            "---  ------      --------------  -----         \n",
            " 0   교육분야1차      16566 non-null  object        \n",
            " 1   교육분야2차      16566 non-null  object        \n",
            " 2   과정코드        16566 non-null  object        \n",
            " 3   과정명(학습명)    16566 non-null  object        \n",
            " 4   과정등록일(생성일)  9882 non-null   object        \n",
            " 5   학습시작일       16566 non-null  datetime64[ns]\n",
            " 6   학습종료일       16566 non-null  datetime64[ns]\n",
            " 7   사번(ID)      16566 non-null  object        \n",
            " 8   소속부서        16566 non-null  object        \n",
            " 9   호칭          16566 non-null  object        \n",
            " 10  직무          16566 non-null  object        \n",
            " 11  제작/소싱       8 non-null      object        \n",
            " 12  자격증보유여부     16566 non-null  object        \n",
            " 13  학습지수        16542 non-null  float64       \n",
            " 14  과정코드비율      16566 non-null  float64       \n",
            " 15  경력개월수       16566 non-null  float64       \n",
            " 16  어학점수        16566 non-null  float64       \n",
            " 17  수강횟수        16566 non-null  float64       \n",
            " 18  학습시작일_TIME  16566 non-null  object        \n",
            " 19  학습종료일_TIME  16566 non-null  object        \n",
            " 20  학습요일        16566 non-null  int64         \n",
            " 21  학습요일_CONV   16566 non-null  object        \n",
            " 22  학습시간        16566 non-null  float64       \n",
            "dtypes: datetime64[ns](2), float64(6), int64(1), object(14)\n",
            "memory usage: 3.0+ MB\n"
          ]
        }
      ]
    },
    {
      "cell_type": "markdown",
      "source": [
        "### 카테고리형 컬럼 시각화를 통한 분포 확인\n",
        "- 교육분야2차 : 불평균 --> 컬럼 삭제 해야"
      ],
      "metadata": {
        "id": "IfOoiH79XaGc"
      }
    },
    {
      "cell_type": "code",
      "source": [
        "print(df_IT_Q['교육분야1차'].value_counts())"
      ],
      "metadata": {
        "colab": {
          "base_uri": "https://localhost:8080/"
        },
        "id": "M0FpZZyYLnVh",
        "outputId": "74ae324b-eec0-43c2-a964-a4b3a68b42cc"
      },
      "execution_count": 485,
      "outputs": [
        {
          "output_type": "stream",
          "name": "stdout",
          "text": [
            "IT    16566\n",
            "Name: 교육분야1차, dtype: int64\n"
          ]
        }
      ]
    },
    {
      "cell_type": "code",
      "source": [
        "print(df_IT_Q['교육분야2차'].value_counts())\n",
        "df_IT_Q['교육분야2차'].value_counts().plot(kind='bar')"
      ],
      "metadata": {
        "colab": {
          "base_uri": "https://localhost:8080/",
          "height": 354
        },
        "id": "m1d6-OlUWvkQ",
        "outputId": "1d307481-177c-4b35-90d9-a1c0dbca6670"
      },
      "execution_count": 486,
      "outputs": [
        {
          "output_type": "stream",
          "name": "stdout",
          "text": [
            " it      15597\n",
            " 연구개발      969\n",
            "Name: 교육분야2차, dtype: int64\n"
          ]
        },
        {
          "output_type": "execute_result",
          "data": {
            "text/plain": [
              "<matplotlib.axes._subplots.AxesSubplot at 0x7fee05027d50>"
            ]
          },
          "metadata": {},
          "execution_count": 486
        },
        {
          "output_type": "display_data",
          "data": {
            "image/png": "[encoded data removed]",
            "text/plain": [
              "<Figure size 432x288 with 1 Axes>"
            ]
          },
          "metadata": {
            "needs_background": "light"
          }
        }
      ]
    },
    {
      "cell_type": "code",
      "source": [
        "df_IT_Q['과정코드'].value_counts().plot(kind='bar')"
      ],
      "metadata": {
        "colab": {
          "base_uri": "https://localhost:8080/",
          "height": 333
        },
        "id": "gLP1yDtMxBU-",
        "outputId": "ac2efb31-b816-426b-a0cb-cbd02a19e41f"
      },
      "execution_count": 487,
      "outputs": [
        {
          "output_type": "execute_result",
          "data": {
            "text/plain": [
              "<matplotlib.axes._subplots.AxesSubplot at 0x7fee050cbe50>"
            ]
          },
          "metadata": {},
          "execution_count": 487
        },
        {
          "output_type": "display_data",
          "data": {
            "image/png": "[encoded data removed]",
            "text/plain": [
              "<Figure size 432x288 with 1 Axes>"
            ]
          },
          "metadata": {
            "needs_background": "light"
          }
        }
      ]
    },
    {
      "cell_type": "code",
      "source": [
        "print(df_IT_Q['호칭'].value_counts())\n",
        "df_IT_Q['호칭'].value_counts().plot(kind='bar')"
      ],
      "metadata": {
        "colab": {
          "base_uri": "https://localhost:8080/",
          "height": 412
        },
        "id": "ostU0uIxWvnX",
        "outputId": "aafb5e5d-7ae2-4799-ad78-934aa4cbb6f3"
      },
      "execution_count": 488,
      "outputs": [
        {
          "output_type": "stream",
          "name": "stdout",
          "text": [
            "대리    4062\n",
            "사원    3999\n",
            "과장    3437\n",
            "차장    2572\n",
            "부장    1652\n",
            "임원     844\n",
            "Name: 호칭, dtype: int64\n"
          ]
        },
        {
          "output_type": "execute_result",
          "data": {
            "text/plain": [
              "<matplotlib.axes._subplots.AxesSubplot at 0x7fee04f58650>"
            ]
          },
          "metadata": {},
          "execution_count": 488
        },
        {
          "output_type": "display_data",
          "data": {
            "image/png": "[encoded data removed]",
            "text/plain": [
              "<Figure size 432x288 with 1 Axes>"
            ]
          },
          "metadata": {
            "needs_background": "light"
          }
        }
      ]
    },
    {
      "cell_type": "code",
      "source": [
        "print(df_IT_Q['직무'].value_counts())\n",
        "df_IT_Q['직무'].value_counts().plot(kind='bar')"
      ],
      "metadata": {
        "colab": {
          "base_uri": "https://localhost:8080/",
          "height": 474
        },
        "id": "Xik1A5OcWvqK",
        "outputId": "4d6e4b72-9ddc-47f5-a667-2875a41b1598"
      },
      "execution_count": 489,
      "outputs": [
        {
          "output_type": "stream",
          "name": "stdout",
          "text": [
            "제조     1932\n",
            "경영     1885\n",
            "마케팅    1858\n",
            "IT     1851\n",
            "영업     1845\n",
            "회계     1822\n",
            "연구     1795\n",
            "HR     1791\n",
            "유통     1787\n",
            "Name: 직무, dtype: int64\n"
          ]
        },
        {
          "output_type": "execute_result",
          "data": {
            "text/plain": [
              "<matplotlib.axes._subplots.AxesSubplot at 0x7fee04ec70d0>"
            ]
          },
          "metadata": {},
          "execution_count": 489
        },
        {
          "output_type": "display_data",
          "data": {
            "image/png": "[encoded data removed]",
            "text/plain": [
              "<Figure size 432x288 with 1 Axes>"
            ]
          },
          "metadata": {
            "needs_background": "light"
          }
        }
      ]
    },
    {
      "cell_type": "code",
      "source": [
        "print(df_IT_Q['자격증보유여부'].value_counts())\n",
        "df_IT_Q['자격증보유여부'].value_counts().plot(kind='bar')"
      ],
      "metadata": {
        "colab": {
          "base_uri": "https://localhost:8080/",
          "height": 336
        },
        "id": "uyb4hn5QWvtc",
        "outputId": "614abd78-4236-489a-830e-0857c98f80c4"
      },
      "execution_count": 490,
      "outputs": [
        {
          "output_type": "stream",
          "name": "stdout",
          "text": [
            "N    10817\n",
            "Y     5749\n",
            "Name: 자격증보유여부, dtype: int64\n"
          ]
        },
        {
          "output_type": "execute_result",
          "data": {
            "text/plain": [
              "<matplotlib.axes._subplots.AxesSubplot at 0x7fee04facdd0>"
            ]
          },
          "metadata": {},
          "execution_count": 490
        },
        {
          "output_type": "display_data",
          "data": {
            "image/png": "[encoded data removed]",
            "text/plain": [
              "<Figure size 432x288 with 1 Axes>"
            ]
          },
          "metadata": {
            "needs_background": "light"
          }
        }
      ]
    },
    {
      "cell_type": "code",
      "source": [
        "print(df_IT_Q['학습요일'].value_counts())\n",
        "df_IT_Q['학습요일'].value_counts().plot(kind='bar')"
      ],
      "metadata": {
        "colab": {
          "base_uri": "https://localhost:8080/",
          "height": 426
        },
        "id": "ZDvXnlggXsBh",
        "outputId": "389bb7e5-9792-48a3-8bd1-79cb1d8d7c72"
      },
      "execution_count": 491,
      "outputs": [
        {
          "output_type": "stream",
          "name": "stdout",
          "text": [
            "1    3262\n",
            "2    3159\n",
            "4    3131\n",
            "3    3043\n",
            "0    2882\n",
            "6     563\n",
            "5     526\n",
            "Name: 학습요일, dtype: int64\n"
          ]
        },
        {
          "output_type": "execute_result",
          "data": {
            "text/plain": [
              "<matplotlib.axes._subplots.AxesSubplot at 0x7fee04dee290>"
            ]
          },
          "metadata": {},
          "execution_count": 491
        },
        {
          "output_type": "display_data",
          "data": {
            "image/png": "[encoded data removed]",
            "text/plain": [
              "<Figure size 432x288 with 1 Axes>"
            ]
          },
          "metadata": {
            "needs_background": "light"
          }
        }
      ]
    },
    {
      "cell_type": "markdown",
      "source": [
        "### NULL 처리"
      ],
      "metadata": {
        "id": "EPi_Z3u3G7yA"
      }
    },
    {
      "cell_type": "code",
      "source": [
        "df_IT_Q.isnull().sum()"
      ],
      "metadata": {
        "id": "PGxrVOEBu0uq",
        "colab": {
          "base_uri": "https://localhost:8080/"
        },
        "outputId": "f87bf4f1-658c-48bd-ea4a-b05d35528098"
      },
      "execution_count": 492,
      "outputs": [
        {
          "output_type": "execute_result",
          "data": {
            "text/plain": [
              "교육분야1차            0\n",
              "교육분야2차            0\n",
              "과정코드              0\n",
              "과정명(학습명)          0\n",
              "과정등록일(생성일)     6684\n",
              "학습시작일             0\n",
              "학습종료일             0\n",
              "사번(ID)            0\n",
              "소속부서              0\n",
              "호칭                0\n",
              "직무                0\n",
              "제작/소싱         16558\n",
              "자격증보유여부           0\n",
              "학습지수             24\n",
              "과정코드비율            0\n",
              "경력개월수             0\n",
              "어학점수              0\n",
              "수강횟수              0\n",
              "학습시작일_TIME        0\n",
              "학습종료일_TIME        0\n",
              "학습요일              0\n",
              "학습요일_CONV         0\n",
              "학습시간              0\n",
              "dtype: int64"
            ]
          },
          "metadata": {},
          "execution_count": 492
        }
      ]
    },
    {
      "cell_type": "code",
      "source": [
        "df_IT_Q['학습지수'] = df_IT_Q['학습지수'].fillna(method='ffill')"
      ],
      "metadata": {
        "id": "cZWcd5KC3QXy"
      },
      "execution_count": 493,
      "outputs": []
    },
    {
      "cell_type": "code",
      "source": [
        "df_IT_Q.isnull().sum()"
      ],
      "metadata": {
        "id": "1V87c9K63Qa1",
        "colab": {
          "base_uri": "https://localhost:8080/"
        },
        "outputId": "06266ce8-2d3c-4096-8724-80613a67a45c"
      },
      "execution_count": 494,
      "outputs": [
        {
          "output_type": "execute_result",
          "data": {
            "text/plain": [
              "교육분야1차            0\n",
              "교육분야2차            0\n",
              "과정코드              0\n",
              "과정명(학습명)          0\n",
              "과정등록일(생성일)     6684\n",
              "학습시작일             0\n",
              "학습종료일             0\n",
              "사번(ID)            0\n",
              "소속부서              0\n",
              "호칭                0\n",
              "직무                0\n",
              "제작/소싱         16558\n",
              "자격증보유여부           0\n",
              "학습지수              0\n",
              "과정코드비율            0\n",
              "경력개월수             0\n",
              "어학점수              0\n",
              "수강횟수              0\n",
              "학습시작일_TIME        0\n",
              "학습종료일_TIME        0\n",
              "학습요일              0\n",
              "학습요일_CONV         0\n",
              "학습시간              0\n",
              "dtype: int64"
            ]
          },
          "metadata": {},
          "execution_count": 494
        }
      ]
    },
    {
      "cell_type": "markdown",
      "source": [
        "### 불필요한 컬럼 삭제"
      ],
      "metadata": {
        "id": "GoiWwQbgsWA-"
      }
    },
    {
      "cell_type": "code",
      "source": [
        "drop_col = ['교육분야1차', '교육분야2차', '과정명(학습명)', '학습시작일', '학습종료일', '사번(ID)', '학습시작일_TIME','학습종료일_TIME' , '과정등록일(생성일)', '제작/소싱','학습요일_CONV']\n",
        "df_IT_Q.drop(drop_col, axis=1, inplace=True)"
      ],
      "metadata": {
        "id": "lhOq6YoN3Qdo"
      },
      "execution_count": 495,
      "outputs": []
    },
    {
      "cell_type": "code",
      "source": [
        "df_IT_Q.isnull().sum()"
      ],
      "metadata": {
        "id": "i0X8tl--73cT",
        "colab": {
          "base_uri": "https://localhost:8080/"
        },
        "outputId": "8e61a31b-57c0-46cb-9a0d-3d3cb15468f1"
      },
      "execution_count": 496,
      "outputs": [
        {
          "output_type": "execute_result",
          "data": {
            "text/plain": [
              "과정코드       0\n",
              "소속부서       0\n",
              "호칭         0\n",
              "직무         0\n",
              "자격증보유여부    0\n",
              "학습지수       0\n",
              "과정코드비율     0\n",
              "경력개월수      0\n",
              "어학점수       0\n",
              "수강횟수       0\n",
              "학습요일       0\n",
              "학습시간       0\n",
              "dtype: int64"
            ]
          },
          "metadata": {},
          "execution_count": 496
        }
      ]
    },
    {
      "cell_type": "code",
      "source": [
        "df_IT_Q.info()"
      ],
      "metadata": {
        "id": "cQOVPcAd3QgR",
        "colab": {
          "base_uri": "https://localhost:8080/"
        },
        "outputId": "a6e71e6e-ec21-48e3-a57d-e5baf83a4de7"
      },
      "execution_count": 497,
      "outputs": [
        {
          "output_type": "stream",
          "name": "stdout",
          "text": [
            "<class 'pandas.core.frame.DataFrame'>\n",
            "Int64Index: 16566 entries, 0 to 21534\n",
            "Data columns (total 12 columns):\n",
            " #   Column   Non-Null Count  Dtype  \n",
            "---  ------   --------------  -----  \n",
            " 0   과정코드     16566 non-null  object \n",
            " 1   소속부서     16566 non-null  object \n",
            " 2   호칭       16566 non-null  object \n",
            " 3   직무       16566 non-null  object \n",
            " 4   자격증보유여부  16566 non-null  object \n",
            " 5   학습지수     16566 non-null  float64\n",
            " 6   과정코드비율   16566 non-null  float64\n",
            " 7   경력개월수    16566 non-null  float64\n",
            " 8   어학점수     16566 non-null  float64\n",
            " 9   수강횟수     16566 non-null  float64\n",
            " 10  학습요일     16566 non-null  int64  \n",
            " 11  학습시간     16566 non-null  float64\n",
            "dtypes: float64(6), int64(1), object(5)\n",
            "memory usage: 1.6+ MB\n"
          ]
        }
      ]
    },
    {
      "cell_type": "markdown",
      "source": [
        "# Dummy로 만들기\n",
        "\n"
      ],
      "metadata": {
        "id": "Nl5Pn7Ob8-Z6"
      }
    },
    {
      "cell_type": "code",
      "source": [
        "cat_col = ['소속부서', '호칭', '직무', '자격증보유여부']\n",
        "df_IT_Q = pd.get_dummies(data=df_IT_Q, columns=cat_col, drop_first=True)"
      ],
      "metadata": {
        "id": "fjwDUFhp867Z"
      },
      "execution_count": 498,
      "outputs": []
    },
    {
      "cell_type": "code",
      "source": [
        "df_IT_Q.info()"
      ],
      "metadata": {
        "id": "VNKuC9OT86-O",
        "colab": {
          "base_uri": "https://localhost:8080/"
        },
        "outputId": "a4bc8570-1d85-431b-f327-38556047816d"
      },
      "execution_count": 499,
      "outputs": [
        {
          "output_type": "stream",
          "name": "stdout",
          "text": [
            "<class 'pandas.core.frame.DataFrame'>\n",
            "Int64Index: 16566 entries, 0 to 21534\n",
            "Data columns (total 29 columns):\n",
            " #   Column     Non-Null Count  Dtype  \n",
            "---  ------     --------------  -----  \n",
            " 0   과정코드       16566 non-null  object \n",
            " 1   학습지수       16566 non-null  float64\n",
            " 2   과정코드비율     16566 non-null  float64\n",
            " 3   경력개월수      16566 non-null  float64\n",
            " 4   어학점수       16566 non-null  float64\n",
            " 5   수강횟수       16566 non-null  float64\n",
            " 6   학습요일       16566 non-null  int64  \n",
            " 7   학습시간       16566 non-null  float64\n",
            " 8   소속부서_강북    16566 non-null  uint8  \n",
            " 9   소속부서_강원    16566 non-null  uint8  \n",
            " 10  소속부서_기타    16566 non-null  uint8  \n",
            " 11  소속부서_대구    16566 non-null  uint8  \n",
            " 12  소속부서_부산    16566 non-null  uint8  \n",
            " 13  소속부서_전남    16566 non-null  uint8  \n",
            " 14  소속부서_충남    16566 non-null  uint8  \n",
            " 15  호칭_대리      16566 non-null  uint8  \n",
            " 16  호칭_부장      16566 non-null  uint8  \n",
            " 17  호칭_사원      16566 non-null  uint8  \n",
            " 18  호칭_임원      16566 non-null  uint8  \n",
            " 19  호칭_차장      16566 non-null  uint8  \n",
            " 20  직무_IT      16566 non-null  uint8  \n",
            " 21  직무_경영      16566 non-null  uint8  \n",
            " 22  직무_마케팅     16566 non-null  uint8  \n",
            " 23  직무_연구      16566 non-null  uint8  \n",
            " 24  직무_영업      16566 non-null  uint8  \n",
            " 25  직무_유통      16566 non-null  uint8  \n",
            " 26  직무_제조      16566 non-null  uint8  \n",
            " 27  직무_회계      16566 non-null  uint8  \n",
            " 28  자격증보유여부_Y  16566 non-null  uint8  \n",
            "dtypes: float64(6), int64(1), object(1), uint8(21)\n",
            "memory usage: 1.5+ MB\n"
          ]
        }
      ]
    },
    {
      "cell_type": "code",
      "source": [
        "len(df_IT_Q['과정코드'].unique())"
      ],
      "metadata": {
        "id": "luB1PA8pN7RZ",
        "colab": {
          "base_uri": "https://localhost:8080/"
        },
        "outputId": "4e7c2ca9-f0e6-4075-a804-d3d4bb5f85c2"
      },
      "execution_count": 500,
      "outputs": [
        {
          "output_type": "execute_result",
          "data": {
            "text/plain": [
              "20"
            ]
          },
          "metadata": {},
          "execution_count": 500
        }
      ]
    },
    {
      "cell_type": "code",
      "source": [
        "과정코드_TO_과정명"
      ],
      "metadata": {
        "id": "SiqJqx_99-1G",
        "colab": {
          "base_uri": "https://localhost:8080/"
        },
        "outputId": "bbfccec3-5c23-4308-df70-3c2dca4d8917"
      },
      "execution_count": 501,
      "outputs": [
        {
          "output_type": "execute_result",
          "data": {
            "text/plain": [
              "{'100007420': '개발 보안 가이드 (2편)',\n",
              " '100007682': 'RPA 시작하기',\n",
              " '100008024': 'RPA실습하기',\n",
              " '100008496': '쉬운우리보안1 피싱메일 예방법',\n",
              " '100008565': '개발 보안 가이드 (1편 개요보안은 왜 필요한가요)',\n",
              " '100008584': '웹스크래핑하기',\n",
              " '200000506': '1 AI 분석 시작하기',\n",
              " '200000515': '1 텍스트 감정 분석하기',\n",
              " '200000516': '1 전환 가입자 예측 모델 만들기',\n",
              " '200000523': 'K에듀 스마트팩토리 경쟁력',\n",
              " '200000530': '[인프라] 클라우드 개요',\n",
              " '200000795': 'K에듀 시큐어코딩 가이드(22)',\n",
              " '200000800': 'K에듀 시큐어코딩 가이드(12)',\n",
              " '200000850': 'K에듀 시큐어코딩 가이드(사례심화)',\n",
              " '200000890': 'K에듀 임직원 정보보안 생활백서',\n",
              " '200018440': '[클라우드 ] 클라우드 이해 1-1 클라우드 중요성',\n",
              " '200018445': '[클라우드 ] 클라우드 이해 1-2 클라우드 제공방식',\n",
              " '200018455': '[클라우드 ] 클라우드 이해 1-3 클라우드 사용이유',\n",
              " '200018460': '[클라우드 ] K에듀 클라우드2-1 K에듀 클라우드 선택의 이유',\n",
              " '200018461': '[클라우드 ] K에듀 클라우드2-2 K에듀 클라우드 개요'}"
            ]
          },
          "metadata": {},
          "execution_count": 501
        }
      ]
    },
    {
      "cell_type": "markdown",
      "source": [
        "# X, y 분리"
      ],
      "metadata": {
        "id": "XxJackXtKt62"
      }
    },
    {
      "cell_type": "code",
      "source": [
        "X = df_IT_Q.drop('과정코드', axis=1).values\n",
        "y = df_IT_Q['과정코드'].values"
      ],
      "metadata": {
        "id": "FcefKGy-Ks2I"
      },
      "execution_count": 502,
      "outputs": []
    },
    {
      "cell_type": "code",
      "source": [
        "X.shape, y.shape"
      ],
      "metadata": {
        "id": "sWERVEcVKs4_",
        "colab": {
          "base_uri": "https://localhost:8080/"
        },
        "outputId": "5301414a-9bf6-4621-a5b5-98c1082ee7ca"
      },
      "execution_count": 503,
      "outputs": [
        {
          "output_type": "execute_result",
          "data": {
            "text/plain": [
              "((16566, 28), (16566,))"
            ]
          },
          "metadata": {},
          "execution_count": 503
        }
      ]
    },
    {
      "cell_type": "code",
      "source": [
        "y[:4]"
      ],
      "metadata": {
        "id": "-aEkxSqqPRpY",
        "colab": {
          "base_uri": "https://localhost:8080/"
        },
        "outputId": "798b7974-9de1-4675-a1e8-e4ebfa44df3c"
      },
      "execution_count": 504,
      "outputs": [
        {
          "output_type": "execute_result",
          "data": {
            "text/plain": [
              "array(['200000890', '100008024', '200000850', '200000800'], dtype=object)"
            ]
          },
          "metadata": {},
          "execution_count": 504
        }
      ]
    },
    {
      "cell_type": "markdown",
      "source": [
        "# '과정코드' 라벨 인코딩"
      ],
      "metadata": {
        "id": "fIMhAzvzSEJl"
      }
    },
    {
      "cell_type": "code",
      "source": [
        "from sklearn.preprocessing import LabelEncoder"
      ],
      "metadata": {
        "id": "xO8E3y8fSDUA"
      },
      "execution_count": 505,
      "outputs": []
    },
    {
      "cell_type": "code",
      "source": [
        "le = LabelEncoder()\n",
        "y = le.fit_transform(y)"
      ],
      "metadata": {
        "id": "nMAVE87XSDg0"
      },
      "execution_count": 506,
      "outputs": []
    },
    {
      "cell_type": "code",
      "source": [
        "print(y[:3])\n",
        "print(le.classes_)"
      ],
      "metadata": {
        "id": "qAHGG-5dSY5C",
        "colab": {
          "base_uri": "https://localhost:8080/"
        },
        "outputId": "3d0ca7d9-bfb6-436c-dd84-f4a85a98bc6e"
      },
      "execution_count": 507,
      "outputs": [
        {
          "output_type": "stream",
          "name": "stdout",
          "text": [
            "[14  2 13]\n",
            "['100007420' '100007682' '100008024' '100008496' '100008565' '100008584'\n",
            " '200000506' '200000515' '200000516' '200000523' '200000530' '200000795'\n",
            " '200000800' '200000850' '200000890' '200018440' '200018445' '200018455'\n",
            " '200018460' '200018461']\n"
          ]
        }
      ]
    },
    {
      "cell_type": "markdown",
      "source": [
        "# Train/Test 데이터셋 나누기"
      ],
      "metadata": {
        "id": "5tRjiz8wLT00"
      }
    },
    {
      "cell_type": "code",
      "source": [
        "from sklearn.model_selection import train_test_split"
      ],
      "metadata": {
        "id": "KpPnite7LXoL"
      },
      "execution_count": 508,
      "outputs": []
    },
    {
      "cell_type": "code",
      "source": [
        "X_train, X_test, y_train, y_test = train_test_split(X, y, test_size=0.3, stratify=y, random_state=41)"
      ],
      "metadata": {
        "id": "tQmI356dLXug"
      },
      "execution_count": 509,
      "outputs": []
    },
    {
      "cell_type": "code",
      "source": [
        "X_train.shape, X_test.shape, y_train.shape, y_test.shape"
      ],
      "metadata": {
        "id": "iAUDNkKQLXxI",
        "colab": {
          "base_uri": "https://localhost:8080/"
        },
        "outputId": "c1028e63-1fe9-4dc5-fcc7-a66f96fa2620"
      },
      "execution_count": 510,
      "outputs": [
        {
          "output_type": "execute_result",
          "data": {
            "text/plain": [
              "((11596, 28), (4970, 28), (11596,), (4970,))"
            ]
          },
          "metadata": {},
          "execution_count": 510
        }
      ]
    },
    {
      "cell_type": "markdown",
      "source": [
        "# 스케일링"
      ],
      "metadata": {
        "id": "yaRazhZWLFTt"
      }
    },
    {
      "cell_type": "code",
      "source": [
        "from sklearn.preprocessing import StandardScaler"
      ],
      "metadata": {
        "id": "XM7UPsynLCul"
      },
      "execution_count": 511,
      "outputs": []
    },
    {
      "cell_type": "code",
      "source": [
        "ss = StandardScaler()\n",
        "ss.fit(X_train)\n",
        "X_train = ss.transform(X_train)\n",
        "X_test = ss.transform(X_test)"
      ],
      "metadata": {
        "id": "cGcJozECKs8M"
      },
      "execution_count": 512,
      "outputs": []
    },
    {
      "cell_type": "code",
      "source": [
        "X_train[0]"
      ],
      "metadata": {
        "id": "Clwa_NakKs_B",
        "colab": {
          "base_uri": "https://localhost:8080/"
        },
        "outputId": "3285b5bc-0356-481d-920c-da51260fc1c5"
      },
      "execution_count": 513,
      "outputs": [
        {
          "output_type": "execute_result",
          "data": {
            "text/plain": [
              "array([-0.20881462, -0.1200644 , -0.40256208, -0.88873638, -1.45985347,\n",
              "        1.08325617,  0.37421753, -0.41547086, -0.01608654,  1.24171961,\n",
              "       -0.29631888, -0.2402908 , -0.30653265, -0.32697253, -0.56938369,\n",
              "       -0.33195823,  1.76080218, -0.23028907, -0.42527097, -0.35625741,\n",
              "       -0.35947723, -0.35579613, -0.34649938, -0.34992428, -0.34649938,\n",
              "       -0.36813969, -0.35162965, -0.72649827])"
            ]
          },
          "metadata": {},
          "execution_count": 513
        }
      ]
    },
    {
      "cell_type": "markdown",
      "source": [
        "## 램덤포레스트 머신러닝 모델링"
      ],
      "metadata": {
        "id": "ngZz9gIrtKc9"
      }
    },
    {
      "cell_type": "code",
      "source": [
        "from sklearn.ensemble import RandomForestClassifier\n",
        "from sklearn.metrics import classification_report"
      ],
      "metadata": {
        "id": "Gfg32888TGa3"
      },
      "execution_count": 514,
      "outputs": []
    },
    {
      "cell_type": "code",
      "source": [
        "rf = RandomForestClassifier(n_estimators=500, random_state=41)\n",
        "rf.fit(X_train, y_train)\n",
        "rf.score(X_test, y_test)"
      ],
      "metadata": {
        "id": "6IIDBRbsTGdU",
        "colab": {
          "base_uri": "https://localhost:8080/"
        },
        "outputId": "ed1520bd-38c7-4f5f-a276-ccfd437aa079"
      },
      "execution_count": 515,
      "outputs": [
        {
          "output_type": "execute_result",
          "data": {
            "text/plain": [
              "0.33682092555331994"
            ]
          },
          "metadata": {},
          "execution_count": 515
        }
      ]
    },
    {
      "cell_type": "code",
      "source": [
        "y_pred = rf.predict(X_test)"
      ],
      "metadata": {
        "id": "PrWBYM4QTGoV"
      },
      "execution_count": 516,
      "outputs": []
    },
    {
      "cell_type": "code",
      "source": [
        "y_pred[:3]"
      ],
      "metadata": {
        "id": "1EFBEWaYj7Dc",
        "colab": {
          "base_uri": "https://localhost:8080/"
        },
        "outputId": "6f0bee5f-1a0a-49bd-ff9b-27cbfefb48d1"
      },
      "execution_count": 517,
      "outputs": [
        {
          "output_type": "execute_result",
          "data": {
            "text/plain": [
              "array([17,  8, 16])"
            ]
          },
          "metadata": {},
          "execution_count": 517
        }
      ]
    },
    {
      "cell_type": "code",
      "source": [
        "print(classification_report(y_test, y_pred))"
      ],
      "metadata": {
        "id": "MDT7_hh6m-s4",
        "colab": {
          "base_uri": "https://localhost:8080/"
        },
        "outputId": "ed01ac25-a35a-4c7f-8e1c-6c274119064e"
      },
      "execution_count": 518,
      "outputs": [
        {
          "output_type": "stream",
          "name": "stdout",
          "text": [
            "              precision    recall  f1-score   support\n",
            "\n",
            "           0       0.31      0.29      0.30       264\n",
            "           1       0.29      0.30      0.29       245\n",
            "           2       0.95      1.00      0.98       101\n",
            "           3       0.18      0.17      0.18       265\n",
            "           4       0.22      0.21      0.22       276\n",
            "           5       0.17      0.16      0.17       277\n",
            "           6       0.40      0.51      0.45       287\n",
            "           7       0.22      0.26      0.24       281\n",
            "           8       0.35      0.33      0.34       272\n",
            "           9       0.20      0.23      0.22       282\n",
            "          10       0.33      0.28      0.30       269\n",
            "          11       0.30      0.25      0.27       258\n",
            "          12       0.36      0.31      0.33       274\n",
            "          13       0.25      0.24      0.24       248\n",
            "          14       0.38      0.36      0.37       237\n",
            "          15       0.33      0.30      0.32       250\n",
            "          16       0.37      0.41      0.38       217\n",
            "          17       0.53      0.48      0.51       238\n",
            "          18       0.39      0.48      0.43       221\n",
            "          19       0.66      0.69      0.68       208\n",
            "\n",
            "    accuracy                           0.34      4970\n",
            "   macro avg       0.36      0.36      0.36      4970\n",
            "weighted avg       0.34      0.34      0.33      4970\n",
            "\n"
          ]
        }
      ]
    },
    {
      "cell_type": "markdown",
      "source": [
        "# 딥러닝 : IT 분야 과정명 20개중에서 추천 3개 모델링 만들기"
      ],
      "metadata": {
        "id": "A5frMTdg79h5"
      }
    },
    {
      "cell_type": "code",
      "source": [
        "import tensorflow as tf\n",
        "from tensorflow.keras.models import Sequential\n",
        "from tensorflow.keras.layers import Dense, Dropout\n",
        "from tensorflow.keras.callbacks import ModelCheckpoint, EarlyStopping"
      ],
      "metadata": {
        "id": "BaCI0RMB3Qi8"
      },
      "execution_count": 519,
      "outputs": []
    },
    {
      "cell_type": "code",
      "source": [
        "tf.random.set_seed(41)\n",
        "\n",
        "EPOCHS = 100\n",
        "BATCH_SIZE = 32\n",
        "RECOMMAND_COUNT = 20"
      ],
      "metadata": {
        "id": "GS90I4Kk3Ql5"
      },
      "execution_count": 520,
      "outputs": []
    },
    {
      "cell_type": "code",
      "source": [
        "model = Sequential()"
      ],
      "metadata": {
        "id": "r14NGup68o_a"
      },
      "execution_count": 521,
      "outputs": []
    },
    {
      "cell_type": "code",
      "source": [
        "model.add(Dense(64, activation='relu', input_shape=(X.shape[1],)))\n",
        "model.add(Dropout(0.3))\n",
        "model.add(Dense(32, activation='relu'))\n",
        "model.add(Dropout(0.3))\n",
        "model.add(Dense(RECOMMAND_COUNT, activation='softmax'))"
      ],
      "metadata": {
        "id": "7L1SRNYK8pCD"
      },
      "execution_count": 522,
      "outputs": []
    },
    {
      "cell_type": "code",
      "source": [
        "model.summary()"
      ],
      "metadata": {
        "id": "5pdxjt0D8pEw",
        "colab": {
          "base_uri": "https://localhost:8080/"
        },
        "outputId": "5d17978b-e393-4cf3-85f9-b57112f5f3e0"
      },
      "execution_count": 523,
      "outputs": [
        {
          "output_type": "stream",
          "name": "stdout",
          "text": [
            "Model: \"sequential_3\"\n",
            "_________________________________________________________________\n",
            " Layer (type)                Output Shape              Param #   \n",
            "=================================================================\n",
            " dense_12 (Dense)            (None, 64)                1856      \n",
            "                                                                 \n",
            " dropout_6 (Dropout)         (None, 64)                0         \n",
            "                                                                 \n",
            " dense_13 (Dense)            (None, 32)                2080      \n",
            "                                                                 \n",
            " dropout_7 (Dropout)         (None, 32)                0         \n",
            "                                                                 \n",
            " dense_14 (Dense)            (None, 20)                660       \n",
            "                                                                 \n",
            "=================================================================\n",
            "Total params: 4,596\n",
            "Trainable params: 4,596\n",
            "Non-trainable params: 0\n",
            "_________________________________________________________________\n"
          ]
        }
      ]
    },
    {
      "cell_type": "code",
      "source": [
        "mc = ModelCheckpoint('best_model.ht5', monitor='val_loss', save_best_only=True)\n",
        "es = EarlyStopping(monitor='val_loss', patience=10, restore_best_weights=True)"
      ],
      "metadata": {
        "id": "xALffAbV8pHZ"
      },
      "execution_count": 524,
      "outputs": []
    },
    {
      "cell_type": "code",
      "source": [
        "model.compile(loss='sparse_categorical_crossentropy', optimizer='adam', metrics=['accuracy'])"
      ],
      "metadata": {
        "id": "s29a1Syo8pKN"
      },
      "execution_count": 525,
      "outputs": []
    },
    {
      "cell_type": "code",
      "source": [
        "history = model.fit(X_train, y_train, epochs=EPOCHS, batch_size=BATCH_SIZE, validation_data=(X_test, y_test), callbacks=[mc, es])"
      ],
      "metadata": {
        "id": "ze2qJrkv8pNQ",
        "colab": {
          "base_uri": "https://localhost:8080/"
        },
        "outputId": "ab1716d3-c19d-4194-fe7c-6fce35a324af"
      },
      "execution_count": 526,
      "outputs": [
        {
          "output_type": "stream",
          "name": "stdout",
          "text": [
            "Epoch 1/100\n",
            "350/363 [===========================>..] - ETA: 0s - loss: 3.0177 - accuracy: 0.0579INFO:tensorflow:Assets written to: best_model.ht5/assets\n",
            "363/363 [==============================] - 3s 6ms/step - loss: 3.0172 - accuracy: 0.0581 - val_loss: 2.9564 - val_accuracy: 0.0610\n",
            "Epoch 2/100\n",
            "344/363 [===========================>..] - ETA: 0s - loss: 2.8934 - accuracy: 0.0784INFO:tensorflow:Assets written to: best_model.ht5/assets\n",
            "363/363 [==============================] - 3s 8ms/step - loss: 2.8885 - accuracy: 0.0792 - val_loss: 2.6870 - val_accuracy: 0.1223\n",
            "Epoch 3/100\n",
            "349/363 [===========================>..] - ETA: 0s - loss: 2.5678 - accuracy: 0.1234INFO:tensorflow:Assets written to: best_model.ht5/assets\n",
            "363/363 [==============================] - 2s 5ms/step - loss: 2.5623 - accuracy: 0.1248 - val_loss: 2.2322 - val_accuracy: 0.2314\n",
            "Epoch 4/100\n",
            "363/363 [==============================] - ETA: 0s - loss: 2.2495 - accuracy: 0.1807INFO:tensorflow:Assets written to: best_model.ht5/assets\n",
            "363/363 [==============================] - 2s 5ms/step - loss: 2.2495 - accuracy: 0.1807 - val_loss: 1.9521 - val_accuracy: 0.3264\n",
            "Epoch 5/100\n",
            "356/363 [============================>.] - ETA: 0s - loss: 2.0363 - accuracy: 0.2211INFO:tensorflow:Assets written to: best_model.ht5/assets\n",
            "363/363 [==============================] - 2s 5ms/step - loss: 2.0332 - accuracy: 0.2220 - val_loss: 1.7605 - val_accuracy: 0.3956\n",
            "Epoch 6/100\n",
            "359/363 [============================>.] - ETA: 0s - loss: 1.8764 - accuracy: 0.2536INFO:tensorflow:Assets written to: best_model.ht5/assets\n",
            "363/363 [==============================] - 2s 5ms/step - loss: 1.8757 - accuracy: 0.2530 - val_loss: 1.6373 - val_accuracy: 0.4674\n",
            "Epoch 7/100\n",
            "345/363 [===========================>..] - ETA: 0s - loss: 1.7754 - accuracy: 0.2782INFO:tensorflow:Assets written to: best_model.ht5/assets\n",
            "363/363 [==============================] - 2s 5ms/step - loss: 1.7728 - accuracy: 0.2787 - val_loss: 1.5418 - val_accuracy: 0.4483\n",
            "Epoch 8/100\n",
            "343/363 [===========================>..] - ETA: 0s - loss: 1.6913 - accuracy: 0.3048INFO:tensorflow:Assets written to: best_model.ht5/assets\n",
            "363/363 [==============================] - 2s 5ms/step - loss: 1.6871 - accuracy: 0.3070 - val_loss: 1.4613 - val_accuracy: 0.5042\n",
            "Epoch 9/100\n",
            "363/363 [==============================] - ETA: 0s - loss: 1.6243 - accuracy: 0.3331INFO:tensorflow:Assets written to: best_model.ht5/assets\n",
            "363/363 [==============================] - 2s 5ms/step - loss: 1.6243 - accuracy: 0.3331 - val_loss: 1.4013 - val_accuracy: 0.5596\n",
            "Epoch 10/100\n",
            "349/363 [===========================>..] - ETA: 0s - loss: 1.5585 - accuracy: 0.3628INFO:tensorflow:Assets written to: best_model.ht5/assets\n",
            "363/363 [==============================] - 2s 5ms/step - loss: 1.5569 - accuracy: 0.3629 - val_loss: 1.3349 - val_accuracy: 0.6314\n",
            "Epoch 11/100\n",
            "345/363 [===========================>..] - ETA: 0s - loss: 1.4944 - accuracy: 0.3824INFO:tensorflow:Assets written to: best_model.ht5/assets\n",
            "363/363 [==============================] - 2s 5ms/step - loss: 1.4947 - accuracy: 0.3826 - val_loss: 1.2915 - val_accuracy: 0.6443\n",
            "Epoch 12/100\n",
            "361/363 [============================>.] - ETA: 0s - loss: 1.4450 - accuracy: 0.3979INFO:tensorflow:Assets written to: best_model.ht5/assets\n",
            "363/363 [==============================] - 2s 5ms/step - loss: 1.4446 - accuracy: 0.3982 - val_loss: 1.2482 - val_accuracy: 0.6181\n",
            "Epoch 13/100\n",
            "345/363 [===========================>..] - ETA: 0s - loss: 1.3977 - accuracy: 0.4192INFO:tensorflow:Assets written to: best_model.ht5/assets\n",
            "363/363 [==============================] - 2s 5ms/step - loss: 1.3947 - accuracy: 0.4196 - val_loss: 1.1968 - val_accuracy: 0.6811\n",
            "Epoch 14/100\n",
            "345/363 [===========================>..] - ETA: 0s - loss: 1.3604 - accuracy: 0.4360INFO:tensorflow:Assets written to: best_model.ht5/assets\n",
            "363/363 [==============================] - 2s 5ms/step - loss: 1.3635 - accuracy: 0.4352 - val_loss: 1.1736 - val_accuracy: 0.6404\n",
            "Epoch 15/100\n",
            "352/363 [============================>.] - ETA: 0s - loss: 1.3100 - accuracy: 0.4442INFO:tensorflow:Assets written to: best_model.ht5/assets\n",
            "363/363 [==============================] - 2s 5ms/step - loss: 1.3289 - accuracy: 0.4457 - val_loss: 1.1324 - val_accuracy: 0.6594\n",
            "Epoch 16/100\n",
            "350/363 [===========================>..] - ETA: 0s - loss: 1.2829 - accuracy: 0.4638INFO:tensorflow:Assets written to: best_model.ht5/assets\n",
            "363/363 [==============================] - 2s 5ms/step - loss: 1.2834 - accuracy: 0.4637 - val_loss: 1.1111 - val_accuracy: 0.7298\n",
            "Epoch 17/100\n",
            "350/363 [===========================>..] - ETA: 0s - loss: 1.2824 - accuracy: 0.4639INFO:tensorflow:Assets written to: best_model.ht5/assets\n",
            "363/363 [==============================] - 2s 5ms/step - loss: 1.2812 - accuracy: 0.4624 - val_loss: 1.0988 - val_accuracy: 0.7416\n",
            "Epoch 18/100\n",
            "354/363 [============================>.] - ETA: 0s - loss: 1.2366 - accuracy: 0.4846INFO:tensorflow:Assets written to: best_model.ht5/assets\n",
            "363/363 [==============================] - 2s 5ms/step - loss: 1.2353 - accuracy: 0.4841 - val_loss: 1.0841 - val_accuracy: 0.6632\n",
            "Epoch 19/100\n",
            "344/363 [===========================>..] - ETA: 0s - loss: 1.2144 - accuracy: 0.4938INFO:tensorflow:Assets written to: best_model.ht5/assets\n",
            "363/363 [==============================] - 2s 5ms/step - loss: 1.2198 - accuracy: 0.4933 - val_loss: 1.0687 - val_accuracy: 0.6956\n",
            "Epoch 20/100\n",
            "339/363 [===========================>..] - ETA: 0s - loss: 1.1826 - accuracy: 0.5015INFO:tensorflow:Assets written to: best_model.ht5/assets\n",
            "363/363 [==============================] - 2s 5ms/step - loss: 1.1822 - accuracy: 0.5033 - val_loss: 1.0362 - val_accuracy: 0.6915\n",
            "Epoch 21/100\n",
            "352/363 [============================>.] - ETA: 0s - loss: 1.1691 - accuracy: 0.5089INFO:tensorflow:Assets written to: best_model.ht5/assets\n",
            "363/363 [==============================] - 2s 5ms/step - loss: 1.1676 - accuracy: 0.5094 - val_loss: 1.0240 - val_accuracy: 0.7694\n",
            "Epoch 22/100\n",
            "349/363 [===========================>..] - ETA: 0s - loss: 1.1519 - accuracy: 0.5089INFO:tensorflow:Assets written to: best_model.ht5/assets\n",
            "363/363 [==============================] - 2s 5ms/step - loss: 1.1533 - accuracy: 0.5091 - val_loss: 1.0090 - val_accuracy: 0.7982\n",
            "Epoch 23/100\n",
            "363/363 [==============================] - 1s 2ms/step - loss: 1.1359 - accuracy: 0.5157 - val_loss: 1.0209 - val_accuracy: 0.7185\n",
            "Epoch 24/100\n",
            "356/363 [============================>.] - ETA: 0s - loss: 1.1312 - accuracy: 0.5093INFO:tensorflow:Assets written to: best_model.ht5/assets\n",
            "363/363 [==============================] - 2s 5ms/step - loss: 1.1294 - accuracy: 0.5102 - val_loss: 0.9831 - val_accuracy: 0.7453\n",
            "Epoch 25/100\n",
            "359/363 [============================>.] - ETA: 0s - loss: 1.1208 - accuracy: 0.5240INFO:tensorflow:Assets written to: best_model.ht5/assets\n",
            "363/363 [==============================] - 2s 7ms/step - loss: 1.1199 - accuracy: 0.5241 - val_loss: 0.9820 - val_accuracy: 0.7895\n",
            "Epoch 26/100\n",
            "336/363 [==========================>...] - ETA: 0s - loss: 1.1015 - accuracy: 0.5351INFO:tensorflow:Assets written to: best_model.ht5/assets\n",
            "363/363 [==============================] - 2s 5ms/step - loss: 1.0976 - accuracy: 0.5342 - val_loss: 0.9751 - val_accuracy: 0.7662\n",
            "Epoch 27/100\n",
            "363/363 [==============================] - 1s 3ms/step - loss: 1.1040 - accuracy: 0.5372 - val_loss: 0.9865 - val_accuracy: 0.6970\n",
            "Epoch 28/100\n",
            "361/363 [============================>.] - ETA: 0s - loss: 1.0949 - accuracy: 0.5378INFO:tensorflow:Assets written to: best_model.ht5/assets\n",
            "363/363 [==============================] - 2s 5ms/step - loss: 1.0943 - accuracy: 0.5381 - val_loss: 0.9727 - val_accuracy: 0.7590\n",
            "Epoch 29/100\n",
            "363/363 [==============================] - 1s 3ms/step - loss: 1.0943 - accuracy: 0.5419 - val_loss: 0.9762 - val_accuracy: 0.7636\n",
            "Epoch 30/100\n",
            "363/363 [==============================] - ETA: 0s - loss: 1.0682 - accuracy: 0.5458INFO:tensorflow:Assets written to: best_model.ht5/assets\n",
            "363/363 [==============================] - 2s 5ms/step - loss: 1.0682 - accuracy: 0.5458 - val_loss: 0.9569 - val_accuracy: 0.7736\n",
            "Epoch 31/100\n",
            "357/363 [============================>.] - ETA: 0s - loss: 1.0802 - accuracy: 0.5408INFO:tensorflow:Assets written to: best_model.ht5/assets\n",
            "363/363 [==============================] - 2s 5ms/step - loss: 1.0804 - accuracy: 0.5398 - val_loss: 0.9557 - val_accuracy: 0.7485\n",
            "Epoch 32/100\n",
            "363/363 [==============================] - ETA: 0s - loss: 1.0843 - accuracy: 0.5467INFO:tensorflow:Assets written to: best_model.ht5/assets\n",
            "363/363 [==============================] - 2s 5ms/step - loss: 1.0843 - accuracy: 0.5467 - val_loss: 0.9469 - val_accuracy: 0.7889\n",
            "Epoch 33/100\n",
            "363/363 [==============================] - 1s 2ms/step - loss: 1.0569 - accuracy: 0.5521 - val_loss: 0.9470 - val_accuracy: 0.7284\n",
            "Epoch 34/100\n",
            "363/363 [==============================] - 1s 2ms/step - loss: 1.0545 - accuracy: 0.5556 - val_loss: 0.9472 - val_accuracy: 0.7913\n",
            "Epoch 35/100\n",
            "363/363 [==============================] - 1s 2ms/step - loss: 1.0300 - accuracy: 0.5655 - val_loss: 0.9483 - val_accuracy: 0.7437\n",
            "Epoch 36/100\n",
            "360/363 [============================>.] - ETA: 0s - loss: 1.0189 - accuracy: 0.5643INFO:tensorflow:Assets written to: best_model.ht5/assets\n",
            "363/363 [==============================] - 2s 5ms/step - loss: 1.0200 - accuracy: 0.5646 - val_loss: 0.9340 - val_accuracy: 0.7771\n",
            "Epoch 37/100\n",
            "340/363 [===========================>..] - ETA: 0s - loss: 1.0272 - accuracy: 0.5638INFO:tensorflow:Assets written to: best_model.ht5/assets\n",
            "363/363 [==============================] - 2s 5ms/step - loss: 1.0278 - accuracy: 0.5637 - val_loss: 0.9291 - val_accuracy: 0.8006\n",
            "Epoch 38/100\n",
            "355/363 [============================>.] - ETA: 0s - loss: 1.0257 - accuracy: 0.5648INFO:tensorflow:Assets written to: best_model.ht5/assets\n",
            "363/363 [==============================] - 2s 5ms/step - loss: 1.0244 - accuracy: 0.5647 - val_loss: 0.9270 - val_accuracy: 0.7815\n",
            "Epoch 39/100\n",
            "346/363 [===========================>..] - ETA: 0s - loss: 0.9862 - accuracy: 0.5695INFO:tensorflow:Assets written to: best_model.ht5/assets\n",
            "363/363 [==============================] - 2s 5ms/step - loss: 0.9844 - accuracy: 0.5708 - val_loss: 0.9166 - val_accuracy: 0.7871\n",
            "Epoch 40/100\n",
            "363/363 [==============================] - 1s 2ms/step - loss: 0.9893 - accuracy: 0.5736 - val_loss: 0.9394 - val_accuracy: 0.7690\n",
            "Epoch 41/100\n",
            "363/363 [==============================] - 1s 2ms/step - loss: 1.0001 - accuracy: 0.5687 - val_loss: 0.9417 - val_accuracy: 0.8048\n",
            "Epoch 42/100\n",
            "363/363 [==============================] - 1s 2ms/step - loss: 1.0360 - accuracy: 0.5694 - val_loss: 0.9375 - val_accuracy: 0.7815\n",
            "Epoch 43/100\n",
            "363/363 [==============================] - 1s 2ms/step - loss: 0.9976 - accuracy: 0.5766 - val_loss: 0.9612 - val_accuracy: 0.7942\n",
            "Epoch 44/100\n",
            "363/363 [==============================] - 1s 3ms/step - loss: 0.9988 - accuracy: 0.5855 - val_loss: 0.9566 - val_accuracy: 0.7674\n",
            "Epoch 45/100\n",
            "363/363 [==============================] - 1s 3ms/step - loss: 0.9980 - accuracy: 0.5815 - val_loss: 0.9168 - val_accuracy: 0.8151\n",
            "Epoch 46/100\n",
            "363/363 [==============================] - 1s 3ms/step - loss: 0.9714 - accuracy: 0.5860 - val_loss: 0.9229 - val_accuracy: 0.8312\n",
            "Epoch 47/100\n",
            "363/363 [==============================] - 1s 3ms/step - loss: 0.9606 - accuracy: 0.5810 - val_loss: 0.9274 - val_accuracy: 0.8187\n",
            "Epoch 48/100\n",
            "363/363 [==============================] - 1s 2ms/step - loss: 0.9882 - accuracy: 0.5830 - val_loss: 0.9221 - val_accuracy: 0.8097\n",
            "Epoch 49/100\n",
            "363/363 [==============================] - 1s 2ms/step - loss: 0.9711 - accuracy: 0.5882 - val_loss: 0.9382 - val_accuracy: 0.7755\n"
          ]
        }
      ]
    },
    {
      "cell_type": "code",
      "source": [
        "plt.figure(figsize=(12,7))\n",
        "plt.plot(history.history['loss'], label='Loss')\n",
        "plt.plot(history.history['val_loss'], label='validation Loss')\n",
        "plt.title('Loss Monitoring')\n",
        "plt.xlabel('Epochs')\n",
        "plt.ylabel('Loss')"
      ],
      "metadata": {
        "colab": {
          "base_uri": "https://localhost:8080/",
          "height": 476
        },
        "id": "XUqUoQrCu2sP",
        "outputId": "8665994b-773f-47c7-cce1-55584d0c2d9a"
      },
      "execution_count": 541,
      "outputs": [
        {
          "output_type": "execute_result",
          "data": {
            "text/plain": [
              "Text(0, 0.5, 'Loss')"
            ]
          },
          "metadata": {},
          "execution_count": 541
        },
        {
          "output_type": "display_data",
          "data": {
            "image/png": "[encoded data removed]",
            "text/plain": [
              "<Figure size 864x504 with 1 Axes>"
            ]
          },
          "metadata": {
            "needs_background": "light"
          }
        }
      ]
    },
    {
      "cell_type": "code",
      "source": [
        "plt.figure(figsize=(12,7))\n",
        "plt.plot(history.history['accuracy'], label='Accuracy')\n",
        "plt.plot(history.history['val_accuracy'], label='validation Accuracy')\n",
        "plt.title('Accuracy Monitoring')\n",
        "plt.xlabel('Epochs')\n",
        "plt.ylabel('Accuracy')"
      ],
      "metadata": {
        "colab": {
          "base_uri": "https://localhost:8080/",
          "height": 476
        },
        "id": "lmBXGh1Nu2vc",
        "outputId": "11f26876-df77-45ff-a004-5f00d7614125"
      },
      "execution_count": 542,
      "outputs": [
        {
          "output_type": "execute_result",
          "data": {
            "text/plain": [
              "Text(0, 0.5, 'Accuracy')"
            ]
          },
          "metadata": {},
          "execution_count": 542
        },
        {
          "output_type": "display_data",
          "data": {
            "image/png": "[encoded data removed]",
            "text/plain": [
              "<Figure size 864x504 with 1 Axes>"
            ]
          },
          "metadata": {
            "needs_background": "light"
          }
        }
      ]
    },
    {
      "cell_type": "code",
      "source": [
        "fig = plt.figure(figsize=(12,7))\n",
        "ax1 = fig.add_subplot(1,2,1)\n",
        "ax1.plot(history.history['loss'], label='Loss')\n",
        "ax1.plot(history.history['val_loss'], label='validation Loss')\n",
        "ax1.set_title('Loss Monitoring')\n",
        "ax1.set_xlabel('Epochs')\n",
        "ax1.set_ylabel('Loss')\n",
        "\n",
        "ax2 = fig.add_subplot(1,2,2)\n",
        "ax2.plot(history.history['val_accuracy'], label='validation Accuracy')\n",
        "ax2.plot(history.history['accuracy'], label='Accuracy')\n",
        "ax2.set_title('Accuracy Monitoring')\n",
        "ax2.set_xlabel('Epochs')\n",
        "ax2.set_ylabel('Accuracy')"
      ],
      "metadata": {
        "colab": {
          "base_uri": "https://localhost:8080/",
          "height": 476
        },
        "id": "Ltk431uOu21m",
        "outputId": "91dfb026-3ee4-498d-b2a5-5a75a0e15b64"
      },
      "execution_count": 543,
      "outputs": [
        {
          "output_type": "execute_result",
          "data": {
            "text/plain": [
              "Text(0, 0.5, 'Accuracy')"
            ]
          },
          "metadata": {},
          "execution_count": 543
        },
        {
          "output_type": "display_data",
          "data": {
            "image/png": "[encoded data removed]",
            "text/plain": [
              "<Figure size 864x504 with 2 Axes>"
            ]
          },
          "metadata": {
            "needs_background": "light"
          }
        }
      ]
    },
    {
      "cell_type": "markdown",
      "source": [
        "### IT분야 과정명 3개 추천하기"
      ],
      "metadata": {
        "id": "6fZo9BjuxXZE"
      }
    },
    {
      "cell_type": "code",
      "source": [
        "pred = model.predict(X_test[:20])"
      ],
      "metadata": {
        "id": "D-9I2dcu3Qof"
      },
      "execution_count": 527,
      "outputs": []
    },
    {
      "cell_type": "code",
      "source": [
        "print(pred.shape)"
      ],
      "metadata": {
        "id": "0MwZZel53Qrh",
        "colab": {
          "base_uri": "https://localhost:8080/"
        },
        "outputId": "b147517b-74af-410b-e3c7-1c8de2444be7"
      },
      "execution_count": 528,
      "outputs": [
        {
          "output_type": "stream",
          "name": "stdout",
          "text": [
            "(20, 20)\n"
          ]
        }
      ]
    },
    {
      "cell_type": "code",
      "source": [
        "# 3개 추천\n",
        "top3 = np.argsort(-1 * pred, axis=1)[:, :3]\n",
        "top3"
      ],
      "metadata": {
        "id": "27X8VdN6GY_z",
        "colab": {
          "base_uri": "https://localhost:8080/"
        },
        "outputId": "82ca573a-5f18-4fde-d0c6-64e181bfce56"
      },
      "execution_count": 529,
      "outputs": [
        {
          "output_type": "execute_result",
          "data": {
            "text/plain": [
              "array([[15, 13,  1],\n",
              "       [12, 10,  8],\n",
              "       [13, 15,  1],\n",
              "       [11,  0, 15],\n",
              "       [18, 16, 19],\n",
              "       [ 4,  9,  5],\n",
              "       [ 9,  5,  7],\n",
              "       [18, 16, 19],\n",
              "       [10,  8, 12],\n",
              "       [ 4,  9,  5],\n",
              "       [ 0, 11, 12],\n",
              "       [ 8, 10, 12],\n",
              "       [ 3,  7,  9],\n",
              "       [ 9,  5,  4],\n",
              "       [ 6,  3,  7],\n",
              "       [ 1, 13, 14],\n",
              "       [13, 15,  1],\n",
              "       [ 3,  7,  9],\n",
              "       [ 4,  9,  5],\n",
              "       [ 0, 11, 12]])"
            ]
          },
          "metadata": {},
          "execution_count": 529
        }
      ]
    },
    {
      "cell_type": "code",
      "source": [
        "고객별_추천리스트 = []\n",
        "for num3 in top3:\n",
        "  for idx in num3:\n",
        "    code = le.classes_[idx]\n",
        "    #print(code, type(code))\n",
        "    추천과정명 = 과정코드_TO_과정명.get(code)\n",
        "    고객별_추천리스트.append(추천과정명)\n",
        "  print(고객별_추천리스트)\n",
        "  고객별_추천리스트.clear()"
      ],
      "metadata": {
        "id": "H6J03P8QC2WK",
        "colab": {
          "base_uri": "https://localhost:8080/"
        },
        "outputId": "884ec3ce-84df-4cb8-90d6-c55d5867aa73"
      },
      "execution_count": 530,
      "outputs": [
        {
          "output_type": "stream",
          "name": "stdout",
          "text": [
            "['[클라우드 ] 클라우드 이해 1-1 클라우드 중요성', 'K에듀 시큐어코딩 가이드(사례심화)', 'RPA 시작하기']\n",
            "['K에듀 시큐어코딩 가이드(12)', '[인프라] 클라우드 개요', '1 전환 가입자 예측 모델 만들기']\n",
            "['K에듀 시큐어코딩 가이드(사례심화)', '[클라우드 ] 클라우드 이해 1-1 클라우드 중요성', 'RPA 시작하기']\n",
            "['K에듀 시큐어코딩 가이드(22)', '개발 보안 가이드 (2편)', '[클라우드 ] 클라우드 이해 1-1 클라우드 중요성']\n",
            "['[클라우드 ] K에듀 클라우드2-1 K에듀 클라우드 선택의 이유', '[클라우드 ] 클라우드 이해 1-2 클라우드 제공방식', '[클라우드 ] K에듀 클라우드2-2 K에듀 클라우드 개요']\n",
            "['개발 보안 가이드 (1편 개요보안은 왜 필요한가요)', 'K에듀 스마트팩토리 경쟁력', '웹스크래핑하기']\n",
            "['K에듀 스마트팩토리 경쟁력', '웹스크래핑하기', '1 텍스트 감정 분석하기']\n",
            "['[클라우드 ] K에듀 클라우드2-1 K에듀 클라우드 선택의 이유', '[클라우드 ] 클라우드 이해 1-2 클라우드 제공방식', '[클라우드 ] K에듀 클라우드2-2 K에듀 클라우드 개요']\n",
            "['[인프라] 클라우드 개요', '1 전환 가입자 예측 모델 만들기', 'K에듀 시큐어코딩 가이드(12)']\n",
            "['개발 보안 가이드 (1편 개요보안은 왜 필요한가요)', 'K에듀 스마트팩토리 경쟁력', '웹스크래핑하기']\n",
            "['개발 보안 가이드 (2편)', 'K에듀 시큐어코딩 가이드(22)', 'K에듀 시큐어코딩 가이드(12)']\n",
            "['1 전환 가입자 예측 모델 만들기', '[인프라] 클라우드 개요', 'K에듀 시큐어코딩 가이드(12)']\n",
            "['쉬운우리보안1 피싱메일 예방법', '1 텍스트 감정 분석하기', 'K에듀 스마트팩토리 경쟁력']\n",
            "['K에듀 스마트팩토리 경쟁력', '웹스크래핑하기', '개발 보안 가이드 (1편 개요보안은 왜 필요한가요)']\n",
            "['1 AI 분석 시작하기', '쉬운우리보안1 피싱메일 예방법', '1 텍스트 감정 분석하기']\n",
            "['RPA 시작하기', 'K에듀 시큐어코딩 가이드(사례심화)', 'K에듀 임직원 정보보안 생활백서']\n",
            "['K에듀 시큐어코딩 가이드(사례심화)', '[클라우드 ] 클라우드 이해 1-1 클라우드 중요성', 'RPA 시작하기']\n",
            "['쉬운우리보안1 피싱메일 예방법', '1 텍스트 감정 분석하기', 'K에듀 스마트팩토리 경쟁력']\n",
            "['개발 보안 가이드 (1편 개요보안은 왜 필요한가요)', 'K에듀 스마트팩토리 경쟁력', '웹스크래핑하기']\n",
            "['개발 보안 가이드 (2편)', 'K에듀 시큐어코딩 가이드(22)', 'K에듀 시큐어코딩 가이드(12)']\n"
          ]
        }
      ]
    },
    {
      "cell_type": "code",
      "source": [
        ""
      ],
      "metadata": {
        "id": "TwkZTk9AGBb5"
      },
      "execution_count": 530,
      "outputs": []
    }
  ]
}