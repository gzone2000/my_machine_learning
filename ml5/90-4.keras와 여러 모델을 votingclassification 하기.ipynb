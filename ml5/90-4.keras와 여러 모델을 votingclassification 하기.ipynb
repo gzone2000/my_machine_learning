{
  "nbformat": 4,
  "nbformat_minor": 0,
  "metadata": {
    "colab": {
      "name": "Untitled3.ipynb",
      "provenance": []
    },
    "kernelspec": {
      "name": "python3",
      "display_name": "Python 3"
    }
  },
  "cells": [
    {
      "cell_type": "markdown",
      "metadata": {
        "id": "pMTaU7lxayZ0"
      },
      "source": [
        "# Ensemble: Scikit-learn and Keras\r\n",
        "\r\n",
        "### 참고 사이트\r\n",
        "https://sailajakarra.medium.com/ensemble-scikit-learn-and-keras-be93206c54c4\r\n",
        "https://scikit-learn.org/stable/modules/generated/sklearn.ensemble.VotingClassifier.html"
      ]
    },
    {
      "cell_type": "code",
      "metadata": {
        "id": "BMcNzCuGazNK"
      },
      "source": [
        "#Imports\r\n",
        "import sklearn\r\n",
        "from sklearn.datasets import make_moons\r\n",
        "from sklearn.model_selection import train_test_split\r\n",
        "from sklearn.ensemble import RandomForestClassifier\r\n",
        "from sklearn.ensemble import VotingClassifier\r\n",
        "from sklearn.linear_model import LogisticRegression\r\n",
        "from sklearn.svm import SVC\r\n",
        "from sklearn.metrics import accuracy_score\r\n",
        "\r\n",
        "import tensorflow as tf\r\n",
        "from tensorflow.keras.models import Sequential\r\n",
        "from tensorflow.keras.layers import Dense"
      ],
      "execution_count": 15,
      "outputs": []
    },
    {
      "cell_type": "code",
      "metadata": {
        "id": "78E3HjbBa4rp"
      },
      "source": [
        "#Load data\r\n",
        "X,y=make_moons(n_samples=500,noise=0.30,random_state=42)"
      ],
      "execution_count": 3,
      "outputs": []
    },
    {
      "cell_type": "code",
      "metadata": {
        "id": "qm2I_PtBa9Gj"
      },
      "source": [
        "#Split test and train data\r\n",
        "X_train,X_test,y_train,y_test=train_test_split(X,y,random_state=42)"
      ],
      "execution_count": 4,
      "outputs": []
    },
    {
      "cell_type": "markdown",
      "metadata": {
        "id": "aNvCykt3cttu"
      },
      "source": [
        "### Build Models:"
      ]
    },
    {
      "cell_type": "code",
      "metadata": {
        "id": "kX1e0RGBa-5Y"
      },
      "source": [
        "# machine learning Models\r\n",
        "log_clf = LogisticRegression(solver=\"lbfgs\", random_state=42)\r\n",
        "rnd_clf = RandomForestClassifier(n_estimators=100, random_state=42)\r\n",
        "svm_clf = SVC(gamma=\"scale\", random_state=42,probability=True)\r\n",
        "\r\n",
        "# Keras Model\r\n",
        "def build_nn():\r\n",
        "    model= Sequential([\r\n",
        "                       Dense(50,activation='relu',input_shape=[2]),\r\n",
        "                       Dense(1,activation='sigmoid')\r\n",
        "    ])\r\n",
        "\r\n",
        "    model.compile(\r\n",
        "                optimizer='Adam',\r\n",
        "                loss='binary_crossentropy',\r\n",
        "                metrics=['accuracy'])\r\n",
        "    return model"
      ],
      "execution_count": 5,
      "outputs": []
    },
    {
      "cell_type": "code",
      "metadata": {
        "id": "SUO63-ltbL7g"
      },
      "source": [
        "keras_clf = tf.keras.wrappers.scikit_learn.KerasClassifier(\r\n",
        "                            build_nn,\r\n",
        "                            epochs=500,\r\n",
        "                            verbose=False)"
      ],
      "execution_count": 8,
      "outputs": []
    },
    {
      "cell_type": "code",
      "metadata": {
        "id": "ZFvesoiwbOpL"
      },
      "source": [
        "keras_clf._estimator_type = \"classifier\""
      ],
      "execution_count": 9,
      "outputs": []
    },
    {
      "cell_type": "code",
      "metadata": {
        "id": "6BV4A8zmbbso"
      },
      "source": [
        "# voting\r\n",
        "voting = VotingClassifier(\r\n",
        "             estimators=[('lr', log_clf),\r\n",
        "                         ('rf', rnd_clf),\r\n",
        "                         ('svc', svm_clf),\r\n",
        "                         ('keras',keras_clf)], \r\n",
        "             voting='soft',\r\n",
        "             weights=[0.2, 0.3, 0.2, 0.3] )"
      ],
      "execution_count": 13,
      "outputs": []
    },
    {
      "cell_type": "markdown",
      "metadata": {
        "id": "3esFdeELcp87"
      },
      "source": [
        "### Fit Models:"
      ]
    },
    {
      "cell_type": "code",
      "metadata": {
        "colab": {
          "base_uri": "https://localhost:8080/"
        },
        "id": "7uEZ7oWHbgXl",
        "outputId": "5afff127-f437-4f17-872a-2fd163df966f"
      },
      "source": [
        "voting.fit(X_train,y_train)"
      ],
      "execution_count": 16,
      "outputs": [
        {
          "output_type": "execute_result",
          "data": {
            "text/plain": [
              "VotingClassifier(estimators=[('lr',\n",
              "                              LogisticRegression(C=1.0, class_weight=None,\n",
              "                                                 dual=False, fit_intercept=True,\n",
              "                                                 intercept_scaling=1,\n",
              "                                                 l1_ratio=None, max_iter=100,\n",
              "                                                 multi_class='auto',\n",
              "                                                 n_jobs=None, penalty='l2',\n",
              "                                                 random_state=42,\n",
              "                                                 solver='lbfgs', tol=0.0001,\n",
              "                                                 verbose=0, warm_start=False)),\n",
              "                             ('rf',\n",
              "                              RandomForestClassifier(bootstrap=True,\n",
              "                                                     ccp_alpha=0.0,\n",
              "                                                     class_weight=None,\n",
              "                                                     crit...\n",
              "                                  class_weight=None, coef0=0.0,\n",
              "                                  decision_function_shape='ovr', degree=3,\n",
              "                                  gamma='scale', kernel='rbf', max_iter=-1,\n",
              "                                  probability=True, random_state=42,\n",
              "                                  shrinking=True, tol=0.001, verbose=False)),\n",
              "                             ('keras',\n",
              "                              <tensorflow.python.keras.wrappers.scikit_learn.KerasClassifier object at 0x7f12f60ecd10>)],\n",
              "                 flatten_transform=True, n_jobs=None, voting='soft',\n",
              "                 weights=[0.2, 0.3, 0.2, 0.3])"
            ]
          },
          "metadata": {
            "tags": []
          },
          "execution_count": 16
        }
      ]
    },
    {
      "cell_type": "markdown",
      "metadata": {
        "id": "BIJq4VT5clA6"
      },
      "source": [
        "### Evaluate Models:"
      ]
    },
    {
      "cell_type": "code",
      "metadata": {
        "colab": {
          "base_uri": "https://localhost:8080/"
        },
        "id": "HnxKZuwgbjDP",
        "outputId": "0ce8e7e9-13e1-49c5-a39f-4eb345fd10b1"
      },
      "source": [
        "for clf in (log_clf, rnd_clf, svm_clf, keras_clf, voting):\r\n",
        "    clf.fit(X_train, y_train)\r\n",
        "    y_pred = clf.predict(X_test)\r\n",
        "    print(clf.__class__.__name__, accuracy_score(y_test, y_pred))"
      ],
      "execution_count": 18,
      "outputs": [
        {
          "output_type": "stream",
          "text": [
            "LogisticRegression 0.864\n",
            "RandomForestClassifier 0.896\n",
            "SVC 0.896\n"
          ],
          "name": "stdout"
        },
        {
          "output_type": "stream",
          "text": [
            "/usr/local/lib/python3.7/dist-packages/tensorflow/python/keras/engine/sequential.py:450: UserWarning: `model.predict_classes()` is deprecated and will be removed after 2021-01-01. Please use instead:* `np.argmax(model.predict(x), axis=-1)`,   if your model does multi-class classification   (e.g. if it uses a `softmax` last-layer activation).* `(model.predict(x) > 0.5).astype(\"int32\")`,   if your model does binary classification   (e.g. if it uses a `sigmoid` last-layer activation).\n",
            "  warnings.warn('`model.predict_classes()` is deprecated and '\n"
          ],
          "name": "stderr"
        },
        {
          "output_type": "stream",
          "text": [
            "KerasClassifier 0.872\n",
            "VotingClassifier 0.904\n"
          ],
          "name": "stdout"
        },
        {
          "output_type": "stream",
          "text": [
            "/usr/local/lib/python3.7/dist-packages/tensorflow/python/keras/engine/sequential.py:425: UserWarning: `model.predict_proba()` is deprecated and will be removed after 2021-01-01. Please use `model.predict()` instead.\n",
            "  warnings.warn('`model.predict_proba()` is deprecated and '\n"
          ],
          "name": "stderr"
        }
      ]
    },
    {
      "cell_type": "code",
      "metadata": {
        "id": "j0-9lpqjczo5"
      },
      "source": [
        ""
      ],
      "execution_count": null,
      "outputs": []
    }
  ]
}