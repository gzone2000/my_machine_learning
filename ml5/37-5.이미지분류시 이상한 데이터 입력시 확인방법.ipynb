{
  "nbformat": 4,
  "nbformat_minor": 0,
  "metadata": {
    "colab": {
      "name": "Untitled11.ipynb",
      "provenance": [],
      "collapsed_sections": []
    },
    "kernelspec": {
      "name": "python3",
      "display_name": "Python 3"
    },
    "accelerator": "GPU"
  },
  "cells": [
    {
      "cell_type": "markdown",
      "metadata": {
        "id": "tovbn8ok1zTw"
      },
      "source": [
        "### MNIST 모델링으로 Fashion_Mnist 데이터 입력하여 분류하면 제대로 못함\r\n",
        "> 어떻게 잘못 분류됨을 파악할수 있을까?"
      ]
    },
    {
      "cell_type": "markdown",
      "metadata": {
        "id": "m8TV46t_2P4H"
      },
      "source": [
        "### MNIST 모델링"
      ]
    },
    {
      "cell_type": "code",
      "metadata": {
        "id": "ORey6VqsOpke"
      },
      "source": [
        "import tensorflow as tf"
      ],
      "execution_count": 1,
      "outputs": []
    },
    {
      "cell_type": "code",
      "metadata": {
        "id": "2Ehx3_Z5OuP6"
      },
      "source": [
        "from tensorflow.keras.datasets import mnist"
      ],
      "execution_count": 2,
      "outputs": []
    },
    {
      "cell_type": "code",
      "metadata": {
        "id": "zQa8MttmO0Mz"
      },
      "source": [
        "(x_train,y_train) ,(x_test,y_test) = mnist.load_data()"
      ],
      "execution_count": 3,
      "outputs": []
    },
    {
      "cell_type": "code",
      "metadata": {
        "id": "NLOSGfBPd03Y"
      },
      "source": [
        "x_train = x_train[:,:,:,tf.newaxis]\r\n",
        "x_test = x_test[:,:,:, tf.newaxis]"
      ],
      "execution_count": 4,
      "outputs": []
    },
    {
      "cell_type": "code",
      "metadata": {
        "colab": {
          "base_uri": "https://localhost:8080/"
        },
        "id": "s66wiZ67O6J-",
        "outputId": "d5cd9926-5169-4de2-822a-81890702b2f1"
      },
      "source": [
        "x_train.shape, y_train.shape, type(x_train), type(y_train)"
      ],
      "execution_count": 5,
      "outputs": [
        {
          "output_type": "execute_result",
          "data": {
            "text/plain": [
              "((60000, 28, 28, 1), (60000,), numpy.ndarray, numpy.ndarray)"
            ]
          },
          "metadata": {
            "tags": []
          },
          "execution_count": 5
        }
      ]
    },
    {
      "cell_type": "code",
      "metadata": {
        "id": "aXvHpNZsQKEi"
      },
      "source": [
        "def processing(img, label):\r\n",
        "  img = img/255.\r\n",
        "  return img, label"
      ],
      "execution_count": 6,
      "outputs": []
    },
    {
      "cell_type": "code",
      "metadata": {
        "id": "dkYoZ6nCO7O_"
      },
      "source": [
        "train_ds = tf.data.Dataset.from_tensor_slices((x_train.astype(float), y_train.astype(float)))\r\n",
        "train_ds = train_ds.map(processing).shuffle(1000).batch(128).prefetch(1)"
      ],
      "execution_count": 7,
      "outputs": []
    },
    {
      "cell_type": "code",
      "metadata": {
        "colab": {
          "base_uri": "https://localhost:8080/"
        },
        "id": "8bImIFY1aiOl",
        "outputId": "5e4e1a2e-11bd-4169-91b0-15e16393243c"
      },
      "source": [
        "train_ds"
      ],
      "execution_count": 8,
      "outputs": [
        {
          "output_type": "execute_result",
          "data": {
            "text/plain": [
              "<PrefetchDataset shapes: ((None, 28, 28, 1), (None,)), types: (tf.float64, tf.float64)>"
            ]
          },
          "metadata": {
            "tags": []
          },
          "execution_count": 8
        }
      ]
    },
    {
      "cell_type": "code",
      "metadata": {
        "colab": {
          "base_uri": "https://localhost:8080/"
        },
        "id": "Pe2h3pXSaiLH",
        "outputId": "b886ae69-5c3c-4760-f639-fae295e1b17b"
      },
      "source": [
        "X = tf.keras.layers.Input(shape=(28,28,1), name='INPUT_LAYER')\r\n",
        "H = tf.keras.layers.Conv2D(64,3,strides=1, padding='same', activation='relu')(X)\r\n",
        "H = tf.keras.layers.MaxPooling2D((2,2))(H)\r\n",
        "H = tf.keras.layers.Conv2D(64,3,strides=1, padding='same', activation='relu')(H)\r\n",
        "H = tf.keras.layers.MaxPooling2D((2,2))(H)\r\n",
        "H = tf.keras.layers.Flatten()(H)\r\n",
        "H = tf.keras.layers.Dense(64, activation='relu')(H)\r\n",
        "H = tf.keras.layers.Dense(10, activation=None, name='OUTPUT_LAYER_SCORE')(H)\r\n",
        "Y = tf.keras.layers.Softmax(name='OUTPUT_LAYER_SOFTMAX')(H)\r\n",
        "\r\n",
        "model = tf.keras.Model(X, Y)\r\n",
        "model.summary()"
      ],
      "execution_count": 9,
      "outputs": [
        {
          "output_type": "stream",
          "text": [
            "Model: \"model\"\n",
            "_________________________________________________________________\n",
            "Layer (type)                 Output Shape              Param #   \n",
            "=================================================================\n",
            "INPUT_LAYER (InputLayer)     [(None, 28, 28, 1)]       0         \n",
            "_________________________________________________________________\n",
            "conv2d (Conv2D)              (None, 28, 28, 64)        640       \n",
            "_________________________________________________________________\n",
            "max_pooling2d (MaxPooling2D) (None, 14, 14, 64)        0         \n",
            "_________________________________________________________________\n",
            "conv2d_1 (Conv2D)            (None, 14, 14, 64)        36928     \n",
            "_________________________________________________________________\n",
            "max_pooling2d_1 (MaxPooling2 (None, 7, 7, 64)          0         \n",
            "_________________________________________________________________\n",
            "flatten (Flatten)            (None, 3136)              0         \n",
            "_________________________________________________________________\n",
            "dense (Dense)                (None, 64)                200768    \n",
            "_________________________________________________________________\n",
            "OUTPUT_LAYER_SCORE (Dense)   (None, 10)                650       \n",
            "_________________________________________________________________\n",
            "OUTPUT_LAYER_SOFTMAX (Softma (None, 10)                0         \n",
            "=================================================================\n",
            "Total params: 238,986\n",
            "Trainable params: 238,986\n",
            "Non-trainable params: 0\n",
            "_________________________________________________________________\n"
          ],
          "name": "stdout"
        }
      ]
    },
    {
      "cell_type": "code",
      "metadata": {
        "id": "XIX3ifMmaiHs"
      },
      "source": [
        "model.compile(optimizer='adam', loss='sparse_categorical_crossentropy', metrics='accuracy')"
      ],
      "execution_count": 10,
      "outputs": []
    },
    {
      "cell_type": "code",
      "metadata": {
        "id": "DcjAZmVFfyX1"
      },
      "source": [
        "step = round(x_train.shape[0]/128)"
      ],
      "execution_count": 11,
      "outputs": []
    },
    {
      "cell_type": "code",
      "metadata": {
        "colab": {
          "base_uri": "https://localhost:8080/"
        },
        "id": "pkotZvo5aiEY",
        "outputId": "787ee953-1b6f-449e-f28a-e390f30eada6"
      },
      "source": [
        "model.fit(x_train, y_train, epochs=5, steps_per_epoch=step, validation_split=0.2)"
      ],
      "execution_count": 12,
      "outputs": [
        {
          "output_type": "stream",
          "text": [
            "Epoch 1/5\n",
            "469/469 [==============================] - 5s 7ms/step - loss: 2.0539 - accuracy: 0.8092 - val_loss: 0.0861 - val_accuracy: 0.9742\n",
            "Epoch 2/5\n",
            "469/469 [==============================] - 3s 6ms/step - loss: 0.0735 - accuracy: 0.9767 - val_loss: 0.0743 - val_accuracy: 0.9787\n",
            "Epoch 3/5\n",
            "469/469 [==============================] - 3s 6ms/step - loss: 0.0492 - accuracy: 0.9843 - val_loss: 0.0745 - val_accuracy: 0.9796\n",
            "Epoch 4/5\n",
            "469/469 [==============================] - 3s 6ms/step - loss: 0.0386 - accuracy: 0.9872 - val_loss: 0.0677 - val_accuracy: 0.9827\n",
            "Epoch 5/5\n",
            "454/469 [============================>.] - ETA: 0s - loss: 0.0275 - accuracy: 0.9911WARNING:tensorflow:Your input ran out of data; interrupting training. Make sure that your dataset or generator can generate at least `steps_per_epoch * epochs` batches (in this case, 2345 batches). You may need to use the repeat() function when building your dataset.\n",
            "469/469 [==============================] - 3s 6ms/step - loss: 0.0276 - accuracy: 0.9911 - val_loss: 0.0672 - val_accuracy: 0.9836\n"
          ],
          "name": "stdout"
        },
        {
          "output_type": "execute_result",
          "data": {
            "text/plain": [
              "<tensorflow.python.keras.callbacks.History at 0x7f3a6ee67e48>"
            ]
          },
          "metadata": {
            "tags": []
          },
          "execution_count": 12
        }
      ]
    },
    {
      "cell_type": "markdown",
      "metadata": {
        "id": "1fg49jRf2XQZ"
      },
      "source": [
        "### MNIST 모델에 fashion_mnist 데이터 입력"
      ]
    },
    {
      "cell_type": "code",
      "metadata": {
        "id": "Gu5F5ZB8aiB6"
      },
      "source": [
        "[fashine_train_x, fashine_train_y], [fashine_test_x, fashine_test_y] = tf.keras.datasets.fashion_mnist.load_data()"
      ],
      "execution_count": 13,
      "outputs": []
    },
    {
      "cell_type": "code",
      "metadata": {
        "id": "BrdnLdjNah-9"
      },
      "source": [
        "tmp_data = fashine_train_x[1]"
      ],
      "execution_count": 14,
      "outputs": []
    },
    {
      "cell_type": "code",
      "metadata": {
        "colab": {
          "base_uri": "https://localhost:8080/",
          "height": 282
        },
        "id": "oD5tyKSt3LRR",
        "outputId": "c80268af-1526-4fad-9f93-99f48c09abe7"
      },
      "source": [
        "import matplotlib.pyplot as plt\r\n",
        "plt.imshow(tmp_data, cmap='gray')"
      ],
      "execution_count": 15,
      "outputs": [
        {
          "output_type": "execute_result",
          "data": {
            "text/plain": [
              "<matplotlib.image.AxesImage at 0x7f3a0bdd8cf8>"
            ]
          },
          "metadata": {
            "tags": []
          },
          "execution_count": 15
        },
        {
          "output_type": "display_data",
          "data": {
            "image/png": "[encoded data removed]",
            "text/plain": [
              "<Figure size 432x288 with 1 Axes>"
            ]
          },
          "metadata": {
            "tags": [],
            "needs_background": "light"
          }
        }
      ]
    },
    {
      "cell_type": "code",
      "metadata": {
        "colab": {
          "base_uri": "https://localhost:8080/"
        },
        "id": "sD1uzJgSah7J",
        "outputId": "26e90bc5-d52a-4293-f45b-43aa7361ebaa"
      },
      "source": [
        "# 티셧츠 그림을 주었는데 MNIST 모델에서 8으로 분류\r\n",
        "import numpy as np\r\n",
        "\r\n",
        "tmp_data = tf.reshape(tmp_data, [1, 28, 28, 1])\r\n",
        "pred = model.predict(tmp_data)\r\n",
        "print(pred)\r\n",
        "print(np.argmax(pred))"
      ],
      "execution_count": 16,
      "outputs": [
        {
          "output_type": "stream",
          "text": [
            "[[1.5730731e-04 8.7336797e-05 2.7595672e-03 5.5071497e-03 3.5989069e-05\n",
            "  8.2680846e-05 5.1605975e-04 7.1260365e-06 9.9084657e-01 2.1010241e-07]]\n",
            "8\n"
          ],
          "name": "stdout"
        }
      ]
    },
    {
      "cell_type": "markdown",
      "metadata": {
        "id": "iz7PXz6E3wY7"
      },
      "source": [
        "### MNIST 모델의 layer 확인하고 layer를 수정해서 새로운 모델 만들어 output layer의 Score(점수) 확인해 보자"
      ]
    },
    {
      "cell_type": "code",
      "metadata": {
        "colab": {
          "base_uri": "https://localhost:8080/"
        },
        "id": "m9XOtlnZnJED",
        "outputId": "d134cf31-1c0d-475e-97cc-ea21b385102d"
      },
      "source": [
        "model.layers"
      ],
      "execution_count": 19,
      "outputs": [
        {
          "output_type": "execute_result",
          "data": {
            "text/plain": [
              "[<tensorflow.python.keras.engine.input_layer.InputLayer at 0x7f3aa1ab72b0>,\n",
              " <tensorflow.python.keras.layers.convolutional.Conv2D at 0x7f3aa1a90f98>,\n",
              " <tensorflow.python.keras.layers.pooling.MaxPooling2D at 0x7f3a101b2470>,\n",
              " <tensorflow.python.keras.layers.convolutional.Conv2D at 0x7f3a1012e9e8>,\n",
              " <tensorflow.python.keras.layers.pooling.MaxPooling2D at 0x7f3a10136860>,\n",
              " <tensorflow.python.keras.layers.core.Flatten at 0x7f3a10136390>,\n",
              " <tensorflow.python.keras.layers.core.Dense at 0x7f3a1013b5c0>,\n",
              " <tensorflow.python.keras.layers.core.Dense at 0x7f3a1013bb38>,\n",
              " <tensorflow.python.keras.layers.advanced_activations.Softmax at 0x7f3a1012e6a0>]"
            ]
          },
          "metadata": {
            "tags": []
          },
          "execution_count": 19
        }
      ]
    },
    {
      "cell_type": "code",
      "metadata": {
        "colab": {
          "base_uri": "https://localhost:8080/"
        },
        "id": "yOgYOWfjn1Nd",
        "outputId": "5228725a-4b74-4cb2-b290-29a75aa1ef87"
      },
      "source": [
        "model.summary()"
      ],
      "execution_count": 20,
      "outputs": [
        {
          "output_type": "stream",
          "text": [
            "Model: \"model\"\n",
            "_________________________________________________________________\n",
            "Layer (type)                 Output Shape              Param #   \n",
            "=================================================================\n",
            "INPUT_LAYER (InputLayer)     [(None, 28, 28, 1)]       0         \n",
            "_________________________________________________________________\n",
            "conv2d (Conv2D)              (None, 28, 28, 64)        640       \n",
            "_________________________________________________________________\n",
            "max_pooling2d (MaxPooling2D) (None, 14, 14, 64)        0         \n",
            "_________________________________________________________________\n",
            "conv2d_1 (Conv2D)            (None, 14, 14, 64)        36928     \n",
            "_________________________________________________________________\n",
            "max_pooling2d_1 (MaxPooling2 (None, 7, 7, 64)          0         \n",
            "_________________________________________________________________\n",
            "flatten (Flatten)            (None, 3136)              0         \n",
            "_________________________________________________________________\n",
            "dense (Dense)                (None, 64)                200768    \n",
            "_________________________________________________________________\n",
            "OUTPUT_LAYER_SCORE (Dense)   (None, 10)                650       \n",
            "_________________________________________________________________\n",
            "OUTPUT_LAYER_SOFTMAX (Softma (None, 10)                0         \n",
            "=================================================================\n",
            "Total params: 238,986\n",
            "Trainable params: 238,986\n",
            "Non-trainable params: 0\n",
            "_________________________________________________________________\n"
          ],
          "name": "stdout"
        }
      ]
    },
    {
      "cell_type": "code",
      "metadata": {
        "colab": {
          "base_uri": "https://localhost:8080/"
        },
        "id": "MmAGYdVrn1KZ",
        "outputId": "81211c69-db09-4cd9-dda9-d39cbe723697"
      },
      "source": [
        "print(model.get_layer('INPUT_LAYER').input)\r\n",
        "print(model.get_layer('INPUT_LAYER').output)"
      ],
      "execution_count": 21,
      "outputs": [
        {
          "output_type": "stream",
          "text": [
            "KerasTensor(type_spec=TensorSpec(shape=(None, 28, 28, 1), dtype=tf.float32, name='INPUT_LAYER'), name='INPUT_LAYER', description=\"created by layer 'INPUT_LAYER'\")\n",
            "KerasTensor(type_spec=TensorSpec(shape=(None, 28, 28, 1), dtype=tf.float32, name='INPUT_LAYER'), name='INPUT_LAYER', description=\"created by layer 'INPUT_LAYER'\")\n"
          ],
          "name": "stdout"
        }
      ]
    },
    {
      "cell_type": "code",
      "metadata": {
        "id": "ctUSfs5Un1Bs"
      },
      "source": [
        "test_model = tf.keras.Model(\r\n",
        "    inputs=model.get_layer('INPUT_LAYER').input,\r\n",
        "    outputs=[model.get_layer('OUTPUT_LAYER_SCORE').output, model.get_layer('OUTPUT_LAYER_SOFTMAX').output]\r\n",
        ")"
      ],
      "execution_count": 23,
      "outputs": []
    },
    {
      "cell_type": "code",
      "metadata": {
        "colab": {
          "base_uri": "https://localhost:8080/"
        },
        "id": "9hzo_fXPah4g",
        "outputId": "745fbec7-6ddc-4eaa-9c2e-bcf828220215"
      },
      "source": [
        "test_model.summary()"
      ],
      "execution_count": 24,
      "outputs": [
        {
          "output_type": "stream",
          "text": [
            "Model: \"model_1\"\n",
            "_________________________________________________________________\n",
            "Layer (type)                 Output Shape              Param #   \n",
            "=================================================================\n",
            "INPUT_LAYER (InputLayer)     [(None, 28, 28, 1)]       0         \n",
            "_________________________________________________________________\n",
            "conv2d (Conv2D)              (None, 28, 28, 64)        640       \n",
            "_________________________________________________________________\n",
            "max_pooling2d (MaxPooling2D) (None, 14, 14, 64)        0         \n",
            "_________________________________________________________________\n",
            "conv2d_1 (Conv2D)            (None, 14, 14, 64)        36928     \n",
            "_________________________________________________________________\n",
            "max_pooling2d_1 (MaxPooling2 (None, 7, 7, 64)          0         \n",
            "_________________________________________________________________\n",
            "flatten (Flatten)            (None, 3136)              0         \n",
            "_________________________________________________________________\n",
            "dense (Dense)                (None, 64)                200768    \n",
            "_________________________________________________________________\n",
            "OUTPUT_LAYER_SCORE (Dense)   (None, 10)                650       \n",
            "_________________________________________________________________\n",
            "OUTPUT_LAYER_SOFTMAX (Softma (None, 10)                0         \n",
            "=================================================================\n",
            "Total params: 238,986\n",
            "Trainable params: 238,986\n",
            "Non-trainable params: 0\n",
            "_________________________________________________________________\n"
          ],
          "name": "stdout"
        }
      ]
    },
    {
      "cell_type": "code",
      "metadata": {
        "id": "bMYey8Wdah1_"
      },
      "source": [
        "test_model.compile(optimizer='adam',loss='sparse_categorical_crossentropy', metrics='accuracy')"
      ],
      "execution_count": 25,
      "outputs": []
    },
    {
      "cell_type": "code",
      "metadata": {
        "colab": {
          "base_uri": "https://localhost:8080/"
        },
        "id": "rDc8mu4DahzF",
        "outputId": "e5f04e79-f37b-4ab0-f88f-0d9b5e8a53c8"
      },
      "source": [
        "test_model.fit(x_train, y_train, epochs=5, steps_per_epoch=step, validation_split=0.2)"
      ],
      "execution_count": 26,
      "outputs": [
        {
          "output_type": "stream",
          "text": [
            "Epoch 1/5\n",
            "469/469 [==============================] - 4s 7ms/step - loss: 1.0910 - OUTPUT_LAYER_SCORE_loss: 0.9855 - OUTPUT_LAYER_SOFTMAX_loss: 0.1055 - OUTPUT_LAYER_SCORE_accuracy: 0.9716 - OUTPUT_LAYER_SOFTMAX_accuracy: 0.9716 - val_loss: 0.8641 - val_OUTPUT_LAYER_SCORE_loss: 0.7548 - val_OUTPUT_LAYER_SOFTMAX_loss: 0.1093 - val_OUTPUT_LAYER_SCORE_accuracy: 0.9791 - val_OUTPUT_LAYER_SOFTMAX_accuracy: 0.9791\n",
            "Epoch 2/5\n",
            "469/469 [==============================] - 3s 7ms/step - loss: 0.8686 - OUTPUT_LAYER_SCORE_loss: 0.8198 - OUTPUT_LAYER_SOFTMAX_loss: 0.0488 - OUTPUT_LAYER_SCORE_accuracy: 0.9860 - OUTPUT_LAYER_SOFTMAX_accuracy: 0.9860 - val_loss: 0.6830 - val_OUTPUT_LAYER_SCORE_loss: 0.6173 - val_OUTPUT_LAYER_SOFTMAX_loss: 0.0657 - val_OUTPUT_LAYER_SCORE_accuracy: 0.9852 - val_OUTPUT_LAYER_SOFTMAX_accuracy: 0.9852\n",
            "Epoch 3/5\n",
            "469/469 [==============================] - 3s 7ms/step - loss: 0.6603 - OUTPUT_LAYER_SCORE_loss: 0.6320 - OUTPUT_LAYER_SOFTMAX_loss: 0.0283 - OUTPUT_LAYER_SCORE_accuracy: 0.9928 - OUTPUT_LAYER_SOFTMAX_accuracy: 0.9928 - val_loss: 1.0714 - val_OUTPUT_LAYER_SCORE_loss: 0.7368 - val_OUTPUT_LAYER_SOFTMAX_loss: 0.3346 - val_OUTPUT_LAYER_SCORE_accuracy: 0.9548 - val_OUTPUT_LAYER_SOFTMAX_accuracy: 0.9548\n",
            "Epoch 4/5\n",
            "469/469 [==============================] - 3s 7ms/step - loss: 1.1064 - OUTPUT_LAYER_SCORE_loss: 0.8770 - OUTPUT_LAYER_SOFTMAX_loss: 0.2294 - OUTPUT_LAYER_SCORE_accuracy: 0.9657 - OUTPUT_LAYER_SOFTMAX_accuracy: 0.9657 - val_loss: 0.9164 - val_OUTPUT_LAYER_SCORE_loss: 0.8327 - val_OUTPUT_LAYER_SOFTMAX_loss: 0.0837 - val_OUTPUT_LAYER_SCORE_accuracy: 0.9839 - val_OUTPUT_LAYER_SOFTMAX_accuracy: 0.9839\n",
            "Epoch 5/5\n",
            "456/469 [============================>.] - ETA: 0s - loss: 0.8242 - OUTPUT_LAYER_SCORE_loss: 0.7805 - OUTPUT_LAYER_SOFTMAX_loss: 0.0437 - OUTPUT_LAYER_SCORE_accuracy: 0.9893 - OUTPUT_LAYER_SOFTMAX_accuracy: 0.9893WARNING:tensorflow:Your input ran out of data; interrupting training. Make sure that your dataset or generator can generate at least `steps_per_epoch * epochs` batches (in this case, 2345 batches). You may need to use the repeat() function when building your dataset.\n",
            "469/469 [==============================] - 3s 7ms/step - loss: 0.8244 - OUTPUT_LAYER_SCORE_loss: 0.7809 - OUTPUT_LAYER_SOFTMAX_loss: 0.0435 - OUTPUT_LAYER_SCORE_accuracy: 0.9893 - OUTPUT_LAYER_SOFTMAX_accuracy: 0.9893 - val_loss: 0.6676 - val_OUTPUT_LAYER_SCORE_loss: 0.6066 - val_OUTPUT_LAYER_SOFTMAX_loss: 0.0610 - val_OUTPUT_LAYER_SCORE_accuracy: 0.9860 - val_OUTPUT_LAYER_SOFTMAX_accuracy: 0.9860\n"
          ],
          "name": "stdout"
        },
        {
          "output_type": "execute_result",
          "data": {
            "text/plain": [
              "<tensorflow.python.keras.callbacks.History at 0x7f3a0b8f3208>"
            ]
          },
          "metadata": {
            "tags": []
          },
          "execution_count": 26
        }
      ]
    },
    {
      "cell_type": "code",
      "metadata": {
        "colab": {
          "base_uri": "https://localhost:8080/"
        },
        "id": "tDkhKAtWahvk",
        "outputId": "8bcc005c-d776-4dab-c05a-5a238aaef6e8"
      },
      "source": [
        "# pred_score 값을 보면 + 값이 하나도 없다. 즉, 분류시 +값이 있어야 제대로 분류가 되는데 없으니 제대로 분류가 안된다고 알려줌\r\n",
        "pred_score, pred_softmax = test_model.predict(tmp_data)\r\n",
        "print(pred_score)\r\n",
        "print(pred_softmax)\r\n",
        "print(np.argmax(pred_softmax))"
      ],
      "execution_count": 30,
      "outputs": [
        {
          "output_type": "stream",
          "text": [
            "[[-18.283007 -17.698519 -17.516762 -15.967876 -12.966067 -15.921283\n",
            "  -18.223768 -13.502399  -6.45911  -14.91437 ]]\n",
            "[[7.30707507e-06 1.31094175e-05 1.57224240e-05 7.39932002e-05\n",
            "  1.48888363e-03 7.75223234e-05 7.75301214e-06 8.70832591e-04\n",
            "  9.97232735e-01 2.12189581e-04]]\n",
            "8\n"
          ],
          "name": "stdout"
        }
      ]
    },
    {
      "cell_type": "markdown",
      "metadata": {
        "id": "HuCSkv2h59No"
      },
      "source": [
        "### MNIST 데이터 하나를 가지고 분류해 보고 Score 값도 확인해 보자"
      ]
    },
    {
      "cell_type": "code",
      "metadata": {
        "colab": {
          "base_uri": "https://localhost:8080/"
        },
        "id": "VU6QP7R4ahsX",
        "outputId": "8e18b5d1-13cb-45a5-9194-8d8211ff59c8"
      },
      "source": [
        "x_train[0].shape"
      ],
      "execution_count": 32,
      "outputs": [
        {
          "output_type": "execute_result",
          "data": {
            "text/plain": [
              "(28, 28, 1)"
            ]
          },
          "metadata": {
            "tags": []
          },
          "execution_count": 32
        }
      ]
    },
    {
      "cell_type": "code",
      "metadata": {
        "colab": {
          "base_uri": "https://localhost:8080/"
        },
        "id": "It-HQObYahpU",
        "outputId": "bcf76761-ab96-4178-bbc4-1e9523bf4b7b"
      },
      "source": [
        "# pred_score 값중에서 + 값이 확연히 보임.\r\n",
        "pred_score, pred_softmax = test_model.predict(x_train[0].reshape(1,28,28,1))\r\n",
        "print(pred_score)\r\n",
        "print(pred_softmax)\r\n",
        "print(np.argmax(pred_softmax))"
      ],
      "execution_count": 33,
      "outputs": [
        {
          "output_type": "stream",
          "text": [
            "[[-29.96821   -26.141878  -30.979338    3.8686793 -24.527292   13.271329\n",
            "  -22.347185  -15.189188  -14.929717  -15.664749 ]]\n",
            "[[1.6644492e-19 7.6388045e-18 6.0554080e-20 8.2498344e-05 3.8391153e-17\n",
            "  9.9991751e-01 3.3965624e-16 4.3623278e-13 5.6546472e-13 2.7113500e-13]]\n",
            "5\n"
          ],
          "name": "stdout"
        }
      ]
    },
    {
      "cell_type": "code",
      "metadata": {
        "id": "uZC7bDqdPtCU"
      },
      "source": [
        "."
      ],
      "execution_count": null,
      "outputs": []
    }
  ]
}