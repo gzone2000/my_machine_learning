{
  "nbformat": 4,
  "nbformat_minor": 0,
  "metadata": {
    "colab": {
      "name": "Autoencoder 신용카드 사기 거래 감지하기.ipynb",
      "provenance": [],
      "collapsed_sections": []
    },
    "kernelspec": {
      "name": "python3",
      "display_name": "Python 3"
    },
    "accelerator": "GPU"
  },
  "cells": [
    {
      "cell_type": "markdown",
      "metadata": {
        "id": "-FI-mjp6XV9n"
      },
      "source": [
        "# Autoencoder 신용카드 사기 거래 감지하기\r\n",
        "> unbalanced data"
      ]
    },
    {
      "cell_type": "markdown",
      "metadata": {
        "id": "bC_T6R96XikS"
      },
      "source": [
        "## Step 1. EDA"
      ]
    },
    {
      "cell_type": "code",
      "metadata": {
        "id": "U_IP_BZvXBkQ"
      },
      "source": [
        "import numpy as np\r\n",
        "import matplotlib.pyplot as plt\r\n",
        "import pandas as pd"
      ],
      "execution_count": 32,
      "outputs": []
    },
    {
      "cell_type": "code",
      "metadata": {
        "colab": {
          "base_uri": "https://localhost:8080/"
        },
        "id": "foU6GZx_XrZ8",
        "outputId": "8fc45243-0e50-4673-f674-823f86261f61"
      },
      "source": [
        "data = pd.read_csv('https://github.com/nsethi31/Kaggle-Data-Credit-Card-Fraud-Detection/raw/master/creditcard.csv')\r\n",
        "data.shape"
      ],
      "execution_count": 33,
      "outputs": [
        {
          "output_type": "execute_result",
          "data": {
            "text/plain": [
              "(284807, 31)"
            ]
          },
          "metadata": {
            "tags": []
          },
          "execution_count": 33
        }
      ]
    },
    {
      "cell_type": "code",
      "metadata": {
        "colab": {
          "base_uri": "https://localhost:8080/",
          "height": 215
        },
        "id": "qFmkrgMDXrWv",
        "outputId": "433ef318-349f-46f4-e081-cc176e141367"
      },
      "source": [
        "data.head()"
      ],
      "execution_count": 34,
      "outputs": [
        {
          "output_type": "execute_result",
          "data": {
            "text/html": [
              "<div>\n",
              "<style scoped>\n",
              "    .dataframe tbody tr th:only-of-type {\n",
              "        vertical-align: middle;\n",
              "    }\n",
              "\n",
              "    .dataframe tbody tr th {\n",
              "        vertical-align: top;\n",
              "    }\n",
              "\n",
              "    .dataframe thead th {\n",
              "        text-align: right;\n",
              "    }\n",
              "</style>\n",
              "<table border=\"1\" class=\"dataframe\">\n",
              "  <thead>\n",
              "    <tr style=\"text-align: right;\">\n",
              "      <th></th>\n",
              "      <th>Time</th>\n",
              "      <th>V1</th>\n",
              "      <th>V2</th>\n",
              "      <th>V3</th>\n",
              "      <th>V4</th>\n",
              "      <th>V5</th>\n",
              "      <th>V6</th>\n",
              "      <th>V7</th>\n",
              "      <th>V8</th>\n",
              "      <th>V9</th>\n",
              "      <th>V10</th>\n",
              "      <th>V11</th>\n",
              "      <th>V12</th>\n",
              "      <th>V13</th>\n",
              "      <th>V14</th>\n",
              "      <th>V15</th>\n",
              "      <th>V16</th>\n",
              "      <th>V17</th>\n",
              "      <th>V18</th>\n",
              "      <th>V19</th>\n",
              "      <th>V20</th>\n",
              "      <th>V21</th>\n",
              "      <th>V22</th>\n",
              "      <th>V23</th>\n",
              "      <th>V24</th>\n",
              "      <th>V25</th>\n",
              "      <th>V26</th>\n",
              "      <th>V27</th>\n",
              "      <th>V28</th>\n",
              "      <th>Amount</th>\n",
              "      <th>Class</th>\n",
              "    </tr>\n",
              "  </thead>\n",
              "  <tbody>\n",
              "    <tr>\n",
              "      <th>0</th>\n",
              "      <td>0.0</td>\n",
              "      <td>-1.359807</td>\n",
              "      <td>-0.072781</td>\n",
              "      <td>2.536347</td>\n",
              "      <td>1.378155</td>\n",
              "      <td>-0.338321</td>\n",
              "      <td>0.462388</td>\n",
              "      <td>0.239599</td>\n",
              "      <td>0.098698</td>\n",
              "      <td>0.363787</td>\n",
              "      <td>0.090794</td>\n",
              "      <td>-0.551600</td>\n",
              "      <td>-0.617801</td>\n",
              "      <td>-0.991390</td>\n",
              "      <td>-0.311169</td>\n",
              "      <td>1.468177</td>\n",
              "      <td>-0.470401</td>\n",
              "      <td>0.207971</td>\n",
              "      <td>0.025791</td>\n",
              "      <td>0.403993</td>\n",
              "      <td>0.251412</td>\n",
              "      <td>-0.018307</td>\n",
              "      <td>0.277838</td>\n",
              "      <td>-0.110474</td>\n",
              "      <td>0.066928</td>\n",
              "      <td>0.128539</td>\n",
              "      <td>-0.189115</td>\n",
              "      <td>0.133558</td>\n",
              "      <td>-0.021053</td>\n",
              "      <td>149.62</td>\n",
              "      <td>0</td>\n",
              "    </tr>\n",
              "    <tr>\n",
              "      <th>1</th>\n",
              "      <td>0.0</td>\n",
              "      <td>1.191857</td>\n",
              "      <td>0.266151</td>\n",
              "      <td>0.166480</td>\n",
              "      <td>0.448154</td>\n",
              "      <td>0.060018</td>\n",
              "      <td>-0.082361</td>\n",
              "      <td>-0.078803</td>\n",
              "      <td>0.085102</td>\n",
              "      <td>-0.255425</td>\n",
              "      <td>-0.166974</td>\n",
              "      <td>1.612727</td>\n",
              "      <td>1.065235</td>\n",
              "      <td>0.489095</td>\n",
              "      <td>-0.143772</td>\n",
              "      <td>0.635558</td>\n",
              "      <td>0.463917</td>\n",
              "      <td>-0.114805</td>\n",
              "      <td>-0.183361</td>\n",
              "      <td>-0.145783</td>\n",
              "      <td>-0.069083</td>\n",
              "      <td>-0.225775</td>\n",
              "      <td>-0.638672</td>\n",
              "      <td>0.101288</td>\n",
              "      <td>-0.339846</td>\n",
              "      <td>0.167170</td>\n",
              "      <td>0.125895</td>\n",
              "      <td>-0.008983</td>\n",
              "      <td>0.014724</td>\n",
              "      <td>2.69</td>\n",
              "      <td>0</td>\n",
              "    </tr>\n",
              "    <tr>\n",
              "      <th>2</th>\n",
              "      <td>1.0</td>\n",
              "      <td>-1.358354</td>\n",
              "      <td>-1.340163</td>\n",
              "      <td>1.773209</td>\n",
              "      <td>0.379780</td>\n",
              "      <td>-0.503198</td>\n",
              "      <td>1.800499</td>\n",
              "      <td>0.791461</td>\n",
              "      <td>0.247676</td>\n",
              "      <td>-1.514654</td>\n",
              "      <td>0.207643</td>\n",
              "      <td>0.624501</td>\n",
              "      <td>0.066084</td>\n",
              "      <td>0.717293</td>\n",
              "      <td>-0.165946</td>\n",
              "      <td>2.345865</td>\n",
              "      <td>-2.890083</td>\n",
              "      <td>1.109969</td>\n",
              "      <td>-0.121359</td>\n",
              "      <td>-2.261857</td>\n",
              "      <td>0.524980</td>\n",
              "      <td>0.247998</td>\n",
              "      <td>0.771679</td>\n",
              "      <td>0.909412</td>\n",
              "      <td>-0.689281</td>\n",
              "      <td>-0.327642</td>\n",
              "      <td>-0.139097</td>\n",
              "      <td>-0.055353</td>\n",
              "      <td>-0.059752</td>\n",
              "      <td>378.66</td>\n",
              "      <td>0</td>\n",
              "    </tr>\n",
              "    <tr>\n",
              "      <th>3</th>\n",
              "      <td>1.0</td>\n",
              "      <td>-0.966272</td>\n",
              "      <td>-0.185226</td>\n",
              "      <td>1.792993</td>\n",
              "      <td>-0.863291</td>\n",
              "      <td>-0.010309</td>\n",
              "      <td>1.247203</td>\n",
              "      <td>0.237609</td>\n",
              "      <td>0.377436</td>\n",
              "      <td>-1.387024</td>\n",
              "      <td>-0.054952</td>\n",
              "      <td>-0.226487</td>\n",
              "      <td>0.178228</td>\n",
              "      <td>0.507757</td>\n",
              "      <td>-0.287924</td>\n",
              "      <td>-0.631418</td>\n",
              "      <td>-1.059647</td>\n",
              "      <td>-0.684093</td>\n",
              "      <td>1.965775</td>\n",
              "      <td>-1.232622</td>\n",
              "      <td>-0.208038</td>\n",
              "      <td>-0.108300</td>\n",
              "      <td>0.005274</td>\n",
              "      <td>-0.190321</td>\n",
              "      <td>-1.175575</td>\n",
              "      <td>0.647376</td>\n",
              "      <td>-0.221929</td>\n",
              "      <td>0.062723</td>\n",
              "      <td>0.061458</td>\n",
              "      <td>123.50</td>\n",
              "      <td>0</td>\n",
              "    </tr>\n",
              "    <tr>\n",
              "      <th>4</th>\n",
              "      <td>2.0</td>\n",
              "      <td>-1.158233</td>\n",
              "      <td>0.877737</td>\n",
              "      <td>1.548718</td>\n",
              "      <td>0.403034</td>\n",
              "      <td>-0.407193</td>\n",
              "      <td>0.095921</td>\n",
              "      <td>0.592941</td>\n",
              "      <td>-0.270533</td>\n",
              "      <td>0.817739</td>\n",
              "      <td>0.753074</td>\n",
              "      <td>-0.822843</td>\n",
              "      <td>0.538196</td>\n",
              "      <td>1.345852</td>\n",
              "      <td>-1.119670</td>\n",
              "      <td>0.175121</td>\n",
              "      <td>-0.451449</td>\n",
              "      <td>-0.237033</td>\n",
              "      <td>-0.038195</td>\n",
              "      <td>0.803487</td>\n",
              "      <td>0.408542</td>\n",
              "      <td>-0.009431</td>\n",
              "      <td>0.798278</td>\n",
              "      <td>-0.137458</td>\n",
              "      <td>0.141267</td>\n",
              "      <td>-0.206010</td>\n",
              "      <td>0.502292</td>\n",
              "      <td>0.219422</td>\n",
              "      <td>0.215153</td>\n",
              "      <td>69.99</td>\n",
              "      <td>0</td>\n",
              "    </tr>\n",
              "  </tbody>\n",
              "</table>\n",
              "</div>"
            ],
            "text/plain": [
              "   Time        V1        V2        V3  ...       V27       V28  Amount  Class\n",
              "0   0.0 -1.359807 -0.072781  2.536347  ...  0.133558 -0.021053  149.62      0\n",
              "1   0.0  1.191857  0.266151  0.166480  ... -0.008983  0.014724    2.69      0\n",
              "2   1.0 -1.358354 -1.340163  1.773209  ... -0.055353 -0.059752  378.66      0\n",
              "3   1.0 -0.966272 -0.185226  1.792993  ...  0.062723  0.061458  123.50      0\n",
              "4   2.0 -1.158233  0.877737  1.548718  ...  0.219422  0.215153   69.99      0\n",
              "\n",
              "[5 rows x 31 columns]"
            ]
          },
          "metadata": {
            "tags": []
          },
          "execution_count": 34
        }
      ]
    },
    {
      "cell_type": "code",
      "metadata": {
        "colab": {
          "base_uri": "https://localhost:8080/",
          "height": 106
        },
        "id": "AtK57EKsXrTs",
        "outputId": "324dd3e5-19a3-4105-994f-d131a1fc625a"
      },
      "source": [
        "tmp = data['Class'].value_counts().to_frame().reset_index()\r\n",
        "tmp['Percent(%)'] = tmp[\"Class\"].apply(lambda x : round(100*float(x) / len(data), 2))\r\n",
        "tmp = tmp.rename(columns = {\"index\" : \"Target\", \"Class\" : \"Count\"})\r\n",
        "\r\n",
        "tmp"
      ],
      "execution_count": 35,
      "outputs": [
        {
          "output_type": "execute_result",
          "data": {
            "text/html": [
              "<div>\n",
              "<style scoped>\n",
              "    .dataframe tbody tr th:only-of-type {\n",
              "        vertical-align: middle;\n",
              "    }\n",
              "\n",
              "    .dataframe tbody tr th {\n",
              "        vertical-align: top;\n",
              "    }\n",
              "\n",
              "    .dataframe thead th {\n",
              "        text-align: right;\n",
              "    }\n",
              "</style>\n",
              "<table border=\"1\" class=\"dataframe\">\n",
              "  <thead>\n",
              "    <tr style=\"text-align: right;\">\n",
              "      <th></th>\n",
              "      <th>Target</th>\n",
              "      <th>Count</th>\n",
              "      <th>Percent(%)</th>\n",
              "    </tr>\n",
              "  </thead>\n",
              "  <tbody>\n",
              "    <tr>\n",
              "      <th>0</th>\n",
              "      <td>0</td>\n",
              "      <td>284315</td>\n",
              "      <td>99.83</td>\n",
              "    </tr>\n",
              "    <tr>\n",
              "      <th>1</th>\n",
              "      <td>1</td>\n",
              "      <td>492</td>\n",
              "      <td>0.17</td>\n",
              "    </tr>\n",
              "  </tbody>\n",
              "</table>\n",
              "</div>"
            ],
            "text/plain": [
              "   Target   Count  Percent(%)\n",
              "0       0  284315       99.83\n",
              "1       1     492        0.17"
            ]
          },
          "metadata": {
            "tags": []
          },
          "execution_count": 35
        }
      ]
    },
    {
      "cell_type": "markdown",
      "metadata": {
        "id": "Ychb4qHEZE0c"
      },
      "source": [
        "## Step 2. Data Engneering"
      ]
    },
    {
      "cell_type": "code",
      "metadata": {
        "colab": {
          "base_uri": "https://localhost:8080/"
        },
        "id": "jCUv8Rn8XrRM",
        "outputId": "d0811df5-8b94-466d-ce6b-a36931472dbe"
      },
      "source": [
        "x_data = data.loc[:, 'V1' : 'V28']\r\n",
        "y_data = data.loc[:, 'Class']\r\n",
        "\r\n",
        "print(x_data.shape)\r\n",
        "print(y_data.shape)"
      ],
      "execution_count": 36,
      "outputs": [
        {
          "output_type": "stream",
          "text": [
            "(284807, 28)\n",
            "(284807,)\n"
          ],
          "name": "stdout"
        }
      ]
    },
    {
      "cell_type": "markdown",
      "metadata": {
        "id": "xJcavICobSes"
      },
      "source": [
        "#### 최악의 불균형 데이터 만들기 위해 1:9 비율로 Train, Test 분리 "
      ]
    },
    {
      "cell_type": "code",
      "metadata": {
        "colab": {
          "base_uri": "https://localhost:8080/"
        },
        "id": "krxlRcCGXrNp",
        "outputId": "72a9acdb-0698-42ee-d673-cb42f970ea6d"
      },
      "source": [
        "# 데이터를 랜덤하게 섞은 후에 Train, Test 데이터를 각각 1:9 으로 나누었습니다.\r\n",
        "shuffle_index = np.random.permutation(len(data))\r\n",
        "x_data = x_data.values[shuffle_index]\r\n",
        "y_data = y_data.values[shuffle_index]\r\n",
        "\r\n",
        "n_train = int(len(x_data) * 0.1)\r\n",
        "\r\n",
        "x_train = x_data[:n_train]\r\n",
        "y_train = y_data[:n_train]\r\n",
        "x_test = x_data[n_train:]\r\n",
        "y_test = y_data[n_train:]\r\n",
        "\r\n",
        "print(x_train.shape)\r\n",
        "print(y_train.shape)\r\n",
        "print(x_test.shape)\r\n",
        "print(y_test.shape)"
      ],
      "execution_count": 37,
      "outputs": [
        {
          "output_type": "stream",
          "text": [
            "(28480, 28)\n",
            "(28480,)\n",
            "(256327, 28)\n",
            "(256327,)\n"
          ],
          "name": "stdout"
        }
      ]
    },
    {
      "cell_type": "code",
      "metadata": {
        "colab": {
          "base_uri": "https://localhost:8080/",
          "height": 106
        },
        "id": "ciUXEvziXrKX",
        "outputId": "af9019e7-41ad-4c97-b99e-dd1cc55206e4"
      },
      "source": [
        "# Train, Test 데이터를 각각 사기/정상 으로 분류하여 보면 다음과 같습니다\r\n",
        "pd.DataFrame([[sum(y_train == 0), sum(y_test == 0)], [sum(y_train == 1), sum(y_test == 1)]], \r\n",
        "             columns=['train', 'test'], index=['0 (non-fraud)', '1 (fraud)'])"
      ],
      "execution_count": 38,
      "outputs": [
        {
          "output_type": "execute_result",
          "data": {
            "text/html": [
              "<div>\n",
              "<style scoped>\n",
              "    .dataframe tbody tr th:only-of-type {\n",
              "        vertical-align: middle;\n",
              "    }\n",
              "\n",
              "    .dataframe tbody tr th {\n",
              "        vertical-align: top;\n",
              "    }\n",
              "\n",
              "    .dataframe thead th {\n",
              "        text-align: right;\n",
              "    }\n",
              "</style>\n",
              "<table border=\"1\" class=\"dataframe\">\n",
              "  <thead>\n",
              "    <tr style=\"text-align: right;\">\n",
              "      <th></th>\n",
              "      <th>train</th>\n",
              "      <th>test</th>\n",
              "    </tr>\n",
              "  </thead>\n",
              "  <tbody>\n",
              "    <tr>\n",
              "      <th>0 (non-fraud)</th>\n",
              "      <td>28429</td>\n",
              "      <td>255886</td>\n",
              "    </tr>\n",
              "    <tr>\n",
              "      <th>1 (fraud)</th>\n",
              "      <td>51</td>\n",
              "      <td>441</td>\n",
              "    </tr>\n",
              "  </tbody>\n",
              "</table>\n",
              "</div>"
            ],
            "text/plain": [
              "               train    test\n",
              "0 (non-fraud)  28429  255886\n",
              "1 (fraud)         51     441"
            ]
          },
          "metadata": {
            "tags": []
          },
          "execution_count": 38
        }
      ]
    },
    {
      "cell_type": "markdown",
      "metadata": {
        "id": "LptgXluaZnvP"
      },
      "source": [
        "## Step 3. Modeling"
      ]
    },
    {
      "cell_type": "markdown",
      "metadata": {
        "id": "38tsZz9gZuKC"
      },
      "source": [
        "### Modeling1 - RandomForest"
      ]
    },
    {
      "cell_type": "code",
      "metadata": {
        "id": "5cbS91jFZi5U"
      },
      "source": [
        "from sklearn.ensemble import RandomForestClassifier\r\n",
        "\r\n",
        "# modeling\r\n",
        "model_rf = RandomForestClassifier(n_estimators = 15)\r\n",
        "# train\r\n",
        "model_rf.fit(x_train, y_train)\r\n",
        "# predict\r\n",
        "y_pred = model_rf.predict(x_test)\r\n",
        "y_real = y_test"
      ],
      "execution_count": 39,
      "outputs": []
    },
    {
      "cell_type": "code",
      "metadata": {
        "colab": {
          "base_uri": "https://localhost:8080/"
        },
        "id": "2Fp4s-scZvbL",
        "outputId": "6d5dd82c-2de6-4fed-d627-984035141acf"
      },
      "source": [
        "accuracy = round(sum(y_pred == y_real) / len(y_pred), 4)\r\n",
        "precision = round(sum([p == 1 & r == 1 for p, r in zip(y_pred, y_real)]) / sum(y_pred == 1), 4)\r\n",
        "recall = round(sum([p == 1 & r == 1 for p, r in zip(y_pred, y_real)]) / sum(y_real == 1), 4)\r\n",
        "f1 = round(2 / ((1/precision) + (1/recall)), 4)\r\n",
        "\r\n",
        "print('Accuracy : ', accuracy)\r\n",
        "print('Precision : ', precision)\r\n",
        "print('Recall : ', recall)\r\n",
        "print('f1-score : ', f1)"
      ],
      "execution_count": 40,
      "outputs": [
        {
          "output_type": "stream",
          "text": [
            "Accuracy :  0.9993\n",
            "Precision :  0.876\n",
            "Recall :  0.7211\n",
            "f1-score :  0.791\n"
          ],
          "name": "stdout"
        }
      ]
    },
    {
      "cell_type": "code",
      "metadata": {
        "colab": {
          "base_uri": "https://localhost:8080/"
        },
        "id": "4vqIYS2yZ33p",
        "outputId": "11ed7bd9-3bfa-4a8d-c840-92b22f90f534"
      },
      "source": [
        "from sklearn.metrics import classification_report\r\n",
        "\r\n",
        "print(classification_report(y_real, y_pred))"
      ],
      "execution_count": 41,
      "outputs": [
        {
          "output_type": "stream",
          "text": [
            "              precision    recall  f1-score   support\n",
            "\n",
            "           0       1.00      1.00      1.00    255886\n",
            "           1       0.88      0.72      0.79       441\n",
            "\n",
            "    accuracy                           1.00    256327\n",
            "   macro avg       0.94      0.86      0.90    256327\n",
            "weighted avg       1.00      1.00      1.00    256327\n",
            "\n"
          ],
          "name": "stdout"
        }
      ]
    },
    {
      "cell_type": "markdown",
      "metadata": {
        "id": "1HYBqkwSaCvs"
      },
      "source": [
        "### Modeling 2 - Logistic regression with Neural Network"
      ]
    },
    {
      "cell_type": "code",
      "metadata": {
        "colab": {
          "base_uri": "https://localhost:8080/"
        },
        "id": "RgCE-qtOZ7Tt",
        "outputId": "0c413528-9a57-4366-e588-773eb386e754"
      },
      "source": [
        "import tensorflow as tf\r\n",
        "import tensorflow.keras.layers as layers\r\n",
        "import tensorflow.keras.models as models\r\n",
        "\r\n",
        "n_inputs = x_train.shape[1]\r\n",
        "n_output = 2\r\n",
        "\r\n",
        "model_nn = tf.keras.Sequential([\r\n",
        "    layers.Dense(64, input_shape=(n_inputs, ), activation='tanh'),\r\n",
        "    layers.Dense(32, activation='relu'),\r\n",
        "    layers.Dense(16, activation='relu'),\r\n",
        "    layers.Dense(n_output, activation='softmax'),\r\n",
        "])\r\n",
        "model_nn.compile(loss = 'sparse_categorical_crossentropy', optimizer='adam', metrics=['accuracy'])\r\n",
        "model_nn.summary()\r\n",
        "\r\n",
        "# train\r\n",
        "model_nn.fit(x_train, y_train, batch_size=100, epochs=10, validation_data=(x_test, y_test))\r\n",
        "\r\n",
        "# predict\r\n",
        "y_pred = model_nn.predict(x_test)\r\n",
        "y_real = y_test"
      ],
      "execution_count": 42,
      "outputs": [
        {
          "output_type": "stream",
          "text": [
            "Model: \"sequential_3\"\n",
            "_________________________________________________________________\n",
            "Layer (type)                 Output Shape              Param #   \n",
            "=================================================================\n",
            "dense_15 (Dense)             (None, 64)                1856      \n",
            "_________________________________________________________________\n",
            "dense_16 (Dense)             (None, 32)                2080      \n",
            "_________________________________________________________________\n",
            "dense_17 (Dense)             (None, 16)                528       \n",
            "_________________________________________________________________\n",
            "dense_18 (Dense)             (None, 2)                 34        \n",
            "=================================================================\n",
            "Total params: 4,498\n",
            "Trainable params: 4,498\n",
            "Non-trainable params: 0\n",
            "_________________________________________________________________\n",
            "Epoch 1/10\n",
            "285/285 [==============================] - 4s 14ms/step - loss: 0.0858 - accuracy: 0.9957 - val_loss: 0.0040 - val_accuracy: 0.9993\n",
            "Epoch 2/10\n",
            "285/285 [==============================] - 4s 14ms/step - loss: 0.0051 - accuracy: 0.9992 - val_loss: 0.0033 - val_accuracy: 0.9993\n",
            "Epoch 3/10\n",
            "285/285 [==============================] - 4s 14ms/step - loss: 0.0033 - accuracy: 0.9992 - val_loss: 0.0033 - val_accuracy: 0.9993\n",
            "Epoch 4/10\n",
            "285/285 [==============================] - 4s 14ms/step - loss: 0.0024 - accuracy: 0.9995 - val_loss: 0.0034 - val_accuracy: 0.9993\n",
            "Epoch 5/10\n",
            "285/285 [==============================] - 4s 14ms/step - loss: 0.0024 - accuracy: 0.9995 - val_loss: 0.0034 - val_accuracy: 0.9993\n",
            "Epoch 6/10\n",
            "285/285 [==============================] - 4s 14ms/step - loss: 0.0019 - accuracy: 0.9995 - val_loss: 0.0034 - val_accuracy: 0.9993\n",
            "Epoch 7/10\n",
            "285/285 [==============================] - 4s 14ms/step - loss: 0.0016 - accuracy: 0.9995 - val_loss: 0.0036 - val_accuracy: 0.9993\n",
            "Epoch 8/10\n",
            "285/285 [==============================] - 4s 14ms/step - loss: 0.0019 - accuracy: 0.9994 - val_loss: 0.0038 - val_accuracy: 0.9993\n",
            "Epoch 9/10\n",
            "285/285 [==============================] - 4s 14ms/step - loss: 0.0017 - accuracy: 0.9993 - val_loss: 0.0038 - val_accuracy: 0.9993\n",
            "Epoch 10/10\n",
            "285/285 [==============================] - 4s 14ms/step - loss: 0.0013 - accuracy: 0.9996 - val_loss: 0.0040 - val_accuracy: 0.9993\n"
          ],
          "name": "stdout"
        }
      ]
    },
    {
      "cell_type": "code",
      "metadata": {
        "colab": {
          "base_uri": "https://localhost:8080/"
        },
        "id": "V6HB9N-maGPx",
        "outputId": "f4021c14-94fa-477a-8f9a-fd108405c092"
      },
      "source": [
        "y_pred = y_pred.argmax(axis=1)\r\n",
        "\r\n",
        "accuracy = round(sum(y_pred == y_real) / len(y_pred), 4)\r\n",
        "print('Accuracy : ', accuracy)\r\n",
        "print(classification_report(y_real, y_pred))"
      ],
      "execution_count": 43,
      "outputs": [
        {
          "output_type": "stream",
          "text": [
            "Accuracy :  0.9993\n",
            "              precision    recall  f1-score   support\n",
            "\n",
            "           0       1.00      1.00      1.00    255886\n",
            "           1       0.78      0.78      0.78       441\n",
            "\n",
            "    accuracy                           1.00    256327\n",
            "   macro avg       0.89      0.89      0.89    256327\n",
            "weighted avg       1.00      1.00      1.00    256327\n",
            "\n"
          ],
          "name": "stdout"
        }
      ]
    },
    {
      "cell_type": "markdown",
      "metadata": {
        "id": "9QDrEre5cHoY"
      },
      "source": [
        "### Modeling 3 - Autoencoder"
      ]
    },
    {
      "cell_type": "code",
      "metadata": {
        "colab": {
          "base_uri": "https://localhost:8080/"
        },
        "id": "sZfn0j_laVjy",
        "outputId": "679d5192-e8e4-4e48-f8f9-10615c93abc2"
      },
      "source": [
        "import tensorflow as tf\r\n",
        "import tensorflow.keras.layers as layers\r\n",
        "import tensorflow.keras.models as models\r\n",
        "\r\n",
        "n_inputs = x_train.shape[1]\r\n",
        "n_outputs = 2\r\n",
        "n_latent = 50\r\n",
        "\r\n",
        "inputs = tf.keras.layers.Input(shape=(n_inputs, ))\r\n",
        "x = tf.keras.layers.Dense(100, activation='tanh')(inputs)\r\n",
        "latent = tf.keras.layers.Dense(n_latent, activation='tanh')(x)\r\n",
        "\r\n",
        "# Encoder\r\n",
        "encoder = tf.keras.models.Model(inputs, latent, name='encoder')\r\n",
        "encoder.summary()\r\n",
        "\r\n",
        "latent_inputs = tf.keras.layers.Input(shape=(n_latent, ))\r\n",
        "x = tf.keras.layers.Dense(100, activation='tanh')(latent_inputs)\r\n",
        "outputs = tf.keras.layers.Dense(n_inputs, activation='sigmoid')(x)\r\n",
        "\r\n",
        "# Decoder\r\n",
        "decoder = tf.keras.models.Model(latent_inputs, outputs, name='decoder')\r\n",
        "decoder.summary()\r\n",
        "\r\n",
        "# 정상 데이터 만을 학습\r\n",
        "x_train_norm = x_train[y_train == 0]\r\n",
        "\r\n",
        "es = tf.keras.callbacks.EarlyStopping(patience=5)\r\n",
        "mc = tf.keras.callbacks.ModelCheckpoint('./best_model.h5', save_best_only=True, save_weights_only=True, verbose=1)\r\n",
        "\r\n",
        "autoencoder = tf.keras.models.Model(inputs, decoder(encoder(inputs)))\r\n",
        "autoencoder.compile(optimizer='adam', loss='mse')\r\n",
        "autoencoder.fit(x_train_norm, x_train_norm, epochs=100, batch_size = 100, validation_data=(x_test, x_test), callbacks=[es,mc])\r\n"
      ],
      "execution_count": 48,
      "outputs": [
        {
          "output_type": "stream",
          "text": [
            "Model: \"encoder\"\n",
            "_________________________________________________________________\n",
            "Layer (type)                 Output Shape              Param #   \n",
            "=================================================================\n",
            "input_7 (InputLayer)         [(None, 28)]              0         \n",
            "_________________________________________________________________\n",
            "dense_30 (Dense)             (None, 100)               2900      \n",
            "_________________________________________________________________\n",
            "dense_31 (Dense)             (None, 50)                5050      \n",
            "=================================================================\n",
            "Total params: 7,950\n",
            "Trainable params: 7,950\n",
            "Non-trainable params: 0\n",
            "_________________________________________________________________\n",
            "Model: \"decoder\"\n",
            "_________________________________________________________________\n",
            "Layer (type)                 Output Shape              Param #   \n",
            "=================================================================\n",
            "input_8 (InputLayer)         [(None, 50)]              0         \n",
            "_________________________________________________________________\n",
            "dense_32 (Dense)             (None, 100)               5100      \n",
            "_________________________________________________________________\n",
            "dense_33 (Dense)             (None, 28)                2828      \n",
            "=================================================================\n",
            "Total params: 7,928\n",
            "Trainable params: 7,928\n",
            "Non-trainable params: 0\n",
            "_________________________________________________________________\n",
            "Epoch 1/100\n",
            "285/285 [==============================] - 4s 12ms/step - loss: 0.9864 - val_loss: 0.8184\n",
            "\n",
            "Epoch 00001: val_loss improved from inf to 0.81840, saving model to ./best_model.h5\n",
            "Epoch 2/100\n",
            "285/285 [==============================] - 3s 12ms/step - loss: 0.7349 - val_loss: 0.7886\n",
            "\n",
            "Epoch 00002: val_loss improved from 0.81840 to 0.78862, saving model to ./best_model.h5\n",
            "Epoch 3/100\n",
            "285/285 [==============================] - 3s 12ms/step - loss: 0.7316 - val_loss: 0.7797\n",
            "\n",
            "Epoch 00003: val_loss improved from 0.78862 to 0.77966, saving model to ./best_model.h5\n",
            "Epoch 4/100\n",
            "285/285 [==============================] - 3s 12ms/step - loss: 0.6921 - val_loss: 0.7753\n",
            "\n",
            "Epoch 00004: val_loss improved from 0.77966 to 0.77532, saving model to ./best_model.h5\n",
            "Epoch 5/100\n",
            "285/285 [==============================] - 3s 12ms/step - loss: 0.7068 - val_loss: 0.7721\n",
            "\n",
            "Epoch 00005: val_loss improved from 0.77532 to 0.77210, saving model to ./best_model.h5\n",
            "Epoch 6/100\n",
            "285/285 [==============================] - 3s 12ms/step - loss: 0.7466 - val_loss: 0.7699\n",
            "\n",
            "Epoch 00006: val_loss improved from 0.77210 to 0.76995, saving model to ./best_model.h5\n",
            "Epoch 7/100\n",
            "285/285 [==============================] - 3s 12ms/step - loss: 0.6893 - val_loss: 0.7684\n",
            "\n",
            "Epoch 00007: val_loss improved from 0.76995 to 0.76843, saving model to ./best_model.h5\n",
            "Epoch 8/100\n",
            "285/285 [==============================] - 3s 12ms/step - loss: 0.7057 - val_loss: 0.7674\n",
            "\n",
            "Epoch 00008: val_loss improved from 0.76843 to 0.76741, saving model to ./best_model.h5\n",
            "Epoch 9/100\n",
            "285/285 [==============================] - 3s 12ms/step - loss: 0.6923 - val_loss: 0.7666\n",
            "\n",
            "Epoch 00009: val_loss improved from 0.76741 to 0.76660, saving model to ./best_model.h5\n",
            "Epoch 10/100\n",
            "285/285 [==============================] - 3s 12ms/step - loss: 0.6768 - val_loss: 0.7660\n",
            "\n",
            "Epoch 00010: val_loss improved from 0.76660 to 0.76601, saving model to ./best_model.h5\n",
            "Epoch 11/100\n",
            "285/285 [==============================] - 3s 12ms/step - loss: 0.6962 - val_loss: 0.7655\n",
            "\n",
            "Epoch 00011: val_loss improved from 0.76601 to 0.76549, saving model to ./best_model.h5\n",
            "Epoch 12/100\n",
            "285/285 [==============================] - 3s 12ms/step - loss: 0.6665 - val_loss: 0.7650\n",
            "\n",
            "Epoch 00012: val_loss improved from 0.76549 to 0.76502, saving model to ./best_model.h5\n",
            "Epoch 13/100\n",
            "285/285 [==============================] - 3s 12ms/step - loss: 0.7039 - val_loss: 0.7648\n",
            "\n",
            "Epoch 00013: val_loss improved from 0.76502 to 0.76478, saving model to ./best_model.h5\n",
            "Epoch 14/100\n",
            "285/285 [==============================] - 3s 12ms/step - loss: 0.6793 - val_loss: 0.7645\n",
            "\n",
            "Epoch 00014: val_loss improved from 0.76478 to 0.76447, saving model to ./best_model.h5\n",
            "Epoch 15/100\n",
            "285/285 [==============================] - 3s 12ms/step - loss: 0.6968 - val_loss: 0.7642\n",
            "\n",
            "Epoch 00015: val_loss improved from 0.76447 to 0.76420, saving model to ./best_model.h5\n",
            "Epoch 16/100\n",
            "285/285 [==============================] - 3s 12ms/step - loss: 0.7040 - val_loss: 0.7640\n",
            "\n",
            "Epoch 00016: val_loss improved from 0.76420 to 0.76401, saving model to ./best_model.h5\n",
            "Epoch 17/100\n",
            "285/285 [==============================] - 3s 12ms/step - loss: 0.7149 - val_loss: 0.7636\n",
            "\n",
            "Epoch 00017: val_loss improved from 0.76401 to 0.76359, saving model to ./best_model.h5\n",
            "Epoch 18/100\n",
            "285/285 [==============================] - 3s 12ms/step - loss: 0.6810 - val_loss: 0.7633\n",
            "\n",
            "Epoch 00018: val_loss improved from 0.76359 to 0.76326, saving model to ./best_model.h5\n",
            "Epoch 19/100\n",
            "285/285 [==============================] - 3s 12ms/step - loss: 0.6823 - val_loss: 0.7631\n",
            "\n",
            "Epoch 00019: val_loss improved from 0.76326 to 0.76309, saving model to ./best_model.h5\n",
            "Epoch 20/100\n",
            "285/285 [==============================] - 3s 12ms/step - loss: 0.6592 - val_loss: 0.7630\n",
            "\n",
            "Epoch 00020: val_loss improved from 0.76309 to 0.76297, saving model to ./best_model.h5\n",
            "Epoch 21/100\n",
            "285/285 [==============================] - 3s 12ms/step - loss: 0.6664 - val_loss: 0.7628\n",
            "\n",
            "Epoch 00021: val_loss improved from 0.76297 to 0.76282, saving model to ./best_model.h5\n",
            "Epoch 22/100\n",
            "285/285 [==============================] - 3s 12ms/step - loss: 0.6921 - val_loss: 0.7627\n",
            "\n",
            "Epoch 00022: val_loss improved from 0.76282 to 0.76266, saving model to ./best_model.h5\n",
            "Epoch 23/100\n",
            "285/285 [==============================] - 3s 12ms/step - loss: 0.6988 - val_loss: 0.7626\n",
            "\n",
            "Epoch 00023: val_loss improved from 0.76266 to 0.76263, saving model to ./best_model.h5\n",
            "Epoch 24/100\n",
            "285/285 [==============================] - 3s 12ms/step - loss: 0.6756 - val_loss: 0.7625\n",
            "\n",
            "Epoch 00024: val_loss improved from 0.76263 to 0.76248, saving model to ./best_model.h5\n",
            "Epoch 25/100\n",
            "285/285 [==============================] - 3s 12ms/step - loss: 0.7010 - val_loss: 0.7624\n",
            "\n",
            "Epoch 00025: val_loss improved from 0.76248 to 0.76244, saving model to ./best_model.h5\n",
            "Epoch 26/100\n",
            "285/285 [==============================] - 3s 12ms/step - loss: 0.6813 - val_loss: 0.7623\n",
            "\n",
            "Epoch 00026: val_loss improved from 0.76244 to 0.76232, saving model to ./best_model.h5\n",
            "Epoch 27/100\n",
            "285/285 [==============================] - 3s 12ms/step - loss: 0.6831 - val_loss: 0.7622\n",
            "\n",
            "Epoch 00027: val_loss improved from 0.76232 to 0.76222, saving model to ./best_model.h5\n",
            "Epoch 28/100\n",
            "285/285 [==============================] - 3s 12ms/step - loss: 0.6838 - val_loss: 0.7622\n",
            "\n",
            "Epoch 00028: val_loss improved from 0.76222 to 0.76216, saving model to ./best_model.h5\n",
            "Epoch 29/100\n",
            "285/285 [==============================] - 3s 12ms/step - loss: 0.6797 - val_loss: 0.7622\n",
            "\n",
            "Epoch 00029: val_loss improved from 0.76216 to 0.76216, saving model to ./best_model.h5\n",
            "Epoch 30/100\n",
            "285/285 [==============================] - 3s 12ms/step - loss: 0.6691 - val_loss: 0.7617\n",
            "\n",
            "Epoch 00030: val_loss improved from 0.76216 to 0.76173, saving model to ./best_model.h5\n",
            "Epoch 31/100\n",
            "285/285 [==============================] - 3s 12ms/step - loss: 0.6741 - val_loss: 0.7616\n",
            "\n",
            "Epoch 00031: val_loss improved from 0.76173 to 0.76161, saving model to ./best_model.h5\n",
            "Epoch 32/100\n",
            "285/285 [==============================] - 3s 12ms/step - loss: 0.7081 - val_loss: 0.7615\n",
            "\n",
            "Epoch 00032: val_loss improved from 0.76161 to 0.76148, saving model to ./best_model.h5\n",
            "Epoch 33/100\n",
            "285/285 [==============================] - 4s 13ms/step - loss: 0.6980 - val_loss: 0.7614\n",
            "\n",
            "Epoch 00033: val_loss improved from 0.76148 to 0.76140, saving model to ./best_model.h5\n",
            "Epoch 34/100\n",
            "285/285 [==============================] - 3s 12ms/step - loss: 0.7004 - val_loss: 0.7614\n",
            "\n",
            "Epoch 00034: val_loss improved from 0.76140 to 0.76135, saving model to ./best_model.h5\n",
            "Epoch 35/100\n",
            "285/285 [==============================] - 4s 13ms/step - loss: 0.6504 - val_loss: 0.7615\n",
            "\n",
            "Epoch 00035: val_loss did not improve from 0.76135\n",
            "Epoch 36/100\n",
            "285/285 [==============================] - 3s 12ms/step - loss: 0.6766 - val_loss: 0.7613\n",
            "\n",
            "Epoch 00036: val_loss improved from 0.76135 to 0.76132, saving model to ./best_model.h5\n",
            "Epoch 37/100\n",
            "285/285 [==============================] - 3s 12ms/step - loss: 0.6575 - val_loss: 0.7615\n",
            "\n",
            "Epoch 00037: val_loss did not improve from 0.76132\n",
            "Epoch 38/100\n",
            "285/285 [==============================] - 3s 12ms/step - loss: 0.6936 - val_loss: 0.7612\n",
            "\n",
            "Epoch 00038: val_loss improved from 0.76132 to 0.76121, saving model to ./best_model.h5\n",
            "Epoch 39/100\n",
            "285/285 [==============================] - 3s 12ms/step - loss: 0.6716 - val_loss: 0.7612\n",
            "\n",
            "Epoch 00039: val_loss did not improve from 0.76121\n",
            "Epoch 40/100\n",
            "285/285 [==============================] - 4s 12ms/step - loss: 0.6871 - val_loss: 0.7612\n",
            "\n",
            "Epoch 00040: val_loss improved from 0.76121 to 0.76118, saving model to ./best_model.h5\n",
            "Epoch 41/100\n",
            "285/285 [==============================] - 3s 12ms/step - loss: 0.6739 - val_loss: 0.7611\n",
            "\n",
            "Epoch 00041: val_loss improved from 0.76118 to 0.76112, saving model to ./best_model.h5\n",
            "Epoch 42/100\n",
            "285/285 [==============================] - 3s 12ms/step - loss: 0.6857 - val_loss: 0.7612\n",
            "\n",
            "Epoch 00042: val_loss did not improve from 0.76112\n",
            "Epoch 43/100\n",
            "285/285 [==============================] - 3s 12ms/step - loss: 0.6916 - val_loss: 0.7611\n",
            "\n",
            "Epoch 00043: val_loss did not improve from 0.76112\n",
            "Epoch 44/100\n",
            "285/285 [==============================] - 3s 12ms/step - loss: 0.7018 - val_loss: 0.7611\n",
            "\n",
            "Epoch 00044: val_loss improved from 0.76112 to 0.76106, saving model to ./best_model.h5\n",
            "Epoch 45/100\n",
            "285/285 [==============================] - 3s 12ms/step - loss: 0.6803 - val_loss: 0.7610\n",
            "\n",
            "Epoch 00045: val_loss improved from 0.76106 to 0.76104, saving model to ./best_model.h5\n",
            "Epoch 46/100\n",
            "285/285 [==============================] - 3s 12ms/step - loss: 0.7017 - val_loss: 0.7611\n",
            "\n",
            "Epoch 00046: val_loss did not improve from 0.76104\n",
            "Epoch 47/100\n",
            "285/285 [==============================] - 3s 12ms/step - loss: 0.7014 - val_loss: 0.7610\n",
            "\n",
            "Epoch 00047: val_loss did not improve from 0.76104\n",
            "Epoch 48/100\n",
            "285/285 [==============================] - 3s 12ms/step - loss: 0.6982 - val_loss: 0.7610\n",
            "\n",
            "Epoch 00048: val_loss improved from 0.76104 to 0.76097, saving model to ./best_model.h5\n",
            "Epoch 49/100\n",
            "285/285 [==============================] - 3s 12ms/step - loss: 0.6728 - val_loss: 0.7610\n",
            "\n",
            "Epoch 00049: val_loss did not improve from 0.76097\n",
            "Epoch 50/100\n",
            "285/285 [==============================] - 3s 12ms/step - loss: 0.6747 - val_loss: 0.7610\n",
            "\n",
            "Epoch 00050: val_loss did not improve from 0.76097\n",
            "Epoch 51/100\n",
            "285/285 [==============================] - 3s 12ms/step - loss: 0.7066 - val_loss: 0.7610\n",
            "\n",
            "Epoch 00051: val_loss improved from 0.76097 to 0.76096, saving model to ./best_model.h5\n",
            "Epoch 52/100\n",
            "285/285 [==============================] - 3s 12ms/step - loss: 0.6995 - val_loss: 0.7609\n",
            "\n",
            "Epoch 00052: val_loss improved from 0.76096 to 0.76090, saving model to ./best_model.h5\n",
            "Epoch 53/100\n",
            "285/285 [==============================] - 3s 12ms/step - loss: 0.6614 - val_loss: 0.7609\n",
            "\n",
            "Epoch 00053: val_loss did not improve from 0.76090\n",
            "Epoch 54/100\n",
            "285/285 [==============================] - 3s 12ms/step - loss: 0.6651 - val_loss: 0.7609\n",
            "\n",
            "Epoch 00054: val_loss did not improve from 0.76090\n",
            "Epoch 55/100\n",
            "285/285 [==============================] - 3s 12ms/step - loss: 0.7242 - val_loss: 0.7608\n",
            "\n",
            "Epoch 00055: val_loss improved from 0.76090 to 0.76085, saving model to ./best_model.h5\n",
            "Epoch 56/100\n",
            "285/285 [==============================] - 3s 12ms/step - loss: 0.6838 - val_loss: 0.7609\n",
            "\n",
            "Epoch 00056: val_loss did not improve from 0.76085\n",
            "Epoch 57/100\n",
            "285/285 [==============================] - 3s 12ms/step - loss: 0.6679 - val_loss: 0.7609\n",
            "\n",
            "Epoch 00057: val_loss did not improve from 0.76085\n",
            "Epoch 58/100\n",
            "285/285 [==============================] - 3s 12ms/step - loss: 0.6960 - val_loss: 0.7609\n",
            "\n",
            "Epoch 00058: val_loss did not improve from 0.76085\n",
            "Epoch 59/100\n",
            "285/285 [==============================] - 4s 13ms/step - loss: 0.6815 - val_loss: 0.7608\n",
            "\n",
            "Epoch 00059: val_loss improved from 0.76085 to 0.76085, saving model to ./best_model.h5\n",
            "Epoch 60/100\n",
            "285/285 [==============================] - 4s 12ms/step - loss: 0.6765 - val_loss: 0.7608\n",
            "\n",
            "Epoch 00060: val_loss improved from 0.76085 to 0.76083, saving model to ./best_model.h5\n",
            "Epoch 61/100\n",
            "285/285 [==============================] - 3s 12ms/step - loss: 0.6985 - val_loss: 0.7608\n",
            "\n",
            "Epoch 00061: val_loss improved from 0.76083 to 0.76079, saving model to ./best_model.h5\n",
            "Epoch 62/100\n",
            "285/285 [==============================] - 3s 12ms/step - loss: 0.6807 - val_loss: 0.7608\n",
            "\n",
            "Epoch 00062: val_loss did not improve from 0.76079\n",
            "Epoch 63/100\n",
            "285/285 [==============================] - 3s 12ms/step - loss: 0.6769 - val_loss: 0.7608\n",
            "\n",
            "Epoch 00063: val_loss improved from 0.76079 to 0.76079, saving model to ./best_model.h5\n",
            "Epoch 64/100\n",
            "285/285 [==============================] - 3s 12ms/step - loss: 0.7016 - val_loss: 0.7608\n",
            "\n",
            "Epoch 00064: val_loss improved from 0.76079 to 0.76076, saving model to ./best_model.h5\n",
            "Epoch 65/100\n",
            "285/285 [==============================] - 3s 12ms/step - loss: 0.6949 - val_loss: 0.7608\n",
            "\n",
            "Epoch 00065: val_loss improved from 0.76076 to 0.76075, saving model to ./best_model.h5\n",
            "Epoch 66/100\n",
            "285/285 [==============================] - 3s 12ms/step - loss: 0.6792 - val_loss: 0.7607\n",
            "\n",
            "Epoch 00066: val_loss improved from 0.76075 to 0.76073, saving model to ./best_model.h5\n",
            "Epoch 67/100\n",
            "285/285 [==============================] - 3s 12ms/step - loss: 0.6726 - val_loss: 0.7607\n",
            "\n",
            "Epoch 00067: val_loss improved from 0.76073 to 0.76072, saving model to ./best_model.h5\n",
            "Epoch 68/100\n",
            "285/285 [==============================] - 3s 12ms/step - loss: 0.6982 - val_loss: 0.7608\n",
            "\n",
            "Epoch 00068: val_loss did not improve from 0.76072\n",
            "Epoch 69/100\n",
            "285/285 [==============================] - 3s 12ms/step - loss: 0.7138 - val_loss: 0.7607\n",
            "\n",
            "Epoch 00069: val_loss did not improve from 0.76072\n",
            "Epoch 70/100\n",
            "285/285 [==============================] - 3s 12ms/step - loss: 0.6950 - val_loss: 0.7607\n",
            "\n",
            "Epoch 00070: val_loss improved from 0.76072 to 0.76067, saving model to ./best_model.h5\n",
            "Epoch 71/100\n",
            "285/285 [==============================] - 3s 12ms/step - loss: 0.6984 - val_loss: 0.7606\n",
            "\n",
            "Epoch 00071: val_loss improved from 0.76067 to 0.76063, saving model to ./best_model.h5\n",
            "Epoch 72/100\n",
            "285/285 [==============================] - 4s 13ms/step - loss: 0.6663 - val_loss: 0.7607\n",
            "\n",
            "Epoch 00072: val_loss did not improve from 0.76063\n",
            "Epoch 73/100\n",
            "285/285 [==============================] - 4s 12ms/step - loss: 0.6684 - val_loss: 0.7607\n",
            "\n",
            "Epoch 00073: val_loss did not improve from 0.76063\n",
            "Epoch 74/100\n",
            "285/285 [==============================] - 3s 12ms/step - loss: 0.6661 - val_loss: 0.7606\n",
            "\n",
            "Epoch 00074: val_loss did not improve from 0.76063\n",
            "Epoch 75/100\n",
            "285/285 [==============================] - 3s 12ms/step - loss: 0.6865 - val_loss: 0.7606\n",
            "\n",
            "Epoch 00075: val_loss did not improve from 0.76063\n",
            "Epoch 76/100\n",
            "285/285 [==============================] - 3s 12ms/step - loss: 0.6722 - val_loss: 0.7606\n",
            "\n",
            "Epoch 00076: val_loss improved from 0.76063 to 0.76061, saving model to ./best_model.h5\n",
            "Epoch 77/100\n",
            "285/285 [==============================] - 3s 12ms/step - loss: 0.6638 - val_loss: 0.7607\n",
            "\n",
            "Epoch 00077: val_loss did not improve from 0.76061\n",
            "Epoch 78/100\n",
            "285/285 [==============================] - 3s 12ms/step - loss: 0.6988 - val_loss: 0.7606\n",
            "\n",
            "Epoch 00078: val_loss did not improve from 0.76061\n",
            "Epoch 79/100\n",
            "285/285 [==============================] - 3s 12ms/step - loss: 0.6918 - val_loss: 0.7606\n",
            "\n",
            "Epoch 00079: val_loss did not improve from 0.76061\n",
            "Epoch 80/100\n",
            "285/285 [==============================] - 3s 12ms/step - loss: 0.6573 - val_loss: 0.7606\n",
            "\n",
            "Epoch 00080: val_loss did not improve from 0.76061\n",
            "Epoch 81/100\n",
            "285/285 [==============================] - 3s 12ms/step - loss: 0.6726 - val_loss: 0.7606\n",
            "\n",
            "Epoch 00081: val_loss improved from 0.76061 to 0.76057, saving model to ./best_model.h5\n",
            "Epoch 82/100\n",
            "285/285 [==============================] - 3s 12ms/step - loss: 0.6896 - val_loss: 0.7607\n",
            "\n",
            "Epoch 00082: val_loss did not improve from 0.76057\n",
            "Epoch 83/100\n",
            "285/285 [==============================] - 3s 12ms/step - loss: 0.6720 - val_loss: 0.7606\n",
            "\n",
            "Epoch 00083: val_loss did not improve from 0.76057\n",
            "Epoch 84/100\n",
            "285/285 [==============================] - 3s 12ms/step - loss: 0.6836 - val_loss: 0.7606\n",
            "\n",
            "Epoch 00084: val_loss improved from 0.76057 to 0.76056, saving model to ./best_model.h5\n",
            "Epoch 85/100\n",
            "285/285 [==============================] - 3s 12ms/step - loss: 0.6587 - val_loss: 0.7606\n",
            "\n",
            "Epoch 00085: val_loss did not improve from 0.76056\n",
            "Epoch 86/100\n",
            "285/285 [==============================] - 4s 13ms/step - loss: 0.6846 - val_loss: 0.7607\n",
            "\n",
            "Epoch 00086: val_loss did not improve from 0.76056\n",
            "Epoch 87/100\n",
            "285/285 [==============================] - 3s 12ms/step - loss: 0.6985 - val_loss: 0.7605\n",
            "\n",
            "Epoch 00087: val_loss improved from 0.76056 to 0.76051, saving model to ./best_model.h5\n",
            "Epoch 88/100\n",
            "285/285 [==============================] - 3s 12ms/step - loss: 0.6724 - val_loss: 0.7606\n",
            "\n",
            "Epoch 00088: val_loss did not improve from 0.76051\n",
            "Epoch 89/100\n",
            "285/285 [==============================] - 3s 12ms/step - loss: 0.6485 - val_loss: 0.7606\n",
            "\n",
            "Epoch 00089: val_loss did not improve from 0.76051\n",
            "Epoch 90/100\n",
            "285/285 [==============================] - 3s 12ms/step - loss: 0.6860 - val_loss: 0.7606\n",
            "\n",
            "Epoch 00090: val_loss did not improve from 0.76051\n",
            "Epoch 91/100\n",
            "285/285 [==============================] - 3s 12ms/step - loss: 0.7011 - val_loss: 0.7605\n",
            "\n",
            "Epoch 00091: val_loss did not improve from 0.76051\n",
            "Epoch 92/100\n",
            "285/285 [==============================] - 3s 12ms/step - loss: 0.6931 - val_loss: 0.7605\n",
            "\n",
            "Epoch 00092: val_loss did not improve from 0.76051\n"
          ],
          "name": "stdout"
        },
        {
          "output_type": "execute_result",
          "data": {
            "text/plain": [
              "<tensorflow.python.keras.callbacks.History at 0x7f0ce2873668>"
            ]
          },
          "metadata": {
            "tags": []
          },
          "execution_count": 48
        }
      ]
    },
    {
      "cell_type": "code",
      "metadata": {
        "colab": {
          "base_uri": "https://localhost:8080/"
        },
        "id": "RiytY0zMcTsh",
        "outputId": "460924b2-1cbc-4b15-c5b6-b22c389e13b0"
      },
      "source": [
        "encoded = encoder.predict(x_train)\r\n",
        "\r\n",
        "classifier = tf.keras.Sequential([\r\n",
        "    layers.Dense(32, input_dim=n_latent, activation='tanh'),\r\n",
        "    layers.Dense(16, activation='relu'),\r\n",
        "    layers.Dense(n_outputs, activation ='softmax')\r\n",
        "])\r\n",
        "classifier.compile(loss='sparse_categorical_crossentropy', optimizer='adam', metrics=['accuracy'])\r\n",
        "classifier.summary()\r\n",
        "\r\n",
        "classifier.fit(encoded, y_train, batch_size=100, epochs=10)"
      ],
      "execution_count": 49,
      "outputs": [
        {
          "output_type": "stream",
          "text": [
            "Model: \"sequential_5\"\n",
            "_________________________________________________________________\n",
            "Layer (type)                 Output Shape              Param #   \n",
            "=================================================================\n",
            "dense_34 (Dense)             (None, 32)                1632      \n",
            "_________________________________________________________________\n",
            "dense_35 (Dense)             (None, 16)                528       \n",
            "_________________________________________________________________\n",
            "dense_36 (Dense)             (None, 2)                 34        \n",
            "=================================================================\n",
            "Total params: 2,194\n",
            "Trainable params: 2,194\n",
            "Non-trainable params: 0\n",
            "_________________________________________________________________\n",
            "Epoch 1/10\n",
            "285/285 [==============================] - 1s 2ms/step - loss: 0.3672 - accuracy: 0.8234\n",
            "Epoch 2/10\n",
            "285/285 [==============================] - 1s 2ms/step - loss: 0.0077 - accuracy: 0.9989\n",
            "Epoch 3/10\n",
            "285/285 [==============================] - 1s 2ms/step - loss: 0.0053 - accuracy: 0.9992\n",
            "Epoch 4/10\n",
            "285/285 [==============================] - 1s 2ms/step - loss: 0.0034 - accuracy: 0.9995\n",
            "Epoch 5/10\n",
            "285/285 [==============================] - 1s 2ms/step - loss: 0.0035 - accuracy: 0.9995\n",
            "Epoch 6/10\n",
            "285/285 [==============================] - 1s 2ms/step - loss: 0.0040 - accuracy: 0.9993\n",
            "Epoch 7/10\n",
            "285/285 [==============================] - 1s 2ms/step - loss: 0.0029 - accuracy: 0.9993\n",
            "Epoch 8/10\n",
            "285/285 [==============================] - 1s 2ms/step - loss: 0.0033 - accuracy: 0.9995\n",
            "Epoch 9/10\n",
            "285/285 [==============================] - 1s 2ms/step - loss: 0.0025 - accuracy: 0.9995\n",
            "Epoch 10/10\n",
            "285/285 [==============================] - 1s 2ms/step - loss: 0.0037 - accuracy: 0.9992\n"
          ],
          "name": "stdout"
        },
        {
          "output_type": "execute_result",
          "data": {
            "text/plain": [
              "<tensorflow.python.keras.callbacks.History at 0x7f0d501c86d8>"
            ]
          },
          "metadata": {
            "tags": []
          },
          "execution_count": 49
        }
      ]
    },
    {
      "cell_type": "code",
      "metadata": {
        "colab": {
          "base_uri": "https://localhost:8080/"
        },
        "id": "Iv3nLO0ica7w",
        "outputId": "d3f894cf-be70-46bd-b975-3d171717ca60"
      },
      "source": [
        "pred_y = classifier.predict(encoder.predict(x_test)).argmax(axis=1)\r\n",
        "y = y_test\r\n",
        "\r\n",
        "print(classification_report(y, pred_y))"
      ],
      "execution_count": 50,
      "outputs": [
        {
          "output_type": "stream",
          "text": [
            "              precision    recall  f1-score   support\n",
            "\n",
            "           0       1.00      1.00      1.00    255886\n",
            "           1       0.83      0.81      0.82       441\n",
            "\n",
            "    accuracy                           1.00    256327\n",
            "   macro avg       0.91      0.90      0.91    256327\n",
            "weighted avg       1.00      1.00      1.00    256327\n",
            "\n"
          ],
          "name": "stdout"
        }
      ]
    },
    {
      "cell_type": "code",
      "metadata": {
        "id": "Y0wNoq9Kca5l"
      },
      "source": [
        ""
      ],
      "execution_count": 46,
      "outputs": []
    },
    {
      "cell_type": "code",
      "metadata": {
        "id": "CkFOU_Qqca2b"
      },
      "source": [
        ""
      ],
      "execution_count": 46,
      "outputs": []
    },
    {
      "cell_type": "code",
      "metadata": {
        "id": "5ZSeAFF2caz-"
      },
      "source": [
        ""
      ],
      "execution_count": 46,
      "outputs": []
    },
    {
      "cell_type": "code",
      "metadata": {
        "id": "oX3Jkq-scaw7"
      },
      "source": [
        ""
      ],
      "execution_count": null,
      "outputs": []
    },
    {
      "cell_type": "code",
      "metadata": {
        "id": "gOdRoosCcauo"
      },
      "source": [
        ""
      ],
      "execution_count": null,
      "outputs": []
    },
    {
      "cell_type": "code",
      "metadata": {
        "id": "uthHrLhNcasB"
      },
      "source": [
        ""
      ],
      "execution_count": null,
      "outputs": []
    },
    {
      "cell_type": "code",
      "metadata": {
        "id": "i_BF2zefcaoM"
      },
      "source": [
        ""
      ],
      "execution_count": null,
      "outputs": []
    },
    {
      "cell_type": "code",
      "metadata": {
        "id": "dIjZykT4caLY"
      },
      "source": [
        ""
      ],
      "execution_count": null,
      "outputs": []
    },
    {
      "cell_type": "code",
      "metadata": {
        "id": "RdT6WrVrcaFP"
      },
      "source": [
        ""
      ],
      "execution_count": null,
      "outputs": []
    },
    {
      "cell_type": "code",
      "metadata": {
        "id": "s39pbbQIcZ8W"
      },
      "source": [
        ""
      ],
      "execution_count": null,
      "outputs": []
    }
  ]
}