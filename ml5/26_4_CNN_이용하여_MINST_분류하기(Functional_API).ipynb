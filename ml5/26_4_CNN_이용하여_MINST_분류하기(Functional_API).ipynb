{
  "nbformat": 4,
  "nbformat_minor": 0,
  "metadata": {
    "kernelspec": {
      "display_name": "Python 3",
      "language": "python",
      "name": "python3"
    },
    "language_info": {
      "codemirror_mode": {
        "name": "ipython",
        "version": 3
      },
      "file_extension": ".py",
      "mimetype": "text/x-python",
      "name": "python",
      "nbconvert_exporter": "python",
      "pygments_lexer": "ipython3",
      "version": "3.7.6"
    },
    "colab": {
      "name": "26-4.CNN 이용하여 MINST 분류하기(Functional API).ipynb",
      "provenance": []
    }
  },
  "cells": [
    {
      "cell_type": "markdown",
      "metadata": {
        "id": "VnyLr47T-rjH"
      },
      "source": [
        "# 3. CNN 이용하여 MINST 분류하기(Functional API)\r\n",
        "- 참고 사이트 : Functional API\r\n",
        "> https://keras.io/guides/functional_api/ <br>\r\n",
        "> https://wikidocs.net/38861"
      ]
    },
    {
      "cell_type": "markdown",
      "metadata": {
        "id": "QIX7izQE-rjO"
      },
      "source": [
        "## Import modules"
      ]
    },
    {
      "cell_type": "code",
      "metadata": {
        "id": "GKCU68AX-rjP"
      },
      "source": [
        "import tensorflow as tf"
      ],
      "execution_count": 1,
      "outputs": []
    },
    {
      "cell_type": "markdown",
      "metadata": {
        "id": "-JsXPInH-rjQ"
      },
      "source": [
        "## 데이터 불러오기"
      ]
    },
    {
      "cell_type": "code",
      "metadata": {
        "id": "Y-zIa3iH-rjQ",
        "colab": {
          "base_uri": "https://localhost:8080/"
        },
        "outputId": "11f61f42-d5b3-4c1a-8b5f-81d3eff96d38"
      },
      "source": [
        "mnist = tf.keras.datasets.mnist\n",
        "(x_train, y_train), (x_test, y_test) = mnist.load_data()\n",
        "x_train, x_test = x_train / 255.0, x_test / 255.0"
      ],
      "execution_count": 2,
      "outputs": [
        {
          "output_type": "stream",
          "text": [
            "Downloading data from https://storage.googleapis.com/tensorflow/tf-keras-datasets/mnist.npz\n",
            "11493376/11490434 [==============================] - 0s 0us/step\n"
          ],
          "name": "stdout"
        }
      ]
    },
    {
      "cell_type": "code",
      "metadata": {
        "id": "4pAdMffz-rjR",
        "colab": {
          "base_uri": "https://localhost:8080/"
        },
        "outputId": "4cd2e878-2f6d-4ade-c20f-84b911aea796"
      },
      "source": [
        "x_train.shape, x_test.shape"
      ],
      "execution_count": 3,
      "outputs": [
        {
          "output_type": "execute_result",
          "data": {
            "text/plain": [
              "((60000, 28, 28), (10000, 28, 28))"
            ]
          },
          "metadata": {
            "tags": []
          },
          "execution_count": 3
        }
      ]
    },
    {
      "cell_type": "code",
      "metadata": {
        "id": "n2-zl5MC-rjV",
        "colab": {
          "base_uri": "https://localhost:8080/"
        },
        "outputId": "2ba7e05c-41f1-435b-867f-dccb533d02d8"
      },
      "source": [
        "y_train.shape, y_test.shape"
      ],
      "execution_count": 4,
      "outputs": [
        {
          "output_type": "execute_result",
          "data": {
            "text/plain": [
              "((60000,), (10000,))"
            ]
          },
          "metadata": {
            "tags": []
          },
          "execution_count": 4
        }
      ]
    },
    {
      "cell_type": "markdown",
      "metadata": {
        "id": "WxIJp-Az-rjW"
      },
      "source": [
        "## 네트워크 구조 정의"
      ]
    },
    {
      "cell_type": "markdown",
      "metadata": {
        "id": "wBh3JkZR-rjW"
      },
      "source": [
        "#### ㅇ CNN 입력 구조 : 4차원 : Batch * Height * Weidth * Channel"
      ]
    },
    {
      "cell_type": "code",
      "metadata": {
        "id": "FRer2TtB-rjY"
      },
      "source": [
        "from tensorflow.keras.models import Sequential, Model\n",
        "from tensorflow.keras.layers import Dense, Dropout, Flatten, Conv2D, MaxPooling2D, Input"
      ],
      "execution_count": 6,
      "outputs": []
    },
    {
      "cell_type": "code",
      "metadata": {
        "id": "SrICKYPb-rjY",
        "colab": {
          "base_uri": "https://localhost:8080/"
        },
        "outputId": "ca9eeac8-86ac-4674-8b51-92b850a777a5"
      },
      "source": [
        "x_train = x_train.reshape(x_train.shape[0], 28, 28 ,1)\n",
        "x_test = x_test.reshape(x_test.shape[0], 28, 28 ,1)\n",
        "x_train.shape, x_test.shape"
      ],
      "execution_count": 7,
      "outputs": [
        {
          "output_type": "execute_result",
          "data": {
            "text/plain": [
              "((60000, 28, 28, 1), (10000, 28, 28, 1))"
            ]
          },
          "metadata": {
            "tags": []
          },
          "execution_count": 7
        }
      ]
    },
    {
      "cell_type": "code",
      "metadata": {
        "id": "L1GEtucW-rjZ"
      },
      "source": [
        "# Sequential 모델하기\n",
        "# model = Sequential()\n",
        "# model.add(Conv2D(32, kernel_size=(5,5), strides=(1,1), padding='same', \n",
        "#                  activation='relu',\n",
        "#                  input_shape=(28,28,1)))\n",
        "# model.add(MaxPooling2D(pool_size=(2,2), strides=(2,2)))\n",
        "# model.add(Conv2D(64,(2,2), activation='relu', padding='same'))\n",
        "# model.add(MaxPooling2D(pool_size=(2,2)))\n",
        "# model.add(Dropout(0.2))\n",
        "# model.add(Flatten())\n",
        "# model.add(Dense(128, activation='relu'))\n",
        "# model.add(Dropout(0.3))\n",
        "# model.add(Dense(10, activation='softmax'))\n",
        "\n",
        "# Functional API 모델링하기\n",
        "inputs = Input(shape=(28, 28, 1))\n",
        "conv1 = Conv2D(filters=32, kernel_size=(5, 5), padding='same', activation='relu')(inputs)\n",
        "pool1 = MaxPooling2D(pool_size=(2,2), strides=(2,2))(conv1)\n",
        "conv2 = Conv2D(filters=64, kernel_size=(2, 2), padding='same', activation='relu')(pool1)\n",
        "pool2 = MaxPooling2D(pool_size=(2,2))(conv2)\n",
        "drop2 = Dropout(0.2)(pool2)\n",
        "flat3 = Flatten()(drop2)\n",
        "dense4 = Dense(units=128, activation='relu')(flat3)\n",
        "drop4 = Dropout(0.3)(dense4)\n",
        "outputs = Dense(10, activation='softmax')(drop4)\n",
        "model = Model(inputs=inputs, outputs=outputs)"
      ],
      "execution_count": 11,
      "outputs": []
    },
    {
      "cell_type": "markdown",
      "metadata": {
        "id": "pWvw-5Hi-rjZ"
      },
      "source": [
        "## Keras 모델 Compile"
      ]
    },
    {
      "cell_type": "code",
      "metadata": {
        "id": "ATh8CEjT-rjZ"
      },
      "source": [
        "from tensorflow.keras.utils import to_categorical\n",
        "y_train = to_categorical(y_train, num_classes=10)\n",
        "y_test = to_categorical(y_test, num_classes=10)"
      ],
      "execution_count": 12,
      "outputs": []
    },
    {
      "cell_type": "code",
      "metadata": {
        "id": "rlPpTYZR-rjZ",
        "colab": {
          "base_uri": "https://localhost:8080/"
        },
        "outputId": "e8dc367c-bfd5-4ae8-8524-97a5ca5ed1a9"
      },
      "source": [
        "y_train.shape, y_test.shape"
      ],
      "execution_count": 13,
      "outputs": [
        {
          "output_type": "execute_result",
          "data": {
            "text/plain": [
              "((60000, 10), (10000, 10))"
            ]
          },
          "metadata": {
            "tags": []
          },
          "execution_count": 13
        }
      ]
    },
    {
      "cell_type": "code",
      "metadata": {
        "id": "MSRh5ttB-rja",
        "colab": {
          "base_uri": "https://localhost:8080/"
        },
        "outputId": "9dcbe170-7f94-44dd-ed94-70f5c50ae567"
      },
      "source": [
        "model.compile(optimizer='adam',\n",
        "             loss='categorical_crossentropy',\n",
        "             metrics=['accuracy'])\n",
        "model.summary()"
      ],
      "execution_count": 14,
      "outputs": [
        {
          "output_type": "stream",
          "text": [
            "Model: \"functional_1\"\n",
            "_________________________________________________________________\n",
            "Layer (type)                 Output Shape              Param #   \n",
            "=================================================================\n",
            "input_3 (InputLayer)         [(None, 28, 28, 1)]       0         \n",
            "_________________________________________________________________\n",
            "conv2d_2 (Conv2D)            (None, 28, 28, 32)        832       \n",
            "_________________________________________________________________\n",
            "max_pooling2d (MaxPooling2D) (None, 14, 14, 32)        0         \n",
            "_________________________________________________________________\n",
            "conv2d_3 (Conv2D)            (None, 14, 14, 64)        8256      \n",
            "_________________________________________________________________\n",
            "max_pooling2d_1 (MaxPooling2 (None, 7, 7, 64)          0         \n",
            "_________________________________________________________________\n",
            "dropout (Dropout)            (None, 7, 7, 64)          0         \n",
            "_________________________________________________________________\n",
            "flatten (Flatten)            (None, 3136)              0         \n",
            "_________________________________________________________________\n",
            "dense (Dense)                (None, 128)               401536    \n",
            "_________________________________________________________________\n",
            "dropout_1 (Dropout)          (None, 128)               0         \n",
            "_________________________________________________________________\n",
            "dense_1 (Dense)              (None, 10)                1290      \n",
            "=================================================================\n",
            "Total params: 411,914\n",
            "Trainable params: 411,914\n",
            "Non-trainable params: 0\n",
            "_________________________________________________________________\n"
          ],
          "name": "stdout"
        }
      ]
    },
    {
      "cell_type": "markdown",
      "metadata": {
        "id": "0aNiIDQI-rjb"
      },
      "source": [
        "## 학습 수행"
      ]
    },
    {
      "cell_type": "code",
      "metadata": {
        "id": "3fbJ5_Ys-rjb"
      },
      "source": [
        "EPOCHS = 5\n",
        "BATCH_SIZE = 1024"
      ],
      "execution_count": 15,
      "outputs": []
    },
    {
      "cell_type": "code",
      "metadata": {
        "id": "lMcySzPq-rjc"
      },
      "source": [
        "from tensorflow.keras.callbacks import EarlyStopping, ModelCheckpoint"
      ],
      "execution_count": 16,
      "outputs": []
    },
    {
      "cell_type": "code",
      "metadata": {
        "id": "p96sdWBj-rjc"
      },
      "source": [
        "es = EarlyStopping(monitor='val_loss', patience=4, mode='min', verbose=1)\n",
        "mc = ModelCheckpoint('best_model.h5', monitor='val_accuracy', mode='max', save_best_only=True, verbose=1)"
      ],
      "execution_count": 17,
      "outputs": []
    },
    {
      "cell_type": "code",
      "metadata": {
        "scrolled": true,
        "id": "HLRs7QMW-rjc",
        "colab": {
          "base_uri": "https://localhost:8080/"
        },
        "outputId": "58e32984-5119-4095-ddc9-1468afe62195"
      },
      "source": [
        "history = model.fit(x_train, y_train, epochs=EPOCHS, batch_size=BATCH_SIZE, callbacks=[es, mc], validation_data=(x_test, y_test))"
      ],
      "execution_count": 18,
      "outputs": [
        {
          "output_type": "stream",
          "text": [
            "Epoch 1/5\n",
            "59/59 [==============================] - ETA: 0s - loss: 0.7154 - accuracy: 0.7854\n",
            "Epoch 00001: val_accuracy improved from -inf to 0.94770, saving model to best_model.h5\n",
            "59/59 [==============================] - 47s 802ms/step - loss: 0.7154 - accuracy: 0.7854 - val_loss: 0.1790 - val_accuracy: 0.9477\n",
            "Epoch 2/5\n",
            "59/59 [==============================] - ETA: 0s - loss: 0.1769 - accuracy: 0.9473\n",
            "Epoch 00002: val_accuracy improved from 0.94770 to 0.97300, saving model to best_model.h5\n",
            "59/59 [==============================] - 47s 801ms/step - loss: 0.1769 - accuracy: 0.9473 - val_loss: 0.0885 - val_accuracy: 0.9730\n",
            "Epoch 3/5\n",
            "59/59 [==============================] - ETA: 0s - loss: 0.1123 - accuracy: 0.9661\n",
            "Epoch 00003: val_accuracy improved from 0.97300 to 0.98160, saving model to best_model.h5\n",
            "59/59 [==============================] - 47s 804ms/step - loss: 0.1123 - accuracy: 0.9661 - val_loss: 0.0612 - val_accuracy: 0.9816\n",
            "Epoch 4/5\n",
            "59/59 [==============================] - ETA: 0s - loss: 0.0876 - accuracy: 0.9739\n",
            "Epoch 00004: val_accuracy improved from 0.98160 to 0.98310, saving model to best_model.h5\n",
            "59/59 [==============================] - 46s 782ms/step - loss: 0.0876 - accuracy: 0.9739 - val_loss: 0.0489 - val_accuracy: 0.9831\n",
            "Epoch 5/5\n",
            "59/59 [==============================] - ETA: 0s - loss: 0.0722 - accuracy: 0.9785\n",
            "Epoch 00005: val_accuracy improved from 0.98310 to 0.98620, saving model to best_model.h5\n",
            "59/59 [==============================] - 48s 809ms/step - loss: 0.0722 - accuracy: 0.9785 - val_loss: 0.0393 - val_accuracy: 0.9862\n"
          ],
          "name": "stdout"
        }
      ]
    },
    {
      "cell_type": "markdown",
      "metadata": {
        "id": "Vy94qKOn-rjc"
      },
      "source": [
        "## 학습 결과 테스트"
      ]
    },
    {
      "cell_type": "code",
      "metadata": {
        "id": "L24KTI0N-rjd",
        "colab": {
          "base_uri": "https://localhost:8080/"
        },
        "outputId": "eb9cc802-8da5-46bb-b4ff-a4ec6b7b5a16"
      },
      "source": [
        "model.evaluate(x_test, y_test)"
      ],
      "execution_count": 19,
      "outputs": [
        {
          "output_type": "stream",
          "text": [
            "313/313 [==============================] - 3s 10ms/step - loss: 0.0393 - accuracy: 0.9862\n"
          ],
          "name": "stdout"
        },
        {
          "output_type": "execute_result",
          "data": {
            "text/plain": [
              "[0.03930516541004181, 0.9861999750137329]"
            ]
          },
          "metadata": {
            "tags": []
          },
          "execution_count": 19
        }
      ]
    },
    {
      "cell_type": "markdown",
      "metadata": {
        "id": "ZK8bwPiv-rjd"
      },
      "source": [
        "## 성능 그래프"
      ]
    },
    {
      "cell_type": "code",
      "metadata": {
        "id": "aS_B4qoB-rjd"
      },
      "source": [
        "import matplotlib.pyplot as plt\n",
        "%matplotlib inline"
      ],
      "execution_count": 20,
      "outputs": []
    },
    {
      "cell_type": "code",
      "metadata": {
        "id": "qzfjm_j2-rje"
      },
      "source": [
        "x_range = range(1,len(history.history['accuracy'])+1)"
      ],
      "execution_count": 21,
      "outputs": []
    },
    {
      "cell_type": "code",
      "metadata": {
        "id": "YIJsw56F-rje",
        "colab": {
          "base_uri": "https://localhost:8080/",
          "height": 228
        },
        "outputId": "0d8a8fb4-048d-4aea-aebc-92a1a0b5e09b"
      },
      "source": [
        "plt.figure(figsize=(10,6))\n",
        "plt.subplot(221)\n",
        "plt.plot(x_range, history.history['accuracy'], color='red', label='Accuracy')\n",
        "plt.plot(x_range, history.history['val_accuracy'], color='green', label='Validation Accuracy')\n",
        "plt.xlabel('Epochs')\n",
        "plt.ylabel('Accuracy')\n",
        "plt.legend()\n",
        "plt.subplot(222)\n",
        "plt.plot(x_range, history.history['loss'], color='red', label='Loss')\n",
        "plt.plot(x_range, history.history['val_loss'], color='green', label='Validation Loss')\n",
        "plt.xlabel('Epochs')\n",
        "plt.ylabel('Loss')\n",
        "plt.legend()"
      ],
      "execution_count": 22,
      "outputs": [
        {
          "output_type": "execute_result",
          "data": {
            "text/plain": [
              "<matplotlib.legend.Legend at 0x7f6a5dece710>"
            ]
          },
          "metadata": {
            "tags": []
          },
          "execution_count": 22
        },
        {
          "output_type": "display_data",
          "data": {
            "image/png": "[encoded data removed]",
            "text/plain": [
              "<Figure size 720x432 with 2 Axes>"
            ]
          },
          "metadata": {
            "tags": [],
            "needs_background": "light"
          }
        }
      ]
    },
    {
      "cell_type": "markdown",
      "metadata": {
        "id": "AVmpP5g_-rjf"
      },
      "source": [
        "# 실전 테스트"
      ]
    },
    {
      "cell_type": "code",
      "metadata": {
        "id": "FUv-KuF9-rjf",
        "colab": {
          "base_uri": "https://localhost:8080/"
        },
        "outputId": "06fab8a3-bdee-4c71-9783-32c8cd0bdaa7"
      },
      "source": [
        "x_test[0].shape"
      ],
      "execution_count": 23,
      "outputs": [
        {
          "output_type": "execute_result",
          "data": {
            "text/plain": [
              "(28, 28, 1)"
            ]
          },
          "metadata": {
            "tags": []
          },
          "execution_count": 23
        }
      ]
    },
    {
      "cell_type": "code",
      "metadata": {
        "id": "dI3_ZrrK-rjf",
        "colab": {
          "base_uri": "https://localhost:8080/",
          "height": 283
        },
        "outputId": "b0733f10-351d-42a4-e994-499845eb8554"
      },
      "source": [
        "import numpy as np\n",
        "\n",
        "n = 0\n",
        "plt.imshow(x_test[n].reshape(28,28), cmap='Greys', interpolation='nearest')\n",
        "plt.show()\n",
        "\n",
        "print('The Answer is ', np.argmax(model.predict(x_test[n].reshape(1,28,28,1))))"
      ],
      "execution_count": 27,
      "outputs": [
        {
          "output_type": "display_data",
          "data": {
            "image/png": "[encoded data removed]",
            "text/plain": [
              "<Figure size 432x288 with 1 Axes>"
            ]
          },
          "metadata": {
            "tags": [],
            "needs_background": "light"
          }
        },
        {
          "output_type": "stream",
          "text": [
            "The Answer is  7\n"
          ],
          "name": "stdout"
        }
      ]
    },
    {
      "cell_type": "code",
      "metadata": {
        "id": "QNSlve0A-rjf",
        "colab": {
          "base_uri": "https://localhost:8080/",
          "height": 283
        },
        "outputId": "9da13be3-e864-4ecb-b389-3df7b289069d"
      },
      "source": [
        "n = 3\n",
        "plt.imshow(x_test[n].reshape(28,28), cmap='Greys', interpolation='nearest')\n",
        "plt.show()\n",
        "\n",
        "print('The Answer is ', np.argmax(model.predict(x_test[n].reshape(1,28,28,1))))"
      ],
      "execution_count": 28,
      "outputs": [
        {
          "output_type": "display_data",
          "data": {
            "image/png": "[encoded data removed]",
            "text/plain": [
              "<Figure size 432x288 with 1 Axes>"
            ]
          },
          "metadata": {
            "tags": [],
            "needs_background": "light"
          }
        },
        {
          "output_type": "stream",
          "text": [
            "The Answer is  0\n"
          ],
          "name": "stdout"
        }
      ]
    },
    {
      "cell_type": "code",
      "metadata": {
        "id": "m7396X2r-rjg"
      },
      "source": [
        ""
      ],
      "execution_count": null,
      "outputs": []
    }
  ]
}