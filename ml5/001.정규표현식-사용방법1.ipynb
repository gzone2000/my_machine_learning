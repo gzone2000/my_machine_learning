{
 "cells": [
  {
   "cell_type": "markdown",
   "id": "44cba941",
   "metadata": {},
   "source": [
    "# @정규표현식-사용방법1"
   ]
  },
  {
   "cell_type": "markdown",
   "id": "3c884703",
   "metadata": {},
   "source": [
    "![regexr.com](https://github.com/gzone2000/TEMP_TEST/raw/master/regexr.com.RE%EB%A9%94%EC%86%8C%EB%93%9C.png)"
   ]
  },
  {
   "cell_type": "markdown",
   "id": "6b8882ef",
   "metadata": {},
   "source": [
    "### 참고 사이트 : https://regexr.com/\n",
    "![regexr.com](https://github.com/gzone2000/TEMP_TEST/raw/master/regexr.com.cheatsheet.png)"
   ]
  },
  {
   "cell_type": "markdown",
   "id": "defbd923",
   "metadata": {},
   "source": [
    "## 1.re모듈 메소드"
   ]
  },
  {
   "cell_type": "code",
   "execution_count": 1,
   "id": "a23c547a",
   "metadata": {},
   "outputs": [],
   "source": [
    "import re"
   ]
  },
  {
   "cell_type": "code",
   "execution_count": 2,
   "id": "9e8edc2d",
   "metadata": {},
   "outputs": [],
   "source": [
    "chars = '''안녕하세요. 스타트코딩입니다.\n",
    "코딩을 최대한 쉽고 재미있게 배울 수 있도록 끊임없이 연구하고 있습니다.\n",
    "\n",
    "궁금한 사항이 생기면 아래 SNS를 통해 질문을 남겨 주세요.\n",
    "여러분의 열정과 도전을 함께 하겠습니다.\n",
    "\n",
    "Hello. This is startcoding.\n",
    "startcoding constantly studying to make coding as easy and fun as possible.\n",
    "\n",
    "If you have any questions, please leave them on SNS below\n",
    "I will share your passion and challenge.\n",
    "\n",
    "-티스토리\n",
    "https://startcoding0.tistory.com\n",
    "\n",
    "-네이버블로그\n",
    "https://blog.naver.com/kkj6369\n",
    "\n",
    "-유튜브\n",
    "http://www.youtube.com/channel/UCHwhZ7HPBhUh2IscPSL0pHA\n",
    "\n",
    "-email\n",
    "kkj6369@naver.com\n",
    "\n",
    "**여러분 행복한 부자되세요!** \\(--)/ /(__)\\ 꾸벅\t\n",
    "\n",
    "apple pineapple appleappleapple\n",
    "\n",
    "rait rabit rabbit rabbbit rabbbbit\n",
    "\n",
    "#좋아요, #좋아요반사, #팔로우, #맞팔,\n",
    "\n",
    "grey gray\n",
    "\n",
    "I am a tiny tiny boy.\n",
    "May I have have a question?\n",
    "\n",
    "[특가할인]소가죽 샌들 -레몬스토어\n",
    "[품절]스마트 워치 -레몬스토어\n",
    "[품절]브이넥 반팔 티셔츠 -애플스토어\n",
    "쿨링밴딩 팬츠 -바나나스토어\n",
    "[특가할인]남친룩 오버핏 셔츠 -래빗팜\n",
    "[특가할인]여친룩 오버핏 셔츠 -래빗팜'''"
   ]
  },
  {
   "cell_type": "code",
   "execution_count": 3,
   "id": "49001ff2",
   "metadata": {},
   "outputs": [],
   "source": [
    "# match(찾고싶은 문자열, 문자열), 처음부터 매칭되어야 되며, 맨처음 매칭되는 1개만 찾음\n",
    "re.match(r'Hello', chars)"
   ]
  },
  {
   "cell_type": "code",
   "execution_count": 4,
   "id": "399b3ba0",
   "metadata": {},
   "outputs": [
    {
     "data": {
      "text/plain": [
       "<re.Match object; span=(118, 123), match='Hello'>"
      ]
     },
     "execution_count": 4,
     "metadata": {},
     "output_type": "execute_result"
    }
   ],
   "source": [
    "# find(찾고싶은 문자열, 문자열), 맨처음 매칭되는 1개만 찾음\n",
    "re.search(r'Hello', chars)"
   ]
  },
  {
   "cell_type": "code",
   "execution_count": 5,
   "id": "bda1e909",
   "metadata": {},
   "outputs": [],
   "source": [
    "# match(찾고싶은 문자열, 문자열), 처음부터 매칭되어야 되며, 맨처음 매칭되는 1개만 찾음\n",
    "re.match(r'This', chars)"
   ]
  },
  {
   "cell_type": "code",
   "execution_count": 6,
   "id": "55b23601",
   "metadata": {},
   "outputs": [
    {
     "data": {
      "text/plain": [
       "<re.Match object; span=(125, 129), match='This'>"
      ]
     },
     "execution_count": 6,
     "metadata": {},
     "output_type": "execute_result"
    }
   ],
   "source": [
    "# find(찾고싶은 문자열, 문자열), 맨처음 매칭되는 1개만 찾음\n",
    "re.search(r'This', chars)"
   ]
  },
  {
   "cell_type": "code",
   "execution_count": 7,
   "id": "eaf4b5c0",
   "metadata": {},
   "outputs": [
    {
     "data": {
      "text/plain": [
       "<re.Match object; span=(138, 144), match='coding'>"
      ]
     },
     "execution_count": 7,
     "metadata": {},
     "output_type": "execute_result"
    }
   ],
   "source": [
    "# coding 매칭되는 문자열 찾기(맨처음 매칭되는 1개만 찾음)\n",
    "re.search(r'coding', chars)"
   ]
  },
  {
   "cell_type": "code",
   "execution_count": 8,
   "id": "b0547385",
   "metadata": {},
   "outputs": [
    {
     "data": {
      "text/plain": [
       "['coding', 'coding', 'coding', 'coding']"
      ]
     },
     "execution_count": 8,
     "metadata": {},
     "output_type": "execute_result"
    }
   ],
   "source": [
    "# findall : 모든 coding 매칭되는 문자열 찾기\n",
    "re.findall(r'coding', chars)"
   ]
  },
  {
   "cell_type": "code",
   "execution_count": 9,
   "id": "db7dbd92",
   "metadata": {},
   "outputs": [
    {
     "name": "stdout",
     "output_type": "stream",
     "text": [
      "<re.Match object; span=(138, 144), match='coding'>\n",
      "<re.Match object; span=(151, 157), match='coding'>\n",
      "<re.Match object; span=(186, 192), match='coding'>\n",
      "<re.Match object; span=(342, 348), match='coding'>\n"
     ]
    }
   ],
   "source": [
    "# finditer : 모든 coding 매칭되는 문자열과 정보 가짐\n",
    "grouped = re.finditer(r'coding', chars)\n",
    "\n",
    "for group in grouped :\n",
    "    print(group)"
   ]
  },
  {
   "cell_type": "markdown",
   "id": "6a5ef23f",
   "metadata": {},
   "source": [
    "## 2.Character classes"
   ]
  },
  {
   "cell_type": "markdown",
   "id": "845bce0f",
   "metadata": {},
   "source": [
    "### . : any character, 모든 문자(new line 제외)"
   ]
  },
  {
   "cell_type": "code",
   "execution_count": 10,
   "id": "51737137",
   "metadata": {},
   "outputs": [
    {
     "data": {
      "text/plain": [
       "<re.Match object; span=(0, 1), match='안'>"
      ]
     },
     "execution_count": 10,
     "metadata": {},
     "output_type": "execute_result"
    }
   ],
   "source": [
    "# '.' 모든 문자 1개\n",
    "re.search(r'.', chars)"
   ]
  },
  {
   "cell_type": "markdown",
   "id": "086776ea",
   "metadata": {},
   "source": [
    "### \\w  \\d  \\s  :  1개의 word, digit, whitespace"
   ]
  },
  {
   "cell_type": "code",
   "execution_count": 11,
   "id": "9171c127",
   "metadata": {},
   "outputs": [
    {
     "data": {
      "text/plain": [
       "<re.Match object; span=(0, 1), match='안'>"
      ]
     },
     "execution_count": 11,
     "metadata": {},
     "output_type": "execute_result"
    }
   ],
   "source": [
    "# '\\w' 1개의 char\n",
    "# \\w : [a-zA-Z0-9_]\n",
    "re.search(r'\\w', chars)"
   ]
  },
  {
   "cell_type": "code",
   "execution_count": 12,
   "id": "2f00aae5",
   "metadata": {},
   "outputs": [
    {
     "data": {
      "text/plain": [
       "<re.Match object; span=(348, 349), match='0'>"
      ]
     },
     "execution_count": 12,
     "metadata": {},
     "output_type": "execute_result"
    }
   ],
   "source": [
    "# '\\d' 1개의 숫자\n",
    "# \\d : [0-9]\n",
    "re.search(r'\\d', chars)"
   ]
  },
  {
   "cell_type": "code",
   "execution_count": 13,
   "id": "0b955543",
   "metadata": {},
   "outputs": [
    {
     "data": {
      "text/plain": [
       "<re.Match object; span=(6, 7), match=' '>"
      ]
     },
     "execution_count": 13,
     "metadata": {},
     "output_type": "execute_result"
    }
   ],
   "source": [
    "# '\\s' 1갸의 공백\n",
    "# \\s : [\\n\\t\\r]\n",
    "re.search(r'\\s', chars)"
   ]
  },
  {
   "cell_type": "markdown",
   "id": "ad465121",
   "metadata": {},
   "source": [
    "### \\W  \\D \\S  :  1개의 NOT word, digit, whitespace"
   ]
  },
  {
   "cell_type": "code",
   "execution_count": 14,
   "id": "0b346028",
   "metadata": {},
   "outputs": [
    {
     "data": {
      "text/plain": [
       "<re.Match object; span=(5, 6), match='.'>"
      ]
     },
     "execution_count": 14,
     "metadata": {},
     "output_type": "execute_result"
    }
   ],
   "source": [
    "# '\\W' NOT 1개 문자\n",
    "# \\W : [^a-zA-Z0-9_]\n",
    "re.search(r'\\W', chars)"
   ]
  },
  {
   "cell_type": "code",
   "execution_count": 15,
   "id": "d706682f",
   "metadata": {},
   "outputs": [
    {
     "data": {
      "text/plain": [
       "<re.Match object; span=(0, 1), match='안'>"
      ]
     },
     "execution_count": 15,
     "metadata": {},
     "output_type": "execute_result"
    }
   ],
   "source": [
    "# '\\D' NOT 1개 숫자\n",
    "# \\D : [^0-9]\n",
    "re.search(r'\\D', chars)"
   ]
  },
  {
   "cell_type": "code",
   "execution_count": 16,
   "id": "d5440e52",
   "metadata": {
    "scrolled": true
   },
   "outputs": [
    {
     "data": {
      "text/plain": [
       "<re.Match object; span=(0, 1), match='안'>"
      ]
     },
     "execution_count": 16,
     "metadata": {},
     "output_type": "execute_result"
    }
   ],
   "source": [
    "# '\\S' NOT 1개 공백\n",
    "# \\S : [^\\n\\t\\r]\n",
    "re.search(r'\\S', chars)"
   ]
  },
  {
   "cell_type": "markdown",
   "id": "42f400e6",
   "metadata": {},
   "source": [
    "### [abc]  :  a, b, c 3중에 1개만"
   ]
  },
  {
   "cell_type": "code",
   "execution_count": 17,
   "id": "33c729c3",
   "metadata": {
    "scrolled": true
   },
   "outputs": [
    {
     "data": {
      "text/plain": [
       "<re.Match object; span=(135, 136), match='a'>"
      ]
     },
     "execution_count": 17,
     "metadata": {},
     "output_type": "execute_result"
    }
   ],
   "source": [
    "re.search(r'[abc]', chars)"
   ]
  },
  {
   "cell_type": "markdown",
   "id": "bb82e1f3",
   "metadata": {},
   "source": [
    "### [^abc]  :  NOT a, b, c "
   ]
  },
  {
   "cell_type": "code",
   "execution_count": 18,
   "id": "441edc6e",
   "metadata": {
    "scrolled": true
   },
   "outputs": [
    {
     "data": {
      "text/plain": [
       "<re.Match object; span=(0, 1), match='안'>"
      ]
     },
     "execution_count": 18,
     "metadata": {},
     "output_type": "execute_result"
    }
   ],
   "source": [
    "re.search(r'[^abc]', chars)"
   ]
  },
  {
   "cell_type": "markdown",
   "id": "4f608ca1",
   "metadata": {},
   "source": [
    "### [a-g]  :  character between a and g"
   ]
  },
  {
   "cell_type": "code",
   "execution_count": 19,
   "id": "70c8ba33",
   "metadata": {
    "scrolled": true
   },
   "outputs": [
    {
     "data": {
      "text/plain": [
       "<re.Match object; span=(119, 120), match='e'>"
      ]
     },
     "execution_count": 19,
     "metadata": {},
     "output_type": "execute_result"
    }
   ],
   "source": [
    "re.search(r'[a-g]', chars)"
   ]
  },
  {
   "cell_type": "code",
   "execution_count": 20,
   "id": "765f6407",
   "metadata": {},
   "outputs": [
    {
     "data": {
      "text/plain": [
       "<re.Match object; span=(74, 75), match='S'>"
      ]
     },
     "execution_count": 20,
     "metadata": {},
     "output_type": "execute_result"
    }
   ],
   "source": [
    "re.search(r'[A-Z]', chars)"
   ]
  },
  {
   "cell_type": "code",
   "execution_count": 21,
   "id": "58c166ed",
   "metadata": {},
   "outputs": [
    {
     "data": {
      "text/plain": [
       "<re.Match object; span=(348, 349), match='0'>"
      ]
     },
     "execution_count": 21,
     "metadata": {},
     "output_type": "execute_result"
    }
   ],
   "source": [
    "re.search(r'[0-9]', chars)"
   ]
  },
  {
   "cell_type": "markdown",
   "id": "aab2d2ff",
   "metadata": {},
   "source": [
    "## 3.Anchors"
   ]
  },
  {
   "cell_type": "markdown",
   "id": "ae143eed",
   "metadata": {},
   "source": [
    "### ^abc$ : abc 문자열이며, a로 시작해서 c로 끝나야 함"
   ]
  },
  {
   "cell_type": "code",
   "execution_count": 22,
   "id": "e80ceadf",
   "metadata": {},
   "outputs": [],
   "source": [
    "str = 'https://startcoding0.tistory.com'"
   ]
  },
  {
   "cell_type": "code",
   "execution_count": 23,
   "id": "87fe79c6",
   "metadata": {},
   "outputs": [
    {
     "data": {
      "text/plain": [
       "<re.Match object; span=(0, 4), match='http'>"
      ]
     },
     "execution_count": 23,
     "metadata": {},
     "output_type": "execute_result"
    }
   ],
   "source": [
    "re.search(r'^http', str)"
   ]
  },
  {
   "cell_type": "code",
   "execution_count": 24,
   "id": "ed6df0fa",
   "metadata": {
    "scrolled": true
   },
   "outputs": [
    {
     "data": {
      "text/plain": [
       "<re.Match object; span=(29, 32), match='com'>"
      ]
     },
     "execution_count": 24,
     "metadata": {},
     "output_type": "execute_result"
    }
   ],
   "source": [
    "re.search('com$', str)"
   ]
  },
  {
   "cell_type": "markdown",
   "id": "5783b4b2",
   "metadata": {},
   "source": [
    "### \\b \\B : word 단위, Not word 단위"
   ]
  },
  {
   "cell_type": "code",
   "execution_count": 25,
   "id": "41cedc87",
   "metadata": {},
   "outputs": [],
   "source": [
    "str = 'apple pineapple appleappleapple'"
   ]
  },
  {
   "cell_type": "code",
   "execution_count": 26,
   "id": "2c24340e",
   "metadata": {},
   "outputs": [
    {
     "data": {
      "text/plain": [
       "<re.Match object; span=(6, 9), match='pin'>"
      ]
     },
     "execution_count": 26,
     "metadata": {},
     "output_type": "execute_result"
    }
   ],
   "source": [
    "re.search(r'\\bpin', str)"
   ]
  },
  {
   "cell_type": "code",
   "execution_count": 27,
   "id": "e8bdecae",
   "metadata": {},
   "outputs": [
    {
     "data": {
      "text/plain": [
       "<re.Match object; span=(2, 5), match='ple'>"
      ]
     },
     "execution_count": 27,
     "metadata": {},
     "output_type": "execute_result"
    }
   ],
   "source": [
    "re.search(r'ple\\b', str)"
   ]
  },
  {
   "cell_type": "markdown",
   "id": "aebcfea3",
   "metadata": {},
   "source": [
    "## 4.Escaped characters"
   ]
  },
  {
   "cell_type": "markdown",
   "id": "4213a7a6",
   "metadata": {},
   "source": [
    "### \\\\. \\\\* \\\\\\\\ "
   ]
  },
  {
   "cell_type": "code",
   "execution_count": 28,
   "id": "45263e62",
   "metadata": {},
   "outputs": [
    {
     "data": {
      "text/plain": [
       "<re.Match object; span=(5, 6), match='.'>"
      ]
     },
     "execution_count": 28,
     "metadata": {},
     "output_type": "execute_result"
    }
   ],
   "source": [
    "re.search(r'\\.', chars)"
   ]
  },
  {
   "cell_type": "code",
   "execution_count": 29,
   "id": "0fb811d8",
   "metadata": {
    "scrolled": true
   },
   "outputs": [
    {
     "data": {
      "text/plain": [
       "<re.Match object; span=(491, 492), match='*'>"
      ]
     },
     "execution_count": 29,
     "metadata": {},
     "output_type": "execute_result"
    }
   ],
   "source": [
    "re.search(r'\\*', chars)"
   ]
  },
  {
   "cell_type": "code",
   "execution_count": 30,
   "id": "37633544",
   "metadata": {
    "scrolled": true
   },
   "outputs": [
    {
     "data": {
      "text/plain": [
       "<re.Match object; span=(510, 511), match='\\\\'>"
      ]
     },
     "execution_count": 30,
     "metadata": {},
     "output_type": "execute_result"
    }
   ],
   "source": [
    "re.search(r'\\\\', chars)"
   ]
  },
  {
   "cell_type": "markdown",
   "id": "3f8ad123",
   "metadata": {},
   "source": [
    "### \\n  \\t  "
   ]
  },
  {
   "cell_type": "code",
   "execution_count": 31,
   "id": "e229a35b",
   "metadata": {},
   "outputs": [
    {
     "data": {
      "text/plain": [
       "<re.Match object; span=(16, 17), match='\\n'>"
      ]
     },
     "execution_count": 31,
     "metadata": {},
     "output_type": "execute_result"
    }
   ],
   "source": [
    "re.search(r'\\n', chars)"
   ]
  },
  {
   "cell_type": "code",
   "execution_count": 32,
   "id": "771237f7",
   "metadata": {
    "scrolled": true
   },
   "outputs": [
    {
     "data": {
      "text/plain": [
       "<re.Match object; span=(526, 527), match='\\t'>"
      ]
     },
     "execution_count": 32,
     "metadata": {},
     "output_type": "execute_result"
    }
   ],
   "source": [
    "re.search(r'\\t', chars)"
   ]
  },
  {
   "cell_type": "markdown",
   "id": "06f80745",
   "metadata": {},
   "source": [
    "## 5.Quantifiers & Alternation"
   ]
  },
  {
   "cell_type": "markdown",
   "id": "45ffdfff",
   "metadata": {},
   "source": [
    "### a* a+ a? :  0 or more, 1 or more, 0 or 1"
   ]
  },
  {
   "cell_type": "code",
   "execution_count": 52,
   "id": "f0a38f0e",
   "metadata": {},
   "outputs": [],
   "source": [
    "str1 = '''\n",
    "ct\n",
    "cat\n",
    "caat\n",
    "caaat\n",
    "'''"
   ]
  },
  {
   "cell_type": "code",
   "execution_count": 53,
   "id": "68bdc07e",
   "metadata": {},
   "outputs": [
    {
     "data": {
      "text/plain": [
       "<re.Match object; span=(1, 3), match='ct'>"
      ]
     },
     "execution_count": 53,
     "metadata": {},
     "output_type": "execute_result"
    }
   ],
   "source": [
    "re.search(r'ca*t', str1)"
   ]
  },
  {
   "cell_type": "code",
   "execution_count": 54,
   "id": "c9e5f60c",
   "metadata": {},
   "outputs": [
    {
     "data": {
      "text/plain": [
       "<re.Match object; span=(4, 7), match='cat'>"
      ]
     },
     "execution_count": 54,
     "metadata": {},
     "output_type": "execute_result"
    }
   ],
   "source": [
    "re.search(r'ca+t', str1)"
   ]
  },
  {
   "cell_type": "code",
   "execution_count": 55,
   "id": "d8a5dee7",
   "metadata": {},
   "outputs": [
    {
     "data": {
      "text/plain": [
       "<re.Match object; span=(1, 3), match='ct'>"
      ]
     },
     "execution_count": 55,
     "metadata": {},
     "output_type": "execute_result"
    }
   ],
   "source": [
    "re.search(r'ca?t', str1)"
   ]
  },
  {
   "cell_type": "markdown",
   "id": "03a3b953",
   "metadata": {},
   "source": [
    "### a{5} a{2,}  : exactly five, two or more"
   ]
  },
  {
   "cell_type": "code",
   "execution_count": 56,
   "id": "1b714ef0",
   "metadata": {},
   "outputs": [],
   "source": [
    "str1 = '''\n",
    "ct\n",
    "cat\n",
    "caat\n",
    "caaat\n",
    "'''"
   ]
  },
  {
   "cell_type": "code",
   "execution_count": 57,
   "id": "f567ca07",
   "metadata": {},
   "outputs": [
    {
     "data": {
      "text/plain": [
       "<re.Match object; span=(9, 11), match='aa'>"
      ]
     },
     "execution_count": 57,
     "metadata": {},
     "output_type": "execute_result"
    }
   ],
   "source": [
    "re.search(r'a{2}', str1)"
   ]
  },
  {
   "cell_type": "code",
   "execution_count": 59,
   "id": "f5b17909",
   "metadata": {},
   "outputs": [
    {
     "data": {
      "text/plain": [
       "<re.Match object; span=(9, 11), match='aa'>"
      ]
     },
     "execution_count": 59,
     "metadata": {},
     "output_type": "execute_result"
    }
   ],
   "source": [
    "re.search(r'a{2,}', str1)"
   ]
  },
  {
   "cell_type": "markdown",
   "id": "2eac651e",
   "metadata": {},
   "source": [
    "### a{1,3}  : between one & three"
   ]
  },
  {
   "cell_type": "code",
   "execution_count": 60,
   "id": "44eebe8e",
   "metadata": {},
   "outputs": [],
   "source": [
    "str1 = '''\n",
    "ct\n",
    "cat\n",
    "caat\n",
    "caaat\n",
    "'''"
   ]
  },
  {
   "cell_type": "code",
   "execution_count": 62,
   "id": "42b1a1e4",
   "metadata": {},
   "outputs": [
    {
     "data": {
      "text/plain": [
       "<re.Match object; span=(5, 6), match='a'>"
      ]
     },
     "execution_count": 62,
     "metadata": {},
     "output_type": "execute_result"
    }
   ],
   "source": [
    "re.search(r'a{1,3}', str1)"
   ]
  },
  {
   "cell_type": "markdown",
   "id": "f5374fc9",
   "metadata": {},
   "source": [
    "### a+? a{2,}?  : match as few as possible"
   ]
  },
  {
   "cell_type": "code",
   "execution_count": 72,
   "id": "c162725f",
   "metadata": {},
   "outputs": [],
   "source": [
    "str1 = '''\n",
    "caaaaat\n",
    "'''"
   ]
  },
  {
   "cell_type": "code",
   "execution_count": 73,
   "id": "f8a40acb",
   "metadata": {},
   "outputs": [
    {
     "data": {
      "text/plain": [
       "<re.Match object; span=(2, 7), match='aaaaa'>"
      ]
     },
     "execution_count": 73,
     "metadata": {},
     "output_type": "execute_result"
    }
   ],
   "source": [
    "re.search(r'a+', str1)"
   ]
  },
  {
   "cell_type": "code",
   "execution_count": 74,
   "id": "4bda88ff",
   "metadata": {},
   "outputs": [
    {
     "data": {
      "text/plain": [
       "<re.Match object; span=(2, 3), match='a'>"
      ]
     },
     "execution_count": 74,
     "metadata": {},
     "output_type": "execute_result"
    }
   ],
   "source": [
    "re.search(r'a+?', str1)"
   ]
  },
  {
   "cell_type": "code",
   "execution_count": 75,
   "id": "9aa50e67",
   "metadata": {},
   "outputs": [
    {
     "data": {
      "text/plain": [
       "<re.Match object; span=(2, 7), match='aaaaa'>"
      ]
     },
     "execution_count": 75,
     "metadata": {},
     "output_type": "execute_result"
    }
   ],
   "source": [
    "re.search(r'a{2,}', str1)"
   ]
  },
  {
   "cell_type": "code",
   "execution_count": 76,
   "id": "ae579a13",
   "metadata": {},
   "outputs": [
    {
     "data": {
      "text/plain": [
       "<re.Match object; span=(2, 4), match='aa'>"
      ]
     },
     "execution_count": 76,
     "metadata": {},
     "output_type": "execute_result"
    }
   ],
   "source": [
    "re.search(r'a{2,}?', str1)"
   ]
  },
  {
   "cell_type": "markdown",
   "id": "8de66d0f",
   "metadata": {},
   "source": [
    "### (ab|cd)  : match ab or cd"
   ]
  },
  {
   "cell_type": "code",
   "execution_count": 66,
   "id": "c2af3daa",
   "metadata": {},
   "outputs": [],
   "source": [
    "str1 = '''\n",
    "ct\n",
    "cat\n",
    "caat\n",
    "caaat\n",
    "'''"
   ]
  },
  {
   "cell_type": "code",
   "execution_count": 67,
   "id": "5a82d2f5",
   "metadata": {},
   "outputs": [
    {
     "data": {
      "text/plain": [
       "<re.Match object; span=(5, 7), match='at'>"
      ]
     },
     "execution_count": 67,
     "metadata": {},
     "output_type": "execute_result"
    }
   ],
   "source": [
    "re.search(r'(at|aa)', str1)"
   ]
  },
  {
   "cell_type": "markdown",
   "id": "1e65efb9",
   "metadata": {},
   "source": [
    "## 6.Group & Looksaround"
   ]
  },
  {
   "cell_type": "markdown",
   "id": "96e9f017",
   "metadata": {},
   "source": [
    "### (abc) : abc 문자열을 그룹 만들기"
   ]
  },
  {
   "cell_type": "code",
   "execution_count": 69,
   "id": "640d5e28",
   "metadata": {},
   "outputs": [],
   "source": [
    "str1 = \"ABCABCABC OK\""
   ]
  },
  {
   "cell_type": "code",
   "execution_count": 70,
   "id": "7fdd56d7",
   "metadata": {},
   "outputs": [
    {
     "data": {
      "text/plain": [
       "<re.Match object; span=(0, 9), match='ABCABCABC'>"
      ]
     },
     "execution_count": 70,
     "metadata": {},
     "output_type": "execute_result"
    }
   ],
   "source": [
    "re.search(r'(ABC)+', str1)"
   ]
  },
  {
   "cell_type": "code",
   "execution_count": 71,
   "id": "e461cfac",
   "metadata": {},
   "outputs": [
    {
     "data": {
      "text/plain": [
       "<re.Match object; span=(0, 3), match='ABC'>"
      ]
     },
     "execution_count": 71,
     "metadata": {},
     "output_type": "execute_result"
    }
   ],
   "source": [
    "re.search(r'(ABC)+?', str1)"
   ]
  },
  {
   "cell_type": "code",
   "execution_count": 77,
   "id": "8656f86f",
   "metadata": {},
   "outputs": [],
   "source": [
    "p = re.compile(r\"(\\w+)\\s+(\\d+[-]\\d+[-]\\d+)\")"
   ]
  },
  {
   "cell_type": "code",
   "execution_count": 78,
   "id": "64fb06cf",
   "metadata": {},
   "outputs": [],
   "source": [
    "m = p.search(\"park 010-1234-1234\")"
   ]
  },
  {
   "cell_type": "code",
   "execution_count": 79,
   "id": "f3e5e981",
   "metadata": {},
   "outputs": [
    {
     "data": {
      "text/plain": [
       "'park 010-1234-1234'"
      ]
     },
     "execution_count": 79,
     "metadata": {},
     "output_type": "execute_result"
    }
   ],
   "source": [
    "m.group(0)"
   ]
  },
  {
   "cell_type": "code",
   "execution_count": 80,
   "id": "99a94927",
   "metadata": {},
   "outputs": [
    {
     "data": {
      "text/plain": [
       "'park'"
      ]
     },
     "execution_count": 80,
     "metadata": {},
     "output_type": "execute_result"
    }
   ],
   "source": [
    "m.group(1)"
   ]
  },
  {
   "cell_type": "code",
   "execution_count": 81,
   "id": "7482a3a4",
   "metadata": {},
   "outputs": [
    {
     "data": {
      "text/plain": [
       "'010-1234-1234'"
      ]
     },
     "execution_count": 81,
     "metadata": {},
     "output_type": "execute_result"
    }
   ],
   "source": [
    "m.group(2)"
   ]
  },
  {
   "cell_type": "markdown",
   "id": "df25f5ab",
   "metadata": {},
   "source": [
    "### 전방탐색 : (?=abc) postive lookahead"
   ]
  },
  {
   "cell_type": "code",
   "execution_count": 109,
   "id": "6d497736",
   "metadata": {},
   "outputs": [
    {
     "data": {
      "text/plain": [
       "<re.Match object; span=(0, 3), match='foo'>"
      ]
     },
     "execution_count": 109,
     "metadata": {},
     "output_type": "execute_result"
    }
   ],
   "source": [
    "# foob 매칭되었지만, 전방탐색 부분은 출력되지 않음\n",
    "re.search(r'foo(?=[a-z])', 'foobar')"
   ]
  },
  {
   "cell_type": "code",
   "execution_count": 110,
   "id": "5662f566",
   "metadata": {},
   "outputs": [],
   "source": [
    "# 매칭이 되지 않음\n",
    "re.search(r'foo(?=[a-z])', 'foo123')"
   ]
  },
  {
   "cell_type": "markdown",
   "id": "e5edb874",
   "metadata": {},
   "source": [
    "### 후방탐색 : (?!abc) negative lookahead"
   ]
  },
  {
   "cell_type": "code",
   "execution_count": 111,
   "id": "9b56f1cc",
   "metadata": {},
   "outputs": [
    {
     "data": {
      "text/plain": [
       "<re.Match object; span=(0, 3), match='foo'>"
      ]
     },
     "execution_count": 111,
     "metadata": {},
     "output_type": "execute_result"
    }
   ],
   "source": [
    "# foo 매칭 되어야 하고 그뒤에 a-z까지는 제외하고 매칭되면 됨\n",
    "re.search(r'foo(?![a-z])', 'foo123')"
   ]
  },
  {
   "cell_type": "markdown",
   "id": "8f862d82",
   "metadata": {},
   "source": [
    "### 긍정형 후방검색 : (?<=abc)"
   ]
  },
  {
   "cell_type": "code",
   "execution_count": 113,
   "id": "02f94cbb",
   "metadata": {},
   "outputs": [
    {
     "data": {
      "text/plain": [
       "<re.Match object; span=(3, 6), match='bar'>"
      ]
     },
     "execution_count": 113,
     "metadata": {},
     "output_type": "execute_result"
    }
   ],
   "source": [
    "# foobar 매칭 되어야 하고 앞쪽의 foo는 제외하고 매칭\n",
    "re.search(r'(?<=foo)bar', 'foobar')"
   ]
  },
  {
   "cell_type": "markdown",
   "id": "10827985",
   "metadata": {},
   "source": [
    "## 7. sub 교체"
   ]
  },
  {
   "cell_type": "code",
   "execution_count": 114,
   "id": "5c84f220",
   "metadata": {},
   "outputs": [],
   "source": [
    "p = re.compile('(blue|white|red)')"
   ]
  },
  {
   "cell_type": "code",
   "execution_count": 115,
   "id": "e4d47f62",
   "metadata": {},
   "outputs": [
    {
     "data": {
      "text/plain": [
       "'colour socks and colour shoes'"
      ]
     },
     "execution_count": 115,
     "metadata": {},
     "output_type": "execute_result"
    }
   ],
   "source": [
    "p.sub('colour', 'blue socks and red shoes')"
   ]
  },
  {
   "cell_type": "code",
   "execution_count": 116,
   "id": "62d3b639",
   "metadata": {},
   "outputs": [
    {
     "data": {
      "text/plain": [
       "'colour socks and red shoes'"
      ]
     },
     "execution_count": 116,
     "metadata": {},
     "output_type": "execute_result"
    }
   ],
   "source": [
    "p.sub('colour', 'blue socks and red shoes', count=1)"
   ]
  },
  {
   "cell_type": "markdown",
   "id": "2dd4021f",
   "metadata": {},
   "source": [
    "### sub 참조 구문 사용하기"
   ]
  },
  {
   "cell_type": "code",
   "execution_count": 117,
   "id": "79ce55c9",
   "metadata": {},
   "outputs": [],
   "source": [
    "p = re.compile(r\"(?P<name>\\w+)\\s+(?P<phone>(\\d+)[-]\\d+[-]\\d+)\")"
   ]
  },
  {
   "cell_type": "code",
   "execution_count": 118,
   "id": "582a8c63",
   "metadata": {},
   "outputs": [
    {
     "name": "stdout",
     "output_type": "stream",
     "text": [
      "010-1234-1234 park\n"
     ]
    }
   ],
   "source": [
    "print(p.sub(\"\\g<phone> \\g<name>\", \"park 010-1234-1234\"))"
   ]
  },
  {
   "cell_type": "code",
   "execution_count": null,
   "id": "dec6231e",
   "metadata": {},
   "outputs": [],
   "source": []
  }
 ],
 "metadata": {
  "kernelspec": {
   "display_name": "Python 3 (ipykernel)",
   "language": "python",
   "name": "python3"
  },
  "language_info": {
   "codemirror_mode": {
    "name": "ipython",
    "version": 3
   },
   "file_extension": ".py",
   "mimetype": "text/x-python",
   "name": "python",
   "nbconvert_exporter": "python",
   "pygments_lexer": "ipython3",
   "version": "3.9.12"
  }
 },
 "nbformat": 4,
 "nbformat_minor": 5
}
