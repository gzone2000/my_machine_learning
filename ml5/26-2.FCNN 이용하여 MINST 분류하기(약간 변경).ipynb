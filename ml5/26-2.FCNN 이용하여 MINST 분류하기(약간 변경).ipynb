{
 "cells": [
  {
   "cell_type": "markdown",
   "metadata": {},
   "source": [
    "# 2. FCNN 이용하여 MINST 분류하기 \n",
    "### 1번과 거의 같지만, 약간 내용 수정해서 MINST 분류함."
   ]
  },
  {
   "cell_type": "markdown",
   "metadata": {},
   "source": [
    "## Import modules"
   ]
  },
  {
   "cell_type": "code",
   "execution_count": 43,
   "metadata": {},
   "outputs": [],
   "source": [
    "import tensorflow as tf"
   ]
  },
  {
   "cell_type": "markdown",
   "metadata": {},
   "source": [
    "## 데이터 불러오기"
   ]
  },
  {
   "cell_type": "code",
   "execution_count": 56,
   "metadata": {},
   "outputs": [],
   "source": [
    "mnist = tf.keras.datasets.mnist\n",
    "(x_train, y_train), (x_test, y_test) = mnist.load_data()\n",
    "x_train, x_test = x_train / 255.0, x_test / 255.0"
   ]
  },
  {
   "cell_type": "code",
   "execution_count": 57,
   "metadata": {},
   "outputs": [
    {
     "data": {
      "text/plain": [
       "((60000, 28, 28), (10000, 28, 28))"
      ]
     },
     "execution_count": 57,
     "metadata": {},
     "output_type": "execute_result"
    }
   ],
   "source": [
    "x_train.shape, x_test.shape"
   ]
  },
  {
   "cell_type": "code",
   "execution_count": 58,
   "metadata": {},
   "outputs": [
    {
     "data": {
      "text/plain": [
       "((60000,), (10000,))"
      ]
     },
     "execution_count": 58,
     "metadata": {},
     "output_type": "execute_result"
    }
   ],
   "source": [
    "y_train.shape, y_test.shape"
   ]
  },
  {
   "cell_type": "markdown",
   "metadata": {},
   "source": [
    "## 네트워크 구조 정의"
   ]
  },
  {
   "cell_type": "markdown",
   "metadata": {},
   "source": [
    "#### ㅇ FCNN 이므로 입력 데이터를 쭉 나열해야 하므로 Flatten 함수를 사용함."
   ]
  },
  {
   "cell_type": "code",
   "execution_count": 59,
   "metadata": {},
   "outputs": [],
   "source": [
    "from tensorflow.keras.models import Sequential\n",
    "from tensorflow.keras.layers import Dense, Dropout"
   ]
  },
  {
   "cell_type": "code",
   "execution_count": 60,
   "metadata": {},
   "outputs": [
    {
     "data": {
      "text/plain": [
       "((60000, 784), (10000, 784))"
      ]
     },
     "execution_count": 60,
     "metadata": {},
     "output_type": "execute_result"
    }
   ],
   "source": [
    "# Flatten the images\n",
    "image_vector_size = 28*28\n",
    "x_train = x_train.reshape(x_train.shape[0], image_vector_size)\n",
    "x_test = x_test.reshape(x_test.shape[0], image_vector_size)\n",
    "x_train.shape, x_test.shape"
   ]
  },
  {
   "cell_type": "code",
   "execution_count": 61,
   "metadata": {},
   "outputs": [],
   "source": [
    "model = Sequential()\n",
    "model.add(Dense(128, activation='relu', input_shape=(28*28,)))\n",
    "model.add(Dropout(0.2))\n",
    "model.add(Dense(10, activation='softmax'))"
   ]
  },
  {
   "cell_type": "markdown",
   "metadata": {},
   "source": [
    "## Keras 모델 Compile"
   ]
  },
  {
   "cell_type": "code",
   "execution_count": 62,
   "metadata": {},
   "outputs": [],
   "source": [
    "from tensorflow.keras.utils import to_categorical\n",
    "y_train = to_categorical(y_train, num_classes=10)\n",
    "y_test = to_categorical(y_test, num_classes=10)"
   ]
  },
  {
   "cell_type": "code",
   "execution_count": 63,
   "metadata": {},
   "outputs": [
    {
     "data": {
      "text/plain": [
       "((60000, 10), (10000, 10))"
      ]
     },
     "execution_count": 63,
     "metadata": {},
     "output_type": "execute_result"
    }
   ],
   "source": [
    "y_train.shape, y_test.shape"
   ]
  },
  {
   "cell_type": "code",
   "execution_count": 64,
   "metadata": {},
   "outputs": [
    {
     "name": "stdout",
     "output_type": "stream",
     "text": [
      "Model: \"sequential_6\"\n",
      "_________________________________________________________________\n",
      "Layer (type)                 Output Shape              Param #   \n",
      "=================================================================\n",
      "dense_12 (Dense)             (None, 128)               100480    \n",
      "_________________________________________________________________\n",
      "dropout_6 (Dropout)          (None, 128)               0         \n",
      "_________________________________________________________________\n",
      "dense_13 (Dense)             (None, 10)                1290      \n",
      "=================================================================\n",
      "Total params: 101,770\n",
      "Trainable params: 101,770\n",
      "Non-trainable params: 0\n",
      "_________________________________________________________________\n"
     ]
    }
   ],
   "source": [
    "model.compile(optimizer='adam',\n",
    "             loss='categorical_crossentropy',\n",
    "             metrics=['accuracy'])\n",
    "model.summary()"
   ]
  },
  {
   "cell_type": "markdown",
   "metadata": {},
   "source": [
    "## 학습 수행"
   ]
  },
  {
   "cell_type": "code",
   "execution_count": 65,
   "metadata": {},
   "outputs": [],
   "source": [
    "EPOCHS = 50\n",
    "BATCH_SIZE = 1024"
   ]
  },
  {
   "cell_type": "code",
   "execution_count": 66,
   "metadata": {},
   "outputs": [],
   "source": [
    "from tensorflow.keras.callbacks import EarlyStopping, ModelCheckpoint"
   ]
  },
  {
   "cell_type": "code",
   "execution_count": 67,
   "metadata": {},
   "outputs": [],
   "source": [
    "es = EarlyStopping(monitor='val_loss', patience=4, mode='min', verbose=1)\n",
    "mc = ModelCheckpoint('best_model.h5', monitor='val_accuracy', mode='max', save_best_only=True, verbose=1)"
   ]
  },
  {
   "cell_type": "code",
   "execution_count": 68,
   "metadata": {
    "scrolled": true
   },
   "outputs": [
    {
     "name": "stdout",
     "output_type": "stream",
     "text": [
      "Train on 60000 samples, validate on 10000 samples\n",
      "Epoch 1/50\n",
      "59392/60000 [============================>.] - ETA: 0s - loss: 0.8490 - accuracy: 0.7614\n",
      "Epoch 00001: val_accuracy improved from -inf to 0.90420, saving model to best_model.h5\n",
      "60000/60000 [==============================] - 5s 84us/sample - loss: 0.8442 - accuracy: 0.7628 - val_loss: 0.3489 - val_accuracy: 0.9042\n",
      "Epoch 2/50\n",
      "59392/60000 [============================>.] - ETA: 0s - loss: 0.3489 - accuracy: 0.9013\n",
      "Epoch 00002: val_accuracy improved from 0.90420 to 0.92650, saving model to best_model.h5\n",
      "60000/60000 [==============================] - 4s 68us/sample - loss: 0.3485 - accuracy: 0.9015 - val_loss: 0.2601 - val_accuracy: 0.9265\n",
      "Epoch 3/50\n",
      "59392/60000 [============================>.] - ETA: 0s - loss: 0.2775 - accuracy: 0.9219\n",
      "Epoch 00003: val_accuracy improved from 0.92650 to 0.93740, saving model to best_model.h5\n",
      "60000/60000 [==============================] - 4s 67us/sample - loss: 0.2769 - accuracy: 0.9220 - val_loss: 0.2184 - val_accuracy: 0.9374\n",
      "Epoch 4/50\n",
      "59392/60000 [============================>.] - ETA: 0s - loss: 0.2382 - accuracy: 0.9327\n",
      "Epoch 00004: val_accuracy improved from 0.93740 to 0.94330, saving model to best_model.h5\n",
      "60000/60000 [==============================] - 4s 68us/sample - loss: 0.2378 - accuracy: 0.9329 - val_loss: 0.1947 - val_accuracy: 0.9433\n",
      "Epoch 5/50\n",
      "59392/60000 [============================>.] - ETA: 0s - loss: 0.2117 - accuracy: 0.9397\n",
      "Epoch 00005: val_accuracy improved from 0.94330 to 0.95150, saving model to best_model.h5\n",
      "60000/60000 [==============================] - 4s 70us/sample - loss: 0.2115 - accuracy: 0.9398 - val_loss: 0.1722 - val_accuracy: 0.9515\n",
      "Epoch 6/50\n",
      "59392/60000 [============================>.] - ETA: 0s - loss: 0.1894 - accuracy: 0.9452\n",
      "Epoch 00006: val_accuracy improved from 0.95150 to 0.95660, saving model to best_model.h5\n",
      "60000/60000 [==============================] - 4s 70us/sample - loss: 0.1898 - accuracy: 0.9451 - val_loss: 0.1564 - val_accuracy: 0.9566\n",
      "Epoch 7/50\n",
      "59392/60000 [============================>.] - ETA: 0s - loss: 0.1724 - accuracy: 0.9499\n",
      "Epoch 00007: val_accuracy improved from 0.95660 to 0.95970, saving model to best_model.h5\n",
      "60000/60000 [==============================] - 4s 69us/sample - loss: 0.1723 - accuracy: 0.9500 - val_loss: 0.1439 - val_accuracy: 0.9597\n",
      "Epoch 8/50\n",
      "59392/60000 [============================>.] - ETA: 0s - loss: 0.1592 - accuracy: 0.9546\n",
      "Epoch 00008: val_accuracy improved from 0.95970 to 0.96200, saving model to best_model.h5\n",
      "60000/60000 [==============================] - 4s 68us/sample - loss: 0.1592 - accuracy: 0.9547 - val_loss: 0.1342 - val_accuracy: 0.9620\n",
      "Epoch 9/50\n",
      "59392/60000 [============================>.] - ETA: 0s - loss: 0.1483 - accuracy: 0.9569\n",
      "Epoch 00009: val_accuracy improved from 0.96200 to 0.96360, saving model to best_model.h5\n",
      "60000/60000 [==============================] - 4s 68us/sample - loss: 0.1483 - accuracy: 0.9570 - val_loss: 0.1274 - val_accuracy: 0.9636\n",
      "Epoch 10/50\n",
      "59392/60000 [============================>.] - ETA: 0s - loss: 0.1387 - accuracy: 0.9602\n",
      "Epoch 00010: val_accuracy improved from 0.96360 to 0.96660, saving model to best_model.h5\n",
      "60000/60000 [==============================] - 4s 69us/sample - loss: 0.1382 - accuracy: 0.9603 - val_loss: 0.1188 - val_accuracy: 0.9666\n",
      "Epoch 11/50\n",
      "59392/60000 [============================>.] - ETA: 0s - loss: 0.1293 - accuracy: 0.9626\n",
      "Epoch 00011: val_accuracy improved from 0.96660 to 0.96700, saving model to best_model.h5\n",
      "60000/60000 [==============================] - 4s 68us/sample - loss: 0.1293 - accuracy: 0.9626 - val_loss: 0.1126 - val_accuracy: 0.9670\n",
      "Epoch 12/50\n",
      "59392/60000 [============================>.] - ETA: 0s - loss: 0.1213 - accuracy: 0.9648\n",
      "Epoch 00012: val_accuracy improved from 0.96700 to 0.96920, saving model to best_model.h5\n",
      "60000/60000 [==============================] - 4s 72us/sample - loss: 0.1215 - accuracy: 0.9647 - val_loss: 0.1078 - val_accuracy: 0.9692\n",
      "Epoch 13/50\n",
      "59392/60000 [============================>.] - ETA: 0s - loss: 0.1145 - accuracy: 0.9671\n",
      "Epoch 00013: val_accuracy improved from 0.96920 to 0.97010, saving model to best_model.h5\n",
      "60000/60000 [==============================] - 4s 66us/sample - loss: 0.1142 - accuracy: 0.9671 - val_loss: 0.1021 - val_accuracy: 0.9701\n",
      "Epoch 14/50\n",
      "59392/60000 [============================>.] - ETA: 0s - loss: 0.1082 - accuracy: 0.9680\n",
      "Epoch 00014: val_accuracy improved from 0.97010 to 0.97130, saving model to best_model.h5\n",
      "60000/60000 [==============================] - 4s 66us/sample - loss: 0.1083 - accuracy: 0.9680 - val_loss: 0.0992 - val_accuracy: 0.9713\n",
      "Epoch 15/50\n",
      "59392/60000 [============================>.] - ETA: 0s - loss: 0.1023 - accuracy: 0.9697\n",
      "Epoch 00015: val_accuracy improved from 0.97130 to 0.97200, saving model to best_model.h5\n",
      "60000/60000 [==============================] - 4s 67us/sample - loss: 0.1024 - accuracy: 0.9696 - val_loss: 0.0952 - val_accuracy: 0.9720\n",
      "Epoch 16/50\n",
      "59392/60000 [============================>.] - ETA: 0s - loss: 0.0972 - accuracy: 0.9713\n",
      "Epoch 00016: val_accuracy improved from 0.97200 to 0.97300, saving model to best_model.h5\n",
      "60000/60000 [==============================] - 4s 74us/sample - loss: 0.0972 - accuracy: 0.9714 - val_loss: 0.0919 - val_accuracy: 0.9730\n",
      "Epoch 17/50\n",
      "59392/60000 [============================>.] - ETA: 0s - loss: 0.0928 - accuracy: 0.9728 ETA: 0s - loss: 0.092\n",
      "Epoch 00017: val_accuracy did not improve from 0.97300\n",
      "60000/60000 [==============================] - 4s 70us/sample - loss: 0.0927 - accuracy: 0.9728 - val_loss: 0.0907 - val_accuracy: 0.9722\n",
      "Epoch 18/50\n",
      "59392/60000 [============================>.] - ETA: 0s - loss: 0.0883 - accuracy: 0.9741\n",
      "Epoch 00018: val_accuracy improved from 0.97300 to 0.97400, saving model to best_model.h5\n",
      "60000/60000 [==============================] - 4s 75us/sample - loss: 0.0883 - accuracy: 0.9741 - val_loss: 0.0863 - val_accuracy: 0.9740\n",
      "Epoch 19/50\n",
      "59392/60000 [============================>.] - ETA: 0s - loss: 0.0843 - accuracy: 0.9748\n",
      "Epoch 00019: val_accuracy improved from 0.97400 to 0.97420, saving model to best_model.h5\n",
      "60000/60000 [==============================] - 4s 70us/sample - loss: 0.0842 - accuracy: 0.9747 - val_loss: 0.0849 - val_accuracy: 0.9742\n",
      "Epoch 20/50\n",
      "59392/60000 [============================>.] - ETA: 0s - loss: 0.0808 - accuracy: 0.9763\n",
      "Epoch 00020: val_accuracy improved from 0.97420 to 0.97560, saving model to best_model.h5\n",
      "60000/60000 [==============================] - 4s 69us/sample - loss: 0.0812 - accuracy: 0.9762 - val_loss: 0.0821 - val_accuracy: 0.9756\n",
      "Epoch 21/50\n",
      "59392/60000 [============================>.] - ETA: 0s - loss: 0.0776 - accuracy: 0.9768\n",
      "Epoch 00021: val_accuracy did not improve from 0.97560\n",
      "60000/60000 [==============================] - 4s 71us/sample - loss: 0.0778 - accuracy: 0.9767 - val_loss: 0.0820 - val_accuracy: 0.9754\n",
      "Epoch 22/50\n",
      "59392/60000 [============================>.] - ETA: 0s - loss: 0.0741 - accuracy: 0.9783\n",
      "Epoch 00022: val_accuracy improved from 0.97560 to 0.97590, saving model to best_model.h5\n",
      "60000/60000 [==============================] - 5s 79us/sample - loss: 0.0740 - accuracy: 0.9783 - val_loss: 0.0784 - val_accuracy: 0.9759\n",
      "Epoch 23/50\n",
      "59392/60000 [============================>.] - ETA: 0s - loss: 0.0693 - accuracy: 0.9792\n",
      "Epoch 00023: val_accuracy improved from 0.97590 to 0.97710, saving model to best_model.h5\n",
      "60000/60000 [==============================] - 4s 69us/sample - loss: 0.0693 - accuracy: 0.9793 - val_loss: 0.0768 - val_accuracy: 0.9771\n",
      "Epoch 24/50\n",
      "59392/60000 [============================>.] - ETA: 0s - loss: 0.0671 - accuracy: 0.9795\n",
      "Epoch 00024: val_accuracy did not improve from 0.97710\n",
      "60000/60000 [==============================] - 5s 76us/sample - loss: 0.0673 - accuracy: 0.9795 - val_loss: 0.0757 - val_accuracy: 0.9767\n",
      "Epoch 25/50\n",
      "59392/60000 [============================>.] - ETA: 0s - loss: 0.0648 - accuracy: 0.9807\n",
      "Epoch 00025: val_accuracy did not improve from 0.97710\n",
      "60000/60000 [==============================] - 5s 75us/sample - loss: 0.0647 - accuracy: 0.9808 - val_loss: 0.0758 - val_accuracy: 0.9769\n",
      "Epoch 26/50\n"
     ]
    },
    {
     "name": "stdout",
     "output_type": "stream",
     "text": [
      "59392/60000 [============================>.] - ETA: 0s - loss: 0.0629 - accuracy: 0.9811\n",
      "Epoch 00026: val_accuracy improved from 0.97710 to 0.97730, saving model to best_model.h5\n",
      "60000/60000 [==============================] - 4s 74us/sample - loss: 0.0628 - accuracy: 0.9811 - val_loss: 0.0736 - val_accuracy: 0.9773\n",
      "Epoch 27/50\n",
      "59392/60000 [============================>.] - ETA: 0s - loss: 0.0595 - accuracy: 0.9825\n",
      "Epoch 00027: val_accuracy improved from 0.97730 to 0.97790, saving model to best_model.h5\n",
      "60000/60000 [==============================] - 4s 66us/sample - loss: 0.0594 - accuracy: 0.9825 - val_loss: 0.0739 - val_accuracy: 0.9779\n",
      "Epoch 28/50\n",
      "59392/60000 [============================>.] - ETA: 0s - loss: 0.0598 - accuracy: 0.9822\n",
      "Epoch 00028: val_accuracy did not improve from 0.97790\n",
      "60000/60000 [==============================] - 4s 62us/sample - loss: 0.0597 - accuracy: 0.9822 - val_loss: 0.0711 - val_accuracy: 0.9778\n",
      "Epoch 29/50\n",
      "59392/60000 [============================>.] - ETA: 0s - loss: 0.0561 - accuracy: 0.9835\n",
      "Epoch 00029: val_accuracy improved from 0.97790 to 0.97800, saving model to best_model.h5\n",
      "60000/60000 [==============================] - 4s 71us/sample - loss: 0.0559 - accuracy: 0.9836 - val_loss: 0.0709 - val_accuracy: 0.9780\n",
      "Epoch 30/50\n",
      "59392/60000 [============================>.] - ETA: 0s - loss: 0.0533 - accuracy: 0.9846\n",
      "Epoch 00030: val_accuracy did not improve from 0.97800\n",
      "60000/60000 [==============================] - 4s 63us/sample - loss: 0.0532 - accuracy: 0.9847 - val_loss: 0.0708 - val_accuracy: 0.9779\n",
      "Epoch 31/50\n",
      "59392/60000 [============================>.] - ETA: 0s - loss: 0.0510 - accuracy: 0.9846 ETA: 0s - loss: 0.0506 \n",
      "Epoch 00031: val_accuracy improved from 0.97800 to 0.97880, saving model to best_model.h5\n",
      "60000/60000 [==============================] - 4s 64us/sample - loss: 0.0512 - accuracy: 0.9845 - val_loss: 0.0699 - val_accuracy: 0.9788\n",
      "Epoch 32/50\n",
      "59392/60000 [============================>.] - ETA: 0s - loss: 0.0518 - accuracy: 0.9844\n",
      "Epoch 00032: val_accuracy did not improve from 0.97880\n",
      "60000/60000 [==============================] - 4s 62us/sample - loss: 0.0520 - accuracy: 0.9843 - val_loss: 0.0704 - val_accuracy: 0.9788\n",
      "Epoch 33/50\n",
      "59392/60000 [============================>.] - ETA: 0s - loss: 0.0501 - accuracy: 0.9847\n",
      "Epoch 00033: val_accuracy improved from 0.97880 to 0.97910, saving model to best_model.h5\n",
      "60000/60000 [==============================] - 4s 63us/sample - loss: 0.0500 - accuracy: 0.9847 - val_loss: 0.0682 - val_accuracy: 0.9791\n",
      "Epoch 34/50\n",
      "59392/60000 [============================>.] - ETA: 0s - loss: 0.0485 - accuracy: 0.9849\n",
      "Epoch 00034: val_accuracy did not improve from 0.97910\n",
      "60000/60000 [==============================] - 4s 73us/sample - loss: 0.0487 - accuracy: 0.9849 - val_loss: 0.0692 - val_accuracy: 0.9786\n",
      "Epoch 35/50\n",
      "59392/60000 [============================>.] - ETA: 0s - loss: 0.0454 - accuracy: 0.9866\n",
      "Epoch 00035: val_accuracy did not improve from 0.97910\n",
      "60000/60000 [==============================] - 4s 70us/sample - loss: 0.0455 - accuracy: 0.9866 - val_loss: 0.0682 - val_accuracy: 0.9790\n",
      "Epoch 36/50\n",
      "59392/60000 [============================>.] - ETA: 0s - loss: 0.0450 - accuracy: 0.9862\n",
      "Epoch 00036: val_accuracy improved from 0.97910 to 0.97970, saving model to best_model.h5\n",
      "60000/60000 [==============================] - 4s 70us/sample - loss: 0.0449 - accuracy: 0.9862 - val_loss: 0.0661 - val_accuracy: 0.9797\n",
      "Epoch 37/50\n",
      "59392/60000 [============================>.] - ETA: 0s - loss: 0.0448 - accuracy: 0.9860\n",
      "Epoch 00037: val_accuracy did not improve from 0.97970\n",
      "60000/60000 [==============================] - 4s 72us/sample - loss: 0.0448 - accuracy: 0.9861 - val_loss: 0.0683 - val_accuracy: 0.9789\n",
      "Epoch 38/50\n",
      "59392/60000 [============================>.] - ETA: 0s - loss: 0.0437 - accuracy: 0.9864\n",
      "Epoch 00038: val_accuracy improved from 0.97970 to 0.98000, saving model to best_model.h5\n",
      "60000/60000 [==============================] - 4s 69us/sample - loss: 0.0437 - accuracy: 0.9864 - val_loss: 0.0666 - val_accuracy: 0.9800\n",
      "Epoch 39/50\n",
      "59392/60000 [============================>.] - ETA: 0s - loss: 0.0416 - accuracy: 0.9872 ETA: 0s - loss: 0.0414 - accuracy\n",
      "Epoch 00039: val_accuracy did not improve from 0.98000\n",
      "60000/60000 [==============================] - 4s 65us/sample - loss: 0.0415 - accuracy: 0.9873 - val_loss: 0.0667 - val_accuracy: 0.9791\n",
      "Epoch 40/50\n",
      "59392/60000 [============================>.] - ETA: 0s - loss: 0.0392 - accuracy: 0.9880\n",
      "Epoch 00040: val_accuracy did not improve from 0.98000\n",
      "60000/60000 [==============================] - 4s 73us/sample - loss: 0.0392 - accuracy: 0.9880 - val_loss: 0.0652 - val_accuracy: 0.9791\n",
      "Epoch 41/50\n",
      "59392/60000 [============================>.] - ETA: 0s - loss: 0.0385 - accuracy: 0.9886\n",
      "Epoch 00041: val_accuracy did not improve from 0.98000\n",
      "60000/60000 [==============================] - 6s 98us/sample - loss: 0.0386 - accuracy: 0.9886 - val_loss: 0.0665 - val_accuracy: 0.9792\n",
      "Epoch 42/50\n",
      "59392/60000 [============================>.] - ETA: 0s - loss: 0.0375 - accuracy: 0.9886\n",
      "Epoch 00042: val_accuracy did not improve from 0.98000\n",
      "60000/60000 [==============================] - 4s 68us/sample - loss: 0.0375 - accuracy: 0.9886 - val_loss: 0.0666 - val_accuracy: 0.9799\n",
      "Epoch 43/50\n",
      "59392/60000 [============================>.] - ETA: 0s - loss: 0.0375 - accuracy: 0.9882\n",
      "Epoch 00043: val_accuracy did not improve from 0.98000\n",
      "60000/60000 [==============================] - 4s 64us/sample - loss: 0.0376 - accuracy: 0.9882 - val_loss: 0.0659 - val_accuracy: 0.9797\n",
      "Epoch 44/50\n",
      "59392/60000 [============================>.] - ETA: 0s - loss: 0.0363 - accuracy: 0.9888\n",
      "Epoch 00044: val_accuracy improved from 0.98000 to 0.98020, saving model to best_model.h5\n",
      "60000/60000 [==============================] - 4s 63us/sample - loss: 0.0363 - accuracy: 0.9889 - val_loss: 0.0656 - val_accuracy: 0.9802\n",
      "Epoch 00044: early stopping\n"
     ]
    }
   ],
   "source": [
    "history = model.fit(x_train, y_train, epochs=EPOCHS, batch_size=BATCH_SIZE, callbacks=[es, mc], validation_data=(x_test, y_test))"
   ]
  },
  {
   "cell_type": "markdown",
   "metadata": {},
   "source": [
    "## 학습 결과 테스트"
   ]
  },
  {
   "cell_type": "code",
   "execution_count": 69,
   "metadata": {},
   "outputs": [
    {
     "name": "stdout",
     "output_type": "stream",
     "text": [
      "10000/10000 [==============================] - 1s 89us/sample - loss: 0.0656 - accuracy: 0.9802\n"
     ]
    },
    {
     "data": {
      "text/plain": [
       "[0.06562311298339628, 0.9802]"
      ]
     },
     "execution_count": 69,
     "metadata": {},
     "output_type": "execute_result"
    }
   ],
   "source": [
    "model.evaluate(x_test, y_test)"
   ]
  },
  {
   "cell_type": "markdown",
   "metadata": {},
   "source": [
    "## 성능 그래프"
   ]
  },
  {
   "cell_type": "code",
   "execution_count": 70,
   "metadata": {},
   "outputs": [],
   "source": [
    "import matplotlib.pyplot as plt\n",
    "%matplotlib inline"
   ]
  },
  {
   "cell_type": "code",
   "execution_count": 71,
   "metadata": {},
   "outputs": [],
   "source": [
    "x_range = range(1,len(history.history['accuracy'])+1)"
   ]
  },
  {
   "cell_type": "code",
   "execution_count": 72,
   "metadata": {},
   "outputs": [
    {
     "data": {
      "text/plain": [
       "<matplotlib.legend.Legend at 0x284059cc688>"
      ]
     },
     "execution_count": 72,
     "metadata": {},
     "output_type": "execute_result"
    },
    {
     "data": {
      "image/png": "[encoded data removed]",
      "text/plain": [
       "<Figure size 720x432 with 2 Axes>"
      ]
     },
     "metadata": {
      "needs_background": "light"
     },
     "output_type": "display_data"
    }
   ],
   "source": [
    "plt.figure(figsize=(10,6))\n",
    "plt.subplot(221)\n",
    "plt.plot(x_range, history.history['accuracy'], color='red', label='Accuracy')\n",
    "plt.plot(x_range, history.history['val_accuracy'], color='green', label='Validation Accuracy')\n",
    "plt.xlabel('Epochs')\n",
    "plt.ylabel('Accuracy')\n",
    "plt.legend()\n",
    "plt.subplot(222)\n",
    "plt.plot(x_range, history.history['loss'], color='red', label='Loss')\n",
    "plt.plot(x_range, history.history['val_loss'], color='green', label='Validation Loss')\n",
    "plt.xlabel('Epochs')\n",
    "plt.ylabel('Loss')\n",
    "plt.legend()"
   ]
  },
  {
   "cell_type": "markdown",
   "metadata": {},
   "source": [
    "# 실전 테스트"
   ]
  },
  {
   "cell_type": "code",
   "execution_count": 73,
   "metadata": {},
   "outputs": [
    {
     "data": {
      "text/plain": [
       "(784,)"
      ]
     },
     "execution_count": 73,
     "metadata": {},
     "output_type": "execute_result"
    }
   ],
   "source": [
    "x_test[0].shape"
   ]
  },
  {
   "cell_type": "code",
   "execution_count": 79,
   "metadata": {},
   "outputs": [
    {
     "data": {
      "image/png": "[encoded data removed]",
      "text/plain": [
       "<Figure size 432x288 with 1 Axes>"
      ]
     },
     "metadata": {
      "needs_background": "light"
     },
     "output_type": "display_data"
    },
    {
     "name": "stdout",
     "output_type": "stream",
     "text": [
      "The Answer is  [7]\n"
     ]
    }
   ],
   "source": [
    "n = 0\n",
    "plt.imshow(x_test[n].reshape(28,28), cmap='Greys', interpolation='nearest')\n",
    "plt.show()\n",
    "\n",
    "print('The Answer is ', model.predict_classes(x_test[n].reshape(1,28*28)))"
   ]
  },
  {
   "cell_type": "code",
   "execution_count": 80,
   "metadata": {},
   "outputs": [
    {
     "data": {
      "image/png": "[encoded data removed]",
      "text/plain": [
       "<Figure size 432x288 with 1 Axes>"
      ]
     },
     "metadata": {
      "needs_background": "light"
     },
     "output_type": "display_data"
    },
    {
     "name": "stdout",
     "output_type": "stream",
     "text": [
      "The Answer is  [[1.4009700e-08 1.8132864e-09 1.7795819e-07 1.1393610e-04 1.5357125e-11\n",
      "  4.2255024e-08 1.2094495e-12 9.9988484e-01 1.6763769e-08 9.4851077e-07]]\n"
     ]
    }
   ],
   "source": [
    "n = 0\n",
    "plt.imshow(x_test[n].reshape(28, 28), cmap='Greys', interpolation='nearest')\n",
    "plt.show()\n",
    "\n",
    "print('The Answer is ', model.predict(x_test[n].reshape(1,28*28)))"
   ]
  },
  {
   "cell_type": "code",
   "execution_count": null,
   "metadata": {},
   "outputs": [],
   "source": []
  }
 ],
 "metadata": {
  "kernelspec": {
   "display_name": "Python 3",
   "language": "python",
   "name": "python3"
  },
  "language_info": {
   "codemirror_mode": {
    "name": "ipython",
    "version": 3
   },
   "file_extension": ".py",
   "mimetype": "text/x-python",
   "name": "python",
   "nbconvert_exporter": "python",
   "pygments_lexer": "ipython3",
   "version": "3.7.6"
  }
 },
 "nbformat": 4,
 "nbformat_minor": 2
}
