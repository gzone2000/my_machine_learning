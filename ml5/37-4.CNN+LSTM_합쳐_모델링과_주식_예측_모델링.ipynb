{
  "nbformat": 4,
  "nbformat_minor": 0,
  "metadata": {
    "colab": {
      "name": "CNN+LSTM 합쳐 모델링과 주식 예측 모델링",
      "provenance": [],
      "collapsed_sections": []
    },
    "kernelspec": {
      "name": "python3",
      "display_name": "Python 3"
    },
    "accelerator": "GPU"
  },
  "cells": [
    {
      "cell_type": "code",
      "metadata": {
        "colab": {
          "base_uri": "https://localhost:8080/"
        },
        "id": "5RfdwrYqC4jt",
        "outputId": "dc262588-993c-4dd2-b9f6-2bad14ebc364"
      },
      "source": [
        "import tensorflow as tf\r\n",
        "\r\n",
        "(x_train, y_train), (x_test, y_test) = tf.keras.datasets.mnist.load_data()\r\n",
        "print(x_train.shape, y_train.shape)\r\n",
        "print(x_test.shape, y_test.shape)"
      ],
      "execution_count": null,
      "outputs": [
        {
          "output_type": "stream",
          "text": [
            "(60000, 28, 28) (60000,)\n",
            "(10000, 28, 28) (10000,)\n"
          ],
          "name": "stdout"
        }
      ]
    },
    {
      "cell_type": "code",
      "metadata": {
        "id": "jVN7tCnME4S7"
      },
      "source": [
        "X = tf.keras.layers.Input(shape=[28, 28])\r\n",
        "H = tf.keras.layers.Flatten()(X)\r\n",
        "H = tf.keras.layers.Dense(128, activation='relu')(H)\r\n",
        "Y = tf.keras.layers.Dense(10, activation=\"softmax\")(H)\r\n",
        "\r\n",
        "model = tf.keras.Model(X, Y)\r\n",
        "model.compile(loss='sparse_categorical_crossentropy', metrics='accuracy')"
      ],
      "execution_count": null,
      "outputs": []
    },
    {
      "cell_type": "code",
      "metadata": {
        "id": "6DoNVay9Fj0P"
      },
      "source": [
        "model.fit(x_train, y_train, epochs=10, batch_size=128, validation_split=0.2)"
      ],
      "execution_count": null,
      "outputs": []
    },
    {
      "cell_type": "markdown",
      "metadata": {
        "id": "LFw9G7r0GaEX"
      },
      "source": [
        "## 기존의 정석"
      ]
    },
    {
      "cell_type": "code",
      "metadata": {
        "colab": {
          "base_uri": "https://localhost:8080/"
        },
        "id": "2IaeGVtFFsNK",
        "outputId": "bc5fd4c5-acbb-4bf5-8f94-0198e721f293"
      },
      "source": [
        "import tensorflow as tf\r\n",
        "\r\n",
        "(x_train, y_train), (x_test, y_test) = tf.keras.datasets.mnist.load_data()\r\n",
        "\r\n",
        "x_train = x_train.reshape(-1, 28 * 28)\r\n",
        "x_test = x_test.reshape(-1, 28 * 28)\r\n",
        "\r\n",
        "y_train = tf.keras.utils.to_categorical(y_train)\r\n",
        "y_test = tf.keras.utils.to_categorical(y_test)\r\n",
        "\r\n",
        "print(x_train.shape, y_train.shape)\r\n",
        "print(x_test.shape, y_test.shape)\r\n"
      ],
      "execution_count": null,
      "outputs": [
        {
          "output_type": "stream",
          "text": [
            "(60000, 784) (60000, 10)\n",
            "(10000, 784) (10000, 10)\n"
          ],
          "name": "stdout"
        }
      ]
    },
    {
      "cell_type": "code",
      "metadata": {
        "id": "Y6eKW-i6GmEt"
      },
      "source": [
        "X = tf.keras.layers.Input(shape=[784])\r\n",
        "H = tf.keras.layers.Flatten()(X)\r\n",
        "H = tf.keras.layers.Dense(128, activation='relu')(H)\r\n",
        "Y = tf.keras.layers.Dense(10, activation=\"softmax\")(H)\r\n",
        "\r\n",
        "model = tf.keras.Model(X, Y)\r\n",
        "model.compile(loss='categorical_crossentropy', metrics='accuracy')"
      ],
      "execution_count": null,
      "outputs": []
    },
    {
      "cell_type": "code",
      "metadata": {
        "id": "nXKv_siaGzxn"
      },
      "source": [
        "model.fit(x_train, y_train, epochs=10, batch_size=128, validation_split=0.2)"
      ],
      "execution_count": null,
      "outputs": []
    },
    {
      "cell_type": "markdown",
      "metadata": {
        "id": "DqM35OIAcw4z"
      },
      "source": [
        "## CNN\r\n",
        "LeNet\r\n",
        "<img src=\"https://lh3.googleusercontent.com/proxy/AZu6SeQGpnRQ14uP-t2DkGX7UFLkxtKz0bh11Axjf0-KgFCO5bWYgTNZyYY4gzdXH45jCCYSjOnhEDTe5O0SCoxDZlpngfqyUN0Pk7kd4WrIPLktBA3LDCvps0CukgIfi4E3DIqCQh3_Y4QpFUnCI36okfQilV5ce4-ONfwZWQLnhDOOKBlrFhdeZaoii23dwvHva9b69tARPwEYnufu9Jt2Kt_x9Cfd2pksOzaX-N6KENDRvIWCBlQnJsDps-iqNoqn2699XCsNKNqxB_k\">"
      ]
    },
    {
      "cell_type": "code",
      "metadata": {
        "id": "RzCVEsvfG1Ku",
        "colab": {
          "base_uri": "https://localhost:8080/"
        },
        "outputId": "8b221278-bc9b-492e-c357-9dc3d6fff4f6"
      },
      "source": [
        "import tensorflow as tf\r\n",
        "\r\n",
        "(x_train, y_train), (x_test, y_test) = tf.keras.datasets.mnist.load_data()\r\n",
        "print(x_train.shape, y_train.shape)\r\n",
        "\r\n",
        "x_train = x_train.reshape(-1, 28, 28, 1) / 255\r\n",
        "x_test = x_test.reshape(-1, 28, 28, 1) / 255\r\n",
        "\r\n",
        "print(x_train.shape, y_train.shape)"
      ],
      "execution_count": null,
      "outputs": [
        {
          "output_type": "stream",
          "text": [
            "(60000, 28, 28) (60000,)\n",
            "(60000, 28, 28, 1) (60000,)\n"
          ],
          "name": "stdout"
        }
      ]
    },
    {
      "cell_type": "code",
      "metadata": {
        "id": "SESXtXd8dKxZ"
      },
      "source": [
        "X = tf.keras.layers.Input(shape=[28, 28, 1])\r\n",
        "\r\n",
        "H = tf.keras.layers.Conv2D(6, kernel_size=5, padding='same', activation='swish')(X)\r\n",
        "# (5, 5, 1) x 6 => (28, 28, 6)\r\n",
        "H = tf.keras.layers.MaxPool2D()(H)\r\n",
        "\r\n",
        "H = tf.keras.layers.Conv2D(16, kernel_size=5, activation='swish')(H)\r\n",
        "# (5, 5, 6) x 16 => (24, 24, 16)\r\n",
        "H = tf.keras.layers.MaxPool2D()(H)\r\n",
        "\r\n",
        "H = tf.keras.layers.Flatten()(H)\r\n",
        "H = tf.keras.layers.Dense(120, activation='swish')(H)\r\n",
        "H = tf.keras.layers.Dense(84, activation='swish')(H)\r\n",
        "Y = tf.keras.layers.Dense(10, activation='softmax')(H)\r\n",
        "\r\n",
        "model = tf.keras.Model(X, Y)\r\n",
        "model.compile(loss='sparse_categorical_crossentropy', metrics='accuracy')"
      ],
      "execution_count": null,
      "outputs": []
    },
    {
      "cell_type": "code",
      "metadata": {
        "colab": {
          "base_uri": "https://localhost:8080/"
        },
        "id": "RSwU-n3leQ0s",
        "outputId": "ca215b5a-c2ef-4475-ca04-8ef0b2dd7ac2"
      },
      "source": [
        "model.summary()"
      ],
      "execution_count": null,
      "outputs": [
        {
          "output_type": "stream",
          "text": [
            "Model: \"model_4\"\n",
            "_________________________________________________________________\n",
            "Layer (type)                 Output Shape              Param #   \n",
            "=================================================================\n",
            "input_5 (InputLayer)         [(None, 28, 28, 1)]       0         \n",
            "_________________________________________________________________\n",
            "conv2d_4 (Conv2D)            (None, 28, 28, 6)         156       \n",
            "_________________________________________________________________\n",
            "max_pooling2d_4 (MaxPooling2 (None, 14, 14, 6)         0         \n",
            "_________________________________________________________________\n",
            "conv2d_5 (Conv2D)            (None, 10, 10, 16)        2416      \n",
            "_________________________________________________________________\n",
            "max_pooling2d_5 (MaxPooling2 (None, 5, 5, 16)          0         \n",
            "_________________________________________________________________\n",
            "flatten_4 (Flatten)          (None, 400)               0         \n",
            "_________________________________________________________________\n",
            "dense_10 (Dense)             (None, 120)               48120     \n",
            "_________________________________________________________________\n",
            "dense_11 (Dense)             (None, 84)                10164     \n",
            "_________________________________________________________________\n",
            "dense_12 (Dense)             (None, 10)                850       \n",
            "=================================================================\n",
            "Total params: 61,706\n",
            "Trainable params: 61,706\n",
            "Non-trainable params: 0\n",
            "_________________________________________________________________\n"
          ],
          "name": "stdout"
        }
      ]
    },
    {
      "cell_type": "code",
      "metadata": {
        "colab": {
          "base_uri": "https://localhost:8080/"
        },
        "id": "7HCYax5jeSs-",
        "outputId": "7a6ed8af-52a3-465a-d40d-ca3326eb8aff"
      },
      "source": [
        "model.fit(x_train, y_train, epochs=10, batch_size=128, validation_split=0.2)"
      ],
      "execution_count": null,
      "outputs": [
        {
          "output_type": "stream",
          "text": [
            "Epoch 1/10\n",
            "375/375 [==============================] - 16s 40ms/step - loss: 0.6870 - accuracy: 0.7915 - val_loss: 0.1435 - val_accuracy: 0.9590\n",
            "Epoch 2/10\n",
            "375/375 [==============================] - 15s 40ms/step - loss: 0.1284 - accuracy: 0.9621 - val_loss: 0.0866 - val_accuracy: 0.9748\n",
            "Epoch 3/10\n",
            "375/375 [==============================] - 15s 40ms/step - loss: 0.0730 - accuracy: 0.9778 - val_loss: 0.0610 - val_accuracy: 0.9815\n",
            "Epoch 4/10\n",
            "375/375 [==============================] - 15s 40ms/step - loss: 0.0581 - accuracy: 0.9829 - val_loss: 0.0597 - val_accuracy: 0.9808\n",
            "Epoch 5/10\n",
            "375/375 [==============================] - 15s 40ms/step - loss: 0.0418 - accuracy: 0.9862 - val_loss: 0.0628 - val_accuracy: 0.9806\n",
            "Epoch 6/10\n",
            "375/375 [==============================] - 15s 40ms/step - loss: 0.0355 - accuracy: 0.9882 - val_loss: 0.0624 - val_accuracy: 0.9812\n",
            "Epoch 7/10\n",
            "375/375 [==============================] - 15s 40ms/step - loss: 0.0302 - accuracy: 0.9907 - val_loss: 0.0495 - val_accuracy: 0.9849\n",
            "Epoch 8/10\n",
            "375/375 [==============================] - 15s 40ms/step - loss: 0.0237 - accuracy: 0.9923 - val_loss: 0.0556 - val_accuracy: 0.9848\n",
            "Epoch 9/10\n",
            "375/375 [==============================] - 15s 40ms/step - loss: 0.0231 - accuracy: 0.9925 - val_loss: 0.0511 - val_accuracy: 0.9862\n",
            "Epoch 10/10\n",
            "375/375 [==============================] - 15s 40ms/step - loss: 0.0182 - accuracy: 0.9943 - val_loss: 0.0563 - val_accuracy: 0.9852\n"
          ],
          "name": "stdout"
        },
        {
          "output_type": "execute_result",
          "data": {
            "text/plain": [
              "<tensorflow.python.keras.callbacks.History at 0x7fa81d8d7630>"
            ]
          },
          "metadata": {
            "tags": []
          },
          "execution_count": 15
        }
      ]
    },
    {
      "cell_type": "markdown",
      "metadata": {
        "id": "xNMWt8-r7pJ3"
      },
      "source": [
        "# RNN"
      ]
    },
    {
      "cell_type": "code",
      "metadata": {
        "colab": {
          "base_uri": "https://localhost:8080/"
        },
        "id": "YaUcc_c5ejIn",
        "outputId": "80f0866d-be2e-4212-8718-e61e6014dd0b"
      },
      "source": [
        "import tensorflow as tf\r\n",
        "\r\n",
        "(x_train, y_train), (x_test, y_test) = tf.keras.datasets.mnist.load_data()\r\n",
        "print(x_train.shape, y_train.shape)\r\n",
        "\r\n",
        "x_train = x_train / 255\r\n",
        "x_test = x_test / 255"
      ],
      "execution_count": null,
      "outputs": [
        {
          "output_type": "stream",
          "text": [
            "(60000, 28, 28) (60000,)\n"
          ],
          "name": "stdout"
        }
      ]
    },
    {
      "cell_type": "code",
      "metadata": {
        "colab": {
          "base_uri": "https://localhost:8080/"
        },
        "id": "X4d9gZ70713G",
        "outputId": "0cff5509-44fc-453c-a0a2-cdc8709c8f9b"
      },
      "source": [
        "X = tf.keras.layers.Input(shape=[28, 28])\r\n",
        "\r\n",
        "H = tf.keras.layers.LSTM(32)(X)\r\n",
        "# cell = tf.keras.layers.SimpleRNNCell(32)\r\n",
        "# H = tf.keras.layers.RNN(cell)(X)\r\n",
        "\r\n",
        "Y = tf.keras.layers.Dense(10, activation='softmax')(H)\r\n",
        "\r\n",
        "model = tf.keras.Model(X, Y)\r\n",
        "model.compile(loss=\"sparse_categorical_crossentropy\", metrics='accuracy')\r\n",
        "model.summary()"
      ],
      "execution_count": null,
      "outputs": [
        {
          "output_type": "stream",
          "text": [
            "Model: \"model_9\"\n",
            "_________________________________________________________________\n",
            "Layer (type)                 Output Shape              Param #   \n",
            "=================================================================\n",
            "input_10 (InputLayer)        [(None, 28, 28)]          0         \n",
            "_________________________________________________________________\n",
            "lstm (LSTM)                  (None, 32)                7808      \n",
            "_________________________________________________________________\n",
            "dense_9 (Dense)              (None, 10)                330       \n",
            "=================================================================\n",
            "Total params: 8,138\n",
            "Trainable params: 8,138\n",
            "Non-trainable params: 0\n",
            "_________________________________________________________________\n"
          ],
          "name": "stdout"
        }
      ]
    },
    {
      "cell_type": "code",
      "metadata": {
        "colab": {
          "base_uri": "https://localhost:8080/"
        },
        "id": "ZNNyvtwVUcbm",
        "outputId": "766cb31c-267c-4806-8829-764423bb9f0f"
      },
      "source": [
        "(60 * 32 + 32) * 4"
      ],
      "execution_count": null,
      "outputs": [
        {
          "output_type": "execute_result",
          "data": {
            "text/plain": [
              "7808"
            ]
          },
          "metadata": {
            "tags": []
          },
          "execution_count": 25
        }
      ]
    },
    {
      "cell_type": "code",
      "metadata": {
        "colab": {
          "base_uri": "https://localhost:8080/"
        },
        "id": "KiP9J-mI8f_U",
        "outputId": "3b2d2e53-b266-4f74-deb6-a77d22a3f058"
      },
      "source": [
        "model.fit(x_train, y_train, epochs=10, batch_size=128, validation_split=0.2)"
      ],
      "execution_count": null,
      "outputs": [
        {
          "output_type": "stream",
          "text": [
            "Epoch 1/10\n",
            "375/375 [==============================] - 6s 6ms/step - loss: 1.6370 - accuracy: 0.4616 - val_loss: 0.6603 - val_accuracy: 0.8002\n",
            "Epoch 2/10\n",
            "375/375 [==============================] - 2s 5ms/step - loss: 0.5817 - accuracy: 0.8222 - val_loss: 0.3578 - val_accuracy: 0.8910\n",
            "Epoch 3/10\n",
            "375/375 [==============================] - 2s 5ms/step - loss: 0.3340 - accuracy: 0.8998 - val_loss: 0.2361 - val_accuracy: 0.9313\n",
            "Epoch 4/10\n",
            "375/375 [==============================] - 2s 5ms/step - loss: 0.2380 - accuracy: 0.9276 - val_loss: 0.2126 - val_accuracy: 0.9367\n",
            "Epoch 5/10\n",
            "375/375 [==============================] - 2s 5ms/step - loss: 0.1855 - accuracy: 0.9451 - val_loss: 0.1668 - val_accuracy: 0.9494\n",
            "Epoch 6/10\n",
            "375/375 [==============================] - 2s 5ms/step - loss: 0.1579 - accuracy: 0.9545 - val_loss: 0.1413 - val_accuracy: 0.9585\n",
            "Epoch 7/10\n",
            "375/375 [==============================] - 2s 5ms/step - loss: 0.1416 - accuracy: 0.9583 - val_loss: 0.1293 - val_accuracy: 0.9624\n",
            "Epoch 8/10\n",
            "375/375 [==============================] - 2s 5ms/step - loss: 0.1225 - accuracy: 0.9640 - val_loss: 0.1218 - val_accuracy: 0.9641\n",
            "Epoch 9/10\n",
            "375/375 [==============================] - 2s 5ms/step - loss: 0.1047 - accuracy: 0.9688 - val_loss: 0.1247 - val_accuracy: 0.9628\n",
            "Epoch 10/10\n",
            "375/375 [==============================] - 2s 5ms/step - loss: 0.1028 - accuracy: 0.9700 - val_loss: 0.1047 - val_accuracy: 0.9695\n"
          ],
          "name": "stdout"
        },
        {
          "output_type": "execute_result",
          "data": {
            "text/plain": [
              "<tensorflow.python.keras.callbacks.History at 0x7fb6a7abc518>"
            ]
          },
          "metadata": {
            "tags": []
          },
          "execution_count": 26
        }
      ]
    },
    {
      "cell_type": "code",
      "metadata": {
        "colab": {
          "base_uri": "https://localhost:8080/"
        },
        "id": "U4HUnElp8oHt",
        "outputId": "21cb39bc-74fc-4ff5-8c26-b09a6f286993"
      },
      "source": [
        "model.evaluate(x_test, y_test)"
      ],
      "execution_count": null,
      "outputs": [
        {
          "output_type": "stream",
          "text": [
            "313/313 [==============================] - 1s 3ms/step - loss: 0.1012 - accuracy: 0.9694\n"
          ],
          "name": "stdout"
        },
        {
          "output_type": "execute_result",
          "data": {
            "text/plain": [
              "[0.10118352621793747, 0.9693999886512756]"
            ]
          },
          "metadata": {
            "tags": []
          },
          "execution_count": 27
        }
      ]
    },
    {
      "cell_type": "markdown",
      "metadata": {
        "id": "69_agc4xVzH8"
      },
      "source": [
        "## fashion_mnist"
      ]
    },
    {
      "cell_type": "code",
      "metadata": {
        "colab": {
          "base_uri": "https://localhost:8080/"
        },
        "id": "HOoQAPfeIxBA",
        "outputId": "85cb2250-70e2-49c5-e910-64a613617fe4"
      },
      "source": [
        "import tensorflow as tf\r\n",
        "\r\n",
        "(x_train, y_train), (x_test, y_test) = tf.keras.datasets.fashion_mnist.load_data()\r\n",
        "\r\n",
        "x_train = x_train / 255\r\n",
        "x_test = x_test / 255\r\n",
        "print(x_train.shape, x_test.shape)\r\n",
        "print(y_train.shape, y_test.shape)"
      ],
      "execution_count": null,
      "outputs": [
        {
          "output_type": "stream",
          "text": [
            "(60000, 28, 28) (10000, 28, 28)\n",
            "(60000,) (10000,)\n"
          ],
          "name": "stdout"
        }
      ]
    },
    {
      "cell_type": "code",
      "metadata": {
        "colab": {
          "base_uri": "https://localhost:8080/",
          "height": 283
        },
        "id": "qYhq-XxmWFOO",
        "outputId": "5c1d6842-2e6e-4c25-e7d0-7ae4a8d13875"
      },
      "source": [
        "import matplotlib.pyplot as plt\r\n",
        "plt.imshow(x_train[0], cmap='gray')"
      ],
      "execution_count": null,
      "outputs": [
        {
          "output_type": "execute_result",
          "data": {
            "text/plain": [
              "<matplotlib.image.AxesImage at 0x7fb6b0e2d438>"
            ]
          },
          "metadata": {
            "tags": []
          },
          "execution_count": 31
        },
        {
          "output_type": "display_data",
          "data": {
            "image/png": "[encoded data removed]",
            "text/plain": [
              "<Figure size 432x288 with 1 Axes>"
            ]
          },
          "metadata": {
            "tags": [],
            "needs_background": "light"
          }
        }
      ]
    },
    {
      "cell_type": "code",
      "metadata": {
        "colab": {
          "base_uri": "https://localhost:8080/"
        },
        "id": "TpZyW2IEWP9z",
        "outputId": "9f14a0a5-e2c1-4aac-d649-be08443cce70"
      },
      "source": [
        "X1 = tf.keras.layers.Input(shape=[28, 28, 1])\r\n",
        "\r\n",
        "# CNN 구조\r\n",
        "H1 = tf.keras.layers.Conv2D(6, kernel_size=5, padding='same', activation='swish')(X1)\r\n",
        "H1 = tf.keras.layers.MaxPool2D()(H1)\r\n",
        "\r\n",
        "H1 = tf.keras.layers.Conv2D(16, kernel_size=5, activation='swish')(H1)\r\n",
        "H1 = tf.keras.layers.MaxPool2D()(H1)\r\n",
        "\r\n",
        "H1 = tf.keras.layers.Flatten()(H1)\r\n",
        "H1 = tf.keras.layers.Dense(120, activation='swish')(H1)\r\n",
        "H1 = tf.keras.layers.Dense(84, activation='swish')(H1)\r\n",
        "Y1 = tf.keras.layers.Dense(10, activation='softmax')(H1)\r\n",
        "\r\n",
        "model1 = tf.keras.Model(X1, Y1)\r\n",
        "model1.compile(loss='sparse_categorical_crossentropy', metrics='accuracy')\r\n",
        "model1.summary()\r\n",
        "\r\n",
        "X2 = tf.keras.layers.Input(shape=[28, 28])\r\n",
        "\r\n",
        "# RNN 구조\r\n",
        "H2 = tf.keras.layers.LSTM(32)(X2)\r\n",
        "Y2 = tf.keras.layers.Dense(10, activation='softmax')(H2)\r\n",
        "\r\n",
        "model2 = tf.keras.Model(X2, Y2)\r\n",
        "model2.compile(loss='sparse_categorical_crossentropy', metrics='accuracy')\r\n",
        "model2.summary()\r\n",
        "\r\n",
        "# RNN 구조의 결과 + CNN 구조의 결과를 합쳐서 결과를 새로운 모델을 만든다.\r\n",
        "H = tf.keras.layers.Concatenate()([H1, H2]) # 84 + 32 = 116\r\n",
        "Y = tf.keras.layers.Dense(10, activation='softmax')(H)\r\n",
        "\r\n",
        "model3 = tf.keras.Model([X1, X2], Y)\r\n",
        "model3.compile(loss='sparse_categorical_crossentropy', metrics='accuracy')\r\n",
        "model3.summary()"
      ],
      "execution_count": null,
      "outputs": [
        {
          "output_type": "stream",
          "text": [
            "Model: \"model_15\"\n",
            "_________________________________________________________________\n",
            "Layer (type)                 Output Shape              Param #   \n",
            "=================================================================\n",
            "input_16 (InputLayer)        [(None, 28, 28, 1)]       0         \n",
            "_________________________________________________________________\n",
            "conv2d_6 (Conv2D)            (None, 28, 28, 6)         156       \n",
            "_________________________________________________________________\n",
            "max_pooling2d_6 (MaxPooling2 (None, 14, 14, 6)         0         \n",
            "_________________________________________________________________\n",
            "conv2d_7 (Conv2D)            (None, 10, 10, 16)        2416      \n",
            "_________________________________________________________________\n",
            "max_pooling2d_7 (MaxPooling2 (None, 5, 5, 16)          0         \n",
            "_________________________________________________________________\n",
            "flatten_3 (Flatten)          (None, 400)               0         \n",
            "_________________________________________________________________\n",
            "dense_21 (Dense)             (None, 120)               48120     \n",
            "_________________________________________________________________\n",
            "dense_22 (Dense)             (None, 84)                10164     \n",
            "_________________________________________________________________\n",
            "dense_23 (Dense)             (None, 10)                850       \n",
            "=================================================================\n",
            "Total params: 61,706\n",
            "Trainable params: 61,706\n",
            "Non-trainable params: 0\n",
            "_________________________________________________________________\n",
            "Model: \"model_16\"\n",
            "_________________________________________________________________\n",
            "Layer (type)                 Output Shape              Param #   \n",
            "=================================================================\n",
            "input_17 (InputLayer)        [(None, 28, 28)]          0         \n",
            "_________________________________________________________________\n",
            "lstm_3 (LSTM)                (None, 32)                7808      \n",
            "_________________________________________________________________\n",
            "dense_24 (Dense)             (None, 10)                330       \n",
            "=================================================================\n",
            "Total params: 8,138\n",
            "Trainable params: 8,138\n",
            "Non-trainable params: 0\n",
            "_________________________________________________________________\n",
            "Model: \"model_17\"\n",
            "__________________________________________________________________________________________________\n",
            "Layer (type)                    Output Shape         Param #     Connected to                     \n",
            "==================================================================================================\n",
            "input_16 (InputLayer)           [(None, 28, 28, 1)]  0                                            \n",
            "__________________________________________________________________________________________________\n",
            "conv2d_6 (Conv2D)               (None, 28, 28, 6)    156         input_16[0][0]                   \n",
            "__________________________________________________________________________________________________\n",
            "max_pooling2d_6 (MaxPooling2D)  (None, 14, 14, 6)    0           conv2d_6[0][0]                   \n",
            "__________________________________________________________________________________________________\n",
            "conv2d_7 (Conv2D)               (None, 10, 10, 16)   2416        max_pooling2d_6[0][0]            \n",
            "__________________________________________________________________________________________________\n",
            "max_pooling2d_7 (MaxPooling2D)  (None, 5, 5, 16)     0           conv2d_7[0][0]                   \n",
            "__________________________________________________________________________________________________\n",
            "flatten_3 (Flatten)             (None, 400)          0           max_pooling2d_7[0][0]            \n",
            "__________________________________________________________________________________________________\n",
            "dense_21 (Dense)                (None, 120)          48120       flatten_3[0][0]                  \n",
            "__________________________________________________________________________________________________\n",
            "input_17 (InputLayer)           [(None, 28, 28)]     0                                            \n",
            "__________________________________________________________________________________________________\n",
            "dense_22 (Dense)                (None, 84)           10164       dense_21[0][0]                   \n",
            "__________________________________________________________________________________________________\n",
            "lstm_3 (LSTM)                   (None, 32)           7808        input_17[0][0]                   \n",
            "__________________________________________________________________________________________________\n",
            "concatenate_1 (Concatenate)     (None, 116)          0           dense_22[0][0]                   \n",
            "                                                                 lstm_3[0][0]                     \n",
            "__________________________________________________________________________________________________\n",
            "dense_25 (Dense)                (None, 10)           1170        concatenate_1[0][0]              \n",
            "==================================================================================================\n",
            "Total params: 69,834\n",
            "Trainable params: 69,834\n",
            "Non-trainable params: 0\n",
            "__________________________________________________________________________________________________\n"
          ],
          "name": "stdout"
        }
      ]
    },
    {
      "cell_type": "code",
      "metadata": {
        "id": "TzbA6EBYWU3s"
      },
      "source": [
        "model1.fit(x_train.reshape(-1, 28, 28, 1), y_train, \r\n",
        "           epochs=10, batch_size=128, validation_split=0.2)"
      ],
      "execution_count": null,
      "outputs": []
    },
    {
      "cell_type": "code",
      "metadata": {
        "id": "dT5iQfriarQZ"
      },
      "source": [
        "model2.fit(x_train, y_train, \r\n",
        "           epochs=10, batch_size=128, validation_split=0.2)"
      ],
      "execution_count": null,
      "outputs": []
    },
    {
      "cell_type": "code",
      "metadata": {
        "colab": {
          "base_uri": "https://localhost:8080/"
        },
        "id": "aV90yjiJbjsB",
        "outputId": "886d71c8-2968-461a-a42c-972d4edcfa20"
      },
      "source": [
        "model3.fit([x_train.reshape(-1, 28, 28, 1), x_train], y_train, \r\n",
        "           epochs=10, batch_size=128, validation_split=0.2)"
      ],
      "execution_count": null,
      "outputs": [
        {
          "output_type": "stream",
          "text": [
            "Epoch 1/10\n",
            "375/375 [==============================] - 5s 9ms/step - loss: 0.9696 - accuracy: 0.6414 - val_loss: 0.4936 - val_accuracy: 0.8218\n",
            "Epoch 2/10\n",
            "375/375 [==============================] - 3s 8ms/step - loss: 0.4564 - accuracy: 0.8309 - val_loss: 0.3858 - val_accuracy: 0.8563\n",
            "Epoch 3/10\n",
            "375/375 [==============================] - 3s 8ms/step - loss: 0.3718 - accuracy: 0.8611 - val_loss: 0.3645 - val_accuracy: 0.8652\n",
            "Epoch 4/10\n",
            "375/375 [==============================] - 3s 9ms/step - loss: 0.3417 - accuracy: 0.8742 - val_loss: 0.3458 - val_accuracy: 0.8721\n",
            "Epoch 5/10\n",
            "375/375 [==============================] - 3s 9ms/step - loss: 0.3097 - accuracy: 0.8849 - val_loss: 0.3205 - val_accuracy: 0.8792\n",
            "Epoch 6/10\n",
            "375/375 [==============================] - 3s 8ms/step - loss: 0.2941 - accuracy: 0.8917 - val_loss: 0.3038 - val_accuracy: 0.8900\n",
            "Epoch 7/10\n",
            "375/375 [==============================] - 3s 8ms/step - loss: 0.2756 - accuracy: 0.8964 - val_loss: 0.3071 - val_accuracy: 0.8873\n",
            "Epoch 8/10\n",
            "375/375 [==============================] - 3s 8ms/step - loss: 0.2615 - accuracy: 0.9010 - val_loss: 0.2838 - val_accuracy: 0.8953\n",
            "Epoch 9/10\n",
            "375/375 [==============================] - 3s 8ms/step - loss: 0.2501 - accuracy: 0.9084 - val_loss: 0.2891 - val_accuracy: 0.8942\n",
            "Epoch 10/10\n",
            "375/375 [==============================] - 3s 8ms/step - loss: 0.2373 - accuracy: 0.9101 - val_loss: 0.2851 - val_accuracy: 0.8980\n"
          ],
          "name": "stdout"
        },
        {
          "output_type": "execute_result",
          "data": {
            "text/plain": [
              "<tensorflow.python.keras.callbacks.History at 0x7fb6a95b49e8>"
            ]
          },
          "metadata": {
            "tags": []
          },
          "execution_count": 40
        }
      ]
    },
    {
      "cell_type": "markdown",
      "metadata": {
        "id": "QQnMv_zXgaI2"
      },
      "source": [
        "## 주식 데이터 \r\n",
        "- https://raw.githubusercontent.com/blackdew/DeepLearningZeroToAll/master/data-02-stock_daily.csv"
      ]
    },
    {
      "cell_type": "code",
      "metadata": {
        "colab": {
          "base_uri": "https://localhost:8080/"
        },
        "id": "vduKz7KabowS",
        "outputId": "0a8e1652-6b69-4254-fb45-c73de171370c"
      },
      "source": [
        "import pandas as pd\r\n",
        "url = \"https://raw.githubusercontent.com/blackdew/DeepLearningZeroToAll/master/data-02-stock_daily.csv\"\r\n",
        "데이터 = pd.read_csv(url, skiprows=1)\r\n",
        "\r\n",
        "print(데이터.shape)\r\n",
        "데이터.head()\r\n",
        "\r\n",
        "data = 데이터.values # 넘파이 어레이\r\n",
        "data = data[::-1] # 역순으로\r\n",
        "data[:5]"
      ],
      "execution_count": null,
      "outputs": [
        {
          "output_type": "stream",
          "text": [
            "(732, 5)\n"
          ],
          "name": "stdout"
        },
        {
          "output_type": "execute_result",
          "data": {
            "text/plain": [
              "array([[   568.00257 ,    568.00257 ,    552.922516,  13100.      ,\n",
              "           558.462551],\n",
              "       [   561.202549,    566.43259 ,    558.672539,  41200.      ,\n",
              "           559.992565],\n",
              "       [   566.892592,    567.002574,    556.932537,  10800.      ,\n",
              "           556.972503],\n",
              "       [   558.712504,    568.452595,    558.712504,   7900.      ,\n",
              "           567.162558],\n",
              "       [   599.992707,    604.832763,    562.192568, 147100.      ,\n",
              "           567.002574]])"
            ]
          },
          "metadata": {
            "tags": []
          },
          "execution_count": 62
        }
      ]
    },
    {
      "cell_type": "code",
      "metadata": {
        "colab": {
          "base_uri": "https://localhost:8080/"
        },
        "id": "DxbJHA17gkL3",
        "outputId": "200f87c8-efe3-42a7-9738-a294cb8a109a"
      },
      "source": [
        "import numpy as np\r\n",
        "\r\n",
        "# normalize\r\n",
        "data1 = (data - data.min(axis=0)) / (data.max(axis=0) - data.min(axis=0))\r\n",
        "\r\n",
        "# 7개씩 끊어서 독립변수 input을 구성 \r\n",
        "# 개별 관측치 => (7, 5)\r\n",
        "# 전체 데이터셋 => (725, 7, 5)\r\n",
        "x_train = np.array([data1[i:i+7] for i in range(len(data1) - 7)])\r\n",
        "print(x_train.shape)\r\n",
        "\r\n",
        "# 종속변수 label를 구성\r\n",
        "# 전체 데이터셋 => (725, 1), (725, )\r\n",
        "y_train = np.array([data[i+7, -1] for i in range(len(data) - 7)]).reshape(-1, 1)\r\n",
        "print(y_train.shape)"
      ],
      "execution_count": null,
      "outputs": [
        {
          "output_type": "stream",
          "text": [
            "(725, 7, 5)\n",
            "(725, 1)\n"
          ],
          "name": "stdout"
        }
      ]
    },
    {
      "cell_type": "code",
      "metadata": {
        "id": "RX9hhr_vi7w7"
      },
      "source": [
        "import tensorflow as tf\r\n",
        "\r\n",
        "X = tf.keras.layers.Input(shape=[7, 5])\r\n",
        "H = tf.keras.layers.LSTM(32)(X)\r\n",
        "H = tf.keras.layers.Dense(32, activation=\"swish\")(H)\r\n",
        "Y = tf.keras.layers.Dense(1)(H)\r\n",
        "\r\n",
        "model = tf.keras.Model(X, Y)\r\n",
        "model.compile(loss='mse')"
      ],
      "execution_count": null,
      "outputs": []
    },
    {
      "cell_type": "code",
      "metadata": {
        "colab": {
          "base_uri": "https://localhost:8080/"
        },
        "id": "hUnPdkAXldmb",
        "outputId": "793fb94b-8db8-488c-a375-b85dcf1becd0"
      },
      "source": [
        "for i in range(10):\r\n",
        "    model.fit(x_train, y_train, batch_size=128, epochs=100, validation_split=0.2, verbose=0)\r\n",
        "    model.fit(x_train, y_train, batch_size=128, epochs=1, validation_split=0.2)"
      ],
      "execution_count": null,
      "outputs": [
        {
          "output_type": "stream",
          "text": [
            "5/5 [==============================] - 0s 18ms/step - loss: 124054.6484 - val_loss: 259334.4062\n",
            "5/5 [==============================] - 0s 22ms/step - loss: 7002.9570 - val_loss: 29368.2305\n",
            "5/5 [==============================] - 0s 21ms/step - loss: 168.7480 - val_loss: 1526.3719\n",
            "5/5 [==============================] - 0s 20ms/step - loss: 137.3803 - val_loss: 872.0655\n",
            "5/5 [==============================] - 0s 22ms/step - loss: 111.9554 - val_loss: 420.4870\n",
            "5/5 [==============================] - 0s 19ms/step - loss: 118.6156 - val_loss: 269.3050\n",
            "5/5 [==============================] - 0s 19ms/step - loss: 107.1348 - val_loss: 279.3380\n",
            "5/5 [==============================] - 0s 22ms/step - loss: 102.6138 - val_loss: 291.3151\n",
            "5/5 [==============================] - 0s 19ms/step - loss: 111.4209 - val_loss: 304.9069\n",
            "5/5 [==============================] - 0s 19ms/step - loss: 97.8114 - val_loss: 166.0184\n"
          ],
          "name": "stdout"
        }
      ]
    },
    {
      "cell_type": "code",
      "metadata": {
        "colab": {
          "base_uri": "https://localhost:8080/"
        },
        "id": "aJLIXWGRlnGb",
        "outputId": "0b16c51d-a826-4774-cdbb-58e45592e619"
      },
      "source": [
        "import math\r\n",
        "math.sqrt(7000)"
      ],
      "execution_count": null,
      "outputs": [
        {
          "output_type": "execute_result",
          "data": {
            "text/plain": [
              "83.66600265340756"
            ]
          },
          "metadata": {
            "tags": []
          },
          "execution_count": 55
        }
      ]
    },
    {
      "cell_type": "code",
      "metadata": {
        "id": "fM1cindnnnXd"
      },
      "source": [
        ""
      ],
      "execution_count": null,
      "outputs": []
    }
  ]
}