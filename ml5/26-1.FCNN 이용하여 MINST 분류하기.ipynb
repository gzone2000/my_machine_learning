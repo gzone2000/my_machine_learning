{
 "cells": [
  {
   "cell_type": "markdown",
   "metadata": {},
   "source": [
    "# 1. FCNN 이용하여 MINST 분류하기 "
   ]
  },
  {
   "cell_type": "markdown",
   "metadata": {},
   "source": [
    "## Import modules"
   ]
  },
  {
   "cell_type": "code",
   "execution_count": 15,
   "metadata": {},
   "outputs": [],
   "source": [
    "import tensorflow as tf"
   ]
  },
  {
   "cell_type": "markdown",
   "metadata": {},
   "source": [
    "## 데이터 불러오기"
   ]
  },
  {
   "cell_type": "code",
   "execution_count": 16,
   "metadata": {},
   "outputs": [],
   "source": [
    "mnist = tf.keras.datasets.mnist\n",
    "(x_train, y_train), (x_test, y_test) = mnist.load_data()\n",
    "x_train, x_test = x_train / 255.0, x_test / 255.0"
   ]
  },
  {
   "cell_type": "code",
   "execution_count": 17,
   "metadata": {},
   "outputs": [
    {
     "data": {
      "text/plain": [
       "((60000, 28, 28), (10000, 28, 28))"
      ]
     },
     "execution_count": 17,
     "metadata": {},
     "output_type": "execute_result"
    }
   ],
   "source": [
    "x_train.shape, x_test.shape"
   ]
  },
  {
   "cell_type": "markdown",
   "metadata": {},
   "source": [
    "## 네트워크 구조 정의"
   ]
  },
  {
   "cell_type": "markdown",
   "metadata": {},
   "source": [
    "#### ㅇ FCNN 이므로 입력 데이터를 쭉 나열해야 하므로 Flatten 함수를 사용함."
   ]
  },
  {
   "cell_type": "code",
   "execution_count": 18,
   "metadata": {},
   "outputs": [],
   "source": [
    "model = tf.keras.models.Sequential([tf.keras.layers.Flatten(input_shape=(28, 28)),\n",
    "                                    tf.keras.layers.Dense(128, activation='relu'),\n",
    "                                    tf.keras.layers.Dropout(0.2),\n",
    "                                    tf.keras.layers.Dense(10, activation='softmax')])"
   ]
  },
  {
   "cell_type": "markdown",
   "metadata": {},
   "source": [
    "## Keras 모델 Compile"
   ]
  },
  {
   "cell_type": "code",
   "execution_count": 19,
   "metadata": {},
   "outputs": [],
   "source": [
    "model.compile(optimizer='adam',\n",
    "             loss='sparse_categorical_crossentropy',\n",
    "             metrics=['accuracy'])\n",
    "model.summary()"
   ]
  },
  {
   "cell_type": "markdown",
   "metadata": {},
   "source": [
    "## 학습 수행"
   ]
  },
  {
   "cell_type": "code",
   "execution_count": 25,
   "metadata": {},
   "outputs": [],
   "source": [
    "EPOCHS = 50\n",
    "BATCH_SIZE = 1024"
   ]
  },
  {
   "cell_type": "code",
   "execution_count": 26,
   "metadata": {},
   "outputs": [],
   "source": [
    "from tensorflow.keras.callbacks import EarlyStopping, ModelCheckpoint"
   ]
  },
  {
   "cell_type": "code",
   "execution_count": 27,
   "metadata": {},
   "outputs": [],
   "source": [
    "es = EarlyStopping(monitor='val_loss', patience=4, mode='min', verbose=1)\n",
    "mc = ModelCheckpoint('best_model.h5', monitor='val_accuracy', mode='max', save_best_only=True, verbose=1)"
   ]
  },
  {
   "cell_type": "code",
   "execution_count": 28,
   "metadata": {
    "scrolled": true
   },
   "outputs": [
    {
     "name": "stdout",
     "output_type": "stream",
     "text": [
      "Train on 60000 samples, validate on 10000 samples\n",
      "Epoch 1/200\n",
      "59392/60000 [============================>.] - ETA: 0s - loss: 0.1925 - accuracy: 0.9453\n",
      "Epoch 00001: val_accuracy improved from -inf to 0.95410, saving model to best_model.h5\n",
      "60000/60000 [==============================] - 4s 67us/sample - loss: 0.1920 - accuracy: 0.9455 - val_loss: 0.1580 - val_accuracy: 0.9541\n",
      "Epoch 2/200\n",
      "59392/60000 [============================>.] - ETA: 0s - loss: 0.1751 - accuracy: 0.9501\n",
      "Epoch 00002: val_accuracy improved from 0.95410 to 0.95790, saving model to best_model.h5\n",
      "60000/60000 [==============================] - 4s 68us/sample - loss: 0.1751 - accuracy: 0.9500 - val_loss: 0.1450 - val_accuracy: 0.9579\n",
      "Epoch 3/200\n",
      "59392/60000 [============================>.] - ETA: 0s - loss: 0.1608 - accuracy: 0.9545\n",
      "Epoch 00003: val_accuracy improved from 0.95790 to 0.96180, saving model to best_model.h5\n",
      "60000/60000 [==============================] - 4s 72us/sample - loss: 0.1607 - accuracy: 0.9545 - val_loss: 0.1342 - val_accuracy: 0.9618\n",
      "Epoch 4/200\n",
      "59392/60000 [============================>.] - ETA: 0s - loss: 0.1497 - accuracy: 0.9568\n",
      "Epoch 00004: val_accuracy improved from 0.96180 to 0.96300, saving model to best_model.h5\n",
      "60000/60000 [==============================] - 4s 74us/sample - loss: 0.1495 - accuracy: 0.9570 - val_loss: 0.1270 - val_accuracy: 0.9630\n",
      "Epoch 5/200\n",
      "59392/60000 [============================>.] - ETA: 0s - loss: 0.1387 - accuracy: 0.9607\n",
      "Epoch 00005: val_accuracy improved from 0.96300 to 0.96440, saving model to best_model.h5\n",
      "60000/60000 [==============================] - 4s 63us/sample - loss: 0.1388 - accuracy: 0.9607 - val_loss: 0.1196 - val_accuracy: 0.9644\n",
      "Epoch 6/200\n",
      "59392/60000 [============================>.] - ETA: 0s - loss: 0.1277 - accuracy: 0.9634\n",
      "Epoch 00006: val_accuracy improved from 0.96440 to 0.96670, saving model to best_model.h5\n",
      "60000/60000 [==============================] - 4s 65us/sample - loss: 0.1278 - accuracy: 0.9634 - val_loss: 0.1125 - val_accuracy: 0.9667\n",
      "Epoch 7/200\n",
      "59392/60000 [============================>.] - ETA: 0s - loss: 0.1213 - accuracy: 0.9653\n",
      "Epoch 00007: val_accuracy improved from 0.96670 to 0.96830, saving model to best_model.h5\n",
      "60000/60000 [==============================] - 4s 66us/sample - loss: 0.1209 - accuracy: 0.9654 - val_loss: 0.1094 - val_accuracy: 0.9683\n",
      "Epoch 8/200\n",
      "59392/60000 [============================>.] - ETA: 0s - loss: 0.1137 - accuracy: 0.9675\n",
      "Epoch 00008: val_accuracy improved from 0.96830 to 0.97000, saving model to best_model.h5\n",
      "60000/60000 [==============================] - 4s 65us/sample - loss: 0.1135 - accuracy: 0.9676 - val_loss: 0.1034 - val_accuracy: 0.9700\n",
      "Epoch 9/200\n",
      "59392/60000 [============================>.] - ETA: 0s - loss: 0.1068 - accuracy: 0.9696 ETA: \n",
      "Epoch 00009: val_accuracy improved from 0.97000 to 0.97040, saving model to best_model.h5\n",
      "60000/60000 [==============================] - 4s 65us/sample - loss: 0.1069 - accuracy: 0.9696 - val_loss: 0.0996 - val_accuracy: 0.9704\n",
      "Epoch 10/200\n",
      "59392/60000 [============================>.] - ETA: 0s - loss: 0.1019 - accuracy: 0.9702 ETA: 0s - loss: 0.1010 - ac\n",
      "Epoch 00010: val_accuracy improved from 0.97040 to 0.97140, saving model to best_model.h5\n",
      "60000/60000 [==============================] - 4s 65us/sample - loss: 0.1015 - accuracy: 0.9703 - val_loss: 0.0966 - val_accuracy: 0.9714\n",
      "Epoch 11/200\n",
      "59392/60000 [============================>.] - ETA: 0s - loss: 0.0967 - accuracy: 0.9720\n",
      "Epoch 00011: val_accuracy improved from 0.97140 to 0.97290, saving model to best_model.h5\n",
      "60000/60000 [==============================] - 4s 65us/sample - loss: 0.0969 - accuracy: 0.9719 - val_loss: 0.0921 - val_accuracy: 0.9729\n",
      "Epoch 12/200\n",
      "59392/60000 [============================>.] - ETA: 0s - loss: 0.0930 - accuracy: 0.9723\n",
      "Epoch 00012: val_accuracy improved from 0.97290 to 0.97320, saving model to best_model.h5\n",
      "60000/60000 [==============================] - 4s 64us/sample - loss: 0.0928 - accuracy: 0.9724 - val_loss: 0.0910 - val_accuracy: 0.9732\n",
      "Epoch 13/200\n",
      "59392/60000 [============================>.] - ETA: 0s - loss: 0.0878 - accuracy: 0.9742 ETA: 0s - loss: 0.0881 - accu\n",
      "Epoch 00013: val_accuracy did not improve from 0.97320\n",
      "60000/60000 [==============================] - 4s 66us/sample - loss: 0.0878 - accuracy: 0.9742 - val_loss: 0.0894 - val_accuracy: 0.9727\n",
      "Epoch 14/200\n",
      "59392/60000 [============================>.] - ETA: 0s - loss: 0.0841 - accuracy: 0.9756\n",
      "Epoch 00014: val_accuracy improved from 0.97320 to 0.97410, saving model to best_model.h5\n",
      "60000/60000 [==============================] - 4s 64us/sample - loss: 0.0844 - accuracy: 0.9755 - val_loss: 0.0869 - val_accuracy: 0.9741\n",
      "Epoch 15/200\n",
      "59392/60000 [============================>.] - ETA: 0s - loss: 0.0802 - accuracy: 0.9768\n",
      "Epoch 00015: val_accuracy improved from 0.97410 to 0.97500, saving model to best_model.h5\n",
      "60000/60000 [==============================] - 4s 66us/sample - loss: 0.0802 - accuracy: 0.9768 - val_loss: 0.0849 - val_accuracy: 0.9750\n",
      "Epoch 16/200\n",
      "59392/60000 [============================>.] - ETA: 0s - loss: 0.0758 - accuracy: 0.9773\n",
      "Epoch 00016: val_accuracy improved from 0.97500 to 0.97520, saving model to best_model.h5\n",
      "60000/60000 [==============================] - 4s 65us/sample - loss: 0.0759 - accuracy: 0.9772 - val_loss: 0.0822 - val_accuracy: 0.9752\n",
      "Epoch 17/200\n",
      "59392/60000 [============================>.] - ETA: 0s - loss: 0.0729 - accuracy: 0.9789\n",
      "Epoch 00017: val_accuracy improved from 0.97520 to 0.97540, saving model to best_model.h5\n",
      "60000/60000 [==============================] - 4s 70us/sample - loss: 0.0731 - accuracy: 0.9789 - val_loss: 0.0823 - val_accuracy: 0.9754\n",
      "Epoch 18/200\n",
      "59392/60000 [============================>.] - ETA: 0s - loss: 0.0715 - accuracy: 0.9792\n",
      "Epoch 00018: val_accuracy improved from 0.97540 to 0.97730, saving model to best_model.h5\n",
      "60000/60000 [==============================] - 4s 70us/sample - loss: 0.0715 - accuracy: 0.9792 - val_loss: 0.0792 - val_accuracy: 0.9773\n",
      "Epoch 19/200\n",
      "59392/60000 [============================>.] - ETA: 0s - loss: 0.0674 - accuracy: 0.9804\n",
      "Epoch 00019: val_accuracy did not improve from 0.97730\n",
      "60000/60000 [==============================] - 4s 69us/sample - loss: 0.0672 - accuracy: 0.9805 - val_loss: 0.0790 - val_accuracy: 0.9767\n",
      "Epoch 20/200\n",
      "59392/60000 [============================>.] - ETA: 0s - loss: 0.0660 - accuracy: 0.9804\n",
      "Epoch 00020: val_accuracy did not improve from 0.97730\n",
      "60000/60000 [==============================] - 4s 69us/sample - loss: 0.0659 - accuracy: 0.9804 - val_loss: 0.0770 - val_accuracy: 0.9770\n",
      "Epoch 21/200\n",
      "59392/60000 [============================>.] - ETA: 0s - loss: 0.0627 - accuracy: 0.9822\n",
      "Epoch 00021: val_accuracy did not improve from 0.97730\n",
      "60000/60000 [==============================] - 4s 68us/sample - loss: 0.0628 - accuracy: 0.9822 - val_loss: 0.0793 - val_accuracy: 0.9762\n",
      "Epoch 22/200\n",
      "59392/60000 [============================>.] - ETA: 0s - loss: 0.0621 - accuracy: 0.9817\n",
      "Epoch 00022: val_accuracy improved from 0.97730 to 0.97760, saving model to best_model.h5\n",
      "60000/60000 [==============================] - 4s 70us/sample - loss: 0.0622 - accuracy: 0.9817 - val_loss: 0.0763 - val_accuracy: 0.9776\n",
      "Epoch 23/200\n",
      "59392/60000 [============================>.] - ETA: 0s - loss: 0.0589 - accuracy: 0.9823\n",
      "Epoch 00023: val_accuracy improved from 0.97760 to 0.97800, saving model to best_model.h5\n",
      "60000/60000 [==============================] - 4s 69us/sample - loss: 0.0587 - accuracy: 0.9823 - val_loss: 0.0748 - val_accuracy: 0.9780\n",
      "Epoch 24/200\n",
      "59392/60000 [============================>.] - ETA: 0s - loss: 0.0579 - accuracy: 0.9825\n",
      "Epoch 00024: val_accuracy improved from 0.97800 to 0.97900, saving model to best_model.h5\n",
      "60000/60000 [==============================] - 4s 71us/sample - loss: 0.0579 - accuracy: 0.9824 - val_loss: 0.0743 - val_accuracy: 0.9790\n",
      "Epoch 25/200\n",
      "59392/60000 [============================>.] - ETA: 0s - loss: 0.0544 - accuracy: 0.9840\n",
      "Epoch 00025: val_accuracy did not improve from 0.97900\n",
      "60000/60000 [==============================] - 4s 70us/sample - loss: 0.0544 - accuracy: 0.9840 - val_loss: 0.0733 - val_accuracy: 0.9785\n",
      "Epoch 26/200\n"
     ]
    },
    {
     "name": "stdout",
     "output_type": "stream",
     "text": [
      "59392/60000 [============================>.] - ETA: 0s - loss: 0.0534 - accuracy: 0.9839\n",
      "Epoch 00026: val_accuracy did not improve from 0.97900\n",
      "60000/60000 [==============================] - 4s 69us/sample - loss: 0.0537 - accuracy: 0.9838 - val_loss: 0.0720 - val_accuracy: 0.9779\n",
      "Epoch 27/200\n",
      "59392/60000 [============================>.] - ETA: 0s - loss: 0.0519 - accuracy: 0.9850\n",
      "Epoch 00027: val_accuracy did not improve from 0.97900\n",
      "60000/60000 [==============================] - 4s 67us/sample - loss: 0.0519 - accuracy: 0.9850 - val_loss: 0.0730 - val_accuracy: 0.9783\n",
      "Epoch 28/200\n",
      "59392/60000 [============================>.] - ETA: 0s - loss: 0.0510 - accuracy: 0.9848\n",
      "Epoch 00028: val_accuracy did not improve from 0.97900\n",
      "60000/60000 [==============================] - 4s 69us/sample - loss: 0.0510 - accuracy: 0.9848 - val_loss: 0.0720 - val_accuracy: 0.9786\n",
      "Epoch 29/200\n",
      "59392/60000 [============================>.] - ETA: 0s - loss: 0.0490 - accuracy: 0.9852\n",
      "Epoch 00029: val_accuracy improved from 0.97900 to 0.97910, saving model to best_model.h5\n",
      "60000/60000 [==============================] - 4s 67us/sample - loss: 0.0492 - accuracy: 0.9852 - val_loss: 0.0713 - val_accuracy: 0.9791\n",
      "Epoch 30/200\n",
      "59392/60000 [============================>.] - ETA: 0s - loss: 0.0474 - accuracy: 0.9863\n",
      "Epoch 00030: val_accuracy improved from 0.97910 to 0.97940, saving model to best_model.h5\n",
      "60000/60000 [==============================] - 4s 69us/sample - loss: 0.0473 - accuracy: 0.9863 - val_loss: 0.0703 - val_accuracy: 0.9794\n",
      "Epoch 31/200\n",
      "59392/60000 [============================>.] - ETA: 0s - loss: 0.0451 - accuracy: 0.9869\n",
      "Epoch 00031: val_accuracy did not improve from 0.97940\n",
      "60000/60000 [==============================] - 4s 67us/sample - loss: 0.0451 - accuracy: 0.9869 - val_loss: 0.0702 - val_accuracy: 0.9791\n",
      "Epoch 32/200\n",
      "59392/60000 [============================>.] - ETA: 0s - loss: 0.0443 - accuracy: 0.9865\n",
      "Epoch 00032: val_accuracy improved from 0.97940 to 0.97990, saving model to best_model.h5\n",
      "60000/60000 [==============================] - 4s 69us/sample - loss: 0.0445 - accuracy: 0.9865 - val_loss: 0.0700 - val_accuracy: 0.9799\n",
      "Epoch 33/200\n",
      "59392/60000 [============================>.] - ETA: 0s - loss: 0.0421 - accuracy: 0.9878\n",
      "Epoch 00033: val_accuracy improved from 0.97990 to 0.98000, saving model to best_model.h5\n",
      "60000/60000 [==============================] - 4s 70us/sample - loss: 0.0422 - accuracy: 0.9878 - val_loss: 0.0699 - val_accuracy: 0.9800\n",
      "Epoch 34/200\n",
      "59392/60000 [============================>.] - ETA: 0s - loss: 0.0420 - accuracy: 0.9872\n",
      "Epoch 00034: val_accuracy did not improve from 0.98000\n",
      "60000/60000 [==============================] - 4s 70us/sample - loss: 0.0419 - accuracy: 0.9872 - val_loss: 0.0711 - val_accuracy: 0.9793\n",
      "Epoch 35/200\n",
      "59392/60000 [============================>.] - ETA: 0s - loss: 0.0414 - accuracy: 0.9870\n",
      "Epoch 00035: val_accuracy did not improve from 0.98000\n",
      "60000/60000 [==============================] - 4s 68us/sample - loss: 0.0414 - accuracy: 0.9870 - val_loss: 0.0699 - val_accuracy: 0.9799\n",
      "Epoch 36/200\n",
      "59392/60000 [============================>.] - ETA: 0s - loss: 0.0388 - accuracy: 0.9886\n",
      "Epoch 00036: val_accuracy did not improve from 0.98000\n",
      "60000/60000 [==============================] - 4s 69us/sample - loss: 0.0390 - accuracy: 0.9885 - val_loss: 0.0716 - val_accuracy: 0.9790\n",
      "Epoch 37/200\n",
      "59392/60000 [============================>.] - ETA: 0s - loss: 0.0386 - accuracy: 0.9885\n",
      "Epoch 00037: val_accuracy did not improve from 0.98000\n",
      "60000/60000 [==============================] - 4s 69us/sample - loss: 0.0385 - accuracy: 0.9885 - val_loss: 0.0713 - val_accuracy: 0.9785\n",
      "Epoch 38/200\n",
      "59392/60000 [============================>.] - ETA: 0s - loss: 0.0368 - accuracy: 0.9892\n",
      "Epoch 00038: val_accuracy did not improve from 0.98000\n",
      "60000/60000 [==============================] - 4s 69us/sample - loss: 0.0368 - accuracy: 0.9892 - val_loss: 0.0690 - val_accuracy: 0.9797\n",
      "Epoch 39/200\n",
      "59392/60000 [============================>.] - ETA: 0s - loss: 0.0375 - accuracy: 0.9883\n",
      "Epoch 00039: val_accuracy did not improve from 0.98000\n",
      "60000/60000 [==============================] - 4s 69us/sample - loss: 0.0374 - accuracy: 0.9884 - val_loss: 0.0716 - val_accuracy: 0.9790\n",
      "Epoch 40/200\n",
      "59392/60000 [============================>.] - ETA: 0s - loss: 0.0346 - accuracy: 0.9892\n",
      "Epoch 00040: val_accuracy did not improve from 0.98000\n",
      "60000/60000 [==============================] - 4s 69us/sample - loss: 0.0347 - accuracy: 0.9892 - val_loss: 0.0700 - val_accuracy: 0.9793\n",
      "Epoch 41/200\n",
      "59392/60000 [============================>.] - ETA: 0s - loss: 0.0348 - accuracy: 0.9897\n",
      "Epoch 00041: val_accuracy did not improve from 0.98000\n",
      "60000/60000 [==============================] - 4s 70us/sample - loss: 0.0348 - accuracy: 0.9897 - val_loss: 0.0702 - val_accuracy: 0.9796\n",
      "Epoch 42/200\n",
      "59392/60000 [============================>.] - ETA: 0s - loss: 0.0327 - accuracy: 0.9900\n",
      "Epoch 00042: val_accuracy did not improve from 0.98000\n",
      "60000/60000 [==============================] - 4s 69us/sample - loss: 0.0327 - accuracy: 0.9900 - val_loss: 0.0687 - val_accuracy: 0.9799\n",
      "Epoch 43/200\n",
      "59392/60000 [============================>.] - ETA: 0s - loss: 0.0329 - accuracy: 0.9903\n",
      "Epoch 00043: val_accuracy did not improve from 0.98000\n",
      "60000/60000 [==============================] - 4s 70us/sample - loss: 0.0328 - accuracy: 0.9903 - val_loss: 0.0695 - val_accuracy: 0.9794\n",
      "Epoch 44/200\n",
      "59392/60000 [============================>.] - ETA: 0s - loss: 0.0312 - accuracy: 0.9908\n",
      "Epoch 00044: val_accuracy improved from 0.98000 to 0.98070, saving model to best_model.h5\n",
      "60000/60000 [==============================] - 4s 68us/sample - loss: 0.0312 - accuracy: 0.9908 - val_loss: 0.0688 - val_accuracy: 0.9807\n",
      "Epoch 45/200\n",
      "59392/60000 [============================>.] - ETA: 0s - loss: 0.0304 - accuracy: 0.9909\n",
      "Epoch 00045: val_accuracy did not improve from 0.98070\n",
      "60000/60000 [==============================] - 4s 70us/sample - loss: 0.0306 - accuracy: 0.9908 - val_loss: 0.0698 - val_accuracy: 0.9798\n",
      "Epoch 46/200\n",
      "59392/60000 [============================>.] - ETA: 0s - loss: 0.0296 - accuracy: 0.9908\n",
      "Epoch 00046: val_accuracy did not improve from 0.98070\n",
      "60000/60000 [==============================] - 4s 69us/sample - loss: 0.0296 - accuracy: 0.9908 - val_loss: 0.0716 - val_accuracy: 0.9793\n",
      "Epoch 00046: early stopping\n"
     ]
    }
   ],
   "source": [
    "history = model.fit(x_train, y_train, epochs=EPOCHS, batch_size=BATCH_SIZE, callbacks=[es, mc], validation_data=(x_test, y_test))"
   ]
  },
  {
   "cell_type": "markdown",
   "metadata": {},
   "source": [
    "## 학습 결과 테스트"
   ]
  },
  {
   "cell_type": "code",
   "execution_count": 29,
   "metadata": {},
   "outputs": [
    {
     "name": "stdout",
     "output_type": "stream",
     "text": [
      "10000/10000 [==============================] - 1s 61us/sample - loss: 0.0716 - accuracy: 0.9793\n"
     ]
    },
    {
     "data": {
      "text/plain": [
       "[0.0716378364031436, 0.9793]"
      ]
     },
     "execution_count": 29,
     "metadata": {},
     "output_type": "execute_result"
    }
   ],
   "source": [
    "model.evaluate(x_test, y_test)"
   ]
  },
  {
   "cell_type": "markdown",
   "metadata": {},
   "source": [
    "## 성능 그래프"
   ]
  },
  {
   "cell_type": "code",
   "execution_count": 37,
   "metadata": {},
   "outputs": [],
   "source": [
    "import matplotlib.pyplot as plt\n",
    "%matplotlib inline"
   ]
  },
  {
   "cell_type": "code",
   "execution_count": 38,
   "metadata": {},
   "outputs": [],
   "source": [
    "x_range = range(1,len(history.history['accuracy'])+1)"
   ]
  },
  {
   "cell_type": "code",
   "execution_count": 52,
   "metadata": {},
   "outputs": [
    {
     "data": {
      "text/plain": [
       "<matplotlib.legend.Legend at 0x1d572473348>"
      ]
     },
     "execution_count": 52,
     "metadata": {},
     "output_type": "execute_result"
    },
    {
     "data": {
      "image/png": "[encoded data removed]",
      "text/plain": [
       "<Figure size 720x432 with 2 Axes>"
      ]
     },
     "metadata": {
      "needs_background": "light"
     },
     "output_type": "display_data"
    }
   ],
   "source": [
    "plt.figure(figsize=(10,6))\n",
    "plt.subplot(221)\n",
    "plt.plot(x_range, history.history['accuracy'], color='red', label='Accuracy')\n",
    "plt.plot(x_range, history.history['val_accuracy'], color='green', label='Validation Accuracy')\n",
    "plt.xlabel('Epochs')\n",
    "plt.ylabel('Accuracy')\n",
    "plt.legend()\n",
    "plt.subplot(222)\n",
    "plt.plot(x_range, history.history['loss'], color='red', label='Loss')\n",
    "plt.plot(x_range, history.history['val_loss'], color='green', label='Validation Loss')\n",
    "plt.xlabel('Epochs')\n",
    "plt.ylabel('Loss')\n",
    "plt.legend()"
   ]
  },
  {
   "cell_type": "markdown",
   "metadata": {},
   "source": [
    "# 실전 테스트"
   ]
  },
  {
   "cell_type": "code",
   "execution_count": 59,
   "metadata": {},
   "outputs": [
    {
     "data": {
      "text/plain": [
       "(28, 28)"
      ]
     },
     "execution_count": 59,
     "metadata": {},
     "output_type": "execute_result"
    }
   ],
   "source": [
    "x_test[0].shape"
   ]
  },
  {
   "cell_type": "code",
   "execution_count": 58,
   "metadata": {},
   "outputs": [
    {
     "data": {
      "image/png": "[encoded data removed]",
      "text/plain": [
       "<Figure size 432x288 with 1 Axes>"
      ]
     },
     "metadata": {
      "needs_background": "light"
     },
     "output_type": "display_data"
    },
    {
     "name": "stdout",
     "output_type": "stream",
     "text": [
      "The Answer is  [7]\n"
     ]
    }
   ],
   "source": [
    "n = 0\n",
    "plt.imshow(x_test[n], cmap='Greys', interpolation='nearest')\n",
    "plt.show()\n",
    "\n",
    "print('The Answer is ', model.predict_classes(x_test[n].reshape(1,28,28)))"
   ]
  },
  {
   "cell_type": "code",
   "execution_count": 60,
   "metadata": {},
   "outputs": [
    {
     "data": {
      "image/png": "[encoded data removed]",
      "text/plain": [
       "<Figure size 432x288 with 1 Axes>"
      ]
     },
     "metadata": {
      "needs_background": "light"
     },
     "output_type": "display_data"
    },
    {
     "name": "stdout",
     "output_type": "stream",
     "text": [
      "The Answer is  [[1.8621053e-07 1.3238423e-09 1.9044703e-07 2.6524489e-04 2.0264474e-11\n",
      "  4.5020727e-08 2.5584602e-12 9.9972969e-01 1.5029451e-07 4.5358424e-06]]\n"
     ]
    }
   ],
   "source": [
    "n = 0\n",
    "plt.imshow(x_test[n], cmap='Greys', interpolation='nearest')\n",
    "plt.show()\n",
    "\n",
    "print('The Answer is ', model.predict(x_test[n].reshape(1,28,28)))"
   ]
  },
  {
   "cell_type": "code",
   "execution_count": null,
   "metadata": {},
   "outputs": [],
   "source": []
  }
 ],
 "metadata": {
  "kernelspec": {
   "display_name": "Python 3",
   "language": "python",
   "name": "python3"
  },
  "language_info": {
   "codemirror_mode": {
    "name": "ipython",
    "version": 3
   },
   "file_extension": ".py",
   "mimetype": "text/x-python",
   "name": "python",
   "nbconvert_exporter": "python",
   "pygments_lexer": "ipython3",
   "version": "3.7.6"
  }
 },
 "nbformat": 4,
 "nbformat_minor": 2
}
