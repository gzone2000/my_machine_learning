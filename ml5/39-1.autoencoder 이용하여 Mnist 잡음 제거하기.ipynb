{
  "nbformat": 4,
  "nbformat_minor": 0,
  "metadata": {
    "colab": {
      "name": "Untitled10.ipynb",
      "provenance": []
    },
    "kernelspec": {
      "name": "python3",
      "display_name": "Python 3"
    },
    "accelerator": "GPU"
  },
  "cells": [
    {
      "cell_type": "markdown",
      "metadata": {
        "id": "rIDklnqRKatn"
      },
      "source": [
        "# autoencoder 이용하여 Mnist 잡음 제거하기"
      ]
    },
    {
      "cell_type": "markdown",
      "metadata": {
        "id": "mKKUthBvLPFv"
      },
      "source": [
        "### 1) 데이터 준비"
      ]
    },
    {
      "cell_type": "code",
      "metadata": {
        "id": "DZ1iafxvKfug"
      },
      "source": [
        "import tensorflow as tf\r\n",
        "import numpy as np\r\n",
        "import matplotlib.pyplot as plt\r\n",
        "\r\n",
        "from tensorflow.keras.datasets import mnist"
      ],
      "execution_count": 26,
      "outputs": []
    },
    {
      "cell_type": "code",
      "metadata": {
        "id": "lLvqljm2Kr09"
      },
      "source": [
        "(x_train, y_train),(x_test, y_test) = mnist.load_data()"
      ],
      "execution_count": 27,
      "outputs": []
    },
    {
      "cell_type": "code",
      "metadata": {
        "colab": {
          "base_uri": "https://localhost:8080/"
        },
        "id": "2ch4vE4IK24s",
        "outputId": "2a0fe392-be9e-4eef-a5f3-8cf97aba7e9c"
      },
      "source": [
        "(x_train.shape, y_train.shape),(x_test.shape, y_test.shape)"
      ],
      "execution_count": 28,
      "outputs": [
        {
          "output_type": "execute_result",
          "data": {
            "text/plain": [
              "(((60000, 28, 28), (60000,)), ((10000, 28, 28), (10000,)))"
            ]
          },
          "metadata": {
            "tags": []
          },
          "execution_count": 28
        }
      ]
    },
    {
      "cell_type": "code",
      "metadata": {
        "id": "WfGGndgnK8ny"
      },
      "source": [
        "X_train = x_train[:3000, :] / 255.0\r\n",
        "X_test = x_test[3000:3100, :] / 255.0"
      ],
      "execution_count": 29,
      "outputs": []
    },
    {
      "cell_type": "markdown",
      "metadata": {
        "id": "tmgpKf6WLWdG"
      },
      "source": [
        "### 2) 노이즈 삽입"
      ]
    },
    {
      "cell_type": "code",
      "metadata": {
        "id": "6F_0v0XZLF8H"
      },
      "source": [
        "X_train_n = X_train + 0.3 * np.random.normal(size=X_train.shape)\r\n",
        "X_test_n = X_test + 0.3 * np.random.normal(size=X_test.shape)"
      ],
      "execution_count": 30,
      "outputs": []
    },
    {
      "cell_type": "code",
      "metadata": {
        "colab": {
          "base_uri": "https://localhost:8080/",
          "height": 282
        },
        "id": "oZa7CHFCLpwt",
        "outputId": "f4c8ef64-5445-40de-ebed-879398ebc5f9"
      },
      "source": [
        "plt.imshow(X_train_n[102].reshape(28, 28), cmap='gray')"
      ],
      "execution_count": 31,
      "outputs": [
        {
          "output_type": "execute_result",
          "data": {
            "text/plain": [
              "<matplotlib.image.AxesImage at 0x7f2808c51ac8>"
            ]
          },
          "metadata": {
            "tags": []
          },
          "execution_count": 31
        },
        {
          "output_type": "display_data",
          "data": {
            "image/png": "[encoded data removed]",
            "text/plain": [
              "<Figure size 432x288 with 1 Axes>"
            ]
          },
          "metadata": {
            "tags": [],
            "needs_background": "light"
          }
        }
      ]
    },
    {
      "cell_type": "markdown",
      "metadata": {
        "id": "YUgIC7-HMVpj"
      },
      "source": [
        "### 3) 값 범위 clip"
      ]
    },
    {
      "cell_type": "code",
      "metadata": {
        "id": "Ar49gLIUMOAd"
      },
      "source": [
        "X_train_n_clipped = np.clip(X_train_n, 0.0, 1.0)\r\n",
        "X_test_n_clipped = np.clip(X_test_n, 0.0, 1.0)"
      ],
      "execution_count": 32,
      "outputs": []
    },
    {
      "cell_type": "code",
      "metadata": {
        "colab": {
          "base_uri": "https://localhost:8080/",
          "height": 282
        },
        "id": "rJTgDH1QQmmP",
        "outputId": "502114ca-037d-4550-fdbe-9fe9905fcd90"
      },
      "source": [
        "plt.imshow(X_train_n_clipped[102].reshape(28, 28), cmap='gray')"
      ],
      "execution_count": 33,
      "outputs": [
        {
          "output_type": "execute_result",
          "data": {
            "text/plain": [
              "<matplotlib.image.AxesImage at 0x7f2808c30b00>"
            ]
          },
          "metadata": {
            "tags": []
          },
          "execution_count": 33
        },
        {
          "output_type": "display_data",
          "data": {
            "image/png": "[encoded data removed]",
            "text/plain": [
              "<Figure size 432x288 with 1 Axes>"
            ]
          },
          "metadata": {
            "tags": [],
            "needs_background": "light"
          }
        }
      ]
    },
    {
      "cell_type": "markdown",
      "metadata": {
        "id": "SV5lBw1-NBH6"
      },
      "source": [
        "### 6) 모델 레이어 설정"
      ]
    },
    {
      "cell_type": "code",
      "metadata": {
        "colab": {
          "base_uri": "https://localhost:8080/"
        },
        "id": "YA-SST9iMhUW",
        "outputId": "d3418c23-d24f-480e-e443-1dbf90f94f23"
      },
      "source": [
        "# Encoder\r\n",
        "X = tf.keras.layers.Input(shape=[28,28,1])\r\n",
        "H = tf.keras.layers.Conv2D(32, (3,3), strides=1, padding='same', activation='relu')(X)\r\n",
        "H = tf.keras.layers.MaxPooling2D(pool_size=(2,2))(H)\r\n",
        "\r\n",
        "# Decoder : Conv2DTranspose 업샘플링시 strides=2 해야 함\r\n",
        "H = tf.keras.layers.Conv2DTranspose(32, (3,3), strides=2, padding='same', activation='relu')(H)\r\n",
        "Y = tf.keras.layers.Conv2D(1, (3,3),  strides=1, padding='same', activation='sigmoid')(H)\r\n",
        "\r\n",
        "model = tf.keras.Model(X, Y)\r\n",
        "model.summary()"
      ],
      "execution_count": 34,
      "outputs": [
        {
          "output_type": "stream",
          "text": [
            "Model: \"model_1\"\n",
            "_________________________________________________________________\n",
            "Layer (type)                 Output Shape              Param #   \n",
            "=================================================================\n",
            "input_2 (InputLayer)         [(None, 28, 28, 1)]       0         \n",
            "_________________________________________________________________\n",
            "conv2d_2 (Conv2D)            (None, 28, 28, 32)        320       \n",
            "_________________________________________________________________\n",
            "max_pooling2d_1 (MaxPooling2 (None, 14, 14, 32)        0         \n",
            "_________________________________________________________________\n",
            "conv2d_transpose_1 (Conv2DTr (None, 28, 28, 32)        9248      \n",
            "_________________________________________________________________\n",
            "conv2d_3 (Conv2D)            (None, 28, 28, 1)         289       \n",
            "=================================================================\n",
            "Total params: 9,857\n",
            "Trainable params: 9,857\n",
            "Non-trainable params: 0\n",
            "_________________________________________________________________\n"
          ],
          "name": "stdout"
        }
      ]
    },
    {
      "cell_type": "code",
      "metadata": {
        "id": "vVRKCKGeO1cc"
      },
      "source": [
        "model.compile(optimizer='adam', loss='binary_crossentropy', metrics='accuracy')"
      ],
      "execution_count": 35,
      "outputs": []
    },
    {
      "cell_type": "code",
      "metadata": {
        "colab": {
          "base_uri": "https://localhost:8080/"
        },
        "id": "ypn1JO6lQZCV",
        "outputId": "e9f56ea2-180e-4936-a6f6-7d199fa0eac2"
      },
      "source": [
        "model.fit(X_train_n, X_train, epochs=200, batch_size=128)"
      ],
      "execution_count": 36,
      "outputs": [
        {
          "output_type": "stream",
          "text": [
            "Epoch 1/200\n",
            "24/24 [==============================] - 1s 8ms/step - loss: 0.6369 - accuracy: 0.6587\n",
            "Epoch 2/200\n",
            "24/24 [==============================] - 0s 7ms/step - loss: 0.3653 - accuracy: 0.8093\n",
            "Epoch 3/200\n",
            "24/24 [==============================] - 0s 6ms/step - loss: 0.2038 - accuracy: 0.8108\n",
            "Epoch 4/200\n",
            "24/24 [==============================] - 0s 6ms/step - loss: 0.1309 - accuracy: 0.8097\n",
            "Epoch 5/200\n",
            "24/24 [==============================] - 0s 6ms/step - loss: 0.1143 - accuracy: 0.8106\n",
            "Epoch 6/200\n",
            "24/24 [==============================] - 0s 6ms/step - loss: 0.1080 - accuracy: 0.8134\n",
            "Epoch 7/200\n",
            "24/24 [==============================] - 0s 6ms/step - loss: 0.1045 - accuracy: 0.8127\n",
            "Epoch 8/200\n",
            "24/24 [==============================] - 0s 6ms/step - loss: 0.1011 - accuracy: 0.8130\n",
            "Epoch 9/200\n",
            "24/24 [==============================] - 0s 6ms/step - loss: 0.0982 - accuracy: 0.8137\n",
            "Epoch 10/200\n",
            "24/24 [==============================] - 0s 6ms/step - loss: 0.0961 - accuracy: 0.8147\n",
            "Epoch 11/200\n",
            "24/24 [==============================] - 0s 6ms/step - loss: 0.0935 - accuracy: 0.8143\n",
            "Epoch 12/200\n",
            "24/24 [==============================] - 0s 6ms/step - loss: 0.0923 - accuracy: 0.8130\n",
            "Epoch 13/200\n",
            "24/24 [==============================] - 0s 6ms/step - loss: 0.0911 - accuracy: 0.8140\n",
            "Epoch 14/200\n",
            "24/24 [==============================] - 0s 6ms/step - loss: 0.0899 - accuracy: 0.8130\n",
            "Epoch 15/200\n",
            "24/24 [==============================] - 0s 6ms/step - loss: 0.0889 - accuracy: 0.8160\n",
            "Epoch 16/200\n",
            "24/24 [==============================] - 0s 6ms/step - loss: 0.0891 - accuracy: 0.8151\n",
            "Epoch 17/200\n",
            "24/24 [==============================] - 0s 6ms/step - loss: 0.0886 - accuracy: 0.8116\n",
            "Epoch 18/200\n",
            "24/24 [==============================] - 0s 6ms/step - loss: 0.0874 - accuracy: 0.8150\n",
            "Epoch 19/200\n",
            "24/24 [==============================] - 0s 6ms/step - loss: 0.0872 - accuracy: 0.8136\n",
            "Epoch 20/200\n",
            "24/24 [==============================] - 0s 6ms/step - loss: 0.0869 - accuracy: 0.8128\n",
            "Epoch 21/200\n",
            "24/24 [==============================] - 0s 6ms/step - loss: 0.0868 - accuracy: 0.8119\n",
            "Epoch 22/200\n",
            "24/24 [==============================] - 0s 6ms/step - loss: 0.0860 - accuracy: 0.8140\n",
            "Epoch 23/200\n",
            "24/24 [==============================] - 0s 6ms/step - loss: 0.0862 - accuracy: 0.8142\n",
            "Epoch 24/200\n",
            "24/24 [==============================] - 0s 6ms/step - loss: 0.0860 - accuracy: 0.8133\n",
            "Epoch 25/200\n",
            "24/24 [==============================] - 0s 6ms/step - loss: 0.0855 - accuracy: 0.8131\n",
            "Epoch 26/200\n",
            "24/24 [==============================] - 0s 6ms/step - loss: 0.0855 - accuracy: 0.8141\n",
            "Epoch 27/200\n",
            "24/24 [==============================] - 0s 6ms/step - loss: 0.0848 - accuracy: 0.8142\n",
            "Epoch 28/200\n",
            "24/24 [==============================] - 0s 6ms/step - loss: 0.0852 - accuracy: 0.8122\n",
            "Epoch 29/200\n",
            "24/24 [==============================] - 0s 6ms/step - loss: 0.0847 - accuracy: 0.8154\n",
            "Epoch 30/200\n",
            "24/24 [==============================] - 0s 6ms/step - loss: 0.0839 - accuracy: 0.8150\n",
            "Epoch 31/200\n",
            "24/24 [==============================] - 0s 6ms/step - loss: 0.0842 - accuracy: 0.8145\n",
            "Epoch 32/200\n",
            "24/24 [==============================] - 0s 6ms/step - loss: 0.0836 - accuracy: 0.8156\n",
            "Epoch 33/200\n",
            "24/24 [==============================] - 0s 6ms/step - loss: 0.0833 - accuracy: 0.8159\n",
            "Epoch 34/200\n",
            "24/24 [==============================] - 0s 6ms/step - loss: 0.0841 - accuracy: 0.8143\n",
            "Epoch 35/200\n",
            "24/24 [==============================] - 0s 6ms/step - loss: 0.0836 - accuracy: 0.8148\n",
            "Epoch 36/200\n",
            "24/24 [==============================] - 0s 6ms/step - loss: 0.0838 - accuracy: 0.8146\n",
            "Epoch 37/200\n",
            "24/24 [==============================] - 0s 6ms/step - loss: 0.0835 - accuracy: 0.8149\n",
            "Epoch 38/200\n",
            "24/24 [==============================] - 0s 6ms/step - loss: 0.0835 - accuracy: 0.8146\n",
            "Epoch 39/200\n",
            "24/24 [==============================] - 0s 6ms/step - loss: 0.0828 - accuracy: 0.8152\n",
            "Epoch 40/200\n",
            "24/24 [==============================] - 0s 6ms/step - loss: 0.0828 - accuracy: 0.8147\n",
            "Epoch 41/200\n",
            "24/24 [==============================] - 0s 6ms/step - loss: 0.0825 - accuracy: 0.8149\n",
            "Epoch 42/200\n",
            "24/24 [==============================] - 0s 6ms/step - loss: 0.0827 - accuracy: 0.8153\n",
            "Epoch 43/200\n",
            "24/24 [==============================] - 0s 6ms/step - loss: 0.0821 - accuracy: 0.8159\n",
            "Epoch 44/200\n",
            "24/24 [==============================] - 0s 6ms/step - loss: 0.0822 - accuracy: 0.8152\n",
            "Epoch 45/200\n",
            "24/24 [==============================] - 0s 6ms/step - loss: 0.0826 - accuracy: 0.8140\n",
            "Epoch 46/200\n",
            "24/24 [==============================] - 0s 6ms/step - loss: 0.0823 - accuracy: 0.8143\n",
            "Epoch 47/200\n",
            "24/24 [==============================] - 0s 6ms/step - loss: 0.0815 - accuracy: 0.8157\n",
            "Epoch 48/200\n",
            "24/24 [==============================] - 0s 6ms/step - loss: 0.0819 - accuracy: 0.8131\n",
            "Epoch 49/200\n",
            "24/24 [==============================] - 0s 6ms/step - loss: 0.0818 - accuracy: 0.8150\n",
            "Epoch 50/200\n",
            "24/24 [==============================] - 0s 6ms/step - loss: 0.0820 - accuracy: 0.8145\n",
            "Epoch 51/200\n",
            "24/24 [==============================] - 0s 6ms/step - loss: 0.0813 - accuracy: 0.8151\n",
            "Epoch 52/200\n",
            "24/24 [==============================] - 0s 6ms/step - loss: 0.0819 - accuracy: 0.8136\n",
            "Epoch 53/200\n",
            "24/24 [==============================] - 0s 6ms/step - loss: 0.0820 - accuracy: 0.8132\n",
            "Epoch 54/200\n",
            "24/24 [==============================] - 0s 6ms/step - loss: 0.0816 - accuracy: 0.8137\n",
            "Epoch 55/200\n",
            "24/24 [==============================] - 0s 6ms/step - loss: 0.0805 - accuracy: 0.8163\n",
            "Epoch 56/200\n",
            "24/24 [==============================] - 0s 6ms/step - loss: 0.0806 - accuracy: 0.8167\n",
            "Epoch 57/200\n",
            "24/24 [==============================] - 0s 6ms/step - loss: 0.0811 - accuracy: 0.8147\n",
            "Epoch 58/200\n",
            "24/24 [==============================] - 0s 6ms/step - loss: 0.0809 - accuracy: 0.8160\n",
            "Epoch 59/200\n",
            "24/24 [==============================] - 0s 6ms/step - loss: 0.0812 - accuracy: 0.8145\n",
            "Epoch 60/200\n",
            "24/24 [==============================] - 0s 6ms/step - loss: 0.0813 - accuracy: 0.8138\n",
            "Epoch 61/200\n",
            "24/24 [==============================] - 0s 6ms/step - loss: 0.0814 - accuracy: 0.8144\n",
            "Epoch 62/200\n",
            "24/24 [==============================] - 0s 6ms/step - loss: 0.0813 - accuracy: 0.8131\n",
            "Epoch 63/200\n",
            "24/24 [==============================] - 0s 6ms/step - loss: 0.0810 - accuracy: 0.8148\n",
            "Epoch 64/200\n",
            "24/24 [==============================] - 0s 6ms/step - loss: 0.0810 - accuracy: 0.8134\n",
            "Epoch 65/200\n",
            "24/24 [==============================] - 0s 6ms/step - loss: 0.0806 - accuracy: 0.8151\n",
            "Epoch 66/200\n",
            "24/24 [==============================] - 0s 6ms/step - loss: 0.0806 - accuracy: 0.8135\n",
            "Epoch 67/200\n",
            "24/24 [==============================] - 0s 6ms/step - loss: 0.0806 - accuracy: 0.8144\n",
            "Epoch 68/200\n",
            "24/24 [==============================] - 0s 6ms/step - loss: 0.0809 - accuracy: 0.8141\n",
            "Epoch 69/200\n",
            "24/24 [==============================] - 0s 6ms/step - loss: 0.0805 - accuracy: 0.8142\n",
            "Epoch 70/200\n",
            "24/24 [==============================] - 0s 6ms/step - loss: 0.0806 - accuracy: 0.8144\n",
            "Epoch 71/200\n",
            "24/24 [==============================] - 0s 6ms/step - loss: 0.0804 - accuracy: 0.8148\n",
            "Epoch 72/200\n",
            "24/24 [==============================] - 0s 6ms/step - loss: 0.0807 - accuracy: 0.8135\n",
            "Epoch 73/200\n",
            "24/24 [==============================] - 0s 6ms/step - loss: 0.0804 - accuracy: 0.8147\n",
            "Epoch 74/200\n",
            "24/24 [==============================] - 0s 6ms/step - loss: 0.0805 - accuracy: 0.8142\n",
            "Epoch 75/200\n",
            "24/24 [==============================] - 0s 6ms/step - loss: 0.0802 - accuracy: 0.8147\n",
            "Epoch 76/200\n",
            "24/24 [==============================] - 0s 6ms/step - loss: 0.0798 - accuracy: 0.8158\n",
            "Epoch 77/200\n",
            "24/24 [==============================] - 0s 6ms/step - loss: 0.0806 - accuracy: 0.8134\n",
            "Epoch 78/200\n",
            "24/24 [==============================] - 0s 6ms/step - loss: 0.0801 - accuracy: 0.8156\n",
            "Epoch 79/200\n",
            "24/24 [==============================] - 0s 6ms/step - loss: 0.0800 - accuracy: 0.8147\n",
            "Epoch 80/200\n",
            "24/24 [==============================] - 0s 6ms/step - loss: 0.0799 - accuracy: 0.8155\n",
            "Epoch 81/200\n",
            "24/24 [==============================] - 0s 6ms/step - loss: 0.0804 - accuracy: 0.8120\n",
            "Epoch 82/200\n",
            "24/24 [==============================] - 0s 6ms/step - loss: 0.0797 - accuracy: 0.8146\n",
            "Epoch 83/200\n",
            "24/24 [==============================] - 0s 6ms/step - loss: 0.0798 - accuracy: 0.8148\n",
            "Epoch 84/200\n",
            "24/24 [==============================] - 0s 6ms/step - loss: 0.0795 - accuracy: 0.8151\n",
            "Epoch 85/200\n",
            "24/24 [==============================] - 0s 6ms/step - loss: 0.0801 - accuracy: 0.8138\n",
            "Epoch 86/200\n",
            "24/24 [==============================] - 0s 6ms/step - loss: 0.0798 - accuracy: 0.8138\n",
            "Epoch 87/200\n",
            "24/24 [==============================] - 0s 6ms/step - loss: 0.0797 - accuracy: 0.8143\n",
            "Epoch 88/200\n",
            "24/24 [==============================] - 0s 6ms/step - loss: 0.0796 - accuracy: 0.8152\n",
            "Epoch 89/200\n",
            "24/24 [==============================] - 0s 6ms/step - loss: 0.0796 - accuracy: 0.8141\n",
            "Epoch 90/200\n",
            "24/24 [==============================] - 0s 6ms/step - loss: 0.0797 - accuracy: 0.8152\n",
            "Epoch 91/200\n",
            "24/24 [==============================] - 0s 6ms/step - loss: 0.0794 - accuracy: 0.8151\n",
            "Epoch 92/200\n",
            "24/24 [==============================] - 0s 6ms/step - loss: 0.0794 - accuracy: 0.8148\n",
            "Epoch 93/200\n",
            "24/24 [==============================] - 0s 6ms/step - loss: 0.0794 - accuracy: 0.8141\n",
            "Epoch 94/200\n",
            "24/24 [==============================] - 0s 6ms/step - loss: 0.0792 - accuracy: 0.8152\n",
            "Epoch 95/200\n",
            "24/24 [==============================] - 0s 6ms/step - loss: 0.0797 - accuracy: 0.8134\n",
            "Epoch 96/200\n",
            "24/24 [==============================] - 0s 6ms/step - loss: 0.0795 - accuracy: 0.8140\n",
            "Epoch 97/200\n",
            "24/24 [==============================] - 0s 6ms/step - loss: 0.0794 - accuracy: 0.8138\n",
            "Epoch 98/200\n",
            "24/24 [==============================] - 0s 6ms/step - loss: 0.0794 - accuracy: 0.8139\n",
            "Epoch 99/200\n",
            "24/24 [==============================] - 0s 6ms/step - loss: 0.0790 - accuracy: 0.8154\n",
            "Epoch 100/200\n",
            "24/24 [==============================] - 0s 6ms/step - loss: 0.0793 - accuracy: 0.8142\n",
            "Epoch 101/200\n",
            "24/24 [==============================] - 0s 6ms/step - loss: 0.0794 - accuracy: 0.8140\n",
            "Epoch 102/200\n",
            "24/24 [==============================] - 0s 6ms/step - loss: 0.0790 - accuracy: 0.8150\n",
            "Epoch 103/200\n",
            "24/24 [==============================] - 0s 6ms/step - loss: 0.0795 - accuracy: 0.8151\n",
            "Epoch 104/200\n",
            "24/24 [==============================] - 0s 6ms/step - loss: 0.0798 - accuracy: 0.8128\n",
            "Epoch 105/200\n",
            "24/24 [==============================] - 0s 6ms/step - loss: 0.0792 - accuracy: 0.8136\n",
            "Epoch 106/200\n",
            "24/24 [==============================] - 0s 6ms/step - loss: 0.0790 - accuracy: 0.8139\n",
            "Epoch 107/200\n",
            "24/24 [==============================] - 0s 6ms/step - loss: 0.0790 - accuracy: 0.8146\n",
            "Epoch 108/200\n",
            "24/24 [==============================] - 0s 6ms/step - loss: 0.0790 - accuracy: 0.8148\n",
            "Epoch 109/200\n",
            "24/24 [==============================] - 0s 6ms/step - loss: 0.0794 - accuracy: 0.8136\n",
            "Epoch 110/200\n",
            "24/24 [==============================] - 0s 6ms/step - loss: 0.0791 - accuracy: 0.8141\n",
            "Epoch 111/200\n",
            "24/24 [==============================] - 0s 6ms/step - loss: 0.0789 - accuracy: 0.8148\n",
            "Epoch 112/200\n",
            "24/24 [==============================] - 0s 6ms/step - loss: 0.0788 - accuracy: 0.8152\n",
            "Epoch 113/200\n",
            "24/24 [==============================] - 0s 6ms/step - loss: 0.0789 - accuracy: 0.8147\n",
            "Epoch 114/200\n",
            "24/24 [==============================] - 0s 6ms/step - loss: 0.0791 - accuracy: 0.8141\n",
            "Epoch 115/200\n",
            "24/24 [==============================] - 0s 6ms/step - loss: 0.0796 - accuracy: 0.8125\n",
            "Epoch 116/200\n",
            "24/24 [==============================] - 0s 6ms/step - loss: 0.0787 - accuracy: 0.8156\n",
            "Epoch 117/200\n",
            "24/24 [==============================] - 0s 6ms/step - loss: 0.0790 - accuracy: 0.8136\n",
            "Epoch 118/200\n",
            "24/24 [==============================] - 0s 6ms/step - loss: 0.0786 - accuracy: 0.8148\n",
            "Epoch 119/200\n",
            "24/24 [==============================] - 0s 6ms/step - loss: 0.0792 - accuracy: 0.8145\n",
            "Epoch 120/200\n",
            "24/24 [==============================] - 0s 6ms/step - loss: 0.0793 - accuracy: 0.8136\n",
            "Epoch 121/200\n",
            "24/24 [==============================] - 0s 6ms/step - loss: 0.0789 - accuracy: 0.8155\n",
            "Epoch 122/200\n",
            "24/24 [==============================] - 0s 6ms/step - loss: 0.0791 - accuracy: 0.8133\n",
            "Epoch 123/200\n",
            "24/24 [==============================] - 0s 6ms/step - loss: 0.0785 - accuracy: 0.8151\n",
            "Epoch 124/200\n",
            "24/24 [==============================] - 0s 6ms/step - loss: 0.0788 - accuracy: 0.8141\n",
            "Epoch 125/200\n",
            "24/24 [==============================] - 0s 6ms/step - loss: 0.0792 - accuracy: 0.8131\n",
            "Epoch 126/200\n",
            "24/24 [==============================] - 0s 6ms/step - loss: 0.0788 - accuracy: 0.8146\n",
            "Epoch 127/200\n",
            "24/24 [==============================] - 0s 6ms/step - loss: 0.0789 - accuracy: 0.8129\n",
            "Epoch 128/200\n",
            "24/24 [==============================] - 0s 6ms/step - loss: 0.0789 - accuracy: 0.8152\n",
            "Epoch 129/200\n",
            "24/24 [==============================] - 0s 6ms/step - loss: 0.0793 - accuracy: 0.8121\n",
            "Epoch 130/200\n",
            "24/24 [==============================] - 0s 6ms/step - loss: 0.0788 - accuracy: 0.8137\n",
            "Epoch 131/200\n",
            "24/24 [==============================] - 0s 6ms/step - loss: 0.0786 - accuracy: 0.8148\n",
            "Epoch 132/200\n",
            "24/24 [==============================] - 0s 6ms/step - loss: 0.0787 - accuracy: 0.8150\n",
            "Epoch 133/200\n",
            "24/24 [==============================] - 0s 6ms/step - loss: 0.0793 - accuracy: 0.8123\n",
            "Epoch 134/200\n",
            "24/24 [==============================] - 0s 6ms/step - loss: 0.0783 - accuracy: 0.8145\n",
            "Epoch 135/200\n",
            "24/24 [==============================] - 0s 6ms/step - loss: 0.0782 - accuracy: 0.8154\n",
            "Epoch 136/200\n",
            "24/24 [==============================] - 0s 6ms/step - loss: 0.0783 - accuracy: 0.8145\n",
            "Epoch 137/200\n",
            "24/24 [==============================] - 0s 6ms/step - loss: 0.0789 - accuracy: 0.8132\n",
            "Epoch 138/200\n",
            "24/24 [==============================] - 0s 6ms/step - loss: 0.0787 - accuracy: 0.8137\n",
            "Epoch 139/200\n",
            "24/24 [==============================] - 0s 6ms/step - loss: 0.0785 - accuracy: 0.8153\n",
            "Epoch 140/200\n",
            "24/24 [==============================] - 0s 6ms/step - loss: 0.0787 - accuracy: 0.8133\n",
            "Epoch 141/200\n",
            "24/24 [==============================] - 0s 6ms/step - loss: 0.0787 - accuracy: 0.8143\n",
            "Epoch 142/200\n",
            "24/24 [==============================] - 0s 6ms/step - loss: 0.0783 - accuracy: 0.8141\n",
            "Epoch 143/200\n",
            "24/24 [==============================] - 0s 6ms/step - loss: 0.0787 - accuracy: 0.8144\n",
            "Epoch 144/200\n",
            "24/24 [==============================] - 0s 6ms/step - loss: 0.0784 - accuracy: 0.8148\n",
            "Epoch 145/200\n",
            "24/24 [==============================] - 0s 6ms/step - loss: 0.0784 - accuracy: 0.8138\n",
            "Epoch 146/200\n",
            "24/24 [==============================] - 0s 6ms/step - loss: 0.0785 - accuracy: 0.8146\n",
            "Epoch 147/200\n",
            "24/24 [==============================] - 0s 6ms/step - loss: 0.0785 - accuracy: 0.8136\n",
            "Epoch 148/200\n",
            "24/24 [==============================] - 0s 6ms/step - loss: 0.0784 - accuracy: 0.8146\n",
            "Epoch 149/200\n",
            "24/24 [==============================] - 0s 6ms/step - loss: 0.0789 - accuracy: 0.8142\n",
            "Epoch 150/200\n",
            "24/24 [==============================] - 0s 6ms/step - loss: 0.0782 - accuracy: 0.8140\n",
            "Epoch 151/200\n",
            "24/24 [==============================] - 0s 6ms/step - loss: 0.0787 - accuracy: 0.8140\n",
            "Epoch 152/200\n",
            "24/24 [==============================] - 0s 6ms/step - loss: 0.0777 - accuracy: 0.8153\n",
            "Epoch 153/200\n",
            "24/24 [==============================] - 0s 6ms/step - loss: 0.0787 - accuracy: 0.8136\n",
            "Epoch 154/200\n",
            "24/24 [==============================] - 0s 6ms/step - loss: 0.0788 - accuracy: 0.8127\n",
            "Epoch 155/200\n",
            "24/24 [==============================] - 0s 6ms/step - loss: 0.0783 - accuracy: 0.8151\n",
            "Epoch 156/200\n",
            "24/24 [==============================] - 0s 6ms/step - loss: 0.0779 - accuracy: 0.8151\n",
            "Epoch 157/200\n",
            "24/24 [==============================] - 0s 6ms/step - loss: 0.0786 - accuracy: 0.8131\n",
            "Epoch 158/200\n",
            "24/24 [==============================] - 0s 6ms/step - loss: 0.0792 - accuracy: 0.8140\n",
            "Epoch 159/200\n",
            "24/24 [==============================] - 0s 6ms/step - loss: 0.0785 - accuracy: 0.8137\n",
            "Epoch 160/200\n",
            "24/24 [==============================] - 0s 6ms/step - loss: 0.0783 - accuracy: 0.8131\n",
            "Epoch 161/200\n",
            "24/24 [==============================] - 0s 6ms/step - loss: 0.0780 - accuracy: 0.8148\n",
            "Epoch 162/200\n",
            "24/24 [==============================] - 0s 6ms/step - loss: 0.0780 - accuracy: 0.8146\n",
            "Epoch 163/200\n",
            "24/24 [==============================] - 0s 6ms/step - loss: 0.0782 - accuracy: 0.8140\n",
            "Epoch 164/200\n",
            "24/24 [==============================] - 0s 6ms/step - loss: 0.0781 - accuracy: 0.8148\n",
            "Epoch 165/200\n",
            "24/24 [==============================] - 0s 6ms/step - loss: 0.0779 - accuracy: 0.8147\n",
            "Epoch 166/200\n",
            "24/24 [==============================] - 0s 6ms/step - loss: 0.0781 - accuracy: 0.8140\n",
            "Epoch 167/200\n",
            "24/24 [==============================] - 0s 6ms/step - loss: 0.0784 - accuracy: 0.8147\n",
            "Epoch 168/200\n",
            "24/24 [==============================] - 0s 6ms/step - loss: 0.0779 - accuracy: 0.8154\n",
            "Epoch 169/200\n",
            "24/24 [==============================] - 0s 6ms/step - loss: 0.0780 - accuracy: 0.8158\n",
            "Epoch 170/200\n",
            "24/24 [==============================] - 0s 6ms/step - loss: 0.0781 - accuracy: 0.8140\n",
            "Epoch 171/200\n",
            "24/24 [==============================] - 0s 6ms/step - loss: 0.0783 - accuracy: 0.8138\n",
            "Epoch 172/200\n",
            "24/24 [==============================] - 0s 6ms/step - loss: 0.0780 - accuracy: 0.8160\n",
            "Epoch 173/200\n",
            "24/24 [==============================] - 0s 6ms/step - loss: 0.0780 - accuracy: 0.8141\n",
            "Epoch 174/200\n",
            "24/24 [==============================] - 0s 6ms/step - loss: 0.0787 - accuracy: 0.8134\n",
            "Epoch 175/200\n",
            "24/24 [==============================] - 0s 6ms/step - loss: 0.0780 - accuracy: 0.8142\n",
            "Epoch 176/200\n",
            "24/24 [==============================] - 0s 6ms/step - loss: 0.0782 - accuracy: 0.8134\n",
            "Epoch 177/200\n",
            "24/24 [==============================] - 0s 6ms/step - loss: 0.0787 - accuracy: 0.8131\n",
            "Epoch 178/200\n",
            "24/24 [==============================] - 0s 6ms/step - loss: 0.0781 - accuracy: 0.8140\n",
            "Epoch 179/200\n",
            "24/24 [==============================] - 0s 6ms/step - loss: 0.0781 - accuracy: 0.8141\n",
            "Epoch 180/200\n",
            "24/24 [==============================] - 0s 6ms/step - loss: 0.0779 - accuracy: 0.8149\n",
            "Epoch 181/200\n",
            "24/24 [==============================] - 0s 6ms/step - loss: 0.0779 - accuracy: 0.8144\n",
            "Epoch 182/200\n",
            "24/24 [==============================] - 0s 6ms/step - loss: 0.0780 - accuracy: 0.8144\n",
            "Epoch 183/200\n",
            "24/24 [==============================] - 0s 6ms/step - loss: 0.0783 - accuracy: 0.8138\n",
            "Epoch 184/200\n",
            "24/24 [==============================] - 0s 6ms/step - loss: 0.0777 - accuracy: 0.8155\n",
            "Epoch 185/200\n",
            "24/24 [==============================] - 0s 6ms/step - loss: 0.0779 - accuracy: 0.8143\n",
            "Epoch 186/200\n",
            "24/24 [==============================] - 0s 6ms/step - loss: 0.0781 - accuracy: 0.8135\n",
            "Epoch 187/200\n",
            "24/24 [==============================] - 0s 6ms/step - loss: 0.0781 - accuracy: 0.8153\n",
            "Epoch 188/200\n",
            "24/24 [==============================] - 0s 6ms/step - loss: 0.0779 - accuracy: 0.8152\n",
            "Epoch 189/200\n",
            "24/24 [==============================] - 0s 6ms/step - loss: 0.0777 - accuracy: 0.8144\n",
            "Epoch 190/200\n",
            "24/24 [==============================] - 0s 6ms/step - loss: 0.0781 - accuracy: 0.8149\n",
            "Epoch 191/200\n",
            "24/24 [==============================] - 0s 6ms/step - loss: 0.0780 - accuracy: 0.8138\n",
            "Epoch 192/200\n",
            "24/24 [==============================] - 0s 6ms/step - loss: 0.0779 - accuracy: 0.8158\n",
            "Epoch 193/200\n",
            "24/24 [==============================] - 0s 6ms/step - loss: 0.0787 - accuracy: 0.8126\n",
            "Epoch 194/200\n",
            "24/24 [==============================] - 0s 6ms/step - loss: 0.0785 - accuracy: 0.8131\n",
            "Epoch 195/200\n",
            "24/24 [==============================] - 0s 6ms/step - loss: 0.0782 - accuracy: 0.8127\n",
            "Epoch 196/200\n",
            "24/24 [==============================] - 0s 6ms/step - loss: 0.0780 - accuracy: 0.8132\n",
            "Epoch 197/200\n",
            "24/24 [==============================] - 0s 6ms/step - loss: 0.0775 - accuracy: 0.8144\n",
            "Epoch 198/200\n",
            "24/24 [==============================] - 0s 6ms/step - loss: 0.0776 - accuracy: 0.8157\n",
            "Epoch 199/200\n",
            "24/24 [==============================] - 0s 6ms/step - loss: 0.0780 - accuracy: 0.8140\n",
            "Epoch 200/200\n",
            "24/24 [==============================] - 0s 6ms/step - loss: 0.0778 - accuracy: 0.8148\n"
          ],
          "name": "stdout"
        },
        {
          "output_type": "execute_result",
          "data": {
            "text/plain": [
              "<tensorflow.python.keras.callbacks.History at 0x7f28091a8c88>"
            ]
          },
          "metadata": {
            "tags": []
          },
          "execution_count": 36
        }
      ]
    },
    {
      "cell_type": "code",
      "metadata": {
        "id": "UjjINrRpSpkR"
      },
      "source": [
        "X_test_pred = model.predict(X_test_n)"
      ],
      "execution_count": 37,
      "outputs": []
    },
    {
      "cell_type": "code",
      "metadata": {
        "colab": {
          "base_uri": "https://localhost:8080/"
        },
        "id": "BaQ26YZoSps4",
        "outputId": "cb992d18-f26c-4590-ba6d-53db3b1e33ee"
      },
      "source": [
        "X_test_pred = X_test_pred.reshape(-1,28,28)\r\n",
        "X_test_pred.shape"
      ],
      "execution_count": 38,
      "outputs": [
        {
          "output_type": "execute_result",
          "data": {
            "text/plain": [
              "(100, 28, 28)"
            ]
          },
          "metadata": {
            "tags": []
          },
          "execution_count": 38
        }
      ]
    },
    {
      "cell_type": "code",
      "metadata": {
        "id": "nV98J99JRqHt"
      },
      "source": [
        "def show_image(X):\r\n",
        "  plt.figure(figsize=(18,10))\r\n",
        "  for i in range(10):\r\n",
        "    ax = plt.subplot(1,10,i+1)\r\n",
        "    ax.imshow(X[i], cmap='gray')"
      ],
      "execution_count": 39,
      "outputs": []
    },
    {
      "cell_type": "code",
      "metadata": {
        "colab": {
          "base_uri": "https://localhost:8080/",
          "height": 153
        },
        "id": "zwAt9qGYSLP2",
        "outputId": "c8f4e8b3-a2fc-4815-966b-44187ca68a55"
      },
      "source": [
        "print(\"잡음 제거 전 테스트 데이터 10개\")\r\n",
        "show_image(X_test_n)"
      ],
      "execution_count": 40,
      "outputs": [
        {
          "output_type": "stream",
          "text": [
            "잡음 제거 전 테스트 데이터 10개\n"
          ],
          "name": "stdout"
        },
        {
          "output_type": "display_data",
          "data": {
            "image/png": "[encoded data removed]",
            "text/plain": [
              "<Figure size 1296x720 with 10 Axes>"
            ]
          },
          "metadata": {
            "tags": [],
            "needs_background": "light"
          }
        }
      ]
    },
    {
      "cell_type": "code",
      "metadata": {
        "colab": {
          "base_uri": "https://localhost:8080/",
          "height": 153
        },
        "id": "Y5nP6CCxSlrs",
        "outputId": "3f4ff32f-26e3-4774-9ef9-6385f4d248b1"
      },
      "source": [
        "print(\"잡음 제거 후 테스트 데이터 10개\")\r\n",
        "show_image(X_test_pred)"
      ],
      "execution_count": 41,
      "outputs": [
        {
          "output_type": "stream",
          "text": [
            "잡음 제거 후 테스트 데이터 10개\n"
          ],
          "name": "stdout"
        },
        {
          "output_type": "display_data",
          "data": {
            "image/png": "[encoded data removed]",
            "text/plain": [
              "<Figure size 1296x720 with 10 Axes>"
            ]
          },
          "metadata": {
            "tags": [],
            "needs_background": "light"
          }
        }
      ]
    },
    {
      "cell_type": "code",
      "metadata": {
        "id": "ohef2sHZTDX6"
      },
      "source": [
        ""
      ],
      "execution_count": 41,
      "outputs": []
    }
  ]
}