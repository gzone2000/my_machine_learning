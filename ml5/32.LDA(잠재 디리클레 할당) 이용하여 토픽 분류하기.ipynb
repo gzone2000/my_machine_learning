{
 "cells": [
  {
   "cell_type": "markdown",
   "metadata": {},
   "source": [
    "# 21.LDA(잠재 디리클레 할당) 이용하여 토픽 분류하기\n",
    "\n",
    "- 비지도학습으로 토픽 분류"
   ]
  },
  {
   "cell_type": "markdown",
   "metadata": {},
   "source": [
    "### 1) 실습을 통한 이해"
   ]
  },
  {
   "cell_type": "code",
   "execution_count": 1,
   "metadata": {},
   "outputs": [],
   "source": [
    "import pandas as pd\n",
    "import urllib.request"
   ]
  },
  {
   "cell_type": "code",
   "execution_count": 2,
   "metadata": {},
   "outputs": [],
   "source": [
    "# urllib.request.urlretrieve(\"https://raw.githubusercontent.com/franciscadias/data/master/abcnews-date-text.csv\", filename=\"abcnews-date-text.csv\")\n",
    "data = pd.read_csv('abcnews-date-text.csv', error_bad_lines=False)"
   ]
  },
  {
   "cell_type": "code",
   "execution_count": 3,
   "metadata": {},
   "outputs": [
    {
     "name": "stdout",
     "output_type": "stream",
     "text": [
      "1082168\n"
     ]
    }
   ],
   "source": [
    "print(len(data))"
   ]
  },
  {
   "cell_type": "code",
   "execution_count": 4,
   "metadata": {},
   "outputs": [
    {
     "name": "stdout",
     "output_type": "stream",
     "text": [
      "   publish_date                                      headline_text\n",
      "0      20030219  aba decides against community broadcasting lic...\n",
      "1      20030219     act fire witnesses must be aware of defamation\n",
      "2      20030219     a g calls for infrastructure protection summit\n",
      "3      20030219           air nz staff in aust strike for pay rise\n",
      "4      20030219      air nz strike to affect australian travellers\n"
     ]
    }
   ],
   "source": [
    "print(data.head(5))"
   ]
  },
  {
   "cell_type": "code",
   "execution_count": 5,
   "metadata": {},
   "outputs": [
    {
     "data": {
      "text/html": [
       "<div>\n",
       "<style scoped>\n",
       "    .dataframe tbody tr th:only-of-type {\n",
       "        vertical-align: middle;\n",
       "    }\n",
       "\n",
       "    .dataframe tbody tr th {\n",
       "        vertical-align: top;\n",
       "    }\n",
       "\n",
       "    .dataframe thead th {\n",
       "        text-align: right;\n",
       "    }\n",
       "</style>\n",
       "<table border=\"1\" class=\"dataframe\">\n",
       "  <thead>\n",
       "    <tr style=\"text-align: right;\">\n",
       "      <th></th>\n",
       "      <th>headline_text</th>\n",
       "    </tr>\n",
       "  </thead>\n",
       "  <tbody>\n",
       "    <tr>\n",
       "      <th>0</th>\n",
       "      <td>aba decides against community broadcasting lic...</td>\n",
       "    </tr>\n",
       "    <tr>\n",
       "      <th>1</th>\n",
       "      <td>act fire witnesses must be aware of defamation</td>\n",
       "    </tr>\n",
       "    <tr>\n",
       "      <th>2</th>\n",
       "      <td>a g calls for infrastructure protection summit</td>\n",
       "    </tr>\n",
       "    <tr>\n",
       "      <th>3</th>\n",
       "      <td>air nz staff in aust strike for pay rise</td>\n",
       "    </tr>\n",
       "    <tr>\n",
       "      <th>4</th>\n",
       "      <td>air nz strike to affect australian travellers</td>\n",
       "    </tr>\n",
       "  </tbody>\n",
       "</table>\n",
       "</div>"
      ],
      "text/plain": [
       "                                       headline_text\n",
       "0  aba decides against community broadcasting lic...\n",
       "1     act fire witnesses must be aware of defamation\n",
       "2     a g calls for infrastructure protection summit\n",
       "3           air nz staff in aust strike for pay rise\n",
       "4      air nz strike to affect australian travellers"
      ]
     },
     "execution_count": 5,
     "metadata": {},
     "output_type": "execute_result"
    }
   ],
   "source": [
    "# headline_text 열. 즉, 뉴스 기사 제목이므로 이 부분만 별도로 저장\n",
    "text = data[['headline_text']]\n",
    "text.head(5)"
   ]
  },
  {
   "cell_type": "markdown",
   "metadata": {},
   "source": [
    "### 2) 텍스트 전처리"
   ]
  },
  {
   "cell_type": "code",
   "execution_count": 6,
   "metadata": {},
   "outputs": [],
   "source": [
    "# !pip install nltk"
   ]
  },
  {
   "cell_type": "code",
   "execution_count": 7,
   "metadata": {},
   "outputs": [],
   "source": [
    "import nltk\n",
    "# nltk.download('punkt')"
   ]
  },
  {
   "cell_type": "code",
   "execution_count": 8,
   "metadata": {},
   "outputs": [
    {
     "name": "stderr",
     "output_type": "stream",
     "text": [
      "C:\\ProgramData\\Anaconda3\\envs\\tf2.0\\lib\\site-packages\\ipykernel_launcher.py:2: SettingWithCopyWarning: \n",
      "A value is trying to be set on a copy of a slice from a DataFrame.\n",
      "Try using .loc[row_indexer,col_indexer] = value instead\n",
      "\n",
      "See the caveats in the documentation: https://pandas.pydata.org/pandas-docs/stable/user_guide/indexing.html#returning-a-view-versus-a-copy\n",
      "  \n"
     ]
    }
   ],
   "source": [
    "# NLTK의 word_tokenize를 통해 단어 토큰화를 수행합니다.\n",
    "text['headline_text'] = text.apply(lambda row: nltk.word_tokenize(row['headline_text']), axis=1)"
   ]
  },
  {
   "cell_type": "code",
   "execution_count": 9,
   "metadata": {},
   "outputs": [
    {
     "name": "stdout",
     "output_type": "stream",
     "text": [
      "                                       headline_text\n",
      "0  [aba, decides, against, community, broadcastin...\n",
      "1  [act, fire, witnesses, must, be, aware, of, de...\n",
      "2  [a, g, calls, for, infrastructure, protection,...\n",
      "3  [air, nz, staff, in, aust, strike, for, pay, r...\n",
      "4  [air, nz, strike, to, affect, australian, trav...\n"
     ]
    }
   ],
   "source": [
    "print(text.head(5))"
   ]
  },
  {
   "cell_type": "code",
   "execution_count": 10,
   "metadata": {},
   "outputs": [
    {
     "name": "stderr",
     "output_type": "stream",
     "text": [
      "C:\\ProgramData\\Anaconda3\\envs\\tf2.0\\lib\\site-packages\\ipykernel_launcher.py:5: SettingWithCopyWarning: \n",
      "A value is trying to be set on a copy of a slice from a DataFrame.\n",
      "Try using .loc[row_indexer,col_indexer] = value instead\n",
      "\n",
      "See the caveats in the documentation: https://pandas.pydata.org/pandas-docs/stable/user_guide/indexing.html#returning-a-view-versus-a-copy\n",
      "  \"\"\"\n"
     ]
    }
   ],
   "source": [
    "# 불용어를 제거\n",
    "# nltk.download('stopwords')\n",
    "from nltk.corpus import stopwords\n",
    "stop = stopwords.words('english')\n",
    "text['headline_text'] = text['headline_text'].apply(lambda x: [word for word in x if word not in (stop)])"
   ]
  },
  {
   "cell_type": "code",
   "execution_count": 11,
   "metadata": {},
   "outputs": [
    {
     "name": "stdout",
     "output_type": "stream",
     "text": [
      "                                       headline_text\n",
      "0   [aba, decides, community, broadcasting, licence]\n",
      "1    [act, fire, witnesses, must, aware, defamation]\n",
      "2     [g, calls, infrastructure, protection, summit]\n",
      "3          [air, nz, staff, aust, strike, pay, rise]\n",
      "4  [air, nz, strike, affect, australian, travellers]\n"
     ]
    }
   ],
   "source": [
    "# 상위 5개의 샘플에 대해서 불용어를 제거하기 전과 후의 데이터만 비교해도 확실히 몇 가지 단어들이 사라진 것 확인\n",
    "# against, be, of, a, in, to 등의 단어가 제거되었습니다.\n",
    "print(text.head(5))"
   ]
  },
  {
   "cell_type": "code",
   "execution_count": 12,
   "metadata": {},
   "outputs": [
    {
     "name": "stdout",
     "output_type": "stream",
     "text": [
      "                                       headline_text\n",
      "0       [aba, decide, community, broadcast, licence]\n",
      "1      [act, fire, witness, must, aware, defamation]\n",
      "2      [g, call, infrastructure, protection, summit]\n",
      "3          [air, nz, staff, aust, strike, pay, rise]\n",
      "4  [air, nz, strike, affect, australian, travellers]\n"
     ]
    },
    {
     "name": "stderr",
     "output_type": "stream",
     "text": [
      "C:\\ProgramData\\Anaconda3\\envs\\tf2.0\\lib\\site-packages\\ipykernel_launcher.py:4: SettingWithCopyWarning: \n",
      "A value is trying to be set on a copy of a slice from a DataFrame.\n",
      "Try using .loc[row_indexer,col_indexer] = value instead\n",
      "\n",
      "See the caveats in the documentation: https://pandas.pydata.org/pandas-docs/stable/user_guide/indexing.html#returning-a-view-versus-a-copy\n",
      "  after removing the cwd from sys.path.\n"
     ]
    }
   ],
   "source": [
    "# 표제어 추출을 수행합니다. 표제어 추출로 3인칭 단수 표현을 1인칭으로 바꾸고, 과거 현재형 동사를 현재형으로 바꿉니다.\n",
    "# nltk.download('wordnet')\n",
    "from nltk.stem import WordNetLemmatizer\n",
    "text['headline_text'] = text['headline_text'].apply(lambda x: [WordNetLemmatizer().lemmatize(word, pos='v') for word in x])\n",
    "print(text.head(5))"
   ]
  },
  {
   "cell_type": "code",
   "execution_count": 13,
   "metadata": {},
   "outputs": [
    {
     "name": "stdout",
     "output_type": "stream",
     "text": [
      "0       [decide, community, broadcast, licence]\n",
      "1      [fire, witness, must, aware, defamation]\n",
      "2    [call, infrastructure, protection, summit]\n",
      "3                   [staff, aust, strike, rise]\n",
      "4      [strike, affect, australian, travellers]\n",
      "Name: headline_text, dtype: object\n"
     ]
    }
   ],
   "source": [
    "# 길이가 3이하인 단어에 대해서 제거하는 작업을 수행\n",
    "tokenized_doc = text['headline_text'].apply(lambda x: [word for word in x if len(word) > 3])\n",
    "print(tokenized_doc[:5])"
   ]
  },
  {
   "cell_type": "markdown",
   "metadata": {},
   "source": [
    "### 3) TF-IDF 행렬 만들기"
   ]
  },
  {
   "cell_type": "code",
   "execution_count": 14,
   "metadata": {},
   "outputs": [
    {
     "name": "stderr",
     "output_type": "stream",
     "text": [
      "C:\\ProgramData\\Anaconda3\\envs\\tf2.0\\lib\\site-packages\\ipykernel_launcher.py:9: SettingWithCopyWarning: \n",
      "A value is trying to be set on a copy of a slice from a DataFrame.\n",
      "Try using .loc[row_indexer,col_indexer] = value instead\n",
      "\n",
      "See the caveats in the documentation: https://pandas.pydata.org/pandas-docs/stable/user_guide/indexing.html#returning-a-view-versus-a-copy\n",
      "  if __name__ == '__main__':\n"
     ]
    }
   ],
   "source": [
    "# TfidfVectorizer는 기본적으로 토큰화가 되어있지 않은 텍스트 데이터를 입력으로 사용합니다. \n",
    "# 이를 사용하기 위해 다시 토큰화 작업을 역으로 취소하는 역토큰화(Detokenization)작업을 수행해보겠습니다.\n",
    "# 역토큰화 (토큰화 작업을 되돌림)\n",
    "detokenized_doc = []\n",
    "for i in range(len(text)):\n",
    "    t = ' '.join(tokenized_doc[i])\n",
    "    detokenized_doc.append(t)\n",
    "\n",
    "text['headline_text'] = detokenized_doc # 다시 text['headline_text']에 재저장"
   ]
  },
  {
   "cell_type": "code",
   "execution_count": 15,
   "metadata": {},
   "outputs": [
    {
     "data": {
      "text/plain": [
       "0       decide community broadcast licence\n",
       "1       fire witness must aware defamation\n",
       "2    call infrastructure protection summit\n",
       "3                   staff aust strike rise\n",
       "4      strike affect australian travellers\n",
       "Name: headline_text, dtype: object"
      ]
     },
     "execution_count": 15,
     "metadata": {},
     "output_type": "execute_result"
    }
   ],
   "source": [
    "text['headline_text'][:5]"
   ]
  },
  {
   "cell_type": "code",
   "execution_count": 16,
   "metadata": {},
   "outputs": [
    {
     "data": {
      "text/plain": [
       "(1082168, 1000)"
      ]
     },
     "execution_count": 16,
     "metadata": {},
     "output_type": "execute_result"
    }
   ],
   "source": [
    "# TfidfVectorizer를 TF-IDF 행렬을 만들 것입니다. \n",
    "# 텍스트 데이터에 있는 모든 단어를 가지고 행렬을 만들 수도 있겠지만, 여기서는 간단히 1,000개의 단어로 제한하겠습니다.\n",
    "from sklearn.feature_extraction.text import TfidfVectorizer\n",
    "vectorizer = TfidfVectorizer(stop_words='english', max_features= 1000) # 상위 1,000개의 단어를 보존 \n",
    "X = vectorizer.fit_transform(text['headline_text'])\n",
    "X.shape # TF-IDF 행렬의 크기 확인"
   ]
  },
  {
   "cell_type": "code",
   "execution_count": 17,
   "metadata": {},
   "outputs": [
    {
     "name": "stdout",
     "output_type": "stream",
     "text": [
      "{'decide': 255, 'community': 191, 'licence': 521, 'witness': 981, 'infrastructure': 457, 'protection': 678, 'summit': 858, 'staff': 833, 'aust': 59, 'strike': 847, 'rise': 745, 'affect': 16, 'australian': 61, 'jump': 486, 'record': 707, 'break': 112, 'aussie': 57, 'waste': 962, 'match': 551, 'address': 13, 'security': 782, 'council': 213, 'iraq': 469, 'australia': 60, 'million': 563, 'celebrate': 150, 'plan': 629, 'ahead': 22, 'boost': 105, 'water': 964, 'supply': 860, 'unite': 936, 'state': 838, 'dismiss': 274, 'report': 724, 'troop': 925, 'british': 116, 'arrive': 48, 'lead': 508, 'double': 279, 'bushfire': 125, 'victims': 946, 'urge': 943, 'businesses': 127, 'prepare': 656, 'attack': 54, 'final': 342, 'defeat': 258, 'fuel': 371, 'leave': 515, 'miss': 567, 'fund': 372, 'bank': 74, 'home': 429, 'help': 416, 'youth': 996, 'chief': 160, 'fail': 321, 'secure': 781, 'councillor': 214, 'protect': 677, 'heritage': 417, 'welcome': 969, 'ambulance': 30, 'levy': 518, 'decision': 256, 'tell': 888, 'leadership': 511, 'threat': 898, 'expect': 311, 'death': 251, 'toll': 906, 'continue': 205, 'hold': 427, 'iraqi': 470, 'learn': 514, 'march': 546, 'anger': 33, 'govt': 388, 'soldier': 819, 'dispute': 275, 'process': 667, 'plant': 631, 'phone': 625, 'england': 306, 'change': 156, 'recover': 708, 'clean': 172, 'cost': 211, 'seek': 783, 'build': 120, 'feed': 333, 'national': 576, 'firefighters': 347, 'spill': 827, 'injure': 458, 'head': 410, 'highway': 422, 'crash': 222, 'profit': 669, 'domestic': 278, 'violence': 951, 'risk': 746, 'announce': 36, 'bridge': 113, 'work': 987, 'upgrade': 940, 'court': 219, 'accuse': 11, 'policy': 641, 'girl': 383, 'gold': 385, 'coast': 182, 'hear': 412, 'project': 671, 'club': 178, 'feel': 334, 'smoke': 815, 'impact': 445, 'blame': 92, 'green': 394, 'offer': 592, 'police': 640, 'station': 839, 'group': 395, 'meet': 555, 'north': 584, 'west': 971, 'rock': 752, 'gain': 374, 'access': 9, 'credit': 224, 'card': 142, 'issue': 476, 'come': 184, 'health': 411, 'minister': 566, 'heavy': 415, 'survey': 866, 'near': 579, 'pull': 683, 'open': 600, 'inquest': 460, 'underway': 932, 'investigation': 466, 'creek': 225, 'plead': 636, 'white': 975, 'house': 437, 'arrest': 47, 'bomb': 101, 'vote': 954, 'river': 747, 'management': 545, 'israeli': 475, 'force': 357, 'push': 684, 'gaza': 378, 'consider': 203, 'murder': 573, 'case': 144, 'allege': 28, 'scare': 769, 'surprise': 865, 'confidence': 200, 'hand': 405, 'demand': 263, 'service': 792, 'central': 151, 'attempt': 55, 'charge': 157, 'aboriginal': 5, 'raid': 693, 'jail': 477, 'fraud': 365, 'light': 524, 'plane': 630, 'lobby': 532, 'lose': 538, 'seat': 778, 'drug': 290, 'crop': 233, 'western': 972, 'mayor': 552, 'warn': 960, 'protesters': 680, 'focus': 354, 'hill': 423, 'woes': 982, 'lift': 523, 'growth': 398, 'young': 995, 'drink': 283, 'alcohol': 24, 'restrictions': 734, 'predict': 654, 'northern': 585, 'women': 984, 'live': 531, 'raise': 696, 'hospital': 433, 'concern': 196, 'parliament': 614, 'reject': 717, 'claim': 169, 'clear': 173, 'defend': 260, 'zealand': 997, 'zimbabwe': 998, 'race': 692, 'campaign': 132, 'pledge': 637, 'drought': 288, 'relief': 719, 'nurse': 589, 'number': 588, 'asylum': 53, 'japanese': 479, 'student': 850, 'time': 903, 'stay': 840, 'politics': 643, 'opposition': 602, 'begin': 82, 'students': 851, 'world': 990, 'cross': 234, 'country': 217, 'doubt': 280, 'rule': 759, 'pair': 610, 'face': 319, 'avoid': 65, 'lions': 529, 'peace': 619, 'agreement': 21, 'bring': 114, 'second': 779, 'farmers': 327, 'crack': 220, 'driver': 285, 'safety': 765, 'federal': 331, 'crime': 228, 'probe': 664, 'launch': 505, 'program': 670, 'monitor': 570, 'forest': 360, 'harvest': 408, 'public': 682, 'check': 159, 'qantas': 685, 'international': 462, 'crew': 226, 'unions': 934, 'sack': 763, 'question': 690, 'grow': 396, 'control': 207, 'trial': 924, 'olympic': 597, 'rain': 695, 'ease': 295, 'highlight': 421, 'stock': 843, 'order': 603, 'anti': 38, 'authorities': 64, 'surgery': 864, 'closure': 177, 'angry': 34, 'review': 742, 'premier': 655, 'action': 12, 'murray': 574, 'stand': 835, 'search': 776, 'shire': 800, 'kill': 491, 'slow': 811, 'recovery': 709, 'economy': 298, 'line': 527, 'delay': 261, 'label': 497, 'shark': 797, 'sign': 807, 'stop': 844, 'sugar': 855, 'industry': 456, 'reveal': 741, 'surge': 863, 'sales': 767, 'look': 536, 'future': 373, 'place': 628, 'talk': 877, 'asian': 51, 'nuclear': 587, 'downer': 281, 'tasmanian': 880, 'scientists': 772, 'east': 296, 'deny': 264, 'quit': 691, 'teen': 885, 'test': 894, 'thousands': 897, 'remember': 721, 'darwin': 243, 'support': 861, 'protest': 679, 'tree': 923, 'disease': 273, 'study': 852, 'target': 878, 'local': 533, 'councils': 215, 'poll': 644, 'victorian': 948, 'honour': 430, 'award': 67, 'retire': 738, 'season': 777, 'coach': 179, 'players': 634, 'friday': 369, 'master': 550, 'paul': 618, 'williams': 978, 'warriors': 961, 'wine': 980, 'dead': 248, 'rebel': 704, 'philippines': 624, 'army': 46, 'sale': 766, 'higher': 420, 'education': 300, 'appoint': 42, 'land': 501, 'declare': 257, 'result': 735, 'cancel': 134, 'release': 718, 'flag': 350, 'port': 649, 'baby': 69, 'burn': 123, 'brisbane': 115, 'weather': 965, 'cause': 149, 'nationals': 577, 'high': 419, 'doctor': 276, 'wait': 955, 'inquiry': 461, 'wind': 979, 'bush': 124, 'hope': 431, 'late': 503, 'clash': 171, 'smash': 813, 'mark': 548, 'shock': 801, 'christmas': 166, 'detention': 268, 'centre': 152, 'defence': 259, 'spend': 826, 'indigenous': 452, 'legal': 516, 'make': 544, 'emergency': 304, 'general': 379, 'step': 842, 'fear': 330, 'compo': 195, 'slam': 810, 'away': 68, 'reach': 701, 'early': 294, 'development': 269, 'receive': 706, 'research': 727, 'grant': 392, 'king': 494, 'investigate': 465, 'economic': 297, 'losses': 540, 'agree': 20, 'fight': 338, 'families': 323, 'president': 657, 'join': 482, 'hail': 401, 'victory': 949, 'australians': 62, 'boss': 107, 'blaze': 94, 'fish': 349, 'flight': 351, 'wont': 986, 'worker': 988, 'guilty': 400, 'theft': 896, 'start': 837, 'forum': 363, 'regional': 716, 'need': 580, 'france': 364, 'drop': 287, 'french': 367, 'site': 809, 'price': 660, 'newcastle': 581, 'india': 450, 'gippsland': 382, 'remain': 720, 'guard': 399, 'improve': 447, 'child': 161, 'suicide': 856, 'dump': 292, 'terror': 892, 'praise': 653, 'reef': 712, 'score': 773, 'howard': 438, 'criticism': 232, 'crisis': 229, 'want': 959, 'illegal': 444, 'spot': 829, 'melbourne': 556, 'draw': 282, 'likely': 525, 'threaten': 899, 'finals': 343, 'stage': 834, 'iran': 468, 'military': 561, 'human': 439, 'rate': 700, 'rescue': 726, 'book': 103, 'date': 245, 'allow': 29, 'visit': 952, 'appeal': 41, 'post': 651, 'loss': 539, 'point': 639, 'airport': 23, 'close': 175, 'accident': 10, 'suffer': 854, 'damage': 241, 'apologise': 40, 'await': 66, 'sentence': 789, 'incident': 448, 'stab': 832, 'refuse': 715, 'bail': 71, 'robbery': 751, 'efforts': 301, 'zone': 999, 'challenge': 153, 'miner': 564, 'suspect': 868, 'hotel': 435, 'rally': 697, 'park': 613, 'teachers': 883, 'union': 933, 'ready': 702, 'labor': 498, 'business': 126, 'boat': 99, 'thursday': 901, 'church': 167, 'coalition': 181, 'election': 303, 'benefit': 84, 'roll': 754, 'disaster': 271, 'promise': 672, 'people': 620, 'trap': 920, 'pilot': 626, 'adelaide': 14, 'cannabis': 137, 'edge': 299, 'family': 324, 'office': 593, 'trade': 916, 'link': 528, 'camp': 131, 'asia': 50, 'good': 386, 'fatal': 328, 'condemn': 197, 'follow': 355, 'flood': 352, 'despite': 266, 'upset': 941, 'deal': 250, 'road': 748, 'tackle': 875, 'real': 703, 'fine': 345, 'school': 771, 'reopen': 723, 'injury': 459, 'native': 578, 'socceroos': 816, 'solar': 818, 'turn': 930, 'sport': 828, 'liberal': 519, 'play': 632, 'taxi': 881, 'increase': 449, 'expert': 312, 'dairy': 240, 'field': 337, 'days': 247, 'loom': 537, 'tough': 908, 'tourism': 910, 'woman': 983, 'truck': 926, 'destroy': 267, 'firm': 348, 'debate': 253, 'market': 549, 'seven': 793, 'years': 994, 'track': 915, 'speak': 824, 'battle': 77, 'power': 652, 'reporter': 725, 'accc': 7, 'petrol': 623, 'lower': 541, 'scrap': 775, 'hurt': 443, 'cash': 145, 'reform': 713, 'deliver': 262, 'list': 530, 'global': 384, 'confident': 201, 'press': 658, 'island': 473, 'dollar': 277, 'share': 796, 'week': 967, 'territory': 891, 'block': 95, 'beattie': 80, 'steal': 841, 'production': 668, 'league': 512, 'year': 993, 'cairns': 130, 'canberra': 133, 'brawl': 110, 'recall': 705, 'sink': 808, 'expand': 309, 'china': 163, 'africa': 19, 'residents': 730, 'sheep': 798, 'cattle': 148, 'export': 316, 'riot': 744, 'costello': 212, 'approve': 44, 'farm': 325, 'korea': 496, 'prove': 681, 'tigers': 902, 'chase': 158, 'complete': 194, 'tourist': 911, 'roads': 749, 'long': 535, 'dept': 265, 'rural': 760, 'news': 582, 'import': 446, 'great': 393, 'right': 743, 'cricket': 227, 'quarter': 687, 'horse': 432, 'hundreds': 440, 'indian': 451, 'indonesia': 453, 'travel': 921, 'industrial': 455, 'interview': 464, 'drown': 289, 'surf': 862, 'player': 633, 'pakistan': 611, 'return': 739, 'spark': 823, 'lake': 500, 'body': 100, 'sell': 786, 'bali': 72, 'life': 522, 'problems': 666, 'hunt': 441, 'city': 168, 'south': 820, 'forecast': 358, 'treatment': 922, 'coroner': 209, 'free': 366, 'prison': 661, 'suspend': 869, 'rugby': 758, 'super': 859, 'owners': 607, 'revamp': 740, 'comment': 185, 'care': 143, 'workers': 989, 'extend': 317, 'update': 939, 'rail': 694, 'weekend': 968, 'sector': 780, 'team': 884, 'round': 755, 'australias': 63, 'experts': 313, 'speed': 825, 'better': 86, 'milk': 562, 'shortage': 805, 'send': 788, 'best': 85, 'telstra': 889, 'timor': 904, 'drive': 284, 'contract': 206, 'gather': 377, 'researchers': 728, 'victoria': 947, 'confirm': 202, 'night': 583, 'propose': 676, 'game': 375, 'black': 91, 'teenager': 886, 'cancer': 135, 'figure': 339, 'reds': 710, 'title': 905, 'captain': 139, 'ship': 799, 'wheat': 974, 'assault': 52, 'bangladesh': 73, 'film': 341, 'eagle': 293, 'star': 836, 'leaders': 510, 'political': 642, 'japan': 478, 'fresh': 368, 'johnson': 481, 'hawk': 409, 'party': 615, 'beat': 79, 'hunter': 442, 'valley': 944, 'tour': 909, 'fall': 322, 'champion': 154, 'justice': 488, 'music': 575, 'hewitt': 418, 'killer': 492, 'ferry': 335, 'shop': 803, 'money': 569, 'volunteer': 953, 'save': 768, 'beach': 78, 'struggle': 849, 'alice': 26, 'discuss': 272, 'aussies': 58, 'lack': 499, 'brown': 118, 'beef': 81, 'shoot': 802, 'blue': 97, 'deadly': 249, 'grand': 390, 'crackdown': 221, 'criticise': 231, 'prompt': 673, 'swan': 871, 'bash': 76, 'swim': 872, 'federer': 332, 'pressure': 659, 'capture': 140, 'flow': 353, 'welfare': 970, 'perth': 621, 'director': 270, 'storm': 845, 'knight': 495, 'teacher': 882, 'tourists': 912, 'chopper': 165, 'role': 753, 'candidate': 136, 'level': 517, 'afghan': 17, 'grain': 389, 'alert': 25, 'shake': 795, 'cabinet': 129, 'budget': 119, 'blast': 93, 'media': 553, 'miners': 565, 'evidence': 308, 'coal': 180, 'boom': 104, 'property': 674, 'committee': 189, 'conference': 199, 'host': 434, 'drivers': 286, 'watch': 963, 'train': 918, 'abuse': 6, 'laws': 506, 'oppose': 601, 'squad': 831, 'heat': 414, 'historic': 424, 'hobart': 426, 'womens': 985, 'form': 362, 'uranium': 942, 'lawyer': 507, 'marine': 547, 'jones': 483, 'unit': 935, 'harbour': 407, 'pacific': 608, 'suspicious': 870, 'victim': 945, 'officer': 594, 'private': 662, 'queensland': 689, 'communities': 190, 'answer': 37, 'seize': 785, 'wall': 957, 'officials': 596, 'fiji': 340, 'town': 913, 'condition': 198, 'board': 98, 'wild': 977, 'half': 402, 'walk': 956, 'leader': 509, 'university': 937, 'southern': 821, 'closer': 176, 'latest': 504, 'success': 853, 'quake': 686, 'royal': 756, 'cruise': 237, 'sydney': 873, 'corruption': 210, 'allegations': 27, 'mackay': 542, 'response': 733, 'michael': 560, 'construction': 204, 'safe': 764, 'medical': 554, 'wednesday': 966, 'worry': 991, 'pass': 616, 'online': 599, 'explain': 314, 'rare': 699, 'commission': 186, 'rudd': 757, 'keen': 489, 'mother': 571, 'explosion': 315, 'hall': 403, 'crowd': 236, 'border': 106, 'admit': 15, 'count': 216, 'small': 812, 'terrorism': 893, 'transport': 919, 'couple': 218, 'whale': 973, 'children': 162, 'finish': 346, 'father': 329, 'bendigo': 83, 'deaths': 252, 'pool': 646, 'foreign': 359, 'islamic': 472, 'judge': 484, 'government': 387, 'resign': 731, 'custody': 238, 'official': 595, 'festival': 336, 'animal': 35, 'limit': 526, 'sexual': 794, 'halt': 404, 'convict': 208, 'roar': 750, 'breach': 111, 'townsville': 914, 'resume': 736, 'food': 356, 'heart': 413, 'resources': 732, 'abbott': 4, 'unveil': 938, 'memorial': 557, 'proposal': 675, 'russia': 761, 'chinese': 164, 'critical': 230, 'rethink': 737, 'term': 890, 'darling': 242, 'catch': 147, 'farmer': 326, 'refugee': 714, 'investment': 467, 'major': 543, 'rape': 698, 'survive': 867, 'accept': 8, 'problem': 665, 'remote': 722, 'scott': 774, 'brace': 109, 'strong': 848, 'company': 192, 'traffic': 917, 'baghdad': 70, 'video': 950, 'porn': 648, 'blow': 96, 'bird': 89, 'merger': 559, 'indonesian': 454, 'cyclone': 239, 'crow': 235, 'create': 223, 'base': 75, 'senate': 787, 'london': 534, 'street': 846, 'kick': 490, 'ponting': 645, 'fruit': 370, 'pipeline': 627, 'drum': 291, 'elderly': 302, 'chance': 155, 'bull': 121, 'extra': 318, 'mental': 558, 'olympics': 598, 'russian': 762, 'reserve': 729, 'tasmania': 879, 'bite': 90, 'lanka': 502, 'short': 804, 'commit': 188, 'package': 609, 'history': 425, 'patients': 617, 'happy': 406, 'september': 790, 'spring': 830, 'teens': 887, 'debt': 254, 'internet': 463, 'november': 586, 'israel': 474, 'escape': 307, 'forestry': 361, 'scheme': 770, 'parent': 612, 'holiday': 428, 'poor': 647, 'factory': 320, 'collapse': 183, 'approval': 43, 'bust': 128, 'reduce': 711, 'sight': 806, 'commissioner': 187, 'growers': 397, 'space': 822, 'possible': 650, 'bombers': 102, 'takeover': 876, 'bulldog': 122, 'anzac': 39, 'prize': 663, 'financial': 344, 'gang': 376, 'expansion': 310, 'energy': 305, 'june': 487, 'clarke': 170, 'compensation': 193, 'amid': 31, '2014': 1, 'april': 45, 'capital': 138, 'seekers': 784, 'thai': 895, 'hour': 436, 'social': 817, 'plea': 635, 'climate': 174, 'afghanistan': 18, 'data': 244, 'wallabies': 958, 'wife': 976, 'series': 791, 'outbreak': 606, 'asbestos': 49, 'john': 480, 'boys': 108, 'broncos': 117, 'throw': 900, 'peter': 622, 'bikie': 88, 'syria': 874, 'cast': 146, 'leak': 513, 'smith': 814, 'queen': 688, 'wrap': 992, 'bike': 87, 'mount': 572, 'monday': 568, 'outback': 605, 'july': 485, 'kimberley': 493, 'liberals': 520, 'grandstand': 391, 'origin': 604, 'iron': 471, 'turnbull': 931, 'october': 591, 'august': 56, 'trump': 927, 'george': 380, 'david': 246, 'tony': 907, 'tuesday': 929, 'carbon': 141, 'andrew': 32, 'gillard': 381, 'tsunami': 928, 'podcast': 638, '2013': 0, '2016': 3, '2015': 2, 'obama': 590, 'summary': 857}\n"
     ]
    }
   ],
   "source": [
    "print(vectorizer.vocabulary_)"
   ]
  },
  {
   "cell_type": "code",
   "execution_count": 18,
   "metadata": {},
   "outputs": [
    {
     "name": "stdout",
     "output_type": "stream",
     "text": [
      "[[0. 0. 0. ... 0. 0. 0.]\n",
      " [0. 0. 0. ... 0. 0. 0.]\n",
      " [0. 0. 0. ... 0. 0. 0.]\n",
      " [0. 0. 0. ... 0. 0. 0.]]\n"
     ]
    }
   ],
   "source": [
    "print(vectorizer.transform(text['headline_text'])[:4].toarray())"
   ]
  },
  {
   "cell_type": "markdown",
   "metadata": {},
   "source": [
    "### 4) 토픽 모델링"
   ]
  },
  {
   "cell_type": "code",
   "execution_count": 19,
   "metadata": {},
   "outputs": [],
   "source": [
    "# 10개의 토픽 분류 : n_components=10\n",
    "from sklearn.decomposition import LatentDirichletAllocation\n",
    "lda_model=LatentDirichletAllocation(n_components=10,learning_method='online',random_state=777,max_iter=1)"
   ]
  },
  {
   "cell_type": "code",
   "execution_count": 20,
   "metadata": {},
   "outputs": [],
   "source": [
    "lda_top=lda_model.fit_transform(X)"
   ]
  },
  {
   "cell_type": "code",
   "execution_count": 21,
   "metadata": {},
   "outputs": [
    {
     "name": "stdout",
     "output_type": "stream",
     "text": [
      "[[1.00001533e-01 1.00001269e-01 1.00004179e-01 ... 1.00006124e-01\n",
      "  1.00003111e-01 1.00003064e-01]\n",
      " [1.00001199e-01 1.13513398e+03 3.50170830e+03 ... 1.00009349e-01\n",
      "  1.00001896e-01 1.00002937e-01]\n",
      " [1.00001811e-01 1.00001151e-01 1.00003566e-01 ... 1.00002693e-01\n",
      "  1.00002061e-01 7.53381835e+02]\n",
      " ...\n",
      " [1.00001065e-01 1.00001689e-01 1.00003278e-01 ... 1.00006721e-01\n",
      "  1.00004902e-01 1.00004759e-01]\n",
      " [1.00002401e-01 1.00000732e-01 1.00002989e-01 ... 1.00003517e-01\n",
      "  1.00001428e-01 1.00005266e-01]\n",
      " [1.00003427e-01 1.00002313e-01 1.00007340e-01 ... 1.00003732e-01\n",
      "  1.00001207e-01 1.00005153e-01]]\n",
      "(10, 1000)\n"
     ]
    }
   ],
   "source": [
    "print(lda_model.components_)\n",
    "print(lda_model.components_.shape) "
   ]
  },
  {
   "cell_type": "code",
   "execution_count": 22,
   "metadata": {},
   "outputs": [
    {
     "data": {
      "text/plain": [
       "['2013',\n",
       " '2014',\n",
       " '2015',\n",
       " '2016',\n",
       " 'abbott',\n",
       " 'aboriginal',\n",
       " 'abuse',\n",
       " 'accc',\n",
       " 'accept',\n",
       " 'access']"
      ]
     },
     "execution_count": 22,
     "metadata": {},
     "output_type": "execute_result"
    }
   ],
   "source": [
    "terms = vectorizer.get_feature_names() # 단어 집합. 1,000개의 단어가 저장됨.\n",
    "terms[:10]"
   ]
  },
  {
   "cell_type": "code",
   "execution_count": 23,
   "metadata": {},
   "outputs": [
    {
     "name": "stdout",
     "output_type": "stream",
     "text": [
      "Topic 1: [('government', 8725.19), ('sydney', 8393.29), ('queensland', 7720.12), ('change', 5874.27), ('home', 5674.38)]\n",
      "Topic 2: [('australia', 13691.08), ('australian', 11088.95), ('melbourne', 7528.43), ('world', 6707.7), ('south', 6677.03)]\n",
      "Topic 3: [('death', 5935.06), ('interview', 5924.98), ('kill', 5851.6), ('jail', 4632.85), ('life', 4275.27)]\n",
      "Topic 4: [('house', 6113.49), ('2016', 5488.19), ('state', 4923.41), ('brisbane', 4857.21), ('tasmania', 4610.97)]\n",
      "Topic 5: [('court', 7542.74), ('attack', 6959.64), ('open', 5663.0), ('face', 5193.63), ('warn', 5115.01)]\n",
      "Topic 6: [('market', 5545.86), ('rural', 5502.89), ('plan', 4828.71), ('indigenous', 4223.4), ('power', 3968.26)]\n",
      "Topic 7: [('charge', 8428.8), ('election', 7561.63), ('adelaide', 6758.36), ('make', 5658.99), ('test', 5062.69)]\n",
      "Topic 8: [('police', 12092.44), ('crash', 5281.14), ('drug', 4290.87), ('beat', 3257.58), ('rise', 2934.92)]\n",
      "Topic 9: [('fund', 4693.03), ('labor', 4047.69), ('national', 4038.68), ('council', 4006.62), ('claim', 3604.75)]\n",
      "Topic 10: [('trump', 11966.41), ('perth', 6456.53), ('report', 5611.33), ('school', 5465.06), ('woman', 5456.76)]\n"
     ]
    }
   ],
   "source": [
    "# 토픽에 속한 단어 5개만 보여줌 : n=5\n",
    "def get_topics(components, feature_names, n=5):\n",
    "    for idx, topic in enumerate(components):\n",
    "        print(\"Topic %d:\" % (idx+1), [(feature_names[i], topic[i].round(2)) for i in topic.argsort()[:-n - 1:-1]])\n",
    "get_topics(lda_model.components_,terms)"
   ]
  },
  {
   "cell_type": "code",
   "execution_count": null,
   "metadata": {},
   "outputs": [],
   "source": []
  }
 ],
 "metadata": {
  "kernelspec": {
   "display_name": "Python 3",
   "language": "python",
   "name": "python3"
  },
  "language_info": {
   "codemirror_mode": {
    "name": "ipython",
    "version": 3
   },
   "file_extension": ".py",
   "mimetype": "text/x-python",
   "name": "python",
   "nbconvert_exporter": "python",
   "pygments_lexer": "ipython3",
   "version": "3.7.0"
  }
 },
 "nbformat": 4,
 "nbformat_minor": 4
}
