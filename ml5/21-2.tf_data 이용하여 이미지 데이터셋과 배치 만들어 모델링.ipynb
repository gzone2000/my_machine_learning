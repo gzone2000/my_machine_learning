{
 "cells": [
  {
   "cell_type": "markdown",
   "metadata": {},
   "source": [
    "# tf_data 이용하여 이미지 데이터셋과 배치 만들어 모델링"
   ]
  },
  {
   "cell_type": "code",
   "execution_count": 1,
   "metadata": {
    "colab": {},
    "colab_type": "code",
    "executionInfo": {
     "elapsed": 678,
     "status": "ok",
     "timestamp": 1592967427957,
     "user": {
      "displayName": "송승원",
      "photoUrl": "",
      "userId": "17781894885244685983"
     },
     "user_tz": -540
    },
    "id": "9ytzvKHiNJxD"
   },
   "outputs": [],
   "source": [
    "import os \n",
    "from glob import glob\n",
    "\n",
    "import numpy as np\n",
    "import tensorflow as tf\n",
    "\n",
    "import matplotlib.pyplot as plt\n",
    "%matplotlib inline"
   ]
  },
  {
   "cell_type": "markdown",
   "metadata": {},
   "source": [
    "###  이미지 파일 하나 읽어 이미지 보기"
   ]
  },
  {
   "cell_type": "code",
   "execution_count": 2,
   "metadata": {
    "colab": {},
    "colab_type": "code",
    "id": "EnsarWl2RX3L"
   },
   "outputs": [
    {
     "data": {
      "text/plain": [
       "['.ipynb_checkpoints',\n",
       " 'cifar',\n",
       " 'cifar.zip',\n",
       " 'dog1.jfif',\n",
       " 'mnist_png',\n",
       " 'mnist_png.zip',\n",
       " 'tensorflow flow_from_dataframe 이용하여 이미지 읽고 모델만들기.ipynb',\n",
       " 'tensorflow flow_from_directory 이용하여 이미지 읽고 모델만들기.ipynb',\n",
       " 'test_dataset.csv',\n",
       " 'tf_data 이용하여 이미지 데이터셋과 배치 만들어 모델링.ipynb',\n",
       " 'train_dataset.csv',\n",
       " 'Untitled.ipynb',\n",
       " '[해설]09.tensorflow 2.0 - 05.flow_from_dataframe_dataframe_적용하여_학습_시키기.ipynb',\n",
       " '[해설]10~11.tensorflow 2.0 - 06~07.tf_data_load_image___make_batch.ipynb',\n",
       " '[해설]13~14.tensorflow 2.0 - 09~10.callbacks_tensorboard.ipynb',\n",
       " '[해설]15.tensorflow 2.0 - 11.callbacks_learning_rate_schedule.ipynb',\n",
       " '[해설]17.tensorflow 2.0 - 13.post_process_history_(결과_확인).ipynb',\n",
       " '[해설]18.tensorflow 2.0 - 14.post_process_predict___predict_generator.ipynb',\n",
       " '[해설]19.tensorflow 2.0 - 15.save_and_load_model_h5.ipynb',\n",
       " '데이터셋 만들때 같이 활용 12. callbacks - learning rate schedule.ipynb']"
      ]
     },
     "execution_count": 2,
     "metadata": {},
     "output_type": "execute_result"
    }
   ],
   "source": [
    "os.listdir()"
   ]
  },
  {
   "cell_type": "code",
   "execution_count": 3,
   "metadata": {
    "colab": {},
    "colab_type": "code",
    "executionInfo": {
     "elapsed": 416,
     "status": "ok",
     "timestamp": 1592967430204,
     "user": {
      "displayName": "송승원",
      "photoUrl": "",
      "userId": "17781894885244685983"
     },
     "user_tz": -540
    },
    "id": "0hhbzupcNJxG"
   },
   "outputs": [],
   "source": [
    "path = './cifar/cifar/train/0_frog.png'"
   ]
  },
  {
   "cell_type": "code",
   "execution_count": 4,
   "metadata": {
    "colab": {
     "base_uri": "https://localhost:8080/",
     "height": 448
    },
    "colab_type": "code",
    "executionInfo": {
     "elapsed": 990,
     "status": "error",
     "timestamp": 1592967432181,
     "user": {
      "displayName": "송승원",
      "photoUrl": "",
      "userId": "17781894885244685983"
     },
     "user_tz": -540
    },
    "id": "v74p8u-mNJxI",
    "outputId": "e40a90b7-6c08-4a49-bf5d-6aa2fd3cb24c"
   },
   "outputs": [],
   "source": [
    "gfile = tf.io.read_file(path)\n",
    "image = tf.io.decode_image(gfile, dtype=tf.float32)"
   ]
  },
  {
   "cell_type": "code",
   "execution_count": 5,
   "metadata": {
    "colab": {},
    "colab_type": "code",
    "id": "bkR-hGWSNJxK",
    "outputId": "261e35a9-a45e-4bb3-aaeb-1ca20d620786"
   },
   "outputs": [
    {
     "data": {
      "text/plain": [
       "TensorShape([32, 32, 3])"
      ]
     },
     "execution_count": 5,
     "metadata": {},
     "output_type": "execute_result"
    }
   ],
   "source": [
    "image.shape"
   ]
  },
  {
   "cell_type": "code",
   "execution_count": 6,
   "metadata": {
    "colab": {},
    "colab_type": "code",
    "id": "2_vfnHGdNJxM",
    "outputId": "f1082dec-1a82-4a34-ceb4-6cc55c2e0e1f"
   },
   "outputs": [
    {
     "data": {
      "image/png": "[encoded data removed]",
      "text/plain": [
       "<Figure size 432x288 with 1 Axes>"
      ]
     },
     "metadata": {
      "needs_background": "light"
     },
     "output_type": "display_data"
    }
   ],
   "source": [
    "plt.imshow(image)\n",
    "plt.show()"
   ]
  },
  {
   "cell_type": "markdown",
   "metadata": {
    "colab_type": "text",
    "id": "b3B81nTqNJxO"
   },
   "source": [
    "# tf.data"
   ]
  },
  {
   "cell_type": "code",
   "execution_count": 7,
   "metadata": {
    "colab": {},
    "colab_type": "code",
    "id": "NzYGhnsrNJxO",
    "outputId": "742dbf33-3de2-41f5-e393-3f380dbe4fea"
   },
   "outputs": [
    {
     "data": {
      "text/plain": [
       "['./cifar/cifar/train\\\\0_frog.png',\n",
       " './cifar/cifar/train\\\\10000_automobile.png',\n",
       " './cifar/cifar/train\\\\10001_frog.png',\n",
       " './cifar/cifar/train\\\\10002_frog.png',\n",
       " './cifar/cifar/train\\\\10003_ship.png',\n",
       " './cifar/cifar/train\\\\10004_ship.png',\n",
       " './cifar/cifar/train\\\\10005_cat.png',\n",
       " './cifar/cifar/train\\\\10006_deer.png',\n",
       " './cifar/cifar/train\\\\10007_frog.png',\n",
       " './cifar/cifar/train\\\\10008_airplane.png']"
      ]
     },
     "execution_count": 7,
     "metadata": {},
     "output_type": "execute_result"
    }
   ],
   "source": [
    "train_paths = glob('./cifar/cifar/train/*.png')\n",
    "train_paths[:10]"
   ]
  },
  {
   "cell_type": "code",
   "execution_count": 8,
   "metadata": {
    "colab": {},
    "colab_type": "code",
    "id": "eqPXqZ0aNJxQ"
   },
   "outputs": [],
   "source": [
    "# 이미지 이름 주면 이미지 읽어 반환\n",
    "def read_image(path):\n",
    "    gfile = tf.io.read_file(path)\n",
    "    image = tf.io.decode_image(gfile, dtype=tf.float32)\n",
    "    return image"
   ]
  },
  {
   "cell_type": "code",
   "execution_count": 9,
   "metadata": {
    "colab": {},
    "colab_type": "code",
    "id": "fRqgL8wQNJxR"
   },
   "outputs": [],
   "source": [
    "# map 변환 병렬화\n",
    "AUTOTUNE = tf.data.experimental.AUTOTUNE"
   ]
  },
  {
   "cell_type": "code",
   "execution_count": 10,
   "metadata": {
    "colab": {},
    "colab_type": "code",
    "id": "bnaX3cDYNJxT"
   },
   "outputs": [],
   "source": [
    "# 이미지 읽어올 패스 지정(from_tensor_slices)하고 해당 패스에서 map 함수를 통해 이미지 읽어오기\n",
    "dataset = tf.data.Dataset.from_tensor_slices(train_paths)\n",
    "dataset = dataset.map(read_image, num_parallel_calls=AUTOTUNE)"
   ]
  },
  {
   "cell_type": "code",
   "execution_count": 11,
   "metadata": {
    "colab": {},
    "colab_type": "code",
    "id": "or1VXvZYNJxW",
    "outputId": "5057f15c-3761-44fa-b91e-eb5c531a1faa"
   },
   "outputs": [
    {
     "data": {
      "text/plain": [
       "TensorShape([32, 32, 3])"
      ]
     },
     "execution_count": 11,
     "metadata": {},
     "output_type": "execute_result"
    }
   ],
   "source": [
    "# 데이터셋에서 1개 이미지 가져오기\n",
    "tf_image = next(iter(dataset))\n",
    "tf_image.shape"
   ]
  },
  {
   "cell_type": "code",
   "execution_count": 12,
   "metadata": {
    "colab": {},
    "colab_type": "code",
    "id": "ZLIllJeTNJxX",
    "outputId": "39978f50-93ab-406a-8108-35eea6f2578f"
   },
   "outputs": [
    {
     "data": {
      "image/png": "[encoded data removed]",
      "text/plain": [
       "<Figure size 432x288 with 1 Axes>"
      ]
     },
     "metadata": {
      "needs_background": "light"
     },
     "output_type": "display_data"
    }
   ],
   "source": [
    "plt.imshow(tf_image)\n",
    "plt.show()"
   ]
  },
  {
   "cell_type": "markdown",
   "metadata": {
    "colab_type": "text",
    "id": "BIWClq7UNJxZ"
   },
   "source": [
    "## Batch로 묶기"
   ]
  },
  {
   "cell_type": "code",
   "execution_count": 13,
   "metadata": {
    "colab": {},
    "colab_type": "code",
    "id": "rT9PMlHkNJxZ"
   },
   "outputs": [],
   "source": [
    "dataset = tf.data.Dataset.from_tensor_slices(train_paths)\n",
    "dataset = dataset.map(read_image)\n",
    "dataset = dataset.batch(4)"
   ]
  },
  {
   "cell_type": "code",
   "execution_count": 14,
   "metadata": {
    "colab": {},
    "colab_type": "code",
    "id": "ZvkKW5c-NJxa",
    "outputId": "a4b72111-295f-4ec4-f22d-090b58eff158"
   },
   "outputs": [
    {
     "data": {
      "text/plain": [
       "TensorShape([4, 32, 32, 3])"
      ]
     },
     "execution_count": 14,
     "metadata": {},
     "output_type": "execute_result"
    }
   ],
   "source": [
    "tf_images = next(iter(dataset))\n",
    "tf_images.shape"
   ]
  },
  {
   "cell_type": "code",
   "execution_count": 15,
   "metadata": {
    "colab": {},
    "colab_type": "code",
    "id": "SS6GD1rzNJxc",
    "outputId": "afd7062a-5a71-4c39-b097-4868d3c04fd4"
   },
   "outputs": [
    {
     "data": {
      "image/png": "[encoded data removed]",
      "text/plain": [
       "<Figure size 432x288 with 1 Axes>"
      ]
     },
     "metadata": {
      "needs_background": "light"
     },
     "output_type": "display_data"
    },
    {
     "data": {
      "image/png": "[encoded data removed]",
      "text/plain": [
       "<Figure size 432x288 with 1 Axes>"
      ]
     },
     "metadata": {
      "needs_background": "light"
     },
     "output_type": "display_data"
    },
    {
     "data": {
      "image/png": "[encoded data removed]",
      "text/plain": [
       "<Figure size 432x288 with 1 Axes>"
      ]
     },
     "metadata": {
      "needs_background": "light"
     },
     "output_type": "display_data"
    },
    {
     "data": {
      "image/png": "[encoded data removed]",
      "text/plain": [
       "<Figure size 432x288 with 1 Axes>"
      ]
     },
     "metadata": {
      "needs_background": "light"
     },
     "output_type": "display_data"
    }
   ],
   "source": [
    "for i in range(4):\n",
    "    plt.imshow(tf_images[i])\n",
    "    plt.show()"
   ]
  },
  {
   "cell_type": "markdown",
   "metadata": {
    "colab_type": "text",
    "id": "kUb2a7t-NJxe"
   },
   "source": [
    "## Shuffle 하기"
   ]
  },
  {
   "cell_type": "code",
   "execution_count": 16,
   "metadata": {},
   "outputs": [
    {
     "data": {
      "text/plain": [
       "50000"
      ]
     },
     "execution_count": 16,
     "metadata": {},
     "output_type": "execute_result"
    }
   ],
   "source": [
    "len(train_paths)"
   ]
  },
  {
   "cell_type": "code",
   "execution_count": 17,
   "metadata": {
    "colab": {},
    "colab_type": "code",
    "id": "H6-9FZ4JNJxe"
   },
   "outputs": [],
   "source": [
    "# repeat 안주면 1 epoch에서 끝나게 되므로 여러 epoch할 경우 repeat 주어야 함.\n",
    "dataset = tf.data.Dataset.from_tensor_slices(train_paths)\n",
    "dataset = dataset.map(read_image, num_parallel_calls=AUTOTUNE)\n",
    "dataset = dataset.batch(4)\n",
    "dataset = dataset.shuffle(buffer_size=len(train_paths))\n",
    "dataset = dataset.repeat()"
   ]
  },
  {
   "cell_type": "code",
   "execution_count": 18,
   "metadata": {
    "colab": {},
    "colab_type": "code",
    "id": "gOX4eSsQNJxg",
    "outputId": "92e6b30f-758e-4f6c-c391-cef36e3dcfa7"
   },
   "outputs": [
    {
     "data": {
      "text/plain": [
       "TensorShape([4, 32, 32, 3])"
      ]
     },
     "execution_count": 18,
     "metadata": {},
     "output_type": "execute_result"
    }
   ],
   "source": [
    "# shuffle 시간 좀 걸림\n",
    "tf_images = next(iter(dataset))\n",
    "tf_images.shape"
   ]
  },
  {
   "cell_type": "code",
   "execution_count": 19,
   "metadata": {
    "colab": {},
    "colab_type": "code",
    "id": "gOX4eSsQNJxg",
    "outputId": "92e6b30f-758e-4f6c-c391-cef36e3dcfa7"
   },
   "outputs": [
    {
     "data": {
      "image/png": "[encoded data removed]",
      "text/plain": [
       "<Figure size 432x288 with 1 Axes>"
      ]
     },
     "metadata": {
      "needs_background": "light"
     },
     "output_type": "display_data"
    }
   ],
   "source": [
    "# shuffle 이전에 첫번째 이미지가 개구리 이미지이었는데, 지금은 다른 이미지로 shuffle 되것 확인\n",
    "plt.imshow(tf_images[0])\n",
    "plt.show()"
   ]
  },
  {
   "cell_type": "markdown",
   "metadata": {
    "colab_type": "text",
    "id": "55WqtYbZNJxh"
   },
   "source": [
    "## 데이터셋 만들때 이미지와 Label하고 같이 넣기 "
   ]
  },
  {
   "cell_type": "code",
   "execution_count": 20,
   "metadata": {
    "colab": {},
    "colab_type": "code",
    "id": "JU3o1gHiNJxh",
    "outputId": "b0ddd599-8f86-4ef0-f3e9-3db37c5973b2"
   },
   "outputs": [
    {
     "data": {
      "text/plain": [
       "'./cifar/cifar/train\\\\0_frog.png'"
      ]
     },
     "execution_count": 20,
     "metadata": {},
     "output_type": "execute_result"
    }
   ],
   "source": [
    "path = train_paths[0]\n",
    "path"
   ]
  },
  {
   "cell_type": "code",
   "execution_count": 21,
   "metadata": {
    "colab": {},
    "colab_type": "code",
    "id": "9IDUF5_HNJxj",
    "outputId": "f1b16e97-fa61-4e7e-e388-bae5bc5b73ed"
   },
   "outputs": [
    {
     "data": {
      "text/plain": [
       "'frog'"
      ]
     },
     "execution_count": 21,
     "metadata": {},
     "output_type": "execute_result"
    }
   ],
   "source": [
    "os.path.basename(path).replace('.png', '').split('_')[-1]"
   ]
  },
  {
   "cell_type": "code",
   "execution_count": 22,
   "metadata": {
    "colab": {},
    "colab_type": "code",
    "id": "xcG7vuKfNJxl"
   },
   "outputs": [],
   "source": [
    "def get_label(path):\n",
    "    return os.path.basename(path).replace('.png', '').split('_')[-1]"
   ]
  },
  {
   "cell_type": "code",
   "execution_count": 23,
   "metadata": {
    "colab": {},
    "colab_type": "code",
    "id": "jNNDziIuNJxm",
    "outputId": "9df352fe-e496-42a6-83c0-62e4aa2bf7c4"
   },
   "outputs": [
    {
     "data": {
      "text/plain": [
       "('./cifar/cifar/train\\\\0_frog.png', 'frog')"
      ]
     },
     "execution_count": 23,
     "metadata": {},
     "output_type": "execute_result"
    }
   ],
   "source": [
    "path, get_label(path)"
   ]
  },
  {
   "cell_type": "code",
   "execution_count": 24,
   "metadata": {
    "colab": {},
    "colab_type": "code",
    "id": "w4nZol6fNJxo",
    "outputId": "3b49a674-cb09-4b9c-f842-d4f9d08a3185"
   },
   "outputs": [
    {
     "data": {
      "text/plain": [
       "['frog', 'automobile', 'frog', 'frog', 'ship']"
      ]
     },
     "execution_count": 24,
     "metadata": {},
     "output_type": "execute_result"
    }
   ],
   "source": [
    "train_labels = [get_label(path) for path in train_paths]\n",
    "train_labels[:5]"
   ]
  },
  {
   "cell_type": "code",
   "execution_count": 25,
   "metadata": {
    "colab": {},
    "colab_type": "code",
    "id": "W2pjCJZfNJxp",
    "outputId": "94e8a260-dfc3-47f8-c942-cd2520ef74e0"
   },
   "outputs": [
    {
     "data": {
      "text/plain": [
       "array(['airplane', 'automobile', 'bird', 'cat', 'deer', 'dog', 'frog',\n",
       "       'horse', 'ship', 'truck'], dtype='<U10')"
      ]
     },
     "execution_count": 25,
     "metadata": {},
     "output_type": "execute_result"
    }
   ],
   "source": [
    "class_names = np.unique(train_labels)\n",
    "class_names"
   ]
  },
  {
   "cell_type": "code",
   "execution_count": 26,
   "metadata": {
    "colab": {},
    "colab_type": "code",
    "id": "BGaanpGTNJxr",
    "outputId": "389c0041-ca69-4b06-be6b-e7e4375ff38f"
   },
   "outputs": [
    {
     "data": {
      "text/plain": [
       "array([False, False, False, False, False, False,  True, False, False,\n",
       "       False])"
      ]
     },
     "execution_count": 26,
     "metadata": {},
     "output_type": "execute_result"
    }
   ],
   "source": [
    "'frog' == class_names"
   ]
  },
  {
   "cell_type": "code",
   "execution_count": 27,
   "metadata": {
    "colab": {},
    "colab_type": "code",
    "id": "do8ubjZPNJxs",
    "outputId": "fbe33582-a52b-4348-8ee2-98b0beb2cb6f"
   },
   "outputs": [
    {
     "data": {
      "text/plain": [
       "array([0, 0, 0, 0, 0, 0, 1, 0, 0, 0], dtype=uint8)"
      ]
     },
     "execution_count": 27,
     "metadata": {},
     "output_type": "execute_result"
    }
   ],
   "source": [
    "onehot_encoding = np.array('frog' == class_names, np.uint8)\n",
    "onehot_encoding"
   ]
  },
  {
   "cell_type": "code",
   "execution_count": 28,
   "metadata": {
    "colab": {},
    "colab_type": "code",
    "id": "cnltQ_i0NJxt"
   },
   "outputs": [],
   "source": [
    "def onehot_encoding(label):\n",
    "    return np.array(label == class_names, np.uint8)"
   ]
  },
  {
   "cell_type": "code",
   "execution_count": 29,
   "metadata": {
    "colab": {},
    "colab_type": "code",
    "id": "L_BTRaPENJxv"
   },
   "outputs": [],
   "source": [
    "def load_data(path, label):\n",
    "    gfile = tf.io.read_file(path)\n",
    "    image = tf.io.decode_image(gfile, dtype=tf.float32)\n",
    "    return image, label"
   ]
  },
  {
   "cell_type": "code",
   "execution_count": 30,
   "metadata": {},
   "outputs": [
    {
     "data": {
      "text/plain": [
       "['frog', 'automobile', 'frog', 'frog', 'ship']"
      ]
     },
     "execution_count": 30,
     "metadata": {},
     "output_type": "execute_result"
    }
   ],
   "source": [
    "train_labels[:5]"
   ]
  },
  {
   "cell_type": "code",
   "execution_count": 31,
   "metadata": {
    "colab": {},
    "colab_type": "code",
    "id": "XnJ0gAqbNJxx"
   },
   "outputs": [
    {
     "data": {
      "text/plain": [
       "array([0, 0, 0, 0, 0, 0, 1, 0, 0, 0], dtype=uint8)"
      ]
     },
     "execution_count": 31,
     "metadata": {},
     "output_type": "execute_result"
    }
   ],
   "source": [
    "labels = [onehot_encoding(cls_name) for cls_name in train_labels]\n",
    "labels[0]"
   ]
  },
  {
   "cell_type": "code",
   "execution_count": 32,
   "metadata": {
    "colab": {},
    "colab_type": "code",
    "id": "2RuBdpUINJxy",
    "scrolled": false
   },
   "outputs": [],
   "source": [
    "# 이미지패스와 이미지 같이 입력\n",
    "dataset = tf.data.Dataset.from_tensor_slices((train_paths, labels))\n",
    "dataset = dataset.map(load_data, num_parallel_calls=AUTOTUNE)\n",
    "dataset = dataset.batch(4)\n",
    "dataset = dataset.shuffle(buffer_size=len(train_paths))\n",
    "dataset = dataset.repeat()"
   ]
  },
  {
   "cell_type": "code",
   "execution_count": 33,
   "metadata": {
    "colab": {},
    "colab_type": "code",
    "id": "ra331fwfNJxz"
   },
   "outputs": [],
   "source": [
    "image, label = next(iter(dataset))"
   ]
  },
  {
   "cell_type": "code",
   "execution_count": 34,
   "metadata": {
    "colab": {},
    "colab_type": "code",
    "id": "SuVJHcZPNJx1",
    "outputId": "b0e3f765-4f51-4f51-bbe5-cd0ae90dbec5"
   },
   "outputs": [
    {
     "data": {
      "text/plain": [
       "array([1, 0, 0, 0, 0, 0, 0, 0, 0, 0])"
      ]
     },
     "execution_count": 34,
     "metadata": {},
     "output_type": "execute_result"
    }
   ],
   "source": [
    "np.array(label[0])"
   ]
  },
  {
   "cell_type": "code",
   "execution_count": 35,
   "metadata": {
    "colab": {},
    "colab_type": "code",
    "id": "eGvDhphPNJx3",
    "outputId": "ffc96e1b-74b4-464c-ffe9-4f9215966fb3",
    "scrolled": false
   },
   "outputs": [
    {
     "name": "stderr",
     "output_type": "stream",
     "text": [
      "D:\\Anaconda3\\lib\\site-packages\\matplotlib\\text.py:1163: FutureWarning: elementwise comparison failed; returning scalar instead, but in the future will perform elementwise comparison\n",
      "  if s != self._text:\n"
     ]
    },
    {
     "data": {
      "image/png": "[encoded data removed]",
      "text/plain": [
       "<Figure size 432x288 with 1 Axes>"
      ]
     },
     "metadata": {
      "needs_background": "light"
     },
     "output_type": "display_data"
    }
   ],
   "source": [
    "plt.title(np.array(label[0]))\n",
    "plt.imshow(image[0])\n",
    "plt.show()"
   ]
  },
  {
   "cell_type": "markdown",
   "metadata": {
    "colab_type": "text",
    "id": "RZkMqOuuNJx4"
   },
   "source": [
    "## 이미지 정보를 가지고 이미지와 label 한번에 얻기(tensorflow 함수로 label 얻기)"
   ]
  },
  {
   "cell_type": "code",
   "execution_count": 36,
   "metadata": {
    "colab": {},
    "colab_type": "code",
    "id": "Ph-V0VD0NJx4",
    "outputId": "8c5925b1-2699-43ac-b4b3-efa192fc4980"
   },
   "outputs": [
    {
     "data": {
      "text/plain": [
       "'./cifar/cifar/train\\\\0_frog.png'"
      ]
     },
     "execution_count": 36,
     "metadata": {},
     "output_type": "execute_result"
    }
   ],
   "source": [
    "path"
   ]
  },
  {
   "cell_type": "code",
   "execution_count": 37,
   "metadata": {
    "colab": {},
    "colab_type": "code",
    "id": "ZaSeE1DLNJx6",
    "outputId": "3233b207-ca72-414c-8168-094069eef250"
   },
   "outputs": [
    {
     "data": {
      "text/plain": [
       "<tf.Tensor: shape=(), dtype=string, numpy=b'frog'>"
      ]
     },
     "execution_count": 37,
     "metadata": {},
     "output_type": "execute_result"
    }
   ],
   "source": [
    "fname = tf.strings.split(path, '_')[-1]\n",
    "lbl_name = tf.strings.regex_replace(fname, '.png', '')\n",
    "lbl_name"
   ]
  },
  {
   "cell_type": "code",
   "execution_count": 38,
   "metadata": {
    "colab": {},
    "colab_type": "code",
    "id": "m1fBySOBNJx7",
    "outputId": "ccec4528-2412-4307-bf0a-5d713f17505d"
   },
   "outputs": [
    {
     "data": {
      "text/plain": [
       "<tf.Tensor: shape=(10,), dtype=uint8, numpy=array([0, 0, 0, 0, 0, 0, 1, 0, 0, 0], dtype=uint8)>"
      ]
     },
     "execution_count": 38,
     "metadata": {},
     "output_type": "execute_result"
    }
   ],
   "source": [
    "onehot = tf.cast(lbl_name == class_names, tf.uint8)\n",
    "onehot"
   ]
  },
  {
   "cell_type": "code",
   "execution_count": 39,
   "metadata": {
    "colab": {},
    "colab_type": "code",
    "id": "XS-2nUfeNJx8"
   },
   "outputs": [],
   "source": [
    "def get_label(path):\n",
    "    fname = tf.strings.split(path, '_')[-1]\n",
    "    lbl_name = tf.strings.regex_replace(fname, '.png', '')\n",
    "    onehot = tf.cast(lbl_name == class_names, tf.uint8)\n",
    "    return onehot"
   ]
  },
  {
   "cell_type": "code",
   "execution_count": 40,
   "metadata": {
    "colab": {},
    "colab_type": "code",
    "id": "2HGLRuf7NJx-"
   },
   "outputs": [],
   "source": [
    "def load_image_label(path):\n",
    "    gfile = tf.io.read_file(path)\n",
    "    image = tf.io.decode_image(gfile, dtype=tf.float32)\n",
    "    label = get_label(path)\n",
    "    return image, label"
   ]
  },
  {
   "cell_type": "code",
   "execution_count": 41,
   "metadata": {
    "colab": {},
    "colab_type": "code",
    "id": "ZJJovDMoNJyA"
   },
   "outputs": [],
   "source": [
    "dataset = tf.data.Dataset.from_tensor_slices(train_paths)\n",
    "dataset = dataset.map(load_image_label, num_parallel_calls=AUTOTUNE)\n",
    "dataset = dataset.batch(4)\n",
    "dataset = dataset.shuffle(buffer_size=len(train_paths))\n",
    "dataset = dataset.repeat()"
   ]
  },
  {
   "cell_type": "code",
   "execution_count": 42,
   "metadata": {
    "colab": {},
    "colab_type": "code",
    "id": "hbo5A9MkNJyB"
   },
   "outputs": [],
   "source": [
    "image, label = next(iter(dataset))"
   ]
  },
  {
   "cell_type": "code",
   "execution_count": 43,
   "metadata": {
    "colab": {},
    "colab_type": "code",
    "id": "1s0duoSzNJyD",
    "outputId": "7efe880c-f877-4dd5-fafc-65293d12a423"
   },
   "outputs": [
    {
     "data": {
      "image/png": "[encoded data removed]",
      "text/plain": [
       "<Figure size 432x288 with 1 Axes>"
      ]
     },
     "metadata": {
      "needs_background": "light"
     },
     "output_type": "display_data"
    }
   ],
   "source": [
    "plt.title(np.array(label[0]))\n",
    "plt.imshow(image[0])\n",
    "plt.show()"
   ]
  },
  {
   "cell_type": "code",
   "execution_count": null,
   "metadata": {},
   "outputs": [],
   "source": []
  },
  {
   "cell_type": "code",
   "execution_count": null,
   "metadata": {},
   "outputs": [],
   "source": []
  },
  {
   "cell_type": "markdown",
   "metadata": {},
   "source": [
    "# @ tf.data 이용 및 위의 내용 정리하고 모델링"
   ]
  },
  {
   "cell_type": "markdown",
   "metadata": {},
   "source": [
    "## 라이브러리 import"
   ]
  },
  {
   "cell_type": "code",
   "execution_count": 53,
   "metadata": {},
   "outputs": [],
   "source": [
    "import os\n",
    "from glob import glob\n",
    "from datetime import datetime\n",
    "\n",
    "import numpy as np\n",
    "\n",
    "import tensorflow as tf\n",
    "from tensorflow.keras import layers\n",
    "\n",
    "from tensorflow.keras import datasets \n",
    "\n",
    "import matplotlib.pyplot as plt\n",
    "\n",
    "%matplotlib inline"
   ]
  },
  {
   "cell_type": "markdown",
   "metadata": {},
   "source": [
    "## Hyperparameter Tunning"
   ]
  },
  {
   "cell_type": "code",
   "execution_count": 54,
   "metadata": {},
   "outputs": [],
   "source": [
    "num_epochs = 20\n",
    "batch_size = 32\n",
    "\n",
    "learning_rate = 0.001\n",
    "\n",
    "dropout_rate = 0.5\n",
    "\n",
    "input_shape = (32, 32, 3)\n",
    "num_classes = 10"
   ]
  },
  {
   "cell_type": "markdown",
   "metadata": {},
   "source": [
    "# Data Preprocess"
   ]
  },
  {
   "cell_type": "code",
   "execution_count": 55,
   "metadata": {},
   "outputs": [],
   "source": [
    "train_paths = glob('./cifar/cifar/train/*.png')[:1000]\n",
    "test_paths = glob('./cifar/cifar/test/*.png')[:1000]"
   ]
  },
  {
   "cell_type": "code",
   "execution_count": 56,
   "metadata": {},
   "outputs": [],
   "source": [
    "def get_class_name(path):\n",
    "    return path.split('_')[-1].replace('.png', '')"
   ]
  },
  {
   "cell_type": "code",
   "execution_count": 57,
   "metadata": {},
   "outputs": [],
   "source": [
    "train_labels = [get_class_name(path) for path in train_paths]\n",
    "class_names = np.unique(train_labels)"
   ]
  },
  {
   "cell_type": "code",
   "execution_count": 58,
   "metadata": {},
   "outputs": [],
   "source": [
    "def get_label(path):\n",
    "    fname = tf.strings.split(path, '_')[-1]\n",
    "    lbl_name = tf.strings.regex_replace(fname, '.png', '')\n",
    "    onehot = tf.cast(lbl_name == class_names, tf.uint8)\n",
    "    return tf.argmax(onehot)  # 이번에는 onehot이 아닌 label 번호로"
   ]
  },
  {
   "cell_type": "code",
   "execution_count": 59,
   "metadata": {},
   "outputs": [],
   "source": [
    "def load_image_label(path):\n",
    "    gfile = tf.io.read_file(path)\n",
    "    image = tf.io.decode_image(gfile)\n",
    "    image = tf.cast(image, tf.float32) / 255.  # rescale\n",
    "    \n",
    "    label = get_label(path)\n",
    "    return image, label"
   ]
  },
  {
   "cell_type": "code",
   "execution_count": 60,
   "metadata": {},
   "outputs": [],
   "source": [
    "def image_preprocess(image, label):\n",
    "    image = tf.image.random_flip_up_down(image)\n",
    "    image = tf.image.random_flip_left_right(image)\n",
    "    return image, label"
   ]
  },
  {
   "cell_type": "code",
   "execution_count": 61,
   "metadata": {},
   "outputs": [],
   "source": [
    "AUTOTUNE = tf.data.experimental.AUTOTUNE"
   ]
  },
  {
   "cell_type": "code",
   "execution_count": 62,
   "metadata": {},
   "outputs": [],
   "source": [
    "train_dataset = tf.data.Dataset.from_tensor_slices(train_paths)\n",
    "train_dataset = train_dataset.map(load_image_label, num_parallel_calls=AUTOTUNE)\n",
    "train_dataset = train_dataset.map(image_preprocess, num_parallel_calls=AUTOTUNE)\n",
    "train_dataset = train_dataset.batch(batch_size)\n",
    "train_dataset = train_dataset.shuffle(buffer_size=len(train_paths))\n",
    "train_dataset = train_dataset.repeat()"
   ]
  },
  {
   "cell_type": "code",
   "execution_count": 63,
   "metadata": {},
   "outputs": [],
   "source": [
    "test_dataset = tf.data.Dataset.from_tensor_slices(test_paths)\n",
    "test_dataset = test_dataset.map(load_image_label, num_parallel_calls=AUTOTUNE)\n",
    "test_dataset = test_dataset.batch(batch_size)\n",
    "test_dataset = test_dataset.repeat()"
   ]
  },
  {
   "cell_type": "markdown",
   "metadata": {},
   "source": [
    "## Build Model"
   ]
  },
  {
   "cell_type": "code",
   "execution_count": 64,
   "metadata": {
    "colab": {},
    "colab_type": "code",
    "id": "ME5cAZwSNJyE"
   },
   "outputs": [],
   "source": [
    "inputs = layers.Input(input_shape)\n",
    "\n",
    "net = layers.Conv2D(32, (3, 3), padding='SAME')(inputs)\n",
    "net = layers.Activation('relu')(net)\n",
    "net = layers.Conv2D(32, (3, 3), padding='SAME')(net)\n",
    "net = layers.Activation('relu')(net)\n",
    "net = layers.MaxPooling2D(pool_size=(2, 2))(net)\n",
    "net = layers.Dropout(dropout_rate)(net)\n",
    "\n",
    "net = layers.Conv2D(64, (3, 3), padding='SAME')(net)\n",
    "net = layers.Activation('relu')(net)\n",
    "net = layers.Conv2D(64, (3, 3), padding='SAME')(net)\n",
    "net = layers.Activation('relu')(net)\n",
    "net = layers.MaxPooling2D(pool_size=(2, 2))(net)\n",
    "net = layers.Dropout(dropout_rate)(net)\n",
    "\n",
    "net = layers.Flatten()(net)\n",
    "net = layers.Dense(512)(net)\n",
    "net = layers.Activation('relu')(net)\n",
    "net = layers.Dropout(dropout_rate)(net)\n",
    "net = layers.Dense(num_classes)(net)\n",
    "net = layers.Activation('softmax')(net)\n",
    "\n",
    "model = tf.keras.Model(inputs=inputs, outputs=net, name='Basic_CNN')"
   ]
  },
  {
   "cell_type": "code",
   "execution_count": 65,
   "metadata": {},
   "outputs": [],
   "source": [
    "# Model is the full model w/o custom layers\n",
    "model.compile(optimizer=tf.keras.optimizers.Adam(learning_rate),  # Optimization\n",
    "              loss='sparse_categorical_crossentropy',  # Loss Function \n",
    "              metrics=['accuracy'])  # Metrics / Accuracy"
   ]
  },
  {
   "cell_type": "markdown",
   "metadata": {},
   "source": [
    "## Learning Rate Scheduler"
   ]
  },
  {
   "cell_type": "code",
   "execution_count": 66,
   "metadata": {},
   "outputs": [],
   "source": [
    "import math"
   ]
  },
  {
   "cell_type": "code",
   "execution_count": 67,
   "metadata": {},
   "outputs": [],
   "source": [
    "def scheduler(epoch):\n",
    "    if epoch < 10:\n",
    "        return 0.001\n",
    "    else:\n",
    "        return 0.001 * math.exp(0.1 * (10 - epoch))\n",
    "\n",
    "learning_rate_scheduler = tf.keras.callbacks.LearningRateScheduler(scheduler)"
   ]
  },
  {
   "cell_type": "markdown",
   "metadata": {},
   "source": [
    "## Training"
   ]
  },
  {
   "cell_type": "code",
   "execution_count": 68,
   "metadata": {},
   "outputs": [
    {
     "name": "stdout",
     "output_type": "stream",
     "text": [
      "WARNING:tensorflow:From <ipython-input-68-80734ab71ff5>:4: Model.fit_generator (from tensorflow.python.keras.engine.training) is deprecated and will be removed in a future version.\n",
      "Instructions for updating:\n",
      "Please use Model.fit, which supports generators.\n",
      "Epoch 1/20\n",
      "31/31 [==============================] - 4s 130ms/step - loss: 2.3175 - accuracy: 0.0950 - val_loss: 2.2995 - val_accuracy: 0.0897\n",
      "Epoch 2/20\n",
      "31/31 [==============================] - 4s 131ms/step - loss: 2.2650 - accuracy: 0.1333 - val_loss: 2.2076 - val_accuracy: 0.1331\n",
      "Epoch 3/20\n",
      "31/31 [==============================] - 4s 127ms/step - loss: 2.2251 - accuracy: 0.1818 - val_loss: 2.1254 - val_accuracy: 0.2188\n",
      "Epoch 4/20\n",
      "31/31 [==============================] - 4s 129ms/step - loss: 2.1767 - accuracy: 0.1986 - val_loss: 2.0636 - val_accuracy: 0.2450\n",
      "Epoch 5/20\n",
      "31/31 [==============================] - 4s 124ms/step - loss: 2.0849 - accuracy: 0.2108 - val_loss: 2.0302 - val_accuracy: 0.2470\n",
      "Epoch 6/20\n",
      "31/31 [==============================] - 4s 128ms/step - loss: 2.0268 - accuracy: 0.2345 - val_loss: 1.9551 - val_accuracy: 0.2762\n",
      "Epoch 7/20\n",
      "31/31 [==============================] - 4s 126ms/step - loss: 1.9905 - accuracy: 0.2671 - val_loss: 1.9129 - val_accuracy: 0.2782\n",
      "Epoch 8/20\n",
      "31/31 [==============================] - 4s 123ms/step - loss: 1.9389 - accuracy: 0.2448 - val_loss: 1.8718 - val_accuracy: 0.3024\n",
      "Epoch 9/20\n",
      "31/31 [==============================] - 4s 122ms/step - loss: 1.8836 - accuracy: 0.2712 - val_loss: 1.8379 - val_accuracy: 0.3175\n",
      "Epoch 10/20\n",
      "31/31 [==============================] - 4s 125ms/step - loss: 1.8591 - accuracy: 0.3058 - val_loss: 1.8428 - val_accuracy: 0.2873\n",
      "Epoch 11/20\n",
      "31/31 [==============================] - 4s 126ms/step - loss: 1.8594 - accuracy: 0.3085 - val_loss: 1.8169 - val_accuracy: 0.3256\n",
      "Epoch 12/20\n",
      "31/31 [==============================] - 4s 121ms/step - loss: 1.7768 - accuracy: 0.3167 - val_loss: 1.7622 - val_accuracy: 0.3438\n",
      "Epoch 13/20\n",
      "31/31 [==============================] - 4s 126ms/step - loss: 1.7776 - accuracy: 0.3213 - val_loss: 1.8149 - val_accuracy: 0.3448\n",
      "Epoch 14/20\n",
      "31/31 [==============================] - 4s 128ms/step - loss: 1.7382 - accuracy: 0.3407 - val_loss: 1.7345 - val_accuracy: 0.3649\n",
      "Epoch 15/20\n",
      "31/31 [==============================] - 4s 140ms/step - loss: 1.6808 - accuracy: 0.3814 - val_loss: 1.7366 - val_accuracy: 0.3438\n",
      "Epoch 16/20\n",
      "31/31 [==============================] - 4s 140ms/step - loss: 1.6816 - accuracy: 0.3616 - val_loss: 1.7246 - val_accuracy: 0.3427\n",
      "Epoch 17/20\n",
      "31/31 [==============================] - 4s 137ms/step - loss: 1.6829 - accuracy: 0.3657 - val_loss: 1.7066 - val_accuracy: 0.3407\n",
      "Epoch 18/20\n",
      "31/31 [==============================] - 4s 142ms/step - loss: 1.6519 - accuracy: 0.3709 - val_loss: 1.6860 - val_accuracy: 0.3619\n",
      "Epoch 19/20\n",
      "31/31 [==============================] - 5s 149ms/step - loss: 1.5890 - accuracy: 0.4194 - val_loss: 1.6884 - val_accuracy: 0.3780\n",
      "Epoch 20/20\n",
      "31/31 [==============================] - 4s 142ms/step - loss: 1.6364 - accuracy: 0.3812 - val_loss: 1.6670 - val_accuracy: 0.3911\n"
     ]
    }
   ],
   "source": [
    "steps_per_epoch = len(train_paths) // batch_size\n",
    "validation_steps = len(test_paths) // batch_size\n",
    "\n",
    "history = model.fit_generator(\n",
    "    train_dataset,\n",
    "    steps_per_epoch=steps_per_epoch,\n",
    "    validation_data=test_dataset,\n",
    "    validation_steps=validation_steps,\n",
    "    epochs=num_epochs,\n",
    "    callbacks=[learning_rate_scheduler]\n",
    ")"
   ]
  },
  {
   "cell_type": "markdown",
   "metadata": {},
   "source": [
    "## history"
   ]
  },
  {
   "cell_type": "code",
   "execution_count": 69,
   "metadata": {},
   "outputs": [
    {
     "data": {
      "text/plain": [
       "dict_keys(['loss', 'accuracy', 'val_loss', 'val_accuracy', 'lr'])"
      ]
     },
     "execution_count": 69,
     "metadata": {},
     "output_type": "execute_result"
    }
   ],
   "source": [
    "history.history.keys()"
   ]
  },
  {
   "cell_type": "code",
   "execution_count": 70,
   "metadata": {},
   "outputs": [
    {
     "data": {
      "image/png": "[encoded data removed]",
      "text/plain": [
       "<Figure size 432x288 with 1 Axes>"
      ]
     },
     "metadata": {
      "needs_background": "light"
     },
     "output_type": "display_data"
    }
   ],
   "source": [
    "plt.plot(history.history['accuracy'], label='Accuracy')\n",
    "plt.plot(history.history['val_accuracy'], label='Val Accuracy')\n",
    "plt.xlabel('Epoch')\n",
    "plt.ylabel('Accuracy')\n",
    "plt.legend()\n",
    "plt.title('Model Accuracy')\n",
    "plt.show()"
   ]
  },
  {
   "cell_type": "markdown",
   "metadata": {},
   "source": [
    "## Predict"
   ]
  },
  {
   "cell_type": "markdown",
   "metadata": {},
   "source": [
    "### 1. 이미지를 Load 직접 load해서 넣는 방법"
   ]
  },
  {
   "cell_type": "code",
   "execution_count": 71,
   "metadata": {},
   "outputs": [],
   "source": [
    "path = train_paths[0]\n",
    "test_image, test_label = load_image_label(path)"
   ]
  },
  {
   "cell_type": "code",
   "execution_count": 72,
   "metadata": {},
   "outputs": [
    {
     "data": {
      "text/plain": [
       "TensorShape([32, 32, 3])"
      ]
     },
     "execution_count": 72,
     "metadata": {},
     "output_type": "execute_result"
    }
   ],
   "source": [
    "test_image.shape"
   ]
  },
  {
   "cell_type": "code",
   "execution_count": 73,
   "metadata": {},
   "outputs": [
    {
     "data": {
      "text/plain": [
       "TensorShape([1, 32, 32, 3])"
      ]
     },
     "execution_count": 73,
     "metadata": {},
     "output_type": "execute_result"
    }
   ],
   "source": [
    "test_image = test_image[tf.newaxis, ...]\n",
    "test_image.shape"
   ]
  },
  {
   "cell_type": "code",
   "execution_count": 74,
   "metadata": {},
   "outputs": [],
   "source": [
    "pred = model.predict(test_image)"
   ]
  },
  {
   "cell_type": "code",
   "execution_count": 75,
   "metadata": {},
   "outputs": [
    {
     "data": {
      "text/plain": [
       "array([[2.7170775e-03, 9.1465545e-04, 7.1512766e-02, 6.2065173e-02,\n",
       "        2.1455957e-01, 3.2244574e-02, 5.5691373e-01, 5.7834737e-02,\n",
       "        5.0627353e-04, 7.3136610e-04]], dtype=float32)"
      ]
     },
     "execution_count": 75,
     "metadata": {},
     "output_type": "execute_result"
    }
   ],
   "source": [
    "pred"
   ]
  },
  {
   "cell_type": "code",
   "execution_count": 76,
   "metadata": {},
   "outputs": [
    {
     "data": {
      "text/plain": [
       "6"
      ]
     },
     "execution_count": 76,
     "metadata": {},
     "output_type": "execute_result"
    }
   ],
   "source": [
    "np.argmax(pred)"
   ]
  },
  {
   "cell_type": "markdown",
   "metadata": {},
   "source": [
    "### 2. generator에서 데이터를 가져오는 방법"
   ]
  },
  {
   "cell_type": "code",
   "execution_count": 77,
   "metadata": {},
   "outputs": [],
   "source": [
    "test_image, test_label = next(iter(test_dataset))"
   ]
  },
  {
   "cell_type": "code",
   "execution_count": 78,
   "metadata": {},
   "outputs": [
    {
     "data": {
      "text/plain": [
       "TensorShape([32, 32, 32, 3])"
      ]
     },
     "execution_count": 78,
     "metadata": {},
     "output_type": "execute_result"
    }
   ],
   "source": [
    "test_image.shape"
   ]
  },
  {
   "cell_type": "code",
   "execution_count": 79,
   "metadata": {},
   "outputs": [
    {
     "data": {
      "text/plain": [
       "(32, 10)"
      ]
     },
     "execution_count": 79,
     "metadata": {},
     "output_type": "execute_result"
    }
   ],
   "source": [
    "pred = model.predict(test_image)\n",
    "pred.shape"
   ]
  },
  {
   "cell_type": "code",
   "execution_count": 80,
   "metadata": {},
   "outputs": [
    {
     "data": {
      "text/plain": [
       "array([0.03960688, 0.02605383, 0.07142237, 0.14973837, 0.11191718,\n",
       "       0.15625551, 0.1465627 , 0.2277655 , 0.0178517 , 0.05282588],\n",
       "      dtype=float32)"
      ]
     },
     "execution_count": 80,
     "metadata": {},
     "output_type": "execute_result"
    }
   ],
   "source": [
    "pred[0]"
   ]
  },
  {
   "cell_type": "code",
   "execution_count": 81,
   "metadata": {},
   "outputs": [
    {
     "data": {
      "text/plain": [
       "array([7, 5, 0, 6, 2, 0, 1, 1, 8, 9, 6, 4, 0, 0, 7, 9, 5, 6, 1, 6, 0, 2,\n",
       "       3, 1, 7, 0, 8, 3, 7, 4, 0, 3], dtype=int64)"
      ]
     },
     "execution_count": 81,
     "metadata": {},
     "output_type": "execute_result"
    }
   ],
   "source": [
    "np.argmax(pred, axis=1)"
   ]
  },
  {
   "cell_type": "markdown",
   "metadata": {},
   "source": [
    "### 3.generator에 넣는 방법"
   ]
  },
  {
   "cell_type": "code",
   "execution_count": 82,
   "metadata": {},
   "outputs": [
    {
     "name": "stdout",
     "output_type": "stream",
     "text": [
      "WARNING:tensorflow:From <ipython-input-82-87291949bafa>:1: Model.predict_generator (from tensorflow.python.keras.engine.training) is deprecated and will be removed in a future version.\n",
      "Instructions for updating:\n",
      "Please use Model.predict, which supports generators.\n"
     ]
    }
   ],
   "source": [
    "pred = model.predict_generator(test_dataset.take(1))"
   ]
  },
  {
   "cell_type": "code",
   "execution_count": 83,
   "metadata": {},
   "outputs": [
    {
     "data": {
      "text/plain": [
       "(32, 10)"
      ]
     },
     "execution_count": 83,
     "metadata": {},
     "output_type": "execute_result"
    }
   ],
   "source": [
    "pred.shape"
   ]
  },
  {
   "cell_type": "code",
   "execution_count": 84,
   "metadata": {},
   "outputs": [
    {
     "data": {
      "text/plain": [
       "(64, 10)"
      ]
     },
     "execution_count": 84,
     "metadata": {},
     "output_type": "execute_result"
    }
   ],
   "source": [
    "pred = model.predict_generator(test_dataset.take(2))\n",
    "pred.shape"
   ]
  },
  {
   "cell_type": "code",
   "execution_count": 85,
   "metadata": {},
   "outputs": [
    {
     "data": {
      "text/plain": [
       "array([7, 5, 0, 6, 2, 0, 1, 1, 8, 9, 6, 4, 0, 0, 7, 9, 5, 6, 1, 6, 0, 2,\n",
       "       3, 1, 7, 0, 8, 3, 7, 4, 0, 3, 6, 6, 7, 8, 6, 3, 4, 6, 6, 9, 3, 4,\n",
       "       6, 5, 6, 7, 2, 0, 6, 4, 0, 1, 1, 1, 1, 7, 8, 5, 9, 5, 6, 7],\n",
       "      dtype=int64)"
      ]
     },
     "execution_count": 85,
     "metadata": {},
     "output_type": "execute_result"
    }
   ],
   "source": [
    "np.argmax(pred, axis=1)"
   ]
  },
  {
   "cell_type": "code",
   "execution_count": null,
   "metadata": {},
   "outputs": [],
   "source": []
  }
 ],
 "metadata": {
  "colab": {
   "name": "09. tf.data - load image _ make batch.ipynb",
   "provenance": [],
   "toc_visible": true
  },
  "kernelspec": {
   "display_name": "Python 3",
   "language": "python",
   "name": "python3"
  },
  "language_info": {
   "codemirror_mode": {
    "name": "ipython",
    "version": 3
   },
   "file_extension": ".py",
   "mimetype": "text/x-python",
   "name": "python",
   "nbconvert_exporter": "python",
   "pygments_lexer": "ipython3",
   "version": "3.8.5"
  }
 },
 "nbformat": 4,
 "nbformat_minor": 1
}
