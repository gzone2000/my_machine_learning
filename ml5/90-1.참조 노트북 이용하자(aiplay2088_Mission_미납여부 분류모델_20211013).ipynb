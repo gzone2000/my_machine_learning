{
 "cells": [
  {
   "cell_type": "markdown",
   "metadata": {},
   "source": [
    "# 해커톤 미션 \n",
    "- 개요: 미납 채권에 대한 회수 가능성을 예측하여 효율적인 채권 회수 업무를 지원\n",
    "- 목표: M월 기준 미납 채권 중 M+1월 완납 여부를 예측 (3년치 미납 이력 정보 활용)\n",
    "- 학습데이터로 AI 모델을 만들고, 시험데이터로 완납여부를 예측하여 답안 파일을 생성한다."
   ]
  },
  {
   "cell_type": "markdown",
   "metadata": {},
   "source": [
    "# 데이터 설명\n",
    "- 학습데이터 (완납여부 정답Label 존재)\n",
    " - episode1_train.csv : 미납채권 기본정보 90,000건\n",
    " - episode1_train_ob.csv : 전화상담(Out Bound) 이력 3만여건\n",
    " - episode1_train_description.csv : 미납채권 기본정보 데이터 컬럼 설명\n",
    " - episode1_train_ob_description.csv : 전화상담(Out Bound) 이력 데이터 컬럼 설명\n",
    "\n",
    "- 시험데이터 (완납여부 정답Label 없음)\n",
    " - episode1_test.csv : 미납채권 기본정보 100,000건\n",
    " - episode1_test_ob.csv : 전화상담(Out Bound) 이력 3만여건"
   ]
  },
  {
   "cell_type": "markdown",
   "metadata": {},
   "source": [
    "# \n",
    "# 라이브러리 설치 및 AIDU 연동을 위한 설정"
   ]
  },
  {
   "cell_type": "code",
   "execution_count": 1,
   "metadata": {},
   "outputs": [],
   "source": [
    "# AIDU Library Import\n",
    "from aicentro.session import Session\n",
    "aidu_session = Session(verify=False)\n",
    "\n",
    "from aicentro.framework.keras import Keras as AiduFrm\n",
    "aidu_framework = AiduFrm(session=aidu_session)\n",
    "\n",
    "# 데이터 파일 경로\n",
    "data_path = aidu_framework.config.data_dir + '/filename.csv' \n"
   ]
  },
  {
   "cell_type": "code",
   "execution_count": 2,
   "metadata": {},
   "outputs": [
    {
     "name": "stdout",
     "output_type": "stream",
     "text": [
      "Looking in indexes: http://10.220.235.19/pypi/simple\n",
      "Collecting seaborn\n",
      "  Downloading http://10.220.235.19/pypi/packages/68/ad/6c2406ae175f59ec616714e408979b674fe27b9587f79d59a528ddfbcd5b/seaborn-0.11.1-py3-none-any.whl (285 kB)\n",
      "\u001b[K     |████████████████████████████████| 285 kB 26.9 MB/s eta 0:00:01\n",
      "\u001b[?25hRequirement already satisfied: numpy>=1.15 in /usr/local/lib/python3.6/dist-packages (from seaborn) (1.16.4)\n",
      "Requirement already satisfied: pandas>=0.23 in /usr/local/lib/python3.6/dist-packages (from seaborn) (1.0.4)\n",
      "Requirement already satisfied: scipy>=1.0 in /usr/local/lib/python3.6/dist-packages (from seaborn) (1.4.1)\n",
      "Requirement already satisfied: matplotlib>=2.2 in /usr/local/lib/python3.6/dist-packages (from seaborn) (3.2.1)\n",
      "Requirement already satisfied: python-dateutil>=2.6.1 in /usr/local/lib/python3.6/dist-packages (from pandas>=0.23->seaborn) (2.8.1)\n",
      "Requirement already satisfied: pytz>=2017.2 in /usr/local/lib/python3.6/dist-packages (from pandas>=0.23->seaborn) (2020.1)\n",
      "Requirement already satisfied: pyparsing!=2.0.4,!=2.1.2,!=2.1.6,>=2.0.1 in /usr/local/lib/python3.6/dist-packages (from matplotlib>=2.2->seaborn) (2.4.7)\n",
      "Requirement already satisfied: kiwisolver>=1.0.1 in /usr/local/lib/python3.6/dist-packages (from matplotlib>=2.2->seaborn) (1.2.0)\n",
      "Requirement already satisfied: cycler>=0.10 in /usr/local/lib/python3.6/dist-packages (from matplotlib>=2.2->seaborn) (0.10.0)\n",
      "Requirement already satisfied: six>=1.5 in /usr/local/lib/python3.6/dist-packages (from python-dateutil>=2.6.1->pandas>=0.23->seaborn) (1.14.0)\n",
      "Installing collected packages: seaborn\n",
      "Successfully installed seaborn-0.11.1\n",
      "\u001b[33mWARNING: You are using pip version 20.1; however, version 21.0.1 is available.\n",
      "You should consider upgrading via the '/usr/bin/python3 -m pip install --upgrade pip' command.\u001b[0m\n"
     ]
    }
   ],
   "source": [
    "#Import Base Module for Data Analysis\n",
    "import pandas as pd\n",
    "import numpy as np\n",
    "import matplotlib.pyplot as plt\n",
    "\n",
    "get_ipython().system('pip install seaborn')\n",
    "import seaborn as sns"
   ]
  },
  {
   "cell_type": "markdown",
   "metadata": {},
   "source": [
    "# \n",
    "# 데이터 탐색 (EDA) 및 전처리"
   ]
  },
  {
   "cell_type": "markdown",
   "metadata": {},
   "source": [
    "## 1. 데이터 로딩"
   ]
  },
  {
   "cell_type": "markdown",
   "metadata": {},
   "source": [
    "- episode1_train.csv : 미납채권 기본정보 90,000건\n",
    "- episode1_train_ob.csv : 전화상담(Out Bound) 이력 3만여건\n",
    "- episode1_train_description.csv : 미납채권 기본정보 데이터 컬럼 설명\n",
    "- episode1_train_ob_description.csv : 전화상담(Out Bound) 이력 데이터 컬럼 설명\n",
    "- episode1_test.csv : 미납채권 기본정보 100,000건\n",
    "- episode1_test_ob.csv : 전화상담(Out Bound) 이력 3만여건"
   ]
  },
  {
   "cell_type": "code",
   "execution_count": 3,
   "metadata": {},
   "outputs": [
    {
     "name": "stdout",
     "output_type": "stream",
     "text": [
      "(90000, 63) (38575, 16) (100000, 62) (38778, 16)\n"
     ]
    }
   ],
   "source": [
    "# Data loading\n",
    "\n",
    "# Train data\n",
    "train_t1 = pd.read_csv(aidu_framework.config.data_dir + '/episode1_train.csv') \n",
    "train_t2 = pd.read_csv(aidu_framework.config.data_dir + '/episode1_train_ob.csv') \n",
    "\n",
    "# Test data\n",
    "test_t1 = pd.read_csv(aidu_framework.config.data_dir + '/episode1_test.csv') \n",
    "test_t2 = pd.read_csv(aidu_framework.config.data_dir + '/episode1_test_ob.csv') \n",
    "\n",
    "# 데이터 크기 확인\n",
    "print(train_t1.shape, train_t2.shape, test_t1.shape, test_t2.shape)"
   ]
  },
  {
   "cell_type": "markdown",
   "metadata": {},
   "source": [
    "## \n",
    "## 2. 데이터 구성 및 결측 확인"
   ]
  },
  {
   "cell_type": "code",
   "execution_count": 4,
   "metadata": {},
   "outputs": [
    {
     "name": "stdout",
     "output_type": "stream",
     "text": [
      "<class 'pandas.core.frame.DataFrame'>\n",
      "RangeIndex: 90000 entries, 0 to 89999\n",
      "Data columns (total 63 columns):\n",
      " #   Column                                   Non-Null Count  Dtype \n",
      "---  ------                                   --------------  ----- \n",
      " 0   id                                       90000 non-null  object\n",
      " 1   label_payment_yn                         90000 non-null  object\n",
      " 2   age_itg_cd                               90000 non-null  object\n",
      " 3   inet_sbsc_yn                             90000 non-null  object\n",
      " 4   soip_sbsc_yn                             90000 non-null  object\n",
      " 5   iptv_sbsc_yn                             90000 non-null  object\n",
      " 6   pstn_sbsc_yn                             90000 non-null  object\n",
      " 7   mphon_sbsc_yn                            90000 non-null  object\n",
      " 8   efct_mphon_sbsc_cascnt                   90000 non-null  int64 \n",
      " 9   efct_pstn_sbsc_cascnt                    90000 non-null  int64 \n",
      " 10  efct_inet_sbsc_cascnt                    90000 non-null  int64 \n",
      " 11  efct_iptv_sbsc_cascnt                    90000 non-null  int64 \n",
      " 12  dt_stop_yn                               90000 non-null  object\n",
      " 13  mphon_comb_yn                            90000 non-null  object\n",
      " 14  inet_comb_yn                             90000 non-null  object\n",
      " 15  iptv_comb_yn                             90000 non-null  object\n",
      " 16  npay_yn                                  90000 non-null  object\n",
      " 17  r3m_avg_bill_amt                         90000 non-null  int64 \n",
      " 18  r6m_inet_pssn_comb_yn                    90000 non-null  object\n",
      " 19  r6m_iptv_pssn_comb_yn                    90000 non-null  object\n",
      " 20  r3m_mphon_avg_arpu_amt                   90000 non-null  int64 \n",
      " 21  r3m_iptv_avg_arpu_amt                    90000 non-null  int64 \n",
      " 22  r3m_inet_avg_arpu_amt                    90000 non-null  int64 \n",
      " 23  r6m_mphon_avg_arpu_amt                   90000 non-null  int64 \n",
      " 24  r6m_iptv_avg_arpu_amt                    90000 non-null  int64 \n",
      " 25  r6m_inet_avg_arpu_amt                    90000 non-null  int64 \n",
      " 26  kids_wrlin_adtn_svc_sbsc_yn              90000 non-null  object\n",
      " 27  r6m_iptv_first_ppv_use_yn                90000 non-null  object\n",
      " 28  bill_rmny_npay_tms_itg_max_cnt_n         90000 non-null  int64 \n",
      " 29  bill_rmny_npay_tms_itg_cd                90000 non-null  int64 \n",
      " 30  npay_amt_sum_divide_10000                90000 non-null  int64 \n",
      " 31  not_sufficient_cnt                       90000 non-null  int64 \n",
      " 32  pay_way_nm                               90000 non-null  object\n",
      " 33  acrnd_dsp_meth_nm                        90000 non-null  object\n",
      " 34  npay_tms_cnt                             90000 non-null  int64 \n",
      " 35  anals_2_prod_level_nm                    90000 non-null  object\n",
      " 36  bprod_lctg_nm                            90000 non-null  object\n",
      " 37  wless_terml_gun_div_nm                   90000 non-null  object\n",
      " 38  wless_terml_gun_div_type                 90000 non-null  int64 \n",
      " 39  recnt_icg_date_from_this_year            90000 non-null  int64 \n",
      " 40  hndset_rmnd_insl_mons_num                90000 non-null  int64 \n",
      " 41  hndset_rmnd_insl_amt_divide_100000       90000 non-null  int64 \n",
      " 42  hndset_rmnd_insl_mons_yn                 90000 non-null  object\n",
      " 43  hndset_tot_insl_amt_divide_100000        90000 non-null  int64 \n",
      " 44  hndset_tot_insl_mons_num                 90000 non-null  int64 \n",
      " 45  bfee_amt_divide_10000                    90000 non-null  int64 \n",
      " 46  rmonth_tot_bill_amt_divide_10000         90000 non-null  int64 \n",
      " 47  r3m_avg_bill_amt_100000_over_yn          90000 non-null  object\n",
      " 48  r3m_wless_data_use_qnt_100000_over_yn    90000 non-null  object\n",
      " 49  voc_sbsc_inqr_cascnt_n                   90000 non-null  int64 \n",
      " 50  voc_data_qat_cascnt_n                    90000 non-null  int64 \n",
      " 51  voc_inqr_cascnt_n                        90000 non-null  int64 \n",
      " 52  voc_dscnt_cascnt_n                       90000 non-null  int64 \n",
      " 53  voc_icnv_cascnt_n                        90000 non-null  int64 \n",
      " 54  voc_tot_occ_cascnt_n                     90000 non-null  int64 \n",
      " 55  rmonth_qat_chage_voc_cascnt              90000 non-null  int64 \n",
      " 56  voc_cnt_n                                90000 non-null  int64 \n",
      " 57  cont_sttus_chg_date_from_this_year       90000 non-null  int64 \n",
      " 58  now_chage_prod_sbsc_date_from_this_year  90000 non-null  int64 \n",
      " 59  accum_dt_stop_day_num_divide_10          90000 non-null  int64 \n",
      " 60  accum_usst_day_num_divide_10             90000 non-null  int64 \n",
      " 61  svc_use_mons_num_divide_10               90000 non-null  int64 \n",
      " 62  insur_prod_sbsc_yn                       90000 non-null  object\n",
      "dtypes: int64(37), object(26)\n",
      "memory usage: 43.3+ MB\n"
     ]
    }
   ],
   "source": [
    "# label_payment_yn : 완납여부(Y=완납,N=미납)\n",
    "train_t1.info()"
   ]
  },
  {
   "cell_type": "code",
   "execution_count": 5,
   "metadata": {},
   "outputs": [
    {
     "data": {
      "text/html": [
       "<div>\n",
       "<style scoped>\n",
       "    .dataframe tbody tr th:only-of-type {\n",
       "        vertical-align: middle;\n",
       "    }\n",
       "\n",
       "    .dataframe tbody tr th {\n",
       "        vertical-align: top;\n",
       "    }\n",
       "\n",
       "    .dataframe thead th {\n",
       "        text-align: right;\n",
       "    }\n",
       "</style>\n",
       "<table border=\"1\" class=\"dataframe\">\n",
       "  <thead>\n",
       "    <tr style=\"text-align: right;\">\n",
       "      <th></th>\n",
       "      <th>id</th>\n",
       "      <th>label_payment_yn</th>\n",
       "      <th>age_itg_cd</th>\n",
       "      <th>inet_sbsc_yn</th>\n",
       "      <th>soip_sbsc_yn</th>\n",
       "      <th>iptv_sbsc_yn</th>\n",
       "      <th>pstn_sbsc_yn</th>\n",
       "      <th>mphon_sbsc_yn</th>\n",
       "      <th>efct_mphon_sbsc_cascnt</th>\n",
       "      <th>efct_pstn_sbsc_cascnt</th>\n",
       "      <th>...</th>\n",
       "      <th>voc_icnv_cascnt_n</th>\n",
       "      <th>voc_tot_occ_cascnt_n</th>\n",
       "      <th>rmonth_qat_chage_voc_cascnt</th>\n",
       "      <th>voc_cnt_n</th>\n",
       "      <th>cont_sttus_chg_date_from_this_year</th>\n",
       "      <th>now_chage_prod_sbsc_date_from_this_year</th>\n",
       "      <th>accum_dt_stop_day_num_divide_10</th>\n",
       "      <th>accum_usst_day_num_divide_10</th>\n",
       "      <th>svc_use_mons_num_divide_10</th>\n",
       "      <th>insur_prod_sbsc_yn</th>\n",
       "    </tr>\n",
       "  </thead>\n",
       "  <tbody>\n",
       "    <tr>\n",
       "      <th>89995</th>\n",
       "      <td>ED1089996</td>\n",
       "      <td>Y</td>\n",
       "      <td>50</td>\n",
       "      <td>N</td>\n",
       "      <td>N</td>\n",
       "      <td>N</td>\n",
       "      <td>N</td>\n",
       "      <td>Y</td>\n",
       "      <td>1</td>\n",
       "      <td>0</td>\n",
       "      <td>...</td>\n",
       "      <td>0</td>\n",
       "      <td>0</td>\n",
       "      <td>0</td>\n",
       "      <td>0</td>\n",
       "      <td>2</td>\n",
       "      <td>1</td>\n",
       "      <td>0</td>\n",
       "      <td>0</td>\n",
       "      <td>8</td>\n",
       "      <td>Y</td>\n",
       "    </tr>\n",
       "    <tr>\n",
       "      <th>89996</th>\n",
       "      <td>ED1089997</td>\n",
       "      <td>N</td>\n",
       "      <td>24</td>\n",
       "      <td>N</td>\n",
       "      <td>N</td>\n",
       "      <td>N</td>\n",
       "      <td>N</td>\n",
       "      <td>Y</td>\n",
       "      <td>0</td>\n",
       "      <td>0</td>\n",
       "      <td>...</td>\n",
       "      <td>0</td>\n",
       "      <td>0</td>\n",
       "      <td>0</td>\n",
       "      <td>0</td>\n",
       "      <td>2</td>\n",
       "      <td>6</td>\n",
       "      <td>0</td>\n",
       "      <td>9</td>\n",
       "      <td>10</td>\n",
       "      <td>N</td>\n",
       "    </tr>\n",
       "    <tr>\n",
       "      <th>89997</th>\n",
       "      <td>ED1089998</td>\n",
       "      <td>N</td>\n",
       "      <td>61</td>\n",
       "      <td>N</td>\n",
       "      <td>N</td>\n",
       "      <td>N</td>\n",
       "      <td>N</td>\n",
       "      <td>Y</td>\n",
       "      <td>1</td>\n",
       "      <td>0</td>\n",
       "      <td>...</td>\n",
       "      <td>0</td>\n",
       "      <td>0</td>\n",
       "      <td>0</td>\n",
       "      <td>0</td>\n",
       "      <td>1</td>\n",
       "      <td>1</td>\n",
       "      <td>0</td>\n",
       "      <td>0</td>\n",
       "      <td>0</td>\n",
       "      <td>Y</td>\n",
       "    </tr>\n",
       "    <tr>\n",
       "      <th>89998</th>\n",
       "      <td>ED1089999</td>\n",
       "      <td>Y</td>\n",
       "      <td>22</td>\n",
       "      <td>N</td>\n",
       "      <td>N</td>\n",
       "      <td>N</td>\n",
       "      <td>N</td>\n",
       "      <td>Y</td>\n",
       "      <td>1</td>\n",
       "      <td>0</td>\n",
       "      <td>...</td>\n",
       "      <td>0</td>\n",
       "      <td>0</td>\n",
       "      <td>0</td>\n",
       "      <td>0</td>\n",
       "      <td>3</td>\n",
       "      <td>2</td>\n",
       "      <td>10</td>\n",
       "      <td>0</td>\n",
       "      <td>10</td>\n",
       "      <td>Y</td>\n",
       "    </tr>\n",
       "    <tr>\n",
       "      <th>89999</th>\n",
       "      <td>ED1090000</td>\n",
       "      <td>N</td>\n",
       "      <td>24</td>\n",
       "      <td>N</td>\n",
       "      <td>N</td>\n",
       "      <td>N</td>\n",
       "      <td>N</td>\n",
       "      <td>Y</td>\n",
       "      <td>0</td>\n",
       "      <td>0</td>\n",
       "      <td>...</td>\n",
       "      <td>0</td>\n",
       "      <td>0</td>\n",
       "      <td>0</td>\n",
       "      <td>0</td>\n",
       "      <td>1</td>\n",
       "      <td>1</td>\n",
       "      <td>0</td>\n",
       "      <td>0</td>\n",
       "      <td>5</td>\n",
       "      <td>Y</td>\n",
       "    </tr>\n",
       "  </tbody>\n",
       "</table>\n",
       "<p>5 rows × 63 columns</p>\n",
       "</div>"
      ],
      "text/plain": [
       "              id label_payment_yn age_itg_cd inet_sbsc_yn soip_sbsc_yn  \\\n",
       "89995  ED1089996                Y         50            N            N   \n",
       "89996  ED1089997                N         24            N            N   \n",
       "89997  ED1089998                N         61            N            N   \n",
       "89998  ED1089999                Y         22            N            N   \n",
       "89999  ED1090000                N         24            N            N   \n",
       "\n",
       "      iptv_sbsc_yn pstn_sbsc_yn mphon_sbsc_yn  efct_mphon_sbsc_cascnt  \\\n",
       "89995            N            N             Y                       1   \n",
       "89996            N            N             Y                       0   \n",
       "89997            N            N             Y                       1   \n",
       "89998            N            N             Y                       1   \n",
       "89999            N            N             Y                       0   \n",
       "\n",
       "       efct_pstn_sbsc_cascnt  ...  voc_icnv_cascnt_n  voc_tot_occ_cascnt_n  \\\n",
       "89995                      0  ...                  0                     0   \n",
       "89996                      0  ...                  0                     0   \n",
       "89997                      0  ...                  0                     0   \n",
       "89998                      0  ...                  0                     0   \n",
       "89999                      0  ...                  0                     0   \n",
       "\n",
       "      rmonth_qat_chage_voc_cascnt voc_cnt_n  \\\n",
       "89995                           0         0   \n",
       "89996                           0         0   \n",
       "89997                           0         0   \n",
       "89998                           0         0   \n",
       "89999                           0         0   \n",
       "\n",
       "      cont_sttus_chg_date_from_this_year  \\\n",
       "89995                                  2   \n",
       "89996                                  2   \n",
       "89997                                  1   \n",
       "89998                                  3   \n",
       "89999                                  1   \n",
       "\n",
       "      now_chage_prod_sbsc_date_from_this_year accum_dt_stop_day_num_divide_10  \\\n",
       "89995                                       1                               0   \n",
       "89996                                       6                               0   \n",
       "89997                                       1                               0   \n",
       "89998                                       2                              10   \n",
       "89999                                       1                               0   \n",
       "\n",
       "       accum_usst_day_num_divide_10 svc_use_mons_num_divide_10  \\\n",
       "89995                             0                          8   \n",
       "89996                             9                         10   \n",
       "89997                             0                          0   \n",
       "89998                             0                         10   \n",
       "89999                             0                          5   \n",
       "\n",
       "      insur_prod_sbsc_yn  \n",
       "89995                  Y  \n",
       "89996                  N  \n",
       "89997                  Y  \n",
       "89998                  Y  \n",
       "89999                  Y  \n",
       "\n",
       "[5 rows x 63 columns]"
      ]
     },
     "execution_count": 5,
     "metadata": {},
     "output_type": "execute_result"
    }
   ],
   "source": [
    "train_t1.tail()"
   ]
  },
  {
   "cell_type": "code",
   "execution_count": 6,
   "metadata": {},
   "outputs": [
    {
     "name": "stdout",
     "output_type": "stream",
     "text": [
      "<class 'pandas.core.frame.DataFrame'>\n",
      "RangeIndex: 38575 entries, 0 to 38574\n",
      "Data columns (total 16 columns):\n",
      " #   Column                     Non-Null Count  Dtype \n",
      "---  ------                     --------------  ----- \n",
      " 0   id                         38575 non-null  object\n",
      " 1   tm_athrt_trmn_cnt          38575 non-null  int64 \n",
      " 2   tm_cant_call_cnt           38575 non-null  int64 \n",
      " 3   tm_cant_collect_cnt        38575 non-null  int64 \n",
      " 4   tm_claim_cnt               38575 non-null  int64 \n",
      " 5   tm_etc_cnt                 38575 non-null  int64 \n",
      " 6   tm_handling_complaint_cnt  38575 non-null  int64 \n",
      " 7   tm_npay_cnt                38575 non-null  int64 \n",
      " 8   tm_promise_pay_cnt         38575 non-null  int64 \n",
      " 9   tm_term_stop_cnt           38575 non-null  int64 \n",
      " 10  tm_use_stop_cnt            38575 non-null  int64 \n",
      " 11  sm_athrt_trmn_cnt          38575 non-null  int64 \n",
      " 12  sm_npay_cnt                38575 non-null  int64 \n",
      " 13  sm_term_stop_cnt           38575 non-null  int64 \n",
      " 14  sm_thismonth_cnt           38575 non-null  int64 \n",
      " 15  sm_use_stop_cnt            38575 non-null  int64 \n",
      "dtypes: int64(15), object(1)\n",
      "memory usage: 4.7+ MB\n"
     ]
    }
   ],
   "source": [
    "train_t2.info()"
   ]
  },
  {
   "cell_type": "code",
   "execution_count": 7,
   "metadata": {},
   "outputs": [
    {
     "data": {
      "text/html": [
       "<div>\n",
       "<style scoped>\n",
       "    .dataframe tbody tr th:only-of-type {\n",
       "        vertical-align: middle;\n",
       "    }\n",
       "\n",
       "    .dataframe tbody tr th {\n",
       "        vertical-align: top;\n",
       "    }\n",
       "\n",
       "    .dataframe thead th {\n",
       "        text-align: right;\n",
       "    }\n",
       "</style>\n",
       "<table border=\"1\" class=\"dataframe\">\n",
       "  <thead>\n",
       "    <tr style=\"text-align: right;\">\n",
       "      <th></th>\n",
       "      <th>id</th>\n",
       "      <th>tm_athrt_trmn_cnt</th>\n",
       "      <th>tm_cant_call_cnt</th>\n",
       "      <th>tm_cant_collect_cnt</th>\n",
       "      <th>tm_claim_cnt</th>\n",
       "      <th>tm_etc_cnt</th>\n",
       "      <th>tm_handling_complaint_cnt</th>\n",
       "      <th>tm_npay_cnt</th>\n",
       "      <th>tm_promise_pay_cnt</th>\n",
       "      <th>tm_term_stop_cnt</th>\n",
       "      <th>tm_use_stop_cnt</th>\n",
       "      <th>sm_athrt_trmn_cnt</th>\n",
       "      <th>sm_npay_cnt</th>\n",
       "      <th>sm_term_stop_cnt</th>\n",
       "      <th>sm_thismonth_cnt</th>\n",
       "      <th>sm_use_stop_cnt</th>\n",
       "    </tr>\n",
       "  </thead>\n",
       "  <tbody>\n",
       "    <tr>\n",
       "      <th>38570</th>\n",
       "      <td>ED1089992</td>\n",
       "      <td>0</td>\n",
       "      <td>0</td>\n",
       "      <td>0</td>\n",
       "      <td>0</td>\n",
       "      <td>0</td>\n",
       "      <td>0</td>\n",
       "      <td>0</td>\n",
       "      <td>0</td>\n",
       "      <td>0</td>\n",
       "      <td>0</td>\n",
       "      <td>0</td>\n",
       "      <td>1</td>\n",
       "      <td>0</td>\n",
       "      <td>0</td>\n",
       "      <td>0</td>\n",
       "    </tr>\n",
       "    <tr>\n",
       "      <th>38571</th>\n",
       "      <td>ED1089994</td>\n",
       "      <td>0</td>\n",
       "      <td>0</td>\n",
       "      <td>0</td>\n",
       "      <td>0</td>\n",
       "      <td>0</td>\n",
       "      <td>0</td>\n",
       "      <td>1</td>\n",
       "      <td>0</td>\n",
       "      <td>0</td>\n",
       "      <td>0</td>\n",
       "      <td>0</td>\n",
       "      <td>0</td>\n",
       "      <td>0</td>\n",
       "      <td>0</td>\n",
       "      <td>2</td>\n",
       "    </tr>\n",
       "    <tr>\n",
       "      <th>38572</th>\n",
       "      <td>ED1089995</td>\n",
       "      <td>0</td>\n",
       "      <td>0</td>\n",
       "      <td>0</td>\n",
       "      <td>0</td>\n",
       "      <td>0</td>\n",
       "      <td>0</td>\n",
       "      <td>0</td>\n",
       "      <td>0</td>\n",
       "      <td>0</td>\n",
       "      <td>0</td>\n",
       "      <td>0</td>\n",
       "      <td>0</td>\n",
       "      <td>0</td>\n",
       "      <td>0</td>\n",
       "      <td>3</td>\n",
       "    </tr>\n",
       "    <tr>\n",
       "      <th>38573</th>\n",
       "      <td>ED1089997</td>\n",
       "      <td>0</td>\n",
       "      <td>0</td>\n",
       "      <td>0</td>\n",
       "      <td>0</td>\n",
       "      <td>0</td>\n",
       "      <td>0</td>\n",
       "      <td>0</td>\n",
       "      <td>0</td>\n",
       "      <td>0</td>\n",
       "      <td>0</td>\n",
       "      <td>0</td>\n",
       "      <td>4</td>\n",
       "      <td>0</td>\n",
       "      <td>0</td>\n",
       "      <td>0</td>\n",
       "    </tr>\n",
       "    <tr>\n",
       "      <th>38574</th>\n",
       "      <td>ED1089998</td>\n",
       "      <td>0</td>\n",
       "      <td>0</td>\n",
       "      <td>0</td>\n",
       "      <td>0</td>\n",
       "      <td>0</td>\n",
       "      <td>0</td>\n",
       "      <td>0</td>\n",
       "      <td>0</td>\n",
       "      <td>0</td>\n",
       "      <td>0</td>\n",
       "      <td>0</td>\n",
       "      <td>0</td>\n",
       "      <td>0</td>\n",
       "      <td>0</td>\n",
       "      <td>4</td>\n",
       "    </tr>\n",
       "  </tbody>\n",
       "</table>\n",
       "</div>"
      ],
      "text/plain": [
       "              id  tm_athrt_trmn_cnt  tm_cant_call_cnt  tm_cant_collect_cnt  \\\n",
       "38570  ED1089992                  0                 0                    0   \n",
       "38571  ED1089994                  0                 0                    0   \n",
       "38572  ED1089995                  0                 0                    0   \n",
       "38573  ED1089997                  0                 0                    0   \n",
       "38574  ED1089998                  0                 0                    0   \n",
       "\n",
       "       tm_claim_cnt  tm_etc_cnt  tm_handling_complaint_cnt  tm_npay_cnt  \\\n",
       "38570             0           0                          0            0   \n",
       "38571             0           0                          0            1   \n",
       "38572             0           0                          0            0   \n",
       "38573             0           0                          0            0   \n",
       "38574             0           0                          0            0   \n",
       "\n",
       "       tm_promise_pay_cnt  tm_term_stop_cnt  tm_use_stop_cnt  \\\n",
       "38570                   0                 0                0   \n",
       "38571                   0                 0                0   \n",
       "38572                   0                 0                0   \n",
       "38573                   0                 0                0   \n",
       "38574                   0                 0                0   \n",
       "\n",
       "       sm_athrt_trmn_cnt  sm_npay_cnt  sm_term_stop_cnt  sm_thismonth_cnt  \\\n",
       "38570                  0            1                 0                 0   \n",
       "38571                  0            0                 0                 0   \n",
       "38572                  0            0                 0                 0   \n",
       "38573                  0            4                 0                 0   \n",
       "38574                  0            0                 0                 0   \n",
       "\n",
       "       sm_use_stop_cnt  \n",
       "38570                0  \n",
       "38571                2  \n",
       "38572                3  \n",
       "38573                0  \n",
       "38574                4  "
      ]
     },
     "execution_count": 7,
     "metadata": {},
     "output_type": "execute_result"
    }
   ],
   "source": [
    "train_t2.tail()"
   ]
  },
  {
   "cell_type": "code",
   "execution_count": 8,
   "metadata": {},
   "outputs": [
    {
     "name": "stdout",
     "output_type": "stream",
     "text": [
      "<class 'pandas.core.frame.DataFrame'>\n",
      "RangeIndex: 100000 entries, 0 to 99999\n",
      "Data columns (total 62 columns):\n",
      " #   Column                                   Non-Null Count   Dtype \n",
      "---  ------                                   --------------   ----- \n",
      " 0   id                                       100000 non-null  object\n",
      " 1   age_itg_cd                               100000 non-null  object\n",
      " 2   inet_sbsc_yn                             100000 non-null  object\n",
      " 3   soip_sbsc_yn                             100000 non-null  object\n",
      " 4   iptv_sbsc_yn                             100000 non-null  object\n",
      " 5   pstn_sbsc_yn                             100000 non-null  object\n",
      " 6   mphon_sbsc_yn                            100000 non-null  object\n",
      " 7   efct_mphon_sbsc_cascnt                   100000 non-null  int64 \n",
      " 8   efct_pstn_sbsc_cascnt                    100000 non-null  int64 \n",
      " 9   efct_inet_sbsc_cascnt                    100000 non-null  int64 \n",
      " 10  efct_iptv_sbsc_cascnt                    100000 non-null  int64 \n",
      " 11  dt_stop_yn                               100000 non-null  object\n",
      " 12  mphon_comb_yn                            100000 non-null  object\n",
      " 13  inet_comb_yn                             100000 non-null  object\n",
      " 14  iptv_comb_yn                             100000 non-null  object\n",
      " 15  npay_yn                                  100000 non-null  object\n",
      " 16  r3m_avg_bill_amt                         100000 non-null  int64 \n",
      " 17  r6m_inet_pssn_comb_yn                    100000 non-null  object\n",
      " 18  r6m_iptv_pssn_comb_yn                    100000 non-null  object\n",
      " 19  r3m_mphon_avg_arpu_amt                   100000 non-null  int64 \n",
      " 20  r3m_iptv_avg_arpu_amt                    100000 non-null  int64 \n",
      " 21  r3m_inet_avg_arpu_amt                    100000 non-null  int64 \n",
      " 22  r6m_mphon_avg_arpu_amt                   100000 non-null  int64 \n",
      " 23  r6m_iptv_avg_arpu_amt                    100000 non-null  int64 \n",
      " 24  r6m_inet_avg_arpu_amt                    100000 non-null  int64 \n",
      " 25  kids_wrlin_adtn_svc_sbsc_yn              100000 non-null  object\n",
      " 26  r6m_iptv_first_ppv_use_yn                100000 non-null  object\n",
      " 27  bill_rmny_npay_tms_itg_max_cnt_n         100000 non-null  int64 \n",
      " 28  bill_rmny_npay_tms_itg_cd                100000 non-null  int64 \n",
      " 29  npay_amt_sum_divide_10000                100000 non-null  int64 \n",
      " 30  not_sufficient_cnt                       100000 non-null  int64 \n",
      " 31  pay_way_nm                               100000 non-null  object\n",
      " 32  acrnd_dsp_meth_nm                        100000 non-null  object\n",
      " 33  npay_tms_cnt                             100000 non-null  int64 \n",
      " 34  anals_2_prod_level_nm                    100000 non-null  object\n",
      " 35  bprod_lctg_nm                            100000 non-null  object\n",
      " 36  wless_terml_gun_div_nm                   100000 non-null  object\n",
      " 37  wless_terml_gun_div_type                 100000 non-null  int64 \n",
      " 38  recnt_icg_date_from_this_year            100000 non-null  int64 \n",
      " 39  hndset_rmnd_insl_mons_num                100000 non-null  int64 \n",
      " 40  hndset_rmnd_insl_amt_divide_100000       100000 non-null  int64 \n",
      " 41  hndset_rmnd_insl_mons_yn                 100000 non-null  object\n",
      " 42  hndset_tot_insl_amt_divide_100000        100000 non-null  int64 \n",
      " 43  hndset_tot_insl_mons_num                 100000 non-null  int64 \n",
      " 44  bfee_amt_divide_10000                    100000 non-null  int64 \n",
      " 45  rmonth_tot_bill_amt_divide_10000         100000 non-null  int64 \n",
      " 46  r3m_avg_bill_amt_100000_over_yn          100000 non-null  object\n",
      " 47  r3m_wless_data_use_qnt_100000_over_yn    100000 non-null  object\n",
      " 48  voc_sbsc_inqr_cascnt_n                   100000 non-null  int64 \n",
      " 49  voc_data_qat_cascnt_n                    100000 non-null  int64 \n",
      " 50  voc_inqr_cascnt_n                        100000 non-null  int64 \n",
      " 51  voc_dscnt_cascnt_n                       100000 non-null  int64 \n",
      " 52  voc_icnv_cascnt_n                        100000 non-null  int64 \n",
      " 53  voc_tot_occ_cascnt_n                     100000 non-null  int64 \n",
      " 54  rmonth_qat_chage_voc_cascnt              100000 non-null  int64 \n",
      " 55  voc_cnt_n                                100000 non-null  int64 \n",
      " 56  cont_sttus_chg_date_from_this_year       100000 non-null  int64 \n",
      " 57  now_chage_prod_sbsc_date_from_this_year  100000 non-null  int64 \n",
      " 58  accum_dt_stop_day_num_divide_10          100000 non-null  int64 \n",
      " 59  accum_usst_day_num_divide_10             100000 non-null  int64 \n",
      " 60  svc_use_mons_num_divide_10               100000 non-null  int64 \n",
      " 61  insur_prod_sbsc_yn                       100000 non-null  object\n",
      "dtypes: int64(37), object(25)\n",
      "memory usage: 47.3+ MB\n"
     ]
    }
   ],
   "source": [
    "test_t1.info()"
   ]
  },
  {
   "cell_type": "code",
   "execution_count": 9,
   "metadata": {},
   "outputs": [
    {
     "data": {
      "text/html": [
       "<div>\n",
       "<style scoped>\n",
       "    .dataframe tbody tr th:only-of-type {\n",
       "        vertical-align: middle;\n",
       "    }\n",
       "\n",
       "    .dataframe tbody tr th {\n",
       "        vertical-align: top;\n",
       "    }\n",
       "\n",
       "    .dataframe thead th {\n",
       "        text-align: right;\n",
       "    }\n",
       "</style>\n",
       "<table border=\"1\" class=\"dataframe\">\n",
       "  <thead>\n",
       "    <tr style=\"text-align: right;\">\n",
       "      <th></th>\n",
       "      <th>id</th>\n",
       "      <th>age_itg_cd</th>\n",
       "      <th>inet_sbsc_yn</th>\n",
       "      <th>soip_sbsc_yn</th>\n",
       "      <th>iptv_sbsc_yn</th>\n",
       "      <th>pstn_sbsc_yn</th>\n",
       "      <th>mphon_sbsc_yn</th>\n",
       "      <th>efct_mphon_sbsc_cascnt</th>\n",
       "      <th>efct_pstn_sbsc_cascnt</th>\n",
       "      <th>efct_inet_sbsc_cascnt</th>\n",
       "      <th>...</th>\n",
       "      <th>voc_icnv_cascnt_n</th>\n",
       "      <th>voc_tot_occ_cascnt_n</th>\n",
       "      <th>rmonth_qat_chage_voc_cascnt</th>\n",
       "      <th>voc_cnt_n</th>\n",
       "      <th>cont_sttus_chg_date_from_this_year</th>\n",
       "      <th>now_chage_prod_sbsc_date_from_this_year</th>\n",
       "      <th>accum_dt_stop_day_num_divide_10</th>\n",
       "      <th>accum_usst_day_num_divide_10</th>\n",
       "      <th>svc_use_mons_num_divide_10</th>\n",
       "      <th>insur_prod_sbsc_yn</th>\n",
       "    </tr>\n",
       "  </thead>\n",
       "  <tbody>\n",
       "    <tr>\n",
       "      <th>99995</th>\n",
       "      <td>TD1099996</td>\n",
       "      <td>44</td>\n",
       "      <td>N</td>\n",
       "      <td>N</td>\n",
       "      <td>N</td>\n",
       "      <td>N</td>\n",
       "      <td>Y</td>\n",
       "      <td>0</td>\n",
       "      <td>0</td>\n",
       "      <td>0</td>\n",
       "      <td>...</td>\n",
       "      <td>0</td>\n",
       "      <td>0</td>\n",
       "      <td>0</td>\n",
       "      <td>0</td>\n",
       "      <td>1</td>\n",
       "      <td>6</td>\n",
       "      <td>0</td>\n",
       "      <td>8</td>\n",
       "      <td>6</td>\n",
       "      <td>N</td>\n",
       "    </tr>\n",
       "    <tr>\n",
       "      <th>99996</th>\n",
       "      <td>TD1099997</td>\n",
       "      <td>53</td>\n",
       "      <td>Y</td>\n",
       "      <td>N</td>\n",
       "      <td>Y</td>\n",
       "      <td>Y</td>\n",
       "      <td>N</td>\n",
       "      <td>0</td>\n",
       "      <td>1</td>\n",
       "      <td>1</td>\n",
       "      <td>...</td>\n",
       "      <td>0</td>\n",
       "      <td>0</td>\n",
       "      <td>0</td>\n",
       "      <td>1</td>\n",
       "      <td>0</td>\n",
       "      <td>2</td>\n",
       "      <td>0</td>\n",
       "      <td>0</td>\n",
       "      <td>1</td>\n",
       "      <td>N</td>\n",
       "    </tr>\n",
       "    <tr>\n",
       "      <th>99997</th>\n",
       "      <td>TD1099998</td>\n",
       "      <td>49</td>\n",
       "      <td>N</td>\n",
       "      <td>N</td>\n",
       "      <td>N</td>\n",
       "      <td>Y</td>\n",
       "      <td>Y</td>\n",
       "      <td>0</td>\n",
       "      <td>2</td>\n",
       "      <td>0</td>\n",
       "      <td>...</td>\n",
       "      <td>0</td>\n",
       "      <td>0</td>\n",
       "      <td>0</td>\n",
       "      <td>0</td>\n",
       "      <td>3</td>\n",
       "      <td>2</td>\n",
       "      <td>0</td>\n",
       "      <td>1</td>\n",
       "      <td>8</td>\n",
       "      <td>Y</td>\n",
       "    </tr>\n",
       "    <tr>\n",
       "      <th>99998</th>\n",
       "      <td>TD1099999</td>\n",
       "      <td>18</td>\n",
       "      <td>N</td>\n",
       "      <td>N</td>\n",
       "      <td>N</td>\n",
       "      <td>N</td>\n",
       "      <td>Y</td>\n",
       "      <td>1</td>\n",
       "      <td>0</td>\n",
       "      <td>0</td>\n",
       "      <td>...</td>\n",
       "      <td>0</td>\n",
       "      <td>2</td>\n",
       "      <td>0</td>\n",
       "      <td>2</td>\n",
       "      <td>0</td>\n",
       "      <td>0</td>\n",
       "      <td>0</td>\n",
       "      <td>0</td>\n",
       "      <td>1</td>\n",
       "      <td>Y</td>\n",
       "    </tr>\n",
       "    <tr>\n",
       "      <th>99999</th>\n",
       "      <td>TD1100000</td>\n",
       "      <td>53</td>\n",
       "      <td>N</td>\n",
       "      <td>N</td>\n",
       "      <td>N</td>\n",
       "      <td>N</td>\n",
       "      <td>Y</td>\n",
       "      <td>1</td>\n",
       "      <td>0</td>\n",
       "      <td>0</td>\n",
       "      <td>...</td>\n",
       "      <td>0</td>\n",
       "      <td>0</td>\n",
       "      <td>0</td>\n",
       "      <td>0</td>\n",
       "      <td>6</td>\n",
       "      <td>1</td>\n",
       "      <td>0</td>\n",
       "      <td>0</td>\n",
       "      <td>6</td>\n",
       "      <td>N</td>\n",
       "    </tr>\n",
       "  </tbody>\n",
       "</table>\n",
       "<p>5 rows × 62 columns</p>\n",
       "</div>"
      ],
      "text/plain": [
       "              id age_itg_cd inet_sbsc_yn soip_sbsc_yn iptv_sbsc_yn  \\\n",
       "99995  TD1099996         44            N            N            N   \n",
       "99996  TD1099997         53            Y            N            Y   \n",
       "99997  TD1099998         49            N            N            N   \n",
       "99998  TD1099999         18            N            N            N   \n",
       "99999  TD1100000         53            N            N            N   \n",
       "\n",
       "      pstn_sbsc_yn mphon_sbsc_yn  efct_mphon_sbsc_cascnt  \\\n",
       "99995            N             Y                       0   \n",
       "99996            Y             N                       0   \n",
       "99997            Y             Y                       0   \n",
       "99998            N             Y                       1   \n",
       "99999            N             Y                       1   \n",
       "\n",
       "       efct_pstn_sbsc_cascnt  efct_inet_sbsc_cascnt  ...  voc_icnv_cascnt_n  \\\n",
       "99995                      0                      0  ...                  0   \n",
       "99996                      1                      1  ...                  0   \n",
       "99997                      2                      0  ...                  0   \n",
       "99998                      0                      0  ...                  0   \n",
       "99999                      0                      0  ...                  0   \n",
       "\n",
       "      voc_tot_occ_cascnt_n rmonth_qat_chage_voc_cascnt voc_cnt_n  \\\n",
       "99995                    0                           0         0   \n",
       "99996                    0                           0         1   \n",
       "99997                    0                           0         0   \n",
       "99998                    2                           0         2   \n",
       "99999                    0                           0         0   \n",
       "\n",
       "      cont_sttus_chg_date_from_this_year  \\\n",
       "99995                                  1   \n",
       "99996                                  0   \n",
       "99997                                  3   \n",
       "99998                                  0   \n",
       "99999                                  6   \n",
       "\n",
       "      now_chage_prod_sbsc_date_from_this_year  \\\n",
       "99995                                       6   \n",
       "99996                                       2   \n",
       "99997                                       2   \n",
       "99998                                       0   \n",
       "99999                                       1   \n",
       "\n",
       "       accum_dt_stop_day_num_divide_10 accum_usst_day_num_divide_10  \\\n",
       "99995                                0                            8   \n",
       "99996                                0                            0   \n",
       "99997                                0                            1   \n",
       "99998                                0                            0   \n",
       "99999                                0                            0   \n",
       "\n",
       "      svc_use_mons_num_divide_10  insur_prod_sbsc_yn  \n",
       "99995                          6                   N  \n",
       "99996                          1                   N  \n",
       "99997                          8                   Y  \n",
       "99998                          1                   Y  \n",
       "99999                          6                   N  \n",
       "\n",
       "[5 rows x 62 columns]"
      ]
     },
     "execution_count": 9,
     "metadata": {},
     "output_type": "execute_result"
    }
   ],
   "source": [
    "test_t1.tail()"
   ]
  },
  {
   "cell_type": "code",
   "execution_count": 10,
   "metadata": {},
   "outputs": [
    {
     "name": "stdout",
     "output_type": "stream",
     "text": [
      "<class 'pandas.core.frame.DataFrame'>\n",
      "RangeIndex: 38778 entries, 0 to 38777\n",
      "Data columns (total 16 columns):\n",
      " #   Column                     Non-Null Count  Dtype \n",
      "---  ------                     --------------  ----- \n",
      " 0   id                         38778 non-null  object\n",
      " 1   tm_athrt_trmn_cnt          38778 non-null  int64 \n",
      " 2   tm_cant_call_cnt           38778 non-null  int64 \n",
      " 3   tm_cant_collect_cnt        38778 non-null  int64 \n",
      " 4   tm_claim_cnt               38778 non-null  int64 \n",
      " 5   tm_etc_cnt                 38778 non-null  int64 \n",
      " 6   tm_handling_complaint_cnt  38778 non-null  int64 \n",
      " 7   tm_npay_cnt                38778 non-null  int64 \n",
      " 8   tm_promise_pay_cnt         38778 non-null  int64 \n",
      " 9   tm_term_stop_cnt           38778 non-null  int64 \n",
      " 10  tm_use_stop_cnt            38778 non-null  int64 \n",
      " 11  sm_athrt_trmn_cnt          38778 non-null  int64 \n",
      " 12  sm_npay_cnt                38778 non-null  int64 \n",
      " 13  sm_term_stop_cnt           38778 non-null  int64 \n",
      " 14  sm_thismonth_cnt           38778 non-null  int64 \n",
      " 15  sm_use_stop_cnt            38778 non-null  int64 \n",
      "dtypes: int64(15), object(1)\n",
      "memory usage: 4.7+ MB\n"
     ]
    }
   ],
   "source": [
    "test_t2.info()"
   ]
  },
  {
   "cell_type": "code",
   "execution_count": 11,
   "metadata": {},
   "outputs": [
    {
     "data": {
      "text/html": [
       "<div>\n",
       "<style scoped>\n",
       "    .dataframe tbody tr th:only-of-type {\n",
       "        vertical-align: middle;\n",
       "    }\n",
       "\n",
       "    .dataframe tbody tr th {\n",
       "        vertical-align: top;\n",
       "    }\n",
       "\n",
       "    .dataframe thead th {\n",
       "        text-align: right;\n",
       "    }\n",
       "</style>\n",
       "<table border=\"1\" class=\"dataframe\">\n",
       "  <thead>\n",
       "    <tr style=\"text-align: right;\">\n",
       "      <th></th>\n",
       "      <th>id</th>\n",
       "      <th>age_itg_cd</th>\n",
       "      <th>inet_sbsc_yn</th>\n",
       "      <th>soip_sbsc_yn</th>\n",
       "      <th>iptv_sbsc_yn</th>\n",
       "      <th>pstn_sbsc_yn</th>\n",
       "      <th>mphon_sbsc_yn</th>\n",
       "      <th>efct_mphon_sbsc_cascnt</th>\n",
       "      <th>efct_pstn_sbsc_cascnt</th>\n",
       "      <th>efct_inet_sbsc_cascnt</th>\n",
       "      <th>...</th>\n",
       "      <th>voc_icnv_cascnt_n</th>\n",
       "      <th>voc_tot_occ_cascnt_n</th>\n",
       "      <th>rmonth_qat_chage_voc_cascnt</th>\n",
       "      <th>voc_cnt_n</th>\n",
       "      <th>cont_sttus_chg_date_from_this_year</th>\n",
       "      <th>now_chage_prod_sbsc_date_from_this_year</th>\n",
       "      <th>accum_dt_stop_day_num_divide_10</th>\n",
       "      <th>accum_usst_day_num_divide_10</th>\n",
       "      <th>svc_use_mons_num_divide_10</th>\n",
       "      <th>insur_prod_sbsc_yn</th>\n",
       "    </tr>\n",
       "  </thead>\n",
       "  <tbody>\n",
       "    <tr>\n",
       "      <th>99995</th>\n",
       "      <td>TD1099996</td>\n",
       "      <td>44</td>\n",
       "      <td>N</td>\n",
       "      <td>N</td>\n",
       "      <td>N</td>\n",
       "      <td>N</td>\n",
       "      <td>Y</td>\n",
       "      <td>0</td>\n",
       "      <td>0</td>\n",
       "      <td>0</td>\n",
       "      <td>...</td>\n",
       "      <td>0</td>\n",
       "      <td>0</td>\n",
       "      <td>0</td>\n",
       "      <td>0</td>\n",
       "      <td>1</td>\n",
       "      <td>6</td>\n",
       "      <td>0</td>\n",
       "      <td>8</td>\n",
       "      <td>6</td>\n",
       "      <td>N</td>\n",
       "    </tr>\n",
       "    <tr>\n",
       "      <th>99996</th>\n",
       "      <td>TD1099997</td>\n",
       "      <td>53</td>\n",
       "      <td>Y</td>\n",
       "      <td>N</td>\n",
       "      <td>Y</td>\n",
       "      <td>Y</td>\n",
       "      <td>N</td>\n",
       "      <td>0</td>\n",
       "      <td>1</td>\n",
       "      <td>1</td>\n",
       "      <td>...</td>\n",
       "      <td>0</td>\n",
       "      <td>0</td>\n",
       "      <td>0</td>\n",
       "      <td>1</td>\n",
       "      <td>0</td>\n",
       "      <td>2</td>\n",
       "      <td>0</td>\n",
       "      <td>0</td>\n",
       "      <td>1</td>\n",
       "      <td>N</td>\n",
       "    </tr>\n",
       "    <tr>\n",
       "      <th>99997</th>\n",
       "      <td>TD1099998</td>\n",
       "      <td>49</td>\n",
       "      <td>N</td>\n",
       "      <td>N</td>\n",
       "      <td>N</td>\n",
       "      <td>Y</td>\n",
       "      <td>Y</td>\n",
       "      <td>0</td>\n",
       "      <td>2</td>\n",
       "      <td>0</td>\n",
       "      <td>...</td>\n",
       "      <td>0</td>\n",
       "      <td>0</td>\n",
       "      <td>0</td>\n",
       "      <td>0</td>\n",
       "      <td>3</td>\n",
       "      <td>2</td>\n",
       "      <td>0</td>\n",
       "      <td>1</td>\n",
       "      <td>8</td>\n",
       "      <td>Y</td>\n",
       "    </tr>\n",
       "    <tr>\n",
       "      <th>99998</th>\n",
       "      <td>TD1099999</td>\n",
       "      <td>18</td>\n",
       "      <td>N</td>\n",
       "      <td>N</td>\n",
       "      <td>N</td>\n",
       "      <td>N</td>\n",
       "      <td>Y</td>\n",
       "      <td>1</td>\n",
       "      <td>0</td>\n",
       "      <td>0</td>\n",
       "      <td>...</td>\n",
       "      <td>0</td>\n",
       "      <td>2</td>\n",
       "      <td>0</td>\n",
       "      <td>2</td>\n",
       "      <td>0</td>\n",
       "      <td>0</td>\n",
       "      <td>0</td>\n",
       "      <td>0</td>\n",
       "      <td>1</td>\n",
       "      <td>Y</td>\n",
       "    </tr>\n",
       "    <tr>\n",
       "      <th>99999</th>\n",
       "      <td>TD1100000</td>\n",
       "      <td>53</td>\n",
       "      <td>N</td>\n",
       "      <td>N</td>\n",
       "      <td>N</td>\n",
       "      <td>N</td>\n",
       "      <td>Y</td>\n",
       "      <td>1</td>\n",
       "      <td>0</td>\n",
       "      <td>0</td>\n",
       "      <td>...</td>\n",
       "      <td>0</td>\n",
       "      <td>0</td>\n",
       "      <td>0</td>\n",
       "      <td>0</td>\n",
       "      <td>6</td>\n",
       "      <td>1</td>\n",
       "      <td>0</td>\n",
       "      <td>0</td>\n",
       "      <td>6</td>\n",
       "      <td>N</td>\n",
       "    </tr>\n",
       "  </tbody>\n",
       "</table>\n",
       "<p>5 rows × 62 columns</p>\n",
       "</div>"
      ],
      "text/plain": [
       "              id age_itg_cd inet_sbsc_yn soip_sbsc_yn iptv_sbsc_yn  \\\n",
       "99995  TD1099996         44            N            N            N   \n",
       "99996  TD1099997         53            Y            N            Y   \n",
       "99997  TD1099998         49            N            N            N   \n",
       "99998  TD1099999         18            N            N            N   \n",
       "99999  TD1100000         53            N            N            N   \n",
       "\n",
       "      pstn_sbsc_yn mphon_sbsc_yn  efct_mphon_sbsc_cascnt  \\\n",
       "99995            N             Y                       0   \n",
       "99996            Y             N                       0   \n",
       "99997            Y             Y                       0   \n",
       "99998            N             Y                       1   \n",
       "99999            N             Y                       1   \n",
       "\n",
       "       efct_pstn_sbsc_cascnt  efct_inet_sbsc_cascnt  ...  voc_icnv_cascnt_n  \\\n",
       "99995                      0                      0  ...                  0   \n",
       "99996                      1                      1  ...                  0   \n",
       "99997                      2                      0  ...                  0   \n",
       "99998                      0                      0  ...                  0   \n",
       "99999                      0                      0  ...                  0   \n",
       "\n",
       "      voc_tot_occ_cascnt_n rmonth_qat_chage_voc_cascnt voc_cnt_n  \\\n",
       "99995                    0                           0         0   \n",
       "99996                    0                           0         1   \n",
       "99997                    0                           0         0   \n",
       "99998                    2                           0         2   \n",
       "99999                    0                           0         0   \n",
       "\n",
       "      cont_sttus_chg_date_from_this_year  \\\n",
       "99995                                  1   \n",
       "99996                                  0   \n",
       "99997                                  3   \n",
       "99998                                  0   \n",
       "99999                                  6   \n",
       "\n",
       "      now_chage_prod_sbsc_date_from_this_year  \\\n",
       "99995                                       6   \n",
       "99996                                       2   \n",
       "99997                                       2   \n",
       "99998                                       0   \n",
       "99999                                       1   \n",
       "\n",
       "       accum_dt_stop_day_num_divide_10 accum_usst_day_num_divide_10  \\\n",
       "99995                                0                            8   \n",
       "99996                                0                            0   \n",
       "99997                                0                            1   \n",
       "99998                                0                            0   \n",
       "99999                                0                            0   \n",
       "\n",
       "      svc_use_mons_num_divide_10  insur_prod_sbsc_yn  \n",
       "99995                          6                   N  \n",
       "99996                          1                   N  \n",
       "99997                          8                   Y  \n",
       "99998                          1                   Y  \n",
       "99999                          6                   N  \n",
       "\n",
       "[5 rows x 62 columns]"
      ]
     },
     "execution_count": 11,
     "metadata": {},
     "output_type": "execute_result"
    }
   ],
   "source": [
    "test_t1.tail()"
   ]
  },
  {
   "cell_type": "code",
   "execution_count": 12,
   "metadata": {},
   "outputs": [
    {
     "name": "stdout",
     "output_type": "stream",
     "text": [
      "missing sample in train_t1 training set: 0\n",
      "missing sample in train_t2 training set: 0\n",
      "missing sample in test_t1 test set: 0\n",
      "missing sample in test_t2 test set: 0 \n",
      "\n"
     ]
    }
   ],
   "source": [
    "# 결측치 여부 확인\n",
    "print(\"missing sample in train_t1 training set:\",train_t1.isnull().sum().sum())\n",
    "print(\"missing sample in train_t2 training set:\",train_t2.isnull().sum().sum())\n",
    "print(\"missing sample in test_t1 test set:\",test_t1.isnull().sum().sum())\n",
    "print(\"missing sample in test_t2 test set:\",test_t2.isnull().sum().sum(), \"\\n\")"
   ]
  },
  {
   "cell_type": "code",
   "execution_count": 13,
   "metadata": {},
   "outputs": [
    {
     "data": {
      "text/plain": [
       "id                                         0\n",
       "label_payment_yn                           0\n",
       "age_itg_cd                                 0\n",
       "inet_sbsc_yn                               0\n",
       "soip_sbsc_yn                               0\n",
       "                                          ..\n",
       "now_chage_prod_sbsc_date_from_this_year    0\n",
       "accum_dt_stop_day_num_divide_10            0\n",
       "accum_usst_day_num_divide_10               0\n",
       "svc_use_mons_num_divide_10                 0\n",
       "insur_prod_sbsc_yn                         0\n",
       "Length: 63, dtype: int64"
      ]
     },
     "execution_count": 13,
     "metadata": {},
     "output_type": "execute_result"
    }
   ],
   "source": [
    "train_t1.isnull().sum()"
   ]
  },
  {
   "cell_type": "code",
   "execution_count": 14,
   "metadata": {},
   "outputs": [
    {
     "name": "stdout",
     "output_type": "stream",
     "text": [
      "train_t1 ID Count :  (90000,)\n",
      "train_t2 ID Count :  (38575,)\n",
      "test_t1 ID Count :  (100000,)\n",
      "test_t2 ID Count :  (38778,)\n"
     ]
    }
   ],
   "source": [
    "# train t1, t2를 ID 기준으로 결합해서 dataset 생성\n",
    "print(\"train_t1 ID Count : \", train_t1['id'].unique().shape)\n",
    "print(\"train_t2 ID Count : \", train_t2['id'].unique().shape)\n",
    "print(\"test_t1 ID Count : \", test_t1['id'].unique().shape)\n",
    "print(\"test_t2 ID Count : \", test_t2['id'].unique().shape)"
   ]
  },
  {
   "cell_type": "markdown",
   "metadata": {},
   "source": [
    "### "
   ]
  },
  {
   "cell_type": "markdown",
   "metadata": {},
   "source": [
    "## \n",
    "## 3. ID 기준으로 Merge 및 결측치 저리"
   ]
  },
  {
   "cell_type": "code",
   "execution_count": 15,
   "metadata": {},
   "outputs": [],
   "source": [
    "# train_t1, train_t2 ID 기준으로 Merge\n",
    "train_merge_t1 = train_t1.merge(train_t2, how='outer', on='id')\n",
    "\n",
    "# test_t1, test_t2 ID 기준으로 Merge\n",
    "test_merge_t1 = test_t1.merge(test_t2, how='outer', on='id')"
   ]
  },
  {
   "cell_type": "code",
   "execution_count": 16,
   "metadata": {},
   "outputs": [
    {
     "name": "stdout",
     "output_type": "stream",
     "text": [
      "<class 'pandas.core.frame.DataFrame'>\n",
      "Int64Index: 90000 entries, 0 to 89999\n",
      "Data columns (total 78 columns):\n",
      " #   Column                                   Non-Null Count  Dtype  \n",
      "---  ------                                   --------------  -----  \n",
      " 0   id                                       90000 non-null  object \n",
      " 1   label_payment_yn                         90000 non-null  object \n",
      " 2   age_itg_cd                               90000 non-null  object \n",
      " 3   inet_sbsc_yn                             90000 non-null  object \n",
      " 4   soip_sbsc_yn                             90000 non-null  object \n",
      " 5   iptv_sbsc_yn                             90000 non-null  object \n",
      " 6   pstn_sbsc_yn                             90000 non-null  object \n",
      " 7   mphon_sbsc_yn                            90000 non-null  object \n",
      " 8   efct_mphon_sbsc_cascnt                   90000 non-null  int64  \n",
      " 9   efct_pstn_sbsc_cascnt                    90000 non-null  int64  \n",
      " 10  efct_inet_sbsc_cascnt                    90000 non-null  int64  \n",
      " 11  efct_iptv_sbsc_cascnt                    90000 non-null  int64  \n",
      " 12  dt_stop_yn                               90000 non-null  object \n",
      " 13  mphon_comb_yn                            90000 non-null  object \n",
      " 14  inet_comb_yn                             90000 non-null  object \n",
      " 15  iptv_comb_yn                             90000 non-null  object \n",
      " 16  npay_yn                                  90000 non-null  object \n",
      " 17  r3m_avg_bill_amt                         90000 non-null  int64  \n",
      " 18  r6m_inet_pssn_comb_yn                    90000 non-null  object \n",
      " 19  r6m_iptv_pssn_comb_yn                    90000 non-null  object \n",
      " 20  r3m_mphon_avg_arpu_amt                   90000 non-null  int64  \n",
      " 21  r3m_iptv_avg_arpu_amt                    90000 non-null  int64  \n",
      " 22  r3m_inet_avg_arpu_amt                    90000 non-null  int64  \n",
      " 23  r6m_mphon_avg_arpu_amt                   90000 non-null  int64  \n",
      " 24  r6m_iptv_avg_arpu_amt                    90000 non-null  int64  \n",
      " 25  r6m_inet_avg_arpu_amt                    90000 non-null  int64  \n",
      " 26  kids_wrlin_adtn_svc_sbsc_yn              90000 non-null  object \n",
      " 27  r6m_iptv_first_ppv_use_yn                90000 non-null  object \n",
      " 28  bill_rmny_npay_tms_itg_max_cnt_n         90000 non-null  int64  \n",
      " 29  bill_rmny_npay_tms_itg_cd                90000 non-null  int64  \n",
      " 30  npay_amt_sum_divide_10000                90000 non-null  int64  \n",
      " 31  not_sufficient_cnt                       90000 non-null  int64  \n",
      " 32  pay_way_nm                               90000 non-null  object \n",
      " 33  acrnd_dsp_meth_nm                        90000 non-null  object \n",
      " 34  npay_tms_cnt                             90000 non-null  int64  \n",
      " 35  anals_2_prod_level_nm                    90000 non-null  object \n",
      " 36  bprod_lctg_nm                            90000 non-null  object \n",
      " 37  wless_terml_gun_div_nm                   90000 non-null  object \n",
      " 38  wless_terml_gun_div_type                 90000 non-null  int64  \n",
      " 39  recnt_icg_date_from_this_year            90000 non-null  int64  \n",
      " 40  hndset_rmnd_insl_mons_num                90000 non-null  int64  \n",
      " 41  hndset_rmnd_insl_amt_divide_100000       90000 non-null  int64  \n",
      " 42  hndset_rmnd_insl_mons_yn                 90000 non-null  object \n",
      " 43  hndset_tot_insl_amt_divide_100000        90000 non-null  int64  \n",
      " 44  hndset_tot_insl_mons_num                 90000 non-null  int64  \n",
      " 45  bfee_amt_divide_10000                    90000 non-null  int64  \n",
      " 46  rmonth_tot_bill_amt_divide_10000         90000 non-null  int64  \n",
      " 47  r3m_avg_bill_amt_100000_over_yn          90000 non-null  object \n",
      " 48  r3m_wless_data_use_qnt_100000_over_yn    90000 non-null  object \n",
      " 49  voc_sbsc_inqr_cascnt_n                   90000 non-null  int64  \n",
      " 50  voc_data_qat_cascnt_n                    90000 non-null  int64  \n",
      " 51  voc_inqr_cascnt_n                        90000 non-null  int64  \n",
      " 52  voc_dscnt_cascnt_n                       90000 non-null  int64  \n",
      " 53  voc_icnv_cascnt_n                        90000 non-null  int64  \n",
      " 54  voc_tot_occ_cascnt_n                     90000 non-null  int64  \n",
      " 55  rmonth_qat_chage_voc_cascnt              90000 non-null  int64  \n",
      " 56  voc_cnt_n                                90000 non-null  int64  \n",
      " 57  cont_sttus_chg_date_from_this_year       90000 non-null  int64  \n",
      " 58  now_chage_prod_sbsc_date_from_this_year  90000 non-null  int64  \n",
      " 59  accum_dt_stop_day_num_divide_10          90000 non-null  int64  \n",
      " 60  accum_usst_day_num_divide_10             90000 non-null  int64  \n",
      " 61  svc_use_mons_num_divide_10               90000 non-null  int64  \n",
      " 62  insur_prod_sbsc_yn                       90000 non-null  object \n",
      " 63  tm_athrt_trmn_cnt                        38575 non-null  float64\n",
      " 64  tm_cant_call_cnt                         38575 non-null  float64\n",
      " 65  tm_cant_collect_cnt                      38575 non-null  float64\n",
      " 66  tm_claim_cnt                             38575 non-null  float64\n",
      " 67  tm_etc_cnt                               38575 non-null  float64\n",
      " 68  tm_handling_complaint_cnt                38575 non-null  float64\n",
      " 69  tm_npay_cnt                              38575 non-null  float64\n",
      " 70  tm_promise_pay_cnt                       38575 non-null  float64\n",
      " 71  tm_term_stop_cnt                         38575 non-null  float64\n",
      " 72  tm_use_stop_cnt                          38575 non-null  float64\n",
      " 73  sm_athrt_trmn_cnt                        38575 non-null  float64\n",
      " 74  sm_npay_cnt                              38575 non-null  float64\n",
      " 75  sm_term_stop_cnt                         38575 non-null  float64\n",
      " 76  sm_thismonth_cnt                         38575 non-null  float64\n",
      " 77  sm_use_stop_cnt                          38575 non-null  float64\n",
      "dtypes: float64(15), int64(37), object(26)\n",
      "memory usage: 54.2+ MB\n"
     ]
    }
   ],
   "source": [
    "train_merge_t1.info()"
   ]
  },
  {
   "cell_type": "code",
   "execution_count": 17,
   "metadata": {},
   "outputs": [
    {
     "name": "stdout",
     "output_type": "stream",
     "text": [
      "<class 'pandas.core.frame.DataFrame'>\n",
      "Int64Index: 100000 entries, 0 to 99999\n",
      "Data columns (total 77 columns):\n",
      " #   Column                                   Non-Null Count   Dtype  \n",
      "---  ------                                   --------------   -----  \n",
      " 0   id                                       100000 non-null  object \n",
      " 1   age_itg_cd                               100000 non-null  object \n",
      " 2   inet_sbsc_yn                             100000 non-null  object \n",
      " 3   soip_sbsc_yn                             100000 non-null  object \n",
      " 4   iptv_sbsc_yn                             100000 non-null  object \n",
      " 5   pstn_sbsc_yn                             100000 non-null  object \n",
      " 6   mphon_sbsc_yn                            100000 non-null  object \n",
      " 7   efct_mphon_sbsc_cascnt                   100000 non-null  int64  \n",
      " 8   efct_pstn_sbsc_cascnt                    100000 non-null  int64  \n",
      " 9   efct_inet_sbsc_cascnt                    100000 non-null  int64  \n",
      " 10  efct_iptv_sbsc_cascnt                    100000 non-null  int64  \n",
      " 11  dt_stop_yn                               100000 non-null  object \n",
      " 12  mphon_comb_yn                            100000 non-null  object \n",
      " 13  inet_comb_yn                             100000 non-null  object \n",
      " 14  iptv_comb_yn                             100000 non-null  object \n",
      " 15  npay_yn                                  100000 non-null  object \n",
      " 16  r3m_avg_bill_amt                         100000 non-null  int64  \n",
      " 17  r6m_inet_pssn_comb_yn                    100000 non-null  object \n",
      " 18  r6m_iptv_pssn_comb_yn                    100000 non-null  object \n",
      " 19  r3m_mphon_avg_arpu_amt                   100000 non-null  int64  \n",
      " 20  r3m_iptv_avg_arpu_amt                    100000 non-null  int64  \n",
      " 21  r3m_inet_avg_arpu_amt                    100000 non-null  int64  \n",
      " 22  r6m_mphon_avg_arpu_amt                   100000 non-null  int64  \n",
      " 23  r6m_iptv_avg_arpu_amt                    100000 non-null  int64  \n",
      " 24  r6m_inet_avg_arpu_amt                    100000 non-null  int64  \n",
      " 25  kids_wrlin_adtn_svc_sbsc_yn              100000 non-null  object \n",
      " 26  r6m_iptv_first_ppv_use_yn                100000 non-null  object \n",
      " 27  bill_rmny_npay_tms_itg_max_cnt_n         100000 non-null  int64  \n",
      " 28  bill_rmny_npay_tms_itg_cd                100000 non-null  int64  \n",
      " 29  npay_amt_sum_divide_10000                100000 non-null  int64  \n",
      " 30  not_sufficient_cnt                       100000 non-null  int64  \n",
      " 31  pay_way_nm                               100000 non-null  object \n",
      " 32  acrnd_dsp_meth_nm                        100000 non-null  object \n",
      " 33  npay_tms_cnt                             100000 non-null  int64  \n",
      " 34  anals_2_prod_level_nm                    100000 non-null  object \n",
      " 35  bprod_lctg_nm                            100000 non-null  object \n",
      " 36  wless_terml_gun_div_nm                   100000 non-null  object \n",
      " 37  wless_terml_gun_div_type                 100000 non-null  int64  \n",
      " 38  recnt_icg_date_from_this_year            100000 non-null  int64  \n",
      " 39  hndset_rmnd_insl_mons_num                100000 non-null  int64  \n",
      " 40  hndset_rmnd_insl_amt_divide_100000       100000 non-null  int64  \n",
      " 41  hndset_rmnd_insl_mons_yn                 100000 non-null  object \n",
      " 42  hndset_tot_insl_amt_divide_100000        100000 non-null  int64  \n",
      " 43  hndset_tot_insl_mons_num                 100000 non-null  int64  \n",
      " 44  bfee_amt_divide_10000                    100000 non-null  int64  \n",
      " 45  rmonth_tot_bill_amt_divide_10000         100000 non-null  int64  \n",
      " 46  r3m_avg_bill_amt_100000_over_yn          100000 non-null  object \n",
      " 47  r3m_wless_data_use_qnt_100000_over_yn    100000 non-null  object \n",
      " 48  voc_sbsc_inqr_cascnt_n                   100000 non-null  int64  \n",
      " 49  voc_data_qat_cascnt_n                    100000 non-null  int64  \n",
      " 50  voc_inqr_cascnt_n                        100000 non-null  int64  \n",
      " 51  voc_dscnt_cascnt_n                       100000 non-null  int64  \n",
      " 52  voc_icnv_cascnt_n                        100000 non-null  int64  \n",
      " 53  voc_tot_occ_cascnt_n                     100000 non-null  int64  \n",
      " 54  rmonth_qat_chage_voc_cascnt              100000 non-null  int64  \n",
      " 55  voc_cnt_n                                100000 non-null  int64  \n",
      " 56  cont_sttus_chg_date_from_this_year       100000 non-null  int64  \n",
      " 57  now_chage_prod_sbsc_date_from_this_year  100000 non-null  int64  \n",
      " 58  accum_dt_stop_day_num_divide_10          100000 non-null  int64  \n",
      " 59  accum_usst_day_num_divide_10             100000 non-null  int64  \n",
      " 60  svc_use_mons_num_divide_10               100000 non-null  int64  \n",
      " 61  insur_prod_sbsc_yn                       100000 non-null  object \n",
      " 62  tm_athrt_trmn_cnt                        38778 non-null   float64\n",
      " 63  tm_cant_call_cnt                         38778 non-null   float64\n",
      " 64  tm_cant_collect_cnt                      38778 non-null   float64\n",
      " 65  tm_claim_cnt                             38778 non-null   float64\n",
      " 66  tm_etc_cnt                               38778 non-null   float64\n",
      " 67  tm_handling_complaint_cnt                38778 non-null   float64\n",
      " 68  tm_npay_cnt                              38778 non-null   float64\n",
      " 69  tm_promise_pay_cnt                       38778 non-null   float64\n",
      " 70  tm_term_stop_cnt                         38778 non-null   float64\n",
      " 71  tm_use_stop_cnt                          38778 non-null   float64\n",
      " 72  sm_athrt_trmn_cnt                        38778 non-null   float64\n",
      " 73  sm_npay_cnt                              38778 non-null   float64\n",
      " 74  sm_term_stop_cnt                         38778 non-null   float64\n",
      " 75  sm_thismonth_cnt                         38778 non-null   float64\n",
      " 76  sm_use_stop_cnt                          38778 non-null   float64\n",
      "dtypes: float64(15), int64(37), object(25)\n",
      "memory usage: 59.5+ MB\n"
     ]
    }
   ],
   "source": [
    "test_merge_t1.info()"
   ]
  },
  {
   "cell_type": "code",
   "execution_count": 18,
   "metadata": {},
   "outputs": [],
   "source": [
    "# 결측치 처리 \n",
    "train_merge_t1.fillna(0, inplace=True)\n",
    "test_merge_t1.fillna(0, inplace=True)"
   ]
  },
  {
   "cell_type": "code",
   "execution_count": 19,
   "metadata": {},
   "outputs": [
    {
     "name": "stdout",
     "output_type": "stream",
     "text": [
      "<class 'pandas.core.frame.DataFrame'>\n",
      "Int64Index: 90000 entries, 0 to 89999\n",
      "Data columns (total 78 columns):\n",
      " #   Column                                   Non-Null Count  Dtype  \n",
      "---  ------                                   --------------  -----  \n",
      " 0   id                                       90000 non-null  object \n",
      " 1   label_payment_yn                         90000 non-null  object \n",
      " 2   age_itg_cd                               90000 non-null  object \n",
      " 3   inet_sbsc_yn                             90000 non-null  object \n",
      " 4   soip_sbsc_yn                             90000 non-null  object \n",
      " 5   iptv_sbsc_yn                             90000 non-null  object \n",
      " 6   pstn_sbsc_yn                             90000 non-null  object \n",
      " 7   mphon_sbsc_yn                            90000 non-null  object \n",
      " 8   efct_mphon_sbsc_cascnt                   90000 non-null  int64  \n",
      " 9   efct_pstn_sbsc_cascnt                    90000 non-null  int64  \n",
      " 10  efct_inet_sbsc_cascnt                    90000 non-null  int64  \n",
      " 11  efct_iptv_sbsc_cascnt                    90000 non-null  int64  \n",
      " 12  dt_stop_yn                               90000 non-null  object \n",
      " 13  mphon_comb_yn                            90000 non-null  object \n",
      " 14  inet_comb_yn                             90000 non-null  object \n",
      " 15  iptv_comb_yn                             90000 non-null  object \n",
      " 16  npay_yn                                  90000 non-null  object \n",
      " 17  r3m_avg_bill_amt                         90000 non-null  int64  \n",
      " 18  r6m_inet_pssn_comb_yn                    90000 non-null  object \n",
      " 19  r6m_iptv_pssn_comb_yn                    90000 non-null  object \n",
      " 20  r3m_mphon_avg_arpu_amt                   90000 non-null  int64  \n",
      " 21  r3m_iptv_avg_arpu_amt                    90000 non-null  int64  \n",
      " 22  r3m_inet_avg_arpu_amt                    90000 non-null  int64  \n",
      " 23  r6m_mphon_avg_arpu_amt                   90000 non-null  int64  \n",
      " 24  r6m_iptv_avg_arpu_amt                    90000 non-null  int64  \n",
      " 25  r6m_inet_avg_arpu_amt                    90000 non-null  int64  \n",
      " 26  kids_wrlin_adtn_svc_sbsc_yn              90000 non-null  object \n",
      " 27  r6m_iptv_first_ppv_use_yn                90000 non-null  object \n",
      " 28  bill_rmny_npay_tms_itg_max_cnt_n         90000 non-null  int64  \n",
      " 29  bill_rmny_npay_tms_itg_cd                90000 non-null  int64  \n",
      " 30  npay_amt_sum_divide_10000                90000 non-null  int64  \n",
      " 31  not_sufficient_cnt                       90000 non-null  int64  \n",
      " 32  pay_way_nm                               90000 non-null  object \n",
      " 33  acrnd_dsp_meth_nm                        90000 non-null  object \n",
      " 34  npay_tms_cnt                             90000 non-null  int64  \n",
      " 35  anals_2_prod_level_nm                    90000 non-null  object \n",
      " 36  bprod_lctg_nm                            90000 non-null  object \n",
      " 37  wless_terml_gun_div_nm                   90000 non-null  object \n",
      " 38  wless_terml_gun_div_type                 90000 non-null  int64  \n",
      " 39  recnt_icg_date_from_this_year            90000 non-null  int64  \n",
      " 40  hndset_rmnd_insl_mons_num                90000 non-null  int64  \n",
      " 41  hndset_rmnd_insl_amt_divide_100000       90000 non-null  int64  \n",
      " 42  hndset_rmnd_insl_mons_yn                 90000 non-null  object \n",
      " 43  hndset_tot_insl_amt_divide_100000        90000 non-null  int64  \n",
      " 44  hndset_tot_insl_mons_num                 90000 non-null  int64  \n",
      " 45  bfee_amt_divide_10000                    90000 non-null  int64  \n",
      " 46  rmonth_tot_bill_amt_divide_10000         90000 non-null  int64  \n",
      " 47  r3m_avg_bill_amt_100000_over_yn          90000 non-null  object \n",
      " 48  r3m_wless_data_use_qnt_100000_over_yn    90000 non-null  object \n",
      " 49  voc_sbsc_inqr_cascnt_n                   90000 non-null  int64  \n",
      " 50  voc_data_qat_cascnt_n                    90000 non-null  int64  \n",
      " 51  voc_inqr_cascnt_n                        90000 non-null  int64  \n",
      " 52  voc_dscnt_cascnt_n                       90000 non-null  int64  \n",
      " 53  voc_icnv_cascnt_n                        90000 non-null  int64  \n",
      " 54  voc_tot_occ_cascnt_n                     90000 non-null  int64  \n",
      " 55  rmonth_qat_chage_voc_cascnt              90000 non-null  int64  \n",
      " 56  voc_cnt_n                                90000 non-null  int64  \n",
      " 57  cont_sttus_chg_date_from_this_year       90000 non-null  int64  \n",
      " 58  now_chage_prod_sbsc_date_from_this_year  90000 non-null  int64  \n",
      " 59  accum_dt_stop_day_num_divide_10          90000 non-null  int64  \n",
      " 60  accum_usst_day_num_divide_10             90000 non-null  int64  \n",
      " 61  svc_use_mons_num_divide_10               90000 non-null  int64  \n",
      " 62  insur_prod_sbsc_yn                       90000 non-null  object \n",
      " 63  tm_athrt_trmn_cnt                        90000 non-null  float64\n",
      " 64  tm_cant_call_cnt                         90000 non-null  float64\n",
      " 65  tm_cant_collect_cnt                      90000 non-null  float64\n",
      " 66  tm_claim_cnt                             90000 non-null  float64\n",
      " 67  tm_etc_cnt                               90000 non-null  float64\n",
      " 68  tm_handling_complaint_cnt                90000 non-null  float64\n",
      " 69  tm_npay_cnt                              90000 non-null  float64\n",
      " 70  tm_promise_pay_cnt                       90000 non-null  float64\n",
      " 71  tm_term_stop_cnt                         90000 non-null  float64\n",
      " 72  tm_use_stop_cnt                          90000 non-null  float64\n",
      " 73  sm_athrt_trmn_cnt                        90000 non-null  float64\n",
      " 74  sm_npay_cnt                              90000 non-null  float64\n",
      " 75  sm_term_stop_cnt                         90000 non-null  float64\n",
      " 76  sm_thismonth_cnt                         90000 non-null  float64\n",
      " 77  sm_use_stop_cnt                          90000 non-null  float64\n",
      "dtypes: float64(15), int64(37), object(26)\n",
      "memory usage: 54.2+ MB\n"
     ]
    }
   ],
   "source": [
    "train_merge_t1.info()"
   ]
  },
  {
   "cell_type": "code",
   "execution_count": 20,
   "metadata": {},
   "outputs": [
    {
     "name": "stdout",
     "output_type": "stream",
     "text": [
      "<class 'pandas.core.frame.DataFrame'>\n",
      "Int64Index: 100000 entries, 0 to 99999\n",
      "Data columns (total 77 columns):\n",
      " #   Column                                   Non-Null Count   Dtype  \n",
      "---  ------                                   --------------   -----  \n",
      " 0   id                                       100000 non-null  object \n",
      " 1   age_itg_cd                               100000 non-null  object \n",
      " 2   inet_sbsc_yn                             100000 non-null  object \n",
      " 3   soip_sbsc_yn                             100000 non-null  object \n",
      " 4   iptv_sbsc_yn                             100000 non-null  object \n",
      " 5   pstn_sbsc_yn                             100000 non-null  object \n",
      " 6   mphon_sbsc_yn                            100000 non-null  object \n",
      " 7   efct_mphon_sbsc_cascnt                   100000 non-null  int64  \n",
      " 8   efct_pstn_sbsc_cascnt                    100000 non-null  int64  \n",
      " 9   efct_inet_sbsc_cascnt                    100000 non-null  int64  \n",
      " 10  efct_iptv_sbsc_cascnt                    100000 non-null  int64  \n",
      " 11  dt_stop_yn                               100000 non-null  object \n",
      " 12  mphon_comb_yn                            100000 non-null  object \n",
      " 13  inet_comb_yn                             100000 non-null  object \n",
      " 14  iptv_comb_yn                             100000 non-null  object \n",
      " 15  npay_yn                                  100000 non-null  object \n",
      " 16  r3m_avg_bill_amt                         100000 non-null  int64  \n",
      " 17  r6m_inet_pssn_comb_yn                    100000 non-null  object \n",
      " 18  r6m_iptv_pssn_comb_yn                    100000 non-null  object \n",
      " 19  r3m_mphon_avg_arpu_amt                   100000 non-null  int64  \n",
      " 20  r3m_iptv_avg_arpu_amt                    100000 non-null  int64  \n",
      " 21  r3m_inet_avg_arpu_amt                    100000 non-null  int64  \n",
      " 22  r6m_mphon_avg_arpu_amt                   100000 non-null  int64  \n",
      " 23  r6m_iptv_avg_arpu_amt                    100000 non-null  int64  \n",
      " 24  r6m_inet_avg_arpu_amt                    100000 non-null  int64  \n",
      " 25  kids_wrlin_adtn_svc_sbsc_yn              100000 non-null  object \n",
      " 26  r6m_iptv_first_ppv_use_yn                100000 non-null  object \n",
      " 27  bill_rmny_npay_tms_itg_max_cnt_n         100000 non-null  int64  \n",
      " 28  bill_rmny_npay_tms_itg_cd                100000 non-null  int64  \n",
      " 29  npay_amt_sum_divide_10000                100000 non-null  int64  \n",
      " 30  not_sufficient_cnt                       100000 non-null  int64  \n",
      " 31  pay_way_nm                               100000 non-null  object \n",
      " 32  acrnd_dsp_meth_nm                        100000 non-null  object \n",
      " 33  npay_tms_cnt                             100000 non-null  int64  \n",
      " 34  anals_2_prod_level_nm                    100000 non-null  object \n",
      " 35  bprod_lctg_nm                            100000 non-null  object \n",
      " 36  wless_terml_gun_div_nm                   100000 non-null  object \n",
      " 37  wless_terml_gun_div_type                 100000 non-null  int64  \n",
      " 38  recnt_icg_date_from_this_year            100000 non-null  int64  \n",
      " 39  hndset_rmnd_insl_mons_num                100000 non-null  int64  \n",
      " 40  hndset_rmnd_insl_amt_divide_100000       100000 non-null  int64  \n",
      " 41  hndset_rmnd_insl_mons_yn                 100000 non-null  object \n",
      " 42  hndset_tot_insl_amt_divide_100000        100000 non-null  int64  \n",
      " 43  hndset_tot_insl_mons_num                 100000 non-null  int64  \n",
      " 44  bfee_amt_divide_10000                    100000 non-null  int64  \n",
      " 45  rmonth_tot_bill_amt_divide_10000         100000 non-null  int64  \n",
      " 46  r3m_avg_bill_amt_100000_over_yn          100000 non-null  object \n",
      " 47  r3m_wless_data_use_qnt_100000_over_yn    100000 non-null  object \n",
      " 48  voc_sbsc_inqr_cascnt_n                   100000 non-null  int64  \n",
      " 49  voc_data_qat_cascnt_n                    100000 non-null  int64  \n",
      " 50  voc_inqr_cascnt_n                        100000 non-null  int64  \n",
      " 51  voc_dscnt_cascnt_n                       100000 non-null  int64  \n",
      " 52  voc_icnv_cascnt_n                        100000 non-null  int64  \n",
      " 53  voc_tot_occ_cascnt_n                     100000 non-null  int64  \n",
      " 54  rmonth_qat_chage_voc_cascnt              100000 non-null  int64  \n",
      " 55  voc_cnt_n                                100000 non-null  int64  \n",
      " 56  cont_sttus_chg_date_from_this_year       100000 non-null  int64  \n",
      " 57  now_chage_prod_sbsc_date_from_this_year  100000 non-null  int64  \n",
      " 58  accum_dt_stop_day_num_divide_10          100000 non-null  int64  \n",
      " 59  accum_usst_day_num_divide_10             100000 non-null  int64  \n",
      " 60  svc_use_mons_num_divide_10               100000 non-null  int64  \n",
      " 61  insur_prod_sbsc_yn                       100000 non-null  object \n",
      " 62  tm_athrt_trmn_cnt                        100000 non-null  float64\n",
      " 63  tm_cant_call_cnt                         100000 non-null  float64\n",
      " 64  tm_cant_collect_cnt                      100000 non-null  float64\n",
      " 65  tm_claim_cnt                             100000 non-null  float64\n",
      " 66  tm_etc_cnt                               100000 non-null  float64\n",
      " 67  tm_handling_complaint_cnt                100000 non-null  float64\n",
      " 68  tm_npay_cnt                              100000 non-null  float64\n",
      " 69  tm_promise_pay_cnt                       100000 non-null  float64\n",
      " 70  tm_term_stop_cnt                         100000 non-null  float64\n",
      " 71  tm_use_stop_cnt                          100000 non-null  float64\n",
      " 72  sm_athrt_trmn_cnt                        100000 non-null  float64\n",
      " 73  sm_npay_cnt                              100000 non-null  float64\n",
      " 74  sm_term_stop_cnt                         100000 non-null  float64\n",
      " 75  sm_thismonth_cnt                         100000 non-null  float64\n",
      " 76  sm_use_stop_cnt                          100000 non-null  float64\n",
      "dtypes: float64(15), int64(37), object(25)\n",
      "memory usage: 59.5+ MB\n"
     ]
    }
   ],
   "source": [
    "test_merge_t1.info()"
   ]
  },
  {
   "cell_type": "code",
   "execution_count": 21,
   "metadata": {},
   "outputs": [
    {
     "data": {
      "text/plain": [
       "(0, 0)"
      ]
     },
     "execution_count": 21,
     "metadata": {},
     "output_type": "execute_result"
    }
   ],
   "source": [
    "# 결측치 다시 확인\n",
    "train_merge_t1.isnull().sum().sum(), test_merge_t1.isnull().sum().sum()"
   ]
  },
  {
   "cell_type": "markdown",
   "metadata": {},
   "source": [
    "## \n",
    "## 4. train_merge_t1, test_merge_t1 2개 데이터 합침"
   ]
  },
  {
   "cell_type": "code",
   "execution_count": 22,
   "metadata": {},
   "outputs": [
    {
     "data": {
      "text/plain": [
       "N    45483\n",
       "Y    44517\n",
       "Name: label_payment_yn, dtype: int64"
      ]
     },
     "execution_count": 22,
     "metadata": {},
     "output_type": "execute_result"
    }
   ],
   "source": [
    "train_merge_t1['label_payment_yn'].value_counts()"
   ]
  },
  {
   "cell_type": "code",
   "execution_count": 23,
   "metadata": {},
   "outputs": [],
   "source": [
    "test_merge_t1['label_payment_yn'] = 0                      "
   ]
  },
  {
   "cell_type": "code",
   "execution_count": 24,
   "metadata": {},
   "outputs": [
    {
     "data": {
      "text/plain": [
       "((90000, 78), (100000, 78))"
      ]
     },
     "execution_count": 24,
     "metadata": {},
     "output_type": "execute_result"
    }
   ],
   "source": [
    "train_merge_t1.shape , test_merge_t1.shape"
   ]
  },
  {
   "cell_type": "code",
   "execution_count": 25,
   "metadata": {},
   "outputs": [],
   "source": [
    "total_merge_data = pd.concat([train_merge_t1, test_merge_t1])"
   ]
  },
  {
   "cell_type": "code",
   "execution_count": 26,
   "metadata": {},
   "outputs": [
    {
     "data": {
      "text/plain": [
       "(190000, 78)"
      ]
     },
     "execution_count": 26,
     "metadata": {},
     "output_type": "execute_result"
    }
   ],
   "source": [
    "total_merge_data.shape"
   ]
  },
  {
   "cell_type": "code",
   "execution_count": 27,
   "metadata": {},
   "outputs": [],
   "source": [
    "total_merge_data = total_merge_data.reset_index(drop=True)"
   ]
  },
  {
   "cell_type": "code",
   "execution_count": 28,
   "metadata": {},
   "outputs": [
    {
     "data": {
      "text/plain": [
       "(190000, 78)"
      ]
     },
     "execution_count": 28,
     "metadata": {},
     "output_type": "execute_result"
    }
   ],
   "source": [
    "total_merge_data.shape"
   ]
  },
  {
   "cell_type": "code",
   "execution_count": 29,
   "metadata": {},
   "outputs": [
    {
     "data": {
      "text/html": [
       "<div>\n",
       "<style scoped>\n",
       "    .dataframe tbody tr th:only-of-type {\n",
       "        vertical-align: middle;\n",
       "    }\n",
       "\n",
       "    .dataframe tbody tr th {\n",
       "        vertical-align: top;\n",
       "    }\n",
       "\n",
       "    .dataframe thead th {\n",
       "        text-align: right;\n",
       "    }\n",
       "</style>\n",
       "<table border=\"1\" class=\"dataframe\">\n",
       "  <thead>\n",
       "    <tr style=\"text-align: right;\">\n",
       "      <th></th>\n",
       "      <th>id</th>\n",
       "      <th>label_payment_yn</th>\n",
       "      <th>age_itg_cd</th>\n",
       "      <th>inet_sbsc_yn</th>\n",
       "      <th>soip_sbsc_yn</th>\n",
       "      <th>iptv_sbsc_yn</th>\n",
       "      <th>pstn_sbsc_yn</th>\n",
       "      <th>mphon_sbsc_yn</th>\n",
       "      <th>efct_mphon_sbsc_cascnt</th>\n",
       "      <th>efct_pstn_sbsc_cascnt</th>\n",
       "      <th>...</th>\n",
       "      <th>tm_handling_complaint_cnt</th>\n",
       "      <th>tm_npay_cnt</th>\n",
       "      <th>tm_promise_pay_cnt</th>\n",
       "      <th>tm_term_stop_cnt</th>\n",
       "      <th>tm_use_stop_cnt</th>\n",
       "      <th>sm_athrt_trmn_cnt</th>\n",
       "      <th>sm_npay_cnt</th>\n",
       "      <th>sm_term_stop_cnt</th>\n",
       "      <th>sm_thismonth_cnt</th>\n",
       "      <th>sm_use_stop_cnt</th>\n",
       "    </tr>\n",
       "  </thead>\n",
       "  <tbody>\n",
       "    <tr>\n",
       "      <th>0</th>\n",
       "      <td>ED1000001</td>\n",
       "      <td>N</td>\n",
       "      <td>76</td>\n",
       "      <td>N</td>\n",
       "      <td>N</td>\n",
       "      <td>N</td>\n",
       "      <td>N</td>\n",
       "      <td>Y</td>\n",
       "      <td>1</td>\n",
       "      <td>0</td>\n",
       "      <td>...</td>\n",
       "      <td>0.0</td>\n",
       "      <td>0.0</td>\n",
       "      <td>0.0</td>\n",
       "      <td>0.0</td>\n",
       "      <td>0.0</td>\n",
       "      <td>0.0</td>\n",
       "      <td>0.0</td>\n",
       "      <td>0.0</td>\n",
       "      <td>0.0</td>\n",
       "      <td>4.0</td>\n",
       "    </tr>\n",
       "    <tr>\n",
       "      <th>1</th>\n",
       "      <td>ED1000002</td>\n",
       "      <td>N</td>\n",
       "      <td>71</td>\n",
       "      <td>N</td>\n",
       "      <td>N</td>\n",
       "      <td>N</td>\n",
       "      <td>N</td>\n",
       "      <td>Y</td>\n",
       "      <td>0</td>\n",
       "      <td>0</td>\n",
       "      <td>...</td>\n",
       "      <td>0.0</td>\n",
       "      <td>0.0</td>\n",
       "      <td>0.0</td>\n",
       "      <td>0.0</td>\n",
       "      <td>0.0</td>\n",
       "      <td>0.0</td>\n",
       "      <td>1.0</td>\n",
       "      <td>0.0</td>\n",
       "      <td>0.0</td>\n",
       "      <td>0.0</td>\n",
       "    </tr>\n",
       "    <tr>\n",
       "      <th>2</th>\n",
       "      <td>ED1000003</td>\n",
       "      <td>N</td>\n",
       "      <td>21</td>\n",
       "      <td>N</td>\n",
       "      <td>N</td>\n",
       "      <td>N</td>\n",
       "      <td>N</td>\n",
       "      <td>Y</td>\n",
       "      <td>0</td>\n",
       "      <td>0</td>\n",
       "      <td>...</td>\n",
       "      <td>0.0</td>\n",
       "      <td>0.0</td>\n",
       "      <td>0.0</td>\n",
       "      <td>0.0</td>\n",
       "      <td>0.0</td>\n",
       "      <td>0.0</td>\n",
       "      <td>3.0</td>\n",
       "      <td>0.0</td>\n",
       "      <td>0.0</td>\n",
       "      <td>0.0</td>\n",
       "    </tr>\n",
       "    <tr>\n",
       "      <th>3</th>\n",
       "      <td>ED1000004</td>\n",
       "      <td>N</td>\n",
       "      <td>61</td>\n",
       "      <td>Y</td>\n",
       "      <td>N</td>\n",
       "      <td>Y</td>\n",
       "      <td>N</td>\n",
       "      <td>Y</td>\n",
       "      <td>1</td>\n",
       "      <td>0</td>\n",
       "      <td>...</td>\n",
       "      <td>0.0</td>\n",
       "      <td>0.0</td>\n",
       "      <td>0.0</td>\n",
       "      <td>0.0</td>\n",
       "      <td>0.0</td>\n",
       "      <td>0.0</td>\n",
       "      <td>3.0</td>\n",
       "      <td>0.0</td>\n",
       "      <td>0.0</td>\n",
       "      <td>0.0</td>\n",
       "    </tr>\n",
       "    <tr>\n",
       "      <th>4</th>\n",
       "      <td>ED1000005</td>\n",
       "      <td>Y</td>\n",
       "      <td>28</td>\n",
       "      <td>N</td>\n",
       "      <td>N</td>\n",
       "      <td>N</td>\n",
       "      <td>N</td>\n",
       "      <td>Y</td>\n",
       "      <td>0</td>\n",
       "      <td>0</td>\n",
       "      <td>...</td>\n",
       "      <td>0.0</td>\n",
       "      <td>0.0</td>\n",
       "      <td>0.0</td>\n",
       "      <td>0.0</td>\n",
       "      <td>0.0</td>\n",
       "      <td>0.0</td>\n",
       "      <td>0.0</td>\n",
       "      <td>0.0</td>\n",
       "      <td>0.0</td>\n",
       "      <td>0.0</td>\n",
       "    </tr>\n",
       "    <tr>\n",
       "      <th>...</th>\n",
       "      <td>...</td>\n",
       "      <td>...</td>\n",
       "      <td>...</td>\n",
       "      <td>...</td>\n",
       "      <td>...</td>\n",
       "      <td>...</td>\n",
       "      <td>...</td>\n",
       "      <td>...</td>\n",
       "      <td>...</td>\n",
       "      <td>...</td>\n",
       "      <td>...</td>\n",
       "      <td>...</td>\n",
       "      <td>...</td>\n",
       "      <td>...</td>\n",
       "      <td>...</td>\n",
       "      <td>...</td>\n",
       "      <td>...</td>\n",
       "      <td>...</td>\n",
       "      <td>...</td>\n",
       "      <td>...</td>\n",
       "      <td>...</td>\n",
       "    </tr>\n",
       "    <tr>\n",
       "      <th>189995</th>\n",
       "      <td>TD1099996</td>\n",
       "      <td>0</td>\n",
       "      <td>44</td>\n",
       "      <td>N</td>\n",
       "      <td>N</td>\n",
       "      <td>N</td>\n",
       "      <td>N</td>\n",
       "      <td>Y</td>\n",
       "      <td>0</td>\n",
       "      <td>0</td>\n",
       "      <td>...</td>\n",
       "      <td>0.0</td>\n",
       "      <td>0.0</td>\n",
       "      <td>0.0</td>\n",
       "      <td>0.0</td>\n",
       "      <td>0.0</td>\n",
       "      <td>0.0</td>\n",
       "      <td>0.0</td>\n",
       "      <td>0.0</td>\n",
       "      <td>0.0</td>\n",
       "      <td>0.0</td>\n",
       "    </tr>\n",
       "    <tr>\n",
       "      <th>189996</th>\n",
       "      <td>TD1099997</td>\n",
       "      <td>0</td>\n",
       "      <td>53</td>\n",
       "      <td>Y</td>\n",
       "      <td>N</td>\n",
       "      <td>Y</td>\n",
       "      <td>Y</td>\n",
       "      <td>N</td>\n",
       "      <td>0</td>\n",
       "      <td>1</td>\n",
       "      <td>...</td>\n",
       "      <td>0.0</td>\n",
       "      <td>2.0</td>\n",
       "      <td>0.0</td>\n",
       "      <td>0.0</td>\n",
       "      <td>0.0</td>\n",
       "      <td>0.0</td>\n",
       "      <td>0.0</td>\n",
       "      <td>0.0</td>\n",
       "      <td>0.0</td>\n",
       "      <td>2.0</td>\n",
       "    </tr>\n",
       "    <tr>\n",
       "      <th>189997</th>\n",
       "      <td>TD1099998</td>\n",
       "      <td>0</td>\n",
       "      <td>49</td>\n",
       "      <td>N</td>\n",
       "      <td>N</td>\n",
       "      <td>N</td>\n",
       "      <td>Y</td>\n",
       "      <td>Y</td>\n",
       "      <td>0</td>\n",
       "      <td>2</td>\n",
       "      <td>...</td>\n",
       "      <td>0.0</td>\n",
       "      <td>0.0</td>\n",
       "      <td>0.0</td>\n",
       "      <td>0.0</td>\n",
       "      <td>0.0</td>\n",
       "      <td>0.0</td>\n",
       "      <td>0.0</td>\n",
       "      <td>0.0</td>\n",
       "      <td>0.0</td>\n",
       "      <td>4.0</td>\n",
       "    </tr>\n",
       "    <tr>\n",
       "      <th>189998</th>\n",
       "      <td>TD1099999</td>\n",
       "      <td>0</td>\n",
       "      <td>18</td>\n",
       "      <td>N</td>\n",
       "      <td>N</td>\n",
       "      <td>N</td>\n",
       "      <td>N</td>\n",
       "      <td>Y</td>\n",
       "      <td>1</td>\n",
       "      <td>0</td>\n",
       "      <td>...</td>\n",
       "      <td>0.0</td>\n",
       "      <td>0.0</td>\n",
       "      <td>0.0</td>\n",
       "      <td>0.0</td>\n",
       "      <td>0.0</td>\n",
       "      <td>0.0</td>\n",
       "      <td>0.0</td>\n",
       "      <td>0.0</td>\n",
       "      <td>0.0</td>\n",
       "      <td>0.0</td>\n",
       "    </tr>\n",
       "    <tr>\n",
       "      <th>189999</th>\n",
       "      <td>TD1100000</td>\n",
       "      <td>0</td>\n",
       "      <td>53</td>\n",
       "      <td>N</td>\n",
       "      <td>N</td>\n",
       "      <td>N</td>\n",
       "      <td>N</td>\n",
       "      <td>Y</td>\n",
       "      <td>1</td>\n",
       "      <td>0</td>\n",
       "      <td>...</td>\n",
       "      <td>0.0</td>\n",
       "      <td>0.0</td>\n",
       "      <td>0.0</td>\n",
       "      <td>0.0</td>\n",
       "      <td>0.0</td>\n",
       "      <td>0.0</td>\n",
       "      <td>0.0</td>\n",
       "      <td>0.0</td>\n",
       "      <td>0.0</td>\n",
       "      <td>0.0</td>\n",
       "    </tr>\n",
       "  </tbody>\n",
       "</table>\n",
       "<p>190000 rows × 78 columns</p>\n",
       "</div>"
      ],
      "text/plain": [
       "               id label_payment_yn age_itg_cd inet_sbsc_yn soip_sbsc_yn  \\\n",
       "0       ED1000001                N         76            N            N   \n",
       "1       ED1000002                N         71            N            N   \n",
       "2       ED1000003                N         21            N            N   \n",
       "3       ED1000004                N         61            Y            N   \n",
       "4       ED1000005                Y         28            N            N   \n",
       "...           ...              ...        ...          ...          ...   \n",
       "189995  TD1099996                0         44            N            N   \n",
       "189996  TD1099997                0         53            Y            N   \n",
       "189997  TD1099998                0         49            N            N   \n",
       "189998  TD1099999                0         18            N            N   \n",
       "189999  TD1100000                0         53            N            N   \n",
       "\n",
       "       iptv_sbsc_yn pstn_sbsc_yn mphon_sbsc_yn  efct_mphon_sbsc_cascnt  \\\n",
       "0                 N            N             Y                       1   \n",
       "1                 N            N             Y                       0   \n",
       "2                 N            N             Y                       0   \n",
       "3                 Y            N             Y                       1   \n",
       "4                 N            N             Y                       0   \n",
       "...             ...          ...           ...                     ...   \n",
       "189995            N            N             Y                       0   \n",
       "189996            Y            Y             N                       0   \n",
       "189997            N            Y             Y                       0   \n",
       "189998            N            N             Y                       1   \n",
       "189999            N            N             Y                       1   \n",
       "\n",
       "        efct_pstn_sbsc_cascnt  ...  tm_handling_complaint_cnt  tm_npay_cnt  \\\n",
       "0                           0  ...                        0.0          0.0   \n",
       "1                           0  ...                        0.0          0.0   \n",
       "2                           0  ...                        0.0          0.0   \n",
       "3                           0  ...                        0.0          0.0   \n",
       "4                           0  ...                        0.0          0.0   \n",
       "...                       ...  ...                        ...          ...   \n",
       "189995                      0  ...                        0.0          0.0   \n",
       "189996                      1  ...                        0.0          2.0   \n",
       "189997                      2  ...                        0.0          0.0   \n",
       "189998                      0  ...                        0.0          0.0   \n",
       "189999                      0  ...                        0.0          0.0   \n",
       "\n",
       "       tm_promise_pay_cnt tm_term_stop_cnt tm_use_stop_cnt sm_athrt_trmn_cnt  \\\n",
       "0                     0.0              0.0             0.0               0.0   \n",
       "1                     0.0              0.0             0.0               0.0   \n",
       "2                     0.0              0.0             0.0               0.0   \n",
       "3                     0.0              0.0             0.0               0.0   \n",
       "4                     0.0              0.0             0.0               0.0   \n",
       "...                   ...              ...             ...               ...   \n",
       "189995                0.0              0.0             0.0               0.0   \n",
       "189996                0.0              0.0             0.0               0.0   \n",
       "189997                0.0              0.0             0.0               0.0   \n",
       "189998                0.0              0.0             0.0               0.0   \n",
       "189999                0.0              0.0             0.0               0.0   \n",
       "\n",
       "       sm_npay_cnt  sm_term_stop_cnt sm_thismonth_cnt sm_use_stop_cnt  \n",
       "0              0.0               0.0              0.0             4.0  \n",
       "1              1.0               0.0              0.0             0.0  \n",
       "2              3.0               0.0              0.0             0.0  \n",
       "3              3.0               0.0              0.0             0.0  \n",
       "4              0.0               0.0              0.0             0.0  \n",
       "...            ...               ...              ...             ...  \n",
       "189995         0.0               0.0              0.0             0.0  \n",
       "189996         0.0               0.0              0.0             2.0  \n",
       "189997         0.0               0.0              0.0             4.0  \n",
       "189998         0.0               0.0              0.0             0.0  \n",
       "189999         0.0               0.0              0.0             0.0  \n",
       "\n",
       "[190000 rows x 78 columns]"
      ]
     },
     "execution_count": 29,
     "metadata": {},
     "output_type": "execute_result"
    }
   ],
   "source": [
    "total_merge_data"
   ]
  },
  {
   "cell_type": "markdown",
   "metadata": {},
   "source": [
    "## \n",
    "## 5. 전화상담 있는 ID만 발췌 및 train_t2 데이터에서 필요한 컬럼파악"
   ]
  },
  {
   "cell_type": "code",
   "execution_count": 30,
   "metadata": {},
   "outputs": [],
   "source": [
    "# 전화상담 있는 ID만 발췌\n",
    "train_inner_join_ob_t1 = train_t1.merge(train_t2, how='inner', on='id')\n",
    "test_inner_join_ob_t1 = test_t1.merge(test_t2, how='inner', on='id')"
   ]
  },
  {
   "cell_type": "code",
   "execution_count": 31,
   "metadata": {},
   "outputs": [
    {
     "data": {
      "text/html": [
       "<div>\n",
       "<style scoped>\n",
       "    .dataframe tbody tr th:only-of-type {\n",
       "        vertical-align: middle;\n",
       "    }\n",
       "\n",
       "    .dataframe tbody tr th {\n",
       "        vertical-align: top;\n",
       "    }\n",
       "\n",
       "    .dataframe thead th {\n",
       "        text-align: right;\n",
       "    }\n",
       "</style>\n",
       "<table border=\"1\" class=\"dataframe\">\n",
       "  <thead>\n",
       "    <tr style=\"text-align: right;\">\n",
       "      <th></th>\n",
       "      <th>id</th>\n",
       "      <th>tm_athrt_trmn_cnt</th>\n",
       "      <th>tm_cant_call_cnt</th>\n",
       "      <th>tm_cant_collect_cnt</th>\n",
       "      <th>tm_claim_cnt</th>\n",
       "      <th>tm_etc_cnt</th>\n",
       "      <th>tm_handling_complaint_cnt</th>\n",
       "      <th>tm_npay_cnt</th>\n",
       "      <th>tm_promise_pay_cnt</th>\n",
       "      <th>tm_term_stop_cnt</th>\n",
       "      <th>tm_use_stop_cnt</th>\n",
       "      <th>sm_athrt_trmn_cnt</th>\n",
       "      <th>sm_npay_cnt</th>\n",
       "      <th>sm_term_stop_cnt</th>\n",
       "      <th>sm_thismonth_cnt</th>\n",
       "      <th>sm_use_stop_cnt</th>\n",
       "      <th>label_payment_yn</th>\n",
       "    </tr>\n",
       "  </thead>\n",
       "  <tbody>\n",
       "    <tr>\n",
       "      <th>0</th>\n",
       "      <td>ED1000001</td>\n",
       "      <td>0</td>\n",
       "      <td>1</td>\n",
       "      <td>0</td>\n",
       "      <td>0</td>\n",
       "      <td>0</td>\n",
       "      <td>0</td>\n",
       "      <td>0</td>\n",
       "      <td>0</td>\n",
       "      <td>0</td>\n",
       "      <td>0</td>\n",
       "      <td>0</td>\n",
       "      <td>0</td>\n",
       "      <td>0</td>\n",
       "      <td>0</td>\n",
       "      <td>4</td>\n",
       "      <td>N</td>\n",
       "    </tr>\n",
       "    <tr>\n",
       "      <th>1</th>\n",
       "      <td>ED1000002</td>\n",
       "      <td>0</td>\n",
       "      <td>0</td>\n",
       "      <td>0</td>\n",
       "      <td>0</td>\n",
       "      <td>0</td>\n",
       "      <td>0</td>\n",
       "      <td>0</td>\n",
       "      <td>0</td>\n",
       "      <td>0</td>\n",
       "      <td>0</td>\n",
       "      <td>0</td>\n",
       "      <td>1</td>\n",
       "      <td>0</td>\n",
       "      <td>0</td>\n",
       "      <td>0</td>\n",
       "      <td>N</td>\n",
       "    </tr>\n",
       "    <tr>\n",
       "      <th>2</th>\n",
       "      <td>ED1000003</td>\n",
       "      <td>0</td>\n",
       "      <td>0</td>\n",
       "      <td>0</td>\n",
       "      <td>0</td>\n",
       "      <td>0</td>\n",
       "      <td>0</td>\n",
       "      <td>0</td>\n",
       "      <td>0</td>\n",
       "      <td>0</td>\n",
       "      <td>0</td>\n",
       "      <td>0</td>\n",
       "      <td>3</td>\n",
       "      <td>0</td>\n",
       "      <td>0</td>\n",
       "      <td>0</td>\n",
       "      <td>N</td>\n",
       "    </tr>\n",
       "    <tr>\n",
       "      <th>3</th>\n",
       "      <td>ED1000004</td>\n",
       "      <td>0</td>\n",
       "      <td>0</td>\n",
       "      <td>0</td>\n",
       "      <td>0</td>\n",
       "      <td>0</td>\n",
       "      <td>0</td>\n",
       "      <td>0</td>\n",
       "      <td>0</td>\n",
       "      <td>0</td>\n",
       "      <td>0</td>\n",
       "      <td>0</td>\n",
       "      <td>3</td>\n",
       "      <td>0</td>\n",
       "      <td>0</td>\n",
       "      <td>0</td>\n",
       "      <td>N</td>\n",
       "    </tr>\n",
       "    <tr>\n",
       "      <th>4</th>\n",
       "      <td>ED1000007</td>\n",
       "      <td>0</td>\n",
       "      <td>0</td>\n",
       "      <td>0</td>\n",
       "      <td>0</td>\n",
       "      <td>0</td>\n",
       "      <td>0</td>\n",
       "      <td>0</td>\n",
       "      <td>0</td>\n",
       "      <td>0</td>\n",
       "      <td>0</td>\n",
       "      <td>0</td>\n",
       "      <td>2</td>\n",
       "      <td>0</td>\n",
       "      <td>0</td>\n",
       "      <td>0</td>\n",
       "      <td>N</td>\n",
       "    </tr>\n",
       "    <tr>\n",
       "      <th>...</th>\n",
       "      <td>...</td>\n",
       "      <td>...</td>\n",
       "      <td>...</td>\n",
       "      <td>...</td>\n",
       "      <td>...</td>\n",
       "      <td>...</td>\n",
       "      <td>...</td>\n",
       "      <td>...</td>\n",
       "      <td>...</td>\n",
       "      <td>...</td>\n",
       "      <td>...</td>\n",
       "      <td>...</td>\n",
       "      <td>...</td>\n",
       "      <td>...</td>\n",
       "      <td>...</td>\n",
       "      <td>...</td>\n",
       "      <td>...</td>\n",
       "    </tr>\n",
       "    <tr>\n",
       "      <th>38570</th>\n",
       "      <td>ED1089992</td>\n",
       "      <td>0</td>\n",
       "      <td>0</td>\n",
       "      <td>0</td>\n",
       "      <td>0</td>\n",
       "      <td>0</td>\n",
       "      <td>0</td>\n",
       "      <td>0</td>\n",
       "      <td>0</td>\n",
       "      <td>0</td>\n",
       "      <td>0</td>\n",
       "      <td>0</td>\n",
       "      <td>1</td>\n",
       "      <td>0</td>\n",
       "      <td>0</td>\n",
       "      <td>0</td>\n",
       "      <td>Y</td>\n",
       "    </tr>\n",
       "    <tr>\n",
       "      <th>38571</th>\n",
       "      <td>ED1089994</td>\n",
       "      <td>0</td>\n",
       "      <td>0</td>\n",
       "      <td>0</td>\n",
       "      <td>0</td>\n",
       "      <td>0</td>\n",
       "      <td>0</td>\n",
       "      <td>1</td>\n",
       "      <td>0</td>\n",
       "      <td>0</td>\n",
       "      <td>0</td>\n",
       "      <td>0</td>\n",
       "      <td>0</td>\n",
       "      <td>0</td>\n",
       "      <td>0</td>\n",
       "      <td>2</td>\n",
       "      <td>N</td>\n",
       "    </tr>\n",
       "    <tr>\n",
       "      <th>38572</th>\n",
       "      <td>ED1089995</td>\n",
       "      <td>0</td>\n",
       "      <td>0</td>\n",
       "      <td>0</td>\n",
       "      <td>0</td>\n",
       "      <td>0</td>\n",
       "      <td>0</td>\n",
       "      <td>0</td>\n",
       "      <td>0</td>\n",
       "      <td>0</td>\n",
       "      <td>0</td>\n",
       "      <td>0</td>\n",
       "      <td>0</td>\n",
       "      <td>0</td>\n",
       "      <td>0</td>\n",
       "      <td>3</td>\n",
       "      <td>N</td>\n",
       "    </tr>\n",
       "    <tr>\n",
       "      <th>38573</th>\n",
       "      <td>ED1089997</td>\n",
       "      <td>0</td>\n",
       "      <td>0</td>\n",
       "      <td>0</td>\n",
       "      <td>0</td>\n",
       "      <td>0</td>\n",
       "      <td>0</td>\n",
       "      <td>0</td>\n",
       "      <td>0</td>\n",
       "      <td>0</td>\n",
       "      <td>0</td>\n",
       "      <td>0</td>\n",
       "      <td>4</td>\n",
       "      <td>0</td>\n",
       "      <td>0</td>\n",
       "      <td>0</td>\n",
       "      <td>N</td>\n",
       "    </tr>\n",
       "    <tr>\n",
       "      <th>38574</th>\n",
       "      <td>ED1089998</td>\n",
       "      <td>0</td>\n",
       "      <td>0</td>\n",
       "      <td>0</td>\n",
       "      <td>0</td>\n",
       "      <td>0</td>\n",
       "      <td>0</td>\n",
       "      <td>0</td>\n",
       "      <td>0</td>\n",
       "      <td>0</td>\n",
       "      <td>0</td>\n",
       "      <td>0</td>\n",
       "      <td>0</td>\n",
       "      <td>0</td>\n",
       "      <td>0</td>\n",
       "      <td>4</td>\n",
       "      <td>N</td>\n",
       "    </tr>\n",
       "  </tbody>\n",
       "</table>\n",
       "<p>38575 rows × 17 columns</p>\n",
       "</div>"
      ],
      "text/plain": [
       "              id  tm_athrt_trmn_cnt  tm_cant_call_cnt  tm_cant_collect_cnt  \\\n",
       "0      ED1000001                  0                 1                    0   \n",
       "1      ED1000002                  0                 0                    0   \n",
       "2      ED1000003                  0                 0                    0   \n",
       "3      ED1000004                  0                 0                    0   \n",
       "4      ED1000007                  0                 0                    0   \n",
       "...          ...                ...               ...                  ...   \n",
       "38570  ED1089992                  0                 0                    0   \n",
       "38571  ED1089994                  0                 0                    0   \n",
       "38572  ED1089995                  0                 0                    0   \n",
       "38573  ED1089997                  0                 0                    0   \n",
       "38574  ED1089998                  0                 0                    0   \n",
       "\n",
       "       tm_claim_cnt  tm_etc_cnt  tm_handling_complaint_cnt  tm_npay_cnt  \\\n",
       "0                 0           0                          0            0   \n",
       "1                 0           0                          0            0   \n",
       "2                 0           0                          0            0   \n",
       "3                 0           0                          0            0   \n",
       "4                 0           0                          0            0   \n",
       "...             ...         ...                        ...          ...   \n",
       "38570             0           0                          0            0   \n",
       "38571             0           0                          0            1   \n",
       "38572             0           0                          0            0   \n",
       "38573             0           0                          0            0   \n",
       "38574             0           0                          0            0   \n",
       "\n",
       "       tm_promise_pay_cnt  tm_term_stop_cnt  tm_use_stop_cnt  \\\n",
       "0                       0                 0                0   \n",
       "1                       0                 0                0   \n",
       "2                       0                 0                0   \n",
       "3                       0                 0                0   \n",
       "4                       0                 0                0   \n",
       "...                   ...               ...              ...   \n",
       "38570                   0                 0                0   \n",
       "38571                   0                 0                0   \n",
       "38572                   0                 0                0   \n",
       "38573                   0                 0                0   \n",
       "38574                   0                 0                0   \n",
       "\n",
       "       sm_athrt_trmn_cnt  sm_npay_cnt  sm_term_stop_cnt  sm_thismonth_cnt  \\\n",
       "0                      0            0                 0                 0   \n",
       "1                      0            1                 0                 0   \n",
       "2                      0            3                 0                 0   \n",
       "3                      0            3                 0                 0   \n",
       "4                      0            2                 0                 0   \n",
       "...                  ...          ...               ...               ...   \n",
       "38570                  0            1                 0                 0   \n",
       "38571                  0            0                 0                 0   \n",
       "38572                  0            0                 0                 0   \n",
       "38573                  0            4                 0                 0   \n",
       "38574                  0            0                 0                 0   \n",
       "\n",
       "       sm_use_stop_cnt label_payment_yn  \n",
       "0                    4                N  \n",
       "1                    0                N  \n",
       "2                    0                N  \n",
       "3                    0                N  \n",
       "4                    0                N  \n",
       "...                ...              ...  \n",
       "38570                0                Y  \n",
       "38571                2                N  \n",
       "38572                3                N  \n",
       "38573                0                N  \n",
       "38574                4                N  \n",
       "\n",
       "[38575 rows x 17 columns]"
      ]
     },
     "execution_count": 31,
     "metadata": {},
     "output_type": "execute_result"
    }
   ],
   "source": [
    "col = train_t2.columns.values.tolist() + ['label_payment_yn']\n",
    "train_inner_join_ob_t1[col]"
   ]
  },
  {
   "cell_type": "code",
   "execution_count": 32,
   "metadata": {},
   "outputs": [
    {
     "data": {
      "text/plain": [
       "N    0.63129\n",
       "Y    0.36871\n",
       "Name: label_payment_yn, dtype: float64"
      ]
     },
     "execution_count": 32,
     "metadata": {},
     "output_type": "execute_result"
    }
   ],
   "source": [
    "train_inner_join_ob_t1['label_payment_yn'].value_counts(normalize=True)"
   ]
  },
  {
   "cell_type": "code",
   "execution_count": 33,
   "metadata": {},
   "outputs": [
    {
     "data": {
      "text/html": [
       "<div>\n",
       "<style scoped>\n",
       "    .dataframe tbody tr th:only-of-type {\n",
       "        vertical-align: middle;\n",
       "    }\n",
       "\n",
       "    .dataframe tbody tr th {\n",
       "        vertical-align: top;\n",
       "    }\n",
       "\n",
       "    .dataframe thead tr th {\n",
       "        text-align: left;\n",
       "    }\n",
       "\n",
       "    .dataframe thead tr:last-of-type th {\n",
       "        text-align: right;\n",
       "    }\n",
       "</style>\n",
       "<table border=\"1\" class=\"dataframe\">\n",
       "  <thead>\n",
       "    <tr>\n",
       "      <th></th>\n",
       "      <th colspan=\"3\" halign=\"left\">tm_athrt_trmn_cnt</th>\n",
       "      <th colspan=\"3\" halign=\"left\">tm_cant_call_cnt</th>\n",
       "      <th colspan=\"3\" halign=\"left\">tm_cant_collect_cnt</th>\n",
       "      <th>tm_claim_cnt</th>\n",
       "      <th>...</th>\n",
       "      <th>sm_npay_cnt</th>\n",
       "      <th colspan=\"3\" halign=\"left\">sm_term_stop_cnt</th>\n",
       "      <th colspan=\"3\" halign=\"left\">sm_thismonth_cnt</th>\n",
       "      <th colspan=\"3\" halign=\"left\">sm_use_stop_cnt</th>\n",
       "    </tr>\n",
       "    <tr>\n",
       "      <th></th>\n",
       "      <th>count</th>\n",
       "      <th>mean</th>\n",
       "      <th>sum</th>\n",
       "      <th>count</th>\n",
       "      <th>mean</th>\n",
       "      <th>sum</th>\n",
       "      <th>count</th>\n",
       "      <th>mean</th>\n",
       "      <th>sum</th>\n",
       "      <th>count</th>\n",
       "      <th>...</th>\n",
       "      <th>sum</th>\n",
       "      <th>count</th>\n",
       "      <th>mean</th>\n",
       "      <th>sum</th>\n",
       "      <th>count</th>\n",
       "      <th>mean</th>\n",
       "      <th>sum</th>\n",
       "      <th>count</th>\n",
       "      <th>mean</th>\n",
       "      <th>sum</th>\n",
       "    </tr>\n",
       "    <tr>\n",
       "      <th>label_payment_yn</th>\n",
       "      <th></th>\n",
       "      <th></th>\n",
       "      <th></th>\n",
       "      <th></th>\n",
       "      <th></th>\n",
       "      <th></th>\n",
       "      <th></th>\n",
       "      <th></th>\n",
       "      <th></th>\n",
       "      <th></th>\n",
       "      <th></th>\n",
       "      <th></th>\n",
       "      <th></th>\n",
       "      <th></th>\n",
       "      <th></th>\n",
       "      <th></th>\n",
       "      <th></th>\n",
       "      <th></th>\n",
       "      <th></th>\n",
       "      <th></th>\n",
       "      <th></th>\n",
       "    </tr>\n",
       "  </thead>\n",
       "  <tbody>\n",
       "    <tr>\n",
       "      <th>N</th>\n",
       "      <td>24352</td>\n",
       "      <td>0.000041</td>\n",
       "      <td>1</td>\n",
       "      <td>24352</td>\n",
       "      <td>0.028047</td>\n",
       "      <td>683</td>\n",
       "      <td>24352</td>\n",
       "      <td>0</td>\n",
       "      <td>0</td>\n",
       "      <td>24352</td>\n",
       "      <td>...</td>\n",
       "      <td>20639</td>\n",
       "      <td>24352</td>\n",
       "      <td>0</td>\n",
       "      <td>0</td>\n",
       "      <td>24352</td>\n",
       "      <td>0.039052</td>\n",
       "      <td>951</td>\n",
       "      <td>24352</td>\n",
       "      <td>1.605453</td>\n",
       "      <td>39096</td>\n",
       "    </tr>\n",
       "    <tr>\n",
       "      <th>Y</th>\n",
       "      <td>14223</td>\n",
       "      <td>0.000000</td>\n",
       "      <td>0</td>\n",
       "      <td>14223</td>\n",
       "      <td>0.022991</td>\n",
       "      <td>327</td>\n",
       "      <td>14223</td>\n",
       "      <td>0</td>\n",
       "      <td>0</td>\n",
       "      <td>14223</td>\n",
       "      <td>...</td>\n",
       "      <td>16930</td>\n",
       "      <td>14223</td>\n",
       "      <td>0</td>\n",
       "      <td>0</td>\n",
       "      <td>14223</td>\n",
       "      <td>0.037545</td>\n",
       "      <td>534</td>\n",
       "      <td>14223</td>\n",
       "      <td>1.227730</td>\n",
       "      <td>17462</td>\n",
       "    </tr>\n",
       "  </tbody>\n",
       "</table>\n",
       "<p>2 rows × 45 columns</p>\n",
       "</div>"
      ],
      "text/plain": [
       "                 tm_athrt_trmn_cnt               tm_cant_call_cnt            \\\n",
       "                             count      mean sum            count      mean   \n",
       "label_payment_yn                                                              \n",
       "N                            24352  0.000041   1            24352  0.028047   \n",
       "Y                            14223  0.000000   0            14223  0.022991   \n",
       "\n",
       "                      tm_cant_collect_cnt          tm_claim_cnt  ...  \\\n",
       "                  sum               count mean sum        count  ...   \n",
       "label_payment_yn                                                 ...   \n",
       "N                 683               24352    0   0        24352  ...   \n",
       "Y                 327               14223    0   0        14223  ...   \n",
       "\n",
       "                 sm_npay_cnt sm_term_stop_cnt          sm_thismonth_cnt  \\\n",
       "                         sum            count mean sum            count   \n",
       "label_payment_yn                                                          \n",
       "N                      20639            24352    0   0            24352   \n",
       "Y                      16930            14223    0   0            14223   \n",
       "\n",
       "                                sm_use_stop_cnt                   \n",
       "                      mean  sum           count      mean    sum  \n",
       "label_payment_yn                                                  \n",
       "N                 0.039052  951           24352  1.605453  39096  \n",
       "Y                 0.037545  534           14223  1.227730  17462  \n",
       "\n",
       "[2 rows x 45 columns]"
      ]
     },
     "execution_count": 33,
     "metadata": {},
     "output_type": "execute_result"
    }
   ],
   "source": [
    " train_inner_join_ob_t1.groupby('label_payment_yn')[col].agg(['count','mean','sum'])"
   ]
  },
  {
   "cell_type": "code",
   "execution_count": 34,
   "metadata": {},
   "outputs": [
    {
     "data": {
      "text/plain": [
       "0    38574\n",
       "1        1\n",
       "Name: tm_athrt_trmn_cnt, dtype: int64"
      ]
     },
     "execution_count": 34,
     "metadata": {},
     "output_type": "execute_result"
    }
   ],
   "source": [
    "train_inner_join_ob_t1['tm_athrt_trmn_cnt'].value_counts()"
   ]
  },
  {
   "cell_type": "code",
   "execution_count": 35,
   "metadata": {},
   "outputs": [
    {
     "data": {
      "text/plain": [
       "[ED1089240    1\n",
       " ED1018853    1\n",
       " ED1063481    1\n",
       " ED1035113    1\n",
       " ED1013940    1\n",
       "             ..\n",
       " ED1078748    1\n",
       " ED1064480    1\n",
       " ED1041848    1\n",
       " ED1066258    1\n",
       " ED1022739    1\n",
       " Name: id, Length: 38575, dtype: int64,\n",
       " 0    38574\n",
       " 1        1\n",
       " Name: tm_athrt_trmn_cnt, dtype: int64,\n",
       " 0    37748\n",
       " 1      698\n",
       " 2       88\n",
       " 3       30\n",
       " 4        9\n",
       " 5        2\n",
       " Name: tm_cant_call_cnt, dtype: int64,\n",
       " 0    38575\n",
       " Name: tm_cant_collect_cnt, dtype: int64,\n",
       " 0    38538\n",
       " 1       37\n",
       " Name: tm_claim_cnt, dtype: int64,\n",
       " 0    38167\n",
       " 1      353\n",
       " 2       39\n",
       " 3       13\n",
       " 4        3\n",
       " Name: tm_etc_cnt, dtype: int64,\n",
       " 0    38575\n",
       " Name: tm_handling_complaint_cnt, dtype: int64,\n",
       " 0     29771\n",
       " 1      6165\n",
       " 2      1614\n",
       " 3       558\n",
       " 4       223\n",
       " 5       109\n",
       " 6        43\n",
       " 8        33\n",
       " 7        27\n",
       " 9        18\n",
       " 11        6\n",
       " 10        4\n",
       " 13        2\n",
       " 17        1\n",
       " 15        1\n",
       " Name: tm_npay_cnt, dtype: int64,\n",
       " 0    38570\n",
       " 1        5\n",
       " Name: tm_promise_pay_cnt, dtype: int64,\n",
       " 0    38573\n",
       " 1        2\n",
       " Name: tm_term_stop_cnt, dtype: int64,\n",
       " 0    37965\n",
       " 1      547\n",
       " 2       47\n",
       " 4        5\n",
       " 3        5\n",
       " 5        3\n",
       " 9        1\n",
       " 8        1\n",
       " 7        1\n",
       " Name: tm_use_stop_cnt, dtype: int64,\n",
       " 0    38575\n",
       " Name: sm_athrt_trmn_cnt, dtype: int64,\n",
       " 0    24875\n",
       " 4     4767\n",
       " 1     4128\n",
       " 3     2094\n",
       " 2     1828\n",
       " 5      863\n",
       " 6       20\n",
       " Name: sm_npay_cnt, dtype: int64,\n",
       " 0    38575\n",
       " Name: sm_term_stop_cnt, dtype: int64,\n",
       " 0    37090\n",
       " 1     1485\n",
       " Name: sm_thismonth_cnt, dtype: int64,\n",
       " 0    13877\n",
       " 1     7754\n",
       " 2     6555\n",
       " 3     6130\n",
       " 4     4074\n",
       " 5      106\n",
       " 6       75\n",
       " 7        4\n",
       " Name: sm_use_stop_cnt, dtype: int64,\n",
       " N    24352\n",
       " Y    14223\n",
       " Name: label_payment_yn, dtype: int64]"
      ]
     },
     "execution_count": 35,
     "metadata": {},
     "output_type": "execute_result"
    }
   ],
   "source": [
    "# 해당 컬럼이 심각하게 기울어짐 : 삭제 컬럼 tm_athrt_trmn_cnt, tm_cant_collect_cnt, tm_claim_cnt, tm_handling_complaint_cnt, tm_promise_pay_cnt, tm_term_stop_cnt, tm_use_stop_cnt\n",
    "# 해당 컬럼은 어느 정도 기울어져 있으나 확인해 볼 필요 있음 : sm_use_stop_cnt, sm_npay_cnt, tm_npay_cnt\n",
    "[train_inner_join_ob_t1[col_name].value_counts() for col_name in col ]"
   ]
  },
  {
   "cell_type": "code",
   "execution_count": 36,
   "metadata": {},
   "outputs": [
    {
     "name": "stderr",
     "output_type": "stream",
     "text": [
      "/usr/local/lib/python3.6/dist-packages/ipykernel_launcher.py:1: FutureWarning: Indexing with multiple keys (implicitly converted to a tuple of keys) will be deprecated, use a list instead.\n",
      "  \"\"\"Entry point for launching an IPython kernel.\n"
     ]
    },
    {
     "data": {
      "text/html": [
       "<div>\n",
       "<style scoped>\n",
       "    .dataframe tbody tr th:only-of-type {\n",
       "        vertical-align: middle;\n",
       "    }\n",
       "\n",
       "    .dataframe tbody tr th {\n",
       "        vertical-align: top;\n",
       "    }\n",
       "\n",
       "    .dataframe thead tr th {\n",
       "        text-align: left;\n",
       "    }\n",
       "\n",
       "    .dataframe thead tr:last-of-type th {\n",
       "        text-align: right;\n",
       "    }\n",
       "</style>\n",
       "<table border=\"1\" class=\"dataframe\">\n",
       "  <thead>\n",
       "    <tr>\n",
       "      <th></th>\n",
       "      <th colspan=\"2\" halign=\"left\">sm_use_stop_cnt</th>\n",
       "      <th colspan=\"2\" halign=\"left\">sm_npay_cnt</th>\n",
       "      <th colspan=\"2\" halign=\"left\">tm_npay_cnt</th>\n",
       "    </tr>\n",
       "    <tr>\n",
       "      <th></th>\n",
       "      <th>count</th>\n",
       "      <th>sum</th>\n",
       "      <th>count</th>\n",
       "      <th>sum</th>\n",
       "      <th>count</th>\n",
       "      <th>sum</th>\n",
       "    </tr>\n",
       "    <tr>\n",
       "      <th>label_payment_yn</th>\n",
       "      <th></th>\n",
       "      <th></th>\n",
       "      <th></th>\n",
       "      <th></th>\n",
       "      <th></th>\n",
       "      <th></th>\n",
       "    </tr>\n",
       "  </thead>\n",
       "  <tbody>\n",
       "    <tr>\n",
       "      <th>N</th>\n",
       "      <td>24352</td>\n",
       "      <td>39096</td>\n",
       "      <td>24352</td>\n",
       "      <td>20639</td>\n",
       "      <td>24352</td>\n",
       "      <td>9743</td>\n",
       "    </tr>\n",
       "    <tr>\n",
       "      <th>Y</th>\n",
       "      <td>14223</td>\n",
       "      <td>17462</td>\n",
       "      <td>14223</td>\n",
       "      <td>16930</td>\n",
       "      <td>14223</td>\n",
       "      <td>3798</td>\n",
       "    </tr>\n",
       "  </tbody>\n",
       "</table>\n",
       "</div>"
      ],
      "text/plain": [
       "                 sm_use_stop_cnt        sm_npay_cnt        tm_npay_cnt      \n",
       "                           count    sum       count    sum       count   sum\n",
       "label_payment_yn                                                            \n",
       "N                          24352  39096       24352  20639       24352  9743\n",
       "Y                          14223  17462       14223  16930       14223  3798"
      ]
     },
     "execution_count": 36,
     "metadata": {},
     "output_type": "execute_result"
    }
   ],
   "source": [
    "train_inner_join_ob_t1.groupby('label_payment_yn')['sm_use_stop_cnt', 'sm_npay_cnt', 'tm_npay_cnt'].agg(['count','sum'])\n"
   ]
  },
  {
   "cell_type": "code",
   "execution_count": 37,
   "metadata": {},
   "outputs": [
    {
     "data": {
      "text/html": [
       "<div>\n",
       "<style scoped>\n",
       "    .dataframe tbody tr th:only-of-type {\n",
       "        vertical-align: middle;\n",
       "    }\n",
       "\n",
       "    .dataframe tbody tr th {\n",
       "        vertical-align: top;\n",
       "    }\n",
       "\n",
       "    .dataframe thead th {\n",
       "        text-align: right;\n",
       "    }\n",
       "</style>\n",
       "<table border=\"1\" class=\"dataframe\">\n",
       "  <thead>\n",
       "    <tr style=\"text-align: right;\">\n",
       "      <th></th>\n",
       "      <th></th>\n",
       "      <th>count</th>\n",
       "      <th>sum</th>\n",
       "    </tr>\n",
       "    <tr>\n",
       "      <th>label_payment_yn</th>\n",
       "      <th>sm_use_stop_cnt</th>\n",
       "      <th></th>\n",
       "      <th></th>\n",
       "    </tr>\n",
       "  </thead>\n",
       "  <tbody>\n",
       "    <tr>\n",
       "      <th rowspan=\"8\" valign=\"top\">N</th>\n",
       "      <th>0</th>\n",
       "      <td>7561</td>\n",
       "      <td>0</td>\n",
       "    </tr>\n",
       "    <tr>\n",
       "      <th>1</th>\n",
       "      <td>4858</td>\n",
       "      <td>4858</td>\n",
       "    </tr>\n",
       "    <tr>\n",
       "      <th>2</th>\n",
       "      <td>4647</td>\n",
       "      <td>9294</td>\n",
       "    </tr>\n",
       "    <tr>\n",
       "      <th>3</th>\n",
       "      <td>4410</td>\n",
       "      <td>13230</td>\n",
       "    </tr>\n",
       "    <tr>\n",
       "      <th>4</th>\n",
       "      <td>2735</td>\n",
       "      <td>10940</td>\n",
       "    </tr>\n",
       "    <tr>\n",
       "      <th>5</th>\n",
       "      <td>76</td>\n",
       "      <td>380</td>\n",
       "    </tr>\n",
       "    <tr>\n",
       "      <th>6</th>\n",
       "      <td>61</td>\n",
       "      <td>366</td>\n",
       "    </tr>\n",
       "    <tr>\n",
       "      <th>7</th>\n",
       "      <td>4</td>\n",
       "      <td>28</td>\n",
       "    </tr>\n",
       "    <tr>\n",
       "      <th rowspan=\"7\" valign=\"top\">Y</th>\n",
       "      <th>0</th>\n",
       "      <td>6316</td>\n",
       "      <td>0</td>\n",
       "    </tr>\n",
       "    <tr>\n",
       "      <th>1</th>\n",
       "      <td>2896</td>\n",
       "      <td>2896</td>\n",
       "    </tr>\n",
       "    <tr>\n",
       "      <th>2</th>\n",
       "      <td>1908</td>\n",
       "      <td>3816</td>\n",
       "    </tr>\n",
       "    <tr>\n",
       "      <th>3</th>\n",
       "      <td>1720</td>\n",
       "      <td>5160</td>\n",
       "    </tr>\n",
       "    <tr>\n",
       "      <th>4</th>\n",
       "      <td>1339</td>\n",
       "      <td>5356</td>\n",
       "    </tr>\n",
       "    <tr>\n",
       "      <th>5</th>\n",
       "      <td>30</td>\n",
       "      <td>150</td>\n",
       "    </tr>\n",
       "    <tr>\n",
       "      <th>6</th>\n",
       "      <td>14</td>\n",
       "      <td>84</td>\n",
       "    </tr>\n",
       "  </tbody>\n",
       "</table>\n",
       "</div>"
      ],
      "text/plain": [
       "                                  count    sum\n",
       "label_payment_yn sm_use_stop_cnt              \n",
       "N                0                 7561      0\n",
       "                 1                 4858   4858\n",
       "                 2                 4647   9294\n",
       "                 3                 4410  13230\n",
       "                 4                 2735  10940\n",
       "                 5                   76    380\n",
       "                 6                   61    366\n",
       "                 7                    4     28\n",
       "Y                0                 6316      0\n",
       "                 1                 2896   2896\n",
       "                 2                 1908   3816\n",
       "                 3                 1720   5160\n",
       "                 4                 1339   5356\n",
       "                 5                   30    150\n",
       "                 6                   14     84"
      ]
     },
     "execution_count": 37,
     "metadata": {},
     "output_type": "execute_result"
    }
   ],
   "source": [
    "# sm_use_stop_cnt : 이용정지안내(SMS등매체안내)\n",
    "train_inner_join_ob_t1.groupby(['label_payment_yn', 'sm_use_stop_cnt'])['sm_use_stop_cnt'].agg(['count','sum'])"
   ]
  },
  {
   "cell_type": "code",
   "execution_count": 38,
   "metadata": {},
   "outputs": [
    {
     "data": {
      "text/html": [
       "<div>\n",
       "<style scoped>\n",
       "    .dataframe tbody tr th:only-of-type {\n",
       "        vertical-align: middle;\n",
       "    }\n",
       "\n",
       "    .dataframe tbody tr th {\n",
       "        vertical-align: top;\n",
       "    }\n",
       "\n",
       "    .dataframe thead th {\n",
       "        text-align: right;\n",
       "    }\n",
       "</style>\n",
       "<table border=\"1\" class=\"dataframe\">\n",
       "  <thead>\n",
       "    <tr style=\"text-align: right;\">\n",
       "      <th></th>\n",
       "      <th></th>\n",
       "      <th>count</th>\n",
       "      <th>sum</th>\n",
       "    </tr>\n",
       "    <tr>\n",
       "      <th>label_payment_yn</th>\n",
       "      <th>sm_npay_cnt</th>\n",
       "      <th></th>\n",
       "      <th></th>\n",
       "    </tr>\n",
       "  </thead>\n",
       "  <tbody>\n",
       "    <tr>\n",
       "      <th rowspan=\"7\" valign=\"top\">N</th>\n",
       "      <th>0</th>\n",
       "      <td>16749</td>\n",
       "      <td>0</td>\n",
       "    </tr>\n",
       "    <tr>\n",
       "      <th>1</th>\n",
       "      <td>2191</td>\n",
       "      <td>2191</td>\n",
       "    </tr>\n",
       "    <tr>\n",
       "      <th>2</th>\n",
       "      <td>1200</td>\n",
       "      <td>2400</td>\n",
       "    </tr>\n",
       "    <tr>\n",
       "      <th>3</th>\n",
       "      <td>1293</td>\n",
       "      <td>3879</td>\n",
       "    </tr>\n",
       "    <tr>\n",
       "      <th>4</th>\n",
       "      <td>2434</td>\n",
       "      <td>9736</td>\n",
       "    </tr>\n",
       "    <tr>\n",
       "      <th>5</th>\n",
       "      <td>477</td>\n",
       "      <td>2385</td>\n",
       "    </tr>\n",
       "    <tr>\n",
       "      <th>6</th>\n",
       "      <td>8</td>\n",
       "      <td>48</td>\n",
       "    </tr>\n",
       "    <tr>\n",
       "      <th rowspan=\"7\" valign=\"top\">Y</th>\n",
       "      <th>0</th>\n",
       "      <td>8126</td>\n",
       "      <td>0</td>\n",
       "    </tr>\n",
       "    <tr>\n",
       "      <th>1</th>\n",
       "      <td>1937</td>\n",
       "      <td>1937</td>\n",
       "    </tr>\n",
       "    <tr>\n",
       "      <th>2</th>\n",
       "      <td>628</td>\n",
       "      <td>1256</td>\n",
       "    </tr>\n",
       "    <tr>\n",
       "      <th>3</th>\n",
       "      <td>801</td>\n",
       "      <td>2403</td>\n",
       "    </tr>\n",
       "    <tr>\n",
       "      <th>4</th>\n",
       "      <td>2333</td>\n",
       "      <td>9332</td>\n",
       "    </tr>\n",
       "    <tr>\n",
       "      <th>5</th>\n",
       "      <td>386</td>\n",
       "      <td>1930</td>\n",
       "    </tr>\n",
       "    <tr>\n",
       "      <th>6</th>\n",
       "      <td>12</td>\n",
       "      <td>72</td>\n",
       "    </tr>\n",
       "  </tbody>\n",
       "</table>\n",
       "</div>"
      ],
      "text/plain": [
       "                              count   sum\n",
       "label_payment_yn sm_npay_cnt             \n",
       "N                0            16749     0\n",
       "                 1             2191  2191\n",
       "                 2             1200  2400\n",
       "                 3             1293  3879\n",
       "                 4             2434  9736\n",
       "                 5              477  2385\n",
       "                 6                8    48\n",
       "Y                0             8126     0\n",
       "                 1             1937  1937\n",
       "                 2              628  1256\n",
       "                 3              801  2403\n",
       "                 4             2333  9332\n",
       "                 5              386  1930\n",
       "                 6               12    72"
      ]
     },
     "execution_count": 38,
     "metadata": {},
     "output_type": "execute_result"
    }
   ],
   "source": [
    "# sm_npay_cnt : 미납안내(SMS등매체안내)\n",
    "train_inner_join_ob_t1.groupby(['label_payment_yn', 'sm_npay_cnt'])['sm_npay_cnt'].agg(['count','sum'])"
   ]
  },
  {
   "cell_type": "code",
   "execution_count": 39,
   "metadata": {},
   "outputs": [
    {
     "data": {
      "text/html": [
       "<div>\n",
       "<style scoped>\n",
       "    .dataframe tbody tr th:only-of-type {\n",
       "        vertical-align: middle;\n",
       "    }\n",
       "\n",
       "    .dataframe tbody tr th {\n",
       "        vertical-align: top;\n",
       "    }\n",
       "\n",
       "    .dataframe thead th {\n",
       "        text-align: right;\n",
       "    }\n",
       "</style>\n",
       "<table border=\"1\" class=\"dataframe\">\n",
       "  <thead>\n",
       "    <tr style=\"text-align: right;\">\n",
       "      <th></th>\n",
       "      <th></th>\n",
       "      <th>count</th>\n",
       "      <th>sum</th>\n",
       "    </tr>\n",
       "    <tr>\n",
       "      <th>label_payment_yn</th>\n",
       "      <th>tm_npay_cnt</th>\n",
       "      <th></th>\n",
       "      <th></th>\n",
       "    </tr>\n",
       "  </thead>\n",
       "  <tbody>\n",
       "    <tr>\n",
       "      <th rowspan=\"15\" valign=\"top\">N</th>\n",
       "      <th>0</th>\n",
       "      <td>18308</td>\n",
       "      <td>0</td>\n",
       "    </tr>\n",
       "    <tr>\n",
       "      <th>1</th>\n",
       "      <td>4069</td>\n",
       "      <td>4069</td>\n",
       "    </tr>\n",
       "    <tr>\n",
       "      <th>2</th>\n",
       "      <td>1164</td>\n",
       "      <td>2328</td>\n",
       "    </tr>\n",
       "    <tr>\n",
       "      <th>3</th>\n",
       "      <td>428</td>\n",
       "      <td>1284</td>\n",
       "    </tr>\n",
       "    <tr>\n",
       "      <th>4</th>\n",
       "      <td>176</td>\n",
       "      <td>704</td>\n",
       "    </tr>\n",
       "    <tr>\n",
       "      <th>5</th>\n",
       "      <td>91</td>\n",
       "      <td>455</td>\n",
       "    </tr>\n",
       "    <tr>\n",
       "      <th>6</th>\n",
       "      <td>35</td>\n",
       "      <td>210</td>\n",
       "    </tr>\n",
       "    <tr>\n",
       "      <th>7</th>\n",
       "      <td>23</td>\n",
       "      <td>161</td>\n",
       "    </tr>\n",
       "    <tr>\n",
       "      <th>8</th>\n",
       "      <td>28</td>\n",
       "      <td>224</td>\n",
       "    </tr>\n",
       "    <tr>\n",
       "      <th>9</th>\n",
       "      <td>16</td>\n",
       "      <td>144</td>\n",
       "    </tr>\n",
       "    <tr>\n",
       "      <th>10</th>\n",
       "      <td>4</td>\n",
       "      <td>40</td>\n",
       "    </tr>\n",
       "    <tr>\n",
       "      <th>11</th>\n",
       "      <td>6</td>\n",
       "      <td>66</td>\n",
       "    </tr>\n",
       "    <tr>\n",
       "      <th>13</th>\n",
       "      <td>2</td>\n",
       "      <td>26</td>\n",
       "    </tr>\n",
       "    <tr>\n",
       "      <th>15</th>\n",
       "      <td>1</td>\n",
       "      <td>15</td>\n",
       "    </tr>\n",
       "    <tr>\n",
       "      <th>17</th>\n",
       "      <td>1</td>\n",
       "      <td>17</td>\n",
       "    </tr>\n",
       "    <tr>\n",
       "      <th rowspan=\"10\" valign=\"top\">Y</th>\n",
       "      <th>0</th>\n",
       "      <td>11463</td>\n",
       "      <td>0</td>\n",
       "    </tr>\n",
       "    <tr>\n",
       "      <th>1</th>\n",
       "      <td>2096</td>\n",
       "      <td>2096</td>\n",
       "    </tr>\n",
       "    <tr>\n",
       "      <th>2</th>\n",
       "      <td>450</td>\n",
       "      <td>900</td>\n",
       "    </tr>\n",
       "    <tr>\n",
       "      <th>3</th>\n",
       "      <td>130</td>\n",
       "      <td>390</td>\n",
       "    </tr>\n",
       "    <tr>\n",
       "      <th>4</th>\n",
       "      <td>47</td>\n",
       "      <td>188</td>\n",
       "    </tr>\n",
       "    <tr>\n",
       "      <th>5</th>\n",
       "      <td>18</td>\n",
       "      <td>90</td>\n",
       "    </tr>\n",
       "    <tr>\n",
       "      <th>6</th>\n",
       "      <td>8</td>\n",
       "      <td>48</td>\n",
       "    </tr>\n",
       "    <tr>\n",
       "      <th>7</th>\n",
       "      <td>4</td>\n",
       "      <td>28</td>\n",
       "    </tr>\n",
       "    <tr>\n",
       "      <th>8</th>\n",
       "      <td>5</td>\n",
       "      <td>40</td>\n",
       "    </tr>\n",
       "    <tr>\n",
       "      <th>9</th>\n",
       "      <td>2</td>\n",
       "      <td>18</td>\n",
       "    </tr>\n",
       "  </tbody>\n",
       "</table>\n",
       "</div>"
      ],
      "text/plain": [
       "                              count   sum\n",
       "label_payment_yn tm_npay_cnt             \n",
       "N                0            18308     0\n",
       "                 1             4069  4069\n",
       "                 2             1164  2328\n",
       "                 3              428  1284\n",
       "                 4              176   704\n",
       "                 5               91   455\n",
       "                 6               35   210\n",
       "                 7               23   161\n",
       "                 8               28   224\n",
       "                 9               16   144\n",
       "                 10               4    40\n",
       "                 11               6    66\n",
       "                 13               2    26\n",
       "                 15               1    15\n",
       "                 17               1    17\n",
       "Y                0            11463     0\n",
       "                 1             2096  2096\n",
       "                 2              450   900\n",
       "                 3              130   390\n",
       "                 4               47   188\n",
       "                 5               18    90\n",
       "                 6                8    48\n",
       "                 7                4    28\n",
       "                 8                5    40\n",
       "                 9                2    18"
      ]
     },
     "execution_count": 39,
     "metadata": {},
     "output_type": "execute_result"
    }
   ],
   "source": [
    "# tm_npay_cnt : 이용정지안내(SMS등매체안내)\n",
    "train_inner_join_ob_t1.groupby(['label_payment_yn', 'tm_npay_cnt'])['tm_npay_cnt'].agg(['count','sum'])"
   ]
  },
  {
   "cell_type": "markdown",
   "metadata": {},
   "source": [
    "## \n",
    "## 6. ['sm_use_stop_cnt', 'sm_npay_cnt', 'tm_npay_cnt'] 컬럼만 사용하기로 결정"
   ]
  },
  {
   "cell_type": "code",
   "execution_count": 40,
   "metadata": {},
   "outputs": [],
   "source": [
    "del_cols = list(set(train_t2.columns) - set(['id', 'sm_use_stop_cnt', 'sm_npay_cnt', 'tm_npay_cnt']))"
   ]
  },
  {
   "cell_type": "code",
   "execution_count": 41,
   "metadata": {},
   "outputs": [
    {
     "data": {
      "text/plain": [
       "['tm_promise_pay_cnt',\n",
       " 'sm_thismonth_cnt',\n",
       " 'tm_etc_cnt',\n",
       " 'tm_cant_collect_cnt',\n",
       " 'tm_term_stop_cnt',\n",
       " 'tm_cant_call_cnt',\n",
       " 'tm_use_stop_cnt',\n",
       " 'tm_handling_complaint_cnt',\n",
       " 'sm_athrt_trmn_cnt',\n",
       " 'tm_athrt_trmn_cnt',\n",
       " 'sm_term_stop_cnt',\n",
       " 'tm_claim_cnt']"
      ]
     },
     "execution_count": 41,
     "metadata": {},
     "output_type": "execute_result"
    }
   ],
   "source": [
    "del_cols"
   ]
  },
  {
   "cell_type": "code",
   "execution_count": 42,
   "metadata": {},
   "outputs": [
    {
     "data": {
      "text/plain": [
       "(190000, 78)"
      ]
     },
     "execution_count": 42,
     "metadata": {},
     "output_type": "execute_result"
    }
   ],
   "source": [
    "total_merge_data.shape"
   ]
  },
  {
   "cell_type": "code",
   "execution_count": 43,
   "metadata": {},
   "outputs": [],
   "source": [
    "total_merge_data1 = total_merge_data.drop(del_cols, axis=1)"
   ]
  },
  {
   "cell_type": "code",
   "execution_count": 44,
   "metadata": {},
   "outputs": [
    {
     "data": {
      "text/plain": [
       "(190000, 66)"
      ]
     },
     "execution_count": 44,
     "metadata": {},
     "output_type": "execute_result"
    }
   ],
   "source": [
    "total_merge_data1.shape"
   ]
  },
  {
   "cell_type": "code",
   "execution_count": 45,
   "metadata": {},
   "outputs": [
    {
     "name": "stdout",
     "output_type": "stream",
     "text": [
      "<class 'pandas.core.frame.DataFrame'>\n",
      "RangeIndex: 190000 entries, 0 to 189999\n",
      "Data columns (total 66 columns):\n",
      " #   Column                                   Non-Null Count   Dtype  \n",
      "---  ------                                   --------------   -----  \n",
      " 0   id                                       190000 non-null  object \n",
      " 1   label_payment_yn                         190000 non-null  object \n",
      " 2   age_itg_cd                               190000 non-null  object \n",
      " 3   inet_sbsc_yn                             190000 non-null  object \n",
      " 4   soip_sbsc_yn                             190000 non-null  object \n",
      " 5   iptv_sbsc_yn                             190000 non-null  object \n",
      " 6   pstn_sbsc_yn                             190000 non-null  object \n",
      " 7   mphon_sbsc_yn                            190000 non-null  object \n",
      " 8   efct_mphon_sbsc_cascnt                   190000 non-null  int64  \n",
      " 9   efct_pstn_sbsc_cascnt                    190000 non-null  int64  \n",
      " 10  efct_inet_sbsc_cascnt                    190000 non-null  int64  \n",
      " 11  efct_iptv_sbsc_cascnt                    190000 non-null  int64  \n",
      " 12  dt_stop_yn                               190000 non-null  object \n",
      " 13  mphon_comb_yn                            190000 non-null  object \n",
      " 14  inet_comb_yn                             190000 non-null  object \n",
      " 15  iptv_comb_yn                             190000 non-null  object \n",
      " 16  npay_yn                                  190000 non-null  object \n",
      " 17  r3m_avg_bill_amt                         190000 non-null  int64  \n",
      " 18  r6m_inet_pssn_comb_yn                    190000 non-null  object \n",
      " 19  r6m_iptv_pssn_comb_yn                    190000 non-null  object \n",
      " 20  r3m_mphon_avg_arpu_amt                   190000 non-null  int64  \n",
      " 21  r3m_iptv_avg_arpu_amt                    190000 non-null  int64  \n",
      " 22  r3m_inet_avg_arpu_amt                    190000 non-null  int64  \n",
      " 23  r6m_mphon_avg_arpu_amt                   190000 non-null  int64  \n",
      " 24  r6m_iptv_avg_arpu_amt                    190000 non-null  int64  \n",
      " 25  r6m_inet_avg_arpu_amt                    190000 non-null  int64  \n",
      " 26  kids_wrlin_adtn_svc_sbsc_yn              190000 non-null  object \n",
      " 27  r6m_iptv_first_ppv_use_yn                190000 non-null  object \n",
      " 28  bill_rmny_npay_tms_itg_max_cnt_n         190000 non-null  int64  \n",
      " 29  bill_rmny_npay_tms_itg_cd                190000 non-null  int64  \n",
      " 30  npay_amt_sum_divide_10000                190000 non-null  int64  \n",
      " 31  not_sufficient_cnt                       190000 non-null  int64  \n",
      " 32  pay_way_nm                               190000 non-null  object \n",
      " 33  acrnd_dsp_meth_nm                        190000 non-null  object \n",
      " 34  npay_tms_cnt                             190000 non-null  int64  \n",
      " 35  anals_2_prod_level_nm                    190000 non-null  object \n",
      " 36  bprod_lctg_nm                            190000 non-null  object \n",
      " 37  wless_terml_gun_div_nm                   190000 non-null  object \n",
      " 38  wless_terml_gun_div_type                 190000 non-null  int64  \n",
      " 39  recnt_icg_date_from_this_year            190000 non-null  int64  \n",
      " 40  hndset_rmnd_insl_mons_num                190000 non-null  int64  \n",
      " 41  hndset_rmnd_insl_amt_divide_100000       190000 non-null  int64  \n",
      " 42  hndset_rmnd_insl_mons_yn                 190000 non-null  object \n",
      " 43  hndset_tot_insl_amt_divide_100000        190000 non-null  int64  \n",
      " 44  hndset_tot_insl_mons_num                 190000 non-null  int64  \n",
      " 45  bfee_amt_divide_10000                    190000 non-null  int64  \n",
      " 46  rmonth_tot_bill_amt_divide_10000         190000 non-null  int64  \n",
      " 47  r3m_avg_bill_amt_100000_over_yn          190000 non-null  object \n",
      " 48  r3m_wless_data_use_qnt_100000_over_yn    190000 non-null  object \n",
      " 49  voc_sbsc_inqr_cascnt_n                   190000 non-null  int64  \n",
      " 50  voc_data_qat_cascnt_n                    190000 non-null  int64  \n",
      " 51  voc_inqr_cascnt_n                        190000 non-null  int64  \n",
      " 52  voc_dscnt_cascnt_n                       190000 non-null  int64  \n",
      " 53  voc_icnv_cascnt_n                        190000 non-null  int64  \n",
      " 54  voc_tot_occ_cascnt_n                     190000 non-null  int64  \n",
      " 55  rmonth_qat_chage_voc_cascnt              190000 non-null  int64  \n",
      " 56  voc_cnt_n                                190000 non-null  int64  \n",
      " 57  cont_sttus_chg_date_from_this_year       190000 non-null  int64  \n",
      " 58  now_chage_prod_sbsc_date_from_this_year  190000 non-null  int64  \n",
      " 59  accum_dt_stop_day_num_divide_10          190000 non-null  int64  \n",
      " 60  accum_usst_day_num_divide_10             190000 non-null  int64  \n",
      " 61  svc_use_mons_num_divide_10               190000 non-null  int64  \n",
      " 62  insur_prod_sbsc_yn                       190000 non-null  object \n",
      " 63  tm_npay_cnt                              190000 non-null  float64\n",
      " 64  sm_npay_cnt                              190000 non-null  float64\n",
      " 65  sm_use_stop_cnt                          190000 non-null  float64\n",
      "dtypes: float64(3), int64(37), object(26)\n",
      "memory usage: 95.7+ MB\n"
     ]
    }
   ],
   "source": [
    "total_merge_data1.info()"
   ]
  },
  {
   "cell_type": "code",
   "execution_count": 46,
   "metadata": {},
   "outputs": [
    {
     "data": {
      "text/html": [
       "<div>\n",
       "<style scoped>\n",
       "    .dataframe tbody tr th:only-of-type {\n",
       "        vertical-align: middle;\n",
       "    }\n",
       "\n",
       "    .dataframe tbody tr th {\n",
       "        vertical-align: top;\n",
       "    }\n",
       "\n",
       "    .dataframe thead th {\n",
       "        text-align: right;\n",
       "    }\n",
       "</style>\n",
       "<table border=\"1\" class=\"dataframe\">\n",
       "  <thead>\n",
       "    <tr style=\"text-align: right;\">\n",
       "      <th></th>\n",
       "      <th>efct_mphon_sbsc_cascnt</th>\n",
       "      <th>efct_pstn_sbsc_cascnt</th>\n",
       "      <th>efct_inet_sbsc_cascnt</th>\n",
       "      <th>efct_iptv_sbsc_cascnt</th>\n",
       "      <th>r3m_avg_bill_amt</th>\n",
       "      <th>r3m_mphon_avg_arpu_amt</th>\n",
       "      <th>r3m_iptv_avg_arpu_amt</th>\n",
       "      <th>r3m_inet_avg_arpu_amt</th>\n",
       "      <th>r6m_mphon_avg_arpu_amt</th>\n",
       "      <th>r6m_iptv_avg_arpu_amt</th>\n",
       "      <th>...</th>\n",
       "      <th>rmonth_qat_chage_voc_cascnt</th>\n",
       "      <th>voc_cnt_n</th>\n",
       "      <th>cont_sttus_chg_date_from_this_year</th>\n",
       "      <th>now_chage_prod_sbsc_date_from_this_year</th>\n",
       "      <th>accum_dt_stop_day_num_divide_10</th>\n",
       "      <th>accum_usst_day_num_divide_10</th>\n",
       "      <th>svc_use_mons_num_divide_10</th>\n",
       "      <th>tm_npay_cnt</th>\n",
       "      <th>sm_npay_cnt</th>\n",
       "      <th>sm_use_stop_cnt</th>\n",
       "    </tr>\n",
       "  </thead>\n",
       "  <tbody>\n",
       "    <tr>\n",
       "      <th>count</th>\n",
       "      <td>190000.000000</td>\n",
       "      <td>190000.000000</td>\n",
       "      <td>190000.000000</td>\n",
       "      <td>190000.000000</td>\n",
       "      <td>1.900000e+05</td>\n",
       "      <td>1.900000e+05</td>\n",
       "      <td>1.900000e+05</td>\n",
       "      <td>1.900000e+05</td>\n",
       "      <td>1.900000e+05</td>\n",
       "      <td>1.900000e+05</td>\n",
       "      <td>...</td>\n",
       "      <td>190000.000000</td>\n",
       "      <td>190000.000000</td>\n",
       "      <td>190000.000000</td>\n",
       "      <td>190000.000000</td>\n",
       "      <td>190000.000000</td>\n",
       "      <td>190000.000000</td>\n",
       "      <td>190000.000000</td>\n",
       "      <td>190000.000000</td>\n",
       "      <td>190000.000000</td>\n",
       "      <td>190000.000000</td>\n",
       "    </tr>\n",
       "    <tr>\n",
       "      <th>mean</th>\n",
       "      <td>0.767126</td>\n",
       "      <td>0.157084</td>\n",
       "      <td>0.277126</td>\n",
       "      <td>0.388537</td>\n",
       "      <td>2.147857e+05</td>\n",
       "      <td>6.641438e+04</td>\n",
       "      <td>1.116001e+04</td>\n",
       "      <td>1.467441e+04</td>\n",
       "      <td>6.711103e+04</td>\n",
       "      <td>1.130559e+04</td>\n",
       "      <td>...</td>\n",
       "      <td>0.008774</td>\n",
       "      <td>0.205889</td>\n",
       "      <td>2.237416</td>\n",
       "      <td>1.910174</td>\n",
       "      <td>0.669953</td>\n",
       "      <td>1.487526</td>\n",
       "      <td>4.513816</td>\n",
       "      <td>0.141511</td>\n",
       "      <td>0.356905</td>\n",
       "      <td>0.601132</td>\n",
       "    </tr>\n",
       "    <tr>\n",
       "      <th>std</th>\n",
       "      <td>0.851516</td>\n",
       "      <td>2.931517</td>\n",
       "      <td>0.757610</td>\n",
       "      <td>1.774039</td>\n",
       "      <td>2.367343e+05</td>\n",
       "      <td>8.431510e+04</td>\n",
       "      <td>3.698530e+04</td>\n",
       "      <td>6.463713e+04</td>\n",
       "      <td>8.402504e+04</td>\n",
       "      <td>3.101914e+04</td>\n",
       "      <td>...</td>\n",
       "      <td>0.105241</td>\n",
       "      <td>0.611345</td>\n",
       "      <td>2.276993</td>\n",
       "      <td>1.578501</td>\n",
       "      <td>2.323601</td>\n",
       "      <td>3.106154</td>\n",
       "      <td>3.341178</td>\n",
       "      <td>0.564980</td>\n",
       "      <td>1.016725</td>\n",
       "      <td>1.143996</td>\n",
       "    </tr>\n",
       "    <tr>\n",
       "      <th>min</th>\n",
       "      <td>0.000000</td>\n",
       "      <td>0.000000</td>\n",
       "      <td>0.000000</td>\n",
       "      <td>0.000000</td>\n",
       "      <td>0.000000e+00</td>\n",
       "      <td>0.000000e+00</td>\n",
       "      <td>0.000000e+00</td>\n",
       "      <td>0.000000e+00</td>\n",
       "      <td>0.000000e+00</td>\n",
       "      <td>0.000000e+00</td>\n",
       "      <td>...</td>\n",
       "      <td>0.000000</td>\n",
       "      <td>0.000000</td>\n",
       "      <td>0.000000</td>\n",
       "      <td>0.000000</td>\n",
       "      <td>0.000000</td>\n",
       "      <td>0.000000</td>\n",
       "      <td>0.000000</td>\n",
       "      <td>0.000000</td>\n",
       "      <td>0.000000</td>\n",
       "      <td>0.000000</td>\n",
       "    </tr>\n",
       "    <tr>\n",
       "      <th>25%</th>\n",
       "      <td>0.000000</td>\n",
       "      <td>0.000000</td>\n",
       "      <td>0.000000</td>\n",
       "      <td>0.000000</td>\n",
       "      <td>8.023275e+04</td>\n",
       "      <td>3.888575e+04</td>\n",
       "      <td>0.000000e+00</td>\n",
       "      <td>0.000000e+00</td>\n",
       "      <td>3.917300e+04</td>\n",
       "      <td>0.000000e+00</td>\n",
       "      <td>...</td>\n",
       "      <td>0.000000</td>\n",
       "      <td>0.000000</td>\n",
       "      <td>1.000000</td>\n",
       "      <td>1.000000</td>\n",
       "      <td>0.000000</td>\n",
       "      <td>0.000000</td>\n",
       "      <td>2.000000</td>\n",
       "      <td>0.000000</td>\n",
       "      <td>0.000000</td>\n",
       "      <td>0.000000</td>\n",
       "    </tr>\n",
       "    <tr>\n",
       "      <th>50%</th>\n",
       "      <td>1.000000</td>\n",
       "      <td>0.000000</td>\n",
       "      <td>0.000000</td>\n",
       "      <td>0.000000</td>\n",
       "      <td>1.317915e+05</td>\n",
       "      <td>5.442200e+04</td>\n",
       "      <td>0.000000e+00</td>\n",
       "      <td>0.000000e+00</td>\n",
       "      <td>5.479300e+04</td>\n",
       "      <td>0.000000e+00</td>\n",
       "      <td>...</td>\n",
       "      <td>0.000000</td>\n",
       "      <td>0.000000</td>\n",
       "      <td>1.000000</td>\n",
       "      <td>1.000000</td>\n",
       "      <td>0.000000</td>\n",
       "      <td>0.000000</td>\n",
       "      <td>4.000000</td>\n",
       "      <td>0.000000</td>\n",
       "      <td>0.000000</td>\n",
       "      <td>0.000000</td>\n",
       "    </tr>\n",
       "    <tr>\n",
       "      <th>75%</th>\n",
       "      <td>1.000000</td>\n",
       "      <td>0.000000</td>\n",
       "      <td>0.000000</td>\n",
       "      <td>0.000000</td>\n",
       "      <td>2.490968e+05</td>\n",
       "      <td>7.512000e+04</td>\n",
       "      <td>1.464900e+04</td>\n",
       "      <td>2.492000e+04</td>\n",
       "      <td>7.577500e+04</td>\n",
       "      <td>1.497950e+04</td>\n",
       "      <td>...</td>\n",
       "      <td>0.000000</td>\n",
       "      <td>0.000000</td>\n",
       "      <td>3.000000</td>\n",
       "      <td>2.000000</td>\n",
       "      <td>0.000000</td>\n",
       "      <td>1.000000</td>\n",
       "      <td>7.000000</td>\n",
       "      <td>0.000000</td>\n",
       "      <td>0.000000</td>\n",
       "      <td>1.000000</td>\n",
       "    </tr>\n",
       "    <tr>\n",
       "      <th>max</th>\n",
       "      <td>128.000000</td>\n",
       "      <td>600.000000</td>\n",
       "      <td>76.000000</td>\n",
       "      <td>345.000000</td>\n",
       "      <td>5.540115e+06</td>\n",
       "      <td>1.088502e+07</td>\n",
       "      <td>4.542817e+06</td>\n",
       "      <td>9.520145e+06</td>\n",
       "      <td>1.088502e+07</td>\n",
       "      <td>2.560753e+06</td>\n",
       "      <td>...</td>\n",
       "      <td>7.000000</td>\n",
       "      <td>10.000000</td>\n",
       "      <td>10.000000</td>\n",
       "      <td>10.000000</td>\n",
       "      <td>10.000000</td>\n",
       "      <td>10.000000</td>\n",
       "      <td>10.000000</td>\n",
       "      <td>17.000000</td>\n",
       "      <td>7.000000</td>\n",
       "      <td>7.000000</td>\n",
       "    </tr>\n",
       "  </tbody>\n",
       "</table>\n",
       "<p>8 rows × 40 columns</p>\n",
       "</div>"
      ],
      "text/plain": [
       "       efct_mphon_sbsc_cascnt  efct_pstn_sbsc_cascnt  efct_inet_sbsc_cascnt  \\\n",
       "count           190000.000000          190000.000000          190000.000000   \n",
       "mean                 0.767126               0.157084               0.277126   \n",
       "std                  0.851516               2.931517               0.757610   \n",
       "min                  0.000000               0.000000               0.000000   \n",
       "25%                  0.000000               0.000000               0.000000   \n",
       "50%                  1.000000               0.000000               0.000000   \n",
       "75%                  1.000000               0.000000               0.000000   \n",
       "max                128.000000             600.000000              76.000000   \n",
       "\n",
       "       efct_iptv_sbsc_cascnt  r3m_avg_bill_amt  r3m_mphon_avg_arpu_amt  \\\n",
       "count          190000.000000      1.900000e+05            1.900000e+05   \n",
       "mean                0.388537      2.147857e+05            6.641438e+04   \n",
       "std                 1.774039      2.367343e+05            8.431510e+04   \n",
       "min                 0.000000      0.000000e+00            0.000000e+00   \n",
       "25%                 0.000000      8.023275e+04            3.888575e+04   \n",
       "50%                 0.000000      1.317915e+05            5.442200e+04   \n",
       "75%                 0.000000      2.490968e+05            7.512000e+04   \n",
       "max               345.000000      5.540115e+06            1.088502e+07   \n",
       "\n",
       "       r3m_iptv_avg_arpu_amt  r3m_inet_avg_arpu_amt  r6m_mphon_avg_arpu_amt  \\\n",
       "count           1.900000e+05           1.900000e+05            1.900000e+05   \n",
       "mean            1.116001e+04           1.467441e+04            6.711103e+04   \n",
       "std             3.698530e+04           6.463713e+04            8.402504e+04   \n",
       "min             0.000000e+00           0.000000e+00            0.000000e+00   \n",
       "25%             0.000000e+00           0.000000e+00            3.917300e+04   \n",
       "50%             0.000000e+00           0.000000e+00            5.479300e+04   \n",
       "75%             1.464900e+04           2.492000e+04            7.577500e+04   \n",
       "max             4.542817e+06           9.520145e+06            1.088502e+07   \n",
       "\n",
       "       r6m_iptv_avg_arpu_amt  ...  rmonth_qat_chage_voc_cascnt      voc_cnt_n  \\\n",
       "count           1.900000e+05  ...                190000.000000  190000.000000   \n",
       "mean            1.130559e+04  ...                     0.008774       0.205889   \n",
       "std             3.101914e+04  ...                     0.105241       0.611345   \n",
       "min             0.000000e+00  ...                     0.000000       0.000000   \n",
       "25%             0.000000e+00  ...                     0.000000       0.000000   \n",
       "50%             0.000000e+00  ...                     0.000000       0.000000   \n",
       "75%             1.497950e+04  ...                     0.000000       0.000000   \n",
       "max             2.560753e+06  ...                     7.000000      10.000000   \n",
       "\n",
       "       cont_sttus_chg_date_from_this_year  \\\n",
       "count                       190000.000000   \n",
       "mean                             2.237416   \n",
       "std                              2.276993   \n",
       "min                              0.000000   \n",
       "25%                              1.000000   \n",
       "50%                              1.000000   \n",
       "75%                              3.000000   \n",
       "max                             10.000000   \n",
       "\n",
       "       now_chage_prod_sbsc_date_from_this_year  \\\n",
       "count                            190000.000000   \n",
       "mean                                  1.910174   \n",
       "std                                   1.578501   \n",
       "min                                   0.000000   \n",
       "25%                                   1.000000   \n",
       "50%                                   1.000000   \n",
       "75%                                   2.000000   \n",
       "max                                  10.000000   \n",
       "\n",
       "       accum_dt_stop_day_num_divide_10  accum_usst_day_num_divide_10  \\\n",
       "count                    190000.000000                 190000.000000   \n",
       "mean                          0.669953                      1.487526   \n",
       "std                           2.323601                      3.106154   \n",
       "min                           0.000000                      0.000000   \n",
       "25%                           0.000000                      0.000000   \n",
       "50%                           0.000000                      0.000000   \n",
       "75%                           0.000000                      1.000000   \n",
       "max                          10.000000                     10.000000   \n",
       "\n",
       "       svc_use_mons_num_divide_10    tm_npay_cnt    sm_npay_cnt  \\\n",
       "count               190000.000000  190000.000000  190000.000000   \n",
       "mean                     4.513816       0.141511       0.356905   \n",
       "std                      3.341178       0.564980       1.016725   \n",
       "min                      0.000000       0.000000       0.000000   \n",
       "25%                      2.000000       0.000000       0.000000   \n",
       "50%                      4.000000       0.000000       0.000000   \n",
       "75%                      7.000000       0.000000       0.000000   \n",
       "max                     10.000000      17.000000       7.000000   \n",
       "\n",
       "       sm_use_stop_cnt  \n",
       "count    190000.000000  \n",
       "mean          0.601132  \n",
       "std           1.143996  \n",
       "min           0.000000  \n",
       "25%           0.000000  \n",
       "50%           0.000000  \n",
       "75%           1.000000  \n",
       "max           7.000000  \n",
       "\n",
       "[8 rows x 40 columns]"
      ]
     },
     "execution_count": 46,
     "metadata": {},
     "output_type": "execute_result"
    }
   ],
   "source": [
    "total_merge_data1.describe()"
   ]
  },
  {
   "cell_type": "markdown",
   "metadata": {},
   "source": [
    "## \n",
    "## 7.불필요한 컬럼 확인 및 삭제\n",
    "- 삭제할 문자형 컬럼 : 85% 이상 한쪽으로 치우쳐 있으면\n",
    "- 삭제 대상 : id, soip_sbsc_yn, mphon_sbsc_yn, dt_stop_yn, kids_wrlin_adtn_svc_sbsc_yn, r6m_iptv_first_ppv_use_yn, anals_2_prod_level_nm, r3m_wless_data_use_qnt_100000_over_yn,pstn_sbsc_yn"
   ]
  },
  {
   "cell_type": "code",
   "execution_count": 47,
   "metadata": {},
   "outputs": [],
   "source": [
    "# 문자옇 컬럼\n",
    "obj_col = total_merge_data1.select_dtypes('O').columns.values"
   ]
  },
  {
   "cell_type": "code",
   "execution_count": 48,
   "metadata": {
    "scrolled": true
   },
   "outputs": [
    {
     "name": "stdout",
     "output_type": "stream",
     "text": [
      "id\n",
      "TD1077258    0.000005\n",
      "TD1026684    0.000005\n",
      "TD1079410    0.000005\n",
      "TD1028865    0.000005\n",
      "TD1078058    0.000005\n",
      "               ...   \n",
      "ED1066058    0.000005\n",
      "ED1089643    0.000005\n",
      "ED1007676    0.000005\n",
      "TD1000022    0.000005\n",
      "ED1023124    0.000005\n",
      "Name: id, Length: 190000, dtype: float64\n",
      "label_payment_yn\n",
      "0    0.526316\n",
      "N    0.239384\n",
      "Y    0.234300\n",
      "Name: label_payment_yn, dtype: float64\n",
      "age_itg_cd\n",
      "24     0.030611\n",
      "25     0.030537\n",
      "26     0.030142\n",
      "23     0.029363\n",
      "27     0.028658\n",
      "         ...   \n",
      "101    0.000011\n",
      "96     0.000011\n",
      "117    0.000005\n",
      "102    0.000005\n",
      "104    0.000005\n",
      "Name: age_itg_cd, Length: 100, dtype: float64\n",
      "inet_sbsc_yn\n",
      "N    0.626032\n",
      "Y    0.373968\n",
      "Name: inet_sbsc_yn, dtype: float64\n",
      "soip_sbsc_yn\n",
      "N    0.945305\n",
      "Y    0.054695\n",
      "Name: soip_sbsc_yn, dtype: float64\n",
      "iptv_sbsc_yn\n",
      "N    0.711689\n",
      "Y    0.288311\n",
      "Name: iptv_sbsc_yn, dtype: float64\n",
      "pstn_sbsc_yn\n",
      "N    0.865163\n",
      "Y    0.134837\n",
      "Name: pstn_sbsc_yn, dtype: float64\n",
      "mphon_sbsc_yn\n",
      "Y    0.936932\n",
      "N    0.063068\n",
      "Name: mphon_sbsc_yn, dtype: float64\n",
      "dt_stop_yn\n",
      "N    0.972016\n",
      "Y    0.027984\n",
      "Name: dt_stop_yn, dtype: float64\n",
      "mphon_comb_yn\n",
      "Y    0.596726\n",
      "N    0.403274\n",
      "Name: mphon_comb_yn, dtype: float64\n",
      "inet_comb_yn\n",
      "Y    0.596863\n",
      "N    0.403137\n",
      "Name: inet_comb_yn, dtype: float64\n",
      "iptv_comb_yn\n",
      "N    0.504053\n",
      "Y    0.495947\n",
      "Name: iptv_comb_yn, dtype: float64\n",
      "npay_yn\n",
      "Y    0.676589\n",
      "N    0.323411\n",
      "Name: npay_yn, dtype: float64\n",
      "r6m_inet_pssn_comb_yn\n",
      "N    0.601989\n",
      "Y    0.398011\n",
      "Name: r6m_inet_pssn_comb_yn, dtype: float64\n",
      "r6m_iptv_pssn_comb_yn\n",
      "N    0.689416\n",
      "Y    0.310584\n",
      "Name: r6m_iptv_pssn_comb_yn, dtype: float64\n",
      "kids_wrlin_adtn_svc_sbsc_yn\n",
      "N    0.921995\n",
      "Y    0.078005\n",
      "Name: kids_wrlin_adtn_svc_sbsc_yn, dtype: float64\n",
      "r6m_iptv_first_ppv_use_yn\n",
      "N    0.990795\n",
      "Y    0.009205\n",
      "Name: r6m_iptv_first_ppv_use_yn, dtype: float64\n",
      "pay_way_nm\n",
      "지로           0.554832\n",
      "은행계좌 자동이체    0.308758\n",
      "신용카드         0.125774\n",
      "카카오페이        0.010232\n",
      "지로자동이체       0.000405\n",
      "Name: pay_way_nm, dtype: float64\n",
      "acrnd_dsp_meth_nm\n",
      "모바일         0.462800\n",
      "스마트(앱)      0.359411\n",
      "우편(종이)      0.080574\n",
      "이메일         0.074711\n",
      "kt.com웹     0.011247\n",
      "문자(해지대상)    0.004353\n",
      "네이버명세서      0.003353\n",
      "이메일+우편      0.001100\n",
      "우편+이메일      0.000942\n",
      "이메일+모바일     0.000842\n",
      "모바일통지명세서    0.000647\n",
      "농협스마트고지     0.000021\n",
      "Name: acrnd_dsp_meth_nm, dtype: float64\n",
      "anals_2_prod_level_nm\n",
      "무선               0.914811\n",
      "인터넷              0.068153\n",
      "미디어              0.011195\n",
      "유선통화             0.005379\n",
      "Enterprise서비스    0.000463\n",
      "Name: anals_2_prod_level_nm, dtype: float64\n",
      "bprod_lctg_nm\n",
      "LTE           0.533958\n",
      "5G            0.378332\n",
      "인터넷           0.064395\n",
      "기타(신규/미정의)    0.014947\n",
      "일반전화          0.005142\n",
      "3G            0.002521\n",
      "SOIP          0.000611\n",
      "ISDNⅡ         0.000084\n",
      "WiFi          0.000011\n",
      "Name: bprod_lctg_nm, dtype: float64\n",
      "wless_terml_gun_div_nm\n",
      "LTE스마트폰    0.518416\n",
      "5G스마트폰     0.387811\n",
      "ㆍ미정의       0.080416\n",
      "피처폰        0.006105\n",
      "패드 및 기타    0.005095\n",
      "LTE피처폰     0.001684\n",
      "3G스마트폰     0.000474\n",
      "Name: wless_terml_gun_div_nm, dtype: float64\n",
      "hndset_rmnd_insl_mons_yn\n",
      "Y    0.574558\n",
      "N    0.425442\n",
      "Name: hndset_rmnd_insl_mons_yn, dtype: float64\n",
      "r3m_avg_bill_amt_100000_over_yn\n",
      "Y    0.582716\n",
      "N    0.417284\n",
      "Name: r3m_avg_bill_amt_100000_over_yn, dtype: float64\n",
      "r3m_wless_data_use_qnt_100000_over_yn\n",
      "Y    0.877874\n",
      "N    0.122126\n",
      "Name: r3m_wless_data_use_qnt_100000_over_yn, dtype: float64\n",
      "insur_prod_sbsc_yn\n",
      "N    0.629542\n",
      "Y    0.370458\n",
      "Name: insur_prod_sbsc_yn, dtype: float64\n"
     ]
    }
   ],
   "source": [
    "for col in obj_col :\n",
    "    print(col)\n",
    "    print(total_merge_data1[col].value_counts(normalize=True))"
   ]
  },
  {
   "cell_type": "markdown",
   "metadata": {},
   "source": [
    "### \n",
    "### 85% 이상 기울어짐 컬럼 삭제"
   ]
  },
  {
   "cell_type": "code",
   "execution_count": 49,
   "metadata": {},
   "outputs": [],
   "source": [
    "# 8개 컬럼\n",
    "del_cols = ['soip_sbsc_yn' , 'mphon_sbsc_yn' , 'dt_stop_yn', 'kids_wrlin_adtn_svc_sbsc_yn', 'r6m_iptv_first_ppv_use_yn', 'anals_2_prod_level_nm', 'r3m_wless_data_use_qnt_100000_over_yn', 'pstn_sbsc_yn' ]"
   ]
  },
  {
   "cell_type": "code",
   "execution_count": 50,
   "metadata": {},
   "outputs": [],
   "source": [
    "total_merge_data2 = total_merge_data1.drop(del_cols, axis=1)"
   ]
  },
  {
   "cell_type": "code",
   "execution_count": 51,
   "metadata": {},
   "outputs": [
    {
     "data": {
      "text/plain": [
       "(190000, 58)"
      ]
     },
     "execution_count": 51,
     "metadata": {},
     "output_type": "execute_result"
    }
   ],
   "source": [
    "total_merge_data2.shape"
   ]
  },
  {
   "cell_type": "code",
   "execution_count": 52,
   "metadata": {},
   "outputs": [],
   "source": [
    "# 문자옇 컬럼\n",
    "obj_col = total_merge_data2.select_dtypes('O').columns.values"
   ]
  },
  {
   "cell_type": "code",
   "execution_count": 53,
   "metadata": {
    "scrolled": true
   },
   "outputs": [
    {
     "name": "stdout",
     "output_type": "stream",
     "text": [
      "id\n",
      "TD1077258    0.000005\n",
      "TD1026684    0.000005\n",
      "TD1079410    0.000005\n",
      "TD1028865    0.000005\n",
      "TD1078058    0.000005\n",
      "               ...   \n",
      "ED1066058    0.000005\n",
      "ED1089643    0.000005\n",
      "ED1007676    0.000005\n",
      "TD1000022    0.000005\n",
      "ED1023124    0.000005\n",
      "Name: id, Length: 190000, dtype: float64\n",
      "label_payment_yn\n",
      "0    0.526316\n",
      "N    0.239384\n",
      "Y    0.234300\n",
      "Name: label_payment_yn, dtype: float64\n",
      "age_itg_cd\n",
      "24     0.030611\n",
      "25     0.030537\n",
      "26     0.030142\n",
      "23     0.029363\n",
      "27     0.028658\n",
      "         ...   \n",
      "101    0.000011\n",
      "96     0.000011\n",
      "117    0.000005\n",
      "102    0.000005\n",
      "104    0.000005\n",
      "Name: age_itg_cd, Length: 100, dtype: float64\n",
      "inet_sbsc_yn\n",
      "N    0.626032\n",
      "Y    0.373968\n",
      "Name: inet_sbsc_yn, dtype: float64\n",
      "iptv_sbsc_yn\n",
      "N    0.711689\n",
      "Y    0.288311\n",
      "Name: iptv_sbsc_yn, dtype: float64\n",
      "mphon_comb_yn\n",
      "Y    0.596726\n",
      "N    0.403274\n",
      "Name: mphon_comb_yn, dtype: float64\n",
      "inet_comb_yn\n",
      "Y    0.596863\n",
      "N    0.403137\n",
      "Name: inet_comb_yn, dtype: float64\n",
      "iptv_comb_yn\n",
      "N    0.504053\n",
      "Y    0.495947\n",
      "Name: iptv_comb_yn, dtype: float64\n",
      "npay_yn\n",
      "Y    0.676589\n",
      "N    0.323411\n",
      "Name: npay_yn, dtype: float64\n",
      "r6m_inet_pssn_comb_yn\n",
      "N    0.601989\n",
      "Y    0.398011\n",
      "Name: r6m_inet_pssn_comb_yn, dtype: float64\n",
      "r6m_iptv_pssn_comb_yn\n",
      "N    0.689416\n",
      "Y    0.310584\n",
      "Name: r6m_iptv_pssn_comb_yn, dtype: float64\n",
      "pay_way_nm\n",
      "지로           0.554832\n",
      "은행계좌 자동이체    0.308758\n",
      "신용카드         0.125774\n",
      "카카오페이        0.010232\n",
      "지로자동이체       0.000405\n",
      "Name: pay_way_nm, dtype: float64\n",
      "acrnd_dsp_meth_nm\n",
      "모바일         0.462800\n",
      "스마트(앱)      0.359411\n",
      "우편(종이)      0.080574\n",
      "이메일         0.074711\n",
      "kt.com웹     0.011247\n",
      "문자(해지대상)    0.004353\n",
      "네이버명세서      0.003353\n",
      "이메일+우편      0.001100\n",
      "우편+이메일      0.000942\n",
      "이메일+모바일     0.000842\n",
      "모바일통지명세서    0.000647\n",
      "농협스마트고지     0.000021\n",
      "Name: acrnd_dsp_meth_nm, dtype: float64\n",
      "bprod_lctg_nm\n",
      "LTE           0.533958\n",
      "5G            0.378332\n",
      "인터넷           0.064395\n",
      "기타(신규/미정의)    0.014947\n",
      "일반전화          0.005142\n",
      "3G            0.002521\n",
      "SOIP          0.000611\n",
      "ISDNⅡ         0.000084\n",
      "WiFi          0.000011\n",
      "Name: bprod_lctg_nm, dtype: float64\n",
      "wless_terml_gun_div_nm\n",
      "LTE스마트폰    0.518416\n",
      "5G스마트폰     0.387811\n",
      "ㆍ미정의       0.080416\n",
      "피처폰        0.006105\n",
      "패드 및 기타    0.005095\n",
      "LTE피처폰     0.001684\n",
      "3G스마트폰     0.000474\n",
      "Name: wless_terml_gun_div_nm, dtype: float64\n",
      "hndset_rmnd_insl_mons_yn\n",
      "Y    0.574558\n",
      "N    0.425442\n",
      "Name: hndset_rmnd_insl_mons_yn, dtype: float64\n",
      "r3m_avg_bill_amt_100000_over_yn\n",
      "Y    0.582716\n",
      "N    0.417284\n",
      "Name: r3m_avg_bill_amt_100000_over_yn, dtype: float64\n",
      "insur_prod_sbsc_yn\n",
      "N    0.629542\n",
      "Y    0.370458\n",
      "Name: insur_prod_sbsc_yn, dtype: float64\n"
     ]
    }
   ],
   "source": [
    "for col in obj_col :\n",
    "    print(col)\n",
    "    print(total_merge_data2[col].value_counts(normalize=True))"
   ]
  },
  {
   "cell_type": "markdown",
   "metadata": {},
   "source": [
    "## \n",
    "## 8. pay_way_nm, acrnd_dsp_meth_nm, bprod_lctg_nm, wless_terml_gun_div_nm : 너무 많은 Value들을 3가지 값으로 분류"
   ]
  },
  {
   "cell_type": "code",
   "execution_count": 54,
   "metadata": {},
   "outputs": [
    {
     "data": {
      "text/plain": [
       "지로           105418\n",
       "은행계좌 자동이체     58664\n",
       "신용카드          23897\n",
       "카카오페이          1944\n",
       "지로자동이체           77\n",
       "Name: pay_way_nm, dtype: int64"
      ]
     },
     "execution_count": 54,
     "metadata": {},
     "output_type": "execute_result"
    }
   ],
   "source": [
    "total_merge_data2['pay_way_nm'].value_counts()"
   ]
  },
  {
   "cell_type": "code",
   "execution_count": 55,
   "metadata": {},
   "outputs": [],
   "source": [
    "cond = (total_merge_data2['pay_way_nm'] == '신용카드') | (total_merge_data2['pay_way_nm'] == '카카오페이') | (total_merge_data2['pay_way_nm'] == '지로자동이체')"
   ]
  },
  {
   "cell_type": "code",
   "execution_count": 56,
   "metadata": {},
   "outputs": [],
   "source": [
    "total_merge_data2.loc[cond, 'pay_way_nm'] = '기타'"
   ]
  },
  {
   "cell_type": "code",
   "execution_count": 57,
   "metadata": {},
   "outputs": [
    {
     "data": {
      "text/plain": [
       "0         기타\n",
       "5         기타\n",
       "7         기타\n",
       "20        기타\n",
       "26        기타\n",
       "          ..\n",
       "189978    기타\n",
       "189984    기타\n",
       "189991    기타\n",
       "189997    기타\n",
       "189998    기타\n",
       "Name: pay_way_nm, Length: 25918, dtype: object"
      ]
     },
     "execution_count": 57,
     "metadata": {},
     "output_type": "execute_result"
    }
   ],
   "source": [
    "total_merge_data2.loc[cond, 'pay_way_nm']"
   ]
  },
  {
   "cell_type": "code",
   "execution_count": 58,
   "metadata": {},
   "outputs": [
    {
     "data": {
      "text/plain": [
       "모바일         0.462800\n",
       "스마트(앱)      0.359411\n",
       "우편(종이)      0.080574\n",
       "이메일         0.074711\n",
       "kt.com웹     0.011247\n",
       "문자(해지대상)    0.004353\n",
       "네이버명세서      0.003353\n",
       "이메일+우편      0.001100\n",
       "우편+이메일      0.000942\n",
       "이메일+모바일     0.000842\n",
       "모바일통지명세서    0.000647\n",
       "농협스마트고지     0.000021\n",
       "Name: acrnd_dsp_meth_nm, dtype: float64"
      ]
     },
     "execution_count": 58,
     "metadata": {},
     "output_type": "execute_result"
    }
   ],
   "source": [
    "total_merge_data2['acrnd_dsp_meth_nm'].value_counts(normalize=True)"
   ]
  },
  {
   "cell_type": "code",
   "execution_count": 59,
   "metadata": {},
   "outputs": [],
   "source": [
    "cond = (total_merge_data2['acrnd_dsp_meth_nm'] == '우편(종이)') | \\\n",
    "        (total_merge_data2['acrnd_dsp_meth_nm'] == '카카오페이') | \\\n",
    "        (total_merge_data2['acrnd_dsp_meth_nm'] == '이메일') | \\\n",
    "        (total_merge_data2['acrnd_dsp_meth_nm'] == 'kt.com웹') | \\\n",
    "        (total_merge_data2['acrnd_dsp_meth_nm'] == '문자(해지대상)') | \\\n",
    "        (total_merge_data2['acrnd_dsp_meth_nm'] == '네이버명세서') | \\\n",
    "        (total_merge_data2['acrnd_dsp_meth_nm'] == '이메일+우편') | \\\n",
    "        (total_merge_data2['acrnd_dsp_meth_nm'] == '우편+이메일') | \\\n",
    "        (total_merge_data2['acrnd_dsp_meth_nm'] == '이메일+모바일') | \\\n",
    "        (total_merge_data2['acrnd_dsp_meth_nm'] == '모바일통지명세서') | \\\n",
    "        (total_merge_data2['acrnd_dsp_meth_nm'] == '농협스마트고지') "
   ]
  },
  {
   "cell_type": "code",
   "execution_count": 60,
   "metadata": {},
   "outputs": [],
   "source": [
    "total_merge_data2.loc[cond, 'acrnd_dsp_meth_nm'] = '기타'"
   ]
  },
  {
   "cell_type": "code",
   "execution_count": 61,
   "metadata": {},
   "outputs": [
    {
     "data": {
      "text/plain": [
       "6         기타\n",
       "9         기타\n",
       "14        기타\n",
       "29        기타\n",
       "37        기타\n",
       "          ..\n",
       "189962    기타\n",
       "189977    기타\n",
       "189980    기타\n",
       "189990    기타\n",
       "189996    기타\n",
       "Name: acrnd_dsp_meth_nm, Length: 33780, dtype: object"
      ]
     },
     "execution_count": 61,
     "metadata": {},
     "output_type": "execute_result"
    }
   ],
   "source": [
    "total_merge_data2.loc[cond, 'acrnd_dsp_meth_nm']"
   ]
  },
  {
   "cell_type": "code",
   "execution_count": 62,
   "metadata": {},
   "outputs": [
    {
     "data": {
      "text/plain": [
       "LTE           0.533958\n",
       "5G            0.378332\n",
       "인터넷           0.064395\n",
       "기타(신규/미정의)    0.014947\n",
       "일반전화          0.005142\n",
       "3G            0.002521\n",
       "SOIP          0.000611\n",
       "ISDNⅡ         0.000084\n",
       "WiFi          0.000011\n",
       "Name: bprod_lctg_nm, dtype: float64"
      ]
     },
     "execution_count": 62,
     "metadata": {},
     "output_type": "execute_result"
    }
   ],
   "source": [
    "total_merge_data2['bprod_lctg_nm'].value_counts(normalize=True)"
   ]
  },
  {
   "cell_type": "code",
   "execution_count": 63,
   "metadata": {},
   "outputs": [],
   "source": [
    "cond = (total_merge_data2['bprod_lctg_nm'] == '인터넷') | \\\n",
    "        (total_merge_data2['bprod_lctg_nm'] == '기타(신규/미정의)') | \\\n",
    "        (total_merge_data2['bprod_lctg_nm'] == '일반전화') | \\\n",
    "        (total_merge_data2['bprod_lctg_nm'] == '3G') | \\\n",
    "        (total_merge_data2['bprod_lctg_nm'] == 'SOIP') | \\\n",
    "        (total_merge_data2['bprod_lctg_nm'] == 'ISDNⅡ') | \\\n",
    "        (total_merge_data2['bprod_lctg_nm'] == 'WiFi') "
   ]
  },
  {
   "cell_type": "code",
   "execution_count": 64,
   "metadata": {},
   "outputs": [],
   "source": [
    "total_merge_data2.loc[cond, 'bprod_lctg_nm'] = '기타'"
   ]
  },
  {
   "cell_type": "code",
   "execution_count": 65,
   "metadata": {},
   "outputs": [
    {
     "data": {
      "text/plain": [
       "52        기타\n",
       "72        기타\n",
       "95        기타\n",
       "113       기타\n",
       "114       기타\n",
       "          ..\n",
       "189911    기타\n",
       "189915    기타\n",
       "189944    기타\n",
       "189950    기타\n",
       "189996    기타\n",
       "Name: bprod_lctg_nm, Length: 16665, dtype: object"
      ]
     },
     "execution_count": 65,
     "metadata": {},
     "output_type": "execute_result"
    }
   ],
   "source": [
    "total_merge_data2.loc[cond, 'bprod_lctg_nm']"
   ]
  },
  {
   "cell_type": "code",
   "execution_count": 66,
   "metadata": {},
   "outputs": [
    {
     "data": {
      "text/plain": [
       "LTE스마트폰    0.518416\n",
       "5G스마트폰     0.387811\n",
       "ㆍ미정의       0.080416\n",
       "피처폰        0.006105\n",
       "패드 및 기타    0.005095\n",
       "LTE피처폰     0.001684\n",
       "3G스마트폰     0.000474\n",
       "Name: wless_terml_gun_div_nm, dtype: float64"
      ]
     },
     "execution_count": 66,
     "metadata": {},
     "output_type": "execute_result"
    }
   ],
   "source": [
    "total_merge_data2['wless_terml_gun_div_nm'].value_counts(normalize=True)"
   ]
  },
  {
   "cell_type": "code",
   "execution_count": 67,
   "metadata": {},
   "outputs": [],
   "source": [
    "cond = (total_merge_data2['wless_terml_gun_div_nm'] == 'ㆍ미정의') | \\\n",
    "        (total_merge_data2['wless_terml_gun_div_nm'] == '피처폰') | \\\n",
    "        (total_merge_data2['wless_terml_gun_div_nm'] == '패드 및 기타') | \\\n",
    "        (total_merge_data2['wless_terml_gun_div_nm'] == 'LTE피처폰') | \\\n",
    "        (total_merge_data2['wless_terml_gun_div_nm'] == '3G스마트폰') "
   ]
  },
  {
   "cell_type": "code",
   "execution_count": 68,
   "metadata": {},
   "outputs": [],
   "source": [
    "total_merge_data2.loc[cond, 'wless_terml_gun_div_nm'] = '기타'"
   ]
  },
  {
   "cell_type": "code",
   "execution_count": 69,
   "metadata": {},
   "outputs": [
    {
     "data": {
      "text/plain": [
       "52        기타\n",
       "72        기타\n",
       "95        기타\n",
       "113       기타\n",
       "114       기타\n",
       "          ..\n",
       "189944    기타\n",
       "189950    기타\n",
       "189979    기타\n",
       "189993    기타\n",
       "189996    기타\n",
       "Name: wless_terml_gun_div_nm, Length: 17817, dtype: object"
      ]
     },
     "execution_count": 69,
     "metadata": {},
     "output_type": "execute_result"
    }
   ],
   "source": [
    "total_merge_data2.loc[cond, 'wless_terml_gun_div_nm']"
   ]
  },
  {
   "cell_type": "code",
   "execution_count": 70,
   "metadata": {},
   "outputs": [
    {
     "name": "stdout",
     "output_type": "stream",
     "text": [
      "<class 'pandas.core.frame.DataFrame'>\n",
      "RangeIndex: 190000 entries, 0 to 189999\n",
      "Data columns (total 58 columns):\n",
      " #   Column                                   Non-Null Count   Dtype  \n",
      "---  ------                                   --------------   -----  \n",
      " 0   id                                       190000 non-null  object \n",
      " 1   label_payment_yn                         190000 non-null  object \n",
      " 2   age_itg_cd                               190000 non-null  object \n",
      " 3   inet_sbsc_yn                             190000 non-null  object \n",
      " 4   iptv_sbsc_yn                             190000 non-null  object \n",
      " 5   efct_mphon_sbsc_cascnt                   190000 non-null  int64  \n",
      " 6   efct_pstn_sbsc_cascnt                    190000 non-null  int64  \n",
      " 7   efct_inet_sbsc_cascnt                    190000 non-null  int64  \n",
      " 8   efct_iptv_sbsc_cascnt                    190000 non-null  int64  \n",
      " 9   mphon_comb_yn                            190000 non-null  object \n",
      " 10  inet_comb_yn                             190000 non-null  object \n",
      " 11  iptv_comb_yn                             190000 non-null  object \n",
      " 12  npay_yn                                  190000 non-null  object \n",
      " 13  r3m_avg_bill_amt                         190000 non-null  int64  \n",
      " 14  r6m_inet_pssn_comb_yn                    190000 non-null  object \n",
      " 15  r6m_iptv_pssn_comb_yn                    190000 non-null  object \n",
      " 16  r3m_mphon_avg_arpu_amt                   190000 non-null  int64  \n",
      " 17  r3m_iptv_avg_arpu_amt                    190000 non-null  int64  \n",
      " 18  r3m_inet_avg_arpu_amt                    190000 non-null  int64  \n",
      " 19  r6m_mphon_avg_arpu_amt                   190000 non-null  int64  \n",
      " 20  r6m_iptv_avg_arpu_amt                    190000 non-null  int64  \n",
      " 21  r6m_inet_avg_arpu_amt                    190000 non-null  int64  \n",
      " 22  bill_rmny_npay_tms_itg_max_cnt_n         190000 non-null  int64  \n",
      " 23  bill_rmny_npay_tms_itg_cd                190000 non-null  int64  \n",
      " 24  npay_amt_sum_divide_10000                190000 non-null  int64  \n",
      " 25  not_sufficient_cnt                       190000 non-null  int64  \n",
      " 26  pay_way_nm                               190000 non-null  object \n",
      " 27  acrnd_dsp_meth_nm                        190000 non-null  object \n",
      " 28  npay_tms_cnt                             190000 non-null  int64  \n",
      " 29  bprod_lctg_nm                            190000 non-null  object \n",
      " 30  wless_terml_gun_div_nm                   190000 non-null  object \n",
      " 31  wless_terml_gun_div_type                 190000 non-null  int64  \n",
      " 32  recnt_icg_date_from_this_year            190000 non-null  int64  \n",
      " 33  hndset_rmnd_insl_mons_num                190000 non-null  int64  \n",
      " 34  hndset_rmnd_insl_amt_divide_100000       190000 non-null  int64  \n",
      " 35  hndset_rmnd_insl_mons_yn                 190000 non-null  object \n",
      " 36  hndset_tot_insl_amt_divide_100000        190000 non-null  int64  \n",
      " 37  hndset_tot_insl_mons_num                 190000 non-null  int64  \n",
      " 38  bfee_amt_divide_10000                    190000 non-null  int64  \n",
      " 39  rmonth_tot_bill_amt_divide_10000         190000 non-null  int64  \n",
      " 40  r3m_avg_bill_amt_100000_over_yn          190000 non-null  object \n",
      " 41  voc_sbsc_inqr_cascnt_n                   190000 non-null  int64  \n",
      " 42  voc_data_qat_cascnt_n                    190000 non-null  int64  \n",
      " 43  voc_inqr_cascnt_n                        190000 non-null  int64  \n",
      " 44  voc_dscnt_cascnt_n                       190000 non-null  int64  \n",
      " 45  voc_icnv_cascnt_n                        190000 non-null  int64  \n",
      " 46  voc_tot_occ_cascnt_n                     190000 non-null  int64  \n",
      " 47  rmonth_qat_chage_voc_cascnt              190000 non-null  int64  \n",
      " 48  voc_cnt_n                                190000 non-null  int64  \n",
      " 49  cont_sttus_chg_date_from_this_year       190000 non-null  int64  \n",
      " 50  now_chage_prod_sbsc_date_from_this_year  190000 non-null  int64  \n",
      " 51  accum_dt_stop_day_num_divide_10          190000 non-null  int64  \n",
      " 52  accum_usst_day_num_divide_10             190000 non-null  int64  \n",
      " 53  svc_use_mons_num_divide_10               190000 non-null  int64  \n",
      " 54  insur_prod_sbsc_yn                       190000 non-null  object \n",
      " 55  tm_npay_cnt                              190000 non-null  float64\n",
      " 56  sm_npay_cnt                              190000 non-null  float64\n",
      " 57  sm_use_stop_cnt                          190000 non-null  float64\n",
      "dtypes: float64(3), int64(37), object(18)\n",
      "memory usage: 84.1+ MB\n"
     ]
    }
   ],
   "source": [
    "total_merge_data2.info()"
   ]
  },
  {
   "cell_type": "markdown",
   "metadata": {},
   "source": [
    "## \n",
    "## 9. 이상치 확인 및 삭제"
   ]
  },
  {
   "cell_type": "code",
   "execution_count": 71,
   "metadata": {},
   "outputs": [],
   "source": [
    "total_merge_data3 = total_merge_data2.copy()"
   ]
  },
  {
   "cell_type": "code",
   "execution_count": 72,
   "metadata": {},
   "outputs": [
    {
     "name": "stdout",
     "output_type": "stream",
     "text": [
      "Looking in indexes: http://10.220.235.19/pypi/simple\n",
      "Requirement already satisfied: seaborn in /usr/local/lib/python3.6/dist-packages (0.11.1)\n",
      "Requirement already satisfied: numpy>=1.15 in /usr/local/lib/python3.6/dist-packages (from seaborn) (1.16.4)\n",
      "Requirement already satisfied: matplotlib>=2.2 in /usr/local/lib/python3.6/dist-packages (from seaborn) (3.2.1)\n",
      "Requirement already satisfied: pandas>=0.23 in /usr/local/lib/python3.6/dist-packages (from seaborn) (1.0.4)\n",
      "Requirement already satisfied: scipy>=1.0 in /usr/local/lib/python3.6/dist-packages (from seaborn) (1.4.1)\n",
      "Requirement already satisfied: cycler>=0.10 in /usr/local/lib/python3.6/dist-packages (from matplotlib>=2.2->seaborn) (0.10.0)\n",
      "Requirement already satisfied: pyparsing!=2.0.4,!=2.1.2,!=2.1.6,>=2.0.1 in /usr/local/lib/python3.6/dist-packages (from matplotlib>=2.2->seaborn) (2.4.7)\n",
      "Requirement already satisfied: kiwisolver>=1.0.1 in /usr/local/lib/python3.6/dist-packages (from matplotlib>=2.2->seaborn) (1.2.0)\n",
      "Requirement already satisfied: python-dateutil>=2.1 in /usr/local/lib/python3.6/dist-packages (from matplotlib>=2.2->seaborn) (2.8.1)\n",
      "Requirement already satisfied: pytz>=2017.2 in /usr/local/lib/python3.6/dist-packages (from pandas>=0.23->seaborn) (2020.1)\n",
      "Requirement already satisfied: six in /usr/local/lib/python3.6/dist-packages (from cycler>=0.10->matplotlib>=2.2->seaborn) (1.14.0)\n",
      "\u001b[33mWARNING: You are using pip version 20.1; however, version 21.0.1 is available.\n",
      "You should consider upgrading via the '/usr/bin/python3 -m pip install --upgrade pip' command.\u001b[0m\n"
     ]
    }
   ],
   "source": [
    "!pip install seaborn"
   ]
  },
  {
   "cell_type": "code",
   "execution_count": 73,
   "metadata": {},
   "outputs": [],
   "source": [
    "import matplotlib.pyplot as plt\n",
    "import seaborn as sns"
   ]
  },
  {
   "cell_type": "code",
   "execution_count": 74,
   "metadata": {},
   "outputs": [
    {
     "data": {
      "text/plain": [
       "<Figure size 1440x1296 with 0 Axes>"
      ]
     },
     "execution_count": 74,
     "metadata": {},
     "output_type": "execute_result"
    },
    {
     "data": {
      "text/plain": [
       "<Figure size 1440x1296 with 0 Axes>"
      ]
     },
     "metadata": {},
     "output_type": "display_data"
    }
   ],
   "source": [
    "plt.rcParams[\"font.family\"] = 'NanumGothicCoding'\n",
    "plt.figure(figsize=(20,18))"
   ]
  },
  {
   "cell_type": "code",
   "execution_count": 75,
   "metadata": {},
   "outputs": [],
   "source": [
    "# sns.pairplot(data=total_merge_data3)"
   ]
  },
  {
   "cell_type": "code",
   "execution_count": 76,
   "metadata": {},
   "outputs": [
    {
     "data": {
      "text/plain": [
       "37"
      ]
     },
     "execution_count": 76,
     "metadata": {},
     "output_type": "execute_result"
    }
   ],
   "source": [
    "# 숫자형 컬럼\n",
    "int_col = total_merge_data3.select_dtypes('int').columns.values\n",
    "len(int_col)"
   ]
  },
  {
   "cell_type": "code",
   "execution_count": 77,
   "metadata": {},
   "outputs": [
    {
     "name": "stderr",
     "output_type": "stream",
     "text": [
      "/usr/local/lib/python3.6/dist-packages/matplotlib/backends/backend_agg.py:214: RuntimeWarning: Glyph 8722 missing from current font.\n",
      "  font.set_text(s, 0.0, flags=flags)\n",
      "/usr/local/lib/python3.6/dist-packages/matplotlib/backends/backend_agg.py:183: RuntimeWarning: Glyph 8722 missing from current font.\n",
      "  font.set_text(s, 0, flags=flags)\n"
     ]
    },
    {
     "data": {
      "image/png": "[encoded data removed]",
      "text/plain": [
       "<Figure size 1584x1296 with 37 Axes>"
      ]
     },
     "metadata": {
      "needs_background": "light"
     },
     "output_type": "display_data"
    }
   ],
   "source": [
    "plt.figure(figsize=(22,18))\n",
    "for i, col in enumerate(int_col) :\n",
    "    ax = plt.subplot(10,4,i+1)\n",
    "    #total_merge_data3[col].plot(kind='box', ax=ax)\n",
    "    sns.boxplot(data=total_merge_data3, y=col, ax=ax)\n",
    "    plt.title(col)"
   ]
  },
  {
   "cell_type": "code",
   "execution_count": 78,
   "metadata": {
    "scrolled": true
   },
   "outputs": [
    {
     "name": "stdout",
     "output_type": "stream",
     "text": [
      "efct_mphon_sbsc_cascnt\n"
     ]
    },
    {
     "data": {
      "image/png": "[encoded data removed]",
      "text/plain": [
       "<Figure size 432x288 with 1 Axes>"
      ]
     },
     "metadata": {
      "needs_background": "light"
     },
     "output_type": "display_data"
    },
    {
     "name": "stdout",
     "output_type": "stream",
     "text": [
      "efct_pstn_sbsc_cascnt\n"
     ]
    },
    {
     "data": {
      "image/png": "[encoded data removed]",
      "text/plain": [
       "<Figure size 432x288 with 1 Axes>"
      ]
     },
     "metadata": {
      "needs_background": "light"
     },
     "output_type": "display_data"
    },
    {
     "name": "stdout",
     "output_type": "stream",
     "text": [
      "efct_inet_sbsc_cascnt\n"
     ]
    },
    {
     "data": {
      "image/png": "[encoded data removed]",
      "text/plain": [
       "<Figure size 432x288 with 1 Axes>"
      ]
     },
     "metadata": {
      "needs_background": "light"
     },
     "output_type": "display_data"
    },
    {
     "name": "stdout",
     "output_type": "stream",
     "text": [
      "efct_iptv_sbsc_cascnt\n"
     ]
    },
    {
     "data": {
      "image/png": "[encoded data removed]",
      "text/plain": [
       "<Figure size 432x288 with 1 Axes>"
      ]
     },
     "metadata": {
      "needs_background": "light"
     },
     "output_type": "display_data"
    },
    {
     "name": "stdout",
     "output_type": "stream",
     "text": [
      "r3m_avg_bill_amt\n"
     ]
    },
    {
     "data": {
      "image/png": "[encoded data removed]",
      "text/plain": [
       "<Figure size 432x288 with 1 Axes>"
      ]
     },
     "metadata": {
      "needs_background": "light"
     },
     "output_type": "display_data"
    },
    {
     "name": "stdout",
     "output_type": "stream",
     "text": [
      "r3m_mphon_avg_arpu_amt\n"
     ]
    },
    {
     "data": {
      "image/png": "[encoded data removed]",
      "text/plain": [
       "<Figure size 432x288 with 1 Axes>"
      ]
     },
     "metadata": {
      "needs_background": "light"
     },
     "output_type": "display_data"
    },
    {
     "name": "stdout",
     "output_type": "stream",
     "text": [
      "r3m_iptv_avg_arpu_amt\n"
     ]
    },
    {
     "data": {
      "image/png": "[encoded data removed]",
      "text/plain": [
       "<Figure size 432x288 with 1 Axes>"
      ]
     },
     "metadata": {
      "needs_background": "light"
     },
     "output_type": "display_data"
    },
    {
     "name": "stdout",
     "output_type": "stream",
     "text": [
      "r3m_inet_avg_arpu_amt\n"
     ]
    },
    {
     "data": {
      "image/png": "[encoded data removed]",
      "text/plain": [
       "<Figure size 432x288 with 1 Axes>"
      ]
     },
     "metadata": {
      "needs_background": "light"
     },
     "output_type": "display_data"
    },
    {
     "name": "stdout",
     "output_type": "stream",
     "text": [
      "r6m_mphon_avg_arpu_amt\n"
     ]
    },
    {
     "data": {
      "image/png": "[encoded data removed]",
      "text/plain": [
       "<Figure size 432x288 with 1 Axes>"
      ]
     },
     "metadata": {
      "needs_background": "light"
     },
     "output_type": "display_data"
    },
    {
     "name": "stdout",
     "output_type": "stream",
     "text": [
      "r6m_iptv_avg_arpu_amt\n"
     ]
    },
    {
     "data": {
      "image/png": "[encoded data removed]",
      "text/plain": [
       "<Figure size 432x288 with 1 Axes>"
      ]
     },
     "metadata": {
      "needs_background": "light"
     },
     "output_type": "display_data"
    },
    {
     "name": "stdout",
     "output_type": "stream",
     "text": [
      "r6m_inet_avg_arpu_amt\n"
     ]
    },
    {
     "data": {
      "image/png": "[encoded data removed]",
      "text/plain": [
       "<Figure size 432x288 with 1 Axes>"
      ]
     },
     "metadata": {
      "needs_background": "light"
     },
     "output_type": "display_data"
    },
    {
     "name": "stdout",
     "output_type": "stream",
     "text": [
      "bill_rmny_npay_tms_itg_max_cnt_n\n"
     ]
    },
    {
     "data": {
      "image/png": "[encoded data removed]",
      "text/plain": [
       "<Figure size 432x288 with 1 Axes>"
      ]
     },
     "metadata": {
      "needs_background": "light"
     },
     "output_type": "display_data"
    },
    {
     "name": "stdout",
     "output_type": "stream",
     "text": [
      "bill_rmny_npay_tms_itg_cd\n"
     ]
    },
    {
     "data": {
      "image/png": "[encoded data removed]",
      "text/plain": [
       "<Figure size 432x288 with 1 Axes>"
      ]
     },
     "metadata": {
      "needs_background": "light"
     },
     "output_type": "display_data"
    },
    {
     "name": "stdout",
     "output_type": "stream",
     "text": [
      "npay_amt_sum_divide_10000\n"
     ]
    },
    {
     "data": {
      "image/png": "[encoded data removed]",
      "text/plain": [
       "<Figure size 432x288 with 1 Axes>"
      ]
     },
     "metadata": {
      "needs_background": "light"
     },
     "output_type": "display_data"
    },
    {
     "name": "stdout",
     "output_type": "stream",
     "text": [
      "not_sufficient_cnt\n"
     ]
    },
    {
     "data": {
      "image/png": "[encoded data removed]",
      "text/plain": [
       "<Figure size 432x288 with 1 Axes>"
      ]
     },
     "metadata": {
      "needs_background": "light"
     },
     "output_type": "display_data"
    },
    {
     "name": "stdout",
     "output_type": "stream",
     "text": [
      "npay_tms_cnt\n"
     ]
    },
    {
     "data": {
      "image/png": "[encoded data removed]",
      "text/plain": [
       "<Figure size 432x288 with 1 Axes>"
      ]
     },
     "metadata": {
      "needs_background": "light"
     },
     "output_type": "display_data"
    },
    {
     "name": "stdout",
     "output_type": "stream",
     "text": [
      "wless_terml_gun_div_type\n"
     ]
    },
    {
     "data": {
      "image/png": "[encoded data removed]",
      "text/plain": [
       "<Figure size 432x288 with 1 Axes>"
      ]
     },
     "metadata": {
      "needs_background": "light"
     },
     "output_type": "display_data"
    },
    {
     "name": "stdout",
     "output_type": "stream",
     "text": [
      "recnt_icg_date_from_this_year\n"
     ]
    },
    {
     "name": "stderr",
     "output_type": "stream",
     "text": [
      "/usr/local/lib/python3.6/dist-packages/matplotlib/backends/backend_agg.py:214: RuntimeWarning: Glyph 8722 missing from current font.\n",
      "  font.set_text(s, 0.0, flags=flags)\n",
      "/usr/local/lib/python3.6/dist-packages/matplotlib/backends/backend_agg.py:183: RuntimeWarning: Glyph 8722 missing from current font.\n",
      "  font.set_text(s, 0, flags=flags)\n"
     ]
    },
    {
     "data": {
      "image/png": "[encoded data removed]",
      "text/plain": [
       "<Figure size 432x288 with 1 Axes>"
      ]
     },
     "metadata": {
      "needs_background": "light"
     },
     "output_type": "display_data"
    },
    {
     "name": "stdout",
     "output_type": "stream",
     "text": [
      "hndset_rmnd_insl_mons_num\n"
     ]
    },
    {
     "data": {
      "image/png": "[encoded data removed]",
      "text/plain": [
       "<Figure size 432x288 with 1 Axes>"
      ]
     },
     "metadata": {
      "needs_background": "light"
     },
     "output_type": "display_data"
    },
    {
     "name": "stdout",
     "output_type": "stream",
     "text": [
      "hndset_rmnd_insl_amt_divide_100000\n"
     ]
    },
    {
     "data": {
      "image/png": "[encoded data removed]",
      "text/plain": [
       "<Figure size 432x288 with 1 Axes>"
      ]
     },
     "metadata": {
      "needs_background": "light"
     },
     "output_type": "display_data"
    },
    {
     "name": "stdout",
     "output_type": "stream",
     "text": [
      "hndset_tot_insl_amt_divide_100000\n"
     ]
    },
    {
     "data": {
      "image/png": "[encoded data removed]",
      "text/plain": [
       "<Figure size 432x288 with 1 Axes>"
      ]
     },
     "metadata": {
      "needs_background": "light"
     },
     "output_type": "display_data"
    },
    {
     "name": "stdout",
     "output_type": "stream",
     "text": [
      "hndset_tot_insl_mons_num\n"
     ]
    },
    {
     "data": {
      "image/png": "[encoded data removed]",
      "text/plain": [
       "<Figure size 432x288 with 1 Axes>"
      ]
     },
     "metadata": {
      "needs_background": "light"
     },
     "output_type": "display_data"
    },
    {
     "name": "stdout",
     "output_type": "stream",
     "text": [
      "bfee_amt_divide_10000\n"
     ]
    },
    {
     "data": {
      "image/png": "[encoded data removed]",
      "text/plain": [
       "<Figure size 432x288 with 1 Axes>"
      ]
     },
     "metadata": {
      "needs_background": "light"
     },
     "output_type": "display_data"
    },
    {
     "name": "stdout",
     "output_type": "stream",
     "text": [
      "rmonth_tot_bill_amt_divide_10000\n"
     ]
    },
    {
     "data": {
      "image/png": "[encoded data removed]",
      "text/plain": [
       "<Figure size 432x288 with 1 Axes>"
      ]
     },
     "metadata": {
      "needs_background": "light"
     },
     "output_type": "display_data"
    },
    {
     "name": "stdout",
     "output_type": "stream",
     "text": [
      "voc_sbsc_inqr_cascnt_n\n"
     ]
    },
    {
     "data": {
      "image/png": "[encoded data removed]",
      "text/plain": [
       "<Figure size 432x288 with 1 Axes>"
      ]
     },
     "metadata": {
      "needs_background": "light"
     },
     "output_type": "display_data"
    },
    {
     "name": "stdout",
     "output_type": "stream",
     "text": [
      "voc_data_qat_cascnt_n\n"
     ]
    },
    {
     "data": {
      "image/png": "[encoded data removed]",
      "text/plain": [
       "<Figure size 432x288 with 1 Axes>"
      ]
     },
     "metadata": {
      "needs_background": "light"
     },
     "output_type": "display_data"
    },
    {
     "name": "stdout",
     "output_type": "stream",
     "text": [
      "voc_inqr_cascnt_n\n"
     ]
    },
    {
     "data": {
      "image/png": "[encoded data removed]",
      "text/plain": [
       "<Figure size 432x288 with 1 Axes>"
      ]
     },
     "metadata": {
      "needs_background": "light"
     },
     "output_type": "display_data"
    },
    {
     "name": "stdout",
     "output_type": "stream",
     "text": [
      "voc_dscnt_cascnt_n\n"
     ]
    },
    {
     "data": {
      "image/png": "[encoded data removed]",
      "text/plain": [
       "<Figure size 432x288 with 1 Axes>"
      ]
     },
     "metadata": {
      "needs_background": "light"
     },
     "output_type": "display_data"
    },
    {
     "name": "stdout",
     "output_type": "stream",
     "text": [
      "voc_icnv_cascnt_n\n"
     ]
    },
    {
     "name": "stderr",
     "output_type": "stream",
     "text": [
      "/usr/local/lib/python3.6/dist-packages/matplotlib/backends/backend_agg.py:214: RuntimeWarning: Glyph 8722 missing from current font.\n",
      "  font.set_text(s, 0.0, flags=flags)\n",
      "/usr/local/lib/python3.6/dist-packages/matplotlib/backends/backend_agg.py:183: RuntimeWarning: Glyph 8722 missing from current font.\n",
      "  font.set_text(s, 0, flags=flags)\n"
     ]
    },
    {
     "data": {
      "image/png": "[encoded data removed]",
      "text/plain": [
       "<Figure size 432x288 with 1 Axes>"
      ]
     },
     "metadata": {
      "needs_background": "light"
     },
     "output_type": "display_data"
    },
    {
     "name": "stdout",
     "output_type": "stream",
     "text": [
      "voc_tot_occ_cascnt_n\n"
     ]
    },
    {
     "data": {
      "image/png": "[encoded data removed]",
      "text/plain": [
       "<Figure size 432x288 with 1 Axes>"
      ]
     },
     "metadata": {
      "needs_background": "light"
     },
     "output_type": "display_data"
    },
    {
     "name": "stdout",
     "output_type": "stream",
     "text": [
      "rmonth_qat_chage_voc_cascnt\n"
     ]
    },
    {
     "data": {
      "image/png": "[encoded data removed]",
      "text/plain": [
       "<Figure size 432x288 with 1 Axes>"
      ]
     },
     "metadata": {
      "needs_background": "light"
     },
     "output_type": "display_data"
    },
    {
     "name": "stdout",
     "output_type": "stream",
     "text": [
      "voc_cnt_n\n"
     ]
    },
    {
     "data": {
      "image/png": "[encoded data removed]",
      "text/plain": [
       "<Figure size 432x288 with 1 Axes>"
      ]
     },
     "metadata": {
      "needs_background": "light"
     },
     "output_type": "display_data"
    },
    {
     "name": "stdout",
     "output_type": "stream",
     "text": [
      "cont_sttus_chg_date_from_this_year\n"
     ]
    },
    {
     "data": {
      "image/png": "[encoded data removed]",
      "text/plain": [
       "<Figure size 432x288 with 1 Axes>"
      ]
     },
     "metadata": {
      "needs_background": "light"
     },
     "output_type": "display_data"
    },
    {
     "name": "stdout",
     "output_type": "stream",
     "text": [
      "now_chage_prod_sbsc_date_from_this_year\n"
     ]
    },
    {
     "data": {
      "image/png": "[encoded data removed]",
      "text/plain": [
       "<Figure size 432x288 with 1 Axes>"
      ]
     },
     "metadata": {
      "needs_background": "light"
     },
     "output_type": "display_data"
    },
    {
     "name": "stdout",
     "output_type": "stream",
     "text": [
      "accum_dt_stop_day_num_divide_10\n"
     ]
    },
    {
     "data": {
      "image/png": "[encoded data removed]",
      "text/plain": [
       "<Figure size 432x288 with 1 Axes>"
      ]
     },
     "metadata": {
      "needs_background": "light"
     },
     "output_type": "display_data"
    },
    {
     "name": "stdout",
     "output_type": "stream",
     "text": [
      "accum_usst_day_num_divide_10\n"
     ]
    },
    {
     "data": {
      "image/png": "[encoded data removed]",
      "text/plain": [
       "<Figure size 432x288 with 1 Axes>"
      ]
     },
     "metadata": {
      "needs_background": "light"
     },
     "output_type": "display_data"
    },
    {
     "name": "stdout",
     "output_type": "stream",
     "text": [
      "svc_use_mons_num_divide_10\n"
     ]
    },
    {
     "data": {
      "image/png": "[encoded data removed]",
      "text/plain": [
       "<Figure size 432x288 with 1 Axes>"
      ]
     },
     "metadata": {
      "needs_background": "light"
     },
     "output_type": "display_data"
    }
   ],
   "source": [
    "for col in int_col :\n",
    "    print(col)\n",
    "    plt.title(col)\n",
    "    total_merge_data3[col].plot(kind='box')\n",
    "    plt.show()"
   ]
  },
  {
   "cell_type": "markdown",
   "metadata": {},
   "source": [
    "### \n",
    "### 이상치 확인 \n",
    "- efct_mphon_sbsc_cascnt > 120\n",
    "- efct_pstn_sbsc_cascnt > 500\n",
    "- efct_inet_sbsc_cascnt > 60\n",
    "- efct_iptv_sbsc_cascnt > 300\n",
    "- r3m_avg_bill_amt > 5 * 1000000\n",
    "- r3m_mphon_avg_arpu_amt > 1 * 10000000\n",
    "- r3m_iptv_avg_arpu_amt > 4 * 1000000\n",
    "- r3m_inet_avg_arpu_amt > 8 * 1000000\n",
    "- r6m_mphon_avg_arpu_amt > 1 * 10000000\n",
    "- r6m_iptv_avg_arpu_amt  > 2.0 * 1000000\n",
    "- r6m_inet_avg_arpu_amt > 2.3 * 1000000\n",
    "- hndset_rmnd_insl_amt_divide_100000 > 80\n",
    "- hndset_tot_insl_amt_divide_100000 > 82\n",
    "- rmonth_tot_bill_amt_divide_10000 > 500\n",
    "- recnt_icg_date_from_this_year' == -99"
   ]
  },
  {
   "cell_type": "markdown",
   "metadata": {},
   "source": [
    "#### \n",
    "#### recnt_icg_date_from_this_year 컬럼의 -99 값을 최빈값 1로 변경"
   ]
  },
  {
   "cell_type": "code",
   "execution_count": 79,
   "metadata": {},
   "outputs": [
    {
     "data": {
      "text/plain": [
       " 1     78461\n",
       " 2     48985\n",
       " 3     19130\n",
       "-99    18137\n",
       " 0     14049\n",
       " 4      7087\n",
       " 5      2739\n",
       " 6      1010\n",
       " 7       270\n",
       " 8        69\n",
       " 9        27\n",
       " 10       25\n",
       " 11        6\n",
       " 12        4\n",
       " 14        1\n",
       "Name: recnt_icg_date_from_this_year, dtype: int64"
      ]
     },
     "execution_count": 79,
     "metadata": {},
     "output_type": "execute_result"
    }
   ],
   "source": [
    "total_merge_data3['recnt_icg_date_from_this_year'].value_counts()"
   ]
  },
  {
   "cell_type": "code",
   "execution_count": 80,
   "metadata": {},
   "outputs": [],
   "source": [
    "cond = total_merge_data3['recnt_icg_date_from_this_year'] == -99"
   ]
  },
  {
   "cell_type": "code",
   "execution_count": 81,
   "metadata": {},
   "outputs": [],
   "source": [
    "total_merge_data3.loc[cond, 'recnt_icg_date_from_this_year'] = 1"
   ]
  },
  {
   "cell_type": "code",
   "execution_count": 82,
   "metadata": {},
   "outputs": [
    {
     "data": {
      "text/plain": [
       "52        1\n",
       "64        1\n",
       "72        1\n",
       "95        1\n",
       "108       1\n",
       "         ..\n",
       "189928    1\n",
       "189944    1\n",
       "189948    1\n",
       "189950    1\n",
       "189996    1\n",
       "Name: recnt_icg_date_from_this_year, Length: 18137, dtype: int64"
      ]
     },
     "execution_count": 82,
     "metadata": {},
     "output_type": "execute_result"
    }
   ],
   "source": [
    "total_merge_data3.loc[cond, 'recnt_icg_date_from_this_year']"
   ]
  },
  {
   "cell_type": "markdown",
   "metadata": {},
   "source": [
    "#### \n",
    "#### Train 데이터셋에서 이상치 삭제(TEST 데이터셋에 이상치는 제외해야 함)."
   ]
  },
  {
   "cell_type": "code",
   "execution_count": 83,
   "metadata": {},
   "outputs": [],
   "source": [
    "c1 = total_merge_data3['efct_mphon_sbsc_cascnt'] > 120\n",
    "c2 = total_merge_data3['efct_pstn_sbsc_cascnt'] > 500\n",
    "c3 = total_merge_data3['efct_inet_sbsc_cascnt'] > 60\n",
    "c4 = total_merge_data3['efct_iptv_sbsc_cascnt'] > 300\n",
    "c5 = total_merge_data3['r3m_avg_bill_amt'] > 5*1000000\n",
    "c6 = total_merge_data3['r3m_mphon_avg_arpu_amt'] > 1*10000000\n",
    "c7 = total_merge_data3['r3m_iptv_avg_arpu_amt'] > 4*1000000\n",
    "c8 = total_merge_data3['r3m_inet_avg_arpu_amt'] > 8*1000000\n",
    "c9 = total_merge_data3['r6m_mphon_avg_arpu_amt'] > 1*10000000\n",
    "c10 = total_merge_data3['r6m_iptv_avg_arpu_amt'] > 2*1000000\n",
    "c11 = total_merge_data3['r6m_inet_avg_arpu_amt'] > 2.3*1000000\n",
    "c12 = total_merge_data3['hndset_rmnd_insl_amt_divide_100000'] > 80\n",
    "c13 = total_merge_data3['hndset_tot_insl_amt_divide_100000'] > 82\n",
    "c14 = total_merge_data3['rmonth_tot_bill_amt_divide_10000'] > 500"
   ]
  },
  {
   "cell_type": "code",
   "execution_count": 84,
   "metadata": {},
   "outputs": [
    {
     "name": "stdout",
     "output_type": "stream",
     "text": [
      "[140302] 1\n",
      "[104971 179806] 2\n",
      "[104143 124724 156842 167020 189445] 5\n",
      "[156842] 1\n",
      "[114170 172498] 2\n",
      "[147337 167404] 2\n",
      "[139180] 1\n",
      "[ 92683 172175 182116] 3\n",
      "[147337 167404] 2\n",
      "[27225] 1\n",
      "[ 23329  60967  76243 104143 124724 124869 143939 167020] 8\n",
      "[114170 172498] 2\n",
      "[111859 114170 172498] 3\n",
      "[114170] 1\n",
      "delete row count :  34\n"
     ]
    }
   ],
   "source": [
    "del_cnt = 0\n",
    "for i in [c1, c2, c3, c4, c5, c6, c7, c8, c9, c10, c11, c12, c13, c14]:\n",
    "    print(total_merge_data3[i].index.values, total_merge_data3[i].index.values.size)\n",
    "    cnt = total_merge_data3[i].index.values.size\n",
    "    del_cnt = del_cnt + cnt\n",
    "\n",
    "print('delete row count : ', del_cnt)"
   ]
  },
  {
   "cell_type": "code",
   "execution_count": 85,
   "metadata": {},
   "outputs": [],
   "source": [
    "test_data = total_merge_data3[c1 | c2 | c3 | c4 | c5 | c6 | c7 | c8 | c9 | c10 | c11 | c12 | c13 | c14]"
   ]
  },
  {
   "cell_type": "code",
   "execution_count": 86,
   "metadata": {},
   "outputs": [],
   "source": [
    "del_index = test_data[test_data['label_payment_yn'] != 0].index"
   ]
  },
  {
   "cell_type": "code",
   "execution_count": 87,
   "metadata": {},
   "outputs": [
    {
     "data": {
      "text/plain": [
       "4"
      ]
     },
     "execution_count": 87,
     "metadata": {},
     "output_type": "execute_result"
    }
   ],
   "source": [
    "len(del_index)"
   ]
  },
  {
   "cell_type": "code",
   "execution_count": 88,
   "metadata": {},
   "outputs": [
    {
     "data": {
      "text/plain": [
       "Int64Index([23329, 27225, 60967, 76243], dtype='int64')"
      ]
     },
     "execution_count": 88,
     "metadata": {},
     "output_type": "execute_result"
    }
   ],
   "source": [
    "del_index"
   ]
  },
  {
   "cell_type": "code",
   "execution_count": 89,
   "metadata": {},
   "outputs": [
    {
     "data": {
      "text/plain": [
       "(190000, 58)"
      ]
     },
     "execution_count": 89,
     "metadata": {},
     "output_type": "execute_result"
    }
   ],
   "source": [
    "total_merge_data3.shape"
   ]
  },
  {
   "cell_type": "code",
   "execution_count": 90,
   "metadata": {},
   "outputs": [],
   "source": [
    "total_merge_data3.drop(del_index, axis=0, inplace=True)"
   ]
  },
  {
   "cell_type": "code",
   "execution_count": 91,
   "metadata": {},
   "outputs": [
    {
     "data": {
      "text/plain": [
       "(189996, 58)"
      ]
     },
     "execution_count": 91,
     "metadata": {},
     "output_type": "execute_result"
    }
   ],
   "source": [
    "total_merge_data3.shape"
   ]
  },
  {
   "cell_type": "markdown",
   "metadata": {},
   "source": [
    "#### \n",
    "#### bill_rmny_npay_tms_itg_max_cnt_n ,bill_rmny_npay_tms_itg_cd, not_sufficient_cnt, voc_icnv_cascnt_n : 4개 컬럼 분포 확인\n"
   ]
  },
  {
   "cell_type": "code",
   "execution_count": 92,
   "metadata": {},
   "outputs": [
    {
     "data": {
      "text/plain": [
       "2    0.369097\n",
       "1    0.253132\n",
       "3    0.193083\n",
       "0    0.123939\n",
       "4    0.028869\n",
       "5    0.012495\n",
       "6    0.007321\n",
       "7    0.006011\n",
       "8    0.003068\n",
       "9    0.002984\n",
       "Name: bill_rmny_npay_tms_itg_max_cnt_n, dtype: float64"
      ]
     },
     "execution_count": 92,
     "metadata": {},
     "output_type": "execute_result"
    }
   ],
   "source": [
    "total_merge_data3['bill_rmny_npay_tms_itg_max_cnt_n'].value_counts(normalize=True)"
   ]
  },
  {
   "cell_type": "code",
   "execution_count": 93,
   "metadata": {},
   "outputs": [
    {
     "data": {
      "text/plain": [
       "1    0.822596\n",
       "2    0.177404\n",
       "Name: bill_rmny_npay_tms_itg_cd, dtype: float64"
      ]
     },
     "execution_count": 93,
     "metadata": {},
     "output_type": "execute_result"
    }
   ],
   "source": [
    "total_merge_data3['bill_rmny_npay_tms_itg_cd'].value_counts(normalize=True)"
   ]
  },
  {
   "cell_type": "code",
   "execution_count": 94,
   "metadata": {},
   "outputs": [
    {
     "data": {
      "text/plain": [
       "0    0.821533\n",
       "1    0.177967\n",
       "2    0.000500\n",
       "Name: not_sufficient_cnt, dtype: float64"
      ]
     },
     "execution_count": 94,
     "metadata": {},
     "output_type": "execute_result"
    }
   ],
   "source": [
    "total_merge_data3['not_sufficient_cnt'].value_counts(normalize=True)"
   ]
  },
  {
   "cell_type": "code",
   "execution_count": 95,
   "metadata": {},
   "outputs": [
    {
     "data": {
      "text/plain": [
       "0    1.0\n",
       "Name: voc_icnv_cascnt_n, dtype: float64"
      ]
     },
     "execution_count": 95,
     "metadata": {},
     "output_type": "execute_result"
    }
   ],
   "source": [
    "total_merge_data3['voc_icnv_cascnt_n'].value_counts(normalize=True)"
   ]
  },
  {
   "cell_type": "markdown",
   "metadata": {},
   "source": [
    "## \n",
    "## 10. voc_icnv_cascnt_n 컬럼 삭제"
   ]
  },
  {
   "cell_type": "code",
   "execution_count": 96,
   "metadata": {},
   "outputs": [
    {
     "data": {
      "text/plain": [
       "(189996, 58)"
      ]
     },
     "execution_count": 96,
     "metadata": {},
     "output_type": "execute_result"
    }
   ],
   "source": [
    "total_merge_data3.shape"
   ]
  },
  {
   "cell_type": "code",
   "execution_count": 97,
   "metadata": {},
   "outputs": [],
   "source": [
    "total_merge_data3.drop(['voc_icnv_cascnt_n'], axis=1, inplace=True)"
   ]
  },
  {
   "cell_type": "code",
   "execution_count": 98,
   "metadata": {},
   "outputs": [
    {
     "data": {
      "text/plain": [
       "(189996, 57)"
      ]
     },
     "execution_count": 98,
     "metadata": {},
     "output_type": "execute_result"
    }
   ],
   "source": [
    "total_merge_data3.shape"
   ]
  },
  {
   "cell_type": "markdown",
   "metadata": {},
   "source": [
    "## \n",
    "## 11. age 컬럼 숫자형 변환"
   ]
  },
  {
   "cell_type": "code",
   "execution_count": 99,
   "metadata": {},
   "outputs": [
    {
     "name": "stdout",
     "output_type": "stream",
     "text": [
      "2069\n"
     ]
    }
   ],
   "source": [
    "# '_' 값을 가진 건수\n",
    "print(total_merge_data3[total_merge_data3['age_itg_cd'] == '_']['age_itg_cd'].count())"
   ]
  },
  {
   "cell_type": "code",
   "execution_count": 100,
   "metadata": {},
   "outputs": [],
   "source": [
    "total_merge_data3['age_itg_cd'].replace('_', np.nan, inplace=True)"
   ]
  },
  {
   "cell_type": "code",
   "execution_count": 101,
   "metadata": {},
   "outputs": [
    {
     "name": "stdout",
     "output_type": "stream",
     "text": [
      "2069\n"
     ]
    }
   ],
   "source": [
    "print(total_merge_data3['age_itg_cd'].isnull().sum())"
   ]
  },
  {
   "cell_type": "code",
   "execution_count": 102,
   "metadata": {},
   "outputs": [
    {
     "name": "stdout",
     "output_type": "stream",
     "text": [
      "38.0\n"
     ]
    }
   ],
   "source": [
    "# null 대신 넣은 중간값 확인\n",
    "print(total_merge_data3['age_itg_cd'].median())"
   ]
  },
  {
   "cell_type": "code",
   "execution_count": 103,
   "metadata": {},
   "outputs": [],
   "source": [
    "total_merge_data3['age_itg_cd'].fillna(38, inplace=True)"
   ]
  },
  {
   "cell_type": "code",
   "execution_count": 104,
   "metadata": {},
   "outputs": [
    {
     "name": "stdout",
     "output_type": "stream",
     "text": [
      "0\n"
     ]
    }
   ],
   "source": [
    "print(total_merge_data3['age_itg_cd'].isnull().sum())"
   ]
  },
  {
   "cell_type": "code",
   "execution_count": 105,
   "metadata": {},
   "outputs": [],
   "source": [
    "total_merge_data3['age_itg_cd'] = total_merge_data3['age_itg_cd'].astype(int)"
   ]
  },
  {
   "cell_type": "code",
   "execution_count": 106,
   "metadata": {},
   "outputs": [
    {
     "name": "stdout",
     "output_type": "stream",
     "text": [
      "<class 'pandas.core.frame.DataFrame'>\n",
      "Int64Index: 189996 entries, 0 to 189999\n",
      "Data columns (total 57 columns):\n",
      " #   Column                                   Non-Null Count   Dtype  \n",
      "---  ------                                   --------------   -----  \n",
      " 0   id                                       189996 non-null  object \n",
      " 1   label_payment_yn                         189996 non-null  object \n",
      " 2   age_itg_cd                               189996 non-null  int64  \n",
      " 3   inet_sbsc_yn                             189996 non-null  object \n",
      " 4   iptv_sbsc_yn                             189996 non-null  object \n",
      " 5   efct_mphon_sbsc_cascnt                   189996 non-null  int64  \n",
      " 6   efct_pstn_sbsc_cascnt                    189996 non-null  int64  \n",
      " 7   efct_inet_sbsc_cascnt                    189996 non-null  int64  \n",
      " 8   efct_iptv_sbsc_cascnt                    189996 non-null  int64  \n",
      " 9   mphon_comb_yn                            189996 non-null  object \n",
      " 10  inet_comb_yn                             189996 non-null  object \n",
      " 11  iptv_comb_yn                             189996 non-null  object \n",
      " 12  npay_yn                                  189996 non-null  object \n",
      " 13  r3m_avg_bill_amt                         189996 non-null  int64  \n",
      " 14  r6m_inet_pssn_comb_yn                    189996 non-null  object \n",
      " 15  r6m_iptv_pssn_comb_yn                    189996 non-null  object \n",
      " 16  r3m_mphon_avg_arpu_amt                   189996 non-null  int64  \n",
      " 17  r3m_iptv_avg_arpu_amt                    189996 non-null  int64  \n",
      " 18  r3m_inet_avg_arpu_amt                    189996 non-null  int64  \n",
      " 19  r6m_mphon_avg_arpu_amt                   189996 non-null  int64  \n",
      " 20  r6m_iptv_avg_arpu_amt                    189996 non-null  int64  \n",
      " 21  r6m_inet_avg_arpu_amt                    189996 non-null  int64  \n",
      " 22  bill_rmny_npay_tms_itg_max_cnt_n         189996 non-null  int64  \n",
      " 23  bill_rmny_npay_tms_itg_cd                189996 non-null  int64  \n",
      " 24  npay_amt_sum_divide_10000                189996 non-null  int64  \n",
      " 25  not_sufficient_cnt                       189996 non-null  int64  \n",
      " 26  pay_way_nm                               189996 non-null  object \n",
      " 27  acrnd_dsp_meth_nm                        189996 non-null  object \n",
      " 28  npay_tms_cnt                             189996 non-null  int64  \n",
      " 29  bprod_lctg_nm                            189996 non-null  object \n",
      " 30  wless_terml_gun_div_nm                   189996 non-null  object \n",
      " 31  wless_terml_gun_div_type                 189996 non-null  int64  \n",
      " 32  recnt_icg_date_from_this_year            189996 non-null  int64  \n",
      " 33  hndset_rmnd_insl_mons_num                189996 non-null  int64  \n",
      " 34  hndset_rmnd_insl_amt_divide_100000       189996 non-null  int64  \n",
      " 35  hndset_rmnd_insl_mons_yn                 189996 non-null  object \n",
      " 36  hndset_tot_insl_amt_divide_100000        189996 non-null  int64  \n",
      " 37  hndset_tot_insl_mons_num                 189996 non-null  int64  \n",
      " 38  bfee_amt_divide_10000                    189996 non-null  int64  \n",
      " 39  rmonth_tot_bill_amt_divide_10000         189996 non-null  int64  \n",
      " 40  r3m_avg_bill_amt_100000_over_yn          189996 non-null  object \n",
      " 41  voc_sbsc_inqr_cascnt_n                   189996 non-null  int64  \n",
      " 42  voc_data_qat_cascnt_n                    189996 non-null  int64  \n",
      " 43  voc_inqr_cascnt_n                        189996 non-null  int64  \n",
      " 44  voc_dscnt_cascnt_n                       189996 non-null  int64  \n",
      " 45  voc_tot_occ_cascnt_n                     189996 non-null  int64  \n",
      " 46  rmonth_qat_chage_voc_cascnt              189996 non-null  int64  \n",
      " 47  voc_cnt_n                                189996 non-null  int64  \n",
      " 48  cont_sttus_chg_date_from_this_year       189996 non-null  int64  \n",
      " 49  now_chage_prod_sbsc_date_from_this_year  189996 non-null  int64  \n",
      " 50  accum_dt_stop_day_num_divide_10          189996 non-null  int64  \n",
      " 51  accum_usst_day_num_divide_10             189996 non-null  int64  \n",
      " 52  svc_use_mons_num_divide_10               189996 non-null  int64  \n",
      " 53  insur_prod_sbsc_yn                       189996 non-null  object \n",
      " 54  tm_npay_cnt                              189996 non-null  float64\n",
      " 55  sm_npay_cnt                              189996 non-null  float64\n",
      " 56  sm_use_stop_cnt                          189996 non-null  float64\n",
      "dtypes: float64(3), int64(37), object(17)\n",
      "memory usage: 84.1+ MB\n"
     ]
    }
   ],
   "source": [
    "total_merge_data3.info()"
   ]
  },
  {
   "cell_type": "code",
   "execution_count": 107,
   "metadata": {},
   "outputs": [
    {
     "data": {
      "text/html": [
       "<div>\n",
       "<style scoped>\n",
       "    .dataframe tbody tr th:only-of-type {\n",
       "        vertical-align: middle;\n",
       "    }\n",
       "\n",
       "    .dataframe tbody tr th {\n",
       "        vertical-align: top;\n",
       "    }\n",
       "\n",
       "    .dataframe thead th {\n",
       "        text-align: right;\n",
       "    }\n",
       "</style>\n",
       "<table border=\"1\" class=\"dataframe\">\n",
       "  <thead>\n",
       "    <tr style=\"text-align: right;\">\n",
       "      <th></th>\n",
       "      <th>age_itg_cd</th>\n",
       "      <th>efct_mphon_sbsc_cascnt</th>\n",
       "      <th>efct_pstn_sbsc_cascnt</th>\n",
       "      <th>efct_inet_sbsc_cascnt</th>\n",
       "      <th>efct_iptv_sbsc_cascnt</th>\n",
       "      <th>r3m_avg_bill_amt</th>\n",
       "      <th>r3m_mphon_avg_arpu_amt</th>\n",
       "      <th>r3m_iptv_avg_arpu_amt</th>\n",
       "      <th>r3m_inet_avg_arpu_amt</th>\n",
       "      <th>r6m_mphon_avg_arpu_amt</th>\n",
       "      <th>...</th>\n",
       "      <th>rmonth_qat_chage_voc_cascnt</th>\n",
       "      <th>voc_cnt_n</th>\n",
       "      <th>cont_sttus_chg_date_from_this_year</th>\n",
       "      <th>now_chage_prod_sbsc_date_from_this_year</th>\n",
       "      <th>accum_dt_stop_day_num_divide_10</th>\n",
       "      <th>accum_usst_day_num_divide_10</th>\n",
       "      <th>svc_use_mons_num_divide_10</th>\n",
       "      <th>tm_npay_cnt</th>\n",
       "      <th>sm_npay_cnt</th>\n",
       "      <th>sm_use_stop_cnt</th>\n",
       "    </tr>\n",
       "  </thead>\n",
       "  <tbody>\n",
       "    <tr>\n",
       "      <th>count</th>\n",
       "      <td>189996.000000</td>\n",
       "      <td>189996.000000</td>\n",
       "      <td>189996.000000</td>\n",
       "      <td>189996.000000</td>\n",
       "      <td>189996.000000</td>\n",
       "      <td>1.899960e+05</td>\n",
       "      <td>1.899960e+05</td>\n",
       "      <td>1.899960e+05</td>\n",
       "      <td>1.899960e+05</td>\n",
       "      <td>1.899960e+05</td>\n",
       "      <td>...</td>\n",
       "      <td>189996.000000</td>\n",
       "      <td>189996.000000</td>\n",
       "      <td>189996.000000</td>\n",
       "      <td>189996.000000</td>\n",
       "      <td>189996.000000</td>\n",
       "      <td>189996.000000</td>\n",
       "      <td>189996.000000</td>\n",
       "      <td>189996.000000</td>\n",
       "      <td>189996.000000</td>\n",
       "      <td>189996.000000</td>\n",
       "    </tr>\n",
       "    <tr>\n",
       "      <th>mean</th>\n",
       "      <td>39.710868</td>\n",
       "      <td>0.767127</td>\n",
       "      <td>0.157077</td>\n",
       "      <td>0.277080</td>\n",
       "      <td>0.388477</td>\n",
       "      <td>2.147811e+05</td>\n",
       "      <td>6.641399e+04</td>\n",
       "      <td>1.114313e+04</td>\n",
       "      <td>1.464184e+04</td>\n",
       "      <td>6.711043e+04</td>\n",
       "      <td>...</td>\n",
       "      <td>0.008769</td>\n",
       "      <td>0.205889</td>\n",
       "      <td>2.237426</td>\n",
       "      <td>1.910167</td>\n",
       "      <td>0.669967</td>\n",
       "      <td>1.487547</td>\n",
       "      <td>4.513879</td>\n",
       "      <td>0.141508</td>\n",
       "      <td>0.356913</td>\n",
       "      <td>0.601139</td>\n",
       "    </tr>\n",
       "    <tr>\n",
       "      <th>std</th>\n",
       "      <td>15.028201</td>\n",
       "      <td>0.851516</td>\n",
       "      <td>2.931545</td>\n",
       "      <td>0.757518</td>\n",
       "      <td>1.773951</td>\n",
       "      <td>2.367341e+05</td>\n",
       "      <td>8.431526e+04</td>\n",
       "      <td>3.662037e+04</td>\n",
       "      <td>6.401263e+04</td>\n",
       "      <td>8.402500e+04</td>\n",
       "      <td>...</td>\n",
       "      <td>0.105218</td>\n",
       "      <td>0.611348</td>\n",
       "      <td>2.277013</td>\n",
       "      <td>1.578509</td>\n",
       "      <td>2.323624</td>\n",
       "      <td>3.106180</td>\n",
       "      <td>3.341180</td>\n",
       "      <td>0.564983</td>\n",
       "      <td>1.016734</td>\n",
       "      <td>1.144005</td>\n",
       "    </tr>\n",
       "    <tr>\n",
       "      <th>min</th>\n",
       "      <td>3.000000</td>\n",
       "      <td>0.000000</td>\n",
       "      <td>0.000000</td>\n",
       "      <td>0.000000</td>\n",
       "      <td>0.000000</td>\n",
       "      <td>0.000000e+00</td>\n",
       "      <td>0.000000e+00</td>\n",
       "      <td>0.000000e+00</td>\n",
       "      <td>0.000000e+00</td>\n",
       "      <td>0.000000e+00</td>\n",
       "      <td>...</td>\n",
       "      <td>0.000000</td>\n",
       "      <td>0.000000</td>\n",
       "      <td>0.000000</td>\n",
       "      <td>0.000000</td>\n",
       "      <td>0.000000</td>\n",
       "      <td>0.000000</td>\n",
       "      <td>0.000000</td>\n",
       "      <td>0.000000</td>\n",
       "      <td>0.000000</td>\n",
       "      <td>0.000000</td>\n",
       "    </tr>\n",
       "    <tr>\n",
       "      <th>25%</th>\n",
       "      <td>27.000000</td>\n",
       "      <td>0.000000</td>\n",
       "      <td>0.000000</td>\n",
       "      <td>0.000000</td>\n",
       "      <td>0.000000</td>\n",
       "      <td>8.023200e+04</td>\n",
       "      <td>3.888575e+04</td>\n",
       "      <td>0.000000e+00</td>\n",
       "      <td>0.000000e+00</td>\n",
       "      <td>3.917300e+04</td>\n",
       "      <td>...</td>\n",
       "      <td>0.000000</td>\n",
       "      <td>0.000000</td>\n",
       "      <td>1.000000</td>\n",
       "      <td>1.000000</td>\n",
       "      <td>0.000000</td>\n",
       "      <td>0.000000</td>\n",
       "      <td>2.000000</td>\n",
       "      <td>0.000000</td>\n",
       "      <td>0.000000</td>\n",
       "      <td>0.000000</td>\n",
       "    </tr>\n",
       "    <tr>\n",
       "      <th>50%</th>\n",
       "      <td>38.000000</td>\n",
       "      <td>1.000000</td>\n",
       "      <td>0.000000</td>\n",
       "      <td>0.000000</td>\n",
       "      <td>0.000000</td>\n",
       "      <td>1.317815e+05</td>\n",
       "      <td>5.442150e+04</td>\n",
       "      <td>0.000000e+00</td>\n",
       "      <td>0.000000e+00</td>\n",
       "      <td>5.479300e+04</td>\n",
       "      <td>...</td>\n",
       "      <td>0.000000</td>\n",
       "      <td>0.000000</td>\n",
       "      <td>1.000000</td>\n",
       "      <td>1.000000</td>\n",
       "      <td>0.000000</td>\n",
       "      <td>0.000000</td>\n",
       "      <td>4.000000</td>\n",
       "      <td>0.000000</td>\n",
       "      <td>0.000000</td>\n",
       "      <td>0.000000</td>\n",
       "    </tr>\n",
       "    <tr>\n",
       "      <th>75%</th>\n",
       "      <td>51.000000</td>\n",
       "      <td>1.000000</td>\n",
       "      <td>0.000000</td>\n",
       "      <td>0.000000</td>\n",
       "      <td>0.000000</td>\n",
       "      <td>2.490880e+05</td>\n",
       "      <td>7.512000e+04</td>\n",
       "      <td>1.464900e+04</td>\n",
       "      <td>2.492000e+04</td>\n",
       "      <td>7.577350e+04</td>\n",
       "      <td>...</td>\n",
       "      <td>0.000000</td>\n",
       "      <td>0.000000</td>\n",
       "      <td>3.000000</td>\n",
       "      <td>2.000000</td>\n",
       "      <td>0.000000</td>\n",
       "      <td>1.000000</td>\n",
       "      <td>7.000000</td>\n",
       "      <td>0.000000</td>\n",
       "      <td>0.000000</td>\n",
       "      <td>1.000000</td>\n",
       "    </tr>\n",
       "    <tr>\n",
       "      <th>max</th>\n",
       "      <td>117.000000</td>\n",
       "      <td>128.000000</td>\n",
       "      <td>600.000000</td>\n",
       "      <td>76.000000</td>\n",
       "      <td>345.000000</td>\n",
       "      <td>5.540115e+06</td>\n",
       "      <td>1.088502e+07</td>\n",
       "      <td>4.542817e+06</td>\n",
       "      <td>9.520145e+06</td>\n",
       "      <td>1.088502e+07</td>\n",
       "      <td>...</td>\n",
       "      <td>7.000000</td>\n",
       "      <td>10.000000</td>\n",
       "      <td>10.000000</td>\n",
       "      <td>10.000000</td>\n",
       "      <td>10.000000</td>\n",
       "      <td>10.000000</td>\n",
       "      <td>10.000000</td>\n",
       "      <td>17.000000</td>\n",
       "      <td>7.000000</td>\n",
       "      <td>7.000000</td>\n",
       "    </tr>\n",
       "  </tbody>\n",
       "</table>\n",
       "<p>8 rows × 40 columns</p>\n",
       "</div>"
      ],
      "text/plain": [
       "          age_itg_cd  efct_mphon_sbsc_cascnt  efct_pstn_sbsc_cascnt  \\\n",
       "count  189996.000000           189996.000000          189996.000000   \n",
       "mean       39.710868                0.767127               0.157077   \n",
       "std        15.028201                0.851516               2.931545   \n",
       "min         3.000000                0.000000               0.000000   \n",
       "25%        27.000000                0.000000               0.000000   \n",
       "50%        38.000000                1.000000               0.000000   \n",
       "75%        51.000000                1.000000               0.000000   \n",
       "max       117.000000              128.000000             600.000000   \n",
       "\n",
       "       efct_inet_sbsc_cascnt  efct_iptv_sbsc_cascnt  r3m_avg_bill_amt  \\\n",
       "count          189996.000000          189996.000000      1.899960e+05   \n",
       "mean                0.277080               0.388477      2.147811e+05   \n",
       "std                 0.757518               1.773951      2.367341e+05   \n",
       "min                 0.000000               0.000000      0.000000e+00   \n",
       "25%                 0.000000               0.000000      8.023200e+04   \n",
       "50%                 0.000000               0.000000      1.317815e+05   \n",
       "75%                 0.000000               0.000000      2.490880e+05   \n",
       "max                76.000000             345.000000      5.540115e+06   \n",
       "\n",
       "       r3m_mphon_avg_arpu_amt  r3m_iptv_avg_arpu_amt  r3m_inet_avg_arpu_amt  \\\n",
       "count            1.899960e+05           1.899960e+05           1.899960e+05   \n",
       "mean             6.641399e+04           1.114313e+04           1.464184e+04   \n",
       "std              8.431526e+04           3.662037e+04           6.401263e+04   \n",
       "min              0.000000e+00           0.000000e+00           0.000000e+00   \n",
       "25%              3.888575e+04           0.000000e+00           0.000000e+00   \n",
       "50%              5.442150e+04           0.000000e+00           0.000000e+00   \n",
       "75%              7.512000e+04           1.464900e+04           2.492000e+04   \n",
       "max              1.088502e+07           4.542817e+06           9.520145e+06   \n",
       "\n",
       "       r6m_mphon_avg_arpu_amt  ...  rmonth_qat_chage_voc_cascnt  \\\n",
       "count            1.899960e+05  ...                189996.000000   \n",
       "mean             6.711043e+04  ...                     0.008769   \n",
       "std              8.402500e+04  ...                     0.105218   \n",
       "min              0.000000e+00  ...                     0.000000   \n",
       "25%              3.917300e+04  ...                     0.000000   \n",
       "50%              5.479300e+04  ...                     0.000000   \n",
       "75%              7.577350e+04  ...                     0.000000   \n",
       "max              1.088502e+07  ...                     7.000000   \n",
       "\n",
       "           voc_cnt_n  cont_sttus_chg_date_from_this_year  \\\n",
       "count  189996.000000                       189996.000000   \n",
       "mean        0.205889                            2.237426   \n",
       "std         0.611348                            2.277013   \n",
       "min         0.000000                            0.000000   \n",
       "25%         0.000000                            1.000000   \n",
       "50%         0.000000                            1.000000   \n",
       "75%         0.000000                            3.000000   \n",
       "max        10.000000                           10.000000   \n",
       "\n",
       "       now_chage_prod_sbsc_date_from_this_year  \\\n",
       "count                            189996.000000   \n",
       "mean                                  1.910167   \n",
       "std                                   1.578509   \n",
       "min                                   0.000000   \n",
       "25%                                   1.000000   \n",
       "50%                                   1.000000   \n",
       "75%                                   2.000000   \n",
       "max                                  10.000000   \n",
       "\n",
       "       accum_dt_stop_day_num_divide_10  accum_usst_day_num_divide_10  \\\n",
       "count                    189996.000000                 189996.000000   \n",
       "mean                          0.669967                      1.487547   \n",
       "std                           2.323624                      3.106180   \n",
       "min                           0.000000                      0.000000   \n",
       "25%                           0.000000                      0.000000   \n",
       "50%                           0.000000                      0.000000   \n",
       "75%                           0.000000                      1.000000   \n",
       "max                          10.000000                     10.000000   \n",
       "\n",
       "       svc_use_mons_num_divide_10    tm_npay_cnt    sm_npay_cnt  \\\n",
       "count               189996.000000  189996.000000  189996.000000   \n",
       "mean                     4.513879       0.141508       0.356913   \n",
       "std                      3.341180       0.564983       1.016734   \n",
       "min                      0.000000       0.000000       0.000000   \n",
       "25%                      2.000000       0.000000       0.000000   \n",
       "50%                      4.000000       0.000000       0.000000   \n",
       "75%                      7.000000       0.000000       0.000000   \n",
       "max                     10.000000      17.000000       7.000000   \n",
       "\n",
       "       sm_use_stop_cnt  \n",
       "count    189996.000000  \n",
       "mean          0.601139  \n",
       "std           1.144005  \n",
       "min           0.000000  \n",
       "25%           0.000000  \n",
       "50%           0.000000  \n",
       "75%           1.000000  \n",
       "max           7.000000  \n",
       "\n",
       "[8 rows x 40 columns]"
      ]
     },
     "execution_count": 107,
     "metadata": {},
     "output_type": "execute_result"
    }
   ],
   "source": [
    "total_merge_data3.describe()"
   ]
  },
  {
   "cell_type": "markdown",
   "metadata": {},
   "source": [
    "## \n",
    "## 12. 컬럼값의 범위가 너무 크게 차이나는 컬럼에 대해 log1p 스케일 적용"
   ]
  },
  {
   "cell_type": "code",
   "execution_count": 108,
   "metadata": {},
   "outputs": [
    {
     "name": "stdout",
     "output_type": "stream",
     "text": [
      "r3m_avg_bill_amt --> Min : 0,  Max : 5540115\n",
      "r3m_mphon_avg_arpu_amt --> Min : 0,  Max : 10885017\n",
      "r3m_iptv_avg_arpu_amt --> Min : 0,  Max : 4542817\n",
      "r3m_inet_avg_arpu_amt --> Min : 0,  Max : 9520145\n",
      "r6m_mphon_avg_arpu_amt --> Min : 0,  Max : 10885017\n",
      "r6m_iptv_avg_arpu_amt --> Min : 0,  Max : 1821796\n",
      "r6m_inet_avg_arpu_amt --> Min : 0,  Max : 3435917\n"
     ]
    }
   ],
   "source": [
    "cols = total_merge_data3.describe().columns\n",
    "\n",
    "for col in cols:\n",
    "    Max = total_merge_data3[col].max()\n",
    "    Min = total_merge_data3[col].min()\n",
    "    if Max - Min > 1000 :\n",
    "        print(f'{col} --> Min : {Min},  Max : {Max}')\n",
    "        total_merge_data3[col] = np.log1p(total_merge_data3[col])"
   ]
  },
  {
   "cell_type": "code",
   "execution_count": 109,
   "metadata": {},
   "outputs": [],
   "source": [
    "total_merge_data4 = total_merge_data3.copy()"
   ]
  },
  {
   "cell_type": "markdown",
   "metadata": {},
   "source": [
    "## \n",
    "## 13. Feature 늘려보자 : cnt, amt 다 더하고, 평균 구해보자"
   ]
  },
  {
   "cell_type": "code",
   "execution_count": 110,
   "metadata": {},
   "outputs": [],
   "source": [
    "col_list = total_merge_data4.columns.tolist()"
   ]
  },
  {
   "cell_type": "code",
   "execution_count": 111,
   "metadata": {},
   "outputs": [
    {
     "name": "stdout",
     "output_type": "stream",
     "text": [
      "CNT:  ['bill_rmny_npay_tms_itg_max_cnt_n', 'not_sufficient_cnt', 'npay_tms_cnt', 'recnt_icg_date_from_this_year', 'voc_tot_occ_cascnt_n', 'tm_npay_cnt', 'sm_npay_cnt', 'sm_use_stop_cnt']\n",
      "VOC:  ['voc_sbsc_inqr_cascnt_n', 'voc_data_qat_cascnt_n', 'voc_inqr_cascnt_n', 'voc_dscnt_cascnt_n', 'rmonth_qat_chage_voc_cascnt', 'voc_cnt_n']\n",
      "EFCT:  ['efct_mphon_sbsc_cascnt', 'efct_pstn_sbsc_cascnt', 'efct_inet_sbsc_cascnt', 'efct_iptv_sbsc_cascnt']\n",
      "AMT:  ['r3m_avg_bill_amt', 'r3m_mphon_avg_arpu_amt', 'r3m_iptv_avg_arpu_amt', 'r3m_inet_avg_arpu_amt', 'r6m_mphon_avg_arpu_amt', 'r6m_iptv_avg_arpu_amt', 'r6m_inet_avg_arpu_amt', 'npay_amt_sum_divide_10000', 'hndset_rmnd_insl_amt_divide_100000', 'hndset_tot_insl_amt_divide_100000', 'bfee_amt_divide_10000', 'rmonth_tot_bill_amt_divide_10000']\n"
     ]
    }
   ],
   "source": [
    "cnt_list = []\n",
    "voc_list = []\n",
    "efct_list = []\n",
    "amt_list = []\n",
    "for col in col_list:\n",
    "    if 'voc_' in col and col != 'voc_tot_occ_cascnt_n':\n",
    "        voc_list.append(col)\n",
    "    elif 'efct_' in col:\n",
    "        efct_list.append(col)\n",
    "    elif 'cnt' in col:\n",
    "        #print('CNT: ', col)\n",
    "        cnt_list.append(col)\n",
    "    elif 'amt' in col and col != 'r3m_avg_bill_amt_100000_over_yn_Y' and col != 'r3m_avg_bill_amt_100000_over_yn':\n",
    "        #print('CNT: ', col)\n",
    "        amt_list.append(col)    \n",
    "\n",
    "print('CNT: ', cnt_list)\n",
    "print('VOC: ', voc_list)\n",
    "print('EFCT: ', efct_list)\n",
    "print('AMT: ', amt_list)"
   ]
  },
  {
   "cell_type": "code",
   "execution_count": 112,
   "metadata": {},
   "outputs": [
    {
     "data": {
      "text/plain": [
       "(8, 6, 4, 12)"
      ]
     },
     "execution_count": 112,
     "metadata": {},
     "output_type": "execute_result"
    }
   ],
   "source": [
    "cnt_len = len(cnt_list)\n",
    "voc_len = len(voc_list)\n",
    "efct_len = len(efct_list)\n",
    "amt_len = len(amt_list)\n",
    "cnt_len, voc_len, efct_len, amt_len"
   ]
  },
  {
   "cell_type": "code",
   "execution_count": 113,
   "metadata": {},
   "outputs": [],
   "source": [
    "def nabbu_calc(row):\n",
    "    if row['hndset_tot_insl_mons_num'] != 0 :\n",
    "        return row['hndset_tot_insl_amt_divide_100000'] / row['hndset_tot_insl_mons_num']\n",
    "    else :\n",
    "        return 0"
   ]
  },
  {
   "cell_type": "code",
   "execution_count": 114,
   "metadata": {},
   "outputs": [],
   "source": [
    "total_merge_data4['NABBU_MONTH_MONEY'] = total_merge_data4.apply(nabbu_calc, axis=1)"
   ]
  },
  {
   "cell_type": "code",
   "execution_count": 115,
   "metadata": {},
   "outputs": [],
   "source": [
    "total_merge_data4['NABBU_MONTH'] = total_merge_data4['hndset_tot_insl_mons_num'] - total_merge_data4['hndset_rmnd_insl_mons_num']"
   ]
  },
  {
   "cell_type": "code",
   "execution_count": 116,
   "metadata": {},
   "outputs": [],
   "source": [
    "total_merge_data4['NABBU_TOTAL_MONEY'] = total_merge_data4['NABBU_MONTH'] * total_merge_data4['NABBU_MONTH_MONEY']"
   ]
  },
  {
   "cell_type": "code",
   "execution_count": 117,
   "metadata": {},
   "outputs": [],
   "source": [
    "total_merge_data4['R3M_AMT'] = total_merge_data4['r3m_mphon_avg_arpu_amt'] + total_merge_data4['r3m_iptv_avg_arpu_amt'] + total_merge_data4['r3m_inet_avg_arpu_amt']\n",
    "total_merge_data4['R6M_AMT'] = total_merge_data4['r6m_mphon_avg_arpu_amt'] + total_merge_data4['r6m_iptv_avg_arpu_amt'] + total_merge_data4['r6m_inet_avg_arpu_amt']\n",
    "\n",
    "total_merge_data4['R3M_AMT_ABG'] = total_merge_data4['R3M_AMT'] / 3\n",
    "total_merge_data4['R6M_AMT_AVG'] = total_merge_data4['R6M_AMT'] / 3"
   ]
  },
  {
   "cell_type": "code",
   "execution_count": 118,
   "metadata": {},
   "outputs": [],
   "source": [
    "total_merge_data4['UNUSE_STOP_DAY'] = total_merge_data4['accum_dt_stop_day_num_divide_10'] + total_merge_data4['accum_usst_day_num_divide_10']"
   ]
  },
  {
   "cell_type": "code",
   "execution_count": 119,
   "metadata": {},
   "outputs": [],
   "source": [
    "total_merge_data4['CNT'] = 0\n",
    "total_merge_data4['VOC'] = 0\n",
    "total_merge_data4['EFCT'] = 0\n",
    "total_merge_data4['AMT'] = 0\n",
    "\n",
    "for cnt in cnt_list:\n",
    "    #print(cnt)\n",
    "    total_merge_data4['CNT'] = total_merge_data4['CNT'] + total_merge_data4[cnt]\n",
    "\n",
    "for voc in voc_list:\n",
    "    #print(cnt)\n",
    "    total_merge_data4['VOC'] = total_merge_data4['VOC'] + total_merge_data4[voc]\n",
    "    \n",
    "for efct in efct_list:\n",
    "    #print(cnt)\n",
    "    total_merge_data4['EFCT'] = total_merge_data4['EFCT'] + total_merge_data4[efct]\n",
    "\n",
    "for amt in amt_list:\n",
    "    #print(cnt)\n",
    "    total_merge_data4['AMT'] = total_merge_data4['AMT'] + total_merge_data4[amt]    "
   ]
  },
  {
   "cell_type": "code",
   "execution_count": 120,
   "metadata": {},
   "outputs": [],
   "source": [
    "total_merge_data4['CNT_MEAN'] = total_merge_data4['CNT'] / cnt_len\n",
    "total_merge_data4['AMT_MEAN'] = total_merge_data4['AMT'] / amt_len"
   ]
  },
  {
   "cell_type": "code",
   "execution_count": 121,
   "metadata": {},
   "outputs": [
    {
     "name": "stdout",
     "output_type": "stream",
     "text": [
      "<class 'pandas.core.frame.DataFrame'>\n",
      "Int64Index: 189996 entries, 0 to 189999\n",
      "Data columns (total 71 columns):\n",
      " #   Column                                   Non-Null Count   Dtype  \n",
      "---  ------                                   --------------   -----  \n",
      " 0   id                                       189996 non-null  object \n",
      " 1   label_payment_yn                         189996 non-null  object \n",
      " 2   age_itg_cd                               189996 non-null  int64  \n",
      " 3   inet_sbsc_yn                             189996 non-null  object \n",
      " 4   iptv_sbsc_yn                             189996 non-null  object \n",
      " 5   efct_mphon_sbsc_cascnt                   189996 non-null  int64  \n",
      " 6   efct_pstn_sbsc_cascnt                    189996 non-null  int64  \n",
      " 7   efct_inet_sbsc_cascnt                    189996 non-null  int64  \n",
      " 8   efct_iptv_sbsc_cascnt                    189996 non-null  int64  \n",
      " 9   mphon_comb_yn                            189996 non-null  object \n",
      " 10  inet_comb_yn                             189996 non-null  object \n",
      " 11  iptv_comb_yn                             189996 non-null  object \n",
      " 12  npay_yn                                  189996 non-null  object \n",
      " 13  r3m_avg_bill_amt                         189996 non-null  float64\n",
      " 14  r6m_inet_pssn_comb_yn                    189996 non-null  object \n",
      " 15  r6m_iptv_pssn_comb_yn                    189996 non-null  object \n",
      " 16  r3m_mphon_avg_arpu_amt                   189996 non-null  float64\n",
      " 17  r3m_iptv_avg_arpu_amt                    189996 non-null  float64\n",
      " 18  r3m_inet_avg_arpu_amt                    189996 non-null  float64\n",
      " 19  r6m_mphon_avg_arpu_amt                   189996 non-null  float64\n",
      " 20  r6m_iptv_avg_arpu_amt                    189996 non-null  float64\n",
      " 21  r6m_inet_avg_arpu_amt                    189996 non-null  float64\n",
      " 22  bill_rmny_npay_tms_itg_max_cnt_n         189996 non-null  int64  \n",
      " 23  bill_rmny_npay_tms_itg_cd                189996 non-null  int64  \n",
      " 24  npay_amt_sum_divide_10000                189996 non-null  int64  \n",
      " 25  not_sufficient_cnt                       189996 non-null  int64  \n",
      " 26  pay_way_nm                               189996 non-null  object \n",
      " 27  acrnd_dsp_meth_nm                        189996 non-null  object \n",
      " 28  npay_tms_cnt                             189996 non-null  int64  \n",
      " 29  bprod_lctg_nm                            189996 non-null  object \n",
      " 30  wless_terml_gun_div_nm                   189996 non-null  object \n",
      " 31  wless_terml_gun_div_type                 189996 non-null  int64  \n",
      " 32  recnt_icg_date_from_this_year            189996 non-null  int64  \n",
      " 33  hndset_rmnd_insl_mons_num                189996 non-null  int64  \n",
      " 34  hndset_rmnd_insl_amt_divide_100000       189996 non-null  int64  \n",
      " 35  hndset_rmnd_insl_mons_yn                 189996 non-null  object \n",
      " 36  hndset_tot_insl_amt_divide_100000        189996 non-null  int64  \n",
      " 37  hndset_tot_insl_mons_num                 189996 non-null  int64  \n",
      " 38  bfee_amt_divide_10000                    189996 non-null  int64  \n",
      " 39  rmonth_tot_bill_amt_divide_10000         189996 non-null  int64  \n",
      " 40  r3m_avg_bill_amt_100000_over_yn          189996 non-null  object \n",
      " 41  voc_sbsc_inqr_cascnt_n                   189996 non-null  int64  \n",
      " 42  voc_data_qat_cascnt_n                    189996 non-null  int64  \n",
      " 43  voc_inqr_cascnt_n                        189996 non-null  int64  \n",
      " 44  voc_dscnt_cascnt_n                       189996 non-null  int64  \n",
      " 45  voc_tot_occ_cascnt_n                     189996 non-null  int64  \n",
      " 46  rmonth_qat_chage_voc_cascnt              189996 non-null  int64  \n",
      " 47  voc_cnt_n                                189996 non-null  int64  \n",
      " 48  cont_sttus_chg_date_from_this_year       189996 non-null  int64  \n",
      " 49  now_chage_prod_sbsc_date_from_this_year  189996 non-null  int64  \n",
      " 50  accum_dt_stop_day_num_divide_10          189996 non-null  int64  \n",
      " 51  accum_usst_day_num_divide_10             189996 non-null  int64  \n",
      " 52  svc_use_mons_num_divide_10               189996 non-null  int64  \n",
      " 53  insur_prod_sbsc_yn                       189996 non-null  object \n",
      " 54  tm_npay_cnt                              189996 non-null  float64\n",
      " 55  sm_npay_cnt                              189996 non-null  float64\n",
      " 56  sm_use_stop_cnt                          189996 non-null  float64\n",
      " 57  NABBU_MONTH_MONEY                        189996 non-null  float64\n",
      " 58  NABBU_MONTH                              189996 non-null  int64  \n",
      " 59  NABBU_TOTAL_MONEY                        189996 non-null  float64\n",
      " 60  R3M_AMT                                  189996 non-null  float64\n",
      " 61  R6M_AMT                                  189996 non-null  float64\n",
      " 62  R3M_AMT_ABG                              189996 non-null  float64\n",
      " 63  R6M_AMT_AVG                              189996 non-null  float64\n",
      " 64  UNUSE_STOP_DAY                           189996 non-null  int64  \n",
      " 65  CNT                                      189996 non-null  float64\n",
      " 66  VOC                                      189996 non-null  int64  \n",
      " 67  EFCT                                     189996 non-null  int64  \n",
      " 68  AMT                                      189996 non-null  float64\n",
      " 69  CNT_MEAN                                 189996 non-null  float64\n",
      " 70  AMT_MEAN                                 189996 non-null  float64\n",
      "dtypes: float64(20), int64(34), object(17)\n",
      "memory usage: 104.4+ MB\n"
     ]
    }
   ],
   "source": [
    "total_merge_data4.info()"
   ]
  },
  {
   "cell_type": "markdown",
   "metadata": {},
   "source": [
    "## \n",
    "## 14. 문자형 컬럼을 One-Hot-Encoding"
   ]
  },
  {
   "cell_type": "code",
   "execution_count": 122,
   "metadata": {},
   "outputs": [
    {
     "data": {
      "text/plain": [
       "0    100000\n",
       "N     45482\n",
       "Y     44514\n",
       "Name: label_payment_yn, dtype: int64"
      ]
     },
     "execution_count": 122,
     "metadata": {},
     "output_type": "execute_result"
    }
   ],
   "source": [
    "total_merge_data4['label_payment_yn'].value_counts()"
   ]
  },
  {
   "cell_type": "code",
   "execution_count": 123,
   "metadata": {},
   "outputs": [
    {
     "data": {
      "text/plain": [
       "71"
      ]
     },
     "execution_count": 123,
     "metadata": {},
     "output_type": "execute_result"
    }
   ],
   "source": [
    "len(total_merge_data4.columns)"
   ]
  },
  {
   "cell_type": "code",
   "execution_count": 124,
   "metadata": {},
   "outputs": [
    {
     "data": {
      "text/plain": [
       "['id',\n",
       " 'label_payment_yn',\n",
       " 'inet_sbsc_yn',\n",
       " 'iptv_sbsc_yn',\n",
       " 'mphon_comb_yn',\n",
       " 'inet_comb_yn',\n",
       " 'iptv_comb_yn',\n",
       " 'npay_yn',\n",
       " 'r6m_inet_pssn_comb_yn',\n",
       " 'r6m_iptv_pssn_comb_yn',\n",
       " 'pay_way_nm',\n",
       " 'acrnd_dsp_meth_nm',\n",
       " 'bprod_lctg_nm',\n",
       " 'wless_terml_gun_div_nm',\n",
       " 'hndset_rmnd_insl_mons_yn',\n",
       " 'r3m_avg_bill_amt_100000_over_yn',\n",
       " 'insur_prod_sbsc_yn']"
      ]
     },
     "execution_count": 124,
     "metadata": {},
     "output_type": "execute_result"
    }
   ],
   "source": [
    "# total_merge_data4 데이터에서 int 컬럼 발췌\n",
    "obj_cols = total_merge_data4.columns[total_merge_data4.dtypes == 'object'].to_list()\n",
    "obj_cols"
   ]
  },
  {
   "cell_type": "code",
   "execution_count": 125,
   "metadata": {},
   "outputs": [
    {
     "data": {
      "text/plain": [
       "['npay_yn',\n",
       " 'inet_sbsc_yn',\n",
       " 'iptv_comb_yn',\n",
       " 'r6m_iptv_pssn_comb_yn',\n",
       " 'r3m_avg_bill_amt_100000_over_yn',\n",
       " 'iptv_sbsc_yn',\n",
       " 'hndset_rmnd_insl_mons_yn',\n",
       " 'bprod_lctg_nm',\n",
       " 'acrnd_dsp_meth_nm',\n",
       " 'pay_way_nm',\n",
       " 'r6m_inet_pssn_comb_yn',\n",
       " 'mphon_comb_yn',\n",
       " 'inet_comb_yn',\n",
       " 'wless_terml_gun_div_nm',\n",
       " 'insur_prod_sbsc_yn']"
      ]
     },
     "execution_count": 125,
     "metadata": {},
     "output_type": "execute_result"
    }
   ],
   "source": [
    "obj_cols = list(set(obj_cols) - set(['id','label_payment_yn']))\n",
    "obj_cols"
   ]
  },
  {
   "cell_type": "code",
   "execution_count": 126,
   "metadata": {},
   "outputs": [
    {
     "data": {
      "text/html": [
       "<div>\n",
       "<style scoped>\n",
       "    .dataframe tbody tr th:only-of-type {\n",
       "        vertical-align: middle;\n",
       "    }\n",
       "\n",
       "    .dataframe tbody tr th {\n",
       "        vertical-align: top;\n",
       "    }\n",
       "\n",
       "    .dataframe thead th {\n",
       "        text-align: right;\n",
       "    }\n",
       "</style>\n",
       "<table border=\"1\" class=\"dataframe\">\n",
       "  <thead>\n",
       "    <tr style=\"text-align: right;\">\n",
       "      <th></th>\n",
       "      <th>id</th>\n",
       "      <th>label_payment_yn</th>\n",
       "      <th>age_itg_cd</th>\n",
       "      <th>efct_mphon_sbsc_cascnt</th>\n",
       "      <th>efct_pstn_sbsc_cascnt</th>\n",
       "      <th>efct_inet_sbsc_cascnt</th>\n",
       "      <th>efct_iptv_sbsc_cascnt</th>\n",
       "      <th>r3m_avg_bill_amt</th>\n",
       "      <th>r3m_mphon_avg_arpu_amt</th>\n",
       "      <th>r3m_iptv_avg_arpu_amt</th>\n",
       "      <th>...</th>\n",
       "      <th>acrnd_dsp_meth_nm_모바일</th>\n",
       "      <th>acrnd_dsp_meth_nm_스마트(앱)</th>\n",
       "      <th>pay_way_nm_은행계좌 자동이체</th>\n",
       "      <th>pay_way_nm_지로</th>\n",
       "      <th>r6m_inet_pssn_comb_yn_Y</th>\n",
       "      <th>mphon_comb_yn_Y</th>\n",
       "      <th>inet_comb_yn_Y</th>\n",
       "      <th>wless_terml_gun_div_nm_LTE스마트폰</th>\n",
       "      <th>wless_terml_gun_div_nm_기타</th>\n",
       "      <th>insur_prod_sbsc_yn_Y</th>\n",
       "    </tr>\n",
       "  </thead>\n",
       "  <tbody>\n",
       "    <tr>\n",
       "      <th>0</th>\n",
       "      <td>ED1000001</td>\n",
       "      <td>N</td>\n",
       "      <td>76</td>\n",
       "      <td>1</td>\n",
       "      <td>0</td>\n",
       "      <td>0</td>\n",
       "      <td>0</td>\n",
       "      <td>11.858131</td>\n",
       "      <td>10.200067</td>\n",
       "      <td>0.000000</td>\n",
       "      <td>...</td>\n",
       "      <td>0</td>\n",
       "      <td>1</td>\n",
       "      <td>0</td>\n",
       "      <td>0</td>\n",
       "      <td>0</td>\n",
       "      <td>1</td>\n",
       "      <td>0</td>\n",
       "      <td>1</td>\n",
       "      <td>0</td>\n",
       "      <td>0</td>\n",
       "    </tr>\n",
       "    <tr>\n",
       "      <th>1</th>\n",
       "      <td>ED1000002</td>\n",
       "      <td>N</td>\n",
       "      <td>71</td>\n",
       "      <td>0</td>\n",
       "      <td>0</td>\n",
       "      <td>0</td>\n",
       "      <td>0</td>\n",
       "      <td>11.064010</td>\n",
       "      <td>10.877066</td>\n",
       "      <td>0.000000</td>\n",
       "      <td>...</td>\n",
       "      <td>1</td>\n",
       "      <td>0</td>\n",
       "      <td>0</td>\n",
       "      <td>1</td>\n",
       "      <td>0</td>\n",
       "      <td>0</td>\n",
       "      <td>0</td>\n",
       "      <td>0</td>\n",
       "      <td>0</td>\n",
       "      <td>1</td>\n",
       "    </tr>\n",
       "    <tr>\n",
       "      <th>2</th>\n",
       "      <td>ED1000003</td>\n",
       "      <td>N</td>\n",
       "      <td>21</td>\n",
       "      <td>0</td>\n",
       "      <td>0</td>\n",
       "      <td>0</td>\n",
       "      <td>0</td>\n",
       "      <td>11.366789</td>\n",
       "      <td>10.868416</td>\n",
       "      <td>0.000000</td>\n",
       "      <td>...</td>\n",
       "      <td>1</td>\n",
       "      <td>0</td>\n",
       "      <td>0</td>\n",
       "      <td>1</td>\n",
       "      <td>0</td>\n",
       "      <td>1</td>\n",
       "      <td>1</td>\n",
       "      <td>0</td>\n",
       "      <td>0</td>\n",
       "      <td>1</td>\n",
       "    </tr>\n",
       "    <tr>\n",
       "      <th>3</th>\n",
       "      <td>ED1000004</td>\n",
       "      <td>N</td>\n",
       "      <td>61</td>\n",
       "      <td>1</td>\n",
       "      <td>0</td>\n",
       "      <td>1</td>\n",
       "      <td>1</td>\n",
       "      <td>12.329250</td>\n",
       "      <td>10.924841</td>\n",
       "      <td>6.184149</td>\n",
       "      <td>...</td>\n",
       "      <td>1</td>\n",
       "      <td>0</td>\n",
       "      <td>1</td>\n",
       "      <td>0</td>\n",
       "      <td>1</td>\n",
       "      <td>1</td>\n",
       "      <td>1</td>\n",
       "      <td>0</td>\n",
       "      <td>0</td>\n",
       "      <td>1</td>\n",
       "    </tr>\n",
       "    <tr>\n",
       "      <th>4</th>\n",
       "      <td>ED1000005</td>\n",
       "      <td>Y</td>\n",
       "      <td>28</td>\n",
       "      <td>0</td>\n",
       "      <td>0</td>\n",
       "      <td>0</td>\n",
       "      <td>0</td>\n",
       "      <td>11.394547</td>\n",
       "      <td>10.624201</td>\n",
       "      <td>0.000000</td>\n",
       "      <td>...</td>\n",
       "      <td>1</td>\n",
       "      <td>0</td>\n",
       "      <td>0</td>\n",
       "      <td>1</td>\n",
       "      <td>0</td>\n",
       "      <td>1</td>\n",
       "      <td>1</td>\n",
       "      <td>0</td>\n",
       "      <td>0</td>\n",
       "      <td>0</td>\n",
       "    </tr>\n",
       "    <tr>\n",
       "      <th>...</th>\n",
       "      <td>...</td>\n",
       "      <td>...</td>\n",
       "      <td>...</td>\n",
       "      <td>...</td>\n",
       "      <td>...</td>\n",
       "      <td>...</td>\n",
       "      <td>...</td>\n",
       "      <td>...</td>\n",
       "      <td>...</td>\n",
       "      <td>...</td>\n",
       "      <td>...</td>\n",
       "      <td>...</td>\n",
       "      <td>...</td>\n",
       "      <td>...</td>\n",
       "      <td>...</td>\n",
       "      <td>...</td>\n",
       "      <td>...</td>\n",
       "      <td>...</td>\n",
       "      <td>...</td>\n",
       "      <td>...</td>\n",
       "      <td>...</td>\n",
       "    </tr>\n",
       "    <tr>\n",
       "      <th>189995</th>\n",
       "      <td>TD1099996</td>\n",
       "      <td>0</td>\n",
       "      <td>44</td>\n",
       "      <td>0</td>\n",
       "      <td>0</td>\n",
       "      <td>0</td>\n",
       "      <td>0</td>\n",
       "      <td>11.269171</td>\n",
       "      <td>11.254595</td>\n",
       "      <td>0.000000</td>\n",
       "      <td>...</td>\n",
       "      <td>1</td>\n",
       "      <td>0</td>\n",
       "      <td>0</td>\n",
       "      <td>1</td>\n",
       "      <td>0</td>\n",
       "      <td>0</td>\n",
       "      <td>0</td>\n",
       "      <td>1</td>\n",
       "      <td>0</td>\n",
       "      <td>0</td>\n",
       "    </tr>\n",
       "    <tr>\n",
       "      <th>189996</th>\n",
       "      <td>TD1099997</td>\n",
       "      <td>0</td>\n",
       "      <td>53</td>\n",
       "      <td>0</td>\n",
       "      <td>1</td>\n",
       "      <td>1</td>\n",
       "      <td>1</td>\n",
       "      <td>11.600011</td>\n",
       "      <td>0.000000</td>\n",
       "      <td>10.580556</td>\n",
       "      <td>...</td>\n",
       "      <td>0</td>\n",
       "      <td>0</td>\n",
       "      <td>1</td>\n",
       "      <td>0</td>\n",
       "      <td>1</td>\n",
       "      <td>0</td>\n",
       "      <td>1</td>\n",
       "      <td>0</td>\n",
       "      <td>1</td>\n",
       "      <td>0</td>\n",
       "    </tr>\n",
       "    <tr>\n",
       "      <th>189997</th>\n",
       "      <td>TD1099998</td>\n",
       "      <td>0</td>\n",
       "      <td>49</td>\n",
       "      <td>0</td>\n",
       "      <td>2</td>\n",
       "      <td>0</td>\n",
       "      <td>0</td>\n",
       "      <td>12.061307</td>\n",
       "      <td>11.215597</td>\n",
       "      <td>0.000000</td>\n",
       "      <td>...</td>\n",
       "      <td>1</td>\n",
       "      <td>0</td>\n",
       "      <td>0</td>\n",
       "      <td>0</td>\n",
       "      <td>1</td>\n",
       "      <td>0</td>\n",
       "      <td>0</td>\n",
       "      <td>1</td>\n",
       "      <td>0</td>\n",
       "      <td>1</td>\n",
       "    </tr>\n",
       "    <tr>\n",
       "      <th>189998</th>\n",
       "      <td>TD1099999</td>\n",
       "      <td>0</td>\n",
       "      <td>18</td>\n",
       "      <td>1</td>\n",
       "      <td>0</td>\n",
       "      <td>0</td>\n",
       "      <td>0</td>\n",
       "      <td>11.568965</td>\n",
       "      <td>10.905075</td>\n",
       "      <td>0.000000</td>\n",
       "      <td>...</td>\n",
       "      <td>1</td>\n",
       "      <td>0</td>\n",
       "      <td>0</td>\n",
       "      <td>0</td>\n",
       "      <td>0</td>\n",
       "      <td>1</td>\n",
       "      <td>1</td>\n",
       "      <td>0</td>\n",
       "      <td>0</td>\n",
       "      <td>1</td>\n",
       "    </tr>\n",
       "    <tr>\n",
       "      <th>189999</th>\n",
       "      <td>TD1100000</td>\n",
       "      <td>0</td>\n",
       "      <td>53</td>\n",
       "      <td>1</td>\n",
       "      <td>0</td>\n",
       "      <td>0</td>\n",
       "      <td>0</td>\n",
       "      <td>10.429517</td>\n",
       "      <td>10.425253</td>\n",
       "      <td>0.000000</td>\n",
       "      <td>...</td>\n",
       "      <td>0</td>\n",
       "      <td>1</td>\n",
       "      <td>1</td>\n",
       "      <td>0</td>\n",
       "      <td>0</td>\n",
       "      <td>1</td>\n",
       "      <td>1</td>\n",
       "      <td>1</td>\n",
       "      <td>0</td>\n",
       "      <td>0</td>\n",
       "    </tr>\n",
       "  </tbody>\n",
       "</table>\n",
       "<p>189996 rows × 75 columns</p>\n",
       "</div>"
      ],
      "text/plain": [
       "               id label_payment_yn  age_itg_cd  efct_mphon_sbsc_cascnt  \\\n",
       "0       ED1000001                N          76                       1   \n",
       "1       ED1000002                N          71                       0   \n",
       "2       ED1000003                N          21                       0   \n",
       "3       ED1000004                N          61                       1   \n",
       "4       ED1000005                Y          28                       0   \n",
       "...           ...              ...         ...                     ...   \n",
       "189995  TD1099996                0          44                       0   \n",
       "189996  TD1099997                0          53                       0   \n",
       "189997  TD1099998                0          49                       0   \n",
       "189998  TD1099999                0          18                       1   \n",
       "189999  TD1100000                0          53                       1   \n",
       "\n",
       "        efct_pstn_sbsc_cascnt  efct_inet_sbsc_cascnt  efct_iptv_sbsc_cascnt  \\\n",
       "0                           0                      0                      0   \n",
       "1                           0                      0                      0   \n",
       "2                           0                      0                      0   \n",
       "3                           0                      1                      1   \n",
       "4                           0                      0                      0   \n",
       "...                       ...                    ...                    ...   \n",
       "189995                      0                      0                      0   \n",
       "189996                      1                      1                      1   \n",
       "189997                      2                      0                      0   \n",
       "189998                      0                      0                      0   \n",
       "189999                      0                      0                      0   \n",
       "\n",
       "        r3m_avg_bill_amt  r3m_mphon_avg_arpu_amt  r3m_iptv_avg_arpu_amt  ...  \\\n",
       "0              11.858131               10.200067               0.000000  ...   \n",
       "1              11.064010               10.877066               0.000000  ...   \n",
       "2              11.366789               10.868416               0.000000  ...   \n",
       "3              12.329250               10.924841               6.184149  ...   \n",
       "4              11.394547               10.624201               0.000000  ...   \n",
       "...                  ...                     ...                    ...  ...   \n",
       "189995         11.269171               11.254595               0.000000  ...   \n",
       "189996         11.600011                0.000000              10.580556  ...   \n",
       "189997         12.061307               11.215597               0.000000  ...   \n",
       "189998         11.568965               10.905075               0.000000  ...   \n",
       "189999         10.429517               10.425253               0.000000  ...   \n",
       "\n",
       "        acrnd_dsp_meth_nm_모바일  acrnd_dsp_meth_nm_스마트(앱)  pay_way_nm_은행계좌 자동이체  \\\n",
       "0                           0                         1                     0   \n",
       "1                           1                         0                     0   \n",
       "2                           1                         0                     0   \n",
       "3                           1                         0                     1   \n",
       "4                           1                         0                     0   \n",
       "...                       ...                       ...                   ...   \n",
       "189995                      1                         0                     0   \n",
       "189996                      0                         0                     1   \n",
       "189997                      1                         0                     0   \n",
       "189998                      1                         0                     0   \n",
       "189999                      0                         1                     1   \n",
       "\n",
       "        pay_way_nm_지로  r6m_inet_pssn_comb_yn_Y  mphon_comb_yn_Y  \\\n",
       "0                   0                        0                1   \n",
       "1                   1                        0                0   \n",
       "2                   1                        0                1   \n",
       "3                   0                        1                1   \n",
       "4                   1                        0                1   \n",
       "...               ...                      ...              ...   \n",
       "189995              1                        0                0   \n",
       "189996              0                        1                0   \n",
       "189997              0                        1                0   \n",
       "189998              0                        0                1   \n",
       "189999              0                        0                1   \n",
       "\n",
       "        inet_comb_yn_Y  wless_terml_gun_div_nm_LTE스마트폰  \\\n",
       "0                    0                               1   \n",
       "1                    0                               0   \n",
       "2                    1                               0   \n",
       "3                    1                               0   \n",
       "4                    1                               0   \n",
       "...                ...                             ...   \n",
       "189995               0                               1   \n",
       "189996               1                               0   \n",
       "189997               0                               1   \n",
       "189998               1                               0   \n",
       "189999               1                               1   \n",
       "\n",
       "        wless_terml_gun_div_nm_기타  insur_prod_sbsc_yn_Y  \n",
       "0                               0                     0  \n",
       "1                               0                     1  \n",
       "2                               0                     1  \n",
       "3                               0                     1  \n",
       "4                               0                     0  \n",
       "...                           ...                   ...  \n",
       "189995                          0                     0  \n",
       "189996                          1                     0  \n",
       "189997                          0                     1  \n",
       "189998                          0                     1  \n",
       "189999                          0                     0  \n",
       "\n",
       "[189996 rows x 75 columns]"
      ]
     },
     "execution_count": 126,
     "metadata": {},
     "output_type": "execute_result"
    }
   ],
   "source": [
    "total_merge_data4 = pd.get_dummies(data=total_merge_data4, columns=obj_cols, drop_first=True)\n",
    "total_merge_data4"
   ]
  },
  {
   "cell_type": "code",
   "execution_count": 127,
   "metadata": {},
   "outputs": [
    {
     "name": "stdout",
     "output_type": "stream",
     "text": [
      "<class 'pandas.core.frame.DataFrame'>\n",
      "Int64Index: 189996 entries, 0 to 189999\n",
      "Data columns (total 75 columns):\n",
      " #   Column                                   Non-Null Count   Dtype  \n",
      "---  ------                                   --------------   -----  \n",
      " 0   id                                       189996 non-null  object \n",
      " 1   label_payment_yn                         189996 non-null  object \n",
      " 2   age_itg_cd                               189996 non-null  int64  \n",
      " 3   efct_mphon_sbsc_cascnt                   189996 non-null  int64  \n",
      " 4   efct_pstn_sbsc_cascnt                    189996 non-null  int64  \n",
      " 5   efct_inet_sbsc_cascnt                    189996 non-null  int64  \n",
      " 6   efct_iptv_sbsc_cascnt                    189996 non-null  int64  \n",
      " 7   r3m_avg_bill_amt                         189996 non-null  float64\n",
      " 8   r3m_mphon_avg_arpu_amt                   189996 non-null  float64\n",
      " 9   r3m_iptv_avg_arpu_amt                    189996 non-null  float64\n",
      " 10  r3m_inet_avg_arpu_amt                    189996 non-null  float64\n",
      " 11  r6m_mphon_avg_arpu_amt                   189996 non-null  float64\n",
      " 12  r6m_iptv_avg_arpu_amt                    189996 non-null  float64\n",
      " 13  r6m_inet_avg_arpu_amt                    189996 non-null  float64\n",
      " 14  bill_rmny_npay_tms_itg_max_cnt_n         189996 non-null  int64  \n",
      " 15  bill_rmny_npay_tms_itg_cd                189996 non-null  int64  \n",
      " 16  npay_amt_sum_divide_10000                189996 non-null  int64  \n",
      " 17  not_sufficient_cnt                       189996 non-null  int64  \n",
      " 18  npay_tms_cnt                             189996 non-null  int64  \n",
      " 19  wless_terml_gun_div_type                 189996 non-null  int64  \n",
      " 20  recnt_icg_date_from_this_year            189996 non-null  int64  \n",
      " 21  hndset_rmnd_insl_mons_num                189996 non-null  int64  \n",
      " 22  hndset_rmnd_insl_amt_divide_100000       189996 non-null  int64  \n",
      " 23  hndset_tot_insl_amt_divide_100000        189996 non-null  int64  \n",
      " 24  hndset_tot_insl_mons_num                 189996 non-null  int64  \n",
      " 25  bfee_amt_divide_10000                    189996 non-null  int64  \n",
      " 26  rmonth_tot_bill_amt_divide_10000         189996 non-null  int64  \n",
      " 27  voc_sbsc_inqr_cascnt_n                   189996 non-null  int64  \n",
      " 28  voc_data_qat_cascnt_n                    189996 non-null  int64  \n",
      " 29  voc_inqr_cascnt_n                        189996 non-null  int64  \n",
      " 30  voc_dscnt_cascnt_n                       189996 non-null  int64  \n",
      " 31  voc_tot_occ_cascnt_n                     189996 non-null  int64  \n",
      " 32  rmonth_qat_chage_voc_cascnt              189996 non-null  int64  \n",
      " 33  voc_cnt_n                                189996 non-null  int64  \n",
      " 34  cont_sttus_chg_date_from_this_year       189996 non-null  int64  \n",
      " 35  now_chage_prod_sbsc_date_from_this_year  189996 non-null  int64  \n",
      " 36  accum_dt_stop_day_num_divide_10          189996 non-null  int64  \n",
      " 37  accum_usst_day_num_divide_10             189996 non-null  int64  \n",
      " 38  svc_use_mons_num_divide_10               189996 non-null  int64  \n",
      " 39  tm_npay_cnt                              189996 non-null  float64\n",
      " 40  sm_npay_cnt                              189996 non-null  float64\n",
      " 41  sm_use_stop_cnt                          189996 non-null  float64\n",
      " 42  NABBU_MONTH_MONEY                        189996 non-null  float64\n",
      " 43  NABBU_MONTH                              189996 non-null  int64  \n",
      " 44  NABBU_TOTAL_MONEY                        189996 non-null  float64\n",
      " 45  R3M_AMT                                  189996 non-null  float64\n",
      " 46  R6M_AMT                                  189996 non-null  float64\n",
      " 47  R3M_AMT_ABG                              189996 non-null  float64\n",
      " 48  R6M_AMT_AVG                              189996 non-null  float64\n",
      " 49  UNUSE_STOP_DAY                           189996 non-null  int64  \n",
      " 50  CNT                                      189996 non-null  float64\n",
      " 51  VOC                                      189996 non-null  int64  \n",
      " 52  EFCT                                     189996 non-null  int64  \n",
      " 53  AMT                                      189996 non-null  float64\n",
      " 54  CNT_MEAN                                 189996 non-null  float64\n",
      " 55  AMT_MEAN                                 189996 non-null  float64\n",
      " 56  npay_yn_Y                                189996 non-null  uint8  \n",
      " 57  inet_sbsc_yn_Y                           189996 non-null  uint8  \n",
      " 58  iptv_comb_yn_Y                           189996 non-null  uint8  \n",
      " 59  r6m_iptv_pssn_comb_yn_Y                  189996 non-null  uint8  \n",
      " 60  r3m_avg_bill_amt_100000_over_yn_Y        189996 non-null  uint8  \n",
      " 61  iptv_sbsc_yn_Y                           189996 non-null  uint8  \n",
      " 62  hndset_rmnd_insl_mons_yn_Y               189996 non-null  uint8  \n",
      " 63  bprod_lctg_nm_LTE                        189996 non-null  uint8  \n",
      " 64  bprod_lctg_nm_기타                         189996 non-null  uint8  \n",
      " 65  acrnd_dsp_meth_nm_모바일                    189996 non-null  uint8  \n",
      " 66  acrnd_dsp_meth_nm_스마트(앱)                 189996 non-null  uint8  \n",
      " 67  pay_way_nm_은행계좌 자동이체                     189996 non-null  uint8  \n",
      " 68  pay_way_nm_지로                            189996 non-null  uint8  \n",
      " 69  r6m_inet_pssn_comb_yn_Y                  189996 non-null  uint8  \n",
      " 70  mphon_comb_yn_Y                          189996 non-null  uint8  \n",
      " 71  inet_comb_yn_Y                           189996 non-null  uint8  \n",
      " 72  wless_terml_gun_div_nm_LTE스마트폰           189996 non-null  uint8  \n",
      " 73  wless_terml_gun_div_nm_기타                189996 non-null  uint8  \n",
      " 74  insur_prod_sbsc_yn_Y                     189996 non-null  uint8  \n",
      "dtypes: float64(20), int64(34), object(2), uint8(19)\n",
      "memory usage: 86.1+ MB\n"
     ]
    }
   ],
   "source": [
    "total_merge_data4.info()"
   ]
  },
  {
   "cell_type": "markdown",
   "metadata": {},
   "source": [
    "# \n",
    "# Train , Test 분리 "
   ]
  },
  {
   "cell_type": "code",
   "execution_count": 128,
   "metadata": {},
   "outputs": [
    {
     "data": {
      "text/plain": [
       "0    100000\n",
       "N     45482\n",
       "Y     44514\n",
       "Name: label_payment_yn, dtype: int64"
      ]
     },
     "execution_count": 128,
     "metadata": {},
     "output_type": "execute_result"
    }
   ],
   "source": [
    "total_merge_data4['label_payment_yn'].value_counts()"
   ]
  },
  {
   "cell_type": "code",
   "execution_count": 129,
   "metadata": {},
   "outputs": [],
   "source": [
    "train_cond = (total_merge_data4['label_payment_yn'] != 0)"
   ]
  },
  {
   "cell_type": "code",
   "execution_count": 130,
   "metadata": {},
   "outputs": [],
   "source": [
    "final_data = total_merge_data4[train_cond]"
   ]
  },
  {
   "cell_type": "code",
   "execution_count": 131,
   "metadata": {},
   "outputs": [
    {
     "data": {
      "text/plain": [
       "(89996, 75)"
      ]
     },
     "execution_count": 131,
     "metadata": {},
     "output_type": "execute_result"
    }
   ],
   "source": [
    "final_data.shape"
   ]
  },
  {
   "cell_type": "code",
   "execution_count": 132,
   "metadata": {},
   "outputs": [],
   "source": [
    "final_data = final_data.drop(['id'], axis=1)"
   ]
  },
  {
   "cell_type": "code",
   "execution_count": 133,
   "metadata": {},
   "outputs": [
    {
     "data": {
      "text/plain": [
       "(89996, 74)"
      ]
     },
     "execution_count": 133,
     "metadata": {},
     "output_type": "execute_result"
    }
   ],
   "source": [
    "final_data.shape"
   ]
  },
  {
   "cell_type": "code",
   "execution_count": 134,
   "metadata": {},
   "outputs": [],
   "source": [
    "final_data = pd.get_dummies(data=final_data, columns=['label_payment_yn'], drop_first=True)"
   ]
  },
  {
   "cell_type": "code",
   "execution_count": 135,
   "metadata": {},
   "outputs": [
    {
     "name": "stdout",
     "output_type": "stream",
     "text": [
      "<class 'pandas.core.frame.DataFrame'>\n",
      "Int64Index: 89996 entries, 0 to 89999\n",
      "Data columns (total 74 columns):\n",
      " #   Column                                   Non-Null Count  Dtype  \n",
      "---  ------                                   --------------  -----  \n",
      " 0   age_itg_cd                               89996 non-null  int64  \n",
      " 1   efct_mphon_sbsc_cascnt                   89996 non-null  int64  \n",
      " 2   efct_pstn_sbsc_cascnt                    89996 non-null  int64  \n",
      " 3   efct_inet_sbsc_cascnt                    89996 non-null  int64  \n",
      " 4   efct_iptv_sbsc_cascnt                    89996 non-null  int64  \n",
      " 5   r3m_avg_bill_amt                         89996 non-null  float64\n",
      " 6   r3m_mphon_avg_arpu_amt                   89996 non-null  float64\n",
      " 7   r3m_iptv_avg_arpu_amt                    89996 non-null  float64\n",
      " 8   r3m_inet_avg_arpu_amt                    89996 non-null  float64\n",
      " 9   r6m_mphon_avg_arpu_amt                   89996 non-null  float64\n",
      " 10  r6m_iptv_avg_arpu_amt                    89996 non-null  float64\n",
      " 11  r6m_inet_avg_arpu_amt                    89996 non-null  float64\n",
      " 12  bill_rmny_npay_tms_itg_max_cnt_n         89996 non-null  int64  \n",
      " 13  bill_rmny_npay_tms_itg_cd                89996 non-null  int64  \n",
      " 14  npay_amt_sum_divide_10000                89996 non-null  int64  \n",
      " 15  not_sufficient_cnt                       89996 non-null  int64  \n",
      " 16  npay_tms_cnt                             89996 non-null  int64  \n",
      " 17  wless_terml_gun_div_type                 89996 non-null  int64  \n",
      " 18  recnt_icg_date_from_this_year            89996 non-null  int64  \n",
      " 19  hndset_rmnd_insl_mons_num                89996 non-null  int64  \n",
      " 20  hndset_rmnd_insl_amt_divide_100000       89996 non-null  int64  \n",
      " 21  hndset_tot_insl_amt_divide_100000        89996 non-null  int64  \n",
      " 22  hndset_tot_insl_mons_num                 89996 non-null  int64  \n",
      " 23  bfee_amt_divide_10000                    89996 non-null  int64  \n",
      " 24  rmonth_tot_bill_amt_divide_10000         89996 non-null  int64  \n",
      " 25  voc_sbsc_inqr_cascnt_n                   89996 non-null  int64  \n",
      " 26  voc_data_qat_cascnt_n                    89996 non-null  int64  \n",
      " 27  voc_inqr_cascnt_n                        89996 non-null  int64  \n",
      " 28  voc_dscnt_cascnt_n                       89996 non-null  int64  \n",
      " 29  voc_tot_occ_cascnt_n                     89996 non-null  int64  \n",
      " 30  rmonth_qat_chage_voc_cascnt              89996 non-null  int64  \n",
      " 31  voc_cnt_n                                89996 non-null  int64  \n",
      " 32  cont_sttus_chg_date_from_this_year       89996 non-null  int64  \n",
      " 33  now_chage_prod_sbsc_date_from_this_year  89996 non-null  int64  \n",
      " 34  accum_dt_stop_day_num_divide_10          89996 non-null  int64  \n",
      " 35  accum_usst_day_num_divide_10             89996 non-null  int64  \n",
      " 36  svc_use_mons_num_divide_10               89996 non-null  int64  \n",
      " 37  tm_npay_cnt                              89996 non-null  float64\n",
      " 38  sm_npay_cnt                              89996 non-null  float64\n",
      " 39  sm_use_stop_cnt                          89996 non-null  float64\n",
      " 40  NABBU_MONTH_MONEY                        89996 non-null  float64\n",
      " 41  NABBU_MONTH                              89996 non-null  int64  \n",
      " 42  NABBU_TOTAL_MONEY                        89996 non-null  float64\n",
      " 43  R3M_AMT                                  89996 non-null  float64\n",
      " 44  R6M_AMT                                  89996 non-null  float64\n",
      " 45  R3M_AMT_ABG                              89996 non-null  float64\n",
      " 46  R6M_AMT_AVG                              89996 non-null  float64\n",
      " 47  UNUSE_STOP_DAY                           89996 non-null  int64  \n",
      " 48  CNT                                      89996 non-null  float64\n",
      " 49  VOC                                      89996 non-null  int64  \n",
      " 50  EFCT                                     89996 non-null  int64  \n",
      " 51  AMT                                      89996 non-null  float64\n",
      " 52  CNT_MEAN                                 89996 non-null  float64\n",
      " 53  AMT_MEAN                                 89996 non-null  float64\n",
      " 54  npay_yn_Y                                89996 non-null  uint8  \n",
      " 55  inet_sbsc_yn_Y                           89996 non-null  uint8  \n",
      " 56  iptv_comb_yn_Y                           89996 non-null  uint8  \n",
      " 57  r6m_iptv_pssn_comb_yn_Y                  89996 non-null  uint8  \n",
      " 58  r3m_avg_bill_amt_100000_over_yn_Y        89996 non-null  uint8  \n",
      " 59  iptv_sbsc_yn_Y                           89996 non-null  uint8  \n",
      " 60  hndset_rmnd_insl_mons_yn_Y               89996 non-null  uint8  \n",
      " 61  bprod_lctg_nm_LTE                        89996 non-null  uint8  \n",
      " 62  bprod_lctg_nm_기타                         89996 non-null  uint8  \n",
      " 63  acrnd_dsp_meth_nm_모바일                    89996 non-null  uint8  \n",
      " 64  acrnd_dsp_meth_nm_스마트(앱)                 89996 non-null  uint8  \n",
      " 65  pay_way_nm_은행계좌 자동이체                     89996 non-null  uint8  \n",
      " 66  pay_way_nm_지로                            89996 non-null  uint8  \n",
      " 67  r6m_inet_pssn_comb_yn_Y                  89996 non-null  uint8  \n",
      " 68  mphon_comb_yn_Y                          89996 non-null  uint8  \n",
      " 69  inet_comb_yn_Y                           89996 non-null  uint8  \n",
      " 70  wless_terml_gun_div_nm_LTE스마트폰           89996 non-null  uint8  \n",
      " 71  wless_terml_gun_div_nm_기타                89996 non-null  uint8  \n",
      " 72  insur_prod_sbsc_yn_Y                     89996 non-null  uint8  \n",
      " 73  label_payment_yn_Y                       89996 non-null  uint8  \n",
      "dtypes: float64(20), int64(34), uint8(20)\n",
      "memory usage: 39.5 MB\n"
     ]
    }
   ],
   "source": [
    "final_data.info()"
   ]
  },
  {
   "cell_type": "code",
   "execution_count": 136,
   "metadata": {},
   "outputs": [],
   "source": [
    "X = final_data.drop(['label_payment_yn_Y'], axis=1)\n",
    "y = final_data['label_payment_yn_Y']"
   ]
  },
  {
   "cell_type": "code",
   "execution_count": 137,
   "metadata": {},
   "outputs": [
    {
     "data": {
      "text/plain": [
       "((89996, 73), (89996,))"
      ]
     },
     "execution_count": 137,
     "metadata": {},
     "output_type": "execute_result"
    }
   ],
   "source": [
    "X.shape, y.shape"
   ]
  },
  {
   "cell_type": "markdown",
   "metadata": {},
   "source": [
    "### \n",
    "### TEST 데이터셋 분리 및 ID 기억해 놓야 함."
   ]
  },
  {
   "cell_type": "code",
   "execution_count": 138,
   "metadata": {},
   "outputs": [],
   "source": [
    "test_cond = (total_merge_data4['label_payment_yn'] == 0)"
   ]
  },
  {
   "cell_type": "code",
   "execution_count": 139,
   "metadata": {},
   "outputs": [],
   "source": [
    "final_X_test = total_merge_data4[test_cond]"
   ]
  },
  {
   "cell_type": "code",
   "execution_count": 140,
   "metadata": {},
   "outputs": [
    {
     "data": {
      "text/plain": [
       "(100000, 75)"
      ]
     },
     "execution_count": 140,
     "metadata": {},
     "output_type": "execute_result"
    }
   ],
   "source": [
    "final_X_test.shape"
   ]
  },
  {
   "cell_type": "code",
   "execution_count": 141,
   "metadata": {},
   "outputs": [
    {
     "name": "stdout",
     "output_type": "stream",
     "text": [
      "<class 'pandas.core.frame.DataFrame'>\n",
      "Int64Index: 100000 entries, 90000 to 189999\n",
      "Data columns (total 75 columns):\n",
      " #   Column                                   Non-Null Count   Dtype  \n",
      "---  ------                                   --------------   -----  \n",
      " 0   id                                       100000 non-null  object \n",
      " 1   label_payment_yn                         100000 non-null  object \n",
      " 2   age_itg_cd                               100000 non-null  int64  \n",
      " 3   efct_mphon_sbsc_cascnt                   100000 non-null  int64  \n",
      " 4   efct_pstn_sbsc_cascnt                    100000 non-null  int64  \n",
      " 5   efct_inet_sbsc_cascnt                    100000 non-null  int64  \n",
      " 6   efct_iptv_sbsc_cascnt                    100000 non-null  int64  \n",
      " 7   r3m_avg_bill_amt                         100000 non-null  float64\n",
      " 8   r3m_mphon_avg_arpu_amt                   100000 non-null  float64\n",
      " 9   r3m_iptv_avg_arpu_amt                    100000 non-null  float64\n",
      " 10  r3m_inet_avg_arpu_amt                    100000 non-null  float64\n",
      " 11  r6m_mphon_avg_arpu_amt                   100000 non-null  float64\n",
      " 12  r6m_iptv_avg_arpu_amt                    100000 non-null  float64\n",
      " 13  r6m_inet_avg_arpu_amt                    100000 non-null  float64\n",
      " 14  bill_rmny_npay_tms_itg_max_cnt_n         100000 non-null  int64  \n",
      " 15  bill_rmny_npay_tms_itg_cd                100000 non-null  int64  \n",
      " 16  npay_amt_sum_divide_10000                100000 non-null  int64  \n",
      " 17  not_sufficient_cnt                       100000 non-null  int64  \n",
      " 18  npay_tms_cnt                             100000 non-null  int64  \n",
      " 19  wless_terml_gun_div_type                 100000 non-null  int64  \n",
      " 20  recnt_icg_date_from_this_year            100000 non-null  int64  \n",
      " 21  hndset_rmnd_insl_mons_num                100000 non-null  int64  \n",
      " 22  hndset_rmnd_insl_amt_divide_100000       100000 non-null  int64  \n",
      " 23  hndset_tot_insl_amt_divide_100000        100000 non-null  int64  \n",
      " 24  hndset_tot_insl_mons_num                 100000 non-null  int64  \n",
      " 25  bfee_amt_divide_10000                    100000 non-null  int64  \n",
      " 26  rmonth_tot_bill_amt_divide_10000         100000 non-null  int64  \n",
      " 27  voc_sbsc_inqr_cascnt_n                   100000 non-null  int64  \n",
      " 28  voc_data_qat_cascnt_n                    100000 non-null  int64  \n",
      " 29  voc_inqr_cascnt_n                        100000 non-null  int64  \n",
      " 30  voc_dscnt_cascnt_n                       100000 non-null  int64  \n",
      " 31  voc_tot_occ_cascnt_n                     100000 non-null  int64  \n",
      " 32  rmonth_qat_chage_voc_cascnt              100000 non-null  int64  \n",
      " 33  voc_cnt_n                                100000 non-null  int64  \n",
      " 34  cont_sttus_chg_date_from_this_year       100000 non-null  int64  \n",
      " 35  now_chage_prod_sbsc_date_from_this_year  100000 non-null  int64  \n",
      " 36  accum_dt_stop_day_num_divide_10          100000 non-null  int64  \n",
      " 37  accum_usst_day_num_divide_10             100000 non-null  int64  \n",
      " 38  svc_use_mons_num_divide_10               100000 non-null  int64  \n",
      " 39  tm_npay_cnt                              100000 non-null  float64\n",
      " 40  sm_npay_cnt                              100000 non-null  float64\n",
      " 41  sm_use_stop_cnt                          100000 non-null  float64\n",
      " 42  NABBU_MONTH_MONEY                        100000 non-null  float64\n",
      " 43  NABBU_MONTH                              100000 non-null  int64  \n",
      " 44  NABBU_TOTAL_MONEY                        100000 non-null  float64\n",
      " 45  R3M_AMT                                  100000 non-null  float64\n",
      " 46  R6M_AMT                                  100000 non-null  float64\n",
      " 47  R3M_AMT_ABG                              100000 non-null  float64\n",
      " 48  R6M_AMT_AVG                              100000 non-null  float64\n",
      " 49  UNUSE_STOP_DAY                           100000 non-null  int64  \n",
      " 50  CNT                                      100000 non-null  float64\n",
      " 51  VOC                                      100000 non-null  int64  \n",
      " 52  EFCT                                     100000 non-null  int64  \n",
      " 53  AMT                                      100000 non-null  float64\n",
      " 54  CNT_MEAN                                 100000 non-null  float64\n",
      " 55  AMT_MEAN                                 100000 non-null  float64\n",
      " 56  npay_yn_Y                                100000 non-null  uint8  \n",
      " 57  inet_sbsc_yn_Y                           100000 non-null  uint8  \n",
      " 58  iptv_comb_yn_Y                           100000 non-null  uint8  \n",
      " 59  r6m_iptv_pssn_comb_yn_Y                  100000 non-null  uint8  \n",
      " 60  r3m_avg_bill_amt_100000_over_yn_Y        100000 non-null  uint8  \n",
      " 61  iptv_sbsc_yn_Y                           100000 non-null  uint8  \n",
      " 62  hndset_rmnd_insl_mons_yn_Y               100000 non-null  uint8  \n",
      " 63  bprod_lctg_nm_LTE                        100000 non-null  uint8  \n",
      " 64  bprod_lctg_nm_기타                         100000 non-null  uint8  \n",
      " 65  acrnd_dsp_meth_nm_모바일                    100000 non-null  uint8  \n",
      " 66  acrnd_dsp_meth_nm_스마트(앱)                 100000 non-null  uint8  \n",
      " 67  pay_way_nm_은행계좌 자동이체                     100000 non-null  uint8  \n",
      " 68  pay_way_nm_지로                            100000 non-null  uint8  \n",
      " 69  r6m_inet_pssn_comb_yn_Y                  100000 non-null  uint8  \n",
      " 70  mphon_comb_yn_Y                          100000 non-null  uint8  \n",
      " 71  inet_comb_yn_Y                           100000 non-null  uint8  \n",
      " 72  wless_terml_gun_div_nm_LTE스마트폰           100000 non-null  uint8  \n",
      " 73  wless_terml_gun_div_nm_기타                100000 non-null  uint8  \n",
      " 74  insur_prod_sbsc_yn_Y                     100000 non-null  uint8  \n",
      "dtypes: float64(20), int64(34), object(2), uint8(19)\n",
      "memory usage: 45.3+ MB\n"
     ]
    }
   ],
   "source": [
    "final_X_test.info()"
   ]
  },
  {
   "cell_type": "markdown",
   "metadata": {},
   "source": [
    "### \n",
    "### TEST ID 뽑아놓기"
   ]
  },
  {
   "cell_type": "code",
   "execution_count": 142,
   "metadata": {},
   "outputs": [],
   "source": [
    "TEST_ID = final_X_test['id']"
   ]
  },
  {
   "cell_type": "code",
   "execution_count": 143,
   "metadata": {},
   "outputs": [],
   "source": [
    "TEST_ID = TEST_ID.reset_index(drop=True)"
   ]
  },
  {
   "cell_type": "code",
   "execution_count": 144,
   "metadata": {},
   "outputs": [
    {
     "data": {
      "text/plain": [
       "pandas.core.series.Series"
      ]
     },
     "execution_count": 144,
     "metadata": {},
     "output_type": "execute_result"
    }
   ],
   "source": [
    "type(TEST_ID)"
   ]
  },
  {
   "cell_type": "code",
   "execution_count": 145,
   "metadata": {},
   "outputs": [
    {
     "data": {
      "text/plain": [
       "(100000,)"
      ]
     },
     "execution_count": 145,
     "metadata": {},
     "output_type": "execute_result"
    }
   ],
   "source": [
    "TEST_ID.shape"
   ]
  },
  {
   "cell_type": "code",
   "execution_count": 146,
   "metadata": {},
   "outputs": [],
   "source": [
    "final_X_test = final_X_test.drop(['id', 'label_payment_yn'], axis=1)"
   ]
  },
  {
   "cell_type": "code",
   "execution_count": 147,
   "metadata": {},
   "outputs": [
    {
     "name": "stdout",
     "output_type": "stream",
     "text": [
      "<class 'pandas.core.frame.DataFrame'>\n",
      "Int64Index: 100000 entries, 90000 to 189999\n",
      "Data columns (total 73 columns):\n",
      " #   Column                                   Non-Null Count   Dtype  \n",
      "---  ------                                   --------------   -----  \n",
      " 0   age_itg_cd                               100000 non-null  int64  \n",
      " 1   efct_mphon_sbsc_cascnt                   100000 non-null  int64  \n",
      " 2   efct_pstn_sbsc_cascnt                    100000 non-null  int64  \n",
      " 3   efct_inet_sbsc_cascnt                    100000 non-null  int64  \n",
      " 4   efct_iptv_sbsc_cascnt                    100000 non-null  int64  \n",
      " 5   r3m_avg_bill_amt                         100000 non-null  float64\n",
      " 6   r3m_mphon_avg_arpu_amt                   100000 non-null  float64\n",
      " 7   r3m_iptv_avg_arpu_amt                    100000 non-null  float64\n",
      " 8   r3m_inet_avg_arpu_amt                    100000 non-null  float64\n",
      " 9   r6m_mphon_avg_arpu_amt                   100000 non-null  float64\n",
      " 10  r6m_iptv_avg_arpu_amt                    100000 non-null  float64\n",
      " 11  r6m_inet_avg_arpu_amt                    100000 non-null  float64\n",
      " 12  bill_rmny_npay_tms_itg_max_cnt_n         100000 non-null  int64  \n",
      " 13  bill_rmny_npay_tms_itg_cd                100000 non-null  int64  \n",
      " 14  npay_amt_sum_divide_10000                100000 non-null  int64  \n",
      " 15  not_sufficient_cnt                       100000 non-null  int64  \n",
      " 16  npay_tms_cnt                             100000 non-null  int64  \n",
      " 17  wless_terml_gun_div_type                 100000 non-null  int64  \n",
      " 18  recnt_icg_date_from_this_year            100000 non-null  int64  \n",
      " 19  hndset_rmnd_insl_mons_num                100000 non-null  int64  \n",
      " 20  hndset_rmnd_insl_amt_divide_100000       100000 non-null  int64  \n",
      " 21  hndset_tot_insl_amt_divide_100000        100000 non-null  int64  \n",
      " 22  hndset_tot_insl_mons_num                 100000 non-null  int64  \n",
      " 23  bfee_amt_divide_10000                    100000 non-null  int64  \n",
      " 24  rmonth_tot_bill_amt_divide_10000         100000 non-null  int64  \n",
      " 25  voc_sbsc_inqr_cascnt_n                   100000 non-null  int64  \n",
      " 26  voc_data_qat_cascnt_n                    100000 non-null  int64  \n",
      " 27  voc_inqr_cascnt_n                        100000 non-null  int64  \n",
      " 28  voc_dscnt_cascnt_n                       100000 non-null  int64  \n",
      " 29  voc_tot_occ_cascnt_n                     100000 non-null  int64  \n",
      " 30  rmonth_qat_chage_voc_cascnt              100000 non-null  int64  \n",
      " 31  voc_cnt_n                                100000 non-null  int64  \n",
      " 32  cont_sttus_chg_date_from_this_year       100000 non-null  int64  \n",
      " 33  now_chage_prod_sbsc_date_from_this_year  100000 non-null  int64  \n",
      " 34  accum_dt_stop_day_num_divide_10          100000 non-null  int64  \n",
      " 35  accum_usst_day_num_divide_10             100000 non-null  int64  \n",
      " 36  svc_use_mons_num_divide_10               100000 non-null  int64  \n",
      " 37  tm_npay_cnt                              100000 non-null  float64\n",
      " 38  sm_npay_cnt                              100000 non-null  float64\n",
      " 39  sm_use_stop_cnt                          100000 non-null  float64\n",
      " 40  NABBU_MONTH_MONEY                        100000 non-null  float64\n",
      " 41  NABBU_MONTH                              100000 non-null  int64  \n",
      " 42  NABBU_TOTAL_MONEY                        100000 non-null  float64\n",
      " 43  R3M_AMT                                  100000 non-null  float64\n",
      " 44  R6M_AMT                                  100000 non-null  float64\n",
      " 45  R3M_AMT_ABG                              100000 non-null  float64\n",
      " 46  R6M_AMT_AVG                              100000 non-null  float64\n",
      " 47  UNUSE_STOP_DAY                           100000 non-null  int64  \n",
      " 48  CNT                                      100000 non-null  float64\n",
      " 49  VOC                                      100000 non-null  int64  \n",
      " 50  EFCT                                     100000 non-null  int64  \n",
      " 51  AMT                                      100000 non-null  float64\n",
      " 52  CNT_MEAN                                 100000 non-null  float64\n",
      " 53  AMT_MEAN                                 100000 non-null  float64\n",
      " 54  npay_yn_Y                                100000 non-null  uint8  \n",
      " 55  inet_sbsc_yn_Y                           100000 non-null  uint8  \n",
      " 56  iptv_comb_yn_Y                           100000 non-null  uint8  \n",
      " 57  r6m_iptv_pssn_comb_yn_Y                  100000 non-null  uint8  \n",
      " 58  r3m_avg_bill_amt_100000_over_yn_Y        100000 non-null  uint8  \n",
      " 59  iptv_sbsc_yn_Y                           100000 non-null  uint8  \n",
      " 60  hndset_rmnd_insl_mons_yn_Y               100000 non-null  uint8  \n",
      " 61  bprod_lctg_nm_LTE                        100000 non-null  uint8  \n",
      " 62  bprod_lctg_nm_기타                         100000 non-null  uint8  \n",
      " 63  acrnd_dsp_meth_nm_모바일                    100000 non-null  uint8  \n",
      " 64  acrnd_dsp_meth_nm_스마트(앱)                 100000 non-null  uint8  \n",
      " 65  pay_way_nm_은행계좌 자동이체                     100000 non-null  uint8  \n",
      " 66  pay_way_nm_지로                            100000 non-null  uint8  \n",
      " 67  r6m_inet_pssn_comb_yn_Y                  100000 non-null  uint8  \n",
      " 68  mphon_comb_yn_Y                          100000 non-null  uint8  \n",
      " 69  inet_comb_yn_Y                           100000 non-null  uint8  \n",
      " 70  wless_terml_gun_div_nm_LTE스마트폰           100000 non-null  uint8  \n",
      " 71  wless_terml_gun_div_nm_기타                100000 non-null  uint8  \n",
      " 72  insur_prod_sbsc_yn_Y                     100000 non-null  uint8  \n",
      "dtypes: float64(20), int64(34), uint8(19)\n",
      "memory usage: 43.8 MB\n"
     ]
    }
   ],
   "source": [
    "final_X_test.info()"
   ]
  },
  {
   "cell_type": "markdown",
   "metadata": {},
   "source": [
    "### \n",
    "### Train / Test 데이터셋 분리"
   ]
  },
  {
   "cell_type": "code",
   "execution_count": 148,
   "metadata": {},
   "outputs": [],
   "source": [
    "from sklearn.model_selection import train_test_split\n",
    "X_train, X_test, y_train, y_test = train_test_split(X, y, test_size=0.3, random_state=0, stratify=y)"
   ]
  },
  {
   "cell_type": "code",
   "execution_count": 149,
   "metadata": {},
   "outputs": [
    {
     "data": {
      "text/plain": [
       "((62997, 73), (26999, 73), (62997,), (26999,), (100000, 73))"
      ]
     },
     "execution_count": 149,
     "metadata": {},
     "output_type": "execute_result"
    }
   ],
   "source": [
    "X_train.shape, X_test.shape, y_train.shape, y_test.shape, final_X_test.shape"
   ]
  },
  {
   "cell_type": "code",
   "execution_count": 150,
   "metadata": {},
   "outputs": [
    {
     "data": {
      "text/html": [
       "<div>\n",
       "<style scoped>\n",
       "    .dataframe tbody tr th:only-of-type {\n",
       "        vertical-align: middle;\n",
       "    }\n",
       "\n",
       "    .dataframe tbody tr th {\n",
       "        vertical-align: top;\n",
       "    }\n",
       "\n",
       "    .dataframe thead th {\n",
       "        text-align: right;\n",
       "    }\n",
       "</style>\n",
       "<table border=\"1\" class=\"dataframe\">\n",
       "  <thead>\n",
       "    <tr style=\"text-align: right;\">\n",
       "      <th></th>\n",
       "      <th>age_itg_cd</th>\n",
       "      <th>efct_mphon_sbsc_cascnt</th>\n",
       "      <th>efct_pstn_sbsc_cascnt</th>\n",
       "      <th>efct_inet_sbsc_cascnt</th>\n",
       "      <th>efct_iptv_sbsc_cascnt</th>\n",
       "      <th>r3m_avg_bill_amt</th>\n",
       "      <th>r3m_mphon_avg_arpu_amt</th>\n",
       "      <th>r3m_iptv_avg_arpu_amt</th>\n",
       "      <th>r3m_inet_avg_arpu_amt</th>\n",
       "      <th>r6m_mphon_avg_arpu_amt</th>\n",
       "      <th>...</th>\n",
       "      <th>acrnd_dsp_meth_nm_모바일</th>\n",
       "      <th>acrnd_dsp_meth_nm_스마트(앱)</th>\n",
       "      <th>pay_way_nm_은행계좌 자동이체</th>\n",
       "      <th>pay_way_nm_지로</th>\n",
       "      <th>r6m_inet_pssn_comb_yn_Y</th>\n",
       "      <th>mphon_comb_yn_Y</th>\n",
       "      <th>inet_comb_yn_Y</th>\n",
       "      <th>wless_terml_gun_div_nm_LTE스마트폰</th>\n",
       "      <th>wless_terml_gun_div_nm_기타</th>\n",
       "      <th>insur_prod_sbsc_yn_Y</th>\n",
       "    </tr>\n",
       "  </thead>\n",
       "  <tbody>\n",
       "    <tr>\n",
       "      <th>48440</th>\n",
       "      <td>33</td>\n",
       "      <td>2</td>\n",
       "      <td>2</td>\n",
       "      <td>3</td>\n",
       "      <td>2</td>\n",
       "      <td>12.550421</td>\n",
       "      <td>11.588951</td>\n",
       "      <td>10.938521</td>\n",
       "      <td>11.386625</td>\n",
       "      <td>11.492600</td>\n",
       "      <td>...</td>\n",
       "      <td>0</td>\n",
       "      <td>0</td>\n",
       "      <td>1</td>\n",
       "      <td>0</td>\n",
       "      <td>1</td>\n",
       "      <td>1</td>\n",
       "      <td>1</td>\n",
       "      <td>1</td>\n",
       "      <td>0</td>\n",
       "      <td>1</td>\n",
       "    </tr>\n",
       "    <tr>\n",
       "      <th>8911</th>\n",
       "      <td>24</td>\n",
       "      <td>1</td>\n",
       "      <td>0</td>\n",
       "      <td>0</td>\n",
       "      <td>0</td>\n",
       "      <td>11.986940</td>\n",
       "      <td>10.463617</td>\n",
       "      <td>0.000000</td>\n",
       "      <td>0.000000</td>\n",
       "      <td>12.766268</td>\n",
       "      <td>...</td>\n",
       "      <td>1</td>\n",
       "      <td>0</td>\n",
       "      <td>0</td>\n",
       "      <td>1</td>\n",
       "      <td>0</td>\n",
       "      <td>0</td>\n",
       "      <td>0</td>\n",
       "      <td>1</td>\n",
       "      <td>0</td>\n",
       "      <td>1</td>\n",
       "    </tr>\n",
       "    <tr>\n",
       "      <th>75289</th>\n",
       "      <td>25</td>\n",
       "      <td>1</td>\n",
       "      <td>0</td>\n",
       "      <td>0</td>\n",
       "      <td>0</td>\n",
       "      <td>12.893717</td>\n",
       "      <td>11.829151</td>\n",
       "      <td>0.000000</td>\n",
       "      <td>0.000000</td>\n",
       "      <td>11.482848</td>\n",
       "      <td>...</td>\n",
       "      <td>1</td>\n",
       "      <td>0</td>\n",
       "      <td>1</td>\n",
       "      <td>0</td>\n",
       "      <td>0</td>\n",
       "      <td>0</td>\n",
       "      <td>0</td>\n",
       "      <td>0</td>\n",
       "      <td>0</td>\n",
       "      <td>0</td>\n",
       "    </tr>\n",
       "    <tr>\n",
       "      <th>25294</th>\n",
       "      <td>57</td>\n",
       "      <td>0</td>\n",
       "      <td>0</td>\n",
       "      <td>0</td>\n",
       "      <td>0</td>\n",
       "      <td>10.694555</td>\n",
       "      <td>10.673503</td>\n",
       "      <td>0.000000</td>\n",
       "      <td>0.000000</td>\n",
       "      <td>10.673503</td>\n",
       "      <td>...</td>\n",
       "      <td>1</td>\n",
       "      <td>0</td>\n",
       "      <td>0</td>\n",
       "      <td>1</td>\n",
       "      <td>0</td>\n",
       "      <td>1</td>\n",
       "      <td>1</td>\n",
       "      <td>1</td>\n",
       "      <td>0</td>\n",
       "      <td>0</td>\n",
       "    </tr>\n",
       "    <tr>\n",
       "      <th>6669</th>\n",
       "      <td>49</td>\n",
       "      <td>0</td>\n",
       "      <td>1</td>\n",
       "      <td>1</td>\n",
       "      <td>0</td>\n",
       "      <td>11.278101</td>\n",
       "      <td>0.000000</td>\n",
       "      <td>0.000000</td>\n",
       "      <td>11.053806</td>\n",
       "      <td>0.000000</td>\n",
       "      <td>...</td>\n",
       "      <td>0</td>\n",
       "      <td>0</td>\n",
       "      <td>1</td>\n",
       "      <td>0</td>\n",
       "      <td>1</td>\n",
       "      <td>0</td>\n",
       "      <td>1</td>\n",
       "      <td>0</td>\n",
       "      <td>1</td>\n",
       "      <td>0</td>\n",
       "    </tr>\n",
       "  </tbody>\n",
       "</table>\n",
       "<p>5 rows × 73 columns</p>\n",
       "</div>"
      ],
      "text/plain": [
       "       age_itg_cd  efct_mphon_sbsc_cascnt  efct_pstn_sbsc_cascnt  \\\n",
       "48440          33                       2                      2   \n",
       "8911           24                       1                      0   \n",
       "75289          25                       1                      0   \n",
       "25294          57                       0                      0   \n",
       "6669           49                       0                      1   \n",
       "\n",
       "       efct_inet_sbsc_cascnt  efct_iptv_sbsc_cascnt  r3m_avg_bill_amt  \\\n",
       "48440                      3                      2         12.550421   \n",
       "8911                       0                      0         11.986940   \n",
       "75289                      0                      0         12.893717   \n",
       "25294                      0                      0         10.694555   \n",
       "6669                       1                      0         11.278101   \n",
       "\n",
       "       r3m_mphon_avg_arpu_amt  r3m_iptv_avg_arpu_amt  r3m_inet_avg_arpu_amt  \\\n",
       "48440               11.588951              10.938521              11.386625   \n",
       "8911                10.463617               0.000000               0.000000   \n",
       "75289               11.829151               0.000000               0.000000   \n",
       "25294               10.673503               0.000000               0.000000   \n",
       "6669                 0.000000               0.000000              11.053806   \n",
       "\n",
       "       r6m_mphon_avg_arpu_amt  ...  acrnd_dsp_meth_nm_모바일  \\\n",
       "48440               11.492600  ...                      0   \n",
       "8911                12.766268  ...                      1   \n",
       "75289               11.482848  ...                      1   \n",
       "25294               10.673503  ...                      1   \n",
       "6669                 0.000000  ...                      0   \n",
       "\n",
       "       acrnd_dsp_meth_nm_스마트(앱)  pay_way_nm_은행계좌 자동이체  pay_way_nm_지로  \\\n",
       "48440                         0                     1              0   \n",
       "8911                          0                     0              1   \n",
       "75289                         0                     1              0   \n",
       "25294                         0                     0              1   \n",
       "6669                          0                     1              0   \n",
       "\n",
       "       r6m_inet_pssn_comb_yn_Y  mphon_comb_yn_Y  inet_comb_yn_Y  \\\n",
       "48440                        1                1               1   \n",
       "8911                         0                0               0   \n",
       "75289                        0                0               0   \n",
       "25294                        0                1               1   \n",
       "6669                         1                0               1   \n",
       "\n",
       "       wless_terml_gun_div_nm_LTE스마트폰  wless_terml_gun_div_nm_기타  \\\n",
       "48440                               1                          0   \n",
       "8911                                1                          0   \n",
       "75289                               0                          0   \n",
       "25294                               1                          0   \n",
       "6669                                0                          1   \n",
       "\n",
       "       insur_prod_sbsc_yn_Y  \n",
       "48440                     1  \n",
       "8911                      1  \n",
       "75289                     0  \n",
       "25294                     0  \n",
       "6669                      0  \n",
       "\n",
       "[5 rows x 73 columns]"
      ]
     },
     "execution_count": 150,
     "metadata": {},
     "output_type": "execute_result"
    }
   ],
   "source": [
    "X_train.head()"
   ]
  },
  {
   "cell_type": "code",
   "execution_count": 151,
   "metadata": {},
   "outputs": [
    {
     "data": {
      "text/plain": [
       "48440    1\n",
       "8911     1\n",
       "75289    1\n",
       "25294    0\n",
       "6669     1\n",
       "Name: label_payment_yn_Y, dtype: uint8"
      ]
     },
     "execution_count": 151,
     "metadata": {},
     "output_type": "execute_result"
    }
   ],
   "source": [
    "y_train.head()"
   ]
  },
  {
   "cell_type": "code",
   "execution_count": 152,
   "metadata": {},
   "outputs": [
    {
     "data": {
      "text/html": [
       "<div>\n",
       "<style scoped>\n",
       "    .dataframe tbody tr th:only-of-type {\n",
       "        vertical-align: middle;\n",
       "    }\n",
       "\n",
       "    .dataframe tbody tr th {\n",
       "        vertical-align: top;\n",
       "    }\n",
       "\n",
       "    .dataframe thead th {\n",
       "        text-align: right;\n",
       "    }\n",
       "</style>\n",
       "<table border=\"1\" class=\"dataframe\">\n",
       "  <thead>\n",
       "    <tr style=\"text-align: right;\">\n",
       "      <th></th>\n",
       "      <th>age_itg_cd</th>\n",
       "      <th>efct_mphon_sbsc_cascnt</th>\n",
       "      <th>efct_pstn_sbsc_cascnt</th>\n",
       "      <th>efct_inet_sbsc_cascnt</th>\n",
       "      <th>efct_iptv_sbsc_cascnt</th>\n",
       "      <th>r3m_avg_bill_amt</th>\n",
       "      <th>r3m_mphon_avg_arpu_amt</th>\n",
       "      <th>r3m_iptv_avg_arpu_amt</th>\n",
       "      <th>r3m_inet_avg_arpu_amt</th>\n",
       "      <th>r6m_mphon_avg_arpu_amt</th>\n",
       "      <th>...</th>\n",
       "      <th>acrnd_dsp_meth_nm_모바일</th>\n",
       "      <th>acrnd_dsp_meth_nm_스마트(앱)</th>\n",
       "      <th>pay_way_nm_은행계좌 자동이체</th>\n",
       "      <th>pay_way_nm_지로</th>\n",
       "      <th>r6m_inet_pssn_comb_yn_Y</th>\n",
       "      <th>mphon_comb_yn_Y</th>\n",
       "      <th>inet_comb_yn_Y</th>\n",
       "      <th>wless_terml_gun_div_nm_LTE스마트폰</th>\n",
       "      <th>wless_terml_gun_div_nm_기타</th>\n",
       "      <th>insur_prod_sbsc_yn_Y</th>\n",
       "    </tr>\n",
       "  </thead>\n",
       "  <tbody>\n",
       "    <tr>\n",
       "      <th>29107</th>\n",
       "      <td>22</td>\n",
       "      <td>0</td>\n",
       "      <td>0</td>\n",
       "      <td>0</td>\n",
       "      <td>0</td>\n",
       "      <td>11.328991</td>\n",
       "      <td>10.912613</td>\n",
       "      <td>0.000000</td>\n",
       "      <td>0.000000</td>\n",
       "      <td>10.826615</td>\n",
       "      <td>...</td>\n",
       "      <td>0</td>\n",
       "      <td>1</td>\n",
       "      <td>0</td>\n",
       "      <td>1</td>\n",
       "      <td>0</td>\n",
       "      <td>0</td>\n",
       "      <td>0</td>\n",
       "      <td>1</td>\n",
       "      <td>0</td>\n",
       "      <td>0</td>\n",
       "    </tr>\n",
       "    <tr>\n",
       "      <th>58726</th>\n",
       "      <td>47</td>\n",
       "      <td>0</td>\n",
       "      <td>0</td>\n",
       "      <td>0</td>\n",
       "      <td>0</td>\n",
       "      <td>12.906337</td>\n",
       "      <td>10.845310</td>\n",
       "      <td>0.000000</td>\n",
       "      <td>9.765432</td>\n",
       "      <td>10.994404</td>\n",
       "      <td>...</td>\n",
       "      <td>0</td>\n",
       "      <td>1</td>\n",
       "      <td>0</td>\n",
       "      <td>1</td>\n",
       "      <td>1</td>\n",
       "      <td>1</td>\n",
       "      <td>1</td>\n",
       "      <td>0</td>\n",
       "      <td>0</td>\n",
       "      <td>1</td>\n",
       "    </tr>\n",
       "    <tr>\n",
       "      <th>83407</th>\n",
       "      <td>32</td>\n",
       "      <td>0</td>\n",
       "      <td>0</td>\n",
       "      <td>1</td>\n",
       "      <td>1</td>\n",
       "      <td>12.461645</td>\n",
       "      <td>10.663335</td>\n",
       "      <td>10.713973</td>\n",
       "      <td>10.119083</td>\n",
       "      <td>10.667326</td>\n",
       "      <td>...</td>\n",
       "      <td>0</td>\n",
       "      <td>1</td>\n",
       "      <td>0</td>\n",
       "      <td>0</td>\n",
       "      <td>1</td>\n",
       "      <td>1</td>\n",
       "      <td>1</td>\n",
       "      <td>1</td>\n",
       "      <td>0</td>\n",
       "      <td>0</td>\n",
       "    </tr>\n",
       "    <tr>\n",
       "      <th>76638</th>\n",
       "      <td>20</td>\n",
       "      <td>1</td>\n",
       "      <td>0</td>\n",
       "      <td>0</td>\n",
       "      <td>0</td>\n",
       "      <td>11.712964</td>\n",
       "      <td>11.269031</td>\n",
       "      <td>0.000000</td>\n",
       "      <td>0.000000</td>\n",
       "      <td>11.169364</td>\n",
       "      <td>...</td>\n",
       "      <td>1</td>\n",
       "      <td>0</td>\n",
       "      <td>0</td>\n",
       "      <td>1</td>\n",
       "      <td>0</td>\n",
       "      <td>1</td>\n",
       "      <td>1</td>\n",
       "      <td>0</td>\n",
       "      <td>0</td>\n",
       "      <td>1</td>\n",
       "    </tr>\n",
       "    <tr>\n",
       "      <th>3653</th>\n",
       "      <td>40</td>\n",
       "      <td>1</td>\n",
       "      <td>0</td>\n",
       "      <td>0</td>\n",
       "      <td>0</td>\n",
       "      <td>10.885884</td>\n",
       "      <td>10.818357</td>\n",
       "      <td>0.000000</td>\n",
       "      <td>0.000000</td>\n",
       "      <td>10.818357</td>\n",
       "      <td>...</td>\n",
       "      <td>1</td>\n",
       "      <td>0</td>\n",
       "      <td>0</td>\n",
       "      <td>1</td>\n",
       "      <td>0</td>\n",
       "      <td>0</td>\n",
       "      <td>0</td>\n",
       "      <td>1</td>\n",
       "      <td>0</td>\n",
       "      <td>0</td>\n",
       "    </tr>\n",
       "  </tbody>\n",
       "</table>\n",
       "<p>5 rows × 73 columns</p>\n",
       "</div>"
      ],
      "text/plain": [
       "       age_itg_cd  efct_mphon_sbsc_cascnt  efct_pstn_sbsc_cascnt  \\\n",
       "29107          22                       0                      0   \n",
       "58726          47                       0                      0   \n",
       "83407          32                       0                      0   \n",
       "76638          20                       1                      0   \n",
       "3653           40                       1                      0   \n",
       "\n",
       "       efct_inet_sbsc_cascnt  efct_iptv_sbsc_cascnt  r3m_avg_bill_amt  \\\n",
       "29107                      0                      0         11.328991   \n",
       "58726                      0                      0         12.906337   \n",
       "83407                      1                      1         12.461645   \n",
       "76638                      0                      0         11.712964   \n",
       "3653                       0                      0         10.885884   \n",
       "\n",
       "       r3m_mphon_avg_arpu_amt  r3m_iptv_avg_arpu_amt  r3m_inet_avg_arpu_amt  \\\n",
       "29107               10.912613               0.000000               0.000000   \n",
       "58726               10.845310               0.000000               9.765432   \n",
       "83407               10.663335              10.713973              10.119083   \n",
       "76638               11.269031               0.000000               0.000000   \n",
       "3653                10.818357               0.000000               0.000000   \n",
       "\n",
       "       r6m_mphon_avg_arpu_amt  ...  acrnd_dsp_meth_nm_모바일  \\\n",
       "29107               10.826615  ...                      0   \n",
       "58726               10.994404  ...                      0   \n",
       "83407               10.667326  ...                      0   \n",
       "76638               11.169364  ...                      1   \n",
       "3653                10.818357  ...                      1   \n",
       "\n",
       "       acrnd_dsp_meth_nm_스마트(앱)  pay_way_nm_은행계좌 자동이체  pay_way_nm_지로  \\\n",
       "29107                         1                     0              1   \n",
       "58726                         1                     0              1   \n",
       "83407                         1                     0              0   \n",
       "76638                         0                     0              1   \n",
       "3653                          0                     0              1   \n",
       "\n",
       "       r6m_inet_pssn_comb_yn_Y  mphon_comb_yn_Y  inet_comb_yn_Y  \\\n",
       "29107                        0                0               0   \n",
       "58726                        1                1               1   \n",
       "83407                        1                1               1   \n",
       "76638                        0                1               1   \n",
       "3653                         0                0               0   \n",
       "\n",
       "       wless_terml_gun_div_nm_LTE스마트폰  wless_terml_gun_div_nm_기타  \\\n",
       "29107                               1                          0   \n",
       "58726                               0                          0   \n",
       "83407                               1                          0   \n",
       "76638                               0                          0   \n",
       "3653                                1                          0   \n",
       "\n",
       "       insur_prod_sbsc_yn_Y  \n",
       "29107                     0  \n",
       "58726                     1  \n",
       "83407                     0  \n",
       "76638                     1  \n",
       "3653                      0  \n",
       "\n",
       "[5 rows x 73 columns]"
      ]
     },
     "execution_count": 152,
     "metadata": {},
     "output_type": "execute_result"
    }
   ],
   "source": [
    "X_test.tail()"
   ]
  },
  {
   "cell_type": "code",
   "execution_count": 153,
   "metadata": {},
   "outputs": [
    {
     "data": {
      "text/plain": [
       "29107    0\n",
       "58726    1\n",
       "83407    0\n",
       "76638    1\n",
       "3653     1\n",
       "Name: label_payment_yn_Y, dtype: uint8"
      ]
     },
     "execution_count": 153,
     "metadata": {},
     "output_type": "execute_result"
    }
   ],
   "source": [
    "y_test.tail()"
   ]
  },
  {
   "cell_type": "markdown",
   "metadata": {},
   "source": [
    "### \n",
    "### PCA 추가 : 성능 향상에 도움 안되네.ㅠㅠ"
   ]
  },
  {
   "cell_type": "code",
   "execution_count": 154,
   "metadata": {},
   "outputs": [],
   "source": [
    "X_train = X_train.reset_index(drop=True)\n",
    "X_test = X_test.reset_index(drop=True)\n",
    "final_X_test = final_X_test.reset_index(drop=True)"
   ]
  },
  {
   "cell_type": "code",
   "execution_count": 155,
   "metadata": {},
   "outputs": [
    {
     "data": {
      "text/plain": [
       "((62997, 73), (26999, 73), (100000, 73))"
      ]
     },
     "execution_count": 155,
     "metadata": {},
     "output_type": "execute_result"
    }
   ],
   "source": [
    "X_train.shape, X_test.shape, final_X_test.shape"
   ]
  },
  {
   "cell_type": "code",
   "execution_count": 156,
   "metadata": {},
   "outputs": [],
   "source": [
    "from sklearn.decomposition import PCA\n",
    "pca = PCA(n_components=2)\n",
    "X_train_pca = pca.fit_transform(X_train)\n",
    "X_test_pca = pca.transform(X_test)\n",
    "final_X_test_pca = pca.transform(final_X_test)"
   ]
  },
  {
   "cell_type": "code",
   "execution_count": 157,
   "metadata": {},
   "outputs": [
    {
     "data": {
      "text/plain": [
       "((62997, 2), (26999, 2), (100000, 2))"
      ]
     },
     "execution_count": 157,
     "metadata": {},
     "output_type": "execute_result"
    }
   ],
   "source": [
    "X_train_pca.shape, X_test_pca.shape, final_X_test_pca.shape"
   ]
  },
  {
   "cell_type": "code",
   "execution_count": 158,
   "metadata": {},
   "outputs": [],
   "source": [
    "df_X_train_pca = pd.DataFrame(X_train_pca, columns=['PCA1', 'PCA2'])\n",
    "df_X_test_pca = pd.DataFrame(X_test_pca, columns=['PCA1', 'PCA2'])\n",
    "df_final_X_test_pca = pd.DataFrame(final_X_test_pca, columns=['PCA1', 'PCA2'])"
   ]
  },
  {
   "cell_type": "code",
   "execution_count": 159,
   "metadata": {},
   "outputs": [
    {
     "data": {
      "text/plain": [
       "((62997, 2), (26999, 2), (100000, 2))"
      ]
     },
     "execution_count": 159,
     "metadata": {},
     "output_type": "execute_result"
    }
   ],
   "source": [
    "df_X_train_pca.shape, df_X_test_pca.shape, df_final_X_test_pca.shape"
   ]
  },
  {
   "cell_type": "code",
   "execution_count": 160,
   "metadata": {},
   "outputs": [],
   "source": [
    "X_train = pd.concat([X_train, df_X_train_pca], axis=1)\n",
    "X_test = pd.concat([X_test, df_X_test_pca], axis=1)\n",
    "final_X_test = pd.concat([final_X_test, df_final_X_test_pca], axis=1)"
   ]
  },
  {
   "cell_type": "code",
   "execution_count": 161,
   "metadata": {},
   "outputs": [
    {
     "data": {
      "text/plain": [
       "((62997, 75), (26999, 75), (100000, 75))"
      ]
     },
     "execution_count": 161,
     "metadata": {},
     "output_type": "execute_result"
    }
   ],
   "source": [
    "X_train.shape, X_test.shape, final_X_test.shape"
   ]
  },
  {
   "cell_type": "markdown",
   "metadata": {},
   "source": [
    "### \n",
    "### 최종 컬럼 이름 나열"
   ]
  },
  {
   "cell_type": "code",
   "execution_count": 156,
   "metadata": {},
   "outputs": [
    {
     "data": {
      "text/plain": [
       "Index(['age_itg_cd', 'efct_mphon_sbsc_cascnt', 'efct_pstn_sbsc_cascnt',\n",
       "       'efct_inet_sbsc_cascnt', 'efct_iptv_sbsc_cascnt', 'r3m_avg_bill_amt',\n",
       "       'r3m_mphon_avg_arpu_amt', 'r3m_iptv_avg_arpu_amt',\n",
       "       'r3m_inet_avg_arpu_amt', 'r6m_mphon_avg_arpu_amt',\n",
       "       'r6m_iptv_avg_arpu_amt', 'r6m_inet_avg_arpu_amt',\n",
       "       'bill_rmny_npay_tms_itg_max_cnt_n', 'bill_rmny_npay_tms_itg_cd',\n",
       "       'npay_amt_sum_divide_10000', 'not_sufficient_cnt', 'npay_tms_cnt',\n",
       "       'wless_terml_gun_div_type', 'recnt_icg_date_from_this_year',\n",
       "       'hndset_rmnd_insl_mons_num', 'hndset_rmnd_insl_amt_divide_100000',\n",
       "       'hndset_tot_insl_amt_divide_100000', 'hndset_tot_insl_mons_num',\n",
       "       'bfee_amt_divide_10000', 'rmonth_tot_bill_amt_divide_10000',\n",
       "       'voc_sbsc_inqr_cascnt_n', 'voc_data_qat_cascnt_n', 'voc_inqr_cascnt_n',\n",
       "       'voc_dscnt_cascnt_n', 'voc_tot_occ_cascnt_n',\n",
       "       'rmonth_qat_chage_voc_cascnt', 'voc_cnt_n',\n",
       "       'cont_sttus_chg_date_from_this_year',\n",
       "       'now_chage_prod_sbsc_date_from_this_year',\n",
       "       'accum_dt_stop_day_num_divide_10', 'accum_usst_day_num_divide_10',\n",
       "       'svc_use_mons_num_divide_10', 'tm_npay_cnt', 'sm_npay_cnt',\n",
       "       'sm_use_stop_cnt', 'NABBU_MONTH_MONEY', 'NABBU_MONTH',\n",
       "       'NABBU_TOTAL_MONEY', 'R3M_AMT', 'R6M_AMT', 'R3M_AMT_ABG', 'R6M_AMT_AVG',\n",
       "       'UNUSE_STOP_DAY', 'CNT', 'VOC', 'EFCT', 'AMT', 'CNT_MEAN', 'AMT_MEAN',\n",
       "       'npay_yn_Y', 'inet_sbsc_yn_Y', 'iptv_comb_yn_Y',\n",
       "       'r6m_iptv_pssn_comb_yn_Y', 'r3m_avg_bill_amt_100000_over_yn_Y',\n",
       "       'iptv_sbsc_yn_Y', 'hndset_rmnd_insl_mons_yn_Y', 'bprod_lctg_nm_LTE',\n",
       "       'bprod_lctg_nm_기타', 'acrnd_dsp_meth_nm_모바일', 'acrnd_dsp_meth_nm_스마트(앱)',\n",
       "       'pay_way_nm_은행계좌 자동이체', 'pay_way_nm_지로', 'r6m_inet_pssn_comb_yn_Y',\n",
       "       'mphon_comb_yn_Y', 'inet_comb_yn_Y', 'wless_terml_gun_div_nm_LTE스마트폰',\n",
       "       'wless_terml_gun_div_nm_기타', 'insur_prod_sbsc_yn_Y'],\n",
       "      dtype='object')"
      ]
     },
     "execution_count": 156,
     "metadata": {},
     "output_type": "execute_result"
    }
   ],
   "source": [
    "col_name = X_train.columns\n",
    "col_name"
   ]
  },
  {
   "cell_type": "markdown",
   "metadata": {},
   "source": [
    "# \n",
    "# 스케일링"
   ]
  },
  {
   "cell_type": "code",
   "execution_count": 157,
   "metadata": {},
   "outputs": [],
   "source": [
    "# final_X_test 데이터도 스캐일링 수행\n",
    "\n",
    "from sklearn.preprocessing import RobustScaler, MinMaxScaler, StandardScaler\n",
    "#scaler = RobustScaler()\n",
    "scaler = MinMaxScaler()\n",
    "#scaler = StandardScaler()\n",
    "scaler.fit(X_train)\n",
    "X_train = scaler.transform(X_train)\n",
    "X_test = scaler.transform(X_test)\n",
    "final_X_test = scaler.transform(final_X_test)"
   ]
  },
  {
   "cell_type": "code",
   "execution_count": 158,
   "metadata": {},
   "outputs": [],
   "source": [
    "X_train = pd.DataFrame(data=X_train, columns=col_name)\n",
    "X_test = pd.DataFrame(data=X_test, columns=col_name)\n",
    "final_X_test = pd.DataFrame(data=final_X_test, columns=col_name)"
   ]
  },
  {
   "cell_type": "code",
   "execution_count": 159,
   "metadata": {},
   "outputs": [
    {
     "data": {
      "text/plain": [
       "((62997, 73), (26999, 73), (100000, 73))"
      ]
     },
     "execution_count": 159,
     "metadata": {},
     "output_type": "execute_result"
    }
   ],
   "source": [
    "X_train.shape, X_test.shape, final_X_test.shape"
   ]
  },
  {
   "cell_type": "code",
   "execution_count": 160,
   "metadata": {},
   "outputs": [
    {
     "data": {
      "text/html": [
       "<div>\n",
       "<style scoped>\n",
       "    .dataframe tbody tr th:only-of-type {\n",
       "        vertical-align: middle;\n",
       "    }\n",
       "\n",
       "    .dataframe tbody tr th {\n",
       "        vertical-align: top;\n",
       "    }\n",
       "\n",
       "    .dataframe thead th {\n",
       "        text-align: right;\n",
       "    }\n",
       "</style>\n",
       "<table border=\"1\" class=\"dataframe\">\n",
       "  <thead>\n",
       "    <tr style=\"text-align: right;\">\n",
       "      <th></th>\n",
       "      <th>age_itg_cd</th>\n",
       "      <th>efct_mphon_sbsc_cascnt</th>\n",
       "      <th>efct_pstn_sbsc_cascnt</th>\n",
       "      <th>efct_inet_sbsc_cascnt</th>\n",
       "      <th>efct_iptv_sbsc_cascnt</th>\n",
       "      <th>r3m_avg_bill_amt</th>\n",
       "      <th>r3m_mphon_avg_arpu_amt</th>\n",
       "      <th>r3m_iptv_avg_arpu_amt</th>\n",
       "      <th>r3m_inet_avg_arpu_amt</th>\n",
       "      <th>r6m_mphon_avg_arpu_amt</th>\n",
       "      <th>...</th>\n",
       "      <th>acrnd_dsp_meth_nm_모바일</th>\n",
       "      <th>acrnd_dsp_meth_nm_스마트(앱)</th>\n",
       "      <th>pay_way_nm_은행계좌 자동이체</th>\n",
       "      <th>pay_way_nm_지로</th>\n",
       "      <th>r6m_inet_pssn_comb_yn_Y</th>\n",
       "      <th>mphon_comb_yn_Y</th>\n",
       "      <th>inet_comb_yn_Y</th>\n",
       "      <th>wless_terml_gun_div_nm_LTE스마트폰</th>\n",
       "      <th>wless_terml_gun_div_nm_기타</th>\n",
       "      <th>insur_prod_sbsc_yn_Y</th>\n",
       "    </tr>\n",
       "  </thead>\n",
       "  <tbody>\n",
       "    <tr>\n",
       "      <th>62992</th>\n",
       "      <td>0.421053</td>\n",
       "      <td>0.076923</td>\n",
       "      <td>0.0</td>\n",
       "      <td>0.000000</td>\n",
       "      <td>0.000000</td>\n",
       "      <td>0.776855</td>\n",
       "      <td>0.693662</td>\n",
       "      <td>0.666181</td>\n",
       "      <td>0.698843</td>\n",
       "      <td>0.673893</td>\n",
       "      <td>...</td>\n",
       "      <td>1.0</td>\n",
       "      <td>0.0</td>\n",
       "      <td>1.0</td>\n",
       "      <td>0.0</td>\n",
       "      <td>1.0</td>\n",
       "      <td>0.0</td>\n",
       "      <td>1.0</td>\n",
       "      <td>1.0</td>\n",
       "      <td>0.0</td>\n",
       "      <td>0.0</td>\n",
       "    </tr>\n",
       "    <tr>\n",
       "      <th>62993</th>\n",
       "      <td>0.289474</td>\n",
       "      <td>0.076923</td>\n",
       "      <td>0.0</td>\n",
       "      <td>0.023256</td>\n",
       "      <td>0.004255</td>\n",
       "      <td>0.795588</td>\n",
       "      <td>0.709272</td>\n",
       "      <td>0.655389</td>\n",
       "      <td>0.696836</td>\n",
       "      <td>0.710055</td>\n",
       "      <td>...</td>\n",
       "      <td>0.0</td>\n",
       "      <td>0.0</td>\n",
       "      <td>0.0</td>\n",
       "      <td>1.0</td>\n",
       "      <td>1.0</td>\n",
       "      <td>1.0</td>\n",
       "      <td>1.0</td>\n",
       "      <td>0.0</td>\n",
       "      <td>0.0</td>\n",
       "      <td>1.0</td>\n",
       "    </tr>\n",
       "    <tr>\n",
       "      <th>62994</th>\n",
       "      <td>0.263158</td>\n",
       "      <td>0.076923</td>\n",
       "      <td>0.0</td>\n",
       "      <td>0.000000</td>\n",
       "      <td>0.000000</td>\n",
       "      <td>0.834623</td>\n",
       "      <td>0.687356</td>\n",
       "      <td>0.000000</td>\n",
       "      <td>0.000000</td>\n",
       "      <td>0.687834</td>\n",
       "      <td>...</td>\n",
       "      <td>1.0</td>\n",
       "      <td>0.0</td>\n",
       "      <td>0.0</td>\n",
       "      <td>1.0</td>\n",
       "      <td>0.0</td>\n",
       "      <td>1.0</td>\n",
       "      <td>1.0</td>\n",
       "      <td>1.0</td>\n",
       "      <td>0.0</td>\n",
       "      <td>0.0</td>\n",
       "    </tr>\n",
       "    <tr>\n",
       "      <th>62995</th>\n",
       "      <td>0.114035</td>\n",
       "      <td>0.076923</td>\n",
       "      <td>0.0</td>\n",
       "      <td>0.000000</td>\n",
       "      <td>0.000000</td>\n",
       "      <td>0.745700</td>\n",
       "      <td>0.693168</td>\n",
       "      <td>0.000000</td>\n",
       "      <td>0.000000</td>\n",
       "      <td>0.693155</td>\n",
       "      <td>...</td>\n",
       "      <td>1.0</td>\n",
       "      <td>0.0</td>\n",
       "      <td>0.0</td>\n",
       "      <td>1.0</td>\n",
       "      <td>0.0</td>\n",
       "      <td>0.0</td>\n",
       "      <td>0.0</td>\n",
       "      <td>0.0</td>\n",
       "      <td>0.0</td>\n",
       "      <td>1.0</td>\n",
       "    </tr>\n",
       "    <tr>\n",
       "      <th>62996</th>\n",
       "      <td>0.377193</td>\n",
       "      <td>0.000000</td>\n",
       "      <td>0.0</td>\n",
       "      <td>0.023256</td>\n",
       "      <td>0.000000</td>\n",
       "      <td>0.778381</td>\n",
       "      <td>0.692406</td>\n",
       "      <td>0.740028</td>\n",
       "      <td>0.684326</td>\n",
       "      <td>0.692412</td>\n",
       "      <td>...</td>\n",
       "      <td>1.0</td>\n",
       "      <td>0.0</td>\n",
       "      <td>1.0</td>\n",
       "      <td>0.0</td>\n",
       "      <td>1.0</td>\n",
       "      <td>1.0</td>\n",
       "      <td>1.0</td>\n",
       "      <td>1.0</td>\n",
       "      <td>0.0</td>\n",
       "      <td>0.0</td>\n",
       "    </tr>\n",
       "  </tbody>\n",
       "</table>\n",
       "<p>5 rows × 73 columns</p>\n",
       "</div>"
      ],
      "text/plain": [
       "       age_itg_cd  efct_mphon_sbsc_cascnt  efct_pstn_sbsc_cascnt  \\\n",
       "62992    0.421053                0.076923                    0.0   \n",
       "62993    0.289474                0.076923                    0.0   \n",
       "62994    0.263158                0.076923                    0.0   \n",
       "62995    0.114035                0.076923                    0.0   \n",
       "62996    0.377193                0.000000                    0.0   \n",
       "\n",
       "       efct_inet_sbsc_cascnt  efct_iptv_sbsc_cascnt  r3m_avg_bill_amt  \\\n",
       "62992               0.000000               0.000000          0.776855   \n",
       "62993               0.023256               0.004255          0.795588   \n",
       "62994               0.000000               0.000000          0.834623   \n",
       "62995               0.000000               0.000000          0.745700   \n",
       "62996               0.023256               0.000000          0.778381   \n",
       "\n",
       "       r3m_mphon_avg_arpu_amt  r3m_iptv_avg_arpu_amt  r3m_inet_avg_arpu_amt  \\\n",
       "62992                0.693662               0.666181               0.698843   \n",
       "62993                0.709272               0.655389               0.696836   \n",
       "62994                0.687356               0.000000               0.000000   \n",
       "62995                0.693168               0.000000               0.000000   \n",
       "62996                0.692406               0.740028               0.684326   \n",
       "\n",
       "       r6m_mphon_avg_arpu_amt  ...  acrnd_dsp_meth_nm_모바일  \\\n",
       "62992                0.673893  ...                    1.0   \n",
       "62993                0.710055  ...                    0.0   \n",
       "62994                0.687834  ...                    1.0   \n",
       "62995                0.693155  ...                    1.0   \n",
       "62996                0.692412  ...                    1.0   \n",
       "\n",
       "       acrnd_dsp_meth_nm_스마트(앱)  pay_way_nm_은행계좌 자동이체  pay_way_nm_지로  \\\n",
       "62992                       0.0                   1.0            0.0   \n",
       "62993                       0.0                   0.0            1.0   \n",
       "62994                       0.0                   0.0            1.0   \n",
       "62995                       0.0                   0.0            1.0   \n",
       "62996                       0.0                   1.0            0.0   \n",
       "\n",
       "       r6m_inet_pssn_comb_yn_Y  mphon_comb_yn_Y  inet_comb_yn_Y  \\\n",
       "62992                      1.0              0.0             1.0   \n",
       "62993                      1.0              1.0             1.0   \n",
       "62994                      0.0              1.0             1.0   \n",
       "62995                      0.0              0.0             0.0   \n",
       "62996                      1.0              1.0             1.0   \n",
       "\n",
       "       wless_terml_gun_div_nm_LTE스마트폰  wless_terml_gun_div_nm_기타  \\\n",
       "62992                             1.0                        0.0   \n",
       "62993                             0.0                        0.0   \n",
       "62994                             1.0                        0.0   \n",
       "62995                             0.0                        0.0   \n",
       "62996                             1.0                        0.0   \n",
       "\n",
       "       insur_prod_sbsc_yn_Y  \n",
       "62992                   0.0  \n",
       "62993                   1.0  \n",
       "62994                   0.0  \n",
       "62995                   1.0  \n",
       "62996                   0.0  \n",
       "\n",
       "[5 rows x 73 columns]"
      ]
     },
     "execution_count": 160,
     "metadata": {},
     "output_type": "execute_result"
    }
   ],
   "source": [
    "X_train.tail()"
   ]
  },
  {
   "cell_type": "code",
   "execution_count": 161,
   "metadata": {},
   "outputs": [
    {
     "data": {
      "text/html": [
       "<div>\n",
       "<style scoped>\n",
       "    .dataframe tbody tr th:only-of-type {\n",
       "        vertical-align: middle;\n",
       "    }\n",
       "\n",
       "    .dataframe tbody tr th {\n",
       "        vertical-align: top;\n",
       "    }\n",
       "\n",
       "    .dataframe thead th {\n",
       "        text-align: right;\n",
       "    }\n",
       "</style>\n",
       "<table border=\"1\" class=\"dataframe\">\n",
       "  <thead>\n",
       "    <tr style=\"text-align: right;\">\n",
       "      <th></th>\n",
       "      <th>age_itg_cd</th>\n",
       "      <th>efct_mphon_sbsc_cascnt</th>\n",
       "      <th>efct_pstn_sbsc_cascnt</th>\n",
       "      <th>efct_inet_sbsc_cascnt</th>\n",
       "      <th>efct_iptv_sbsc_cascnt</th>\n",
       "      <th>r3m_avg_bill_amt</th>\n",
       "      <th>r3m_mphon_avg_arpu_amt</th>\n",
       "      <th>r3m_iptv_avg_arpu_amt</th>\n",
       "      <th>r3m_inet_avg_arpu_amt</th>\n",
       "      <th>r6m_mphon_avg_arpu_amt</th>\n",
       "      <th>...</th>\n",
       "      <th>acrnd_dsp_meth_nm_모바일</th>\n",
       "      <th>acrnd_dsp_meth_nm_스마트(앱)</th>\n",
       "      <th>pay_way_nm_은행계좌 자동이체</th>\n",
       "      <th>pay_way_nm_지로</th>\n",
       "      <th>r6m_inet_pssn_comb_yn_Y</th>\n",
       "      <th>mphon_comb_yn_Y</th>\n",
       "      <th>inet_comb_yn_Y</th>\n",
       "      <th>wless_terml_gun_div_nm_LTE스마트폰</th>\n",
       "      <th>wless_terml_gun_div_nm_기타</th>\n",
       "      <th>insur_prod_sbsc_yn_Y</th>\n",
       "    </tr>\n",
       "  </thead>\n",
       "  <tbody>\n",
       "    <tr>\n",
       "      <th>26994</th>\n",
       "      <td>0.166667</td>\n",
       "      <td>0.000000</td>\n",
       "      <td>0.0</td>\n",
       "      <td>0.000000</td>\n",
       "      <td>0.000000</td>\n",
       "      <td>0.748567</td>\n",
       "      <td>0.722859</td>\n",
       "      <td>0.00000</td>\n",
       "      <td>0.000000</td>\n",
       "      <td>0.717168</td>\n",
       "      <td>...</td>\n",
       "      <td>0.0</td>\n",
       "      <td>1.0</td>\n",
       "      <td>0.0</td>\n",
       "      <td>1.0</td>\n",
       "      <td>0.0</td>\n",
       "      <td>0.0</td>\n",
       "      <td>0.0</td>\n",
       "      <td>1.0</td>\n",
       "      <td>0.0</td>\n",
       "      <td>0.0</td>\n",
       "    </tr>\n",
       "    <tr>\n",
       "      <th>26995</th>\n",
       "      <td>0.385965</td>\n",
       "      <td>0.000000</td>\n",
       "      <td>0.0</td>\n",
       "      <td>0.000000</td>\n",
       "      <td>0.000000</td>\n",
       "      <td>0.852790</td>\n",
       "      <td>0.718401</td>\n",
       "      <td>0.00000</td>\n",
       "      <td>0.670786</td>\n",
       "      <td>0.728283</td>\n",
       "      <td>...</td>\n",
       "      <td>0.0</td>\n",
       "      <td>1.0</td>\n",
       "      <td>0.0</td>\n",
       "      <td>1.0</td>\n",
       "      <td>1.0</td>\n",
       "      <td>1.0</td>\n",
       "      <td>1.0</td>\n",
       "      <td>0.0</td>\n",
       "      <td>0.0</td>\n",
       "      <td>1.0</td>\n",
       "    </tr>\n",
       "    <tr>\n",
       "      <th>26996</th>\n",
       "      <td>0.254386</td>\n",
       "      <td>0.000000</td>\n",
       "      <td>0.0</td>\n",
       "      <td>0.023256</td>\n",
       "      <td>0.004255</td>\n",
       "      <td>0.823407</td>\n",
       "      <td>0.706347</td>\n",
       "      <td>0.74238</td>\n",
       "      <td>0.695078</td>\n",
       "      <td>0.706617</td>\n",
       "      <td>...</td>\n",
       "      <td>0.0</td>\n",
       "      <td>1.0</td>\n",
       "      <td>0.0</td>\n",
       "      <td>0.0</td>\n",
       "      <td>1.0</td>\n",
       "      <td>1.0</td>\n",
       "      <td>1.0</td>\n",
       "      <td>1.0</td>\n",
       "      <td>0.0</td>\n",
       "      <td>0.0</td>\n",
       "    </tr>\n",
       "    <tr>\n",
       "      <th>26997</th>\n",
       "      <td>0.149123</td>\n",
       "      <td>0.076923</td>\n",
       "      <td>0.0</td>\n",
       "      <td>0.000000</td>\n",
       "      <td>0.000000</td>\n",
       "      <td>0.773938</td>\n",
       "      <td>0.746468</td>\n",
       "      <td>0.00000</td>\n",
       "      <td>0.000000</td>\n",
       "      <td>0.739872</td>\n",
       "      <td>...</td>\n",
       "      <td>1.0</td>\n",
       "      <td>0.0</td>\n",
       "      <td>0.0</td>\n",
       "      <td>1.0</td>\n",
       "      <td>0.0</td>\n",
       "      <td>1.0</td>\n",
       "      <td>1.0</td>\n",
       "      <td>0.0</td>\n",
       "      <td>0.0</td>\n",
       "      <td>1.0</td>\n",
       "    </tr>\n",
       "    <tr>\n",
       "      <th>26998</th>\n",
       "      <td>0.324561</td>\n",
       "      <td>0.076923</td>\n",
       "      <td>0.0</td>\n",
       "      <td>0.000000</td>\n",
       "      <td>0.000000</td>\n",
       "      <td>0.719288</td>\n",
       "      <td>0.716615</td>\n",
       "      <td>0.00000</td>\n",
       "      <td>0.000000</td>\n",
       "      <td>0.716621</td>\n",
       "      <td>...</td>\n",
       "      <td>1.0</td>\n",
       "      <td>0.0</td>\n",
       "      <td>0.0</td>\n",
       "      <td>1.0</td>\n",
       "      <td>0.0</td>\n",
       "      <td>0.0</td>\n",
       "      <td>0.0</td>\n",
       "      <td>1.0</td>\n",
       "      <td>0.0</td>\n",
       "      <td>0.0</td>\n",
       "    </tr>\n",
       "  </tbody>\n",
       "</table>\n",
       "<p>5 rows × 73 columns</p>\n",
       "</div>"
      ],
      "text/plain": [
       "       age_itg_cd  efct_mphon_sbsc_cascnt  efct_pstn_sbsc_cascnt  \\\n",
       "26994    0.166667                0.000000                    0.0   \n",
       "26995    0.385965                0.000000                    0.0   \n",
       "26996    0.254386                0.000000                    0.0   \n",
       "26997    0.149123                0.076923                    0.0   \n",
       "26998    0.324561                0.076923                    0.0   \n",
       "\n",
       "       efct_inet_sbsc_cascnt  efct_iptv_sbsc_cascnt  r3m_avg_bill_amt  \\\n",
       "26994               0.000000               0.000000          0.748567   \n",
       "26995               0.000000               0.000000          0.852790   \n",
       "26996               0.023256               0.004255          0.823407   \n",
       "26997               0.000000               0.000000          0.773938   \n",
       "26998               0.000000               0.000000          0.719288   \n",
       "\n",
       "       r3m_mphon_avg_arpu_amt  r3m_iptv_avg_arpu_amt  r3m_inet_avg_arpu_amt  \\\n",
       "26994                0.722859                0.00000               0.000000   \n",
       "26995                0.718401                0.00000               0.670786   \n",
       "26996                0.706347                0.74238               0.695078   \n",
       "26997                0.746468                0.00000               0.000000   \n",
       "26998                0.716615                0.00000               0.000000   \n",
       "\n",
       "       r6m_mphon_avg_arpu_amt  ...  acrnd_dsp_meth_nm_모바일  \\\n",
       "26994                0.717168  ...                    0.0   \n",
       "26995                0.728283  ...                    0.0   \n",
       "26996                0.706617  ...                    0.0   \n",
       "26997                0.739872  ...                    1.0   \n",
       "26998                0.716621  ...                    1.0   \n",
       "\n",
       "       acrnd_dsp_meth_nm_스마트(앱)  pay_way_nm_은행계좌 자동이체  pay_way_nm_지로  \\\n",
       "26994                       1.0                   0.0            1.0   \n",
       "26995                       1.0                   0.0            1.0   \n",
       "26996                       1.0                   0.0            0.0   \n",
       "26997                       0.0                   0.0            1.0   \n",
       "26998                       0.0                   0.0            1.0   \n",
       "\n",
       "       r6m_inet_pssn_comb_yn_Y  mphon_comb_yn_Y  inet_comb_yn_Y  \\\n",
       "26994                      0.0              0.0             0.0   \n",
       "26995                      1.0              1.0             1.0   \n",
       "26996                      1.0              1.0             1.0   \n",
       "26997                      0.0              1.0             1.0   \n",
       "26998                      0.0              0.0             0.0   \n",
       "\n",
       "       wless_terml_gun_div_nm_LTE스마트폰  wless_terml_gun_div_nm_기타  \\\n",
       "26994                             1.0                        0.0   \n",
       "26995                             0.0                        0.0   \n",
       "26996                             1.0                        0.0   \n",
       "26997                             0.0                        0.0   \n",
       "26998                             1.0                        0.0   \n",
       "\n",
       "       insur_prod_sbsc_yn_Y  \n",
       "26994                   0.0  \n",
       "26995                   1.0  \n",
       "26996                   0.0  \n",
       "26997                   1.0  \n",
       "26998                   0.0  \n",
       "\n",
       "[5 rows x 73 columns]"
      ]
     },
     "execution_count": 161,
     "metadata": {},
     "output_type": "execute_result"
    }
   ],
   "source": [
    "X_test.tail()"
   ]
  },
  {
   "cell_type": "code",
   "execution_count": 162,
   "metadata": {},
   "outputs": [
    {
     "data": {
      "text/html": [
       "<div>\n",
       "<style scoped>\n",
       "    .dataframe tbody tr th:only-of-type {\n",
       "        vertical-align: middle;\n",
       "    }\n",
       "\n",
       "    .dataframe tbody tr th {\n",
       "        vertical-align: top;\n",
       "    }\n",
       "\n",
       "    .dataframe thead th {\n",
       "        text-align: right;\n",
       "    }\n",
       "</style>\n",
       "<table border=\"1\" class=\"dataframe\">\n",
       "  <thead>\n",
       "    <tr style=\"text-align: right;\">\n",
       "      <th></th>\n",
       "      <th>age_itg_cd</th>\n",
       "      <th>efct_mphon_sbsc_cascnt</th>\n",
       "      <th>efct_pstn_sbsc_cascnt</th>\n",
       "      <th>efct_inet_sbsc_cascnt</th>\n",
       "      <th>efct_iptv_sbsc_cascnt</th>\n",
       "      <th>r3m_avg_bill_amt</th>\n",
       "      <th>r3m_mphon_avg_arpu_amt</th>\n",
       "      <th>r3m_iptv_avg_arpu_amt</th>\n",
       "      <th>r3m_inet_avg_arpu_amt</th>\n",
       "      <th>r6m_mphon_avg_arpu_amt</th>\n",
       "      <th>...</th>\n",
       "      <th>acrnd_dsp_meth_nm_모바일</th>\n",
       "      <th>acrnd_dsp_meth_nm_스마트(앱)</th>\n",
       "      <th>pay_way_nm_은행계좌 자동이체</th>\n",
       "      <th>pay_way_nm_지로</th>\n",
       "      <th>r6m_inet_pssn_comb_yn_Y</th>\n",
       "      <th>mphon_comb_yn_Y</th>\n",
       "      <th>inet_comb_yn_Y</th>\n",
       "      <th>wless_terml_gun_div_nm_LTE스마트폰</th>\n",
       "      <th>wless_terml_gun_div_nm_기타</th>\n",
       "      <th>insur_prod_sbsc_yn_Y</th>\n",
       "    </tr>\n",
       "  </thead>\n",
       "  <tbody>\n",
       "    <tr>\n",
       "      <th>99995</th>\n",
       "      <td>0.359649</td>\n",
       "      <td>0.000000</td>\n",
       "      <td>0.000000</td>\n",
       "      <td>0.000000</td>\n",
       "      <td>0.000000</td>\n",
       "      <td>0.744614</td>\n",
       "      <td>0.745512</td>\n",
       "      <td>0.000000</td>\n",
       "      <td>0.000000</td>\n",
       "      <td>0.745519</td>\n",
       "      <td>...</td>\n",
       "      <td>1.0</td>\n",
       "      <td>0.0</td>\n",
       "      <td>0.0</td>\n",
       "      <td>1.0</td>\n",
       "      <td>0.0</td>\n",
       "      <td>0.0</td>\n",
       "      <td>0.0</td>\n",
       "      <td>1.0</td>\n",
       "      <td>0.0</td>\n",
       "      <td>0.0</td>\n",
       "    </tr>\n",
       "    <tr>\n",
       "      <th>99996</th>\n",
       "      <td>0.438596</td>\n",
       "      <td>0.000000</td>\n",
       "      <td>0.003311</td>\n",
       "      <td>0.023256</td>\n",
       "      <td>0.004255</td>\n",
       "      <td>0.766474</td>\n",
       "      <td>0.000000</td>\n",
       "      <td>0.733135</td>\n",
       "      <td>0.722344</td>\n",
       "      <td>0.000000</td>\n",
       "      <td>...</td>\n",
       "      <td>0.0</td>\n",
       "      <td>0.0</td>\n",
       "      <td>1.0</td>\n",
       "      <td>0.0</td>\n",
       "      <td>1.0</td>\n",
       "      <td>0.0</td>\n",
       "      <td>1.0</td>\n",
       "      <td>0.0</td>\n",
       "      <td>1.0</td>\n",
       "      <td>0.0</td>\n",
       "    </tr>\n",
       "    <tr>\n",
       "      <th>99997</th>\n",
       "      <td>0.403509</td>\n",
       "      <td>0.000000</td>\n",
       "      <td>0.006623</td>\n",
       "      <td>0.000000</td>\n",
       "      <td>0.000000</td>\n",
       "      <td>0.796955</td>\n",
       "      <td>0.742929</td>\n",
       "      <td>0.000000</td>\n",
       "      <td>0.000000</td>\n",
       "      <td>0.741195</td>\n",
       "      <td>...</td>\n",
       "      <td>1.0</td>\n",
       "      <td>0.0</td>\n",
       "      <td>0.0</td>\n",
       "      <td>0.0</td>\n",
       "      <td>1.0</td>\n",
       "      <td>0.0</td>\n",
       "      <td>0.0</td>\n",
       "      <td>1.0</td>\n",
       "      <td>0.0</td>\n",
       "      <td>1.0</td>\n",
       "    </tr>\n",
       "    <tr>\n",
       "      <th>99998</th>\n",
       "      <td>0.131579</td>\n",
       "      <td>0.076923</td>\n",
       "      <td>0.000000</td>\n",
       "      <td>0.000000</td>\n",
       "      <td>0.000000</td>\n",
       "      <td>0.764423</td>\n",
       "      <td>0.722360</td>\n",
       "      <td>0.000000</td>\n",
       "      <td>0.000000</td>\n",
       "      <td>0.721312</td>\n",
       "      <td>...</td>\n",
       "      <td>1.0</td>\n",
       "      <td>0.0</td>\n",
       "      <td>0.0</td>\n",
       "      <td>0.0</td>\n",
       "      <td>0.0</td>\n",
       "      <td>1.0</td>\n",
       "      <td>1.0</td>\n",
       "      <td>0.0</td>\n",
       "      <td>0.0</td>\n",
       "      <td>1.0</td>\n",
       "    </tr>\n",
       "    <tr>\n",
       "      <th>99999</th>\n",
       "      <td>0.438596</td>\n",
       "      <td>0.076923</td>\n",
       "      <td>0.000000</td>\n",
       "      <td>0.000000</td>\n",
       "      <td>0.000000</td>\n",
       "      <td>0.689134</td>\n",
       "      <td>0.690576</td>\n",
       "      <td>0.000000</td>\n",
       "      <td>0.000000</td>\n",
       "      <td>0.690513</td>\n",
       "      <td>...</td>\n",
       "      <td>0.0</td>\n",
       "      <td>1.0</td>\n",
       "      <td>1.0</td>\n",
       "      <td>0.0</td>\n",
       "      <td>0.0</td>\n",
       "      <td>1.0</td>\n",
       "      <td>1.0</td>\n",
       "      <td>1.0</td>\n",
       "      <td>0.0</td>\n",
       "      <td>0.0</td>\n",
       "    </tr>\n",
       "  </tbody>\n",
       "</table>\n",
       "<p>5 rows × 73 columns</p>\n",
       "</div>"
      ],
      "text/plain": [
       "       age_itg_cd  efct_mphon_sbsc_cascnt  efct_pstn_sbsc_cascnt  \\\n",
       "99995    0.359649                0.000000               0.000000   \n",
       "99996    0.438596                0.000000               0.003311   \n",
       "99997    0.403509                0.000000               0.006623   \n",
       "99998    0.131579                0.076923               0.000000   \n",
       "99999    0.438596                0.076923               0.000000   \n",
       "\n",
       "       efct_inet_sbsc_cascnt  efct_iptv_sbsc_cascnt  r3m_avg_bill_amt  \\\n",
       "99995               0.000000               0.000000          0.744614   \n",
       "99996               0.023256               0.004255          0.766474   \n",
       "99997               0.000000               0.000000          0.796955   \n",
       "99998               0.000000               0.000000          0.764423   \n",
       "99999               0.000000               0.000000          0.689134   \n",
       "\n",
       "       r3m_mphon_avg_arpu_amt  r3m_iptv_avg_arpu_amt  r3m_inet_avg_arpu_amt  \\\n",
       "99995                0.745512               0.000000               0.000000   \n",
       "99996                0.000000               0.733135               0.722344   \n",
       "99997                0.742929               0.000000               0.000000   \n",
       "99998                0.722360               0.000000               0.000000   \n",
       "99999                0.690576               0.000000               0.000000   \n",
       "\n",
       "       r6m_mphon_avg_arpu_amt  ...  acrnd_dsp_meth_nm_모바일  \\\n",
       "99995                0.745519  ...                    1.0   \n",
       "99996                0.000000  ...                    0.0   \n",
       "99997                0.741195  ...                    1.0   \n",
       "99998                0.721312  ...                    1.0   \n",
       "99999                0.690513  ...                    0.0   \n",
       "\n",
       "       acrnd_dsp_meth_nm_스마트(앱)  pay_way_nm_은행계좌 자동이체  pay_way_nm_지로  \\\n",
       "99995                       0.0                   0.0            1.0   \n",
       "99996                       0.0                   1.0            0.0   \n",
       "99997                       0.0                   0.0            0.0   \n",
       "99998                       0.0                   0.0            0.0   \n",
       "99999                       1.0                   1.0            0.0   \n",
       "\n",
       "       r6m_inet_pssn_comb_yn_Y  mphon_comb_yn_Y  inet_comb_yn_Y  \\\n",
       "99995                      0.0              0.0             0.0   \n",
       "99996                      1.0              0.0             1.0   \n",
       "99997                      1.0              0.0             0.0   \n",
       "99998                      0.0              1.0             1.0   \n",
       "99999                      0.0              1.0             1.0   \n",
       "\n",
       "       wless_terml_gun_div_nm_LTE스마트폰  wless_terml_gun_div_nm_기타  \\\n",
       "99995                             1.0                        0.0   \n",
       "99996                             0.0                        1.0   \n",
       "99997                             1.0                        0.0   \n",
       "99998                             0.0                        0.0   \n",
       "99999                             1.0                        0.0   \n",
       "\n",
       "       insur_prod_sbsc_yn_Y  \n",
       "99995                   0.0  \n",
       "99996                   0.0  \n",
       "99997                   1.0  \n",
       "99998                   1.0  \n",
       "99999                   0.0  \n",
       "\n",
       "[5 rows x 73 columns]"
      ]
     },
     "execution_count": 162,
     "metadata": {},
     "output_type": "execute_result"
    }
   ],
   "source": [
    "final_X_test.tail()"
   ]
  },
  {
   "cell_type": "markdown",
   "metadata": {},
   "source": [
    "# \n",
    "# 모델 생성 및 평가"
   ]
  },
  {
   "cell_type": "code",
   "execution_count": 163,
   "metadata": {},
   "outputs": [],
   "source": [
    "# 모델별 성능 그래프\n",
    "\n",
    "import matplotlib.pyplot as plt\n",
    "import seaborn as sns\n",
    "\n",
    "my_predictions = {}\n",
    "\n",
    "colors = ['r', 'c', 'm', 'y', 'k', 'khaki', 'teal', 'orchid', 'sandybrown',\n",
    "          'greenyellow', 'dodgerblue', 'deepskyblue', 'rosybrown', 'firebrick',\n",
    "          'deeppink', 'crimson', 'salmon', 'darkred', 'olivedrab', 'olive', \n",
    "          'forestgreen', 'royalblue', 'indigo', 'navy', 'mediumpurple', 'chocolate',\n",
    "          'gold', 'darkorange', 'seagreen', 'turquoise', 'steelblue', 'slategray', \n",
    "          'peru', 'midnightblue', 'slateblue', 'dimgray', 'cadetblue', 'tomato'\n",
    "         ]\n",
    "\n",
    "\n",
    "#acc를 구해서 시각화해줌\n",
    "def acc_eval(name_, pred, actual):\n",
    "    global predictions\n",
    "    global colors\n",
    "\n",
    "    acc = (pred==actual).mean()\n",
    "    my_predictions[name_] = acc\n",
    "\n",
    "\n",
    "    y_value = sorted(my_predictions.items(), key=lambda x: x[1], reverse=False)  # 정확도 내림차순으로 sort\n",
    "    \n",
    "    df = pd.DataFrame(y_value, columns=['model', 'acc'])\n",
    "    print(df)\n",
    "    min_ = df['acc'].min() -1\n",
    "    max_ = 1.2\n",
    "    \n",
    "    length = len(df)\n",
    "    \n",
    "    plt.figure(figsize=(10, length))\n",
    "    ax = plt.subplot()\n",
    "    ax.set_yticks(np.arange(len(df)))\n",
    "    ax.set_yticklabels(df['model'], fontsize=15)\n",
    "    bars = ax.barh(np.arange(len(df)), df['acc'])\n",
    "    \n",
    "    for i, v in enumerate(df['acc']):\n",
    "        idx = np.random.choice(len(colors))\n",
    "        bars[i].set_color(colors[idx])\n",
    "        ax.text(v+0.1, i, str(round(v, 3)), color='k', fontsize=15, fontweight='bold')\n",
    "        \n",
    "    plt.title('Accuracy', fontsize=18)\n",
    "    plt.xlim(min_,max_)\n",
    "    \n",
    "    plt.show()\n",
    "    \n",
    "#acc를 구해서 시각화해줌(cross_val_score 사용하는 경우)\n",
    "def acc_eval_add(name_, acc):\n",
    "    global predictions\n",
    "    global colors\n",
    "\n",
    "    my_predictions[name_] = acc\n",
    "\n",
    "\n",
    "    y_value = sorted(my_predictions.items(), key=lambda x: x[1], reverse=False)  # 정확도 내림차순으로 sort\n",
    "    \n",
    "    df = pd.DataFrame(y_value, columns=['model', 'acc'])\n",
    "    print(df)\n",
    "    min_ = df['acc'].min() -1\n",
    "    max_ = 1.2\n",
    "    \n",
    "    length = len(df)\n",
    "    \n",
    "    plt.figure(figsize=(10, length))\n",
    "    ax = plt.subplot()\n",
    "    ax.set_yticks(np.arange(len(df)))\n",
    "    ax.set_yticklabels(df['model'], fontsize=15)\n",
    "    bars = ax.barh(np.arange(len(df)), df['acc'])\n",
    "    \n",
    "    for i, v in enumerate(df['acc']):\n",
    "        idx = np.random.choice(len(colors))\n",
    "        bars[i].set_color(colors[idx])\n",
    "        ax.text(v+0.1, i, str(round(v, 3)), color='k', fontsize=15, fontweight='bold')\n",
    "        \n",
    "    plt.title('Accuracy', fontsize=18)\n",
    "    plt.xlim(min_,max_)\n",
    "    \n",
    "    plt.show()\n",
    "    \n",
    "#실수로 잘못 넣은 경우 해당 모델을 삭제\n",
    "def remove_model(name_):\n",
    "    global my_predictions\n",
    "    try:\n",
    "        del my_predictions[name_]\n",
    "    except KeyError:\n",
    "        return False\n",
    "    return True"
   ]
  },
  {
   "cell_type": "code",
   "execution_count": 164,
   "metadata": {},
   "outputs": [],
   "source": [
    "from sklearn.metrics import confusion_matrix, accuracy_score, precision_score, recall_score, f1_score\n",
    "from sklearn.metrics import roc_auc_score\n",
    "\n",
    "# 수정된 get_clf_eval() 함수 \n",
    "def get_clf_eval(y_test, pred=None, pred_proba=None):\n",
    "    confusion = confusion_matrix( y_test, pred)\n",
    "    accuracy = accuracy_score(y_test , pred)\n",
    "    precision = precision_score(y_test , pred)\n",
    "    recall = recall_score(y_test , pred)\n",
    "    f1 = f1_score(y_test,pred)\n",
    "    # ROC-AUC 추가 \n",
    "    roc_auc = roc_auc_score(y_test, pred_proba)\n",
    "    print('오차 행렬')\n",
    "    print(confusion)\n",
    "    # ROC-AUC print 추가\n",
    "    print('정확도: {0:.4f}, 정밀도: {1:.4f}, 재현율: {2:.4f},\\\n",
    "    F1: {3:.4f}, AUC:{4:.4f}'.format(accuracy, precision, recall, f1, roc_auc))"
   ]
  },
  {
   "cell_type": "code",
   "execution_count": 165,
   "metadata": {},
   "outputs": [],
   "source": [
    "# 인자로 사이킷런의 Estimator객체와, 학습/테스트 데이터 세트를 입력 받아서 학습/예측/평가 수행.\n",
    "import time\n",
    "\n",
    "def get_model_train_eval(name_, model, ftr_train=None, ftr_test=None, tgt_train=None, tgt_test=None):\n",
    "    start = time.time()\n",
    "    model.fit(ftr_train, tgt_train)\n",
    "    pred = model.predict(ftr_test)\n",
    "    \n",
    "    pred_proba = model.predict_proba(ftr_test)[:, 1]\n",
    "    get_clf_eval(tgt_test, pred, pred_proba)\n",
    "    spend_time = (time.time()-start)/60\n",
    "    print(f'\\n\\n* Total Model Eval Time : {spend_time}\\n\\n')\n",
    "    acc_eval(name_, pred, tgt_test)\n"
   ]
  },
  {
   "cell_type": "code",
   "execution_count": 166,
   "metadata": {},
   "outputs": [],
   "source": [
    "def save_model(save_name, model, X_test):\n",
    "    X_test_pred = model.predict(X_test)\n",
    "    #print('Test prediction shape:',X_test_pred.shape)\n",
    "    pred_series = pd.Series(X_test_pred)\n",
    "    final_y_test_df = pd.concat([TEST_ID,pred_series], axis=1)\n",
    "    final_y_test_df = final_y_test_df.rename(columns={'id':'ID', 0:'Pred'})\n",
    "    final_y_test_df['Pred'] = final_y_test_df['Pred'].map({0:'N', 1:'Y'})\n",
    "    #print(final_y_test_df)\n",
    "    final_y_test_df.to_csv(aidu_framework.config.data_dir + save_name, header=False, index=False)"
   ]
  },
  {
   "cell_type": "markdown",
   "metadata": {},
   "source": [
    "## \n",
    "## Feature Selection"
   ]
  },
  {
   "cell_type": "markdown",
   "metadata": {},
   "source": [
    "### 1) Feature Selection : RFECV, RFE"
   ]
  },
  {
   "cell_type": "code",
   "execution_count": null,
   "metadata": {},
   "outputs": [
    {
     "name": "stdout",
     "output_type": "stream",
     "text": [
      "Fitting estimator with 73 features.\n",
      "Fitting estimator with 72 features.\n",
      "Fitting estimator with 71 features.\n",
      "Fitting estimator with 70 features.\n",
      "Fitting estimator with 69 features.\n",
      "Fitting estimator with 68 features.\n",
      "Fitting estimator with 67 features.\n",
      "Fitting estimator with 66 features.\n",
      "Fitting estimator with 65 features.\n",
      "Fitting estimator with 64 features.\n",
      "Fitting estimator with 63 features.\n",
      "Fitting estimator with 62 features.\n",
      "Fitting estimator with 61 features.\n",
      "Fitting estimator with 60 features.\n",
      "Fitting estimator with 59 features.\n",
      "Fitting estimator with 58 features.\n",
      "Fitting estimator with 57 features.\n",
      "Fitting estimator with 56 features.\n",
      "Fitting estimator with 55 features.\n",
      "Fitting estimator with 54 features.\n",
      "Fitting estimator with 53 features.\n",
      "Fitting estimator with 52 features.\n",
      "Fitting estimator with 51 features.\n",
      "Fitting estimator with 50 features.\n",
      "Fitting estimator with 49 features.\n",
      "Fitting estimator with 48 features.\n"
     ]
    }
   ],
   "source": [
    "import matplotlib.pyplot as plt\n",
    "from sklearn.svm import SVC\n",
    "from sklearn.model_selection import StratifiedKFold\n",
    "from sklearn.feature_selection import RFECV, RFE\n",
    "from sklearn.datasets import make_classification\n",
    "\n",
    "# SVC classifier 선택\n",
    "svc = SVC(kernel=\"linear\")\n",
    "\n",
    "# REFCV로 Feature들을 반복적으로 제거해가면서 학습/평가 수행.  \n",
    "rfecv = RFECV(estimator=svc, step=1, cv=StratifiedKFold(2),\n",
    "              scoring='accuracy', verbose=2)\n",
    "rfecv.fit(X_train, y_train)\n",
    "\n",
    "print(\"Optimal number of features : %d\" % rfecv.n_features_)\n",
    "\n",
    "# Plot number of features VS. cross-validation scores\n",
    "plt.figure()\n",
    "plt.xlabel(\"Number of features selected\")\n",
    "plt.ylabel(\"Cross validation score (nb of correct classifications)\")\n",
    "plt.plot(range(1, len(rfecv.grid_scores_) + 1), rfecv.grid_scores_)\n",
    "plt.show()"
   ]
  },
  {
   "cell_type": "code",
   "execution_count": null,
   "metadata": {},
   "outputs": [],
   "source": [
    "col_name = X_train.columns\n",
    "col_name"
   ]
  },
  {
   "cell_type": "markdown",
   "metadata": {},
   "source": [
    "### 2) Feature Selection : permutation_importance"
   ]
  },
  {
   "cell_type": "code",
   "execution_count": null,
   "metadata": {},
   "outputs": [],
   "source": [
    "from sklearn.inspection import permutation_importance\n",
    "\n",
    "r = permutation_importance(rfc, X_test, y_test, n_repeats=5, random_state=0)\n",
    "\n",
    "# 가장 평균 permutation importance가 높은 순으로 내림차순 정렬 후 평균 permutation importance값과 표준 편차 출력\n",
    "for i in r.importances_mean.argsort()[::-1]:\n",
    "    if r.importances_mean[i] - 2 * r.importances_std[i] > 0:\n",
    "         print(X_test.columns[i],\"   \", np.round(r.importances_mean[i], 4), \" +/- \", np.round(r.importances_std[i], 5))"
   ]
  },
  {
   "cell_type": "markdown",
   "metadata": {},
   "source": [
    "### \n",
    "### 3) permutation_importance 따라서 X_train, X_test, final_X_test Feature Engeering"
   ]
  },
  {
   "cell_type": "code",
   "execution_count": null,
   "metadata": {},
   "outputs": [],
   "source": [
    "feature_eng = ['pay_way_nm_지로','npay_yn_Y','svc_use_mons_num_divide_10','cont_sttus_chg_date_from_this_year','pay_way_nm_은행계좌 자동이체','sm_use_stop_cnt','CNT_MEAN','npay_tms_cnt','npay_amt_sum_divide_10000','bill_rmny_npay_tms_itg_cd','tm_npay_cnt','bprod_lctg_nm_기타']"
   ]
  },
  {
   "cell_type": "code",
   "execution_count": null,
   "metadata": {},
   "outputs": [],
   "source": [
    "X_train = X_train[feature_eng]\n",
    "X_test = X_test[feature_eng]\n",
    "final_X_test = final_X_test[feature_eng]"
   ]
  },
  {
   "cell_type": "code",
   "execution_count": null,
   "metadata": {},
   "outputs": [],
   "source": [
    "X_train.shape, X_test.shape, final_X_test.shape"
   ]
  },
  {
   "cell_type": "markdown",
   "metadata": {},
   "source": [
    "## \n",
    "## XGB, LGBM, CatBoost 설치 및 Import"
   ]
  },
  {
   "cell_type": "code",
   "execution_count": 167,
   "metadata": {
    "scrolled": true
   },
   "outputs": [
    {
     "name": "stdout",
     "output_type": "stream",
     "text": [
      "Looking in indexes: http://10.220.235.19/pypi/simple\n",
      "Collecting lightgbm\n",
      "  Downloading http://10.220.235.19/pypi/packages/18/b2/fff8370f48549ce223f929fe8cab4ee6bf285a41f86037d91312b48ed95b/lightgbm-3.2.1-py3-none-manylinux1_x86_64.whl (2.0 MB)\n",
      "\u001b[K     |████████████████████████████████| 2.0 MB 71.8 MB/s eta 0:00:01/s eta 0:00:01\n",
      "\u001b[?25hRequirement already satisfied: scipy in /usr/local/lib/python3.6/dist-packages (from lightgbm) (1.4.1)\n",
      "Requirement already satisfied: numpy in /usr/local/lib/python3.6/dist-packages (from lightgbm) (1.16.4)\n",
      "Requirement already satisfied: wheel in /usr/lib/python3/dist-packages (from lightgbm) (0.30.0)\n",
      "Requirement already satisfied: scikit-learn!=0.22.0 in /usr/local/lib/python3.6/dist-packages (from lightgbm) (0.23.1)\n",
      "Requirement already satisfied: threadpoolctl>=2.0.0 in /usr/local/lib/python3.6/dist-packages (from scikit-learn!=0.22.0->lightgbm) (2.1.0)\n",
      "Requirement already satisfied: joblib>=0.11 in /usr/local/lib/python3.6/dist-packages (from scikit-learn!=0.22.0->lightgbm) (0.15.1)\n",
      "Installing collected packages: lightgbm\n",
      "Successfully installed lightgbm-3.2.1\n",
      "\u001b[33mWARNING: You are using pip version 20.1; however, version 21.0.1 is available.\n",
      "You should consider upgrading via the '/usr/bin/python3 -m pip install --upgrade pip' command.\u001b[0m\n",
      "Looking in indexes: http://10.220.235.19/pypi/simple\n",
      "Collecting xgboost\n",
      "  Downloading http://10.220.235.19/pypi/packages/05/45/978cd7e30860a5e2852500d55b7598d8f0806927ff30c86d01d01b28c43b/xgboost-1.4.0-py3-none-manylinux2010_x86_64.whl (166.7 MB)\n",
      "\u001b[K     |████████████████████████████████| 166.7 MB 129.8 MB/s eta 0:00:01            | 266 kB 36.6 MB/s eta 0:00:05[K     |▉                               | 4.1 MB 36.6 MB/s eta 0:00:056.6 MB/s eta 0:00:05                      | 8.0 MB 36.6 MB/s eta 0:00:0505                       | 12.2 MB 36.6 MB/s eta 0:00:05                       | 12.7 MB 36.6 MB/s eta 0:00:05                           | 13.4 MB 36.6 MB/s eta 0:00:050:05 MB 36.6 MB/s eta 0:00:05 MB 36.6 MB/s eta 0:00:05 |████▌                           | 23.4 MB 36.6 MB/s eta 0:00:04  | 27.3 MB 4.9 MB/s eta 0:00:29                  | 31.1 MB 4.9 MB/s eta 0:00:28��▎                         | 32.7 MB 4.9 MB/s eta 0:00:28[K     |██████▊                         | 34.9 MB 4.9 MB/s eta 0:00:27██▉                         | 35.6 MB 4.9 MB/s eta 0:00:27 MB 4.9 MB/s eta 0:00:26��████▍                       | 43.9 MB 4.9 MB/s eta 0:00:25��█████                       | 46.4 MB 4.9 MB/s eta 0:00:25 MB 4.9 MB/s eta 0:00:24�█▍                     | 53.9 MB 2.8 MB/s eta 0:00:41��████▉                     | 56.3 MB 2.8 MB/s eta 0:00:40MB/s eta 0:00:39MB/s eta 0:00:39MB/s eta 0:00:38                  | 62.5 MB 2.8 MB/s eta 0:00:388 MB/s eta 0:00:37██▋                   | 65.7 MB 2.8 MB/s eta 0:00:37      | 67.1 MB 2.8 MB/s eta 0:00:36          | 73.9 MB 2.8 MB/s eta 0:00:34      | 75.4 MB 2.8 MB/s eta 0:00:33          | 76.6 MB 2.8 MB/s eta 0:00:33          | 77.6 MB 4.4 MB/s eta 0:00:21�██████████▌                | 80.9 MB 4.4 MB/s eta 0:00:20/s eta 0:00:19/s eta 0:00:19/s eta 0:00:18     |█████████████████▌              | 91.3 MB 4.4 MB/s eta 0:00:17��██              | 93.4 MB 4.4 MB/s eta 0:00:17��██████████████▎             | 95.2 MB 4.4 MB/s eta 0:00:17��██████████████▌             | 96.2 MB 4.4 MB/s eta 0:00:16��██████████████▉             | 98.3 MB 4.4 MB/s eta 0:00:16�██             | 99.6 MB 4.4 MB/s eta 0:00:16   | 100.9 MB 4.4 MB/s eta 0:00:15�███████▋            | 102.1 MB 2.1 MB/s eta 0:00:32   | 103.6 MB 2.1 MB/s eta 0:00:31�████████▌           | 106.8 MB 2.1 MB/s eta 0:00:3000:29�█████████           | 109.6 MB 2.1 MB/s eta 0:00:28��████████████████████▍          | 111.4 MB 2.1 MB/s eta 0:00:27�██▌          | 112.3 MB 2.1 MB/s eta 0:00:27��████████████████████▊          | 113.5 MB 2.1 MB/s eta 0:00:26��████████████████████▉          | 114.0 MB 2.1 MB/s eta 0:00:26MB 2.1 MB/s eta 0:00:26�████████████████▎         | 115.9 MB 2.1 MB/s eta 0:00:25█▌         | 117.0 MB 2.1 MB/s eta 0:00:25MB 2.1 MB/s eta 0:00:24��████████████████▎       | 126.3 MB 4.6 MB/s eta 0:00:09��████████████████▌       | 127.5 MB 4.6 MB/s eta 0:00:09��█████████████████       | 130.3 MB 4.6 MB/s eta 0:00:09 | 137.2 MB 4.6 MB/s eta 0:00:07 | 140.2 MB 4.6 MB/s eta 0:00:06�███████▋    | 144.0 MB 4.6 MB/s eta 0:00:05��████████▉    | 145.2 MB 4.6 MB/s eta 0:00:05.0 MB 4.6 MB/s eta 0:00:05.3 MB 4.6 MB/s eta 0:00:04��█████████████████   | 151.4 MB 4.6 MB/s eta 0:00:04██████▏ | 157.2 MB 129.8 MB/s eta 0:00:01██████▉ | 160.7 MB 129.8 MB/s eta 0:00:01�████████████████▌| 164.0 MB 129.8 MB/s eta 0:00:01\n",
      "\u001b[?25hRequirement already satisfied: numpy in /usr/local/lib/python3.6/dist-packages (from xgboost) (1.16.4)\n",
      "Requirement already satisfied: scipy in /usr/local/lib/python3.6/dist-packages (from xgboost) (1.4.1)\n",
      "Installing collected packages: xgboost\n",
      "Successfully installed xgboost-1.4.0\n",
      "\u001b[33mWARNING: You are using pip version 20.1; however, version 21.0.1 is available.\n",
      "You should consider upgrading via the '/usr/bin/python3 -m pip install --upgrade pip' command.\u001b[0m\n",
      "Looking in indexes: http://10.220.235.19/pypi/simple\n",
      "Collecting catboost\n",
      "  Downloading http://10.220.235.19/pypi/packages/81/7c/60b6fb3b09743ef69b1e97f1b10e9b9bb85f3608beefab810565a410f770/catboost-0.25.1-cp36-none-manylinux1_x86_64.whl (67.3 MB)\n",
      "\u001b[K     |████████████████████████████████| 67.3 MB 94.8 MB/s eta 0:00:01 2.5 MB 94.8 MB/s eta 0:00:01101��████                    | 25.2 MB 94.8 MB/s eta 0:00:01███▍                 | 30.4 MB 94.8 MB/s eta 0:00:01��███████▊              | 37.2 MB 94.8 MB/s eta 0:00:01   | 42.3 MB 94.8 MB/s eta 0:00:01█████▍        | 49.2 MB 94.8 MB/s eta 0:00:017 MB 94.8 MB/s eta 0:00:01███████▊| 66.8 MB 94.8 MB/s eta 0:00:01\n",
      "\u001b[?25hRequirement already satisfied: matplotlib in /usr/local/lib/python3.6/dist-packages (from catboost) (3.2.1)\n",
      "Requirement already satisfied: scipy in /usr/local/lib/python3.6/dist-packages (from catboost) (1.4.1)\n",
      "Collecting plotly\n",
      "  Downloading http://10.220.235.19/pypi/packages/1f/f6/bd3c17c8003b6641df1228e80e1acac97ed8402635e46c2571f8e1ef63af/plotly-4.14.3-py2.py3-none-any.whl (13.2 MB)\n",
      "\u001b[K     |████████████████████████████████| 13.2 MB 89.1 MB/s eta 0:00:01███▌                   | 5.1 MB 89.1 MB/s eta 0:00:01�████████████████████▎      | 10.4 MB 89.1 MB/s eta 0:00:01\n",
      "\u001b[?25hRequirement already satisfied: pandas>=0.24.0 in /usr/local/lib/python3.6/dist-packages (from catboost) (1.0.4)\n",
      "Requirement already satisfied: numpy>=1.16.0 in /usr/local/lib/python3.6/dist-packages (from catboost) (1.16.4)\n",
      "Collecting graphviz\n",
      "  Downloading http://10.220.235.19/pypi/packages/86/86/89ba50ba65928001d3161f23bfa03945ed18ea13a1d1d44a772ff1fa4e7a/graphviz-0.16-py2.py3-none-any.whl (19 kB)\n",
      "Requirement already satisfied: six in /usr/local/lib/python3.6/dist-packages (from catboost) (1.14.0)\n",
      "Requirement already satisfied: python-dateutil>=2.1 in /usr/local/lib/python3.6/dist-packages (from matplotlib->catboost) (2.8.1)\n",
      "Requirement already satisfied: pyparsing!=2.0.4,!=2.1.2,!=2.1.6,>=2.0.1 in /usr/local/lib/python3.6/dist-packages (from matplotlib->catboost) (2.4.7)\n",
      "Requirement already satisfied: cycler>=0.10 in /usr/local/lib/python3.6/dist-packages (from matplotlib->catboost) (0.10.0)\n",
      "Requirement already satisfied: kiwisolver>=1.0.1 in /usr/local/lib/python3.6/dist-packages (from matplotlib->catboost) (1.2.0)\n",
      "Collecting retrying>=1.3.3\n",
      "  Downloading http://10.220.235.19/pypi/packages/44/ef/beae4b4ef80902f22e3af073397f079c96969c69b2c7d52a57ea9ae61c9d/retrying-1.3.3.tar.gz (10 kB)\n",
      "Requirement already satisfied: pytz>=2017.2 in /usr/local/lib/python3.6/dist-packages (from pandas>=0.24.0->catboost) (2020.1)\n",
      "Building wheels for collected packages: retrying\n",
      "  Building wheel for retrying (setup.py) ... \u001b[?25ldone\n",
      "\u001b[?25h  Created wheel for retrying: filename=retrying-1.3.3-py3-none-any.whl size=9530 sha256=fc88b0f07f47da7af72da56e6f56ad99bd638b6940a4084c18ada7e5719feda8\n",
      "  Stored in directory: /root/.cache/pip/wheels/70/15/7c/17c9f2f6f893faf7bc89f9df7d4f4dab01d43f0aabe56d7dcd\n",
      "Successfully built retrying\n",
      "Installing collected packages: retrying, plotly, graphviz, catboost\n",
      "Successfully installed catboost-0.25.1 graphviz-0.16 plotly-4.14.3 retrying-1.3.3\n",
      "\u001b[33mWARNING: You are using pip version 20.1; however, version 21.0.1 is available.\n",
      "You should consider upgrading via the '/usr/bin/python3 -m pip install --upgrade pip' command.\u001b[0m\n"
     ]
    }
   ],
   "source": [
    "get_ipython().system('pip install lightgbm')\n",
    "get_ipython().system('pip install xgboost')\n",
    "get_ipython().system('pip install catboost')"
   ]
  },
  {
   "cell_type": "markdown",
   "metadata": {},
   "source": [
    "## \n",
    "## 파라미터 설정"
   ]
  },
  {
   "cell_type": "code",
   "execution_count": 168,
   "metadata": {},
   "outputs": [],
   "source": [
    "day = 1013\n",
    "try1 = 2"
   ]
  },
  {
   "cell_type": "markdown",
   "metadata": {},
   "source": [
    "## \n",
    "## RamdomForest 성능 테스트"
   ]
  },
  {
   "cell_type": "code",
   "execution_count": 169,
   "metadata": {},
   "outputs": [
    {
     "name": "stdout",
     "output_type": "stream",
     "text": [
      "오차 행렬\n",
      "[[9834 3811]\n",
      " [4339 9015]]\n",
      "정확도: 0.6981, 정밀도: 0.7029, 재현율: 0.6751,    F1: 0.6887, AUC:0.7629\n",
      "\n",
      "\n",
      "* Total Model Eval Time : 6.066819540659586\n",
      "\n",
      "\n",
      "          model       acc\n",
      "0  randomForest  0.698137\n"
     ]
    },
    {
     "name": "stderr",
     "output_type": "stream",
     "text": [
      "/usr/local/lib/python3.6/dist-packages/matplotlib/backends/backend_agg.py:214: RuntimeWarning: Glyph 8722 missing from current font.\n",
      "  font.set_text(s, 0.0, flags=flags)\n",
      "/usr/local/lib/python3.6/dist-packages/matplotlib/backends/backend_agg.py:183: RuntimeWarning: Glyph 8722 missing from current font.\n",
      "  font.set_text(s, 0, flags=flags)\n"
     ]
    },
    {
     "data": {
      "image/png": "[encoded data removed]",
      "text/plain": [
       "<Figure size 720x72 with 1 Axes>"
      ]
     },
     "metadata": {
      "needs_background": "light"
     },
     "output_type": "display_data"
    }
   ],
   "source": [
    "from sklearn.ensemble import RandomForestClassifier\n",
    "rfc = RandomForestClassifier(n_estimators=1500, n_jobs=-1)\n",
    "get_model_train_eval('randomForest', rfc, ftr_train=X_train, ftr_test=X_test, tgt_train=y_train, tgt_test=y_test)"
   ]
  },
  {
   "cell_type": "code",
   "execution_count": 170,
   "metadata": {},
   "outputs": [],
   "source": [
    "save_name = f'/rfc_merge_{day}_{try1}.csv'\n",
    "save_model(save_name, rfc, final_X_test)"
   ]
  },
  {
   "cell_type": "markdown",
   "metadata": {},
   "source": [
    "### \n",
    "### feature_importances_"
   ]
  },
  {
   "cell_type": "code",
   "execution_count": 171,
   "metadata": {},
   "outputs": [
    {
     "name": "stdout",
     "output_type": "stream",
     "text": [
      "CNT_MEAN                     0.041326\n",
      "CNT                          0.039596\n",
      "npay_tms_cnt                 0.038770\n",
      "r3m_avg_bill_amt             0.038389\n",
      "AMT_MEAN                     0.035981\n",
      "AMT                          0.035903\n",
      "npay_yn_Y                    0.035640\n",
      "age_itg_cd                   0.033763\n",
      "r6m_mphon_avg_arpu_amt       0.031940\n",
      "npay_amt_sum_divide_10000    0.031602\n",
      "dtype: float64\n"
     ]
    },
    {
     "data": {
      "image/png": "[encoded data removed]",
      "text/plain": [
       "<Figure size 576x432 with 1 Axes>"
      ]
     },
     "metadata": {
      "needs_background": "light"
     },
     "output_type": "display_data"
    }
   ],
   "source": [
    "import matplotlib.pyplot as plt\n",
    "import seaborn as sns\n",
    "\n",
    "grb_importances_values = rfc.feature_importances_\n",
    "grb_importances = pd.Series(grb_importances_values, index = col_name)\n",
    "grb_top10 = grb_importances.sort_values(ascending=False)[:10]\n",
    "\n",
    "print(grb_top10)\n",
    "\n",
    "plt.rcParams[\"font.family\"] = 'NanumGothicCoding'\n",
    "plt.figure(figsize=(8,6))\n",
    "plt.title('Top 10 Feature Importances')\n",
    "sns.barplot(x=grb_top10, y=grb_top10.index,palette = \"RdBu\")\n",
    "plt.show()"
   ]
  },
  {
   "cell_type": "markdown",
   "metadata": {},
   "source": [
    "## \n",
    "## Cat Boosting 성능 테스트"
   ]
  },
  {
   "cell_type": "code",
   "execution_count": null,
   "metadata": {
    "scrolled": true
   },
   "outputs": [
    {
     "name": "stdout",
     "output_type": "stream",
     "text": [
      "Learning rate set to 0.041665\n",
      "0:\tlearn: 0.6848529\ttotal: 193ms\tremaining: 4m 48s\n",
      "1:\tlearn: 0.6770386\ttotal: 388ms\tremaining: 4m 50s\n",
      "2:\tlearn: 0.6697672\ttotal: 585ms\tremaining: 4m 51s\n",
      "3:\tlearn: 0.6630088\ttotal: 784ms\tremaining: 4m 53s\n",
      "4:\tlearn: 0.6567985\ttotal: 992ms\tremaining: 4m 56s\n",
      "5:\tlearn: 0.6513580\ttotal: 1.19s\tremaining: 4m 56s\n",
      "6:\tlearn: 0.6464402\ttotal: 1.38s\tremaining: 4m 55s\n",
      "7:\tlearn: 0.6419847\ttotal: 1.49s\tremaining: 4m 38s\n",
      "8:\tlearn: 0.6376043\ttotal: 1.69s\tremaining: 4m 40s\n",
      "9:\tlearn: 0.6336679\ttotal: 1.98s\tremaining: 4m 55s\n",
      "10:\tlearn: 0.6302110\ttotal: 2.09s\tremaining: 4m 43s\n",
      "11:\tlearn: 0.6271302\ttotal: 2.4s\tremaining: 4m 57s\n",
      "12:\tlearn: 0.6242360\ttotal: 2.58s\tremaining: 4m 55s\n",
      "13:\tlearn: 0.6213467\ttotal: 2.79s\tremaining: 4m 56s\n",
      "14:\tlearn: 0.6188294\ttotal: 2.98s\tremaining: 4m 55s\n",
      "15:\tlearn: 0.6166396\ttotal: 3.18s\tremaining: 4m 55s\n",
      "16:\tlearn: 0.6144874\ttotal: 3.38s\tremaining: 4m 55s\n",
      "17:\tlearn: 0.6123740\ttotal: 3.59s\tremaining: 4m 55s\n",
      "18:\tlearn: 0.6104493\ttotal: 3.78s\tremaining: 4m 54s\n",
      "19:\tlearn: 0.6087634\ttotal: 3.98s\tremaining: 4m 54s\n",
      "20:\tlearn: 0.6073067\ttotal: 4.18s\tremaining: 4m 54s\n",
      "21:\tlearn: 0.6057945\ttotal: 4.37s\tremaining: 4m 53s\n",
      "22:\tlearn: 0.6044559\ttotal: 5.18s\tremaining: 5m 32s\n",
      "23:\tlearn: 0.6031391\ttotal: 5.38s\tremaining: 5m 30s\n",
      "24:\tlearn: 0.6018978\ttotal: 5.58s\tremaining: 5m 29s\n",
      "25:\tlearn: 0.6008487\ttotal: 5.87s\tremaining: 5m 32s\n",
      "26:\tlearn: 0.5997120\ttotal: 6.07s\tremaining: 5m 31s\n",
      "27:\tlearn: 0.5988196\ttotal: 6.19s\tremaining: 5m 25s\n",
      "28:\tlearn: 0.5977790\ttotal: 6.47s\tremaining: 5m 28s\n",
      "29:\tlearn: 0.5968192\ttotal: 6.67s\tremaining: 5m 26s\n",
      "30:\tlearn: 0.5958406\ttotal: 6.87s\tremaining: 5m 25s\n",
      "31:\tlearn: 0.5949341\ttotal: 7.07s\tremaining: 5m 24s\n",
      "32:\tlearn: 0.5940509\ttotal: 7.27s\tremaining: 5m 23s\n",
      "33:\tlearn: 0.5933571\ttotal: 7.38s\tremaining: 5m 18s\n",
      "34:\tlearn: 0.5925117\ttotal: 7.58s\tremaining: 5m 17s\n",
      "35:\tlearn: 0.5917706\ttotal: 7.69s\tremaining: 5m 12s\n",
      "36:\tlearn: 0.5912063\ttotal: 7.99s\tremaining: 5m 15s\n",
      "37:\tlearn: 0.5905943\ttotal: 8.19s\tremaining: 5m 14s\n",
      "38:\tlearn: 0.5900468\ttotal: 8.39s\tremaining: 5m 14s\n",
      "39:\tlearn: 0.5895609\ttotal: 8.59s\tremaining: 5m 13s\n",
      "40:\tlearn: 0.5889777\ttotal: 8.8s\tremaining: 5m 13s\n",
      "41:\tlearn: 0.5884906\ttotal: 8.99s\tremaining: 5m 12s\n",
      "42:\tlearn: 0.5879611\ttotal: 9.2s\tremaining: 5m 11s\n",
      "43:\tlearn: 0.5874826\ttotal: 9.39s\tremaining: 5m 10s\n",
      "44:\tlearn: 0.5869989\ttotal: 9.68s\tremaining: 5m 13s\n",
      "45:\tlearn: 0.5865853\ttotal: 9.88s\tremaining: 5m 12s\n",
      "46:\tlearn: 0.5861437\ttotal: 10s\tremaining: 5m 9s\n",
      "47:\tlearn: 0.5856926\ttotal: 10.3s\tremaining: 5m 10s\n",
      "48:\tlearn: 0.5853081\ttotal: 10.5s\tremaining: 5m 10s\n",
      "49:\tlearn: 0.5849218\ttotal: 10.6s\tremaining: 5m 7s\n",
      "50:\tlearn: 0.5845793\ttotal: 10.8s\tremaining: 5m 6s\n",
      "51:\tlearn: 0.5842064\ttotal: 11.2s\tremaining: 5m 11s\n",
      "52:\tlearn: 0.5839292\ttotal: 11.3s\tremaining: 5m 8s\n",
      "53:\tlearn: 0.5836651\ttotal: 11.5s\tremaining: 5m 7s\n",
      "54:\tlearn: 0.5833973\ttotal: 11.7s\tremaining: 5m 7s\n",
      "55:\tlearn: 0.5831122\ttotal: 11.9s\tremaining: 5m 6s\n",
      "56:\tlearn: 0.5828377\ttotal: 12.1s\tremaining: 5m 5s\n",
      "57:\tlearn: 0.5825570\ttotal: 12.3s\tremaining: 5m 5s\n",
      "58:\tlearn: 0.5823016\ttotal: 12.5s\tremaining: 5m 4s\n",
      "59:\tlearn: 0.5820139\ttotal: 12.7s\tremaining: 5m 4s\n",
      "60:\tlearn: 0.5817284\ttotal: 12.9s\tremaining: 5m 3s\n",
      "61:\tlearn: 0.5814632\ttotal: 13.1s\tremaining: 5m 3s\n",
      "62:\tlearn: 0.5812216\ttotal: 13.2s\tremaining: 5m\n",
      "63:\tlearn: 0.5809794\ttotal: 13.4s\tremaining: 5m\n",
      "64:\tlearn: 0.5807671\ttotal: 13.6s\tremaining: 4m 59s\n",
      "65:\tlearn: 0.5805340\ttotal: 13.7s\tremaining: 4m 57s\n",
      "66:\tlearn: 0.5803104\ttotal: 14.1s\tremaining: 5m 1s\n",
      "67:\tlearn: 0.5801122\ttotal: 14.4s\tremaining: 5m 2s\n",
      "68:\tlearn: 0.5799371\ttotal: 14.6s\tremaining: 5m 2s\n",
      "69:\tlearn: 0.5796694\ttotal: 14.7s\tremaining: 4m 59s\n",
      "70:\tlearn: 0.5794767\ttotal: 14.9s\tremaining: 4m 59s\n",
      "71:\tlearn: 0.5793226\ttotal: 15.1s\tremaining: 4m 58s\n",
      "72:\tlearn: 0.5791202\ttotal: 15.3s\tremaining: 4m 58s\n",
      "73:\tlearn: 0.5789288\ttotal: 15.5s\tremaining: 4m 58s\n",
      "74:\tlearn: 0.5787606\ttotal: 15.7s\tremaining: 4m 57s\n",
      "75:\tlearn: 0.5786070\ttotal: 15.9s\tremaining: 4m 57s\n",
      "76:\tlearn: 0.5784262\ttotal: 16.2s\tremaining: 4m 58s\n",
      "77:\tlearn: 0.5782409\ttotal: 16.4s\tremaining: 4m 58s\n",
      "78:\tlearn: 0.5780860\ttotal: 16.6s\tremaining: 4m 58s\n",
      "79:\tlearn: 0.5779450\ttotal: 16.8s\tremaining: 4m 57s\n",
      "80:\tlearn: 0.5777949\ttotal: 18s\tremaining: 5m 14s\n",
      "81:\tlearn: 0.5776652\ttotal: 18.2s\tremaining: 5m 14s\n",
      "82:\tlearn: 0.5775267\ttotal: 18.4s\tremaining: 5m 13s\n",
      "83:\tlearn: 0.5773903\ttotal: 18.6s\tremaining: 5m 13s\n"
     ]
    }
   ],
   "source": [
    "from catboost import CatBoostClassifier\n",
    "cbc = CatBoostClassifier(n_estimators=1500,)\n",
    "get_model_train_eval('cat_boosting', cbc, ftr_train=X_train, ftr_test=X_test, tgt_train=y_train, tgt_test=y_test)"
   ]
  },
  {
   "cell_type": "code",
   "execution_count": null,
   "metadata": {},
   "outputs": [],
   "source": [
    "save_name = f'/cbc_merge_{day}_{try1}.csv'\n",
    "save_model(save_name, cbc, final_X_test)"
   ]
  },
  {
   "cell_type": "markdown",
   "metadata": {},
   "source": [
    "## \n",
    "## XGB 성능 테스트"
   ]
  },
  {
   "cell_type": "code",
   "execution_count": null,
   "metadata": {},
   "outputs": [],
   "source": [
    "from xgboost import XGBClassifier\n",
    "xgbm_clf = XGBClassifier()\n",
    "get_model_train_eval('xgbm_clf', xgbm_clf, ftr_train=X_train, ftr_test=X_test, tgt_train=y_train, tgt_test=y_test)"
   ]
  },
  {
   "cell_type": "code",
   "execution_count": null,
   "metadata": {},
   "outputs": [],
   "source": [
    "save_name = f'/xgb_merge_{day}_{try1}.csv'\n",
    "save_model(save_name, xgbm_clf, final_X_test)"
   ]
  },
  {
   "cell_type": "markdown",
   "metadata": {},
   "source": [
    "## \n",
    "## LGBM 성능 테스트"
   ]
  },
  {
   "cell_type": "code",
   "execution_count": null,
   "metadata": {},
   "outputs": [],
   "source": [
    "from lightgbm import LGBMClassifier\n",
    "lgbm_clf = LGBMClassifier()\n",
    "get_model_train_eval('lgbm_clf', lgbm_clf, ftr_train=X_train, ftr_test=X_test, tgt_train=y_train, tgt_test=y_test)"
   ]
  },
  {
   "cell_type": "code",
   "execution_count": null,
   "metadata": {},
   "outputs": [],
   "source": [
    "save_name = f'/lgbm_merge_{day}_{try1}.csv'\n",
    "save_model(save_name, lgbm_clf, final_X_test)"
   ]
  },
  {
   "cell_type": "markdown",
   "metadata": {},
   "source": [
    "## \n",
    "## DNN"
   ]
  },
  {
   "cell_type": "code",
   "execution_count": null,
   "metadata": {},
   "outputs": [],
   "source": [
    "X_train.shape"
   ]
  },
  {
   "cell_type": "code",
   "execution_count": null,
   "metadata": {},
   "outputs": [],
   "source": [
    "import tensorflow as tf\n",
    "from tensorflow.keras.models import Sequential\n",
    "from tensorflow.keras.layers import Dense, Activation, Dropout, BatchNormalization\n",
    "from tensorflow.keras.callbacks import EarlyStopping, ModelCheckpoint"
   ]
  },
  {
   "cell_type": "code",
   "execution_count": null,
   "metadata": {},
   "outputs": [],
   "source": [
    "dnn_model = Sequential()\n",
    "dnn_model.add(Dense(512, activation='elu', input_shape=(X_train.shape[-1],)))\n",
    "dnn_model.add(BatchNormalization())\n",
    "dnn_model.add(Dropout(0.4))\n",
    "dnn_model.add(Dense(128, activation='elu'))\n",
    "dnn_model.add(BatchNormalization())\n",
    "dnn_model.add(Dropout(0.4))\n",
    "dnn_model.add(Dense(128, activation='elu'))\n",
    "dnn_model.add(BatchNormalization())\n",
    "dnn_model.add(Dropout(0.4))\n",
    "dnn_model.add(Dense(64, activation='elu'))\n",
    "dnn_model.add(BatchNormalization())\n",
    "dnn_model.add(Dropout(0.4))\n",
    "dnn_model.add(Dense(1, activation='sigmoid'))"
   ]
  },
  {
   "cell_type": "code",
   "execution_count": null,
   "metadata": {},
   "outputs": [],
   "source": [
    "dnn_model.compile(optimizer='adam', \n",
    "              loss='binary_crossentropy', \n",
    "              metrics=['accuracy']) "
   ]
  },
  {
   "cell_type": "code",
   "execution_count": null,
   "metadata": {},
   "outputs": [],
   "source": [
    "# 여기서는 val_accuracy 모니터링해서 성능이 좋아지지 않으면 조기 종료 하게 함.\n",
    "early_stop = EarlyStopping(monitor='val_accuracy', mode='max', \n",
    "                           verbose=1, patience=10)"
   ]
  },
  {
   "cell_type": "code",
   "execution_count": null,
   "metadata": {},
   "outputs": [],
   "source": [
    "check_point = ModelCheckpoint('best_model.h5', verbose=1,\n",
    "                              monitor='val_accuracy', mode='max', \n",
    "                              save_best_only=True)"
   ]
  },
  {
   "cell_type": "code",
   "execution_count": null,
   "metadata": {
    "scrolled": true
   },
   "outputs": [],
   "source": [
    "history = dnn_model.fit(x=X_train, y=y_train, \n",
    "          epochs=100 , batch_size=64,\n",
    "          validation_data=(X_test, y_test), \n",
    "          verbose=1,\n",
    "          callbacks=[check_point])"
   ]
  },
  {
   "cell_type": "code",
   "execution_count": null,
   "metadata": {},
   "outputs": [],
   "source": [
    "dnn_pred = np.ravel(dnn_model.predict(X_test))"
   ]
  },
  {
   "cell_type": "code",
   "execution_count": null,
   "metadata": {},
   "outputs": [],
   "source": [
    "# 가중치 계산값이 0.5 초과하면 1, 그렇지 않으면 0\n",
    "dnn_pred = np.where(dnn_pred > 0.5, 1, 0)"
   ]
  },
  {
   "cell_type": "code",
   "execution_count": null,
   "metadata": {},
   "outputs": [],
   "source": [
    "acc_eval('DNN', dnn_pred, y_test)"
   ]
  },
  {
   "cell_type": "code",
   "execution_count": null,
   "metadata": {},
   "outputs": [],
   "source": [
    "X_test_pred = dnn_model.predict(final_X_test).reshape(-1)\n",
    "dnn_final_prediction = np.where(X_test_pred > 0.5, 1, 0)\n",
    "pred_series = pd.Series(dnn_final_prediction)\n",
    "final_y_test_df = pd.concat([TEST_ID,pred_series], axis=1)\n",
    "final_y_test_df = final_y_test_df.rename(columns={'id':'ID', 0:'Pred'})\n",
    "final_y_test_df['Pred'] = final_y_test_df['Pred'].map({0:'N', 1:'Y'})\n",
    "#print(final_y_test_df)\n",
    "\n",
    "save_name = f'/DNN_{day}_{try1}.csv'\n",
    "final_y_test_df.to_csv(aidu_framework.config.data_dir + save_name, header=False, index=False)"
   ]
  },
  {
   "cell_type": "markdown",
   "metadata": {},
   "source": [
    "## \n",
    "## Wegihted Belnding"
   ]
  },
  {
   "cell_type": "code",
   "execution_count": null,
   "metadata": {},
   "outputs": [],
   "source": [
    "pred_rfc = rfc.predict(final_X_test)\n",
    "pred_cbc = cbc.predict(final_X_test)\n",
    "pred_xgbm_clf = xgbm_clf.predict(final_X_test)\n",
    "pred_lgbm_clf = lgbm_clf.predict(final_X_test)"
   ]
  },
  {
   "cell_type": "code",
   "execution_count": null,
   "metadata": {},
   "outputs": [],
   "source": [
    "final_outputs = {\n",
    "    'rfc': pred_rfc, \n",
    "    'cbc': pred_cbc, \n",
    "    'dnn': dnn_final_prediction, \n",
    "    'xgbm_clf': pred_xgbm_clf, \n",
    "    'lgbm_clf': pred_lgbm_clf\n",
    "}"
   ]
  },
  {
   "cell_type": "code",
   "execution_count": null,
   "metadata": {},
   "outputs": [],
   "source": [
    "final_prediction=\\\n",
    "final_outputs['rfc'] * 0.1\\\n",
    "+final_outputs['cbc'] * 0.35\\\n",
    "+final_outputs['xgbm_clf'] * 0.2\\\n",
    "+final_outputs['lgbm_clf'] * 0.35\\"
   ]
  },
  {
   "cell_type": "code",
   "execution_count": null,
   "metadata": {},
   "outputs": [],
   "source": [
    "# 가중치 계산값이 0.5 초과하면 1, 그렇지 않으면 0\n",
    "final_prediction = np.where(final_prediction > 0.5, 1, 0)"
   ]
  },
  {
   "cell_type": "code",
   "execution_count": null,
   "metadata": {},
   "outputs": [],
   "source": [
    "pred_series = pd.Series(final_prediction)\n",
    "final_y_test_df = pd.concat([TEST_ID,pred_series], axis=1)\n",
    "final_y_test_df = final_y_test_df.rename(columns={'id':'ID', 0:'Pred'})\n",
    "final_y_test_df['Pred'] = final_y_test_df['Pred'].map({0:'N', 1:'Y'})\n",
    "#print(final_y_test_df)\n",
    "\n",
    "save_name = f'/Weighted_Blending_{day}_{try1}.csv'\n",
    "final_y_test_df.to_csv(aidu_framework.config.data_dir + save_name, header=False, index=False)"
   ]
  },
  {
   "cell_type": "markdown",
   "metadata": {},
   "source": [
    "## \n",
    "## Stacking"
   ]
  },
  {
   "cell_type": "code",
   "execution_count": 200,
   "metadata": {},
   "outputs": [],
   "source": [
    "# from sklearn.ensemble import StackingRegressor, StackingClassifier"
   ]
  },
  {
   "cell_type": "code",
   "execution_count": 201,
   "metadata": {},
   "outputs": [],
   "source": [
    "# stack_models = [\n",
    "#     ('randomForest', rfc), \n",
    "#     ('cat_boosting', cbc), \n",
    "#     ('xgbm_clf', xgbm_clf),\n",
    "# ]"
   ]
  },
  {
   "cell_type": "code",
   "execution_count": 202,
   "metadata": {},
   "outputs": [],
   "source": [
    "# stacking = StackingClassifier(stack_models, final_estimator=lgbm_clf, n_jobs=-1)\n",
    "# get_model_train_eval('stacking', stacking, ftr_train=X_train, ftr_test=X_test, tgt_train=y_train, tgt_test=y_test)"
   ]
  },
  {
   "cell_type": "code",
   "execution_count": 203,
   "metadata": {},
   "outputs": [],
   "source": [
    "# save_name = f'/stacking_merge_{day}_{try1}.csv'\n",
    "# save_model(save_name, stacking, final_X_test)"
   ]
  },
  {
   "cell_type": "markdown",
   "metadata": {},
   "source": [
    "## \n",
    "## Bayesian Optimization"
   ]
  },
  {
   "cell_type": "code",
   "execution_count": null,
   "metadata": {},
   "outputs": [],
   "source": [
    "# Bayesian Optimization\n",
    "# XGBoost 튜닝\n",
    "\n",
    "get_ipython().system('pip install bayesian-optimization')\n",
    "\n",
    "from sklearn import metrics   #Additional scklearn functions\n",
    "from sklearn.model_selection import cross_val_score\n",
    "from bayes_opt import BayesianOptimization\n",
    "\n",
    "# XGBoost 최적화 함수 정의\n",
    "import xgboost as xgb\n",
    "def XGB_cv(max_depth,learning_rate, n_estimators, gamma, min_child_weight,max_delta_step,subsample,colsample_bytree,silent=True, nthread=-1):\n",
    "    model = xgb.XGBClassifier(max_depth=int(max_depth),\n",
    "                              learning_rate=learning_rate,\n",
    "                              n_estimators=int(n_estimators),\n",
    "                              nthread=nthread,\n",
    "                              gamma=gamma,\n",
    "                              min_child_weight=min_child_weight,\n",
    "                              max_delta_step=max_delta_step,\n",
    "                              subsample=subsample,\n",
    "                              colsample_bytree=colsample_bytree, \n",
    "                              random_state=41)\n",
    "    \n",
    "#     # 모델 훈련\n",
    "#     model.fit(x_train, y_train)\n",
    "\n",
    "#     # 예측값 출력\n",
    "#     y_pred= model.predict(x_test)\n",
    "    \n",
    "    # 각종 metric 계산\n",
    "    acc = cross_val_score(model, X_train, y_train, scoring='accuracy', cv=2).mean()\n",
    "    \n",
    "    return acc\n",
    "\n",
    "\n",
    "# 주어진 범위 사이에서 적절한 값을 찾는다.\n",
    "# pbounds = {'max_depth': (5, 10),\n",
    "#           'learning_rate': (0.01, 0.3),\n",
    "#           'n_estimators': (50, 300),\n",
    "#           'gamma': (1., 0.01),\n",
    "#           'min_child_weight': (2, 10),\n",
    "#           'max_delta_step': (0, 0.1),\n",
    "#           'subsample': (0.7, 0.9),\n",
    "#           'colsample_bytree' :(0.5, 0.99)          \n",
    "#           }\n",
    "\n",
    "pbounds = {'max_depth': (5, 5),\n",
    "          'learning_rate': (0.01, 0.01),\n",
    "          'n_estimators': (100, 100),\n",
    "          'gamma': (1., 0.01),\n",
    "          'min_child_weight': (10, 10),\n",
    "          'max_delta_step': (0.1, 0.1),\n",
    "          'subsample': (0.9, 0.9),\n",
    "          'colsample_bytree' :(0.5, 0.99)          \n",
    "          }\n",
    "\n",
    "# Bayesian optimization 객체 생성\n",
    "# f : 탐색 대상 함수, pbounds : hyperparameter 집합\n",
    "# verbose = 2 항상 출력, verbose = 1 최댓값일 때 출력, verbose = 0 출력 안함\n",
    "# random_state : Bayesian Optimization 상의 랜덤성이 존재하는 부분을 통제\n",
    "xgboostBO = BayesianOptimization(f = XGB_cv,pbounds = pbounds, verbose = 2, random_state = 1 )\n",
    "\n",
    "start=time.time()\n",
    "\n",
    "# 메소드를 이용해 최대화 과정 수행\n",
    "# init_points :  초기 Random Search 갯수\n",
    "# n_iter : 반복 횟수 (몇개의 입력값-함숫값 점들을 확인할지! 많을 수록 정확한 값을 얻을 수 있다.)\n",
    "# acq : Acquisition Function들 중 Expected Improvement(EI) 를 사용\n",
    "# xi : exploration 강도 (기본값은 0.0)\n",
    "xgboostBO.maximize(init_points=4, n_iter = 40, acq='ei', xi=0.01)\n",
    "\n",
    "print('BO Time(min): {:.2f}'.format((time.time()-start)/60))\n",
    "\n",
    "# ‘iter’는 반복 회차, ‘target’은 목적 함수의 값, 나머지는 입력값을 나타냅니다. \n",
    "# 현재 회차 이전까지 조사된 함숫값들과 비교하여, 현재 회차에 최댓값이 얻어진 경우, \n",
    "# bayesian-optimization 라이브러리는 이를 자동으로 다른 색 글자로 표시하는 것을 확인할 수 있습니다\n",
    "\n",
    "# 찾은 파라미터 값 확인\n",
    "print(xgboostBO.max)\n",
    "\n",
    "fit_xgb = xgb.XGBClassifier(max_depth= int( xgboostBO.max['params']['max_depth'] ),\n",
    "                             learning_rate=xgboostBO.max['params']['learning_rate'],\n",
    "                             n_estimators=int(xgboostBO.max['params']['n_estimators']),\n",
    "                             gamma= xgboostBO.max['params']['gamma'],\n",
    "                             min_child_weight=xgboostBO.max['params']['min_child_weight'],\n",
    "                             max_delta_step=xgboostBO.max['params']['max_delta_step'],\n",
    "                             subsample=xgboostBO.max['params']['subsample'],\n",
    "                             colsample_bytree=xgboostBO.max['params']['colsample_bytree'],\n",
    "                             n_jobs=-1)\n",
    "\n"
   ]
  },
  {
   "cell_type": "code",
   "execution_count": null,
   "metadata": {},
   "outputs": [],
   "source": [
    "get_model_train_eval('xgb2', fit_xgb, ftr_train=X_train, ftr_test=X_test, tgt_train=y_train, tgt_test=y_test)"
   ]
  },
  {
   "cell_type": "code",
   "execution_count": null,
   "metadata": {},
   "outputs": [],
   "source": [
    "save_name = f'/xgb2_merge_{day}_{try1}.csv'\n",
    "save_model(save_name, fit_xgb, final_X_test)"
   ]
  },
  {
   "cell_type": "markdown",
   "metadata": {},
   "source": [
    "# \n",
    "# 해커톤 참여하고 느낀 점"
   ]
  },
  {
   "cell_type": "markdown",
   "metadata": {},
   "source": [
    "- 모델링 구성하고 튜닝하는것보다 Feature Engeering이 더 성능향상에 좋다.\n",
    "- PCA, Polynomial 등은 별로 성능이 나아지지 않는다.\n",
    "- 데이터에 대한 도메인 지식이 있어야 Feature Engeering을 잘할수 있을것 같다.\n",
    "- 6만여건의 Train 데이터셋으로 XGBM, LGBM, GridSearchCV, Bayesian Optimize 시간이 많이 걸려, 튜닝하기 쉽지 않다."
   ]
  },
  {
   "cell_type": "code",
   "execution_count": null,
   "metadata": {},
   "outputs": [],
   "source": []
  }
 ],
 "metadata": {
  "kernelspec": {
   "display_name": "Python 3",
   "language": "python",
   "name": "python3"
  },
  "language_info": {
   "codemirror_mode": {
    "name": "ipython",
    "version": 3
   },
   "file_extension": ".py",
   "mimetype": "text/x-python",
   "name": "python",
   "nbconvert_exporter": "python",
   "pygments_lexer": "ipython3",
   "version": "3.6.9"
  }
 },
 "nbformat": 4,
 "nbformat_minor": 4
}