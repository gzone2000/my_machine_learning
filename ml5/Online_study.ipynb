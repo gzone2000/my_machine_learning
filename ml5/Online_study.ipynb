{
  "cells": [
    {
      "cell_type": "markdown",
      "metadata": {
        "id": "lHA3knN6h_cS"
      },
      "source": [
        "# 실제 데이터 : 온라인 학습 엑셀 데이터 읽어오기"
      ]
    },
    {
      "cell_type": "code",
      "execution_count": null,
      "metadata": {
        "id": "3ItW-scPahND"
      },
      "outputs": [],
      "source": [
        "import pandas as pd\n",
        "import numpy as np\n",
        "import datetime\n",
        "import warnings\n",
        "warnings.filterwarnings('ignore')\n",
        "\n",
        "np.random.seed(5)"
      ]
    },
    {
      "cell_type": "code",
      "execution_count": null,
      "metadata": {
        "id": "bYQl0wyJT5f-"
      },
      "outputs": [],
      "source": [
        "SAMPLE_COUNT = 10"
      ]
    },
    {
      "cell_type": "code",
      "execution_count": null,
      "metadata": {
        "colab": {
          "base_uri": "https://localhost:8080/"
        },
        "id": "GS7yKveBbZyo",
        "outputId": "84e5fb82-0982-46ed-9cdb-d97327e68e27"
      },
      "outputs": [
        {
          "output_type": "stream",
          "name": "stdout",
          "text": [
            "total 316691\n",
            "-rw------- 1 root root 32205171 Jan  7 09:15 '온라인 학습 데이트_2021_10월-12월_4Q.csv'\n",
            "-rw------- 1 root root 13101785 Dec 21 09:37 '온라인 학습 데이트_2021_10월-12월.xlsx'\n",
            "-rw------- 1 root root 34977108 Jan  7 09:15 '온라인 학습 데이트_2021_1월-3월_1Q.csv'\n",
            "-rw------- 1 root root 14350942 Dec 21 09:36 '온라인 학습 데이트_2021_1월-3월.xlsx'\n",
            "-rw------- 1 root root 39793388 Jan  7 09:15 '온라인 학습 데이트_2021_4월-6월_2Q.csv'\n",
            "-rw------- 1 root root 17046149 Dec 21 09:36 '온라인 학습 데이트_2021_4월-6월.xlsx'\n",
            "-rw------- 1 root root 42411648 Jan  7 09:15 '온라인 학습 데이트_2021_7월-9월_3Q.csv'\n",
            "-rw------- 1 root root 16324314 Dec 21 09:36 '온라인 학습 데이트_2021_7월-9월.xlsx'\n",
            "drwx------ 2 root root     4096 Sep  1  2020 'Colab Notebooks'\n",
            "-rw------- 1 root root 47236400 Aug 20 04:48 'Python활용AI모델링_05.머신러닝 모델링_V4.2_오윤우.pptx'\n",
            "-rw------- 1 root root 66751212 Aug 20 04:48 'Python활용AI모델링_06.딥러닝 모델링_v4.2_오윤우.pptx'\n",
            "-rw------- 1 root root    85760 Feb 15  2021 'python, pandas, AI 정리(2021.02.14).txt'\n"
          ]
        }
      ],
      "source": [
        "!ls -al /content/drive/MyDrive/"
      ]
    },
    {
      "cell_type": "code",
      "execution_count": null,
      "metadata": {
        "colab": {
          "base_uri": "https://localhost:8080/"
        },
        "id": "hgkvF0R8cRV3",
        "outputId": "320d034a-c1c2-4522-c86c-e255fd94e931"
      },
      "outputs": [
        {
          "output_type": "stream",
          "name": "stdout",
          "text": [
            "Requirement already satisfied: xlrd in /usr/local/lib/python3.7/dist-packages (1.1.0)\n"
          ]
        }
      ],
      "source": [
        "!pip install xlrd"
      ]
    },
    {
      "cell_type": "code",
      "execution_count": null,
      "metadata": {
        "id": "WSizVBC3d0t3"
      },
      "outputs": [],
      "source": [
        "df13 = pd.read_excel('/content/drive/MyDrive/온라인 학습 데이트_2021_1월-3월.xlsx')"
      ]
    },
    {
      "cell_type": "code",
      "execution_count": null,
      "metadata": {
        "id": "449mVZIzeBbR"
      },
      "outputs": [],
      "source": [
        "df46 = pd.read_excel('/content/drive/MyDrive/온라인 학습 데이트_2021_4월-6월.xlsx')"
      ]
    },
    {
      "cell_type": "code",
      "execution_count": null,
      "metadata": {
        "id": "ts2OoS6mi0OR"
      },
      "outputs": [],
      "source": [
        "df79 = pd.read_excel('/content/drive/MyDrive/온라인 학습 데이트_2021_7월-9월.xlsx')"
      ]
    },
    {
      "cell_type": "code",
      "execution_count": null,
      "metadata": {
        "id": "pdWCVtgGi0W-"
      },
      "outputs": [],
      "source": [
        "df1012 = pd.read_excel('/content/drive/MyDrive/온라인 학습 데이트_2021_10월-12월.xlsx')"
      ]
    },
    {
      "cell_type": "code",
      "execution_count": null,
      "metadata": {
        "colab": {
          "base_uri": "https://localhost:8080/"
        },
        "id": "xjma7EUui0bh",
        "outputId": "d0f4b587-c5df-44f7-fa7c-97f68da0cdf0"
      },
      "outputs": [
        {
          "output_type": "execute_result",
          "data": {
            "text/plain": [
              "((196759, 12), (240508, 11), (217641, 12), (174303, 12))"
            ]
          },
          "metadata": {},
          "execution_count": 9
        }
      ],
      "source": [
        "df13.shape, df46.shape, df79.shape , df1012.shape"
      ]
    },
    {
      "cell_type": "code",
      "execution_count": null,
      "metadata": {
        "colab": {
          "base_uri": "https://localhost:8080/"
        },
        "id": "4dHyH7wWljSi",
        "outputId": "cc05822e-23d1-45bc-e418-bc1c911c0101"
      },
      "outputs": [
        {
          "output_type": "execute_result",
          "data": {
            "text/plain": [
              "829211"
            ]
          },
          "metadata": {},
          "execution_count": 10
        }
      ],
      "source": [
        "196759 + 240508 + 217641 + 174303"
      ]
    },
    {
      "cell_type": "code",
      "execution_count": null,
      "metadata": {
        "colab": {
          "base_uri": "https://localhost:8080/"
        },
        "id": "yp9Gl5x6kKxl",
        "outputId": "ef8c4d3b-2be4-4bad-9ffd-d636bdcac23d"
      },
      "outputs": [
        {
          "output_type": "stream",
          "name": "stdout",
          "text": [
            "<class 'pandas.core.frame.DataFrame'>\n",
            "RangeIndex: 196759 entries, 0 to 196758\n",
            "Data columns (total 12 columns):\n",
            " #   Column      Non-Null Count   Dtype \n",
            "---  ------      --------------   ----- \n",
            " 0   교육분야1차      196759 non-null  object\n",
            " 1   교육분야2차      196759 non-null  object\n",
            " 2   과정코드        196759 non-null  int64 \n",
            " 3   과정명(학습명)    196759 non-null  object\n",
            " 4   과정등록일(생성일)  196759 non-null  object\n",
            " 5   학습시작일       196759 non-null  object\n",
            " 6   학습종료일       196759 non-null  object\n",
            " 7   사번(ID)      196759 non-null  object\n",
            " 8   소속부서        196759 non-null  object\n",
            " 9   호칭          195789 non-null  object\n",
            " 10  직무          131125 non-null  object\n",
            " 11  제작/소싱       41699 non-null   object\n",
            "dtypes: int64(1), object(11)\n",
            "memory usage: 18.0+ MB\n"
          ]
        }
      ],
      "source": [
        "df13.info()"
      ]
    },
    {
      "cell_type": "code",
      "execution_count": null,
      "metadata": {
        "colab": {
          "base_uri": "https://localhost:8080/"
        },
        "id": "H_VStJzHkPYI",
        "outputId": "4461235f-305f-4d92-c781-ed18e4f3a7f0"
      },
      "outputs": [
        {
          "output_type": "stream",
          "name": "stdout",
          "text": [
            "<class 'pandas.core.frame.DataFrame'>\n",
            "RangeIndex: 240508 entries, 0 to 240507\n",
            "Data columns (total 11 columns):\n",
            " #   Column    Non-Null Count   Dtype \n",
            "---  ------    --------------   ----- \n",
            " 0   교육분야1차    240508 non-null  object\n",
            " 1   교육분야2차    240508 non-null  object\n",
            " 2   과정코드      240508 non-null  int64 \n",
            " 3   과정명(학습명)  240508 non-null  object\n",
            " 4   학습시작일     240508 non-null  object\n",
            " 5   학습종료일     240508 non-null  object\n",
            " 6   사번(ID)    240508 non-null  object\n",
            " 7   소속부서      240508 non-null  object\n",
            " 8   호칭        238653 non-null  object\n",
            " 9   직무        173804 non-null  object\n",
            " 10  제작/소싱     56089 non-null   object\n",
            "dtypes: int64(1), object(10)\n",
            "memory usage: 20.2+ MB\n"
          ]
        }
      ],
      "source": [
        "df46.info()"
      ]
    },
    {
      "cell_type": "code",
      "execution_count": null,
      "metadata": {
        "colab": {
          "base_uri": "https://localhost:8080/"
        },
        "id": "MNnFO8d2kRTA",
        "outputId": "d453e50d-df02-461f-fd9e-1cdd5c2d795a"
      },
      "outputs": [
        {
          "output_type": "stream",
          "name": "stdout",
          "text": [
            "<class 'pandas.core.frame.DataFrame'>\n",
            "RangeIndex: 217641 entries, 0 to 217640\n",
            "Data columns (total 12 columns):\n",
            " #   Column      Non-Null Count   Dtype \n",
            "---  ------      --------------   ----- \n",
            " 0   교육분야1차      217641 non-null  object\n",
            " 1   교육분야2차      217641 non-null  object\n",
            " 2   과정코드        217641 non-null  int64 \n",
            " 3   과정명(학습명)    217641 non-null  object\n",
            " 4   과정등록일(생성일)  217641 non-null  object\n",
            " 5   학습시작일       217641 non-null  object\n",
            " 6   학습종료일       217641 non-null  object\n",
            " 7   사번(ID)      217641 non-null  object\n",
            " 8   소속부서        217641 non-null  object\n",
            " 9   호칭          216207 non-null  object\n",
            " 10  직무          168450 non-null  object\n",
            " 11  제작/소싱       52122 non-null   object\n",
            "dtypes: int64(1), object(11)\n",
            "memory usage: 19.9+ MB\n"
          ]
        }
      ],
      "source": [
        "df79.info()"
      ]
    },
    {
      "cell_type": "code",
      "execution_count": null,
      "metadata": {
        "colab": {
          "base_uri": "https://localhost:8080/"
        },
        "id": "25IbxTk3kUI5",
        "outputId": "23333036-add2-4e84-a904-bd43af092333"
      },
      "outputs": [
        {
          "output_type": "stream",
          "name": "stdout",
          "text": [
            "<class 'pandas.core.frame.DataFrame'>\n",
            "RangeIndex: 174303 entries, 0 to 174302\n",
            "Data columns (total 12 columns):\n",
            " #   Column      Non-Null Count   Dtype \n",
            "---  ------      --------------   ----- \n",
            " 0   교육분야1차      174303 non-null  object\n",
            " 1   교육분야2차      174303 non-null  object\n",
            " 2   과정코드        174303 non-null  int64 \n",
            " 3   과정명(학습명)    174303 non-null  object\n",
            " 4   과정등록일(생성일)  174303 non-null  object\n",
            " 5   학습시작일       174303 non-null  object\n",
            " 6   학습종료일       174303 non-null  object\n",
            " 7   사번(ID)      174303 non-null  object\n",
            " 8   소속부서        174303 non-null  object\n",
            " 9   호칭          172926 non-null  object\n",
            " 10  직무          115119 non-null  object\n",
            " 11  제작/소싱       68185 non-null   object\n",
            "dtypes: int64(1), object(11)\n",
            "memory usage: 16.0+ MB\n"
          ]
        }
      ],
      "source": [
        "df1012.info()"
      ]
    },
    {
      "cell_type": "code",
      "execution_count": null,
      "metadata": {
        "id": "Ft6pNeQ9kVlT"
      },
      "outputs": [],
      "source": [
        "df = pd.concat([df13, df46, df79, df1012], axis=0)"
      ]
    },
    {
      "cell_type": "code",
      "execution_count": null,
      "metadata": {
        "id": "wOjfDqYL_Dzo"
      },
      "outputs": [],
      "source": [
        "df.to_csv('온라인학습데이터_수합.csv', encoding='cp949', index=False)"
      ]
    },
    {
      "cell_type": "markdown",
      "metadata": {
        "id": "krjbdth0h6cg"
      },
      "source": [
        "# 전체 데이터 다시 로드"
      ]
    },
    {
      "cell_type": "code",
      "execution_count": null,
      "metadata": {
        "id": "Jl8aPzpubE9R"
      },
      "outputs": [],
      "source": [
        "df = pd.read_csv('온라인학습데이터_수합.csv', encoding='cp949')"
      ]
    },
    {
      "cell_type": "code",
      "execution_count": null,
      "metadata": {
        "colab": {
          "base_uri": "https://localhost:8080/"
        },
        "id": "zYrB9TXSkWxk",
        "outputId": "225fb73e-5fd6-4ec2-be09-3c7e4be8032f"
      },
      "outputs": [
        {
          "output_type": "execute_result",
          "data": {
            "text/plain": [
              "(829211, 12)"
            ]
          },
          "metadata": {},
          "execution_count": 18
        }
      ],
      "source": [
        "df.shape"
      ]
    },
    {
      "cell_type": "code",
      "execution_count": null,
      "metadata": {
        "colab": {
          "base_uri": "https://localhost:8080/",
          "height": 354
        },
        "id": "PRcWRzAMkW0X",
        "outputId": "5c2fa485-6206-422d-acb5-69e407833a86"
      },
      "outputs": [
        {
          "output_type": "execute_result",
          "data": {
            "text/html": [
              "\n",
              "  <div id=\"df-a614c9e2-c3f8-4387-b9b8-a2110b587377\">\n",
              "    <div class=\"colab-df-container\">\n",
              "      <div>\n",
              "<style scoped>\n",
              "    .dataframe tbody tr th:only-of-type {\n",
              "        vertical-align: middle;\n",
              "    }\n",
              "\n",
              "    .dataframe tbody tr th {\n",
              "        vertical-align: top;\n",
              "    }\n",
              "\n",
              "    .dataframe thead th {\n",
              "        text-align: right;\n",
              "    }\n",
              "</style>\n",
              "<table border=\"1\" class=\"dataframe\">\n",
              "  <thead>\n",
              "    <tr style=\"text-align: right;\">\n",
              "      <th></th>\n",
              "      <th>교육분야1차</th>\n",
              "      <th>교육분야2차</th>\n",
              "      <th>과정코드</th>\n",
              "      <th>과정명(학습명)</th>\n",
              "      <th>과정등록일(생성일)</th>\n",
              "      <th>학습시작일</th>\n",
              "      <th>학습종료일</th>\n",
              "      <th>사번(ID)</th>\n",
              "      <th>소속부서</th>\n",
              "      <th>호칭</th>\n",
              "      <th>직무</th>\n",
              "      <th>제작/소싱</th>\n",
              "    </tr>\n",
              "  </thead>\n",
              "  <tbody>\n",
              "    <tr>\n",
              "      <th>0</th>\n",
              "      <td>일하는 방식</td>\n",
              "      <td>인문학/자기계발</td>\n",
              "      <td>100007405</td>\n",
              "      <td>대재앙 속에서 탄생한 발명품</td>\n",
              "      <td>2021-01-26 00:03:20.0</td>\n",
              "      <td>2021-03-14 08:43:49.392597</td>\n",
              "      <td>2021-03-14 11:06:22.0</td>\n",
              "      <td>10007967</td>\n",
              "      <td>KT&gt;대구/경북광역본부&gt;대구/경북고객본부&gt;달서지사&gt;남대구지점&gt;CM2팀</td>\n",
              "      <td>과장</td>\n",
              "      <td>선로운용/관리</td>\n",
              "      <td>사외콘텐츠</td>\n",
              "    </tr>\n",
              "    <tr>\n",
              "      <th>1</th>\n",
              "      <td>B2B</td>\n",
              "      <td>B2B</td>\n",
              "      <td>100008010</td>\n",
              "      <td>책임감 있는 Communication</td>\n",
              "      <td>2020-12-14 14:22:45.0</td>\n",
              "      <td>2021-01-11 11:07:09.0</td>\n",
              "      <td>2021-01-11 11:19:39.0</td>\n",
              "      <td>10140521</td>\n",
              "      <td>KT&gt;강북/강원광역본부&gt;강북/강원법인고객본부&gt;북부법인고객1담당&gt;중앙법인고객영업부&gt;가...</td>\n",
              "      <td>과장</td>\n",
              "      <td>기술영업</td>\n",
              "      <td>NaN</td>\n",
              "    </tr>\n",
              "    <tr>\n",
              "      <th>2</th>\n",
              "      <td>B2B</td>\n",
              "      <td>B2B</td>\n",
              "      <td>100008010</td>\n",
              "      <td>책임감 있는 Communication</td>\n",
              "      <td>2020-12-14 14:22:45.0</td>\n",
              "      <td>2021-01-11 09:17:09.0</td>\n",
              "      <td>2021-01-13 09:25:23.0</td>\n",
              "      <td>10140684</td>\n",
              "      <td>KT&gt;충남/충북광역본부&gt;충남/충북법인고객본부&gt;충남법인고객담당&gt;VIP고객관리팀</td>\n",
              "      <td>과장(KT명장)</td>\n",
              "      <td>기술영업</td>\n",
              "      <td>NaN</td>\n",
              "    </tr>\n",
              "    <tr>\n",
              "      <th>3</th>\n",
              "      <td>B2B</td>\n",
              "      <td>B2B</td>\n",
              "      <td>100008010</td>\n",
              "      <td>책임감 있는 Communication</td>\n",
              "      <td>2020-12-14 14:22:45.0</td>\n",
              "      <td>2021-01-13 20:06:35.0</td>\n",
              "      <td>2021-01-13 20:30:15.0</td>\n",
              "      <td>10140525</td>\n",
              "      <td>KT&gt;강북/강원광역본부&gt;강북/강원법인고객본부&gt;북부법인고객1담당&gt;중앙법인고객영업부&gt;가...</td>\n",
              "      <td>차장</td>\n",
              "      <td>기술영업</td>\n",
              "      <td>NaN</td>\n",
              "    </tr>\n",
              "    <tr>\n",
              "      <th>4</th>\n",
              "      <td>B2B</td>\n",
              "      <td>B2B</td>\n",
              "      <td>100008010</td>\n",
              "      <td>책임감 있는 Communication</td>\n",
              "      <td>2020-12-14 14:22:45.0</td>\n",
              "      <td>2021-01-14 17:20:30.0</td>\n",
              "      <td>2021-01-14 17:32:03.0</td>\n",
              "      <td>10140260</td>\n",
              "      <td>KT&gt;대구/경북광역본부&gt;대구/경북법인고객본부&gt;대구법인고객담당&gt;서대구법인고객영업부&gt;법...</td>\n",
              "      <td>차장</td>\n",
              "      <td>기술영업</td>\n",
              "      <td>NaN</td>\n",
              "    </tr>\n",
              "  </tbody>\n",
              "</table>\n",
              "</div>\n",
              "      <button class=\"colab-df-convert\" onclick=\"convertToInteractive('df-a614c9e2-c3f8-4387-b9b8-a2110b587377')\"\n",
              "              title=\"Convert this dataframe to an interactive table.\"\n",
              "              style=\"display:none;\">\n",
              "        \n",
              "  <svg xmlns=\"http://www.w3.org/2000/svg\" height=\"24px\"viewBox=\"0 0 24 24\"\n",
              "       width=\"24px\">\n",
              "    <path d=\"M0 0h24v24H0V0z\" fill=\"none\"/>\n",
              "    <path d=\"M18.56 5.44l.94 2.06.94-2.06 2.06-.94-2.06-.94-.94-2.06-.94 2.06-2.06.94zm-11 1L8.5 8.5l.94-2.06 2.06-.94-2.06-.94L8.5 2.5l-.94 2.06-2.06.94zm10 10l.94 2.06.94-2.06 2.06-.94-2.06-.94-.94-2.06-.94 2.06-2.06.94z\"/><path d=\"M17.41 7.96l-1.37-1.37c-.4-.4-.92-.59-1.43-.59-.52 0-1.04.2-1.43.59L10.3 9.45l-7.72 7.72c-.78.78-.78 2.05 0 2.83L4 21.41c.39.39.9.59 1.41.59.51 0 1.02-.2 1.41-.59l7.78-7.78 2.81-2.81c.8-.78.8-2.07 0-2.86zM5.41 20L4 18.59l7.72-7.72 1.47 1.35L5.41 20z\"/>\n",
              "  </svg>\n",
              "      </button>\n",
              "      \n",
              "  <style>\n",
              "    .colab-df-container {\n",
              "      display:flex;\n",
              "      flex-wrap:wrap;\n",
              "      gap: 12px;\n",
              "    }\n",
              "\n",
              "    .colab-df-convert {\n",
              "      background-color: #E8F0FE;\n",
              "      border: none;\n",
              "      border-radius: 50%;\n",
              "      cursor: pointer;\n",
              "      display: none;\n",
              "      fill: #1967D2;\n",
              "      height: 32px;\n",
              "      padding: 0 0 0 0;\n",
              "      width: 32px;\n",
              "    }\n",
              "\n",
              "    .colab-df-convert:hover {\n",
              "      background-color: #E2EBFA;\n",
              "      box-shadow: 0px 1px 2px rgba(60, 64, 67, 0.3), 0px 1px 3px 1px rgba(60, 64, 67, 0.15);\n",
              "      fill: #174EA6;\n",
              "    }\n",
              "\n",
              "    [theme=dark] .colab-df-convert {\n",
              "      background-color: #3B4455;\n",
              "      fill: #D2E3FC;\n",
              "    }\n",
              "\n",
              "    [theme=dark] .colab-df-convert:hover {\n",
              "      background-color: #434B5C;\n",
              "      box-shadow: 0px 1px 3px 1px rgba(0, 0, 0, 0.15);\n",
              "      filter: drop-shadow(0px 1px 2px rgba(0, 0, 0, 0.3));\n",
              "      fill: #FFFFFF;\n",
              "    }\n",
              "  </style>\n",
              "\n",
              "      <script>\n",
              "        const buttonEl =\n",
              "          document.querySelector('#df-a614c9e2-c3f8-4387-b9b8-a2110b587377 button.colab-df-convert');\n",
              "        buttonEl.style.display =\n",
              "          google.colab.kernel.accessAllowed ? 'block' : 'none';\n",
              "\n",
              "        async function convertToInteractive(key) {\n",
              "          const element = document.querySelector('#df-a614c9e2-c3f8-4387-b9b8-a2110b587377');\n",
              "          const dataTable =\n",
              "            await google.colab.kernel.invokeFunction('convertToInteractive',\n",
              "                                                     [key], {});\n",
              "          if (!dataTable) return;\n",
              "\n",
              "          const docLinkHtml = 'Like what you see? Visit the ' +\n",
              "            '<a target=\"_blank\" href=https://colab.research.google.com/notebooks/data_table.ipynb>data table notebook</a>'\n",
              "            + ' to learn more about interactive tables.';\n",
              "          element.innerHTML = '';\n",
              "          dataTable['output_type'] = 'display_data';\n",
              "          await google.colab.output.renderOutput(dataTable, element);\n",
              "          const docLink = document.createElement('div');\n",
              "          docLink.innerHTML = docLinkHtml;\n",
              "          element.appendChild(docLink);\n",
              "        }\n",
              "      </script>\n",
              "    </div>\n",
              "  </div>\n",
              "  "
            ],
            "text/plain": [
              "    교육분야1차     교육분야2차       과정코드  ...        호칭       직무  제작/소싱\n",
              "0  일하는 방식    인문학/자기계발  100007405  ...        과장  선로운용/관리  사외콘텐츠\n",
              "1     B2B         B2B  100008010  ...        과장     기술영업    NaN\n",
              "2     B2B         B2B  100008010  ...  과장(KT명장)     기술영업    NaN\n",
              "3     B2B         B2B  100008010  ...        차장     기술영업    NaN\n",
              "4     B2B         B2B  100008010  ...        차장     기술영업    NaN\n",
              "\n",
              "[5 rows x 12 columns]"
            ]
          },
          "metadata": {},
          "execution_count": 19
        }
      ],
      "source": [
        "df.head()"
      ]
    },
    {
      "cell_type": "code",
      "execution_count": null,
      "metadata": {
        "id": "KC2ixIPI_6m8"
      },
      "outputs": [],
      "source": [
        "df['학습시작일'] = pd.to_datetime(df['학습시작일'])\n",
        "df['학습종료일'] = pd.to_datetime(df['학습종료일'])"
      ]
    },
    {
      "cell_type": "code",
      "execution_count": null,
      "metadata": {
        "id": "sCn8oze5iVhG"
      },
      "outputs": [],
      "source": [
        "df['학습시작일_TIME'] = df['학습시작일'].dt.time\n",
        "df['학습종료일_TIME'] = df['학습종료일'].dt.time"
      ]
    },
    {
      "cell_type": "code",
      "execution_count": null,
      "metadata": {
        "colab": {
          "base_uri": "https://localhost:8080/"
        },
        "id": "uwwTTngN_6pz",
        "outputId": "748e3833-2248-4634-b0f4-54293be7e0c6"
      },
      "outputs": [
        {
          "output_type": "stream",
          "name": "stdout",
          "text": [
            "<class 'pandas.core.frame.DataFrame'>\n",
            "RangeIndex: 829211 entries, 0 to 829210\n",
            "Data columns (total 14 columns):\n",
            " #   Column      Non-Null Count   Dtype         \n",
            "---  ------      --------------   -----         \n",
            " 0   교육분야1차      829211 non-null  object        \n",
            " 1   교육분야2차      829211 non-null  object        \n",
            " 2   과정코드        829211 non-null  int64         \n",
            " 3   과정명(학습명)    829211 non-null  object        \n",
            " 4   과정등록일(생성일)  588703 non-null  object        \n",
            " 5   학습시작일       829211 non-null  datetime64[ns]\n",
            " 6   학습종료일       829211 non-null  datetime64[ns]\n",
            " 7   사번(ID)      829211 non-null  object        \n",
            " 8   소속부서        829211 non-null  object        \n",
            " 9   호칭          823575 non-null  object        \n",
            " 10  직무          588498 non-null  object        \n",
            " 11  제작/소싱       218095 non-null  object        \n",
            " 12  학습시작일_TIME  829211 non-null  object        \n",
            " 13  학습종료일_TIME  829211 non-null  object        \n",
            "dtypes: datetime64[ns](2), int64(1), object(11)\n",
            "memory usage: 88.6+ MB\n"
          ]
        }
      ],
      "source": [
        "df.info()"
      ]
    },
    {
      "cell_type": "code",
      "execution_count": null,
      "metadata": {
        "id": "hkiAbi5iwoaX"
      },
      "outputs": [],
      "source": [
        "df = df[df['학습시작일']  >= '2021-01-01']"
      ]
    },
    {
      "cell_type": "code",
      "execution_count": null,
      "metadata": {
        "colab": {
          "base_uri": "https://localhost:8080/"
        },
        "id": "D-Lh-6TTwodA",
        "outputId": "11686d48-7701-4c19-ad7f-61e0ba97d356"
      },
      "outputs": [
        {
          "output_type": "stream",
          "name": "stdout",
          "text": [
            "<class 'pandas.core.frame.DataFrame'>\n",
            "Int64Index: 806024 entries, 0 to 829210\n",
            "Data columns (total 14 columns):\n",
            " #   Column      Non-Null Count   Dtype         \n",
            "---  ------      --------------   -----         \n",
            " 0   교육분야1차      806024 non-null  object        \n",
            " 1   교육분야2차      806024 non-null  object        \n",
            " 2   과정코드        806024 non-null  int64         \n",
            " 3   과정명(학습명)    806024 non-null  object        \n",
            " 4   과정등록일(생성일)  567658 non-null  object        \n",
            " 5   학습시작일       806024 non-null  datetime64[ns]\n",
            " 6   학습종료일       806024 non-null  datetime64[ns]\n",
            " 7   사번(ID)      806024 non-null  object        \n",
            " 8   소속부서        806024 non-null  object        \n",
            " 9   호칭          800630 non-null  object        \n",
            " 10  직무          579745 non-null  object        \n",
            " 11  제작/소싱       217714 non-null  object        \n",
            " 12  학습시작일_TIME  806024 non-null  object        \n",
            " 13  학습종료일_TIME  806024 non-null  object        \n",
            "dtypes: datetime64[ns](2), int64(1), object(11)\n",
            "memory usage: 92.2+ MB\n"
          ]
        }
      ],
      "source": [
        "df.info()"
      ]
    },
    {
      "cell_type": "code",
      "execution_count": null,
      "metadata": {
        "colab": {
          "base_uri": "https://localhost:8080/"
        },
        "id": "e2Tfj2UwyO-7",
        "outputId": "157b887f-5057-4b0f-b589-0abd1e0869fd"
      },
      "outputs": [
        {
          "output_type": "execute_result",
          "data": {
            "text/plain": [
              "교육분야1차             0\n",
              "교육분야2차             0\n",
              "과정코드               0\n",
              "과정명(학습명)           0\n",
              "과정등록일(생성일)    238366\n",
              "학습시작일              0\n",
              "학습종료일              0\n",
              "사번(ID)             0\n",
              "소속부서               0\n",
              "호칭              5394\n",
              "직무            226279\n",
              "제작/소싱         588310\n",
              "학습시작일_TIME         0\n",
              "학습종료일_TIME         0\n",
              "dtype: int64"
            ]
          },
          "metadata": {},
          "execution_count": 25
        }
      ],
      "source": [
        "df.isnull().sum()"
      ]
    },
    {
      "cell_type": "code",
      "execution_count": null,
      "metadata": {
        "id": "Go3uY0OXMUvR"
      },
      "outputs": [],
      "source": [
        "def time_check(row):\n",
        "  if row['학습시작일_TIME'] >= datetime.time(6,0,0) and row['학습종료일_TIME'] <= datetime.time(8,59,59):\n",
        "    return '6-9'\n",
        "  elif row['학습시작일_TIME'] >= datetime.time(9,0,0) and row['학습종료일_TIME'] <= datetime.time(11,59,59):\n",
        "    return '9-12'\n",
        "  elif row['학습시작일_TIME'] >= datetime.time(12,0,0) and row['학습종료일_TIME'] <= datetime.time(12,59,59):\n",
        "    return '12-13'\n",
        "  elif row['학습시작일_TIME'] >= datetime.time(13,0,0) and row['학습종료일_TIME'] <= datetime.time(17,59,59):\n",
        "    return '13-18'\n",
        "  elif row['학습시작일_TIME'] >= datetime.time(18,0,0) and row['학습종료일_TIME'] <= datetime.time(23,59,59):\n",
        "    return '18-24'\n",
        "  else :\n",
        "    return '0-6'\n"
      ]
    },
    {
      "cell_type": "code",
      "execution_count": null,
      "metadata": {
        "id": "7LaqJqstQ7GS"
      },
      "outputs": [],
      "source": [
        "df['학습시간대'] = df.apply(time_check, axis=1)"
      ]
    },
    {
      "cell_type": "code",
      "execution_count": null,
      "metadata": {
        "colab": {
          "base_uri": "https://localhost:8080/"
        },
        "id": "4w334N0aQ7JP",
        "outputId": "7f48508d-fb3b-4f5b-b30d-4920bf4c82a7"
      },
      "outputs": [
        {
          "output_type": "execute_result",
          "data": {
            "text/plain": [
              "13-18    319012\n",
              "9-12     200403\n",
              "0-6      103781\n",
              "18-24     98743\n",
              "6-9       58960\n",
              "12-13     25125\n",
              "Name: 학습시간대, dtype: int64"
            ]
          },
          "metadata": {},
          "execution_count": 28
        }
      ],
      "source": [
        "df['학습시간대'].value_counts()"
      ]
    },
    {
      "cell_type": "code",
      "execution_count": null,
      "metadata": {
        "id": "mgjkrdlTl47t"
      },
      "outputs": [],
      "source": [
        "df['학습요일'] = df['학습시작일'].dt.weekday"
      ]
    },
    {
      "cell_type": "code",
      "execution_count": null,
      "metadata": {
        "id": "L02zcAqxl44d"
      },
      "outputs": [],
      "source": [
        "conv = {0:'월', 1:'화', 2:'수', 3:'목', 4:'금', 5:'토', 6:'일'}\n",
        "df['학습요일_CONV'] = df['학습요일'].map(conv)"
      ]
    },
    {
      "cell_type": "code",
      "execution_count": null,
      "metadata": {
        "colab": {
          "base_uri": "https://localhost:8080/"
        },
        "id": "v8_AeEq_l412",
        "outputId": "45f5f75c-a3ce-46a3-ceb3-621584893bcf"
      },
      "outputs": [
        {
          "output_type": "execute_result",
          "data": {
            "text/plain": [
              "금    155136\n",
              "화    154238\n",
              "목    151435\n",
              "월    141942\n",
              "수    141872\n",
              "토     30772\n",
              "일     30629\n",
              "Name: 학습요일_CONV, dtype: int64"
            ]
          },
          "metadata": {},
          "execution_count": 31
        }
      ],
      "source": [
        "df['학습요일_CONV'].value_counts()"
      ]
    },
    {
      "cell_type": "code",
      "execution_count": null,
      "metadata": {
        "id": "FsV9z2PlmyfI"
      },
      "outputs": [],
      "source": [
        "df['학습요일_WEEK'] = df['학습요일'].apply(lambda x : 'week' if x in [0,1,2,3,4] else 'weekend')"
      ]
    },
    {
      "cell_type": "code",
      "execution_count": null,
      "metadata": {
        "colab": {
          "base_uri": "https://localhost:8080/"
        },
        "id": "TUT_Nzd3myiL",
        "outputId": "c3dbb281-7803-429b-e21f-146fde937df7"
      },
      "outputs": [
        {
          "output_type": "execute_result",
          "data": {
            "text/plain": [
              "week       744623\n",
              "weekend     61401\n",
              "Name: 학습요일_WEEK, dtype: int64"
            ]
          },
          "metadata": {},
          "execution_count": 33
        }
      ],
      "source": [
        "df['학습요일_WEEK'].value_counts()"
      ]
    },
    {
      "cell_type": "code",
      "execution_count": null,
      "metadata": {
        "colab": {
          "base_uri": "https://localhost:8080/"
        },
        "id": "ZDox5BPZQ7L2",
        "outputId": "45cf678a-68d6-4690-8393-50f07e315051"
      },
      "outputs": [
        {
          "output_type": "stream",
          "name": "stdout",
          "text": [
            "<class 'pandas.core.frame.DataFrame'>\n",
            "Int64Index: 806024 entries, 0 to 829210\n",
            "Data columns (total 18 columns):\n",
            " #   Column      Non-Null Count   Dtype         \n",
            "---  ------      --------------   -----         \n",
            " 0   교육분야1차      806024 non-null  object        \n",
            " 1   교육분야2차      806024 non-null  object        \n",
            " 2   과정코드        806024 non-null  int64         \n",
            " 3   과정명(학습명)    806024 non-null  object        \n",
            " 4   과정등록일(생성일)  567658 non-null  object        \n",
            " 5   학습시작일       806024 non-null  datetime64[ns]\n",
            " 6   학습종료일       806024 non-null  datetime64[ns]\n",
            " 7   사번(ID)      806024 non-null  object        \n",
            " 8   소속부서        806024 non-null  object        \n",
            " 9   호칭          800630 non-null  object        \n",
            " 10  직무          579745 non-null  object        \n",
            " 11  제작/소싱       217714 non-null  object        \n",
            " 12  학습시작일_TIME  806024 non-null  object        \n",
            " 13  학습종료일_TIME  806024 non-null  object        \n",
            " 14  학습시간대       806024 non-null  object        \n",
            " 15  학습요일        806024 non-null  int64         \n",
            " 16  학습요일_CONV   806024 non-null  object        \n",
            " 17  학습요일_WEEK   806024 non-null  object        \n",
            "dtypes: datetime64[ns](2), int64(2), object(14)\n",
            "memory usage: 116.8+ MB\n"
          ]
        }
      ],
      "source": [
        "df.info()"
      ]
    },
    {
      "cell_type": "code",
      "execution_count": null,
      "metadata": {
        "id": "Yv6H5Ocx4Eop"
      },
      "outputs": [],
      "source": [
        "cond1 = (df['학습시작일'] >= '2021-01-01' ) & (df['학습시작일'] <= '2021-03-31' )\n",
        "cond2 = (df['학습시작일'] >= '2021-04-01' ) & (df['학습시작일'] <= '2021-06-30' )\n",
        "cond3 = (df['학습시작일'] >= '2021-07-01' ) & (df['학습시작일'] <= '2021-09-30' )\n",
        "cond4 = (df['학습시작일'] >= '2021-10-01' ) & (df['학습시작일'] <= '2021-12-31' )"
      ]
    },
    {
      "cell_type": "code",
      "execution_count": null,
      "metadata": {
        "colab": {
          "base_uri": "https://localhost:8080/"
        },
        "id": "IyGavzlK4Ex-",
        "outputId": "bc753276-6578-4745-8a6e-217663f62558"
      },
      "outputs": [
        {
          "output_type": "stream",
          "name": "stdout",
          "text": [
            "(192703, 18)\n",
            "(236263, 18)\n",
            "(215125, 18)\n",
            "(160622, 18)\n"
          ]
        }
      ],
      "source": [
        "print(df[cond1].shape)\n",
        "print(df[cond2].shape)\n",
        "print(df[cond3].shape)\n",
        "print(df[cond4].shape)"
      ]
    },
    {
      "cell_type": "code",
      "execution_count": null,
      "metadata": {
        "id": "tnlrPyi1mRuA"
      },
      "outputs": [],
      "source": [
        "# [직급기준] \n",
        "# 가장 많이 학습한 콘텐츠 교육분야 및 Top30콘텐츠 \n",
        "# 어떤 조직이 가장 학습을 많이 하는지 학습량 분석\n",
        "# 시간대별 학습량 분석 (6-9시/9시-12시/12시-13시/13시-18시/18시-24시)\n",
        "# 요일별 학습량 분석(1) 월/화/수/목/금/토/일\n",
        "# 요일별 학습량 분석(2) 근무일(월~금)/휴일(토일)"
      ]
    },
    {
      "cell_type": "code",
      "execution_count": null,
      "metadata": {
        "id": "calvlto064pp"
      },
      "outputs": [],
      "source": [
        "직급기준_교육분야 = df.groupby(['호칭', '과정명(학습명)'])['교육분야2차'].count().reset_index().sort_values(by=['호칭','교육분야2차'], ascending=False)\n",
        "직급기준_교육분야.to_csv('직급기준_교육분야.csv', encoding='cp949', index=False)"
      ]
    },
    {
      "cell_type": "code",
      "execution_count": null,
      "metadata": {
        "id": "fleWSp6L64vJ"
      },
      "outputs": [],
      "source": [
        "직급기준_가장학습많은조직 = df.groupby(['호칭', '소속부서'])['과정코드'].count().reset_index().sort_values(by=['호칭','과정코드'], ascending=False)\n",
        "직급기준_가장학습많은조직.to_csv('직급기준_가장학습많은조직.csv', encoding='cp949', index=False)"
      ]
    },
    {
      "cell_type": "code",
      "execution_count": null,
      "metadata": {
        "id": "jdnR62uU-rld"
      },
      "outputs": [],
      "source": [
        "직급기준_시간대별학습량 = df.groupby(['호칭', '학습시간대'])['과정코드'].count().reset_index().sort_values(by=['호칭','과정코드'], ascending=False)\n",
        "직급기준_시간대별학습량.to_csv('직급기준_시간대별학습량.csv', encoding='cp949', index=False)"
      ]
    },
    {
      "cell_type": "code",
      "execution_count": null,
      "metadata": {
        "id": "C2pwwztN_2lq"
      },
      "outputs": [],
      "source": [
        "직급기준_요일별학습량 = df.groupby(['호칭', '학습요일_CONV'])['과정코드'].count().reset_index().sort_values(by=['호칭','과정코드'], ascending=False)\n",
        "직급기준_요일별학습량.to_csv('직급기준_요일별학습량.csv', encoding='cp949', index=False)"
      ]
    },
    {
      "cell_type": "code",
      "execution_count": null,
      "metadata": {
        "id": "fy1PuHkb2J7B"
      },
      "outputs": [],
      "source": [
        "직급기준_요일별학습량2 = df.groupby(['호칭', '학습요일_WEEK'])['과정코드'].count().reset_index().sort_values(by=['호칭','과정코드'], ascending=False)\n",
        "직급기준_요일별학습량2.to_csv('직급기준_요일별학습량2.csv', encoding='cp949', index=False)"
      ]
    },
    {
      "cell_type": "code",
      "execution_count": null,
      "metadata": {
        "colab": {
          "base_uri": "https://localhost:8080/",
          "height": 423
        },
        "id": "Xq1sWn-5mnSY",
        "outputId": "1f040120-4949-4677-b832-275cee75c956"
      },
      "outputs": [
        {
          "output_type": "execute_result",
          "data": {
            "text/html": [
              "\n",
              "  <div id=\"df-e261a11d-36a8-4941-8996-378112f081f3\">\n",
              "    <div class=\"colab-df-container\">\n",
              "      <div>\n",
              "<style scoped>\n",
              "    .dataframe tbody tr th:only-of-type {\n",
              "        vertical-align: middle;\n",
              "    }\n",
              "\n",
              "    .dataframe tbody tr th {\n",
              "        vertical-align: top;\n",
              "    }\n",
              "\n",
              "    .dataframe thead th {\n",
              "        text-align: right;\n",
              "    }\n",
              "</style>\n",
              "<table border=\"1\" class=\"dataframe\">\n",
              "  <thead>\n",
              "    <tr style=\"text-align: right;\">\n",
              "      <th></th>\n",
              "      <th>호칭</th>\n",
              "      <th>학습시간대</th>\n",
              "      <th>과정코드</th>\n",
              "    </tr>\n",
              "  </thead>\n",
              "  <tbody>\n",
              "    <tr>\n",
              "      <th>1058</th>\n",
              "      <td>협력사</td>\n",
              "      <td>13-18</td>\n",
              "      <td>1</td>\n",
              "    </tr>\n",
              "    <tr>\n",
              "      <th>1057</th>\n",
              "      <td>헬스키퍼</td>\n",
              "      <td>9-12</td>\n",
              "      <td>2</td>\n",
              "    </tr>\n",
              "    <tr>\n",
              "      <th>1056</th>\n",
              "      <td>헬스키퍼</td>\n",
              "      <td>0-6</td>\n",
              "      <td>1</td>\n",
              "    </tr>\n",
              "    <tr>\n",
              "      <th>1052</th>\n",
              "      <td>프로젝트</td>\n",
              "      <td>13-18</td>\n",
              "      <td>204</td>\n",
              "    </tr>\n",
              "    <tr>\n",
              "      <th>1055</th>\n",
              "      <td>프로젝트</td>\n",
              "      <td>9-12</td>\n",
              "      <td>145</td>\n",
              "    </tr>\n",
              "    <tr>\n",
              "      <th>...</th>\n",
              "      <td>...</td>\n",
              "      <td>...</td>\n",
              "      <td>...</td>\n",
              "    </tr>\n",
              "    <tr>\n",
              "      <th>5</th>\n",
              "      <td>Biz센터장</td>\n",
              "      <td>9-12</td>\n",
              "      <td>26</td>\n",
              "    </tr>\n",
              "    <tr>\n",
              "      <th>2</th>\n",
              "      <td>Biz센터장</td>\n",
              "      <td>13-18</td>\n",
              "      <td>19</td>\n",
              "    </tr>\n",
              "    <tr>\n",
              "      <th>0</th>\n",
              "      <td>Biz센터장</td>\n",
              "      <td>0-6</td>\n",
              "      <td>12</td>\n",
              "    </tr>\n",
              "    <tr>\n",
              "      <th>1</th>\n",
              "      <td>Biz센터장</td>\n",
              "      <td>12-13</td>\n",
              "      <td>8</td>\n",
              "    </tr>\n",
              "    <tr>\n",
              "      <th>3</th>\n",
              "      <td>Biz센터장</td>\n",
              "      <td>18-24</td>\n",
              "      <td>7</td>\n",
              "    </tr>\n",
              "  </tbody>\n",
              "</table>\n",
              "<p>1059 rows × 3 columns</p>\n",
              "</div>\n",
              "      <button class=\"colab-df-convert\" onclick=\"convertToInteractive('df-e261a11d-36a8-4941-8996-378112f081f3')\"\n",
              "              title=\"Convert this dataframe to an interactive table.\"\n",
              "              style=\"display:none;\">\n",
              "        \n",
              "  <svg xmlns=\"http://www.w3.org/2000/svg\" height=\"24px\"viewBox=\"0 0 24 24\"\n",
              "       width=\"24px\">\n",
              "    <path d=\"M0 0h24v24H0V0z\" fill=\"none\"/>\n",
              "    <path d=\"M18.56 5.44l.94 2.06.94-2.06 2.06-.94-2.06-.94-.94-2.06-.94 2.06-2.06.94zm-11 1L8.5 8.5l.94-2.06 2.06-.94-2.06-.94L8.5 2.5l-.94 2.06-2.06.94zm10 10l.94 2.06.94-2.06 2.06-.94-2.06-.94-.94-2.06-.94 2.06-2.06.94z\"/><path d=\"M17.41 7.96l-1.37-1.37c-.4-.4-.92-.59-1.43-.59-.52 0-1.04.2-1.43.59L10.3 9.45l-7.72 7.72c-.78.78-.78 2.05 0 2.83L4 21.41c.39.39.9.59 1.41.59.51 0 1.02-.2 1.41-.59l7.78-7.78 2.81-2.81c.8-.78.8-2.07 0-2.86zM5.41 20L4 18.59l7.72-7.72 1.47 1.35L5.41 20z\"/>\n",
              "  </svg>\n",
              "      </button>\n",
              "      \n",
              "  <style>\n",
              "    .colab-df-container {\n",
              "      display:flex;\n",
              "      flex-wrap:wrap;\n",
              "      gap: 12px;\n",
              "    }\n",
              "\n",
              "    .colab-df-convert {\n",
              "      background-color: #E8F0FE;\n",
              "      border: none;\n",
              "      border-radius: 50%;\n",
              "      cursor: pointer;\n",
              "      display: none;\n",
              "      fill: #1967D2;\n",
              "      height: 32px;\n",
              "      padding: 0 0 0 0;\n",
              "      width: 32px;\n",
              "    }\n",
              "\n",
              "    .colab-df-convert:hover {\n",
              "      background-color: #E2EBFA;\n",
              "      box-shadow: 0px 1px 2px rgba(60, 64, 67, 0.3), 0px 1px 3px 1px rgba(60, 64, 67, 0.15);\n",
              "      fill: #174EA6;\n",
              "    }\n",
              "\n",
              "    [theme=dark] .colab-df-convert {\n",
              "      background-color: #3B4455;\n",
              "      fill: #D2E3FC;\n",
              "    }\n",
              "\n",
              "    [theme=dark] .colab-df-convert:hover {\n",
              "      background-color: #434B5C;\n",
              "      box-shadow: 0px 1px 3px 1px rgba(0, 0, 0, 0.15);\n",
              "      filter: drop-shadow(0px 1px 2px rgba(0, 0, 0, 0.3));\n",
              "      fill: #FFFFFF;\n",
              "    }\n",
              "  </style>\n",
              "\n",
              "      <script>\n",
              "        const buttonEl =\n",
              "          document.querySelector('#df-e261a11d-36a8-4941-8996-378112f081f3 button.colab-df-convert');\n",
              "        buttonEl.style.display =\n",
              "          google.colab.kernel.accessAllowed ? 'block' : 'none';\n",
              "\n",
              "        async function convertToInteractive(key) {\n",
              "          const element = document.querySelector('#df-e261a11d-36a8-4941-8996-378112f081f3');\n",
              "          const dataTable =\n",
              "            await google.colab.kernel.invokeFunction('convertToInteractive',\n",
              "                                                     [key], {});\n",
              "          if (!dataTable) return;\n",
              "\n",
              "          const docLinkHtml = 'Like what you see? Visit the ' +\n",
              "            '<a target=\"_blank\" href=https://colab.research.google.com/notebooks/data_table.ipynb>data table notebook</a>'\n",
              "            + ' to learn more about interactive tables.';\n",
              "          element.innerHTML = '';\n",
              "          dataTable['output_type'] = 'display_data';\n",
              "          await google.colab.output.renderOutput(dataTable, element);\n",
              "          const docLink = document.createElement('div');\n",
              "          docLink.innerHTML = docLinkHtml;\n",
              "          element.appendChild(docLink);\n",
              "        }\n",
              "      </script>\n",
              "    </div>\n",
              "  </div>\n",
              "  "
            ],
            "text/plain": [
              "          호칭  학습시간대  과정코드\n",
              "1058     협력사  13-18     1\n",
              "1057    헬스키퍼   9-12     2\n",
              "1056    헬스키퍼    0-6     1\n",
              "1052    프로젝트  13-18   204\n",
              "1055    프로젝트   9-12   145\n",
              "...      ...    ...   ...\n",
              "5     Biz센터장   9-12    26\n",
              "2     Biz센터장  13-18    19\n",
              "0     Biz센터장    0-6    12\n",
              "1     Biz센터장  12-13     8\n",
              "3     Biz센터장  18-24     7\n",
              "\n",
              "[1059 rows x 3 columns]"
            ]
          },
          "metadata": {},
          "execution_count": 43
        }
      ],
      "source": [
        "직급기준_시간대별학습량"
      ]
    },
    {
      "cell_type": "markdown",
      "metadata": {
        "id": "mH5VRZAkrPIV"
      },
      "source": [
        "# IT분야와 비IT분야로 데이터 나누기"
      ]
    },
    {
      "cell_type": "code",
      "execution_count": null,
      "metadata": {
        "colab": {
          "base_uri": "https://localhost:8080/"
        },
        "id": "BqcYcd6EsBzt",
        "outputId": "ec7dd011-b744-4a82-bdf0-8309172c1c5f"
      },
      "outputs": [
        {
          "output_type": "stream",
          "name": "stdout",
          "text": [
            "<class 'pandas.core.frame.DataFrame'>\n",
            "Int64Index: 806024 entries, 0 to 829210\n",
            "Data columns (total 18 columns):\n",
            " #   Column      Non-Null Count   Dtype         \n",
            "---  ------      --------------   -----         \n",
            " 0   교육분야1차      806024 non-null  object        \n",
            " 1   교육분야2차      806024 non-null  object        \n",
            " 2   과정코드        806024 non-null  int64         \n",
            " 3   과정명(학습명)    806024 non-null  object        \n",
            " 4   과정등록일(생성일)  567658 non-null  object        \n",
            " 5   학습시작일       806024 non-null  datetime64[ns]\n",
            " 6   학습종료일       806024 non-null  datetime64[ns]\n",
            " 7   사번(ID)      806024 non-null  object        \n",
            " 8   소속부서        806024 non-null  object        \n",
            " 9   호칭          800630 non-null  object        \n",
            " 10  직무          579745 non-null  object        \n",
            " 11  제작/소싱       217714 non-null  object        \n",
            " 12  학습시작일_TIME  806024 non-null  object        \n",
            " 13  학습종료일_TIME  806024 non-null  object        \n",
            " 14  학습시간대       806024 non-null  object        \n",
            " 15  학습요일        806024 non-null  int64         \n",
            " 16  학습요일_CONV   806024 non-null  object        \n",
            " 17  학습요일_WEEK   806024 non-null  object        \n",
            "dtypes: datetime64[ns](2), int64(2), object(14)\n",
            "memory usage: 116.8+ MB\n"
          ]
        }
      ],
      "source": [
        "df.info()"
      ]
    },
    {
      "cell_type": "code",
      "execution_count": null,
      "metadata": {
        "colab": {
          "base_uri": "https://localhost:8080/"
        },
        "id": "dkYrPa1q0e2F",
        "outputId": "17a920ab-6d4f-41e2-df63-4229347d484d"
      },
      "outputs": [
        {
          "output_type": "execute_result",
          "data": {
            "text/plain": [
              "교육분야1차             0\n",
              "교육분야2차             0\n",
              "과정코드               0\n",
              "과정명(학습명)           0\n",
              "과정등록일(생성일)    238366\n",
              "학습시작일              0\n",
              "학습종료일              0\n",
              "사번(ID)             0\n",
              "소속부서               0\n",
              "호칭              5394\n",
              "직무            226279\n",
              "제작/소싱         588310\n",
              "학습시작일_TIME         0\n",
              "학습종료일_TIME         0\n",
              "학습시간대              0\n",
              "학습요일               0\n",
              "학습요일_CONV          0\n",
              "학습요일_WEEK          0\n",
              "dtype: int64"
            ]
          },
          "metadata": {},
          "execution_count": 45
        }
      ],
      "source": [
        "df.isnull().sum()"
      ]
    },
    {
      "cell_type": "code",
      "execution_count": null,
      "metadata": {
        "id": "O1Z0VfAamnaZ"
      },
      "outputs": [],
      "source": [
        "df['교육분야1차'] = df['교육분야1차'].apply(lambda x : x.strip())"
      ]
    },
    {
      "cell_type": "code",
      "execution_count": null,
      "metadata": {
        "id": "AWnb8SPlE3W9"
      },
      "outputs": [],
      "source": [
        "cond1 = (df['교육분야1차'] == 'IT')\n",
        "cond2 = (df['교육분야1차'] != 'IT')"
      ]
    },
    {
      "cell_type": "code",
      "execution_count": null,
      "metadata": {
        "id": "AtJ651IWmndQ"
      },
      "outputs": [],
      "source": [
        "df_IT = df[cond1]\n",
        "df_NOT_IT = df[cond2]"
      ]
    },
    {
      "cell_type": "code",
      "execution_count": null,
      "metadata": {
        "colab": {
          "base_uri": "https://localhost:8080/"
        },
        "id": "dogYueBVmnf9",
        "outputId": "2734d5f2-819f-4d8a-e67f-9eaed9e5c073"
      },
      "outputs": [
        {
          "output_type": "stream",
          "name": "stdout",
          "text": [
            "<class 'pandas.core.frame.DataFrame'>\n",
            "Int64Index: 21678 entries, 2092 to 829158\n",
            "Data columns (total 18 columns):\n",
            " #   Column      Non-Null Count  Dtype         \n",
            "---  ------      --------------  -----         \n",
            " 0   교육분야1차      21678 non-null  object        \n",
            " 1   교육분야2차      21678 non-null  object        \n",
            " 2   과정코드        21678 non-null  int64         \n",
            " 3   과정명(학습명)    21678 non-null  object        \n",
            " 4   과정등록일(생성일)  12782 non-null  object        \n",
            " 5   학습시작일       21678 non-null  datetime64[ns]\n",
            " 6   학습종료일       21678 non-null  datetime64[ns]\n",
            " 7   사번(ID)      21678 non-null  object        \n",
            " 8   소속부서        21678 non-null  object        \n",
            " 9   호칭          21585 non-null  object        \n",
            " 10  직무          19701 non-null  object        \n",
            " 11  제작/소싱       13 non-null     object        \n",
            " 12  학습시작일_TIME  21678 non-null  object        \n",
            " 13  학습종료일_TIME  21678 non-null  object        \n",
            " 14  학습시간대       21678 non-null  object        \n",
            " 15  학습요일        21678 non-null  int64         \n",
            " 16  학습요일_CONV   21678 non-null  object        \n",
            " 17  학습요일_WEEK   21678 non-null  object        \n",
            "dtypes: datetime64[ns](2), int64(2), object(14)\n",
            "memory usage: 3.1+ MB\n"
          ]
        }
      ],
      "source": [
        "df_IT.info()"
      ]
    },
    {
      "cell_type": "code",
      "execution_count": null,
      "metadata": {
        "colab": {
          "base_uri": "https://localhost:8080/"
        },
        "id": "PkZE_dZJs9o1",
        "outputId": "62ec8dc9-9dca-4aee-cbcf-d062fe61c49f"
      },
      "outputs": [
        {
          "output_type": "stream",
          "name": "stdout",
          "text": [
            "<class 'pandas.core.frame.DataFrame'>\n",
            "Int64Index: 784346 entries, 0 to 829210\n",
            "Data columns (total 18 columns):\n",
            " #   Column      Non-Null Count   Dtype         \n",
            "---  ------      --------------   -----         \n",
            " 0   교육분야1차      784346 non-null  object        \n",
            " 1   교육분야2차      784346 non-null  object        \n",
            " 2   과정코드        784346 non-null  int64         \n",
            " 3   과정명(학습명)    784346 non-null  object        \n",
            " 4   과정등록일(생성일)  554876 non-null  object        \n",
            " 5   학습시작일       784346 non-null  datetime64[ns]\n",
            " 6   학습종료일       784346 non-null  datetime64[ns]\n",
            " 7   사번(ID)      784346 non-null  object        \n",
            " 8   소속부서        784346 non-null  object        \n",
            " 9   호칭          779045 non-null  object        \n",
            " 10  직무          560044 non-null  object        \n",
            " 11  제작/소싱       217701 non-null  object        \n",
            " 12  학습시작일_TIME  784346 non-null  object        \n",
            " 13  학습종료일_TIME  784346 non-null  object        \n",
            " 14  학습시간대       784346 non-null  object        \n",
            " 15  학습요일        784346 non-null  int64         \n",
            " 16  학습요일_CONV   784346 non-null  object        \n",
            " 17  학습요일_WEEK   784346 non-null  object        \n",
            "dtypes: datetime64[ns](2), int64(2), object(14)\n",
            "memory usage: 113.7+ MB\n"
          ]
        }
      ],
      "source": [
        "df_NOT_IT.info()"
      ]
    },
    {
      "cell_type": "code",
      "execution_count": null,
      "metadata": {
        "id": "_PwOyBSCmnjC"
      },
      "outputs": [],
      "source": [
        "df_IT.to_csv('온라인학습데이터_IT만.csv', encoding='cp949', index=False)"
      ]
    },
    {
      "cell_type": "code",
      "execution_count": null,
      "metadata": {
        "id": "60jJ_eKRmnmq"
      },
      "outputs": [],
      "source": [
        "#df_IT = pd.read_csv('온라인학습데이터_IT만.csv', encoding='cp949')"
      ]
    },
    {
      "cell_type": "markdown",
      "metadata": {
        "id": "AJcl5PpwtHM0"
      },
      "source": [
        "# IT 분야의 과정명에서 불필요 키워드 삭제 및 Top50개  Dict 생성"
      ]
    },
    {
      "cell_type": "code",
      "execution_count": null,
      "metadata": {
        "id": "zpnbGiwEcpT5"
      },
      "outputs": [],
      "source": [
        "# CountVectorizer 클래스로 BoW 만들기\n",
        "from sklearn.feature_extraction.text import CountVectorizer"
      ]
    },
    {
      "cell_type": "code",
      "execution_count": null,
      "metadata": {
        "id": "mSg6O3aKcpW2"
      },
      "outputs": [],
      "source": [
        "corpus = ['you know I want your love. because I love you.']\n",
        "vector = CountVectorizer().fit(corpus)"
      ]
    },
    {
      "cell_type": "code",
      "execution_count": null,
      "metadata": {
        "colab": {
          "base_uri": "https://localhost:8080/"
        },
        "id": "4guAKVmbcpZo",
        "outputId": "df957cbc-813e-4807-a63f-87ba0011efbc"
      },
      "outputs": [
        {
          "output_type": "stream",
          "name": "stdout",
          "text": [
            "{'you': 4, 'know': 1, 'want': 3, 'your': 5, 'love': 2, 'because': 0}\n"
          ]
        }
      ],
      "source": [
        "print(vector.vocabulary_)"
      ]
    },
    {
      "cell_type": "code",
      "execution_count": null,
      "metadata": {
        "id": "ewFHw-XbcpcW"
      },
      "outputs": [],
      "source": [
        "from tensorflow.keras.preprocessing.text import Tokenizer\n",
        "import numpy as np"
      ]
    },
    {
      "cell_type": "code",
      "execution_count": null,
      "metadata": {
        "colab": {
          "base_uri": "https://localhost:8080/"
        },
        "id": "79XITM7qK-9j",
        "outputId": "b70ea786-2ed0-4496-c8e8-fa60ee2f25d4"
      },
      "outputs": [
        {
          "output_type": "stream",
          "name": "stdout",
          "text": [
            "<class 'pandas.core.frame.DataFrame'>\n",
            "Int64Index: 21678 entries, 2092 to 829158\n",
            "Data columns (total 18 columns):\n",
            " #   Column      Non-Null Count  Dtype         \n",
            "---  ------      --------------  -----         \n",
            " 0   교육분야1차      21678 non-null  object        \n",
            " 1   교육분야2차      21678 non-null  object        \n",
            " 2   과정코드        21678 non-null  int64         \n",
            " 3   과정명(학습명)    21678 non-null  object        \n",
            " 4   과정등록일(생성일)  12782 non-null  object        \n",
            " 5   학습시작일       21678 non-null  datetime64[ns]\n",
            " 6   학습종료일       21678 non-null  datetime64[ns]\n",
            " 7   사번(ID)      21678 non-null  object        \n",
            " 8   소속부서        21678 non-null  object        \n",
            " 9   호칭          21585 non-null  object        \n",
            " 10  직무          19701 non-null  object        \n",
            " 11  제작/소싱       13 non-null     object        \n",
            " 12  학습시작일_TIME  21678 non-null  object        \n",
            " 13  학습종료일_TIME  21678 non-null  object        \n",
            " 14  학습시간대       21678 non-null  object        \n",
            " 15  학습요일        21678 non-null  int64         \n",
            " 16  학습요일_CONV   21678 non-null  object        \n",
            " 17  학습요일_WEEK   21678 non-null  object        \n",
            "dtypes: datetime64[ns](2), int64(2), object(14)\n",
            "memory usage: 3.1+ MB\n"
          ]
        }
      ],
      "source": [
        "df_IT.info()"
      ]
    },
    {
      "cell_type": "code",
      "execution_count": null,
      "metadata": {
        "id": "7uVsnxJ9hCdx"
      },
      "outputs": [],
      "source": [
        "#df_IT['과정명(학습명)'] = df_IT['과정명(학습명)'].str.replace('\\d','')"
      ]
    },
    {
      "cell_type": "code",
      "execution_count": null,
      "metadata": {
        "id": "ToKIxe4hWOfK"
      },
      "outputs": [],
      "source": [
        "df_IT['과정명(학습명)'] = df_IT['과정명(학습명)'].str.lower()"
      ]
    },
    {
      "cell_type": "code",
      "execution_count": null,
      "metadata": {
        "id": "D-fmvxsgsEjE"
      },
      "outputs": [],
      "source": [
        "df_IT['과정명(학습명)'] = df_IT['과정명(학습명)'].str.replace('aidu와','')\n",
        "df_IT['과정명(학습명)'] = df_IT['과정명(학습명)'].str.replace('rpadu로','')\n",
        "df_IT['과정명(학습명)'] = df_IT['과정명(학습명)'].str.replace('pjt','')\n",
        "df_IT['과정명(학습명)'] = df_IT['과정명(학습명)'].str.replace('factory makers','')\n",
        "df_IT['과정명(학습명)'] = df_IT['과정명(학습명)'].str.replace('epc','')\n",
        "df_IT['과정명(학습명)'] = df_IT['과정명(학습명)'].str.replace('t-sdn','')\n",
        "df_IT['과정명(학습명)'] = df_IT['과정명(학습명)'].str.replace('gigaeyes','')\n",
        "df_IT['과정명(학습명)'] = df_IT['과정명(학습명)'].str.replace('bc카드','')\n",
        "df_IT['과정명(학습명)'] = df_IT['과정명(학습명)'].str.replace('윤지혜','')\n",
        "df_IT['과정명(학습명)'] = df_IT['과정명(학습명)'].str.replace('mspp','')\n",
        "df_IT['과정명(학습명)'] = df_IT['과정명(학습명)'].str.replace('arsenal','')\n",
        "df_IT['과정명(학습명)'] = df_IT['과정명(학습명)'].str.replace('ktds','')\n",
        "df_IT['과정명(학습명)'] = df_IT['과정명(학습명)'].str.replace('appdu플랫폼','')\n",
        "df_IT['과정명(학습명)'] = df_IT['과정명(학습명)'].str.replace('조범준','')\n",
        "df_IT['과정명(학습명)'] = df_IT['과정명(학습명)'].str.replace('personal','')\n",
        "df_IT['과정명(학습명)'] = df_IT['과정명(학습명)'].str.replace('용산idc','')\n",
        "df_IT['과정명(학습명)'] = df_IT['과정명(학습명)'].str.replace('ndap','')\n",
        "df_IT['과정명(학습명)'] = df_IT['과정명(학습명)'].str.replace('올레 tv','')\n",
        "df_IT['과정명(학습명)'] = df_IT['과정명(학습명)'].str.replace('인프라봇의','')\n",
        "df_IT['과정명(학습명)'] = df_IT['과정명(학습명)'].str.replace('signal','')\n",
        "df_IT['과정명(학습명)'] = df_IT['과정명(학습명)'].str.replace('genie','')\n",
        "df_IT['과정명(학습명)'] = df_IT['과정명(학습명)'].str.replace('5g','')\n",
        "df_IT['과정명(학습명)'] = df_IT['과정명(학습명)'].str.replace('구 ','')"
      ]
    },
    {
      "cell_type": "code",
      "execution_count": null,
      "metadata": {
        "id": "arpsWAB-VJ_r"
      },
      "outputs": [],
      "source": [
        "df_IT['과정명(학습명)'] = df_IT['과정명(학습명)'].str.replace('aidu','AI')\n",
        "df_IT['과정명(학습명)'] = df_IT['과정명(학습명)'].str.replace('kt','k에듀')\n",
        "df_IT['과정명(학습명)'] = df_IT['과정명(학습명)'].str.replace('마이스터와','전문가와')\n",
        "df_IT['과정명(학습명)'] = df_IT['과정명(학습명)'].str.replace('   ',' ')\n",
        "df_IT['과정명(학습명)'] = df_IT['과정명(학습명)'].str.replace('  ',' ')"
      ]
    },
    {
      "cell_type": "code",
      "execution_count": null,
      "metadata": {
        "id": "joM9IiEONMDE"
      },
      "outputs": [],
      "source": [
        "# '과정명(학습명)' 앞 뒤 공백 제거\n",
        "df_IT['과정명(학습명)'] = df_IT['과정명(학습명)'].apply(lambda x : x.strip())"
      ]
    },
    {
      "cell_type": "code",
      "execution_count": null,
      "metadata": {
        "colab": {
          "base_uri": "https://localhost:8080/"
        },
        "id": "z3bk_6I2LRWk",
        "outputId": "70d69f10-ac5e-4eeb-fad8-37460e865d0c"
      },
      "outputs": [
        {
          "output_type": "execute_result",
          "data": {
            "text/plain": [
              "쉬운우리보안1. 피싱메일 예방법                                         1069\n",
              "k에듀 시큐어코딩 가이드(사례/심화)                                       862\n",
              "12. ai 분석 시작하기                                             830\n",
              "14. 전환 가입자 예측 모델 만들기                                       782\n",
              "13. 텍스트 감정 분석하기                                            774\n",
              "                                                          ... \n",
              "애플리케이션 성능 모니터링 솔루션()\\n\\nchapter 2. 통계분석, 성능진단, 구성관리 기능       2\n",
              "[sw 라이선스] 3. 서버sw 라이선스                                       2\n",
              "서비스 공통플랫폼 이해하기(인증편)                                          2\n",
              "개인위치정보보호 이해하기                                                1\n",
              "2편 : 플랫폼 운영이관 적합성 자가점검 요령                                    1\n",
              "Name: 과정명(학습명), Length: 202, dtype: int64"
            ]
          },
          "metadata": {},
          "execution_count": 63
        }
      ],
      "source": [
        "df_IT['과정명(학습명)'].value_counts()"
      ]
    },
    {
      "cell_type": "code",
      "execution_count": null,
      "metadata": {
        "colab": {
          "base_uri": "https://localhost:8080/"
        },
        "id": "mee56YYxuR8Z",
        "outputId": "966007bc-cb1c-47a1-d533-db47f214f216"
      },
      "outputs": [
        {
          "output_type": "execute_result",
          "data": {
            "text/plain": [
              "Int64Index([100008496, 200000850, 200000506, 200000516, 200000515, 200000800,\n",
              "            200000795, 200000890, 200018440, 100008584],\n",
              "           dtype='int64')"
            ]
          },
          "metadata": {},
          "execution_count": 64
        }
      ],
      "source": [
        "# 과정 TOP 50개\n",
        "online_top50 = df_IT['과정코드'].value_counts()[:SAMPLE_COUNT].index\n",
        "online_top50"
      ]
    },
    {
      "cell_type": "code",
      "execution_count": null,
      "metadata": {
        "id": "nnhBI_Uctnyt"
      },
      "outputs": [],
      "source": [
        "cond = df_IT['과정코드'].isin(online_top50)"
      ]
    },
    {
      "cell_type": "code",
      "execution_count": null,
      "metadata": {
        "id": "LzHtFB_otn15"
      },
      "outputs": [],
      "source": [
        "Temp_df = df_IT.loc[cond, ['과정코드', '과정명(학습명)']].drop_duplicates()"
      ]
    },
    {
      "cell_type": "code",
      "execution_count": null,
      "metadata": {
        "id": "OYt_L1zvTzv7"
      },
      "outputs": [],
      "source": [
        "Temp_df = Temp_df.reset_index(drop=True)"
      ]
    },
    {
      "cell_type": "code",
      "execution_count": null,
      "metadata": {
        "id": "ShiAOcZYTzzI"
      },
      "outputs": [],
      "source": [
        "online_learning_list_code = []\n",
        "online_learning_list_name = []\n",
        "for idx in Temp_df.index:\n",
        "  code = Temp_df.iloc[idx, 0]\n",
        "  name = Temp_df.iloc[idx, 1]\n",
        "  online_learning_list_code.append(code)\n",
        "  online_learning_list_name.append(name)\n"
      ]
    },
    {
      "cell_type": "code",
      "execution_count": null,
      "metadata": {
        "colab": {
          "base_uri": "https://localhost:8080/"
        },
        "id": "UHaXNpFETz_T",
        "outputId": "43100ce5-8edd-44d8-a45f-ace8ed758f4f"
      },
      "outputs": [
        {
          "output_type": "stream",
          "name": "stdout",
          "text": [
            "10 10\n"
          ]
        }
      ],
      "source": [
        "print(len(online_learning_list_code), len(online_learning_list_name))"
      ]
    },
    {
      "cell_type": "code",
      "execution_count": null,
      "metadata": {
        "colab": {
          "base_uri": "https://localhost:8080/"
        },
        "id": "29nq_ieKMUuF",
        "outputId": "b161c457-316d-419b-b012-bf0f488b924d"
      },
      "outputs": [
        {
          "output_type": "execute_result",
          "data": {
            "text/plain": [
              "21678"
            ]
          },
          "metadata": {},
          "execution_count": 70
        }
      ],
      "source": [
        "df_IT['과정명(학습명)'].shape[0]"
      ]
    },
    {
      "cell_type": "code",
      "source": [
        "# import random\n",
        "# rand = random.randrange(1, SAMPLE_COUNT - 1)"
      ],
      "metadata": {
        "id": "ii3YGIk5yrTB"
      },
      "execution_count": null,
      "outputs": []
    },
    {
      "cell_type": "code",
      "execution_count": null,
      "metadata": {
        "colab": {
          "base_uri": "https://localhost:8080/"
        },
        "id": "5fmYAhM4Lphx",
        "outputId": "63344456-2720-41ec-dd23-a569cd189610"
      },
      "outputs": [
        {
          "output_type": "execute_result",
          "data": {
            "text/plain": [
              "array([24.,  1., 83., ...,  1.,  5., 25.])"
            ]
          },
          "metadata": {},
          "execution_count": 72
        }
      ],
      "source": [
        "abs(np.ceil(np.random.normal(loc=10, scale=30, size=df_IT['과정명(학습명)'].shape[0])))"
      ]
    },
    {
      "cell_type": "code",
      "execution_count": null,
      "metadata": {
        "id": "-GCGN6l4T0CA"
      },
      "outputs": [],
      "source": [
        "# 50개 과정명을 램덤으로 뽑아 다시 과정명에 넣는다.\n",
        "df_IT['과정명(학습명)'] = abs(np.ceil(np.random.normal(loc=0, scale=20, size=df_IT['과정명(학습명)'].shape[0])))\n",
        "df_IT['과정명(학습명)'] = df_IT['과정명(학습명)'].apply(lambda x : SAMPLE_COUNT - 1 if x > (SAMPLE_COUNT - 1) else x)"
      ]
    },
    {
      "cell_type": "code",
      "execution_count": null,
      "metadata": {
        "id": "_UQ17GWIOk4r"
      },
      "outputs": [],
      "source": [
        "df_IT['과정명(학습명)_1'] = df_IT['과정명(학습명)'].apply(lambda x : online_learning_list_name[int(x)])"
      ]
    },
    {
      "cell_type": "code",
      "execution_count": null,
      "metadata": {
        "colab": {
          "base_uri": "https://localhost:8080/"
        },
        "id": "BkmWXUp4NSnL",
        "outputId": "2607f683-d6e4-46b1-96d0-1923d2aaa34a"
      },
      "outputs": [
        {
          "output_type": "execute_result",
          "data": {
            "text/plain": [
              "[cloud basic] cloud 이해 1-1 cloud 중요성    14573\n",
              "웹스크래핑하기                                   872\n",
              "14. 전환 가입자 예측 모델 만들기                      863\n",
              "13. 텍스트 감정 분석하기                           862\n",
              "k에듀 시큐어코딩 가이드(2/2)                        848\n",
              "k에듀 시큐어코딩 가이드(1/2)                        838\n",
              "12. ai 분석 시작하기                            814\n",
              "k에듀 시큐어코딩 가이드(사례/심화)                      811\n",
              "k에듀 임직원 정보보안 생활백서                         776\n",
              "쉬운우리보안1. 피싱메일 예방법                         421\n",
              "Name: 과정명(학습명)_1, dtype: int64"
            ]
          },
          "metadata": {},
          "execution_count": 75
        }
      ],
      "source": [
        "df_IT['과정명(학습명)_1'] .value_counts()"
      ]
    },
    {
      "cell_type": "code",
      "execution_count": null,
      "metadata": {
        "id": "_2i6KDrPPA2Y"
      },
      "outputs": [],
      "source": [
        "df_IT['과정코드_1'] = df_IT['과정명(학습명)'].apply(lambda x : online_learning_list_code[int(x)])"
      ]
    },
    {
      "cell_type": "code",
      "execution_count": null,
      "metadata": {
        "colab": {
          "base_uri": "https://localhost:8080/"
        },
        "id": "loGIYPMazkvA",
        "outputId": "0141a41e-e943-47c3-bd8b-6331373f0647"
      },
      "outputs": [
        {
          "output_type": "execute_result",
          "data": {
            "text/plain": [
              "200018440    14573\n",
              "100008584      872\n",
              "200000516      863\n",
              "200000515      862\n",
              "200000795      848\n",
              "200000800      838\n",
              "200000506      814\n",
              "200000850      811\n",
              "200000890      776\n",
              "100008496      421\n",
              "Name: 과정코드_1, dtype: int64"
            ]
          },
          "metadata": {},
          "execution_count": 77
        }
      ],
      "source": [
        "df_IT['과정코드_1'].value_counts()"
      ]
    },
    {
      "cell_type": "code",
      "execution_count": null,
      "metadata": {
        "colab": {
          "base_uri": "https://localhost:8080/"
        },
        "id": "fA3VLpPKPx45",
        "outputId": "5e1e68f7-56c2-45e5-fa62-d3d346605727"
      },
      "outputs": [
        {
          "output_type": "stream",
          "name": "stdout",
          "text": [
            "10 10\n"
          ]
        }
      ],
      "source": [
        "print(len(df_IT['과정명(학습명)'].unique()), len(df_IT['과정명(학습명)_1'].unique()))"
      ]
    },
    {
      "cell_type": "code",
      "execution_count": null,
      "metadata": {
        "colab": {
          "base_uri": "https://localhost:8080/"
        },
        "id": "JNXoKek_Pxzx",
        "outputId": "1fc17e2a-e9b3-4606-c9ac-4929c8c139f0"
      },
      "outputs": [
        {
          "output_type": "stream",
          "name": "stdout",
          "text": [
            "10 204\n"
          ]
        }
      ],
      "source": [
        "print(len(df_IT['과정코드_1'].unique()), len(df_IT['과정코드'].unique()))"
      ]
    },
    {
      "cell_type": "code",
      "execution_count": null,
      "metadata": {
        "id": "pph-KigmPxta"
      },
      "outputs": [],
      "source": [
        "df_IT['과정명(학습명)'] = df_IT['과정명(학습명)_1']\n",
        "df_IT['과정코드'] = df_IT['과정코드_1'] "
      ]
    },
    {
      "cell_type": "code",
      "execution_count": null,
      "metadata": {
        "colab": {
          "base_uri": "https://localhost:8080/"
        },
        "id": "3B2YY0YSPxiZ",
        "outputId": "a7f7edb1-58c3-485e-d81e-b5460068a94d"
      },
      "outputs": [
        {
          "output_type": "stream",
          "name": "stdout",
          "text": [
            "10 10\n"
          ]
        }
      ],
      "source": [
        "print(len(df_IT['과정명(학습명)'].unique()), len(df_IT['과정코드'].unique()))"
      ]
    },
    {
      "cell_type": "code",
      "execution_count": null,
      "metadata": {
        "id": "a0eM6UNyPxci"
      },
      "outputs": [],
      "source": [
        "df_IT.drop(['과정명(학습명)_1', '과정코드_1'], axis=1, inplace=True)"
      ]
    },
    {
      "cell_type": "code",
      "execution_count": null,
      "metadata": {
        "id": "o38K90Wscpe-"
      },
      "outputs": [],
      "source": [
        "X = df_IT['과정명(학습명)'].values"
      ]
    },
    {
      "cell_type": "code",
      "execution_count": null,
      "metadata": {
        "id": "8wF75_R1cpkW"
      },
      "outputs": [],
      "source": [
        "# 기계가 텍스트를 숫자로 처리할 수 있도록 훈련 데이터와 테스트 데이터에 정수 인코딩을 수행해야 합니다\n",
        "tokenizer = Tokenizer()\n",
        "tokenizer.fit_on_texts(X)"
      ]
    },
    {
      "cell_type": "code",
      "execution_count": null,
      "metadata": {
        "colab": {
          "base_uri": "https://localhost:8080/"
        },
        "id": "wjATVK5se-YR",
        "outputId": "4b5d40e5-c818-4233-a1c8-8bf7d08b91f1"
      },
      "outputs": [
        {
          "output_type": "stream",
          "name": "stdout",
          "text": [
            "{'cloud': 1, '1': 2, 'basic': 3, '이해': 4, '중요성': 5, 'k에듀': 6, '2': 7, '시큐어코딩': 8, '가이드': 9, '웹스크래핑하기': 10, '14': 11, '전환': 12, '가입자': 13, '예측': 14, '모델': 15, '만들기': 16, '13': 17, '텍스트': 18, '감정': 19, '분석하기': 20, '12': 21, 'ai': 22, '분석': 23, '시작하기': 24, '사례': 25, '심화': 26, '임직원': 27, '정보보안': 28, '생활백서': 29, '쉬운우리보안1': 30, '피싱메일': 31, '예방법': 32}\n"
          ]
        }
      ],
      "source": [
        "# 각 단어에 고유한 정수가 부여 확인\n",
        "print(tokenizer.word_index)"
      ]
    },
    {
      "cell_type": "code",
      "execution_count": null,
      "metadata": {
        "colab": {
          "base_uri": "https://localhost:8080/"
        },
        "id": "vrNCDIgSpVa-",
        "outputId": "ed203b11-0f01-4d59-e524-c1cfa98ef754"
      },
      "outputs": [
        {
          "output_type": "execute_result",
          "data": {
            "text/plain": [
              "[('cloud', 43719),\n",
              " ('1', 29984),\n",
              " ('basic', 14573),\n",
              " ('이해', 14573),\n",
              " ('중요성', 14573),\n",
              " ('k에듀', 3273),\n",
              " ('2', 2534),\n",
              " ('시큐어코딩', 2497),\n",
              " ('가이드', 2497),\n",
              " ('웹스크래핑하기', 872)]"
            ]
          },
          "metadata": {},
          "execution_count": 86
        }
      ],
      "source": [
        "# 각 단어 갯수 순으로 정렬\n",
        "sorted(tokenizer.word_counts.items(), key=lambda x : x[1], reverse=True)[:10]"
      ]
    },
    {
      "cell_type": "markdown",
      "metadata": {
        "id": "s1m833fwuEmq"
      },
      "source": [
        "# IT와 비IT 다시 합치기"
      ]
    },
    {
      "cell_type": "code",
      "execution_count": null,
      "metadata": {
        "id": "drGupSZnzezq"
      },
      "outputs": [],
      "source": [
        "df_NOT_IT = df_NOT_IT.reset_index(drop=True)\n",
        "df_IT = df_IT.reset_index(drop=True)"
      ]
    },
    {
      "cell_type": "code",
      "execution_count": null,
      "metadata": {
        "colab": {
          "base_uri": "https://localhost:8080/"
        },
        "id": "2_2kwI59z_ug",
        "outputId": "469485df-5d67-40e4-f533-5df2270235d9"
      },
      "outputs": [
        {
          "output_type": "execute_result",
          "data": {
            "text/plain": [
              "교육분야1차            0\n",
              "교육분야2차            0\n",
              "과정코드              0\n",
              "과정명(학습명)          0\n",
              "과정등록일(생성일)     8896\n",
              "학습시작일             0\n",
              "학습종료일             0\n",
              "사번(ID)            0\n",
              "소속부서              0\n",
              "호칭               93\n",
              "직무             1977\n",
              "제작/소싱         21665\n",
              "학습시작일_TIME        0\n",
              "학습종료일_TIME        0\n",
              "학습시간대             0\n",
              "학습요일              0\n",
              "학습요일_CONV         0\n",
              "학습요일_WEEK         0\n",
              "dtype: int64"
            ]
          },
          "metadata": {},
          "execution_count": 88
        }
      ],
      "source": [
        "df_IT.isnull().sum()"
      ]
    },
    {
      "cell_type": "code",
      "execution_count": null,
      "metadata": {
        "colab": {
          "base_uri": "https://localhost:8080/"
        },
        "id": "3YUyRSS8p1ij",
        "outputId": "aa11361b-8a3d-4bc6-994d-8d840cdc960d"
      },
      "outputs": [
        {
          "output_type": "execute_result",
          "data": {
            "text/plain": [
              "교육분야1차             0\n",
              "교육분야2차             0\n",
              "과정코드               0\n",
              "과정명(학습명)           0\n",
              "과정등록일(생성일)    229470\n",
              "학습시작일              0\n",
              "학습종료일              0\n",
              "사번(ID)             0\n",
              "소속부서               0\n",
              "호칭              5301\n",
              "직무            224302\n",
              "제작/소싱         566645\n",
              "학습시작일_TIME         0\n",
              "학습종료일_TIME         0\n",
              "학습시간대              0\n",
              "학습요일               0\n",
              "학습요일_CONV          0\n",
              "학습요일_WEEK          0\n",
              "dtype: int64"
            ]
          },
          "metadata": {},
          "execution_count": 89
        }
      ],
      "source": [
        "df_NOT_IT.isnull().sum()"
      ]
    },
    {
      "cell_type": "code",
      "execution_count": null,
      "metadata": {
        "id": "wwV8-Dm9qwI3"
      },
      "outputs": [],
      "source": [
        "df_ALL = pd.concat([df_NOT_IT, df_IT], axis=0)"
      ]
    },
    {
      "cell_type": "code",
      "execution_count": null,
      "metadata": {
        "colab": {
          "base_uri": "https://localhost:8080/"
        },
        "id": "LrQsu_xaq_08",
        "outputId": "f4de8b55-14bc-4598-8176-43c03d870950"
      },
      "outputs": [
        {
          "output_type": "stream",
          "name": "stdout",
          "text": [
            "<class 'pandas.core.frame.DataFrame'>\n",
            "Int64Index: 806024 entries, 0 to 21677\n",
            "Data columns (total 18 columns):\n",
            " #   Column      Non-Null Count   Dtype         \n",
            "---  ------      --------------   -----         \n",
            " 0   교육분야1차      806024 non-null  object        \n",
            " 1   교육분야2차      806024 non-null  object        \n",
            " 2   과정코드        806024 non-null  int64         \n",
            " 3   과정명(학습명)    806024 non-null  object        \n",
            " 4   과정등록일(생성일)  567658 non-null  object        \n",
            " 5   학습시작일       806024 non-null  datetime64[ns]\n",
            " 6   학습종료일       806024 non-null  datetime64[ns]\n",
            " 7   사번(ID)      806024 non-null  object        \n",
            " 8   소속부서        806024 non-null  object        \n",
            " 9   호칭          800630 non-null  object        \n",
            " 10  직무          579745 non-null  object        \n",
            " 11  제작/소싱       217714 non-null  object        \n",
            " 12  학습시작일_TIME  806024 non-null  object        \n",
            " 13  학습종료일_TIME  806024 non-null  object        \n",
            " 14  학습시간대       806024 non-null  object        \n",
            " 15  학습요일        806024 non-null  int64         \n",
            " 16  학습요일_CONV   806024 non-null  object        \n",
            " 17  학습요일_WEEK   806024 non-null  object        \n",
            "dtypes: datetime64[ns](2), int64(2), object(14)\n",
            "memory usage: 116.8+ MB\n"
          ]
        }
      ],
      "source": [
        "df_ALL.info()"
      ]
    },
    {
      "cell_type": "code",
      "execution_count": null,
      "metadata": {
        "colab": {
          "base_uri": "https://localhost:8080/"
        },
        "id": "8KYjuI4hhVEZ",
        "outputId": "5f35495c-ce8f-4faf-aa2c-1db4beba8360"
      },
      "outputs": [
        {
          "output_type": "execute_result",
          "data": {
            "text/plain": [
              "[cloud basic] cloud 이해 1-1 cloud 중요성    14573\n",
              "웹스크래핑하기                                   872\n",
              "14. 전환 가입자 예측 모델 만들기                      863\n",
              "13. 텍스트 감정 분석하기                           862\n",
              "k에듀 시큐어코딩 가이드(2/2)                        848\n",
              "k에듀 시큐어코딩 가이드(1/2)                        838\n",
              "12. ai 분석 시작하기                            814\n",
              "k에듀 시큐어코딩 가이드(사례/심화)                      811\n",
              "k에듀 임직원 정보보안 생활백서                         776\n",
              "쉬운우리보안1. 피싱메일 예방법                         421\n",
              "Name: 과정명(학습명), dtype: int64"
            ]
          },
          "metadata": {},
          "execution_count": 92
        }
      ],
      "source": [
        "df_ALL.loc[ df_ALL['교육분야1차'] =='IT', '과정명(학습명)'].value_counts()"
      ]
    },
    {
      "cell_type": "code",
      "execution_count": null,
      "metadata": {
        "id": "00IbsSVQvXLr"
      },
      "outputs": [],
      "source": [
        "df_ALL = df_ALL.sort_values(by='학습시작일', ascending=True)"
      ]
    },
    {
      "cell_type": "code",
      "execution_count": null,
      "metadata": {
        "colab": {
          "base_uri": "https://localhost:8080/",
          "height": 413
        },
        "id": "iUKejY4yq__9",
        "outputId": "3c2d88ec-52dc-4459-e233-4fa070f16d61"
      },
      "outputs": [
        {
          "output_type": "execute_result",
          "data": {
            "text/html": [
              "\n",
              "  <div id=\"df-bb8a1fd7-eb9d-4b14-a3f0-1cc2aaac6304\">\n",
              "    <div class=\"colab-df-container\">\n",
              "      <div>\n",
              "<style scoped>\n",
              "    .dataframe tbody tr th:only-of-type {\n",
              "        vertical-align: middle;\n",
              "    }\n",
              "\n",
              "    .dataframe tbody tr th {\n",
              "        vertical-align: top;\n",
              "    }\n",
              "\n",
              "    .dataframe thead th {\n",
              "        text-align: right;\n",
              "    }\n",
              "</style>\n",
              "<table border=\"1\" class=\"dataframe\">\n",
              "  <thead>\n",
              "    <tr style=\"text-align: right;\">\n",
              "      <th></th>\n",
              "      <th>교육분야1차</th>\n",
              "      <th>교육분야2차</th>\n",
              "      <th>과정코드</th>\n",
              "      <th>과정명(학습명)</th>\n",
              "      <th>과정등록일(생성일)</th>\n",
              "      <th>학습시작일</th>\n",
              "      <th>학습종료일</th>\n",
              "      <th>사번(ID)</th>\n",
              "      <th>소속부서</th>\n",
              "      <th>호칭</th>\n",
              "      <th>직무</th>\n",
              "      <th>제작/소싱</th>\n",
              "      <th>학습시작일_TIME</th>\n",
              "      <th>학습종료일_TIME</th>\n",
              "      <th>학습시간대</th>\n",
              "      <th>학습요일</th>\n",
              "      <th>학습요일_CONV</th>\n",
              "      <th>학습요일_WEEK</th>\n",
              "    </tr>\n",
              "  </thead>\n",
              "  <tbody>\n",
              "    <tr>\n",
              "      <th>50010</th>\n",
              "      <td>그룹사</td>\n",
              "      <td>[KT텔레캅] GiGAeyes 패키지</td>\n",
              "      <td>100008519</td>\n",
              "      <td>KT텔레캅 상품 바로 알기 3편 - GiGAeyes i형 영상 상품</td>\n",
              "      <td>2020-12-23 15:41:42.0</td>\n",
              "      <td>2021-01-01 00:36:00</td>\n",
              "      <td>2021-01-01 14:47:20</td>\n",
              "      <td>82144633</td>\n",
              "      <td>kt telecop&gt;전남/전북본부&gt;북광주지사&gt;고객서비스팀</td>\n",
              "      <td>주임</td>\n",
              "      <td>NaN</td>\n",
              "      <td>NaN</td>\n",
              "      <td>00:36:00</td>\n",
              "      <td>14:47:20</td>\n",
              "      <td>0-6</td>\n",
              "      <td>4</td>\n",
              "      <td>금</td>\n",
              "      <td>week</td>\n",
              "    </tr>\n",
              "    <tr>\n",
              "      <th>163226</th>\n",
              "      <td>OSP</td>\n",
              "      <td>개통/AS</td>\n",
              "      <td>100007873</td>\n",
              "      <td>IPTV트러블슈팅_리모컨</td>\n",
              "      <td>2020-12-22 10:56:25.0</td>\n",
              "      <td>2021-01-01 03:04:47</td>\n",
              "      <td>2021-01-02 01:25:30</td>\n",
              "      <td>82150710</td>\n",
              "      <td>kt service 남부&gt;호남본부&gt;목포지사&gt;해남지점&gt;CS4팀(장흥)</td>\n",
              "      <td>과장(MC)</td>\n",
              "      <td>NaN</td>\n",
              "      <td>NaN</td>\n",
              "      <td>03:04:47</td>\n",
              "      <td>01:25:30</td>\n",
              "      <td>0-6</td>\n",
              "      <td>4</td>\n",
              "      <td>금</td>\n",
              "      <td>week</td>\n",
              "    </tr>\n",
              "    <tr>\n",
              "      <th>9314</th>\n",
              "      <td>OSP</td>\n",
              "      <td>개통/AS</td>\n",
              "      <td>100008091</td>\n",
              "      <td>QR 코드 활용 광선번 관리(M-NeOSS)</td>\n",
              "      <td>2020-12-28 10:19:41.0</td>\n",
              "      <td>2021-01-01 04:28:04</td>\n",
              "      <td>2021-01-01 04:31:08</td>\n",
              "      <td>10129604</td>\n",
              "      <td>KT&gt;강남/서부광역본부&gt;강남고객본부&gt;평택지사&gt;CS부&gt;CM2팀</td>\n",
              "      <td>과장</td>\n",
              "      <td>선로운용/관리</td>\n",
              "      <td>NaN</td>\n",
              "      <td>04:28:04</td>\n",
              "      <td>04:31:08</td>\n",
              "      <td>0-6</td>\n",
              "      <td>4</td>\n",
              "      <td>금</td>\n",
              "      <td>week</td>\n",
              "    </tr>\n",
              "  </tbody>\n",
              "</table>\n",
              "</div>\n",
              "      <button class=\"colab-df-convert\" onclick=\"convertToInteractive('df-bb8a1fd7-eb9d-4b14-a3f0-1cc2aaac6304')\"\n",
              "              title=\"Convert this dataframe to an interactive table.\"\n",
              "              style=\"display:none;\">\n",
              "        \n",
              "  <svg xmlns=\"http://www.w3.org/2000/svg\" height=\"24px\"viewBox=\"0 0 24 24\"\n",
              "       width=\"24px\">\n",
              "    <path d=\"M0 0h24v24H0V0z\" fill=\"none\"/>\n",
              "    <path d=\"M18.56 5.44l.94 2.06.94-2.06 2.06-.94-2.06-.94-.94-2.06-.94 2.06-2.06.94zm-11 1L8.5 8.5l.94-2.06 2.06-.94-2.06-.94L8.5 2.5l-.94 2.06-2.06.94zm10 10l.94 2.06.94-2.06 2.06-.94-2.06-.94-.94-2.06-.94 2.06-2.06.94z\"/><path d=\"M17.41 7.96l-1.37-1.37c-.4-.4-.92-.59-1.43-.59-.52 0-1.04.2-1.43.59L10.3 9.45l-7.72 7.72c-.78.78-.78 2.05 0 2.83L4 21.41c.39.39.9.59 1.41.59.51 0 1.02-.2 1.41-.59l7.78-7.78 2.81-2.81c.8-.78.8-2.07 0-2.86zM5.41 20L4 18.59l7.72-7.72 1.47 1.35L5.41 20z\"/>\n",
              "  </svg>\n",
              "      </button>\n",
              "      \n",
              "  <style>\n",
              "    .colab-df-container {\n",
              "      display:flex;\n",
              "      flex-wrap:wrap;\n",
              "      gap: 12px;\n",
              "    }\n",
              "\n",
              "    .colab-df-convert {\n",
              "      background-color: #E8F0FE;\n",
              "      border: none;\n",
              "      border-radius: 50%;\n",
              "      cursor: pointer;\n",
              "      display: none;\n",
              "      fill: #1967D2;\n",
              "      height: 32px;\n",
              "      padding: 0 0 0 0;\n",
              "      width: 32px;\n",
              "    }\n",
              "\n",
              "    .colab-df-convert:hover {\n",
              "      background-color: #E2EBFA;\n",
              "      box-shadow: 0px 1px 2px rgba(60, 64, 67, 0.3), 0px 1px 3px 1px rgba(60, 64, 67, 0.15);\n",
              "      fill: #174EA6;\n",
              "    }\n",
              "\n",
              "    [theme=dark] .colab-df-convert {\n",
              "      background-color: #3B4455;\n",
              "      fill: #D2E3FC;\n",
              "    }\n",
              "\n",
              "    [theme=dark] .colab-df-convert:hover {\n",
              "      background-color: #434B5C;\n",
              "      box-shadow: 0px 1px 3px 1px rgba(0, 0, 0, 0.15);\n",
              "      filter: drop-shadow(0px 1px 2px rgba(0, 0, 0, 0.3));\n",
              "      fill: #FFFFFF;\n",
              "    }\n",
              "  </style>\n",
              "\n",
              "      <script>\n",
              "        const buttonEl =\n",
              "          document.querySelector('#df-bb8a1fd7-eb9d-4b14-a3f0-1cc2aaac6304 button.colab-df-convert');\n",
              "        buttonEl.style.display =\n",
              "          google.colab.kernel.accessAllowed ? 'block' : 'none';\n",
              "\n",
              "        async function convertToInteractive(key) {\n",
              "          const element = document.querySelector('#df-bb8a1fd7-eb9d-4b14-a3f0-1cc2aaac6304');\n",
              "          const dataTable =\n",
              "            await google.colab.kernel.invokeFunction('convertToInteractive',\n",
              "                                                     [key], {});\n",
              "          if (!dataTable) return;\n",
              "\n",
              "          const docLinkHtml = 'Like what you see? Visit the ' +\n",
              "            '<a target=\"_blank\" href=https://colab.research.google.com/notebooks/data_table.ipynb>data table notebook</a>'\n",
              "            + ' to learn more about interactive tables.';\n",
              "          element.innerHTML = '';\n",
              "          dataTable['output_type'] = 'display_data';\n",
              "          await google.colab.output.renderOutput(dataTable, element);\n",
              "          const docLink = document.createElement('div');\n",
              "          docLink.innerHTML = docLinkHtml;\n",
              "          element.appendChild(docLink);\n",
              "        }\n",
              "      </script>\n",
              "    </div>\n",
              "  </div>\n",
              "  "
            ],
            "text/plain": [
              "       교육분야1차                 교육분야2차       과정코드  ... 학습요일 학습요일_CONV 학습요일_WEEK\n",
              "50010     그룹사   [KT텔레캅] GiGAeyes 패키지  100008519  ...    4         금      week\n",
              "163226    OSP                  개통/AS  100007873  ...    4         금      week\n",
              "9314      OSP                  개통/AS  100008091  ...    4         금      week\n",
              "\n",
              "[3 rows x 18 columns]"
            ]
          },
          "metadata": {},
          "execution_count": 94
        }
      ],
      "source": [
        "df_ALL.head(3)"
      ]
    },
    {
      "cell_type": "code",
      "execution_count": null,
      "metadata": {
        "colab": {
          "base_uri": "https://localhost:8080/"
        },
        "id": "ESbNvmBMrAFl",
        "outputId": "77677e3e-671e-4302-8398-bfb511f4374f"
      },
      "outputs": [
        {
          "output_type": "execute_result",
          "data": {
            "text/plain": [
              "교육분야1차             0\n",
              "교육분야2차             0\n",
              "과정코드               0\n",
              "과정명(학습명)           0\n",
              "과정등록일(생성일)    238366\n",
              "학습시작일              0\n",
              "학습종료일              0\n",
              "사번(ID)             0\n",
              "소속부서               0\n",
              "호칭              5394\n",
              "직무            226279\n",
              "제작/소싱         588310\n",
              "학습시작일_TIME         0\n",
              "학습종료일_TIME         0\n",
              "학습시간대              0\n",
              "학습요일               0\n",
              "학습요일_CONV          0\n",
              "학습요일_WEEK          0\n",
              "dtype: int64"
            ]
          },
          "metadata": {},
          "execution_count": 95
        }
      ],
      "source": [
        "df_ALL.isnull().sum()"
      ]
    },
    {
      "cell_type": "markdown",
      "metadata": {
        "id": "MVPdmm766vPU"
      },
      "source": [
        "# 호칭, 직무는 램덤 비율로 채워넣기 "
      ]
    },
    {
      "cell_type": "code",
      "execution_count": null,
      "metadata": {
        "id": "6hI6QUxHrAOb"
      },
      "outputs": [],
      "source": [
        "role = ['과장', '차장', '대리', '부장', '사원','임원']\n",
        "df_ALL['호칭'] = df_ALL['호칭'].apply(lambda x : np.random.choice(role, 1, p=[0.2, 0.15, 0.25, 0.1, 0.25, 0.05])[0])"
      ]
    },
    {
      "cell_type": "code",
      "execution_count": null,
      "metadata": {
        "id": "E3Cmto_frARi",
        "colab": {
          "base_uri": "https://localhost:8080/"
        },
        "outputId": "65c27e1a-c654-4b4c-e5ea-ae5a2230b13f"
      },
      "outputs": [
        {
          "output_type": "execute_result",
          "data": {
            "text/plain": [
              "사원    201509\n",
              "대리    201454\n",
              "과장    160925\n",
              "차장    121118\n",
              "부장     80499\n",
              "임원     40519\n",
              "Name: 호칭, dtype: int64"
            ]
          },
          "metadata": {},
          "execution_count": 97
        }
      ],
      "source": [
        "df_ALL['호칭'].value_counts()"
      ]
    },
    {
      "cell_type": "code",
      "execution_count": null,
      "metadata": {
        "id": "YwQjfiAgrAUq",
        "colab": {
          "base_uri": "https://localhost:8080/"
        },
        "outputId": "ab6f2a26-4195-4b1f-935a-62f7308f568f"
      },
      "outputs": [
        {
          "output_type": "execute_result",
          "data": {
            "text/plain": [
              "교육분야1차             0\n",
              "교육분야2차             0\n",
              "과정코드               0\n",
              "과정명(학습명)           0\n",
              "과정등록일(생성일)    238366\n",
              "학습시작일              0\n",
              "학습종료일              0\n",
              "사번(ID)             0\n",
              "소속부서               0\n",
              "호칭                 0\n",
              "직무            226279\n",
              "제작/소싱         588310\n",
              "학습시작일_TIME         0\n",
              "학습종료일_TIME         0\n",
              "학습시간대              0\n",
              "학습요일               0\n",
              "학습요일_CONV          0\n",
              "학습요일_WEEK          0\n",
              "dtype: int64"
            ]
          },
          "metadata": {},
          "execution_count": 98
        }
      ],
      "source": [
        "df_ALL.isnull().sum()"
      ]
    },
    {
      "cell_type": "code",
      "execution_count": null,
      "metadata": {
        "id": "yqPhtBYdrAXz",
        "colab": {
          "base_uri": "https://localhost:8080/"
        },
        "outputId": "f1d7dff9-706d-41cf-9652-3e417429f013"
      },
      "outputs": [
        {
          "output_type": "execute_result",
          "data": {
            "text/plain": [
              "Index(['선로운용/관리', '기술영업', 'CS운영', 'IP망운용/관리', '유통영업', 'Biz개통/AS', '컨설팅/제안',\n",
              "       '전송망운용/관리', '무무선액세스망운용/관리', '사업전략', '전원운용/관리', '사업개발', 'C&R운영',\n",
              "       '무선코어망운용/관리', '프로젝트수행', 'Software개발', '네트워크기획', 'IT설계', 'ICT기술연구', '회계',\n",
              "       '네트워크기술연구', '인재개발', '상품기획/관리', '구매관리', '현장지원', '경영전략', '통화서비스운용/관리',\n",
              "       'Account Manager', '네트워크플랫폼운용/관리', '기술조사평가', '물류관리', '경영지원', 'IMO운용',\n",
              "       '리스크관리', 'CS', 'HR관리', '자산관리', 'PR', '정책규제대응', '네트워크보안', '네트워크', 'IT보안',\n",
              "       '기술전략', '노사협력', 'IT', '조직운영', '마케팅', 'IT기획', '기업문화변화관리', '감사', '법무',\n",
              "       '재원', '단말기술운용/관리', '운영혁신', '영업', '총무지원', '지식재산권관리', '전문경영', '단말기술지원',\n",
              "       '마케팅&커뮤니케이션', '공통', 'HR', '미디어/콘텐츠', '전략기획', '세무', '미디어/콘텐츠유통', 'UI/UX',\n",
              "       'Software', '자금', '윤리경영/법무/규제', '재무/회계', '공통직종(표준활동)', 'IR', '상품',\n",
              "       '경영자', '구매/물류', '시장조사', '디지털컨버전스', 'Enterprise B'],\n",
              "      dtype='object')"
            ]
          },
          "metadata": {},
          "execution_count": 99
        }
      ],
      "source": [
        "df_ALL['직무'].value_counts().index"
      ]
    },
    {
      "cell_type": "code",
      "execution_count": null,
      "metadata": {
        "id": "hl2tc4S-rAa6"
      },
      "outputs": [],
      "source": [
        "role2 = ['영업', '유통', '마케팅', 'IT', '연구', '제조', '회계', 'HR','경영']\n",
        "df_ALL['직무'] = df_ALL['직무'].apply(lambda x : np.random.choice(role2, 1, )[0])"
      ]
    },
    {
      "cell_type": "code",
      "execution_count": null,
      "metadata": {
        "id": "aRyR0V2Wl2T3",
        "colab": {
          "base_uri": "https://localhost:8080/"
        },
        "outputId": "31b247f9-9a8e-433c-e0a3-c90bf1fd01fb"
      },
      "outputs": [
        {
          "output_type": "execute_result",
          "data": {
            "text/plain": [
              "마케팅    90382\n",
              "회계     89805\n",
              "제조     89774\n",
              "유통     89680\n",
              "영업     89502\n",
              "경영     89464\n",
              "연구     89280\n",
              "HR     89186\n",
              "IT     88951\n",
              "Name: 직무, dtype: int64"
            ]
          },
          "metadata": {},
          "execution_count": 101
        }
      ],
      "source": [
        "df_ALL['직무'].value_counts()"
      ]
    },
    {
      "cell_type": "code",
      "execution_count": null,
      "metadata": {
        "id": "3oLCdYEal2YP",
        "colab": {
          "base_uri": "https://localhost:8080/"
        },
        "outputId": "76dcdd61-cc1b-41bf-b71a-1f371e3eb791"
      },
      "outputs": [
        {
          "output_type": "execute_result",
          "data": {
            "text/plain": [
              "교육분야1차             0\n",
              "교육분야2차             0\n",
              "과정코드               0\n",
              "과정명(학습명)           0\n",
              "과정등록일(생성일)    238366\n",
              "학습시작일              0\n",
              "학습종료일              0\n",
              "사번(ID)             0\n",
              "소속부서               0\n",
              "호칭                 0\n",
              "직무                 0\n",
              "제작/소싱         588310\n",
              "학습시작일_TIME         0\n",
              "학습종료일_TIME         0\n",
              "학습시간대              0\n",
              "학습요일               0\n",
              "학습요일_CONV          0\n",
              "학습요일_WEEK          0\n",
              "dtype: int64"
            ]
          },
          "metadata": {},
          "execution_count": 102
        }
      ],
      "source": [
        "df_ALL.isnull().sum()"
      ]
    },
    {
      "cell_type": "code",
      "execution_count": null,
      "metadata": {
        "id": "okEw5Naan5Db",
        "colab": {
          "base_uri": "https://localhost:8080/"
        },
        "outputId": "3a83315d-8e31-44b9-aff8-a82c39ca0b31"
      },
      "outputs": [
        {
          "output_type": "execute_result",
          "data": {
            "text/plain": [
              "Index(['MOS법인 북부>기술총괄>품질지원센터>제어망1팀>제어망파트2', 'MOS법인 북부>강북본부>충정운용팀>아현파트',\n",
              "       'KT>대구/경북광역본부>대구/경북고객본부>OSP담당>OSP지원부>OSP지원1팀',\n",
              "       'KT>부산/경남광역본부>부산/경남고객본부>울산지사>동울산지점>CM2팀',\n",
              "       'KT>전남/전북광역본부>전남/전북고객본부>전주지사>CS부>CM1팀',\n",
              "       'kt telecop>강남/서부본부>강남지사>고객서비스팀',\n",
              "       'KT>전남/전북광역본부>전남/전북고객본부>순천지사>CS부>CM2팀',\n",
              "       'KT>강남/서부광역본부>강남고객본부>송파지사>하남지점>CM3팀', 'KHS>경주센터>서비스팀>프런트 후생',\n",
              "       'MOS법인 북부>강남본부>구로운용팀>관악파트',\n",
              "       ...\n",
              "       'kt is>CS사업본부>강남CS운영단>분당센터담당>분당 마케팅TF>분당 마케팅TF CRM4팀',\n",
              "       'KT>IT부문>SW개발본부>SW개발혁신P-TF>SW아키텍처TF',\n",
              "       'kt is>마케팅본부>플라자사업팀>북부운영센터>kt플라자 용산점', 'KT>경영기획부문>전략기획실>제휴협력P-TF',\n",
              "       'kt ds>디지털사업본부>전략영업3팀', 'nasmedia>운영총괄>전략사업본부>모바일플랫폼실>모바일플랫폼2팀',\n",
              "       'kt linkus>공간플랫폼사업본부', 'K bank>경영기획본부>P&O실',\n",
              "       'kt estate>사업2본부>호텔비상경영TF>호텔운영팀', 'K bank>리스크관리실'],\n",
              "      dtype='object', length=6943)"
            ]
          },
          "metadata": {},
          "execution_count": 103
        }
      ],
      "source": [
        "df_ALL['소속부서'].value_counts().index[100:]"
      ]
    },
    {
      "cell_type": "markdown",
      "metadata": {
        "id": "ZbjYkeeS7CqY"
      },
      "source": [
        "# 소속부서 간단 명칭으로 램덤으로 넣기 "
      ]
    },
    {
      "cell_type": "code",
      "execution_count": null,
      "metadata": {
        "id": "SE7kaCHCn5H8"
      },
      "outputs": [],
      "source": [
        "def gubun_local(x):\n",
        "  if '강북' in x :\n",
        "    return '강북'\n",
        "  elif '강남' in x :\n",
        "    return '강남'\n",
        "  elif '전남' in x :\n",
        "    return '전남'  \n",
        "  elif '전북' in x :\n",
        "    return '전북'\n",
        "  elif '부산' in x :\n",
        "    return '부산'\n",
        "  elif '대구' in x :\n",
        "    return '대구'\n",
        "  elif '강원' in x :\n",
        "    return '강원'\n",
        "  elif '충남' in x :\n",
        "    return '충남'\n",
        "  elif '충북' in x :\n",
        "    return '충북'\n",
        "  else :\n",
        "    return '기타'"
      ]
    },
    {
      "cell_type": "code",
      "execution_count": null,
      "metadata": {
        "id": "5wDBFtHWn5MV"
      },
      "outputs": [],
      "source": [
        "df_ALL['소속부서'] = df_ALL['소속부서'].apply(gubun_local)"
      ]
    },
    {
      "cell_type": "code",
      "execution_count": null,
      "metadata": {
        "id": "g6HfOzv3n5Qc",
        "colab": {
          "base_uri": "https://localhost:8080/"
        },
        "outputId": "65f02b50-4394-4d05-c230-a9d6f4cb6086"
      },
      "outputs": [
        {
          "output_type": "execute_result",
          "data": {
            "text/plain": [
              "기타    288406\n",
              "강남    146648\n",
              "강북    122640\n",
              "전남     66781\n",
              "부산     62622\n",
              "대구     58205\n",
              "충남     53302\n",
              "강원      5171\n",
              "전북      1317\n",
              "충북       932\n",
              "Name: 소속부서, dtype: int64"
            ]
          },
          "metadata": {},
          "execution_count": 106
        }
      ],
      "source": [
        "df_ALL['소속부서'].value_counts()"
      ]
    },
    {
      "cell_type": "code",
      "execution_count": null,
      "metadata": {
        "id": "Zz9qij2bl2cc",
        "colab": {
          "base_uri": "https://localhost:8080/"
        },
        "outputId": "6a622fc9-6e5b-40c9-e18d-2810af98a60d"
      },
      "outputs": [
        {
          "output_type": "stream",
          "name": "stdout",
          "text": [
            "<class 'pandas.core.frame.DataFrame'>\n",
            "Int64Index: 806024 entries, 50010 to 669723\n",
            "Data columns (total 18 columns):\n",
            " #   Column      Non-Null Count   Dtype         \n",
            "---  ------      --------------   -----         \n",
            " 0   교육분야1차      806024 non-null  object        \n",
            " 1   교육분야2차      806024 non-null  object        \n",
            " 2   과정코드        806024 non-null  int64         \n",
            " 3   과정명(학습명)    806024 non-null  object        \n",
            " 4   과정등록일(생성일)  567658 non-null  object        \n",
            " 5   학습시작일       806024 non-null  datetime64[ns]\n",
            " 6   학습종료일       806024 non-null  datetime64[ns]\n",
            " 7   사번(ID)      806024 non-null  object        \n",
            " 8   소속부서        806024 non-null  object        \n",
            " 9   호칭          806024 non-null  object        \n",
            " 10  직무          806024 non-null  object        \n",
            " 11  제작/소싱       217714 non-null  object        \n",
            " 12  학습시작일_TIME  806024 non-null  object        \n",
            " 13  학습종료일_TIME  806024 non-null  object        \n",
            " 14  학습시간대       806024 non-null  object        \n",
            " 15  학습요일        806024 non-null  int64         \n",
            " 16  학습요일_CONV   806024 non-null  object        \n",
            " 17  학습요일_WEEK   806024 non-null  object        \n",
            "dtypes: datetime64[ns](2), int64(2), object(14)\n",
            "memory usage: 116.8+ MB\n"
          ]
        }
      ],
      "source": [
        "df_ALL.info()"
      ]
    },
    {
      "cell_type": "code",
      "execution_count": null,
      "metadata": {
        "id": "gO6bF0t_Sbl9",
        "colab": {
          "base_uri": "https://localhost:8080/"
        },
        "outputId": "42767625-e73c-4e9a-bb71-304aa1b62315"
      },
      "outputs": [
        {
          "output_type": "execute_result",
          "data": {
            "text/plain": [
              " AI                            227090\n",
              " ICT트렌드                         48065\n",
              " HR(인사/노무/교육/기업문화)              38679\n",
              " 인문학/자기계발                       32325\n",
              " B2B                            30629\n",
              "                                ...  \n",
              " [KT텔레캅] M.V.P - Master 패키지        35\n",
              " [KT텔레캅] SPM 패키지                   33\n",
              " [KT텔레캅] 표준형견적 패키지                 27\n",
              " [KT텔레캅] 로컬주장치 패키지                 13\n",
              " [KT텔레캅] 코칭리더십 패키지                  4\n",
              "Name: 교육분야2차, Length: 72, dtype: int64"
            ]
          },
          "metadata": {},
          "execution_count": 108
        }
      ],
      "source": [
        "df_ALL['교육분야2차'].value_counts()"
      ]
    },
    {
      "cell_type": "markdown",
      "metadata": {
        "id": "UynUPUHwS9G7"
      },
      "source": [
        "# 교육분야2차 컬럼 내용에서 기업정보 내용 변경하기"
      ]
    },
    {
      "cell_type": "code",
      "execution_count": null,
      "metadata": {
        "id": "YLa2cDZAS5sV"
      },
      "outputs": [],
      "source": [
        "X = df_ALL['교육분야2차'].values"
      ]
    },
    {
      "cell_type": "code",
      "execution_count": null,
      "metadata": {
        "id": "jMMh2IdSS5sV"
      },
      "outputs": [],
      "source": [
        "# 기계가 텍스트를 숫자로 처리할 수 있도록 훈련 데이터와 테스트 데이터에 정수 인코딩을 수행해야 합니다\n",
        "tokenizer = Tokenizer()\n",
        "tokenizer.fit_on_texts(X)"
      ]
    },
    {
      "cell_type": "code",
      "execution_count": null,
      "metadata": {
        "id": "F2R0IWDBS5sV",
        "colab": {
          "base_uri": "https://localhost:8080/"
        },
        "outputId": "bbbecafb-1022-475d-ad1d-4b719b414838"
      },
      "outputs": [
        {
          "output_type": "stream",
          "name": "stdout",
          "text": [
            "{'ai': 1, 'ict트렌드': 2, 'hr': 3, '인사': 4, '노무': 5, '교육': 6, '기업문화': 7, 'kt텔레캅': 8, '패키지': 9, '인문학': 10, '자기계발': 11, 'b2b': 12, '리더십': 13, '법무': 14, '윤리': 15, '컴플라이언스': 16, '고객선로': 17, 'oa': 18, '전략기획': 19, '공통': 20, '무선액세스': 21, 'it': 22, '유통영업': 23, '의미': 24, '이해': 25, '영업노하우': 26, '미니인터뷰': 27, 'gigaeyes': 28, '프로그래밍': 29, 'biz': 30, 'smb': 31, '상품': 32, '요금정보': 33, 'finance': 34, '재무': 35, '회계': 36, '세무': 37, '구매': 38, 'ip': 39, '업무효율화': 40, '개통': 41, 'as': 42, '영상보안': 43, 'dvr': 44, '플랫폼': 45, 'sg신입': 46, '빅데이터': 47, '신사업': 48, '개발': 49, '기간선로': 50, '무선코어': 51, '전송': 52, 'sp기초': 53, '전원': 54, 'se': 55, 'sg': 56, '완결영업': 57, '노하우공유회': 58, '마케팅전략': 59, '영업지원': 60, '시스템': 61, '블록체인': 62, '리텐션': 63, '통화': 64, '5g': 65, '기획': 66, '보고스킬': 67, 'kt': 68, '연구개발': 69, 'biz지원': 70, 'engineering': 71, '보안': 72, 'iot': 73, 'm': 74, 'v': 75, 'p': 76, '그룹공채신입': 77, '현장기술지원': 78, '단말': 79, 'advanced': 80, '스마트bss': 81, 'biz영업단': 82, '지문리더': 83, 'playd': 84, '영업': 85, '마케팅': 86, 'b2c': 87, 'service': 88, '북부': 89, '경영일반': 90, 'a': 91, 'ipc': 92, '무선': 93, 'expert': 94, 'ktmos남부': 95, '법정필수교육': 96, 'all': 97, 'in': 98, 'one': 99, 'master': 100, 'spm': 101, '표준형견적': 102, '로컬주장치': 103, '코칭리더십': 104}\n"
          ]
        }
      ],
      "source": [
        "# 각 단어에 고유한 정수가 부여 확인\n",
        "print(tokenizer.word_index)"
      ]
    },
    {
      "cell_type": "code",
      "execution_count": null,
      "metadata": {
        "id": "zKGXGk5mS5sV",
        "colab": {
          "base_uri": "https://localhost:8080/"
        },
        "outputId": "6190f04f-bb77-4f1c-9dbb-5101a7ad603b"
      },
      "outputs": [
        {
          "output_type": "execute_result",
          "data": {
            "text/plain": [
              "[('ai', 227090),\n",
              " ('ict트렌드', 48065),\n",
              " ('hr', 38679),\n",
              " ('인사', 38679),\n",
              " ('노무', 38679),\n",
              " ('교육', 38679),\n",
              " ('기업문화', 38679),\n",
              " ('kt텔레캅', 38191),\n",
              " ('패키지', 38191),\n",
              " ('인문학', 32325)]"
            ]
          },
          "metadata": {},
          "execution_count": 112
        }
      ],
      "source": [
        "# 각 단어 갯수 순으로 정렬\n",
        "sorted(tokenizer.word_counts.items(), key=lambda x : x[1], reverse=True)[:10]"
      ]
    },
    {
      "cell_type": "code",
      "execution_count": null,
      "metadata": {
        "id": "f_3YFnSFYQuj"
      },
      "outputs": [],
      "source": [
        "df_ALL['교육분야2차'] = df_ALL['교육분야2차'].str.lower()"
      ]
    },
    {
      "cell_type": "code",
      "execution_count": null,
      "metadata": {
        "id": "oQuXO1lbUR_M"
      },
      "outputs": [],
      "source": [
        "df_ALL['교육분야2차'] = df_ALL['교육분야2차'].str.replace('kt텔레캅','사이버러닝')\n",
        "df_ALL['교육분야2차'] = df_ALL['교육분야2차'].str.replace('고객선로','고객영업')\n",
        "df_ALL['교육분야2차'] = df_ALL['교육분야2차'].str.replace('무선액세스','무선영업')\n",
        "df_ALL['교육분야2차'] = df_ALL['교육분야2차'].str.replace('gigaeyes','온라인서비스')\n",
        "df_ALL['교육분야2차'] = df_ALL['교육분야2차'].str.replace('기간선로','기간서비스')\n",
        "df_ALL['교육분야2차'] = df_ALL['교육분야2차'].str.replace('무선코어','무선네트워크')\n",
        "df_ALL['교육분야2차'] = df_ALL['교육분야2차'].str.replace('전송','커넥션')\n",
        "df_ALL['교육분야2차'] = df_ALL['교육분야2차'].str.replace('5g','무선연결')\n",
        "df_ALL['교육분야2차'] = df_ALL['교육분야2차'].str.replace('kt','k에듀')\n",
        "df_ALL['교육분야2차'] = df_ALL['교육분야2차'].str.replace('ktmos남부','특수지점')"
      ]
    },
    {
      "cell_type": "code",
      "execution_count": null,
      "metadata": {
        "colab": {
          "base_uri": "https://localhost:8080/"
        },
        "id": "97Rq7aX_Sb1i",
        "outputId": "786c3126-eee4-4be2-d819-b5b4ccb7a47f"
      },
      "outputs": [
        {
          "output_type": "execute_result",
          "data": {
            "text/plain": [
              " ai                            227090\n",
              " ict트렌드                         48065\n",
              " hr(인사/노무/교육/기업문화)              38679\n",
              " 인문학/자기계발                       32325\n",
              " b2b                            30629\n",
              "                                ...  \n",
              " [사이버러닝] m.v.p - master 패키지        35\n",
              " [사이버러닝] spm 패키지                   33\n",
              " [사이버러닝] 표준형견적 패키지                 27\n",
              " [사이버러닝] 로컬주장치 패키지                 13\n",
              " [사이버러닝] 코칭리더십 패키지                  4\n",
              "Name: 교육분야2차, Length: 72, dtype: int64"
            ]
          },
          "metadata": {},
          "execution_count": 115
        }
      ],
      "source": [
        "df_ALL['교육분야2차'].value_counts()"
      ]
    },
    {
      "cell_type": "markdown",
      "metadata": {
        "id": "5ML5qvTrnsVa"
      },
      "source": [
        "# 자격증 보유여부, 학습지수, 경력개월수, 어학점수, 수강횟수 컬럼 추가\n"
      ]
    },
    {
      "cell_type": "markdown",
      "metadata": {
        "id": "kCFuJXf_HV9w"
      },
      "source": [
        "#### 자격증 여부 추가"
      ]
    },
    {
      "cell_type": "code",
      "execution_count": null,
      "metadata": {
        "id": "2irzo051seUL"
      },
      "outputs": [],
      "source": [
        "df_ALL['자격증보유여부'] = df_ALL['교육분야1차'].apply(lambda x : np.random.choice(['Y', 'N'], p=[0.35, 0.65]))"
      ]
    },
    {
      "cell_type": "code",
      "execution_count": null,
      "metadata": {
        "id": "2AJnLqkhseW7",
        "colab": {
          "base_uri": "https://localhost:8080/"
        },
        "outputId": "e529935a-23ba-49a1-cf54-59f7f3010d95"
      },
      "outputs": [
        {
          "output_type": "execute_result",
          "data": {
            "text/plain": [
              "N    524252\n",
              "Y    281772\n",
              "Name: 자격증보유여부, dtype: int64"
            ]
          },
          "metadata": {},
          "execution_count": 117
        }
      ],
      "source": [
        "df_ALL['자격증보유여부'].value_counts()"
      ]
    },
    {
      "cell_type": "code",
      "execution_count": null,
      "metadata": {
        "id": "xEn4nDy5seZ4",
        "colab": {
          "base_uri": "https://localhost:8080/"
        },
        "outputId": "b8330632-e87e-4bbc-c423-839e437f90d9"
      },
      "outputs": [
        {
          "output_type": "execute_result",
          "data": {
            "text/plain": [
              "46"
            ]
          },
          "metadata": {},
          "execution_count": 118
        }
      ],
      "source": [
        "np.random.randint(10,99)"
      ]
    },
    {
      "cell_type": "markdown",
      "metadata": {
        "id": "BIbKcHguHTlz"
      },
      "source": [
        "###  학습 지수 컬럼 추가"
      ]
    },
    {
      "cell_type": "code",
      "execution_count": null,
      "metadata": {
        "id": "-gU6aH2vsecp"
      },
      "outputs": [],
      "source": [
        "df_ALL['학습지수'] = np.round(abs(np.random.normal(loc=60, scale=30, size=df_ALL['교육분야1차'].shape[0])))"
      ]
    },
    {
      "cell_type": "code",
      "execution_count": null,
      "metadata": {
        "id": "hPJbPysPsefR",
        "colab": {
          "base_uri": "https://localhost:8080/",
          "height": 283
        },
        "outputId": "03d4a417-0bc1-4ff3-ba43-acf65b258818"
      },
      "outputs": [
        {
          "output_type": "execute_result",
          "data": {
            "text/plain": [
              "<matplotlib.axes._subplots.AxesSubplot at 0x7f5b39e280d0>"
            ]
          },
          "metadata": {},
          "execution_count": 120
        },
        {
          "output_type": "display_data",
          "data": {
            "image/png": "[encoded data removed]",
            "text/plain": [
              "<Figure size 432x288 with 1 Axes>"
            ]
          },
          "metadata": {
            "needs_background": "light"
          }
        }
      ],
      "source": [
        "df_ALL['학습지수'].plot.hist()"
      ]
    },
    {
      "cell_type": "markdown",
      "metadata": {
        "id": "H029B1SsHaUQ"
      },
      "source": [
        "### 경력개월수"
      ]
    },
    {
      "cell_type": "code",
      "execution_count": null,
      "metadata": {
        "id": "_U6IKd6gHYKJ"
      },
      "outputs": [],
      "source": [
        "df_ALL['경력개월수'] = np.round(abs(np.random.normal(loc=70, scale=50, size=df_ALL['교육분야1차'].shape[0])))"
      ]
    },
    {
      "cell_type": "code",
      "execution_count": null,
      "metadata": {
        "id": "od4ywnKBHYMz",
        "colab": {
          "base_uri": "https://localhost:8080/",
          "height": 283
        },
        "outputId": "0a16ed7e-8fe1-4f31-e325-d1ff21daa6f1"
      },
      "outputs": [
        {
          "output_type": "execute_result",
          "data": {
            "text/plain": [
              "<matplotlib.axes._subplots.AxesSubplot at 0x7f5b31e0a650>"
            ]
          },
          "metadata": {},
          "execution_count": 122
        },
        {
          "output_type": "display_data",
          "data": {
            "image/png": "[encoded data removed]",
            "text/plain": [
              "<Figure size 432x288 with 1 Axes>"
            ]
          },
          "metadata": {
            "needs_background": "light"
          }
        }
      ],
      "source": [
        "df_ALL['경력개월수'].plot.hist()"
      ]
    },
    {
      "cell_type": "markdown",
      "metadata": {
        "id": "0kqwYSC7HdnD"
      },
      "source": [
        "### 어학점수"
      ]
    },
    {
      "cell_type": "code",
      "execution_count": null,
      "metadata": {
        "id": "n5BrWKoUHYPX"
      },
      "outputs": [],
      "source": [
        "df_ALL['어학점수'] = np.round(abs(np.random.normal(loc=650, scale=150, size=df_ALL['교육분야1차'].shape[0])))\n",
        "df_ALL['어학점수'] = df_ALL['어학점수'].apply(lambda x : 980 if x > 980 else x)"
      ]
    },
    {
      "cell_type": "code",
      "execution_count": null,
      "metadata": {
        "id": "e_4pcF10HYSi",
        "colab": {
          "base_uri": "https://localhost:8080/",
          "height": 283
        },
        "outputId": "36b99607-1fae-46d0-f741-66406e8ce5c2"
      },
      "outputs": [
        {
          "output_type": "execute_result",
          "data": {
            "text/plain": [
              "<matplotlib.axes._subplots.AxesSubplot at 0x7f5b31960ad0>"
            ]
          },
          "metadata": {},
          "execution_count": 124
        },
        {
          "output_type": "display_data",
          "data": {
            "image/png": "[encoded data removed]",
            "text/plain": [
              "<Figure size 432x288 with 1 Axes>"
            ]
          },
          "metadata": {
            "needs_background": "light"
          }
        }
      ],
      "source": [
        "df_ALL['어학점수'].plot.hist()"
      ]
    },
    {
      "cell_type": "markdown",
      "metadata": {
        "id": "6kTS_9s0HhBi"
      },
      "source": [
        "### 수강횟수"
      ]
    },
    {
      "cell_type": "code",
      "execution_count": null,
      "metadata": {
        "id": "LiySyADQHYVI"
      },
      "outputs": [],
      "source": [
        "df_ALL['수강횟수'] = np.round(abs(np.random.normal(loc=0, scale=5, size=df_ALL['교육분야1차'].shape[0])))\n",
        "df_ALL['수강횟수'] = df_ALL['수강횟수'].apply(lambda x : x-8 if x >= 9 else x)"
      ]
    },
    {
      "cell_type": "code",
      "execution_count": null,
      "metadata": {
        "id": "bBoewqbAL2-p",
        "colab": {
          "base_uri": "https://localhost:8080/",
          "height": 283
        },
        "outputId": "6a320a5c-3941-4e70-9e79-ea7a9dca61b4"
      },
      "outputs": [
        {
          "output_type": "execute_result",
          "data": {
            "text/plain": [
              "<matplotlib.axes._subplots.AxesSubplot at 0x7f5b318a2750>"
            ]
          },
          "metadata": {},
          "execution_count": 126
        },
        {
          "output_type": "display_data",
          "data": {
            "image/png": "[encoded data removed]",
            "text/plain": [
              "<Figure size 432x288 with 1 Axes>"
            ]
          },
          "metadata": {
            "needs_background": "light"
          }
        }
      ],
      "source": [
        "df_ALL['수강횟수'].plot.hist()"
      ]
    },
    {
      "cell_type": "code",
      "execution_count": null,
      "metadata": {
        "id": "DRnOPW9pL3BF",
        "colab": {
          "base_uri": "https://localhost:8080/"
        },
        "outputId": "00c67bd8-b83b-4c74-ab1f-d8876ec36719"
      },
      "outputs": [
        {
          "output_type": "execute_result",
          "data": {
            "text/plain": [
              "0.9150000000000001"
            ]
          },
          "metadata": {},
          "execution_count": 127
        }
      ],
      "source": [
        "sum([0.4,0.2,0.1,0.08,0.05,0.03,0.025,0.02,0.01])"
      ]
    },
    {
      "cell_type": "code",
      "execution_count": null,
      "metadata": {
        "id": "4XHeGOL_L3ED",
        "colab": {
          "base_uri": "https://localhost:8080/"
        },
        "outputId": "48466796-4242-4c5a-fcb7-31fcc11ca89d"
      },
      "outputs": [
        {
          "output_type": "execute_result",
          "data": {
            "text/plain": [
              "0.8800000000000001"
            ]
          },
          "metadata": {},
          "execution_count": 128
        }
      ],
      "source": [
        "sum([0.4,0.2,0.1,0.08,0.06,0.04])"
      ]
    },
    {
      "cell_type": "code",
      "execution_count": null,
      "metadata": {
        "id": "SuaQ4FnCHYYI"
      },
      "outputs": [],
      "source": [
        "df_ALL['어학점수'] = df_ALL['어학점수'].apply(lambda x : 980 if x > 980 else x)"
      ]
    },
    {
      "cell_type": "markdown",
      "metadata": {
        "id": "1U89Ni1bu9rx"
      },
      "source": [
        "# 1012개 NAN 만들기"
      ]
    },
    {
      "cell_type": "code",
      "execution_count": null,
      "metadata": {
        "id": "u8oaEjk1u7rh"
      },
      "outputs": [],
      "source": [
        "sample_idx = np.random.permutation(df_ALL.index)[:1012]"
      ]
    },
    {
      "cell_type": "code",
      "execution_count": null,
      "metadata": {
        "id": "HXYzqmvuu7uO"
      },
      "outputs": [],
      "source": [
        "df_ALL.loc[sample_idx, '학습지수'] = np.nan"
      ]
    },
    {
      "cell_type": "code",
      "execution_count": null,
      "metadata": {
        "id": "NcQl5lRVu7xk",
        "colab": {
          "base_uri": "https://localhost:8080/"
        },
        "outputId": "10ef4c9f-24e3-491f-d73d-d3850cdceae6"
      },
      "outputs": [
        {
          "output_type": "execute_result",
          "data": {
            "text/plain": [
              "교육분야1차             0\n",
              "교육분야2차             0\n",
              "과정코드               0\n",
              "과정명(학습명)           0\n",
              "과정등록일(생성일)    238366\n",
              "학습시작일              0\n",
              "학습종료일              0\n",
              "사번(ID)             0\n",
              "소속부서               0\n",
              "호칭                 0\n",
              "직무                 0\n",
              "제작/소싱         588310\n",
              "학습시작일_TIME         0\n",
              "학습종료일_TIME         0\n",
              "학습시간대              0\n",
              "학습요일               0\n",
              "학습요일_CONV          0\n",
              "학습요일_WEEK          0\n",
              "자격증보유여부            0\n",
              "학습지수            1061\n",
              "경력개월수              0\n",
              "어학점수               0\n",
              "수강횟수               0\n",
              "dtype: int64"
            ]
          },
          "metadata": {},
          "execution_count": 132
        }
      ],
      "source": [
        "df_ALL.isnull().sum()"
      ]
    },
    {
      "cell_type": "markdown",
      "metadata": {
        "id": "BX05rpb8w6Qg"
      },
      "source": [
        "# 사번 변경하기"
      ]
    },
    {
      "cell_type": "code",
      "execution_count": null,
      "metadata": {
        "id": "HRcxul6Ow5cJ",
        "colab": {
          "base_uri": "https://localhost:8080/"
        },
        "outputId": "f417114b-b938-493d-dda5-d567c7a6cfca"
      },
      "outputs": [
        {
          "output_type": "execute_result",
          "data": {
            "text/plain": [
              "50010     82144633\n",
              "163226    82150710\n",
              "9314      10129604\n",
              "89488     10129604\n",
              "25521     10129604\n",
              "            ...   \n",
              "678390    10016824\n",
              "649517    10142082\n",
              "678362    10016824\n",
              "646755    10142082\n",
              "669723    82200996\n",
              "Name: 사번(ID), Length: 806024, dtype: object"
            ]
          },
          "metadata": {},
          "execution_count": 133
        }
      ],
      "source": [
        "df_ALL['사번(ID)']"
      ]
    },
    {
      "cell_type": "code",
      "execution_count": null,
      "metadata": {
        "id": "E9EnMp_XxgY5"
      },
      "outputs": [],
      "source": [
        "def change_id(SSS):\n",
        "  rand1 = np.random.randint(1, 10, 1)[0]\n",
        "  rand2 = np.random.randint(0, 10, 1)[0]\n",
        "  ID_STR = str(rand1) + str(SSS) + str(rand2)\n",
        "  return ID_STR"
      ]
    },
    {
      "cell_type": "code",
      "execution_count": null,
      "metadata": {
        "id": "lKR437jTw5zf"
      },
      "outputs": [],
      "source": [
        "df_ALL['사번(ID)'] = df_ALL['사번(ID)'].apply(change_id)"
      ]
    },
    {
      "cell_type": "code",
      "execution_count": null,
      "metadata": {
        "id": "SFhlDepJy9sw",
        "colab": {
          "base_uri": "https://localhost:8080/"
        },
        "outputId": "ce2ed88d-87ba-475a-c272-26a51f5c690e"
      },
      "outputs": [
        {
          "output_type": "execute_result",
          "data": {
            "text/plain": [
              "50010     7821446332\n",
              "163226    9821507101\n",
              "9314      1101296042\n",
              "89488     6101296049\n",
              "25521     6101296049\n",
              "             ...    \n",
              "678390    8100168249\n",
              "649517    9101420824\n",
              "678362    1100168247\n",
              "646755    2101420822\n",
              "669723    5822009965\n",
              "Name: 사번(ID), Length: 806024, dtype: object"
            ]
          },
          "metadata": {},
          "execution_count": 136
        }
      ],
      "source": [
        "df_ALL['사번(ID)'] "
      ]
    },
    {
      "cell_type": "markdown",
      "metadata": {
        "id": "iUahF8cE76Zo"
      },
      "source": [
        "# 처음 데이터 처럼 만들기 위해 아래 컬럼 삭제하기\n",
        "- '학습시작일_TIME', '학습종료일_TIME', '학습시간대', '학습요일', '학습요일_CONV', '학습요일_WEEK'"
      ]
    },
    {
      "cell_type": "code",
      "execution_count": null,
      "metadata": {
        "id": "SxfAMP058AlY",
        "colab": {
          "base_uri": "https://localhost:8080/"
        },
        "outputId": "46d6ef83-96a0-4d27-be78-4db2dce12cc4"
      },
      "outputs": [
        {
          "output_type": "stream",
          "name": "stdout",
          "text": [
            "<class 'pandas.core.frame.DataFrame'>\n",
            "Int64Index: 806024 entries, 50010 to 669723\n",
            "Data columns (total 23 columns):\n",
            " #   Column      Non-Null Count   Dtype         \n",
            "---  ------      --------------   -----         \n",
            " 0   교육분야1차      806024 non-null  object        \n",
            " 1   교육분야2차      806024 non-null  object        \n",
            " 2   과정코드        806024 non-null  int64         \n",
            " 3   과정명(학습명)    806024 non-null  object        \n",
            " 4   과정등록일(생성일)  567658 non-null  object        \n",
            " 5   학습시작일       806024 non-null  datetime64[ns]\n",
            " 6   학습종료일       806024 non-null  datetime64[ns]\n",
            " 7   사번(ID)      806024 non-null  object        \n",
            " 8   소속부서        806024 non-null  object        \n",
            " 9   호칭          806024 non-null  object        \n",
            " 10  직무          806024 non-null  object        \n",
            " 11  제작/소싱       217714 non-null  object        \n",
            " 12  학습시작일_TIME  806024 non-null  object        \n",
            " 13  학습종료일_TIME  806024 non-null  object        \n",
            " 14  학습시간대       806024 non-null  object        \n",
            " 15  학습요일        806024 non-null  int64         \n",
            " 16  학습요일_CONV   806024 non-null  object        \n",
            " 17  학습요일_WEEK   806024 non-null  object        \n",
            " 18  자격증보유여부     806024 non-null  object        \n",
            " 19  학습지수        804963 non-null  float64       \n",
            " 20  경력개월수       806024 non-null  float64       \n",
            " 21  어학점수        806024 non-null  float64       \n",
            " 22  수강횟수        806024 non-null  float64       \n",
            "dtypes: datetime64[ns](2), float64(4), int64(2), object(15)\n",
            "memory usage: 167.6+ MB\n"
          ]
        }
      ],
      "source": [
        "df_ALL.info()"
      ]
    },
    {
      "cell_type": "code",
      "execution_count": null,
      "metadata": {
        "id": "tTWYm4Kx8AoB"
      },
      "outputs": [],
      "source": [
        "drop_col = ['학습시작일_TIME', '학습종료일_TIME', '학습시간대', '학습요일', '학습요일_CONV', '학습요일_WEEK']"
      ]
    },
    {
      "cell_type": "code",
      "execution_count": null,
      "metadata": {
        "id": "cG6kAyuJ8Aqv"
      },
      "outputs": [],
      "source": [
        "df_ALL.drop(drop_col, axis=1, inplace=True)"
      ]
    },
    {
      "cell_type": "code",
      "execution_count": null,
      "metadata": {
        "id": "fwM_-zyK82qB"
      },
      "outputs": [],
      "source": [
        "df_ALL = df_ALL.reset_index(drop=True)"
      ]
    },
    {
      "cell_type": "code",
      "execution_count": null,
      "metadata": {
        "id": "PQOSpliQq9Pj",
        "colab": {
          "base_uri": "https://localhost:8080/"
        },
        "outputId": "03c0a976-fb46-442c-9631-4672ded86980"
      },
      "outputs": [
        {
          "output_type": "execute_result",
          "data": {
            "text/plain": [
              "10"
            ]
          },
          "metadata": {},
          "execution_count": 141
        }
      ],
      "source": [
        "df_ALL.loc[ df_ALL['교육분야1차'] =='IT', '과정명(학습명)'].value_counts().count()"
      ]
    },
    {
      "cell_type": "markdown",
      "metadata": {
        "id": "hw8B0QTtugg8"
      },
      "source": [
        "# 분기별로 4개 데이터 만들기"
      ]
    },
    {
      "cell_type": "code",
      "execution_count": null,
      "metadata": {
        "id": "1v-qPDL2seih",
        "colab": {
          "base_uri": "https://localhost:8080/"
        },
        "outputId": "de65024b-7c10-47e2-aac0-c8ef2c4507dd"
      },
      "outputs": [
        {
          "output_type": "stream",
          "name": "stdout",
          "text": [
            "<class 'pandas.core.frame.DataFrame'>\n",
            "RangeIndex: 806024 entries, 0 to 806023\n",
            "Data columns (total 17 columns):\n",
            " #   Column      Non-Null Count   Dtype         \n",
            "---  ------      --------------   -----         \n",
            " 0   교육분야1차      806024 non-null  object        \n",
            " 1   교육분야2차      806024 non-null  object        \n",
            " 2   과정코드        806024 non-null  int64         \n",
            " 3   과정명(학습명)    806024 non-null  object        \n",
            " 4   과정등록일(생성일)  567658 non-null  object        \n",
            " 5   학습시작일       806024 non-null  datetime64[ns]\n",
            " 6   학습종료일       806024 non-null  datetime64[ns]\n",
            " 7   사번(ID)      806024 non-null  object        \n",
            " 8   소속부서        806024 non-null  object        \n",
            " 9   호칭          806024 non-null  object        \n",
            " 10  직무          806024 non-null  object        \n",
            " 11  제작/소싱       217714 non-null  object        \n",
            " 12  자격증보유여부     806024 non-null  object        \n",
            " 13  학습지수        804963 non-null  float64       \n",
            " 14  경력개월수       806024 non-null  float64       \n",
            " 15  어학점수        806024 non-null  float64       \n",
            " 16  수강횟수        806024 non-null  float64       \n",
            "dtypes: datetime64[ns](2), float64(4), int64(1), object(10)\n",
            "memory usage: 104.5+ MB\n"
          ]
        }
      ],
      "source": [
        "df_ALL.info()"
      ]
    },
    {
      "cell_type": "code",
      "execution_count": null,
      "metadata": {
        "id": "bRx0Wi4fselh",
        "colab": {
          "base_uri": "https://localhost:8080/"
        },
        "outputId": "6ad43a9f-8e1b-4e07-b702-ea08fe75fda9"
      },
      "outputs": [
        {
          "output_type": "execute_result",
          "data": {
            "text/plain": [
              "교육분야1차             0\n",
              "교육분야2차             0\n",
              "과정코드               0\n",
              "과정명(학습명)           0\n",
              "과정등록일(생성일)    238366\n",
              "학습시작일              0\n",
              "학습종료일              0\n",
              "사번(ID)             0\n",
              "소속부서               0\n",
              "호칭                 0\n",
              "직무                 0\n",
              "제작/소싱         588310\n",
              "자격증보유여부            0\n",
              "학습지수            1061\n",
              "경력개월수              0\n",
              "어학점수               0\n",
              "수강횟수               0\n",
              "dtype: int64"
            ]
          },
          "metadata": {},
          "execution_count": 143
        }
      ],
      "source": [
        "df_ALL.isnull().sum()"
      ]
    },
    {
      "cell_type": "code",
      "execution_count": null,
      "metadata": {
        "id": "khoilOyvseop",
        "colab": {
          "base_uri": "https://localhost:8080/",
          "height": 274
        },
        "outputId": "bc2294c8-cf08-405d-d3b1-b7f14b7cc6d4"
      },
      "outputs": [
        {
          "output_type": "execute_result",
          "data": {
            "text/html": [
              "\n",
              "  <div id=\"df-f2f592e2-87a5-44b5-92e4-09e2d8092eb0\">\n",
              "    <div class=\"colab-df-container\">\n",
              "      <div>\n",
              "<style scoped>\n",
              "    .dataframe tbody tr th:only-of-type {\n",
              "        vertical-align: middle;\n",
              "    }\n",
              "\n",
              "    .dataframe tbody tr th {\n",
              "        vertical-align: top;\n",
              "    }\n",
              "\n",
              "    .dataframe thead th {\n",
              "        text-align: right;\n",
              "    }\n",
              "</style>\n",
              "<table border=\"1\" class=\"dataframe\">\n",
              "  <thead>\n",
              "    <tr style=\"text-align: right;\">\n",
              "      <th></th>\n",
              "      <th>교육분야1차</th>\n",
              "      <th>교육분야2차</th>\n",
              "      <th>과정코드</th>\n",
              "      <th>과정명(학습명)</th>\n",
              "      <th>과정등록일(생성일)</th>\n",
              "      <th>학습시작일</th>\n",
              "      <th>학습종료일</th>\n",
              "      <th>사번(ID)</th>\n",
              "      <th>소속부서</th>\n",
              "      <th>호칭</th>\n",
              "      <th>직무</th>\n",
              "      <th>제작/소싱</th>\n",
              "      <th>자격증보유여부</th>\n",
              "      <th>학습지수</th>\n",
              "      <th>경력개월수</th>\n",
              "      <th>어학점수</th>\n",
              "      <th>수강횟수</th>\n",
              "    </tr>\n",
              "  </thead>\n",
              "  <tbody>\n",
              "    <tr>\n",
              "      <th>0</th>\n",
              "      <td>그룹사</td>\n",
              "      <td>[사이버러닝] 온라인서비스 패키지</td>\n",
              "      <td>100008519</td>\n",
              "      <td>KT텔레캅 상품 바로 알기 3편 - GiGAeyes i형 영상 상품</td>\n",
              "      <td>2020-12-23 15:41:42.0</td>\n",
              "      <td>2021-01-01 00:36:00</td>\n",
              "      <td>2021-01-01 14:47:20</td>\n",
              "      <td>7821446332</td>\n",
              "      <td>전남</td>\n",
              "      <td>과장</td>\n",
              "      <td>HR</td>\n",
              "      <td>NaN</td>\n",
              "      <td>Y</td>\n",
              "      <td>95.0</td>\n",
              "      <td>135.0</td>\n",
              "      <td>792.0</td>\n",
              "      <td>1.0</td>\n",
              "    </tr>\n",
              "    <tr>\n",
              "      <th>1</th>\n",
              "      <td>OSP</td>\n",
              "      <td>개통/as</td>\n",
              "      <td>100007873</td>\n",
              "      <td>IPTV트러블슈팅_리모컨</td>\n",
              "      <td>2020-12-22 10:56:25.0</td>\n",
              "      <td>2021-01-01 03:04:47</td>\n",
              "      <td>2021-01-02 01:25:30</td>\n",
              "      <td>9821507101</td>\n",
              "      <td>기타</td>\n",
              "      <td>과장</td>\n",
              "      <td>IT</td>\n",
              "      <td>NaN</td>\n",
              "      <td>N</td>\n",
              "      <td>93.0</td>\n",
              "      <td>54.0</td>\n",
              "      <td>758.0</td>\n",
              "      <td>1.0</td>\n",
              "    </tr>\n",
              "    <tr>\n",
              "      <th>2</th>\n",
              "      <td>OSP</td>\n",
              "      <td>개통/as</td>\n",
              "      <td>100008091</td>\n",
              "      <td>QR 코드 활용 광선번 관리(M-NeOSS)</td>\n",
              "      <td>2020-12-28 10:19:41.0</td>\n",
              "      <td>2021-01-01 04:28:04</td>\n",
              "      <td>2021-01-01 04:31:08</td>\n",
              "      <td>1101296042</td>\n",
              "      <td>강남</td>\n",
              "      <td>과장</td>\n",
              "      <td>회계</td>\n",
              "      <td>NaN</td>\n",
              "      <td>Y</td>\n",
              "      <td>61.0</td>\n",
              "      <td>112.0</td>\n",
              "      <td>908.0</td>\n",
              "      <td>4.0</td>\n",
              "    </tr>\n",
              "  </tbody>\n",
              "</table>\n",
              "</div>\n",
              "      <button class=\"colab-df-convert\" onclick=\"convertToInteractive('df-f2f592e2-87a5-44b5-92e4-09e2d8092eb0')\"\n",
              "              title=\"Convert this dataframe to an interactive table.\"\n",
              "              style=\"display:none;\">\n",
              "        \n",
              "  <svg xmlns=\"http://www.w3.org/2000/svg\" height=\"24px\"viewBox=\"0 0 24 24\"\n",
              "       width=\"24px\">\n",
              "    <path d=\"M0 0h24v24H0V0z\" fill=\"none\"/>\n",
              "    <path d=\"M18.56 5.44l.94 2.06.94-2.06 2.06-.94-2.06-.94-.94-2.06-.94 2.06-2.06.94zm-11 1L8.5 8.5l.94-2.06 2.06-.94-2.06-.94L8.5 2.5l-.94 2.06-2.06.94zm10 10l.94 2.06.94-2.06 2.06-.94-2.06-.94-.94-2.06-.94 2.06-2.06.94z\"/><path d=\"M17.41 7.96l-1.37-1.37c-.4-.4-.92-.59-1.43-.59-.52 0-1.04.2-1.43.59L10.3 9.45l-7.72 7.72c-.78.78-.78 2.05 0 2.83L4 21.41c.39.39.9.59 1.41.59.51 0 1.02-.2 1.41-.59l7.78-7.78 2.81-2.81c.8-.78.8-2.07 0-2.86zM5.41 20L4 18.59l7.72-7.72 1.47 1.35L5.41 20z\"/>\n",
              "  </svg>\n",
              "      </button>\n",
              "      \n",
              "  <style>\n",
              "    .colab-df-container {\n",
              "      display:flex;\n",
              "      flex-wrap:wrap;\n",
              "      gap: 12px;\n",
              "    }\n",
              "\n",
              "    .colab-df-convert {\n",
              "      background-color: #E8F0FE;\n",
              "      border: none;\n",
              "      border-radius: 50%;\n",
              "      cursor: pointer;\n",
              "      display: none;\n",
              "      fill: #1967D2;\n",
              "      height: 32px;\n",
              "      padding: 0 0 0 0;\n",
              "      width: 32px;\n",
              "    }\n",
              "\n",
              "    .colab-df-convert:hover {\n",
              "      background-color: #E2EBFA;\n",
              "      box-shadow: 0px 1px 2px rgba(60, 64, 67, 0.3), 0px 1px 3px 1px rgba(60, 64, 67, 0.15);\n",
              "      fill: #174EA6;\n",
              "    }\n",
              "\n",
              "    [theme=dark] .colab-df-convert {\n",
              "      background-color: #3B4455;\n",
              "      fill: #D2E3FC;\n",
              "    }\n",
              "\n",
              "    [theme=dark] .colab-df-convert:hover {\n",
              "      background-color: #434B5C;\n",
              "      box-shadow: 0px 1px 3px 1px rgba(0, 0, 0, 0.15);\n",
              "      filter: drop-shadow(0px 1px 2px rgba(0, 0, 0, 0.3));\n",
              "      fill: #FFFFFF;\n",
              "    }\n",
              "  </style>\n",
              "\n",
              "      <script>\n",
              "        const buttonEl =\n",
              "          document.querySelector('#df-f2f592e2-87a5-44b5-92e4-09e2d8092eb0 button.colab-df-convert');\n",
              "        buttonEl.style.display =\n",
              "          google.colab.kernel.accessAllowed ? 'block' : 'none';\n",
              "\n",
              "        async function convertToInteractive(key) {\n",
              "          const element = document.querySelector('#df-f2f592e2-87a5-44b5-92e4-09e2d8092eb0');\n",
              "          const dataTable =\n",
              "            await google.colab.kernel.invokeFunction('convertToInteractive',\n",
              "                                                     [key], {});\n",
              "          if (!dataTable) return;\n",
              "\n",
              "          const docLinkHtml = 'Like what you see? Visit the ' +\n",
              "            '<a target=\"_blank\" href=https://colab.research.google.com/notebooks/data_table.ipynb>data table notebook</a>'\n",
              "            + ' to learn more about interactive tables.';\n",
              "          element.innerHTML = '';\n",
              "          dataTable['output_type'] = 'display_data';\n",
              "          await google.colab.output.renderOutput(dataTable, element);\n",
              "          const docLink = document.createElement('div');\n",
              "          docLink.innerHTML = docLinkHtml;\n",
              "          element.appendChild(docLink);\n",
              "        }\n",
              "      </script>\n",
              "    </div>\n",
              "  </div>\n",
              "  "
            ],
            "text/plain": [
              "  교육분야1차               교육분야2차       과정코드  ...  경력개월수   어학점수 수강횟수\n",
              "0    그룹사   [사이버러닝] 온라인서비스 패키지  100008519  ...  135.0  792.0  1.0\n",
              "1    OSP                개통/as  100007873  ...   54.0  758.0  1.0\n",
              "2    OSP                개통/as  100008091  ...  112.0  908.0  4.0\n",
              "\n",
              "[3 rows x 17 columns]"
            ]
          },
          "metadata": {},
          "execution_count": 144
        }
      ],
      "source": [
        "df_ALL.head(3)"
      ]
    },
    {
      "cell_type": "code",
      "execution_count": null,
      "metadata": {
        "id": "Gar78Tq913CY"
      },
      "outputs": [],
      "source": [
        "cond1 = (df_ALL['학습시작일'] >= '2021-01-01' ) & (df_ALL['학습시작일'] <= '2021-03-31' )\n",
        "cond2 = (df_ALL['학습시작일'] >= '2021-04-01' ) & (df_ALL['학습시작일'] <= '2021-06-30' )\n",
        "cond3 = (df_ALL['학습시작일'] >= '2021-07-01' ) & (df_ALL['학습시작일'] <= '2021-09-30' )\n",
        "cond4 = (df_ALL['학습시작일'] >= '2021-10-01' ) & (df_ALL['학습시작일'] <= '2021-12-31' )"
      ]
    },
    {
      "cell_type": "code",
      "execution_count": null,
      "metadata": {
        "id": "kJggtmJA2msX"
      },
      "outputs": [],
      "source": [
        "df_ALL_1q = df_ALL[cond1] \n",
        "df_ALL_2q = df_ALL[cond2] \n",
        "df_ALL_3q = df_ALL[cond3] \n",
        "df_ALL_4q = df_ALL[cond4] "
      ]
    },
    {
      "cell_type": "code",
      "execution_count": null,
      "metadata": {
        "id": "vElyd-Ob13E-",
        "colab": {
          "base_uri": "https://localhost:8080/"
        },
        "outputId": "3b6975d1-9c91-4457-c4bc-dac22a4ba1cc"
      },
      "outputs": [
        {
          "output_type": "stream",
          "name": "stdout",
          "text": [
            "(192703, 17) (236263, 17) (215125, 17) (160622, 17)\n"
          ]
        }
      ],
      "source": [
        "print(df_ALL_1q.shape, df_ALL_2q.shape, df_ALL_3q.shape, df_ALL_4q.shape)"
      ]
    },
    {
      "cell_type": "code",
      "execution_count": null,
      "metadata": {
        "id": "JjQ5rMLv13NY"
      },
      "outputs": [],
      "source": [
        "df_ALL_1q.to_csv('/content/drive/MyDrive/온라인 학습 데이트_2021_1월-3월_1Q.csv', encoding='cp949', index=False)\n",
        "df_ALL_2q.to_csv('/content/drive/MyDrive/온라인 학습 데이트_2021_4월-6월_2Q.csv', encoding='cp949', index=False)\n",
        "df_ALL_3q.to_csv('/content/drive/MyDrive/온라인 학습 데이트_2021_7월-9월_3Q.csv', encoding='cp949', index=False)\n",
        "df_ALL_4q.to_csv('/content/drive/MyDrive/온라인 학습 데이트_2021_10월-12월_4Q.csv', encoding='cp949', index=False)"
      ]
    },
    {
      "cell_type": "markdown",
      "metadata": {
        "id": "2L8wpppyJoPG"
      },
      "source": [
        "# 재가공 데이터 : 처음이라 생각하고 데이터 파일 읽어 들이자"
      ]
    },
    {
      "cell_type": "code",
      "execution_count": null,
      "metadata": {
        "id": "jW3ncFYM13QF"
      },
      "outputs": [],
      "source": [
        "df_1Q = pd.read_csv('/content/drive/MyDrive/온라인 학습 데이트_2021_1월-3월_1Q.csv', encoding='cp949')\n",
        "df_2Q = pd.read_csv('/content/drive/MyDrive/온라인 학습 데이트_2021_4월-6월_2Q.csv', encoding='cp949')\n",
        "df_3Q = pd.read_csv('/content/drive/MyDrive/온라인 학습 데이트_2021_7월-9월_3Q.csv', encoding='cp949')\n",
        "df_4Q = pd.read_csv('/content/drive/MyDrive/온라인 학습 데이트_2021_10월-12월_4Q.csv', encoding='cp949')"
      ]
    },
    {
      "cell_type": "code",
      "execution_count": null,
      "metadata": {
        "colab": {
          "base_uri": "https://localhost:8080/"
        },
        "id": "PeYQ8UC2sesF",
        "outputId": "e1a5014c-bb32-4673-a5fc-f21959221473"
      },
      "outputs": [
        {
          "output_type": "stream",
          "name": "stdout",
          "text": [
            "(192703, 17)\n",
            "(236263, 17)\n",
            "(215125, 17)\n",
            "(160622, 17)\n"
          ]
        }
      ],
      "source": [
        "print(df_1Q.shape)\n",
        "print(df_2Q.shape)\n",
        "print(df_3Q.shape)\n",
        "print(df_4Q.shape)"
      ]
    },
    {
      "cell_type": "code",
      "execution_count": null,
      "metadata": {
        "colab": {
          "base_uri": "https://localhost:8080/"
        },
        "id": "i26sOq2_seuY",
        "outputId": "2447215e-076b-496e-d9b3-ae596a82bc57"
      },
      "outputs": [
        {
          "output_type": "stream",
          "name": "stdout",
          "text": [
            "<class 'pandas.core.frame.DataFrame'>\n",
            "RangeIndex: 192703 entries, 0 to 192702\n",
            "Data columns (total 17 columns):\n",
            " #   Column      Non-Null Count   Dtype  \n",
            "---  ------      --------------   -----  \n",
            " 0   교육분야1차      192703 non-null  object \n",
            " 1   교육분야2차      192703 non-null  object \n",
            " 2   과정코드        192703 non-null  int64  \n",
            " 3   과정명(학습명)    192703 non-null  object \n",
            " 4   과정등록일(생성일)  187224 non-null  object \n",
            " 5   학습시작일       192703 non-null  object \n",
            " 6   학습종료일       192703 non-null  object \n",
            " 7   사번(ID)      192703 non-null  object \n",
            " 8   소속부서        192703 non-null  object \n",
            " 9   호칭          192703 non-null  object \n",
            " 10  직무          192703 non-null  object \n",
            " 11  제작/소싱       42394 non-null   object \n",
            " 12  자격증보유여부     192703 non-null  object \n",
            " 13  학습지수        192414 non-null  float64\n",
            " 14  경력개월수       192703 non-null  float64\n",
            " 15  어학점수        192703 non-null  float64\n",
            " 16  수강횟수        192703 non-null  float64\n",
            "dtypes: float64(4), int64(1), object(12)\n",
            "memory usage: 25.0+ MB\n"
          ]
        }
      ],
      "source": [
        "df_1Q.info()"
      ]
    },
    {
      "cell_type": "code",
      "execution_count": null,
      "metadata": {
        "colab": {
          "base_uri": "https://localhost:8080/"
        },
        "id": "O1uWBwWlKry6",
        "outputId": "097f8352-9dec-43c8-ec2a-268fd50050e8"
      },
      "outputs": [
        {
          "output_type": "stream",
          "name": "stdout",
          "text": [
            "<class 'pandas.core.frame.DataFrame'>\n",
            "RangeIndex: 236263 entries, 0 to 236262\n",
            "Data columns (total 17 columns):\n",
            " #   Column      Non-Null Count   Dtype  \n",
            "---  ------      --------------   -----  \n",
            " 0   교육분야1차      236263 non-null  object \n",
            " 1   교육분야2차      236263 non-null  object \n",
            " 2   과정코드        236263 non-null  int64  \n",
            " 3   과정명(학습명)    236263 non-null  object \n",
            " 4   과정등록일(생성일)  3847 non-null    object \n",
            " 5   학습시작일       236263 non-null  object \n",
            " 6   학습종료일       236263 non-null  object \n",
            " 7   사번(ID)      236263 non-null  object \n",
            " 8   소속부서        236263 non-null  object \n",
            " 9   호칭          236263 non-null  object \n",
            " 10  직무          236263 non-null  object \n",
            " 11  제작/소싱       55815 non-null   object \n",
            " 12  자격증보유여부     236263 non-null  object \n",
            " 13  학습지수        235967 non-null  float64\n",
            " 14  경력개월수       236263 non-null  float64\n",
            " 15  어학점수        236263 non-null  float64\n",
            " 16  수강횟수        236263 non-null  float64\n",
            "dtypes: float64(4), int64(1), object(12)\n",
            "memory usage: 30.6+ MB\n"
          ]
        }
      ],
      "source": [
        "df_2Q.info()"
      ]
    },
    {
      "cell_type": "code",
      "execution_count": null,
      "metadata": {
        "colab": {
          "base_uri": "https://localhost:8080/"
        },
        "id": "hlsBk1MEKuuA",
        "outputId": "6150d345-a9e1-403f-be05-6b8e8126b44c"
      },
      "outputs": [
        {
          "output_type": "stream",
          "name": "stdout",
          "text": [
            "<class 'pandas.core.frame.DataFrame'>\n",
            "RangeIndex: 215125 entries, 0 to 215124\n",
            "Data columns (total 17 columns):\n",
            " #   Column      Non-Null Count   Dtype  \n",
            "---  ------      --------------   -----  \n",
            " 0   교육분야1차      215125 non-null  object \n",
            " 1   교육분야2차      215125 non-null  object \n",
            " 2   과정코드        215125 non-null  int64  \n",
            " 3   과정명(학습명)    215125 non-null  object \n",
            " 4   과정등록일(생성일)  215125 non-null  object \n",
            " 5   학습시작일       215125 non-null  object \n",
            " 6   학습종료일       215125 non-null  object \n",
            " 7   사번(ID)      215125 non-null  object \n",
            " 8   소속부서        215125 non-null  object \n",
            " 9   호칭          215125 non-null  object \n",
            " 10  직무          215125 non-null  object \n",
            " 11  제작/소싱       52251 non-null   object \n",
            " 12  자격증보유여부     215125 non-null  object \n",
            " 13  학습지수        214850 non-null  float64\n",
            " 14  경력개월수       215125 non-null  float64\n",
            " 15  어학점수        215125 non-null  float64\n",
            " 16  수강횟수        215125 non-null  float64\n",
            "dtypes: float64(4), int64(1), object(12)\n",
            "memory usage: 27.9+ MB\n"
          ]
        }
      ],
      "source": [
        "df_3Q.info()"
      ]
    },
    {
      "cell_type": "code",
      "execution_count": null,
      "metadata": {
        "colab": {
          "base_uri": "https://localhost:8080/"
        },
        "id": "Tza2p37mKx-t",
        "outputId": "0fbc7b5e-d075-4a09-90f8-23fc0caa03f9"
      },
      "outputs": [
        {
          "output_type": "stream",
          "name": "stdout",
          "text": [
            "<class 'pandas.core.frame.DataFrame'>\n",
            "RangeIndex: 160622 entries, 0 to 160621\n",
            "Data columns (total 17 columns):\n",
            " #   Column      Non-Null Count   Dtype  \n",
            "---  ------      --------------   -----  \n",
            " 0   교육분야1차      160622 non-null  object \n",
            " 1   교육분야2차      160622 non-null  object \n",
            " 2   과정코드        160622 non-null  int64  \n",
            " 3   과정명(학습명)    160622 non-null  object \n",
            " 4   과정등록일(생성일)  160622 non-null  object \n",
            " 5   학습시작일       160622 non-null  object \n",
            " 6   학습종료일       160622 non-null  object \n",
            " 7   사번(ID)      160622 non-null  object \n",
            " 8   소속부서        160622 non-null  object \n",
            " 9   호칭          160622 non-null  object \n",
            " 10  직무          160622 non-null  object \n",
            " 11  제작/소싱       66961 non-null   object \n",
            " 12  자격증보유여부     160622 non-null  object \n",
            " 13  학습지수        160423 non-null  float64\n",
            " 14  경력개월수       160622 non-null  float64\n",
            " 15  어학점수        160622 non-null  float64\n",
            " 16  수강횟수        160622 non-null  float64\n",
            "dtypes: float64(4), int64(1), object(12)\n",
            "memory usage: 20.8+ MB\n"
          ]
        }
      ],
      "source": [
        "df_4Q.info()"
      ]
    },
    {
      "cell_type": "code",
      "execution_count": null,
      "metadata": {
        "id": "M-XzJ_4HKzXu"
      },
      "outputs": [],
      "source": [
        "df_Q = pd.concat([df_1Q, df_2Q, df_3Q, df_4Q], axis=0)"
      ]
    },
    {
      "cell_type": "code",
      "execution_count": null,
      "metadata": {
        "colab": {
          "base_uri": "https://localhost:8080/"
        },
        "id": "BbO5z7b7LF9h",
        "outputId": "27c0fbd1-f9b5-4622-8dd8-91ac039bb914"
      },
      "outputs": [
        {
          "output_type": "execute_result",
          "data": {
            "text/plain": [
              "804713"
            ]
          },
          "metadata": {},
          "execution_count": 156
        }
      ],
      "source": [
        "192703 + 236263 + 215125 + 160622 "
      ]
    },
    {
      "cell_type": "code",
      "execution_count": null,
      "metadata": {
        "colab": {
          "base_uri": "https://localhost:8080/"
        },
        "id": "sfMJu117LPlc",
        "outputId": "15ca10c1-bd24-4e2e-cc21-85241c7bf681"
      },
      "outputs": [
        {
          "output_type": "stream",
          "name": "stdout",
          "text": [
            "<class 'pandas.core.frame.DataFrame'>\n",
            "Int64Index: 804713 entries, 0 to 160621\n",
            "Data columns (total 17 columns):\n",
            " #   Column      Non-Null Count   Dtype  \n",
            "---  ------      --------------   -----  \n",
            " 0   교육분야1차      804713 non-null  object \n",
            " 1   교육분야2차      804713 non-null  object \n",
            " 2   과정코드        804713 non-null  int64  \n",
            " 3   과정명(학습명)    804713 non-null  object \n",
            " 4   과정등록일(생성일)  566818 non-null  object \n",
            " 5   학습시작일       804713 non-null  object \n",
            " 6   학습종료일       804713 non-null  object \n",
            " 7   사번(ID)      804713 non-null  object \n",
            " 8   소속부서        804713 non-null  object \n",
            " 9   호칭          804713 non-null  object \n",
            " 10  직무          804713 non-null  object \n",
            " 11  제작/소싱       217421 non-null  object \n",
            " 12  자격증보유여부     804713 non-null  object \n",
            " 13  학습지수        803654 non-null  float64\n",
            " 14  경력개월수       804713 non-null  float64\n",
            " 15  어학점수        804713 non-null  float64\n",
            " 16  수강횟수        804713 non-null  float64\n",
            "dtypes: float64(4), int64(1), object(12)\n",
            "memory usage: 110.5+ MB\n"
          ]
        }
      ],
      "source": [
        "df_Q.info()"
      ]
    },
    {
      "cell_type": "code",
      "execution_count": null,
      "metadata": {
        "colab": {
          "base_uri": "https://localhost:8080/"
        },
        "id": "AHKKS6J4fOsk",
        "outputId": "afc9f7a4-2f41-443b-e3b0-b0b8bd7ce0f1"
      },
      "outputs": [
        {
          "output_type": "execute_result",
          "data": {
            "text/plain": [
              "교육분야1차             0\n",
              "교육분야2차             0\n",
              "과정코드               0\n",
              "과정명(학습명)           0\n",
              "과정등록일(생성일)    237895\n",
              "학습시작일              0\n",
              "학습종료일              0\n",
              "사번(ID)             0\n",
              "소속부서               0\n",
              "호칭                 0\n",
              "직무                 0\n",
              "제작/소싱         587292\n",
              "자격증보유여부            0\n",
              "학습지수            1059\n",
              "경력개월수              0\n",
              "어학점수               0\n",
              "수강횟수               0\n",
              "dtype: int64"
            ]
          },
          "metadata": {},
          "execution_count": 158
        }
      ],
      "source": [
        "df_Q.isnull().sum()"
      ]
    },
    {
      "cell_type": "code",
      "execution_count": null,
      "metadata": {
        "colab": {
          "base_uri": "https://localhost:8080/"
        },
        "id": "JJWt25Y2iSxU",
        "outputId": "6ae46ff7-b15d-4fb9-e90f-7883f4eda75f"
      },
      "outputs": [
        {
          "output_type": "execute_result",
          "data": {
            "text/plain": [
              "10"
            ]
          },
          "metadata": {},
          "execution_count": 159
        }
      ],
      "source": [
        "df_Q.loc[ df_Q['교육분야1차'] =='IT', '과정명(학습명)'].value_counts().count()"
      ]
    },
    {
      "cell_type": "code",
      "execution_count": null,
      "metadata": {
        "colab": {
          "base_uri": "https://localhost:8080/"
        },
        "id": "AfguTrcAiS0w",
        "outputId": "aa00b1bb-6c1d-42ef-8ae9-2d9c2114e287"
      },
      "outputs": [
        {
          "output_type": "execute_result",
          "data": {
            "text/plain": [
              "10"
            ]
          },
          "metadata": {},
          "execution_count": 160
        }
      ],
      "source": [
        "df_Q.loc[ df_Q['교육분야1차'] =='IT', '과정코드'].value_counts().count()"
      ]
    },
    {
      "cell_type": "markdown",
      "metadata": {
        "id": "7iNqneaoLrWc"
      },
      "source": [
        "# 시간대별 학습 발췌을 위해 작업 수행\n",
        "- 학습시작일, 학습종료일 : datetime으로 타입 변환\n",
        "- 학습시작일, 학습종료일 : time 분리\n",
        "- 시간대별로 분리\n",
        "- 요일 분리\n",
        "- week, weekend 분리"
      ]
    },
    {
      "cell_type": "code",
      "execution_count": null,
      "metadata": {
        "id": "QOIhOP9CLorg"
      },
      "outputs": [],
      "source": [
        "df_Q['학습시작일'] = pd.to_datetime(df_Q['학습시작일'])\n",
        "df_Q['학습종료일'] = pd.to_datetime(df_Q['학습종료일'])"
      ]
    },
    {
      "cell_type": "code",
      "execution_count": null,
      "metadata": {
        "id": "ObRV9SEPLorg"
      },
      "outputs": [],
      "source": [
        "df_Q['학습시작일_TIME'] = df_Q['학습시작일'].dt.time\n",
        "df_Q['학습종료일_TIME'] = df_Q['학습종료일'].dt.time"
      ]
    },
    {
      "cell_type": "code",
      "execution_count": null,
      "metadata": {
        "colab": {
          "base_uri": "https://localhost:8080/"
        },
        "id": "rYO2BWiNLorh",
        "outputId": "358c5013-7221-47a4-c945-61ffb7f470d0"
      },
      "outputs": [
        {
          "output_type": "stream",
          "name": "stdout",
          "text": [
            "<class 'pandas.core.frame.DataFrame'>\n",
            "Int64Index: 804713 entries, 0 to 160621\n",
            "Data columns (total 19 columns):\n",
            " #   Column      Non-Null Count   Dtype         \n",
            "---  ------      --------------   -----         \n",
            " 0   교육분야1차      804713 non-null  object        \n",
            " 1   교육분야2차      804713 non-null  object        \n",
            " 2   과정코드        804713 non-null  int64         \n",
            " 3   과정명(학습명)    804713 non-null  object        \n",
            " 4   과정등록일(생성일)  566818 non-null  object        \n",
            " 5   학습시작일       804713 non-null  datetime64[ns]\n",
            " 6   학습종료일       804713 non-null  datetime64[ns]\n",
            " 7   사번(ID)      804713 non-null  object        \n",
            " 8   소속부서        804713 non-null  object        \n",
            " 9   호칭          804713 non-null  object        \n",
            " 10  직무          804713 non-null  object        \n",
            " 11  제작/소싱       217421 non-null  object        \n",
            " 12  자격증보유여부     804713 non-null  object        \n",
            " 13  학습지수        803654 non-null  float64       \n",
            " 14  경력개월수       804713 non-null  float64       \n",
            " 15  어학점수        804713 non-null  float64       \n",
            " 16  수강횟수        804713 non-null  float64       \n",
            " 17  학습시작일_TIME  804713 non-null  object        \n",
            " 18  학습종료일_TIME  804713 non-null  object        \n",
            "dtypes: datetime64[ns](2), float64(4), int64(1), object(12)\n",
            "memory usage: 122.8+ MB\n"
          ]
        }
      ],
      "source": [
        "df_Q.info()"
      ]
    },
    {
      "cell_type": "code",
      "execution_count": null,
      "metadata": {
        "colab": {
          "base_uri": "https://localhost:8080/"
        },
        "id": "fM5hDlvgLorh",
        "outputId": "19fafaea-7670-40e1-c27b-fb50922c7f4f"
      },
      "outputs": [
        {
          "output_type": "execute_result",
          "data": {
            "text/plain": [
              "교육분야1차             0\n",
              "교육분야2차             0\n",
              "과정코드               0\n",
              "과정명(학습명)           0\n",
              "과정등록일(생성일)    237895\n",
              "학습시작일              0\n",
              "학습종료일              0\n",
              "사번(ID)             0\n",
              "소속부서               0\n",
              "호칭                 0\n",
              "직무                 0\n",
              "제작/소싱         587292\n",
              "자격증보유여부            0\n",
              "학습지수            1059\n",
              "경력개월수              0\n",
              "어학점수               0\n",
              "수강횟수               0\n",
              "학습시작일_TIME         0\n",
              "학습종료일_TIME         0\n",
              "dtype: int64"
            ]
          },
          "metadata": {},
          "execution_count": 164
        }
      ],
      "source": [
        "df_Q.isnull().sum()"
      ]
    },
    {
      "cell_type": "code",
      "execution_count": null,
      "metadata": {
        "id": "1xYR4OcLLori"
      },
      "outputs": [],
      "source": [
        "def time_check(row):\n",
        "  if row['학습시작일_TIME'] >= datetime.time(6,0,0) and row['학습종료일_TIME'] <= datetime.time(8,59,59):\n",
        "    return '6_to_9'\n",
        "  elif row['학습시작일_TIME'] >= datetime.time(9,0,0) and row['학습종료일_TIME'] <= datetime.time(11,59,59):\n",
        "    return '9_to_12'\n",
        "  elif row['학습시작일_TIME'] >= datetime.time(12,0,0) and row['학습종료일_TIME'] <= datetime.time(12,59,59):\n",
        "    return '12_to_13'\n",
        "  elif row['학습시작일_TIME'] >= datetime.time(13,0,0) and row['학습종료일_TIME'] <= datetime.time(17,59,59):\n",
        "    return '13_to_18'\n",
        "  elif row['학습시작일_TIME'] >= datetime.time(18,0,0) and row['학습종료일_TIME'] <= datetime.time(23,59,59):\n",
        "    return '18_to_24'\n",
        "  else :\n",
        "    return '0_to_6'\n"
      ]
    },
    {
      "cell_type": "code",
      "execution_count": null,
      "metadata": {
        "id": "cgV2AjCLLori"
      },
      "outputs": [],
      "source": [
        "df_Q['학습시간대'] = df_Q.apply(time_check, axis=1)"
      ]
    },
    {
      "cell_type": "code",
      "execution_count": null,
      "metadata": {
        "colab": {
          "base_uri": "https://localhost:8080/"
        },
        "id": "pCXClfl_Lori",
        "outputId": "dd68e77e-1bfe-4be2-ba78-85321d1e9be4"
      },
      "outputs": [
        {
          "output_type": "execute_result",
          "data": {
            "text/plain": [
              "13_to_18    318589\n",
              "9_to_12     200055\n",
              "0_to_6      103516\n",
              "18_to_24     98654\n",
              "6_to_9       58807\n",
              "12_to_13     25092\n",
              "Name: 학습시간대, dtype: int64"
            ]
          },
          "metadata": {},
          "execution_count": 167
        }
      ],
      "source": [
        "df_Q['학습시간대'].value_counts()"
      ]
    },
    {
      "cell_type": "code",
      "execution_count": null,
      "metadata": {
        "id": "sPovTyucLori"
      },
      "outputs": [],
      "source": [
        "df_Q['학습요일'] = df_Q['학습시작일'].dt.weekday"
      ]
    },
    {
      "cell_type": "code",
      "execution_count": null,
      "metadata": {
        "id": "896PqQPELori"
      },
      "outputs": [],
      "source": [
        "conv = {0:'월', 1:'화', 2:'수', 3:'목', 4:'금', 5:'토', 6:'일'}\n",
        "df_Q['학습요일_CONV'] = df_Q['학습요일'].map(conv)"
      ]
    },
    {
      "cell_type": "code",
      "execution_count": null,
      "metadata": {
        "colab": {
          "base_uri": "https://localhost:8080/"
        },
        "id": "dSPjVKquLorj",
        "outputId": "314d353f-863e-4e47-ba9c-b2e913de2a6b"
      },
      "outputs": [
        {
          "output_type": "execute_result",
          "data": {
            "text/plain": [
              "금    155136\n",
              "화    154238\n",
              "목    150938\n",
              "월    141942\n",
              "수    141058\n",
              "토     30772\n",
              "일     30629\n",
              "Name: 학습요일_CONV, dtype: int64"
            ]
          },
          "metadata": {},
          "execution_count": 170
        }
      ],
      "source": [
        "df_Q['학습요일_CONV'].value_counts()"
      ]
    },
    {
      "cell_type": "code",
      "execution_count": null,
      "metadata": {
        "id": "wSnNmGlcLorj"
      },
      "outputs": [],
      "source": [
        "df_Q['학습요일_WEEK'] = df_Q['학습요일'].apply(lambda x : 'week' if x in [0,1,2,3,4] else 'weekend')"
      ]
    },
    {
      "cell_type": "code",
      "execution_count": null,
      "metadata": {
        "colab": {
          "base_uri": "https://localhost:8080/"
        },
        "id": "T-TXfSi3Lorj",
        "outputId": "6759f7da-defe-491b-8b44-3dcc33940c22"
      },
      "outputs": [
        {
          "output_type": "execute_result",
          "data": {
            "text/plain": [
              "week       743312\n",
              "weekend     61401\n",
              "Name: 학습요일_WEEK, dtype: int64"
            ]
          },
          "metadata": {},
          "execution_count": 172
        }
      ],
      "source": [
        "df_Q['학습요일_WEEK'].value_counts()"
      ]
    },
    {
      "cell_type": "code",
      "execution_count": null,
      "metadata": {
        "colab": {
          "base_uri": "https://localhost:8080/"
        },
        "id": "gtxpMVZJLorj",
        "outputId": "39f5422d-6bb6-41b5-fa74-a3e78ee10251"
      },
      "outputs": [
        {
          "output_type": "stream",
          "name": "stdout",
          "text": [
            "<class 'pandas.core.frame.DataFrame'>\n",
            "Int64Index: 804713 entries, 0 to 160621\n",
            "Data columns (total 23 columns):\n",
            " #   Column      Non-Null Count   Dtype         \n",
            "---  ------      --------------   -----         \n",
            " 0   교육분야1차      804713 non-null  object        \n",
            " 1   교육분야2차      804713 non-null  object        \n",
            " 2   과정코드        804713 non-null  int64         \n",
            " 3   과정명(학습명)    804713 non-null  object        \n",
            " 4   과정등록일(생성일)  566818 non-null  object        \n",
            " 5   학습시작일       804713 non-null  datetime64[ns]\n",
            " 6   학습종료일       804713 non-null  datetime64[ns]\n",
            " 7   사번(ID)      804713 non-null  object        \n",
            " 8   소속부서        804713 non-null  object        \n",
            " 9   호칭          804713 non-null  object        \n",
            " 10  직무          804713 non-null  object        \n",
            " 11  제작/소싱       217421 non-null  object        \n",
            " 12  자격증보유여부     804713 non-null  object        \n",
            " 13  학습지수        803654 non-null  float64       \n",
            " 14  경력개월수       804713 non-null  float64       \n",
            " 15  어학점수        804713 non-null  float64       \n",
            " 16  수강횟수        804713 non-null  float64       \n",
            " 17  학습시작일_TIME  804713 non-null  object        \n",
            " 18  학습종료일_TIME  804713 non-null  object        \n",
            " 19  학습시간대       804713 non-null  object        \n",
            " 20  학습요일        804713 non-null  int64         \n",
            " 21  학습요일_CONV   804713 non-null  object        \n",
            " 22  학습요일_WEEK   804713 non-null  object        \n",
            "dtypes: datetime64[ns](2), float64(4), int64(2), object(15)\n",
            "memory usage: 147.3+ MB\n"
          ]
        }
      ],
      "source": [
        "df_Q.info()"
      ]
    },
    {
      "cell_type": "markdown",
      "metadata": {
        "id": "m6ds22-lMw9k"
      },
      "source": [
        "# [직급기준] \n",
        "- 가장 많이 학습한 콘텐츠 교육분야 및 Top30콘텐츠 \n",
        "- 어떤 조직이 가장 학습을 많이 하는지 학습량 분석\n",
        "- 시간대별 학습량 분석 (6-9시/9시-12시/12시-13시/13시-18시/18시-24시)\n",
        "- 요일별 학습량 분석(1) 월/화/수/목/금/토/일\n",
        "- 요일별 학습량 분석(2) 근무일(월~금)/휴일(토일)"
      ]
    },
    {
      "cell_type": "code",
      "execution_count": null,
      "metadata": {
        "id": "JK10KRDVLork"
      },
      "outputs": [],
      "source": [
        "직급기준_가장많이교육분야 = df_Q.groupby(['호칭', '교육분야2차'])['과정코드'].count().reset_index().sort_values(by=['호칭','과정코드'], ascending=False)"
      ]
    },
    {
      "cell_type": "code",
      "execution_count": null,
      "metadata": {
        "id": "fWgKhA5KcCYt"
      },
      "outputs": [],
      "source": [
        "직급기준_가장많이학습콘텐츠 = df_Q.groupby(['호칭', '과정명(학습명)'])['과정코드'].count().reset_index().sort_values(by=['호칭','과정코드'], ascending=False)"
      ]
    },
    {
      "cell_type": "code",
      "execution_count": null,
      "metadata": {
        "id": "RcUwyM7VLork"
      },
      "outputs": [],
      "source": [
        "직급기준_가장학습많은조직 = df_Q.groupby(['호칭', '소속부서'])['과정코드'].count().reset_index().sort_values(by=['호칭','과정코드'], ascending=False)"
      ]
    },
    {
      "cell_type": "code",
      "execution_count": null,
      "metadata": {
        "id": "xrpLSGtgLork"
      },
      "outputs": [],
      "source": [
        "직급기준_시간대별학습량 = df_Q.groupby(['호칭', '학습시간대'])['과정코드'].count().reset_index().sort_values(by=['호칭','과정코드'], ascending=False)"
      ]
    },
    {
      "cell_type": "code",
      "execution_count": null,
      "metadata": {
        "id": "QOw3nhTPLork"
      },
      "outputs": [],
      "source": [
        "직급기준_요일별학습량 = df_Q.groupby(['호칭', '학습요일_CONV'])['과정코드'].count().reset_index().sort_values(by=['호칭','과정코드'], ascending=False)"
      ]
    },
    {
      "cell_type": "code",
      "execution_count": null,
      "metadata": {
        "id": "iTjyLFmnLork"
      },
      "outputs": [],
      "source": [
        "직급기준_요일별학습량2 = df_Q.groupby(['호칭', '학습요일_WEEK'])['과정코드'].count().reset_index().sort_values(by=['호칭','과정코드'], ascending=False)"
      ]
    },
    {
      "cell_type": "code",
      "execution_count": null,
      "metadata": {
        "colab": {
          "base_uri": "https://localhost:8080/",
          "height": 206
        },
        "id": "76T9B_cCLorl",
        "outputId": "765ecf7f-5499-41c9-ae47-c12d75a323f9"
      },
      "outputs": [
        {
          "output_type": "execute_result",
          "data": {
            "text/html": [
              "\n",
              "  <div id=\"df-4f42ed47-1863-4fa4-9d7a-6626a681eb73\">\n",
              "    <div class=\"colab-df-container\">\n",
              "      <div>\n",
              "<style scoped>\n",
              "    .dataframe tbody tr th:only-of-type {\n",
              "        vertical-align: middle;\n",
              "    }\n",
              "\n",
              "    .dataframe tbody tr th {\n",
              "        vertical-align: top;\n",
              "    }\n",
              "\n",
              "    .dataframe thead th {\n",
              "        text-align: right;\n",
              "    }\n",
              "</style>\n",
              "<table border=\"1\" class=\"dataframe\">\n",
              "  <thead>\n",
              "    <tr style=\"text-align: right;\">\n",
              "      <th></th>\n",
              "      <th>호칭</th>\n",
              "      <th>교육분야2차</th>\n",
              "      <th>과정코드</th>\n",
              "    </tr>\n",
              "  </thead>\n",
              "  <tbody>\n",
              "    <tr>\n",
              "      <th>380</th>\n",
              "      <td>차장</td>\n",
              "      <td>ai</td>\n",
              "      <td>33880</td>\n",
              "    </tr>\n",
              "    <tr>\n",
              "      <th>386</th>\n",
              "      <td>차장</td>\n",
              "      <td>ict트렌드</td>\n",
              "      <td>7225</td>\n",
              "    </tr>\n",
              "    <tr>\n",
              "      <th>385</th>\n",
              "      <td>차장</td>\n",
              "      <td>hr(인사/노무/교육/기업문화)</td>\n",
              "      <td>5777</td>\n",
              "    </tr>\n",
              "    <tr>\n",
              "      <th>417</th>\n",
              "      <td>차장</td>\n",
              "      <td>인문학/자기계발</td>\n",
              "      <td>4814</td>\n",
              "    </tr>\n",
              "    <tr>\n",
              "      <th>381</th>\n",
              "      <td>차장</td>\n",
              "      <td>b2b</td>\n",
              "      <td>4594</td>\n",
              "    </tr>\n",
              "  </tbody>\n",
              "</table>\n",
              "</div>\n",
              "      <button class=\"colab-df-convert\" onclick=\"convertToInteractive('df-4f42ed47-1863-4fa4-9d7a-6626a681eb73')\"\n",
              "              title=\"Convert this dataframe to an interactive table.\"\n",
              "              style=\"display:none;\">\n",
              "        \n",
              "  <svg xmlns=\"http://www.w3.org/2000/svg\" height=\"24px\"viewBox=\"0 0 24 24\"\n",
              "       width=\"24px\">\n",
              "    <path d=\"M0 0h24v24H0V0z\" fill=\"none\"/>\n",
              "    <path d=\"M18.56 5.44l.94 2.06.94-2.06 2.06-.94-2.06-.94-.94-2.06-.94 2.06-2.06.94zm-11 1L8.5 8.5l.94-2.06 2.06-.94-2.06-.94L8.5 2.5l-.94 2.06-2.06.94zm10 10l.94 2.06.94-2.06 2.06-.94-2.06-.94-.94-2.06-.94 2.06-2.06.94z\"/><path d=\"M17.41 7.96l-1.37-1.37c-.4-.4-.92-.59-1.43-.59-.52 0-1.04.2-1.43.59L10.3 9.45l-7.72 7.72c-.78.78-.78 2.05 0 2.83L4 21.41c.39.39.9.59 1.41.59.51 0 1.02-.2 1.41-.59l7.78-7.78 2.81-2.81c.8-.78.8-2.07 0-2.86zM5.41 20L4 18.59l7.72-7.72 1.47 1.35L5.41 20z\"/>\n",
              "  </svg>\n",
              "      </button>\n",
              "      \n",
              "  <style>\n",
              "    .colab-df-container {\n",
              "      display:flex;\n",
              "      flex-wrap:wrap;\n",
              "      gap: 12px;\n",
              "    }\n",
              "\n",
              "    .colab-df-convert {\n",
              "      background-color: #E8F0FE;\n",
              "      border: none;\n",
              "      border-radius: 50%;\n",
              "      cursor: pointer;\n",
              "      display: none;\n",
              "      fill: #1967D2;\n",
              "      height: 32px;\n",
              "      padding: 0 0 0 0;\n",
              "      width: 32px;\n",
              "    }\n",
              "\n",
              "    .colab-df-convert:hover {\n",
              "      background-color: #E2EBFA;\n",
              "      box-shadow: 0px 1px 2px rgba(60, 64, 67, 0.3), 0px 1px 3px 1px rgba(60, 64, 67, 0.15);\n",
              "      fill: #174EA6;\n",
              "    }\n",
              "\n",
              "    [theme=dark] .colab-df-convert {\n",
              "      background-color: #3B4455;\n",
              "      fill: #D2E3FC;\n",
              "    }\n",
              "\n",
              "    [theme=dark] .colab-df-convert:hover {\n",
              "      background-color: #434B5C;\n",
              "      box-shadow: 0px 1px 3px 1px rgba(0, 0, 0, 0.15);\n",
              "      filter: drop-shadow(0px 1px 2px rgba(0, 0, 0, 0.3));\n",
              "      fill: #FFFFFF;\n",
              "    }\n",
              "  </style>\n",
              "\n",
              "      <script>\n",
              "        const buttonEl =\n",
              "          document.querySelector('#df-4f42ed47-1863-4fa4-9d7a-6626a681eb73 button.colab-df-convert');\n",
              "        buttonEl.style.display =\n",
              "          google.colab.kernel.accessAllowed ? 'block' : 'none';\n",
              "\n",
              "        async function convertToInteractive(key) {\n",
              "          const element = document.querySelector('#df-4f42ed47-1863-4fa4-9d7a-6626a681eb73');\n",
              "          const dataTable =\n",
              "            await google.colab.kernel.invokeFunction('convertToInteractive',\n",
              "                                                     [key], {});\n",
              "          if (!dataTable) return;\n",
              "\n",
              "          const docLinkHtml = 'Like what you see? Visit the ' +\n",
              "            '<a target=\"_blank\" href=https://colab.research.google.com/notebooks/data_table.ipynb>data table notebook</a>'\n",
              "            + ' to learn more about interactive tables.';\n",
              "          element.innerHTML = '';\n",
              "          dataTable['output_type'] = 'display_data';\n",
              "          await google.colab.output.renderOutput(dataTable, element);\n",
              "          const docLink = document.createElement('div');\n",
              "          docLink.innerHTML = docLinkHtml;\n",
              "          element.appendChild(docLink);\n",
              "        }\n",
              "      </script>\n",
              "    </div>\n",
              "  </div>\n",
              "  "
            ],
            "text/plain": [
              "     호칭              교육분야2차   과정코드\n",
              "380  차장                  ai  33880\n",
              "386  차장              ict트렌드   7225\n",
              "385  차장   hr(인사/노무/교육/기업문화)   5777\n",
              "417  차장            인문학/자기계발   4814\n",
              "381  차장                 b2b   4594"
            ]
          },
          "metadata": {},
          "execution_count": 180
        }
      ],
      "source": [
        "직급기준_가장많이교육분야.head()"
      ]
    },
    {
      "cell_type": "code",
      "execution_count": null,
      "metadata": {
        "colab": {
          "base_uri": "https://localhost:8080/",
          "height": 206
        },
        "id": "wjD0smqOcXYl",
        "outputId": "904128e2-892f-4252-c009-8812f2d7c917"
      },
      "outputs": [
        {
          "output_type": "execute_result",
          "data": {
            "text/html": [
              "\n",
              "  <div id=\"df-ef8cf71f-e091-425f-b816-263b6823d44b\">\n",
              "    <div class=\"colab-df-container\">\n",
              "      <div>\n",
              "<style scoped>\n",
              "    .dataframe tbody tr th:only-of-type {\n",
              "        vertical-align: middle;\n",
              "    }\n",
              "\n",
              "    .dataframe tbody tr th {\n",
              "        vertical-align: top;\n",
              "    }\n",
              "\n",
              "    .dataframe thead th {\n",
              "        text-align: right;\n",
              "    }\n",
              "</style>\n",
              "<table border=\"1\" class=\"dataframe\">\n",
              "  <thead>\n",
              "    <tr style=\"text-align: right;\">\n",
              "      <th></th>\n",
              "      <th>호칭</th>\n",
              "      <th>과정명(학습명)</th>\n",
              "      <th>과정코드</th>\n",
              "    </tr>\n",
              "  </thead>\n",
              "  <tbody>\n",
              "    <tr>\n",
              "      <th>23150</th>\n",
              "      <td>차장</td>\n",
              "      <td>[cloud basic] cloud 이해 1-1 cloud 중요성</td>\n",
              "      <td>2170</td>\n",
              "    </tr>\n",
              "    <tr>\n",
              "      <th>24013</th>\n",
              "      <td>차장</td>\n",
              "      <td>고객발자기혁신 미니강좌 3편(실전편)</td>\n",
              "      <td>1832</td>\n",
              "    </tr>\n",
              "    <tr>\n",
              "      <th>23601</th>\n",
              "      <td>차장</td>\n",
              "      <td>[직원용] 성과관리를 위한 목표수립</td>\n",
              "      <td>1469</td>\n",
              "    </tr>\n",
              "    <tr>\n",
              "      <th>22345</th>\n",
              "      <td>차장</td>\n",
              "      <td>AI 고객센터-로 알아보는 KT의 AI기술</td>\n",
              "      <td>847</td>\n",
              "    </tr>\n",
              "    <tr>\n",
              "      <th>22346</th>\n",
              "      <td>차장</td>\n",
              "      <td>AI 기본개념</td>\n",
              "      <td>811</td>\n",
              "    </tr>\n",
              "  </tbody>\n",
              "</table>\n",
              "</div>\n",
              "      <button class=\"colab-df-convert\" onclick=\"convertToInteractive('df-ef8cf71f-e091-425f-b816-263b6823d44b')\"\n",
              "              title=\"Convert this dataframe to an interactive table.\"\n",
              "              style=\"display:none;\">\n",
              "        \n",
              "  <svg xmlns=\"http://www.w3.org/2000/svg\" height=\"24px\"viewBox=\"0 0 24 24\"\n",
              "       width=\"24px\">\n",
              "    <path d=\"M0 0h24v24H0V0z\" fill=\"none\"/>\n",
              "    <path d=\"M18.56 5.44l.94 2.06.94-2.06 2.06-.94-2.06-.94-.94-2.06-.94 2.06-2.06.94zm-11 1L8.5 8.5l.94-2.06 2.06-.94-2.06-.94L8.5 2.5l-.94 2.06-2.06.94zm10 10l.94 2.06.94-2.06 2.06-.94-2.06-.94-.94-2.06-.94 2.06-2.06.94z\"/><path d=\"M17.41 7.96l-1.37-1.37c-.4-.4-.92-.59-1.43-.59-.52 0-1.04.2-1.43.59L10.3 9.45l-7.72 7.72c-.78.78-.78 2.05 0 2.83L4 21.41c.39.39.9.59 1.41.59.51 0 1.02-.2 1.41-.59l7.78-7.78 2.81-2.81c.8-.78.8-2.07 0-2.86zM5.41 20L4 18.59l7.72-7.72 1.47 1.35L5.41 20z\"/>\n",
              "  </svg>\n",
              "      </button>\n",
              "      \n",
              "  <style>\n",
              "    .colab-df-container {\n",
              "      display:flex;\n",
              "      flex-wrap:wrap;\n",
              "      gap: 12px;\n",
              "    }\n",
              "\n",
              "    .colab-df-convert {\n",
              "      background-color: #E8F0FE;\n",
              "      border: none;\n",
              "      border-radius: 50%;\n",
              "      cursor: pointer;\n",
              "      display: none;\n",
              "      fill: #1967D2;\n",
              "      height: 32px;\n",
              "      padding: 0 0 0 0;\n",
              "      width: 32px;\n",
              "    }\n",
              "\n",
              "    .colab-df-convert:hover {\n",
              "      background-color: #E2EBFA;\n",
              "      box-shadow: 0px 1px 2px rgba(60, 64, 67, 0.3), 0px 1px 3px 1px rgba(60, 64, 67, 0.15);\n",
              "      fill: #174EA6;\n",
              "    }\n",
              "\n",
              "    [theme=dark] .colab-df-convert {\n",
              "      background-color: #3B4455;\n",
              "      fill: #D2E3FC;\n",
              "    }\n",
              "\n",
              "    [theme=dark] .colab-df-convert:hover {\n",
              "      background-color: #434B5C;\n",
              "      box-shadow: 0px 1px 3px 1px rgba(0, 0, 0, 0.15);\n",
              "      filter: drop-shadow(0px 1px 2px rgba(0, 0, 0, 0.3));\n",
              "      fill: #FFFFFF;\n",
              "    }\n",
              "  </style>\n",
              "\n",
              "      <script>\n",
              "        const buttonEl =\n",
              "          document.querySelector('#df-ef8cf71f-e091-425f-b816-263b6823d44b button.colab-df-convert');\n",
              "        buttonEl.style.display =\n",
              "          google.colab.kernel.accessAllowed ? 'block' : 'none';\n",
              "\n",
              "        async function convertToInteractive(key) {\n",
              "          const element = document.querySelector('#df-ef8cf71f-e091-425f-b816-263b6823d44b');\n",
              "          const dataTable =\n",
              "            await google.colab.kernel.invokeFunction('convertToInteractive',\n",
              "                                                     [key], {});\n",
              "          if (!dataTable) return;\n",
              "\n",
              "          const docLinkHtml = 'Like what you see? Visit the ' +\n",
              "            '<a target=\"_blank\" href=https://colab.research.google.com/notebooks/data_table.ipynb>data table notebook</a>'\n",
              "            + ' to learn more about interactive tables.';\n",
              "          element.innerHTML = '';\n",
              "          dataTable['output_type'] = 'display_data';\n",
              "          await google.colab.output.renderOutput(dataTable, element);\n",
              "          const docLink = document.createElement('div');\n",
              "          docLink.innerHTML = docLinkHtml;\n",
              "          element.appendChild(docLink);\n",
              "        }\n",
              "      </script>\n",
              "    </div>\n",
              "  </div>\n",
              "  "
            ],
            "text/plain": [
              "       호칭                              과정명(학습명)  과정코드\n",
              "23150  차장  [cloud basic] cloud 이해 1-1 cloud 중요성  2170\n",
              "24013  차장                  고객발자기혁신 미니강좌 3편(실전편)  1832\n",
              "23601  차장                   [직원용] 성과관리를 위한 목표수립  1469\n",
              "22345  차장               AI 고객센터-로 알아보는 KT의 AI기술   847\n",
              "22346  차장                               AI 기본개념   811"
            ]
          },
          "metadata": {},
          "execution_count": 181
        }
      ],
      "source": [
        "직급기준_가장많이학습콘텐츠.head()"
      ]
    },
    {
      "cell_type": "code",
      "execution_count": null,
      "metadata": {
        "colab": {
          "base_uri": "https://localhost:8080/",
          "height": 206
        },
        "id": "DLzh8s1oLTDx",
        "outputId": "1b528a3f-e646-4702-983d-69dc7bed4d47"
      },
      "outputs": [
        {
          "output_type": "execute_result",
          "data": {
            "text/html": [
              "\n",
              "  <div id=\"df-064cfbdf-032c-4dae-abf5-fe145129ecb1\">\n",
              "    <div class=\"colab-df-container\">\n",
              "      <div>\n",
              "<style scoped>\n",
              "    .dataframe tbody tr th:only-of-type {\n",
              "        vertical-align: middle;\n",
              "    }\n",
              "\n",
              "    .dataframe tbody tr th {\n",
              "        vertical-align: top;\n",
              "    }\n",
              "\n",
              "    .dataframe thead th {\n",
              "        text-align: right;\n",
              "    }\n",
              "</style>\n",
              "<table border=\"1\" class=\"dataframe\">\n",
              "  <thead>\n",
              "    <tr style=\"text-align: right;\">\n",
              "      <th></th>\n",
              "      <th>호칭</th>\n",
              "      <th>소속부서</th>\n",
              "      <th>과정코드</th>\n",
              "    </tr>\n",
              "  </thead>\n",
              "  <tbody>\n",
              "    <tr>\n",
              "      <th>53</th>\n",
              "      <td>차장</td>\n",
              "      <td>기타</td>\n",
              "      <td>43290</td>\n",
              "    </tr>\n",
              "    <tr>\n",
              "      <th>50</th>\n",
              "      <td>차장</td>\n",
              "      <td>강남</td>\n",
              "      <td>22058</td>\n",
              "    </tr>\n",
              "    <tr>\n",
              "      <th>51</th>\n",
              "      <td>차장</td>\n",
              "      <td>강북</td>\n",
              "      <td>18485</td>\n",
              "    </tr>\n",
              "    <tr>\n",
              "      <th>56</th>\n",
              "      <td>차장</td>\n",
              "      <td>전남</td>\n",
              "      <td>9979</td>\n",
              "    </tr>\n",
              "    <tr>\n",
              "      <th>55</th>\n",
              "      <td>차장</td>\n",
              "      <td>부산</td>\n",
              "      <td>9484</td>\n",
              "    </tr>\n",
              "  </tbody>\n",
              "</table>\n",
              "</div>\n",
              "      <button class=\"colab-df-convert\" onclick=\"convertToInteractive('df-064cfbdf-032c-4dae-abf5-fe145129ecb1')\"\n",
              "              title=\"Convert this dataframe to an interactive table.\"\n",
              "              style=\"display:none;\">\n",
              "        \n",
              "  <svg xmlns=\"http://www.w3.org/2000/svg\" height=\"24px\"viewBox=\"0 0 24 24\"\n",
              "       width=\"24px\">\n",
              "    <path d=\"M0 0h24v24H0V0z\" fill=\"none\"/>\n",
              "    <path d=\"M18.56 5.44l.94 2.06.94-2.06 2.06-.94-2.06-.94-.94-2.06-.94 2.06-2.06.94zm-11 1L8.5 8.5l.94-2.06 2.06-.94-2.06-.94L8.5 2.5l-.94 2.06-2.06.94zm10 10l.94 2.06.94-2.06 2.06-.94-2.06-.94-.94-2.06-.94 2.06-2.06.94z\"/><path d=\"M17.41 7.96l-1.37-1.37c-.4-.4-.92-.59-1.43-.59-.52 0-1.04.2-1.43.59L10.3 9.45l-7.72 7.72c-.78.78-.78 2.05 0 2.83L4 21.41c.39.39.9.59 1.41.59.51 0 1.02-.2 1.41-.59l7.78-7.78 2.81-2.81c.8-.78.8-2.07 0-2.86zM5.41 20L4 18.59l7.72-7.72 1.47 1.35L5.41 20z\"/>\n",
              "  </svg>\n",
              "      </button>\n",
              "      \n",
              "  <style>\n",
              "    .colab-df-container {\n",
              "      display:flex;\n",
              "      flex-wrap:wrap;\n",
              "      gap: 12px;\n",
              "    }\n",
              "\n",
              "    .colab-df-convert {\n",
              "      background-color: #E8F0FE;\n",
              "      border: none;\n",
              "      border-radius: 50%;\n",
              "      cursor: pointer;\n",
              "      display: none;\n",
              "      fill: #1967D2;\n",
              "      height: 32px;\n",
              "      padding: 0 0 0 0;\n",
              "      width: 32px;\n",
              "    }\n",
              "\n",
              "    .colab-df-convert:hover {\n",
              "      background-color: #E2EBFA;\n",
              "      box-shadow: 0px 1px 2px rgba(60, 64, 67, 0.3), 0px 1px 3px 1px rgba(60, 64, 67, 0.15);\n",
              "      fill: #174EA6;\n",
              "    }\n",
              "\n",
              "    [theme=dark] .colab-df-convert {\n",
              "      background-color: #3B4455;\n",
              "      fill: #D2E3FC;\n",
              "    }\n",
              "\n",
              "    [theme=dark] .colab-df-convert:hover {\n",
              "      background-color: #434B5C;\n",
              "      box-shadow: 0px 1px 3px 1px rgba(0, 0, 0, 0.15);\n",
              "      filter: drop-shadow(0px 1px 2px rgba(0, 0, 0, 0.3));\n",
              "      fill: #FFFFFF;\n",
              "    }\n",
              "  </style>\n",
              "\n",
              "      <script>\n",
              "        const buttonEl =\n",
              "          document.querySelector('#df-064cfbdf-032c-4dae-abf5-fe145129ecb1 button.colab-df-convert');\n",
              "        buttonEl.style.display =\n",
              "          google.colab.kernel.accessAllowed ? 'block' : 'none';\n",
              "\n",
              "        async function convertToInteractive(key) {\n",
              "          const element = document.querySelector('#df-064cfbdf-032c-4dae-abf5-fe145129ecb1');\n",
              "          const dataTable =\n",
              "            await google.colab.kernel.invokeFunction('convertToInteractive',\n",
              "                                                     [key], {});\n",
              "          if (!dataTable) return;\n",
              "\n",
              "          const docLinkHtml = 'Like what you see? Visit the ' +\n",
              "            '<a target=\"_blank\" href=https://colab.research.google.com/notebooks/data_table.ipynb>data table notebook</a>'\n",
              "            + ' to learn more about interactive tables.';\n",
              "          element.innerHTML = '';\n",
              "          dataTable['output_type'] = 'display_data';\n",
              "          await google.colab.output.renderOutput(dataTable, element);\n",
              "          const docLink = document.createElement('div');\n",
              "          docLink.innerHTML = docLinkHtml;\n",
              "          element.appendChild(docLink);\n",
              "        }\n",
              "      </script>\n",
              "    </div>\n",
              "  </div>\n",
              "  "
            ],
            "text/plain": [
              "    호칭 소속부서   과정코드\n",
              "53  차장   기타  43290\n",
              "50  차장   강남  22058\n",
              "51  차장   강북  18485\n",
              "56  차장   전남   9979\n",
              "55  차장   부산   9484"
            ]
          },
          "metadata": {},
          "execution_count": 182
        }
      ],
      "source": [
        "직급기준_가장학습많은조직.head()"
      ]
    },
    {
      "cell_type": "code",
      "execution_count": null,
      "metadata": {
        "colab": {
          "base_uri": "https://localhost:8080/",
          "height": 206
        },
        "id": "0E1L1j41LTGl",
        "outputId": "f050d559-3f8f-4774-f4b8-1b1f5decd9b3"
      },
      "outputs": [
        {
          "output_type": "execute_result",
          "data": {
            "text/html": [
              "\n",
              "  <div id=\"df-8c384167-5319-44d9-a738-967da2234a69\">\n",
              "    <div class=\"colab-df-container\">\n",
              "      <div>\n",
              "<style scoped>\n",
              "    .dataframe tbody tr th:only-of-type {\n",
              "        vertical-align: middle;\n",
              "    }\n",
              "\n",
              "    .dataframe tbody tr th {\n",
              "        vertical-align: top;\n",
              "    }\n",
              "\n",
              "    .dataframe thead th {\n",
              "        text-align: right;\n",
              "    }\n",
              "</style>\n",
              "<table border=\"1\" class=\"dataframe\">\n",
              "  <thead>\n",
              "    <tr style=\"text-align: right;\">\n",
              "      <th></th>\n",
              "      <th>호칭</th>\n",
              "      <th>학습시간대</th>\n",
              "      <th>과정코드</th>\n",
              "    </tr>\n",
              "  </thead>\n",
              "  <tbody>\n",
              "    <tr>\n",
              "      <th>32</th>\n",
              "      <td>차장</td>\n",
              "      <td>13_to_18</td>\n",
              "      <td>47528</td>\n",
              "    </tr>\n",
              "    <tr>\n",
              "      <th>35</th>\n",
              "      <td>차장</td>\n",
              "      <td>9_to_12</td>\n",
              "      <td>30210</td>\n",
              "    </tr>\n",
              "    <tr>\n",
              "      <th>30</th>\n",
              "      <td>차장</td>\n",
              "      <td>0_to_6</td>\n",
              "      <td>15651</td>\n",
              "    </tr>\n",
              "    <tr>\n",
              "      <th>33</th>\n",
              "      <td>차장</td>\n",
              "      <td>18_to_24</td>\n",
              "      <td>14938</td>\n",
              "    </tr>\n",
              "    <tr>\n",
              "      <th>34</th>\n",
              "      <td>차장</td>\n",
              "      <td>6_to_9</td>\n",
              "      <td>8805</td>\n",
              "    </tr>\n",
              "  </tbody>\n",
              "</table>\n",
              "</div>\n",
              "      <button class=\"colab-df-convert\" onclick=\"convertToInteractive('df-8c384167-5319-44d9-a738-967da2234a69')\"\n",
              "              title=\"Convert this dataframe to an interactive table.\"\n",
              "              style=\"display:none;\">\n",
              "        \n",
              "  <svg xmlns=\"http://www.w3.org/2000/svg\" height=\"24px\"viewBox=\"0 0 24 24\"\n",
              "       width=\"24px\">\n",
              "    <path d=\"M0 0h24v24H0V0z\" fill=\"none\"/>\n",
              "    <path d=\"M18.56 5.44l.94 2.06.94-2.06 2.06-.94-2.06-.94-.94-2.06-.94 2.06-2.06.94zm-11 1L8.5 8.5l.94-2.06 2.06-.94-2.06-.94L8.5 2.5l-.94 2.06-2.06.94zm10 10l.94 2.06.94-2.06 2.06-.94-2.06-.94-.94-2.06-.94 2.06-2.06.94z\"/><path d=\"M17.41 7.96l-1.37-1.37c-.4-.4-.92-.59-1.43-.59-.52 0-1.04.2-1.43.59L10.3 9.45l-7.72 7.72c-.78.78-.78 2.05 0 2.83L4 21.41c.39.39.9.59 1.41.59.51 0 1.02-.2 1.41-.59l7.78-7.78 2.81-2.81c.8-.78.8-2.07 0-2.86zM5.41 20L4 18.59l7.72-7.72 1.47 1.35L5.41 20z\"/>\n",
              "  </svg>\n",
              "      </button>\n",
              "      \n",
              "  <style>\n",
              "    .colab-df-container {\n",
              "      display:flex;\n",
              "      flex-wrap:wrap;\n",
              "      gap: 12px;\n",
              "    }\n",
              "\n",
              "    .colab-df-convert {\n",
              "      background-color: #E8F0FE;\n",
              "      border: none;\n",
              "      border-radius: 50%;\n",
              "      cursor: pointer;\n",
              "      display: none;\n",
              "      fill: #1967D2;\n",
              "      height: 32px;\n",
              "      padding: 0 0 0 0;\n",
              "      width: 32px;\n",
              "    }\n",
              "\n",
              "    .colab-df-convert:hover {\n",
              "      background-color: #E2EBFA;\n",
              "      box-shadow: 0px 1px 2px rgba(60, 64, 67, 0.3), 0px 1px 3px 1px rgba(60, 64, 67, 0.15);\n",
              "      fill: #174EA6;\n",
              "    }\n",
              "\n",
              "    [theme=dark] .colab-df-convert {\n",
              "      background-color: #3B4455;\n",
              "      fill: #D2E3FC;\n",
              "    }\n",
              "\n",
              "    [theme=dark] .colab-df-convert:hover {\n",
              "      background-color: #434B5C;\n",
              "      box-shadow: 0px 1px 3px 1px rgba(0, 0, 0, 0.15);\n",
              "      filter: drop-shadow(0px 1px 2px rgba(0, 0, 0, 0.3));\n",
              "      fill: #FFFFFF;\n",
              "    }\n",
              "  </style>\n",
              "\n",
              "      <script>\n",
              "        const buttonEl =\n",
              "          document.querySelector('#df-8c384167-5319-44d9-a738-967da2234a69 button.colab-df-convert');\n",
              "        buttonEl.style.display =\n",
              "          google.colab.kernel.accessAllowed ? 'block' : 'none';\n",
              "\n",
              "        async function convertToInteractive(key) {\n",
              "          const element = document.querySelector('#df-8c384167-5319-44d9-a738-967da2234a69');\n",
              "          const dataTable =\n",
              "            await google.colab.kernel.invokeFunction('convertToInteractive',\n",
              "                                                     [key], {});\n",
              "          if (!dataTable) return;\n",
              "\n",
              "          const docLinkHtml = 'Like what you see? Visit the ' +\n",
              "            '<a target=\"_blank\" href=https://colab.research.google.com/notebooks/data_table.ipynb>data table notebook</a>'\n",
              "            + ' to learn more about interactive tables.';\n",
              "          element.innerHTML = '';\n",
              "          dataTable['output_type'] = 'display_data';\n",
              "          await google.colab.output.renderOutput(dataTable, element);\n",
              "          const docLink = document.createElement('div');\n",
              "          docLink.innerHTML = docLinkHtml;\n",
              "          element.appendChild(docLink);\n",
              "        }\n",
              "      </script>\n",
              "    </div>\n",
              "  </div>\n",
              "  "
            ],
            "text/plain": [
              "    호칭     학습시간대   과정코드\n",
              "32  차장  13_to_18  47528\n",
              "35  차장   9_to_12  30210\n",
              "30  차장    0_to_6  15651\n",
              "33  차장  18_to_24  14938\n",
              "34  차장    6_to_9   8805"
            ]
          },
          "metadata": {},
          "execution_count": 183
        }
      ],
      "source": [
        "직급기준_시간대별학습량.head()"
      ]
    },
    {
      "cell_type": "code",
      "execution_count": null,
      "metadata": {
        "colab": {
          "base_uri": "https://localhost:8080/",
          "height": 206
        },
        "id": "WLL39RXCLTJQ",
        "outputId": "cd142fe8-bfd1-446d-886d-a6eca499c79a"
      },
      "outputs": [
        {
          "output_type": "execute_result",
          "data": {
            "text/html": [
              "\n",
              "  <div id=\"df-90f83b32-18ae-4dcb-af7e-85d57fcd4cd2\">\n",
              "    <div class=\"colab-df-container\">\n",
              "      <div>\n",
              "<style scoped>\n",
              "    .dataframe tbody tr th:only-of-type {\n",
              "        vertical-align: middle;\n",
              "    }\n",
              "\n",
              "    .dataframe tbody tr th {\n",
              "        vertical-align: top;\n",
              "    }\n",
              "\n",
              "    .dataframe thead th {\n",
              "        text-align: right;\n",
              "    }\n",
              "</style>\n",
              "<table border=\"1\" class=\"dataframe\">\n",
              "  <thead>\n",
              "    <tr style=\"text-align: right;\">\n",
              "      <th></th>\n",
              "      <th>호칭</th>\n",
              "      <th>학습요일_CONV</th>\n",
              "      <th>과정코드</th>\n",
              "    </tr>\n",
              "  </thead>\n",
              "  <tbody>\n",
              "    <tr>\n",
              "      <th>35</th>\n",
              "      <td>차장</td>\n",
              "      <td>금</td>\n",
              "      <td>23494</td>\n",
              "    </tr>\n",
              "    <tr>\n",
              "      <th>41</th>\n",
              "      <td>차장</td>\n",
              "      <td>화</td>\n",
              "      <td>23081</td>\n",
              "    </tr>\n",
              "    <tr>\n",
              "      <th>36</th>\n",
              "      <td>차장</td>\n",
              "      <td>목</td>\n",
              "      <td>22687</td>\n",
              "    </tr>\n",
              "    <tr>\n",
              "      <th>37</th>\n",
              "      <td>차장</td>\n",
              "      <td>수</td>\n",
              "      <td>21257</td>\n",
              "    </tr>\n",
              "    <tr>\n",
              "      <th>38</th>\n",
              "      <td>차장</td>\n",
              "      <td>월</td>\n",
              "      <td>21175</td>\n",
              "    </tr>\n",
              "  </tbody>\n",
              "</table>\n",
              "</div>\n",
              "      <button class=\"colab-df-convert\" onclick=\"convertToInteractive('df-90f83b32-18ae-4dcb-af7e-85d57fcd4cd2')\"\n",
              "              title=\"Convert this dataframe to an interactive table.\"\n",
              "              style=\"display:none;\">\n",
              "        \n",
              "  <svg xmlns=\"http://www.w3.org/2000/svg\" height=\"24px\"viewBox=\"0 0 24 24\"\n",
              "       width=\"24px\">\n",
              "    <path d=\"M0 0h24v24H0V0z\" fill=\"none\"/>\n",
              "    <path d=\"M18.56 5.44l.94 2.06.94-2.06 2.06-.94-2.06-.94-.94-2.06-.94 2.06-2.06.94zm-11 1L8.5 8.5l.94-2.06 2.06-.94-2.06-.94L8.5 2.5l-.94 2.06-2.06.94zm10 10l.94 2.06.94-2.06 2.06-.94-2.06-.94-.94-2.06-.94 2.06-2.06.94z\"/><path d=\"M17.41 7.96l-1.37-1.37c-.4-.4-.92-.59-1.43-.59-.52 0-1.04.2-1.43.59L10.3 9.45l-7.72 7.72c-.78.78-.78 2.05 0 2.83L4 21.41c.39.39.9.59 1.41.59.51 0 1.02-.2 1.41-.59l7.78-7.78 2.81-2.81c.8-.78.8-2.07 0-2.86zM5.41 20L4 18.59l7.72-7.72 1.47 1.35L5.41 20z\"/>\n",
              "  </svg>\n",
              "      </button>\n",
              "      \n",
              "  <style>\n",
              "    .colab-df-container {\n",
              "      display:flex;\n",
              "      flex-wrap:wrap;\n",
              "      gap: 12px;\n",
              "    }\n",
              "\n",
              "    .colab-df-convert {\n",
              "      background-color: #E8F0FE;\n",
              "      border: none;\n",
              "      border-radius: 50%;\n",
              "      cursor: pointer;\n",
              "      display: none;\n",
              "      fill: #1967D2;\n",
              "      height: 32px;\n",
              "      padding: 0 0 0 0;\n",
              "      width: 32px;\n",
              "    }\n",
              "\n",
              "    .colab-df-convert:hover {\n",
              "      background-color: #E2EBFA;\n",
              "      box-shadow: 0px 1px 2px rgba(60, 64, 67, 0.3), 0px 1px 3px 1px rgba(60, 64, 67, 0.15);\n",
              "      fill: #174EA6;\n",
              "    }\n",
              "\n",
              "    [theme=dark] .colab-df-convert {\n",
              "      background-color: #3B4455;\n",
              "      fill: #D2E3FC;\n",
              "    }\n",
              "\n",
              "    [theme=dark] .colab-df-convert:hover {\n",
              "      background-color: #434B5C;\n",
              "      box-shadow: 0px 1px 3px 1px rgba(0, 0, 0, 0.15);\n",
              "      filter: drop-shadow(0px 1px 2px rgba(0, 0, 0, 0.3));\n",
              "      fill: #FFFFFF;\n",
              "    }\n",
              "  </style>\n",
              "\n",
              "      <script>\n",
              "        const buttonEl =\n",
              "          document.querySelector('#df-90f83b32-18ae-4dcb-af7e-85d57fcd4cd2 button.colab-df-convert');\n",
              "        buttonEl.style.display =\n",
              "          google.colab.kernel.accessAllowed ? 'block' : 'none';\n",
              "\n",
              "        async function convertToInteractive(key) {\n",
              "          const element = document.querySelector('#df-90f83b32-18ae-4dcb-af7e-85d57fcd4cd2');\n",
              "          const dataTable =\n",
              "            await google.colab.kernel.invokeFunction('convertToInteractive',\n",
              "                                                     [key], {});\n",
              "          if (!dataTable) return;\n",
              "\n",
              "          const docLinkHtml = 'Like what you see? Visit the ' +\n",
              "            '<a target=\"_blank\" href=https://colab.research.google.com/notebooks/data_table.ipynb>data table notebook</a>'\n",
              "            + ' to learn more about interactive tables.';\n",
              "          element.innerHTML = '';\n",
              "          dataTable['output_type'] = 'display_data';\n",
              "          await google.colab.output.renderOutput(dataTable, element);\n",
              "          const docLink = document.createElement('div');\n",
              "          docLink.innerHTML = docLinkHtml;\n",
              "          element.appendChild(docLink);\n",
              "        }\n",
              "      </script>\n",
              "    </div>\n",
              "  </div>\n",
              "  "
            ],
            "text/plain": [
              "    호칭 학습요일_CONV   과정코드\n",
              "35  차장         금  23494\n",
              "41  차장         화  23081\n",
              "36  차장         목  22687\n",
              "37  차장         수  21257\n",
              "38  차장         월  21175"
            ]
          },
          "metadata": {},
          "execution_count": 184
        }
      ],
      "source": [
        "직급기준_요일별학습량.head()"
      ]
    },
    {
      "cell_type": "code",
      "execution_count": null,
      "metadata": {
        "colab": {
          "base_uri": "https://localhost:8080/",
          "height": 206
        },
        "id": "j9mP242mLTL3",
        "outputId": "bf647add-776f-4047-8d29-ac1408bf3680"
      },
      "outputs": [
        {
          "output_type": "execute_result",
          "data": {
            "text/html": [
              "\n",
              "  <div id=\"df-a16c96c4-e4bd-41cf-b1be-9b773220324b\">\n",
              "    <div class=\"colab-df-container\">\n",
              "      <div>\n",
              "<style scoped>\n",
              "    .dataframe tbody tr th:only-of-type {\n",
              "        vertical-align: middle;\n",
              "    }\n",
              "\n",
              "    .dataframe tbody tr th {\n",
              "        vertical-align: top;\n",
              "    }\n",
              "\n",
              "    .dataframe thead th {\n",
              "        text-align: right;\n",
              "    }\n",
              "</style>\n",
              "<table border=\"1\" class=\"dataframe\">\n",
              "  <thead>\n",
              "    <tr style=\"text-align: right;\">\n",
              "      <th></th>\n",
              "      <th>호칭</th>\n",
              "      <th>학습요일_WEEK</th>\n",
              "      <th>과정코드</th>\n",
              "    </tr>\n",
              "  </thead>\n",
              "  <tbody>\n",
              "    <tr>\n",
              "      <th>10</th>\n",
              "      <td>차장</td>\n",
              "      <td>week</td>\n",
              "      <td>111694</td>\n",
              "    </tr>\n",
              "    <tr>\n",
              "      <th>11</th>\n",
              "      <td>차장</td>\n",
              "      <td>weekend</td>\n",
              "      <td>9196</td>\n",
              "    </tr>\n",
              "    <tr>\n",
              "      <th>8</th>\n",
              "      <td>임원</td>\n",
              "      <td>week</td>\n",
              "      <td>37393</td>\n",
              "    </tr>\n",
              "    <tr>\n",
              "      <th>9</th>\n",
              "      <td>임원</td>\n",
              "      <td>weekend</td>\n",
              "      <td>3056</td>\n",
              "    </tr>\n",
              "    <tr>\n",
              "      <th>6</th>\n",
              "      <td>사원</td>\n",
              "      <td>week</td>\n",
              "      <td>185770</td>\n",
              "    </tr>\n",
              "  </tbody>\n",
              "</table>\n",
              "</div>\n",
              "      <button class=\"colab-df-convert\" onclick=\"convertToInteractive('df-a16c96c4-e4bd-41cf-b1be-9b773220324b')\"\n",
              "              title=\"Convert this dataframe to an interactive table.\"\n",
              "              style=\"display:none;\">\n",
              "        \n",
              "  <svg xmlns=\"http://www.w3.org/2000/svg\" height=\"24px\"viewBox=\"0 0 24 24\"\n",
              "       width=\"24px\">\n",
              "    <path d=\"M0 0h24v24H0V0z\" fill=\"none\"/>\n",
              "    <path d=\"M18.56 5.44l.94 2.06.94-2.06 2.06-.94-2.06-.94-.94-2.06-.94 2.06-2.06.94zm-11 1L8.5 8.5l.94-2.06 2.06-.94-2.06-.94L8.5 2.5l-.94 2.06-2.06.94zm10 10l.94 2.06.94-2.06 2.06-.94-2.06-.94-.94-2.06-.94 2.06-2.06.94z\"/><path d=\"M17.41 7.96l-1.37-1.37c-.4-.4-.92-.59-1.43-.59-.52 0-1.04.2-1.43.59L10.3 9.45l-7.72 7.72c-.78.78-.78 2.05 0 2.83L4 21.41c.39.39.9.59 1.41.59.51 0 1.02-.2 1.41-.59l7.78-7.78 2.81-2.81c.8-.78.8-2.07 0-2.86zM5.41 20L4 18.59l7.72-7.72 1.47 1.35L5.41 20z\"/>\n",
              "  </svg>\n",
              "      </button>\n",
              "      \n",
              "  <style>\n",
              "    .colab-df-container {\n",
              "      display:flex;\n",
              "      flex-wrap:wrap;\n",
              "      gap: 12px;\n",
              "    }\n",
              "\n",
              "    .colab-df-convert {\n",
              "      background-color: #E8F0FE;\n",
              "      border: none;\n",
              "      border-radius: 50%;\n",
              "      cursor: pointer;\n",
              "      display: none;\n",
              "      fill: #1967D2;\n",
              "      height: 32px;\n",
              "      padding: 0 0 0 0;\n",
              "      width: 32px;\n",
              "    }\n",
              "\n",
              "    .colab-df-convert:hover {\n",
              "      background-color: #E2EBFA;\n",
              "      box-shadow: 0px 1px 2px rgba(60, 64, 67, 0.3), 0px 1px 3px 1px rgba(60, 64, 67, 0.15);\n",
              "      fill: #174EA6;\n",
              "    }\n",
              "\n",
              "    [theme=dark] .colab-df-convert {\n",
              "      background-color: #3B4455;\n",
              "      fill: #D2E3FC;\n",
              "    }\n",
              "\n",
              "    [theme=dark] .colab-df-convert:hover {\n",
              "      background-color: #434B5C;\n",
              "      box-shadow: 0px 1px 3px 1px rgba(0, 0, 0, 0.15);\n",
              "      filter: drop-shadow(0px 1px 2px rgba(0, 0, 0, 0.3));\n",
              "      fill: #FFFFFF;\n",
              "    }\n",
              "  </style>\n",
              "\n",
              "      <script>\n",
              "        const buttonEl =\n",
              "          document.querySelector('#df-a16c96c4-e4bd-41cf-b1be-9b773220324b button.colab-df-convert');\n",
              "        buttonEl.style.display =\n",
              "          google.colab.kernel.accessAllowed ? 'block' : 'none';\n",
              "\n",
              "        async function convertToInteractive(key) {\n",
              "          const element = document.querySelector('#df-a16c96c4-e4bd-41cf-b1be-9b773220324b');\n",
              "          const dataTable =\n",
              "            await google.colab.kernel.invokeFunction('convertToInteractive',\n",
              "                                                     [key], {});\n",
              "          if (!dataTable) return;\n",
              "\n",
              "          const docLinkHtml = 'Like what you see? Visit the ' +\n",
              "            '<a target=\"_blank\" href=https://colab.research.google.com/notebooks/data_table.ipynb>data table notebook</a>'\n",
              "            + ' to learn more about interactive tables.';\n",
              "          element.innerHTML = '';\n",
              "          dataTable['output_type'] = 'display_data';\n",
              "          await google.colab.output.renderOutput(dataTable, element);\n",
              "          const docLink = document.createElement('div');\n",
              "          docLink.innerHTML = docLinkHtml;\n",
              "          element.appendChild(docLink);\n",
              "        }\n",
              "      </script>\n",
              "    </div>\n",
              "  </div>\n",
              "  "
            ],
            "text/plain": [
              "    호칭 학습요일_WEEK    과정코드\n",
              "10  차장      week  111694\n",
              "11  차장   weekend    9196\n",
              "8   임원      week   37393\n",
              "9   임원   weekend    3056\n",
              "6   사원      week  185770"
            ]
          },
          "metadata": {},
          "execution_count": 185
        }
      ],
      "source": [
        "직급기준_요일별학습량2.head()"
      ]
    },
    {
      "cell_type": "code",
      "execution_count": null,
      "metadata": {
        "colab": {
          "base_uri": "https://localhost:8080/",
          "height": 430
        },
        "id": "MG4QkwmFLTau",
        "outputId": "20f68ecd-c034-4558-f7e4-245d7d0eda3c"
      },
      "outputs": [
        {
          "output_type": "execute_result",
          "data": {
            "text/html": [
              "\n",
              "  <div id=\"df-2b3d8d15-23f4-42cd-9524-cbce11345b56\">\n",
              "    <div class=\"colab-df-container\">\n",
              "      <div>\n",
              "<style scoped>\n",
              "    .dataframe tbody tr th:only-of-type {\n",
              "        vertical-align: middle;\n",
              "    }\n",
              "\n",
              "    .dataframe tbody tr th {\n",
              "        vertical-align: top;\n",
              "    }\n",
              "\n",
              "    .dataframe thead th {\n",
              "        text-align: right;\n",
              "    }\n",
              "</style>\n",
              "<table border=\"1\" class=\"dataframe\">\n",
              "  <thead>\n",
              "    <tr style=\"text-align: right;\">\n",
              "      <th></th>\n",
              "      <th>교육분야1차</th>\n",
              "      <th>교육분야2차</th>\n",
              "      <th>과정코드</th>\n",
              "      <th>과정명(학습명)</th>\n",
              "      <th>과정등록일(생성일)</th>\n",
              "      <th>학습시작일</th>\n",
              "      <th>학습종료일</th>\n",
              "      <th>사번(ID)</th>\n",
              "      <th>소속부서</th>\n",
              "      <th>호칭</th>\n",
              "      <th>직무</th>\n",
              "      <th>제작/소싱</th>\n",
              "      <th>자격증보유여부</th>\n",
              "      <th>학습지수</th>\n",
              "      <th>경력개월수</th>\n",
              "      <th>어학점수</th>\n",
              "      <th>수강횟수</th>\n",
              "      <th>학습시작일_TIME</th>\n",
              "      <th>학습종료일_TIME</th>\n",
              "      <th>학습시간대</th>\n",
              "      <th>학습요일</th>\n",
              "      <th>학습요일_CONV</th>\n",
              "      <th>학습요일_WEEK</th>\n",
              "    </tr>\n",
              "  </thead>\n",
              "  <tbody>\n",
              "    <tr>\n",
              "      <th>0</th>\n",
              "      <td>그룹사</td>\n",
              "      <td>[사이버러닝] 온라인서비스 패키지</td>\n",
              "      <td>100008519</td>\n",
              "      <td>KT텔레캅 상품 바로 알기 3편 - GiGAeyes i형 영상 상품</td>\n",
              "      <td>2020-12-23 15:41:42.0</td>\n",
              "      <td>2021-01-01 00:36:00</td>\n",
              "      <td>2021-01-01 14:47:20</td>\n",
              "      <td>7821446332</td>\n",
              "      <td>전남</td>\n",
              "      <td>과장</td>\n",
              "      <td>HR</td>\n",
              "      <td>NaN</td>\n",
              "      <td>Y</td>\n",
              "      <td>95.0</td>\n",
              "      <td>135.0</td>\n",
              "      <td>792.0</td>\n",
              "      <td>1.0</td>\n",
              "      <td>00:36:00</td>\n",
              "      <td>14:47:20</td>\n",
              "      <td>0_to_6</td>\n",
              "      <td>4</td>\n",
              "      <td>금</td>\n",
              "      <td>week</td>\n",
              "    </tr>\n",
              "    <tr>\n",
              "      <th>1</th>\n",
              "      <td>OSP</td>\n",
              "      <td>개통/as</td>\n",
              "      <td>100007873</td>\n",
              "      <td>IPTV트러블슈팅_리모컨</td>\n",
              "      <td>2020-12-22 10:56:25.0</td>\n",
              "      <td>2021-01-01 03:04:47</td>\n",
              "      <td>2021-01-02 01:25:30</td>\n",
              "      <td>9821507101</td>\n",
              "      <td>기타</td>\n",
              "      <td>과장</td>\n",
              "      <td>IT</td>\n",
              "      <td>NaN</td>\n",
              "      <td>N</td>\n",
              "      <td>93.0</td>\n",
              "      <td>54.0</td>\n",
              "      <td>758.0</td>\n",
              "      <td>1.0</td>\n",
              "      <td>03:04:47</td>\n",
              "      <td>01:25:30</td>\n",
              "      <td>0_to_6</td>\n",
              "      <td>4</td>\n",
              "      <td>금</td>\n",
              "      <td>week</td>\n",
              "    </tr>\n",
              "    <tr>\n",
              "      <th>2</th>\n",
              "      <td>OSP</td>\n",
              "      <td>개통/as</td>\n",
              "      <td>100008091</td>\n",
              "      <td>QR 코드 활용 광선번 관리(M-NeOSS)</td>\n",
              "      <td>2020-12-28 10:19:41.0</td>\n",
              "      <td>2021-01-01 04:28:04</td>\n",
              "      <td>2021-01-01 04:31:08</td>\n",
              "      <td>1101296042</td>\n",
              "      <td>강남</td>\n",
              "      <td>과장</td>\n",
              "      <td>회계</td>\n",
              "      <td>NaN</td>\n",
              "      <td>Y</td>\n",
              "      <td>61.0</td>\n",
              "      <td>112.0</td>\n",
              "      <td>908.0</td>\n",
              "      <td>4.0</td>\n",
              "      <td>04:28:04</td>\n",
              "      <td>04:31:08</td>\n",
              "      <td>0_to_6</td>\n",
              "      <td>4</td>\n",
              "      <td>금</td>\n",
              "      <td>week</td>\n",
              "    </tr>\n",
              "  </tbody>\n",
              "</table>\n",
              "</div>\n",
              "      <button class=\"colab-df-convert\" onclick=\"convertToInteractive('df-2b3d8d15-23f4-42cd-9524-cbce11345b56')\"\n",
              "              title=\"Convert this dataframe to an interactive table.\"\n",
              "              style=\"display:none;\">\n",
              "        \n",
              "  <svg xmlns=\"http://www.w3.org/2000/svg\" height=\"24px\"viewBox=\"0 0 24 24\"\n",
              "       width=\"24px\">\n",
              "    <path d=\"M0 0h24v24H0V0z\" fill=\"none\"/>\n",
              "    <path d=\"M18.56 5.44l.94 2.06.94-2.06 2.06-.94-2.06-.94-.94-2.06-.94 2.06-2.06.94zm-11 1L8.5 8.5l.94-2.06 2.06-.94-2.06-.94L8.5 2.5l-.94 2.06-2.06.94zm10 10l.94 2.06.94-2.06 2.06-.94-2.06-.94-.94-2.06-.94 2.06-2.06.94z\"/><path d=\"M17.41 7.96l-1.37-1.37c-.4-.4-.92-.59-1.43-.59-.52 0-1.04.2-1.43.59L10.3 9.45l-7.72 7.72c-.78.78-.78 2.05 0 2.83L4 21.41c.39.39.9.59 1.41.59.51 0 1.02-.2 1.41-.59l7.78-7.78 2.81-2.81c.8-.78.8-2.07 0-2.86zM5.41 20L4 18.59l7.72-7.72 1.47 1.35L5.41 20z\"/>\n",
              "  </svg>\n",
              "      </button>\n",
              "      \n",
              "  <style>\n",
              "    .colab-df-container {\n",
              "      display:flex;\n",
              "      flex-wrap:wrap;\n",
              "      gap: 12px;\n",
              "    }\n",
              "\n",
              "    .colab-df-convert {\n",
              "      background-color: #E8F0FE;\n",
              "      border: none;\n",
              "      border-radius: 50%;\n",
              "      cursor: pointer;\n",
              "      display: none;\n",
              "      fill: #1967D2;\n",
              "      height: 32px;\n",
              "      padding: 0 0 0 0;\n",
              "      width: 32px;\n",
              "    }\n",
              "\n",
              "    .colab-df-convert:hover {\n",
              "      background-color: #E2EBFA;\n",
              "      box-shadow: 0px 1px 2px rgba(60, 64, 67, 0.3), 0px 1px 3px 1px rgba(60, 64, 67, 0.15);\n",
              "      fill: #174EA6;\n",
              "    }\n",
              "\n",
              "    [theme=dark] .colab-df-convert {\n",
              "      background-color: #3B4455;\n",
              "      fill: #D2E3FC;\n",
              "    }\n",
              "\n",
              "    [theme=dark] .colab-df-convert:hover {\n",
              "      background-color: #434B5C;\n",
              "      box-shadow: 0px 1px 3px 1px rgba(0, 0, 0, 0.15);\n",
              "      filter: drop-shadow(0px 1px 2px rgba(0, 0, 0, 0.3));\n",
              "      fill: #FFFFFF;\n",
              "    }\n",
              "  </style>\n",
              "\n",
              "      <script>\n",
              "        const buttonEl =\n",
              "          document.querySelector('#df-2b3d8d15-23f4-42cd-9524-cbce11345b56 button.colab-df-convert');\n",
              "        buttonEl.style.display =\n",
              "          google.colab.kernel.accessAllowed ? 'block' : 'none';\n",
              "\n",
              "        async function convertToInteractive(key) {\n",
              "          const element = document.querySelector('#df-2b3d8d15-23f4-42cd-9524-cbce11345b56');\n",
              "          const dataTable =\n",
              "            await google.colab.kernel.invokeFunction('convertToInteractive',\n",
              "                                                     [key], {});\n",
              "          if (!dataTable) return;\n",
              "\n",
              "          const docLinkHtml = 'Like what you see? Visit the ' +\n",
              "            '<a target=\"_blank\" href=https://colab.research.google.com/notebooks/data_table.ipynb>data table notebook</a>'\n",
              "            + ' to learn more about interactive tables.';\n",
              "          element.innerHTML = '';\n",
              "          dataTable['output_type'] = 'display_data';\n",
              "          await google.colab.output.renderOutput(dataTable, element);\n",
              "          const docLink = document.createElement('div');\n",
              "          docLink.innerHTML = docLinkHtml;\n",
              "          element.appendChild(docLink);\n",
              "        }\n",
              "      </script>\n",
              "    </div>\n",
              "  </div>\n",
              "  "
            ],
            "text/plain": [
              "  교육분야1차               교육분야2차       과정코드  ... 학습요일 학습요일_CONV 학습요일_WEEK\n",
              "0    그룹사   [사이버러닝] 온라인서비스 패키지  100008519  ...    4         금      week\n",
              "1    OSP                개통/as  100007873  ...    4         금      week\n",
              "2    OSP                개통/as  100008091  ...    4         금      week\n",
              "\n",
              "[3 rows x 23 columns]"
            ]
          },
          "metadata": {},
          "execution_count": 186
        }
      ],
      "source": [
        "df_Q.head(3)"
      ]
    },
    {
      "cell_type": "markdown",
      "metadata": {
        "id": "kvM4i-T9dLtV"
      },
      "source": [
        "# IT분야 데이터만 분리하기\n",
        "- 교육분야1차: IT, DX"
      ]
    },
    {
      "cell_type": "code",
      "execution_count": null,
      "metadata": {
        "id": "moJ4gXh7dK7v"
      },
      "outputs": [],
      "source": [
        "cond1 = (df_Q['교육분야1차'] == 'IT')"
      ]
    },
    {
      "cell_type": "code",
      "execution_count": null,
      "metadata": {
        "id": "D0rZJYZvdK7v"
      },
      "outputs": [],
      "source": [
        "df_IT_Q = df_Q[cond1].reset_index(drop=True)"
      ]
    },
    {
      "cell_type": "code",
      "execution_count": null,
      "metadata": {
        "colab": {
          "base_uri": "https://localhost:8080/"
        },
        "id": "_qVHyKp1chxY",
        "outputId": "2585a61d-3ff2-4282-b963-30bd2d6fc483"
      },
      "outputs": [
        {
          "output_type": "execute_result",
          "data": {
            "text/plain": [
              "(21535, 23)"
            ]
          },
          "metadata": {},
          "execution_count": 189
        }
      ],
      "source": [
        "df_IT_Q.shape"
      ]
    },
    {
      "cell_type": "code",
      "execution_count": null,
      "metadata": {
        "colab": {
          "base_uri": "https://localhost:8080/",
          "height": 430
        },
        "id": "ZRk3YzkzeWNc",
        "outputId": "7e8a1e94-2ef6-431e-cf13-04cd384c3368"
      },
      "outputs": [
        {
          "output_type": "execute_result",
          "data": {
            "text/html": [
              "\n",
              "  <div id=\"df-70a43fc6-909e-4fae-ad1e-dc5429b44a4b\">\n",
              "    <div class=\"colab-df-container\">\n",
              "      <div>\n",
              "<style scoped>\n",
              "    .dataframe tbody tr th:only-of-type {\n",
              "        vertical-align: middle;\n",
              "    }\n",
              "\n",
              "    .dataframe tbody tr th {\n",
              "        vertical-align: top;\n",
              "    }\n",
              "\n",
              "    .dataframe thead th {\n",
              "        text-align: right;\n",
              "    }\n",
              "</style>\n",
              "<table border=\"1\" class=\"dataframe\">\n",
              "  <thead>\n",
              "    <tr style=\"text-align: right;\">\n",
              "      <th></th>\n",
              "      <th>교육분야1차</th>\n",
              "      <th>교육분야2차</th>\n",
              "      <th>과정코드</th>\n",
              "      <th>과정명(학습명)</th>\n",
              "      <th>과정등록일(생성일)</th>\n",
              "      <th>학습시작일</th>\n",
              "      <th>학습종료일</th>\n",
              "      <th>사번(ID)</th>\n",
              "      <th>소속부서</th>\n",
              "      <th>호칭</th>\n",
              "      <th>직무</th>\n",
              "      <th>제작/소싱</th>\n",
              "      <th>자격증보유여부</th>\n",
              "      <th>학습지수</th>\n",
              "      <th>경력개월수</th>\n",
              "      <th>어학점수</th>\n",
              "      <th>수강횟수</th>\n",
              "      <th>학습시작일_TIME</th>\n",
              "      <th>학습종료일_TIME</th>\n",
              "      <th>학습시간대</th>\n",
              "      <th>학습요일</th>\n",
              "      <th>학습요일_CONV</th>\n",
              "      <th>학습요일_WEEK</th>\n",
              "    </tr>\n",
              "  </thead>\n",
              "  <tbody>\n",
              "    <tr>\n",
              "      <th>0</th>\n",
              "      <td>IT</td>\n",
              "      <td>it</td>\n",
              "      <td>200018440</td>\n",
              "      <td>[cloud basic] cloud 이해 1-1 cloud 중요성</td>\n",
              "      <td>2020-11-23 18:52:31.0</td>\n",
              "      <td>2021-01-03 19:25:32</td>\n",
              "      <td>2021-01-03 19:27:35</td>\n",
              "      <td>5100410105</td>\n",
              "      <td>기타</td>\n",
              "      <td>차장</td>\n",
              "      <td>경영</td>\n",
              "      <td>NaN</td>\n",
              "      <td>Y</td>\n",
              "      <td>88.0</td>\n",
              "      <td>145.0</td>\n",
              "      <td>668.0</td>\n",
              "      <td>1.0</td>\n",
              "      <td>19:25:32</td>\n",
              "      <td>19:27:35</td>\n",
              "      <td>18_to_24</td>\n",
              "      <td>6</td>\n",
              "      <td>일</td>\n",
              "      <td>weekend</td>\n",
              "    </tr>\n",
              "    <tr>\n",
              "      <th>1</th>\n",
              "      <td>IT</td>\n",
              "      <td>it</td>\n",
              "      <td>100008496</td>\n",
              "      <td>쉬운우리보안1. 피싱메일 예방법</td>\n",
              "      <td>2018-07-17 13:26:04.0</td>\n",
              "      <td>2021-01-04 08:31:52</td>\n",
              "      <td>2021-01-04 08:34:07</td>\n",
              "      <td>7820059937</td>\n",
              "      <td>전남</td>\n",
              "      <td>대리</td>\n",
              "      <td>회계</td>\n",
              "      <td>NaN</td>\n",
              "      <td>Y</td>\n",
              "      <td>20.0</td>\n",
              "      <td>173.0</td>\n",
              "      <td>499.0</td>\n",
              "      <td>8.0</td>\n",
              "      <td>08:31:52</td>\n",
              "      <td>08:34:07</td>\n",
              "      <td>6_to_9</td>\n",
              "      <td>0</td>\n",
              "      <td>월</td>\n",
              "      <td>week</td>\n",
              "    </tr>\n",
              "    <tr>\n",
              "      <th>2</th>\n",
              "      <td>IT</td>\n",
              "      <td>it</td>\n",
              "      <td>200018440</td>\n",
              "      <td>[cloud basic] cloud 이해 1-1 cloud 중요성</td>\n",
              "      <td>2020-11-12 09:19:45.0</td>\n",
              "      <td>2021-01-04 08:52:03</td>\n",
              "      <td>2021-01-04 14:01:08</td>\n",
              "      <td>8100099094</td>\n",
              "      <td>기타</td>\n",
              "      <td>사원</td>\n",
              "      <td>마케팅</td>\n",
              "      <td>NaN</td>\n",
              "      <td>N</td>\n",
              "      <td>43.0</td>\n",
              "      <td>50.0</td>\n",
              "      <td>698.0</td>\n",
              "      <td>4.0</td>\n",
              "      <td>08:52:03</td>\n",
              "      <td>14:01:08</td>\n",
              "      <td>0_to_6</td>\n",
              "      <td>0</td>\n",
              "      <td>월</td>\n",
              "      <td>week</td>\n",
              "    </tr>\n",
              "  </tbody>\n",
              "</table>\n",
              "</div>\n",
              "      <button class=\"colab-df-convert\" onclick=\"convertToInteractive('df-70a43fc6-909e-4fae-ad1e-dc5429b44a4b')\"\n",
              "              title=\"Convert this dataframe to an interactive table.\"\n",
              "              style=\"display:none;\">\n",
              "        \n",
              "  <svg xmlns=\"http://www.w3.org/2000/svg\" height=\"24px\"viewBox=\"0 0 24 24\"\n",
              "       width=\"24px\">\n",
              "    <path d=\"M0 0h24v24H0V0z\" fill=\"none\"/>\n",
              "    <path d=\"M18.56 5.44l.94 2.06.94-2.06 2.06-.94-2.06-.94-.94-2.06-.94 2.06-2.06.94zm-11 1L8.5 8.5l.94-2.06 2.06-.94-2.06-.94L8.5 2.5l-.94 2.06-2.06.94zm10 10l.94 2.06.94-2.06 2.06-.94-2.06-.94-.94-2.06-.94 2.06-2.06.94z\"/><path d=\"M17.41 7.96l-1.37-1.37c-.4-.4-.92-.59-1.43-.59-.52 0-1.04.2-1.43.59L10.3 9.45l-7.72 7.72c-.78.78-.78 2.05 0 2.83L4 21.41c.39.39.9.59 1.41.59.51 0 1.02-.2 1.41-.59l7.78-7.78 2.81-2.81c.8-.78.8-2.07 0-2.86zM5.41 20L4 18.59l7.72-7.72 1.47 1.35L5.41 20z\"/>\n",
              "  </svg>\n",
              "      </button>\n",
              "      \n",
              "  <style>\n",
              "    .colab-df-container {\n",
              "      display:flex;\n",
              "      flex-wrap:wrap;\n",
              "      gap: 12px;\n",
              "    }\n",
              "\n",
              "    .colab-df-convert {\n",
              "      background-color: #E8F0FE;\n",
              "      border: none;\n",
              "      border-radius: 50%;\n",
              "      cursor: pointer;\n",
              "      display: none;\n",
              "      fill: #1967D2;\n",
              "      height: 32px;\n",
              "      padding: 0 0 0 0;\n",
              "      width: 32px;\n",
              "    }\n",
              "\n",
              "    .colab-df-convert:hover {\n",
              "      background-color: #E2EBFA;\n",
              "      box-shadow: 0px 1px 2px rgba(60, 64, 67, 0.3), 0px 1px 3px 1px rgba(60, 64, 67, 0.15);\n",
              "      fill: #174EA6;\n",
              "    }\n",
              "\n",
              "    [theme=dark] .colab-df-convert {\n",
              "      background-color: #3B4455;\n",
              "      fill: #D2E3FC;\n",
              "    }\n",
              "\n",
              "    [theme=dark] .colab-df-convert:hover {\n",
              "      background-color: #434B5C;\n",
              "      box-shadow: 0px 1px 3px 1px rgba(0, 0, 0, 0.15);\n",
              "      filter: drop-shadow(0px 1px 2px rgba(0, 0, 0, 0.3));\n",
              "      fill: #FFFFFF;\n",
              "    }\n",
              "  </style>\n",
              "\n",
              "      <script>\n",
              "        const buttonEl =\n",
              "          document.querySelector('#df-70a43fc6-909e-4fae-ad1e-dc5429b44a4b button.colab-df-convert');\n",
              "        buttonEl.style.display =\n",
              "          google.colab.kernel.accessAllowed ? 'block' : 'none';\n",
              "\n",
              "        async function convertToInteractive(key) {\n",
              "          const element = document.querySelector('#df-70a43fc6-909e-4fae-ad1e-dc5429b44a4b');\n",
              "          const dataTable =\n",
              "            await google.colab.kernel.invokeFunction('convertToInteractive',\n",
              "                                                     [key], {});\n",
              "          if (!dataTable) return;\n",
              "\n",
              "          const docLinkHtml = 'Like what you see? Visit the ' +\n",
              "            '<a target=\"_blank\" href=https://colab.research.google.com/notebooks/data_table.ipynb>data table notebook</a>'\n",
              "            + ' to learn more about interactive tables.';\n",
              "          element.innerHTML = '';\n",
              "          dataTable['output_type'] = 'display_data';\n",
              "          await google.colab.output.renderOutput(dataTable, element);\n",
              "          const docLink = document.createElement('div');\n",
              "          docLink.innerHTML = docLinkHtml;\n",
              "          element.appendChild(docLink);\n",
              "        }\n",
              "      </script>\n",
              "    </div>\n",
              "  </div>\n",
              "  "
            ],
            "text/plain": [
              "  교육분야1차 교육분야2차       과정코드  ... 학습요일 학습요일_CONV 학습요일_WEEK\n",
              "0     IT     it  200018440  ...    6         일   weekend\n",
              "1     IT     it  100008496  ...    0         월      week\n",
              "2     IT     it  200018440  ...    0         월      week\n",
              "\n",
              "[3 rows x 23 columns]"
            ]
          },
          "metadata": {},
          "execution_count": 190
        }
      ],
      "source": [
        "df_IT_Q.head(3)"
      ]
    },
    {
      "cell_type": "code",
      "execution_count": null,
      "metadata": {
        "colab": {
          "base_uri": "https://localhost:8080/"
        },
        "id": "SdxLcbjCchz2",
        "outputId": "1c12acfe-d49b-4b3a-9a36-9b9142304cab"
      },
      "outputs": [
        {
          "output_type": "stream",
          "name": "stdout",
          "text": [
            "<class 'pandas.core.frame.DataFrame'>\n",
            "RangeIndex: 21535 entries, 0 to 21534\n",
            "Data columns (total 23 columns):\n",
            " #   Column      Non-Null Count  Dtype         \n",
            "---  ------      --------------  -----         \n",
            " 0   교육분야1차      21535 non-null  object        \n",
            " 1   교육분야2차      21535 non-null  object        \n",
            " 2   과정코드        21535 non-null  int64         \n",
            " 3   과정명(학습명)    21535 non-null  object        \n",
            " 4   과정등록일(생성일)  12731 non-null  object        \n",
            " 5   학습시작일       21535 non-null  datetime64[ns]\n",
            " 6   학습종료일       21535 non-null  datetime64[ns]\n",
            " 7   사번(ID)      21535 non-null  object        \n",
            " 8   소속부서        21535 non-null  object        \n",
            " 9   호칭          21535 non-null  object        \n",
            " 10  직무          21535 non-null  object        \n",
            " 11  제작/소싱       13 non-null     object        \n",
            " 12  자격증보유여부     21535 non-null  object        \n",
            " 13  학습지수        21487 non-null  float64       \n",
            " 14  경력개월수       21535 non-null  float64       \n",
            " 15  어학점수        21535 non-null  float64       \n",
            " 16  수강횟수        21535 non-null  float64       \n",
            " 17  학습시작일_TIME  21535 non-null  object        \n",
            " 18  학습종료일_TIME  21535 non-null  object        \n",
            " 19  학습시간대       21535 non-null  object        \n",
            " 20  학습요일        21535 non-null  int64         \n",
            " 21  학습요일_CONV   21535 non-null  object        \n",
            " 22  학습요일_WEEK   21535 non-null  object        \n",
            "dtypes: datetime64[ns](2), float64(4), int64(2), object(15)\n",
            "memory usage: 3.8+ MB\n"
          ]
        }
      ],
      "source": [
        "df_IT_Q.info()"
      ]
    },
    {
      "cell_type": "code",
      "execution_count": null,
      "metadata": {
        "colab": {
          "base_uri": "https://localhost:8080/"
        },
        "id": "GcSXhqrwinQx",
        "outputId": "5b06ef88-7404-4c81-a213-902f37fae8bb"
      },
      "outputs": [
        {
          "output_type": "execute_result",
          "data": {
            "text/plain": [
              "10"
            ]
          },
          "metadata": {},
          "execution_count": 192
        }
      ],
      "source": [
        "df_IT_Q.loc[ :, '과정코드'].value_counts().count()"
      ]
    },
    {
      "cell_type": "code",
      "execution_count": null,
      "metadata": {
        "colab": {
          "base_uri": "https://localhost:8080/"
        },
        "id": "VHeoO3pyinTg",
        "outputId": "29203bea-83ba-4c65-f238-cc4a29ef9c38"
      },
      "outputs": [
        {
          "output_type": "execute_result",
          "data": {
            "text/plain": [
              "10"
            ]
          },
          "metadata": {},
          "execution_count": 193
        }
      ],
      "source": [
        "df_IT_Q.loc[ :, '과정명(학습명)'].value_counts().count()"
      ]
    },
    {
      "cell_type": "markdown",
      "metadata": {
        "id": "jsLB-Jqb4Bbi"
      },
      "source": [
        "# 전처리 \n",
        "- 과정코드 : string 변경\n",
        "- 학습시간 추가 및 초단위로 변경\n",
        "- 과정코드:과정명 디셔너리 만들기\n",
        "- null 처리 : 학습지수             \n",
        "- null 많은 컬럼 삭제 : 제작/소싱, 과정등록일(생성일)"
      ]
    },
    {
      "cell_type": "markdown",
      "metadata": {
        "id": "-yr-cdYzOO4O"
      },
      "source": [
        "### 과정코드 string 변경하기"
      ]
    },
    {
      "cell_type": "code",
      "execution_count": null,
      "metadata": {
        "id": "KJbFKe8cOOU5"
      },
      "outputs": [],
      "source": [
        "df_IT_Q['과정코드'] = df_IT_Q['과정코드'].astype(str)"
      ]
    },
    {
      "cell_type": "markdown",
      "metadata": {
        "id": "CXOu-wQPGv9e"
      },
      "source": [
        "### 학습 시간을 초단위로 변경"
      ]
    },
    {
      "cell_type": "code",
      "execution_count": null,
      "metadata": {
        "id": "0yH8ab4g9-lB"
      },
      "outputs": [],
      "source": [
        "df_IT_Q['학습시간'] = df_IT_Q['학습종료일'] - df_IT_Q['학습시작일']"
      ]
    },
    {
      "cell_type": "code",
      "execution_count": null,
      "metadata": {
        "id": "IxvZ8c1r9-nq"
      },
      "outputs": [],
      "source": [
        "# 학습 시간을 초단위로 변경\n",
        "df_IT_Q['학습시간'] = np.round(df_IT_Q['학습시간'].dt.total_seconds())"
      ]
    },
    {
      "cell_type": "code",
      "execution_count": null,
      "metadata": {
        "colab": {
          "base_uri": "https://localhost:8080/"
        },
        "id": "pBy5SUnE9-rD",
        "outputId": "21cd8d87-4c74-4f36-9dda-c3c2d9c451d2"
      },
      "outputs": [
        {
          "output_type": "execute_result",
          "data": {
            "text/plain": [
              "0            123.0\n",
              "1            135.0\n",
              "2          18545.0\n",
              "3          19255.0\n",
              "4        1411159.0\n",
              "           ...    \n",
              "21530        625.0\n",
              "21531       2012.0\n",
              "21532       1537.0\n",
              "21533        830.0\n",
              "21534        620.0\n",
              "Name: 학습시간, Length: 21535, dtype: float64"
            ]
          },
          "metadata": {},
          "execution_count": 197
        }
      ],
      "source": [
        "df_IT_Q['학습시간']"
      ]
    },
    {
      "cell_type": "markdown",
      "metadata": {
        "id": "9-BwV_gXW4oB"
      },
      "source": [
        "### 시간 Outlier 삭제"
      ]
    },
    {
      "cell_type": "code",
      "execution_count": null,
      "metadata": {
        "colab": {
          "base_uri": "https://localhost:8080/",
          "height": 294
        },
        "id": "81z9F2boWvZI",
        "outputId": "2f38f979-e82f-460a-e94e-be419c95bbd9"
      },
      "outputs": [
        {
          "output_type": "execute_result",
          "data": {
            "text/plain": [
              "<matplotlib.axes._subplots.AxesSubplot at 0x7f5b0cc3e510>"
            ]
          },
          "metadata": {},
          "execution_count": 198
        },
        {
          "output_type": "display_data",
          "data": {
            "image/png": "[encoded data removed]",
            "text/plain": [
              "<Figure size 432x288 with 1 Axes>"
            ]
          },
          "metadata": {
            "needs_background": "light"
          }
        }
      ],
      "source": [
        "df_IT_Q['학습시간'].plot.box()"
      ]
    },
    {
      "cell_type": "code",
      "execution_count": null,
      "metadata": {
        "colab": {
          "base_uri": "https://localhost:8080/"
        },
        "id": "0jH_HL0XWvb1",
        "outputId": "e76c41a0-1df3-47b7-8de6-50be4dc65a9f"
      },
      "outputs": [
        {
          "output_type": "execute_result",
          "data": {
            "text/plain": [
              "Int64Index([2796, 3028, 3162, 3809, 3984, 3985], dtype='int64')"
            ]
          },
          "metadata": {},
          "execution_count": 199
        }
      ],
      "source": [
        "drop_index = df_IT_Q[df_IT_Q['학습시간'] > 0.4 * 1e7].index\n",
        "drop_index"
      ]
    },
    {
      "cell_type": "code",
      "execution_count": null,
      "metadata": {
        "colab": {
          "base_uri": "https://localhost:8080/",
          "height": 294
        },
        "id": "cUAn482HWvew",
        "outputId": "52082a0a-4413-47c6-c179-ca737cd67d79"
      },
      "outputs": [
        {
          "output_type": "execute_result",
          "data": {
            "text/plain": [
              "<matplotlib.axes._subplots.AxesSubplot at 0x7f5b0dc3e6d0>"
            ]
          },
          "metadata": {},
          "execution_count": 200
        },
        {
          "output_type": "display_data",
          "data": {
            "image/png": "[encoded data removed]",
            "text/plain": [
              "<Figure size 432x288 with 1 Axes>"
            ]
          },
          "metadata": {
            "needs_background": "light"
          }
        }
      ],
      "source": [
        "df_IT_Q.drop(drop_index, axis=0, inplace=True)\n",
        "df_IT_Q['학습시간'].plot.box()"
      ]
    },
    {
      "cell_type": "code",
      "execution_count": null,
      "metadata": {
        "colab": {
          "base_uri": "https://localhost:8080/"
        },
        "id": "Rij2lgAJXCZ9",
        "outputId": "02c60e98-a880-4014-d4c3-011449260846"
      },
      "outputs": [
        {
          "output_type": "execute_result",
          "data": {
            "text/plain": [
              "4839"
            ]
          },
          "metadata": {},
          "execution_count": 201
        }
      ],
      "source": [
        "drop_index = df_IT_Q[df_IT_Q['학습시간'] > 2000 ].index\n",
        "len(drop_index)"
      ]
    },
    {
      "cell_type": "code",
      "execution_count": null,
      "metadata": {
        "colab": {
          "base_uri": "https://localhost:8080/",
          "height": 283
        },
        "id": "KPnr861XXIQI",
        "outputId": "1f1e7d1b-a556-4da4-d64a-e826b102fe14"
      },
      "outputs": [
        {
          "output_type": "execute_result",
          "data": {
            "text/plain": [
              "<matplotlib.axes._subplots.AxesSubplot at 0x7f5b0cc40450>"
            ]
          },
          "metadata": {},
          "execution_count": 202
        },
        {
          "output_type": "display_data",
          "data": {
            "image/png": "[encoded data removed]",
            "text/plain": [
              "<Figure size 432x288 with 1 Axes>"
            ]
          },
          "metadata": {
            "needs_background": "light"
          }
        }
      ],
      "source": [
        "df_IT_Q.drop(drop_index, axis=0, inplace=True)\n",
        "df_IT_Q['학습시간'].plot.box()"
      ]
    },
    {
      "cell_type": "code",
      "execution_count": null,
      "metadata": {
        "colab": {
          "base_uri": "https://localhost:8080/"
        },
        "id": "1eKTvgS0XNe7",
        "outputId": "be1e0da8-5a0c-4edb-961e-54310f29e60a"
      },
      "outputs": [
        {
          "output_type": "stream",
          "name": "stdout",
          "text": [
            "<class 'pandas.core.frame.DataFrame'>\n",
            "Int64Index: 16690 entries, 0 to 21534\n",
            "Data columns (total 24 columns):\n",
            " #   Column      Non-Null Count  Dtype         \n",
            "---  ------      --------------  -----         \n",
            " 0   교육분야1차      16690 non-null  object        \n",
            " 1   교육분야2차      16690 non-null  object        \n",
            " 2   과정코드        16690 non-null  object        \n",
            " 3   과정명(학습명)    16690 non-null  object        \n",
            " 4   과정등록일(생성일)  9965 non-null   object        \n",
            " 5   학습시작일       16690 non-null  datetime64[ns]\n",
            " 6   학습종료일       16690 non-null  datetime64[ns]\n",
            " 7   사번(ID)      16690 non-null  object        \n",
            " 8   소속부서        16690 non-null  object        \n",
            " 9   호칭          16690 non-null  object        \n",
            " 10  직무          16690 non-null  object        \n",
            " 11  제작/소싱       8 non-null      object        \n",
            " 12  자격증보유여부     16690 non-null  object        \n",
            " 13  학습지수        16656 non-null  float64       \n",
            " 14  경력개월수       16690 non-null  float64       \n",
            " 15  어학점수        16690 non-null  float64       \n",
            " 16  수강횟수        16690 non-null  float64       \n",
            " 17  학습시작일_TIME  16690 non-null  object        \n",
            " 18  학습종료일_TIME  16690 non-null  object        \n",
            " 19  학습시간대       16690 non-null  object        \n",
            " 20  학습요일        16690 non-null  int64         \n",
            " 21  학습요일_CONV   16690 non-null  object        \n",
            " 22  학습요일_WEEK   16690 non-null  object        \n",
            " 23  학습시간        16690 non-null  float64       \n",
            "dtypes: datetime64[ns](2), float64(5), int64(1), object(16)\n",
            "memory usage: 3.2+ MB\n"
          ]
        }
      ],
      "source": [
        "df_IT_Q.info()"
      ]
    },
    {
      "cell_type": "markdown",
      "metadata": {
        "id": "IfOoiH79XaGc"
      },
      "source": [
        "### 교육분야2차 : 불평균 컬럼 --> 삭제 해야"
      ]
    },
    {
      "cell_type": "code",
      "execution_count": null,
      "metadata": {
        "colab": {
          "base_uri": "https://localhost:8080/",
          "height": 354
        },
        "id": "m1d6-OlUWvkQ",
        "outputId": "d501c6e2-bf34-4c37-ca52-f2fd51189920"
      },
      "outputs": [
        {
          "output_type": "stream",
          "name": "stdout",
          "text": [
            " it      15716\n",
            " 연구개발      974\n",
            "Name: 교육분야2차, dtype: int64\n"
          ]
        },
        {
          "output_type": "execute_result",
          "data": {
            "text/plain": [
              "<matplotlib.axes._subplots.AxesSubplot at 0x7f5b46a05250>"
            ]
          },
          "metadata": {},
          "execution_count": 204
        },
        {
          "output_type": "display_data",
          "data": {
            "image/png": "[encoded data removed]",
            "text/plain": [
              "<Figure size 432x288 with 1 Axes>"
            ]
          },
          "metadata": {
            "needs_background": "light"
          }
        }
      ],
      "source": [
        "print(df_IT_Q['교육분야2차'].value_counts())\n",
        "df_IT_Q['교육분야2차'].value_counts().plot.bar()"
      ]
    },
    {
      "cell_type": "markdown",
      "metadata": {
        "id": "1rj3xWGUXj7E"
      },
      "source": [
        "### 나머지 시각화"
      ]
    },
    {
      "cell_type": "code",
      "execution_count": null,
      "metadata": {
        "colab": {
          "base_uri": "https://localhost:8080/",
          "height": 412
        },
        "id": "ostU0uIxWvnX",
        "outputId": "74500c72-c40c-4380-9304-2d22ed73b72c"
      },
      "outputs": [
        {
          "output_type": "stream",
          "name": "stdout",
          "text": [
            "대리    4226\n",
            "사원    4172\n",
            "과장    3348\n",
            "차장    2473\n",
            "부장    1638\n",
            "임원     833\n",
            "Name: 호칭, dtype: int64\n"
          ]
        },
        {
          "output_type": "execute_result",
          "data": {
            "text/plain": [
              "<matplotlib.axes._subplots.AxesSubplot at 0x7f5b469f0290>"
            ]
          },
          "metadata": {},
          "execution_count": 205
        },
        {
          "output_type": "display_data",
          "data": {
            "image/png": "[encoded data removed]",
            "text/plain": [
              "<Figure size 432x288 with 1 Axes>"
            ]
          },
          "metadata": {
            "needs_background": "light"
          }
        }
      ],
      "source": [
        "print(df_IT_Q['호칭'].value_counts())\n",
        "df_IT_Q['호칭'].value_counts().plot.bar()"
      ]
    },
    {
      "cell_type": "code",
      "execution_count": null,
      "metadata": {
        "colab": {
          "base_uri": "https://localhost:8080/",
          "height": 473
        },
        "id": "Xik1A5OcWvqK",
        "outputId": "cf5f93dd-e14d-4164-fa50-441ddea0792d"
      },
      "outputs": [
        {
          "output_type": "stream",
          "name": "stdout",
          "text": [
            "제조     1898\n",
            "회계     1887\n",
            "유통     1876\n",
            "연구     1874\n",
            "IT     1855\n",
            "경영     1849\n",
            "영업     1822\n",
            "HR     1817\n",
            "마케팅    1812\n",
            "Name: 직무, dtype: int64\n"
          ]
        },
        {
          "output_type": "execute_result",
          "data": {
            "text/plain": [
              "<matplotlib.axes._subplots.AxesSubplot at 0x7f5b0d57a290>"
            ]
          },
          "metadata": {},
          "execution_count": 206
        },
        {
          "output_type": "display_data",
          "data": {
            "image/png": "[encoded data removed]",
            "text/plain": [
              "<Figure size 432x288 with 1 Axes>"
            ]
          },
          "metadata": {
            "needs_background": "light"
          }
        }
      ],
      "source": [
        "print(df_IT_Q['직무'].value_counts())\n",
        "df_IT_Q['직무'].value_counts().plot.bar()"
      ]
    },
    {
      "cell_type": "code",
      "execution_count": null,
      "metadata": {
        "colab": {
          "base_uri": "https://localhost:8080/",
          "height": 336
        },
        "id": "uyb4hn5QWvtc",
        "outputId": "ce5a1671-c70c-4004-c75b-a0932df640b7"
      },
      "outputs": [
        {
          "output_type": "stream",
          "name": "stdout",
          "text": [
            "N    10840\n",
            "Y     5850\n",
            "Name: 자격증보유여부, dtype: int64\n"
          ]
        },
        {
          "output_type": "execute_result",
          "data": {
            "text/plain": [
              "<matplotlib.axes._subplots.AxesSubplot at 0x7f5b0d5a0590>"
            ]
          },
          "metadata": {},
          "execution_count": 207
        },
        {
          "output_type": "display_data",
          "data": {
            "image/png": "[encoded data removed]",
            "text/plain": [
              "<Figure size 432x288 with 1 Axes>"
            ]
          },
          "metadata": {
            "needs_background": "light"
          }
        }
      ],
      "source": [
        "print(df_IT_Q['자격증보유여부'].value_counts())\n",
        "df_IT_Q['자격증보유여부'].value_counts().plot.bar()"
      ]
    },
    {
      "cell_type": "code",
      "execution_count": null,
      "metadata": {
        "colab": {
          "base_uri": "https://localhost:8080/",
          "height": 446
        },
        "id": "Y7sbzjGsXr-p",
        "outputId": "67fac426-3f31-4a5d-f54e-403b1237f11c"
      },
      "outputs": [
        {
          "output_type": "stream",
          "name": "stdout",
          "text": [
            "13_to_18    7524\n",
            "9_to_12     4326\n",
            "18_to_24    1824\n",
            "0_to_6      1361\n",
            "6_to_9      1145\n",
            "12_to_13     510\n",
            "Name: 학습시간대, dtype: int64\n"
          ]
        },
        {
          "output_type": "execute_result",
          "data": {
            "text/plain": [
              "<matplotlib.axes._subplots.AxesSubplot at 0x7f5b0d8227d0>"
            ]
          },
          "metadata": {},
          "execution_count": 208
        },
        {
          "output_type": "display_data",
          "data": {
            "image/png": "[encoded data removed]",
            "text/plain": [
              "<Figure size 432x288 with 1 Axes>"
            ]
          },
          "metadata": {
            "needs_background": "light"
          }
        }
      ],
      "source": [
        "print(df_IT_Q['학습시간대'].value_counts())\n",
        "df_IT_Q['학습시간대'].value_counts().plot.bar()"
      ]
    },
    {
      "cell_type": "code",
      "execution_count": null,
      "metadata": {
        "colab": {
          "base_uri": "https://localhost:8080/",
          "height": 426
        },
        "id": "ZDvXnlggXsBh",
        "outputId": "042926bc-2e52-4d00-d45c-8296bef2a40d"
      },
      "outputs": [
        {
          "output_type": "stream",
          "name": "stdout",
          "text": [
            "1    3287\n",
            "2    3181\n",
            "4    3160\n",
            "3    3065\n",
            "0    2901\n",
            "6     566\n",
            "5     530\n",
            "Name: 학습요일, dtype: int64\n"
          ]
        },
        {
          "output_type": "execute_result",
          "data": {
            "text/plain": [
              "<matplotlib.axes._subplots.AxesSubplot at 0x7f5b0d938310>"
            ]
          },
          "metadata": {},
          "execution_count": 209
        },
        {
          "output_type": "display_data",
          "data": {
            "image/png": "[encoded data removed]",
            "text/plain": [
              "<Figure size 432x288 with 1 Axes>"
            ]
          },
          "metadata": {
            "needs_background": "light"
          }
        }
      ],
      "source": [
        "print(df_IT_Q['학습요일'].value_counts())\n",
        "df_IT_Q['학습요일'].value_counts().plot.bar()"
      ]
    },
    {
      "cell_type": "code",
      "execution_count": null,
      "metadata": {
        "colab": {
          "base_uri": "https://localhost:8080/",
          "height": 287
        },
        "id": "dwUSeFegXsEa",
        "outputId": "c8524ae8-36d8-43c7-e842-bfcc7a04b338"
      },
      "outputs": [
        {
          "output_type": "execute_result",
          "data": {
            "text/plain": [
              "<matplotlib.axes._subplots.AxesSubplot at 0x7f5b0ddc7950>"
            ]
          },
          "metadata": {},
          "execution_count": 210
        },
        {
          "output_type": "display_data",
          "data": {
            "image/png": "[encoded data removed]",
            "text/plain": [
              "<Figure size 432x288 with 1 Axes>"
            ]
          },
          "metadata": {
            "needs_background": "light"
          }
        }
      ],
      "source": [
        "df_IT_Q['학습지수'].plot.box()"
      ]
    },
    {
      "cell_type": "code",
      "execution_count": null,
      "metadata": {
        "colab": {
          "base_uri": "https://localhost:8080/",
          "height": 283
        },
        "id": "7iyNxDeSXsHQ",
        "outputId": "4a675b7d-3345-407a-a0a0-f4fc14324167"
      },
      "outputs": [
        {
          "output_type": "execute_result",
          "data": {
            "text/plain": [
              "<matplotlib.axes._subplots.AxesSubplot at 0x7f5b0c887590>"
            ]
          },
          "metadata": {},
          "execution_count": 211
        },
        {
          "output_type": "display_data",
          "data": {
            "image/png": "[encoded data removed]",
            "text/plain": [
              "<Figure size 432x288 with 1 Axes>"
            ]
          },
          "metadata": {
            "needs_background": "light"
          }
        }
      ],
      "source": [
        "df_IT_Q['학습시간'].plot.box()"
      ]
    },
    {
      "cell_type": "markdown",
      "metadata": {
        "id": "7oZkdSRQG265"
      },
      "source": [
        "### 과정코드:과정명 디셔너리 만들기"
      ]
    },
    {
      "cell_type": "code",
      "execution_count": null,
      "metadata": {
        "id": "XtczZR-j9-xM"
      },
      "outputs": [],
      "source": [
        "# 과정코드:과정명 디셔너리 만들기\n",
        "과정코드_과정명_디셔너리 = {}\n",
        "for idx in df_IT_Q.index:\n",
        "  k = df_IT_Q.loc[idx, '과정코드']\n",
        "  v = df_IT_Q.loc[idx, '과정명(학습명)']\n",
        "  과정코드_과정명_디셔너리[k] = v"
      ]
    },
    {
      "cell_type": "code",
      "execution_count": null,
      "metadata": {
        "colab": {
          "base_uri": "https://localhost:8080/"
        },
        "id": "SiqJqx_99-1G",
        "outputId": "96c0ab75-9134-433a-b109-b237ca2122ab"
      },
      "outputs": [
        {
          "output_type": "execute_result",
          "data": {
            "text/plain": [
              "10"
            ]
          },
          "metadata": {},
          "execution_count": 213
        }
      ],
      "source": [
        "len(과정코드_과정명_디셔너리)"
      ]
    },
    {
      "cell_type": "markdown",
      "metadata": {
        "id": "EPi_Z3u3G7yA"
      },
      "source": [
        "### NULL 처리"
      ]
    },
    {
      "cell_type": "code",
      "execution_count": null,
      "metadata": {
        "colab": {
          "base_uri": "https://localhost:8080/"
        },
        "id": "PGxrVOEBu0uq",
        "outputId": "d7238d45-262a-4b74-8af6-0871f76e7fb1"
      },
      "outputs": [
        {
          "output_type": "execute_result",
          "data": {
            "text/plain": [
              "교육분야1차            0\n",
              "교육분야2차            0\n",
              "과정코드              0\n",
              "과정명(학습명)          0\n",
              "과정등록일(생성일)     6725\n",
              "학습시작일             0\n",
              "학습종료일             0\n",
              "사번(ID)            0\n",
              "소속부서              0\n",
              "호칭                0\n",
              "직무                0\n",
              "제작/소싱         16682\n",
              "자격증보유여부           0\n",
              "학습지수             34\n",
              "경력개월수             0\n",
              "어학점수              0\n",
              "수강횟수              0\n",
              "학습시작일_TIME        0\n",
              "학습종료일_TIME        0\n",
              "학습시간대             0\n",
              "학습요일              0\n",
              "학습요일_CONV         0\n",
              "학습요일_WEEK         0\n",
              "학습시간              0\n",
              "dtype: int64"
            ]
          },
          "metadata": {},
          "execution_count": 214
        }
      ],
      "source": [
        "df_IT_Q.isnull().sum()"
      ]
    },
    {
      "cell_type": "code",
      "execution_count": null,
      "metadata": {
        "id": "cZWcd5KC3QXy"
      },
      "outputs": [],
      "source": [
        "df_IT_Q['학습지수'] = df_IT_Q['학습지수'].fillna(method='ffill')"
      ]
    },
    {
      "cell_type": "code",
      "execution_count": null,
      "metadata": {
        "colab": {
          "base_uri": "https://localhost:8080/"
        },
        "id": "1V87c9K63Qa1",
        "outputId": "19fe2b73-5d26-473a-a097-ed388eceb24c"
      },
      "outputs": [
        {
          "output_type": "execute_result",
          "data": {
            "text/plain": [
              "교육분야1차            0\n",
              "교육분야2차            0\n",
              "과정코드              0\n",
              "과정명(학습명)          0\n",
              "과정등록일(생성일)     6725\n",
              "학습시작일             0\n",
              "학습종료일             0\n",
              "사번(ID)            0\n",
              "소속부서              0\n",
              "호칭                0\n",
              "직무                0\n",
              "제작/소싱         16682\n",
              "자격증보유여부           0\n",
              "학습지수              0\n",
              "경력개월수             0\n",
              "어학점수              0\n",
              "수강횟수              0\n",
              "학습시작일_TIME        0\n",
              "학습종료일_TIME        0\n",
              "학습시간대             0\n",
              "학습요일              0\n",
              "학습요일_CONV         0\n",
              "학습요일_WEEK         0\n",
              "학습시간              0\n",
              "dtype: int64"
            ]
          },
          "metadata": {},
          "execution_count": 216
        }
      ],
      "source": [
        "df_IT_Q.isnull().sum()"
      ]
    },
    {
      "cell_type": "code",
      "execution_count": null,
      "metadata": {
        "id": "lhOq6YoN3Qdo"
      },
      "outputs": [],
      "source": [
        "df_IT_Q.drop(['교육분야1차', '교육분야2차', '과정명(학습명)', '학습시작일', '학습종료일', '사번(ID)', '학습시작일_TIME','학습종료일_TIME' , '과정등록일(생성일)', '제작/소싱'], axis=1, inplace=True)"
      ]
    },
    {
      "cell_type": "code",
      "execution_count": null,
      "metadata": {
        "colab": {
          "base_uri": "https://localhost:8080/"
        },
        "id": "i0X8tl--73cT",
        "outputId": "f6302ba4-b773-4dbe-efcb-c19205d572f3"
      },
      "outputs": [
        {
          "output_type": "execute_result",
          "data": {
            "text/plain": [
              "과정코드         0\n",
              "소속부서         0\n",
              "호칭           0\n",
              "직무           0\n",
              "자격증보유여부      0\n",
              "학습지수         0\n",
              "경력개월수        0\n",
              "어학점수         0\n",
              "수강횟수         0\n",
              "학습시간대        0\n",
              "학습요일         0\n",
              "학습요일_CONV    0\n",
              "학습요일_WEEK    0\n",
              "학습시간         0\n",
              "dtype: int64"
            ]
          },
          "metadata": {},
          "execution_count": 218
        }
      ],
      "source": [
        "df_IT_Q.isnull().sum()"
      ]
    },
    {
      "cell_type": "code",
      "execution_count": null,
      "metadata": {
        "colab": {
          "base_uri": "https://localhost:8080/"
        },
        "id": "cQOVPcAd3QgR",
        "outputId": "35ec9b9d-805b-43d5-b72e-65aa91e68e5b"
      },
      "outputs": [
        {
          "output_type": "stream",
          "name": "stdout",
          "text": [
            "<class 'pandas.core.frame.DataFrame'>\n",
            "Int64Index: 16690 entries, 0 to 21534\n",
            "Data columns (total 14 columns):\n",
            " #   Column     Non-Null Count  Dtype  \n",
            "---  ------     --------------  -----  \n",
            " 0   과정코드       16690 non-null  object \n",
            " 1   소속부서       16690 non-null  object \n",
            " 2   호칭         16690 non-null  object \n",
            " 3   직무         16690 non-null  object \n",
            " 4   자격증보유여부    16690 non-null  object \n",
            " 5   학습지수       16690 non-null  float64\n",
            " 6   경력개월수      16690 non-null  float64\n",
            " 7   어학점수       16690 non-null  float64\n",
            " 8   수강횟수       16690 non-null  float64\n",
            " 9   학습시간대      16690 non-null  object \n",
            " 10  학습요일       16690 non-null  int64  \n",
            " 11  학습요일_CONV  16690 non-null  object \n",
            " 12  학습요일_WEEK  16690 non-null  object \n",
            " 13  학습시간       16690 non-null  float64\n",
            "dtypes: float64(5), int64(1), object(8)\n",
            "memory usage: 2.5+ MB\n"
          ]
        }
      ],
      "source": [
        "df_IT_Q.info()"
      ]
    },
    {
      "cell_type": "code",
      "execution_count": null,
      "metadata": {
        "colab": {
          "base_uri": "https://localhost:8080/"
        },
        "id": "n6f3OIdNeCB6",
        "outputId": "426a0e45-e385-4075-f0fb-8cd5182735a9"
      },
      "outputs": [
        {
          "output_type": "execute_result",
          "data": {
            "text/plain": [
              "10"
            ]
          },
          "metadata": {},
          "execution_count": 220
        }
      ],
      "source": [
        "df_IT_Q.loc[ :, '과정코드'].value_counts().count()"
      ]
    },
    {
      "cell_type": "markdown",
      "metadata": {
        "id": "Nl5Pn7Ob8-Z6"
      },
      "source": [
        "# Dummy로 만들기\n",
        "\n"
      ]
    },
    {
      "cell_type": "code",
      "execution_count": null,
      "metadata": {
        "id": "fjwDUFhp867Z"
      },
      "outputs": [],
      "source": [
        "cat_col = ['학습시간대', '소속부서', '호칭', '직무', '자격증보유여부', '학습요일_CONV', '학습요일_WEEK']\n",
        "df_IT_Q = pd.get_dummies(data=df_IT_Q, columns=cat_col, drop_first=True)"
      ]
    },
    {
      "cell_type": "code",
      "execution_count": null,
      "metadata": {
        "colab": {
          "base_uri": "https://localhost:8080/"
        },
        "id": "VNKuC9OT86-O",
        "outputId": "e0d05fc0-9a1e-4334-ca91-fa0fad8008ab"
      },
      "outputs": [
        {
          "output_type": "stream",
          "name": "stdout",
          "text": [
            "<class 'pandas.core.frame.DataFrame'>\n",
            "Int64Index: 16690 entries, 0 to 21534\n",
            "Data columns (total 40 columns):\n",
            " #   Column             Non-Null Count  Dtype  \n",
            "---  ------             --------------  -----  \n",
            " 0   과정코드               16690 non-null  object \n",
            " 1   학습지수               16690 non-null  float64\n",
            " 2   경력개월수              16690 non-null  float64\n",
            " 3   어학점수               16690 non-null  float64\n",
            " 4   수강횟수               16690 non-null  float64\n",
            " 5   학습요일               16690 non-null  int64  \n",
            " 6   학습시간               16690 non-null  float64\n",
            " 7   학습시간대_12_to_13     16690 non-null  uint8  \n",
            " 8   학습시간대_13_to_18     16690 non-null  uint8  \n",
            " 9   학습시간대_18_to_24     16690 non-null  uint8  \n",
            " 10  학습시간대_6_to_9       16690 non-null  uint8  \n",
            " 11  학습시간대_9_to_12      16690 non-null  uint8  \n",
            " 12  소속부서_강북            16690 non-null  uint8  \n",
            " 13  소속부서_강원            16690 non-null  uint8  \n",
            " 14  소속부서_기타            16690 non-null  uint8  \n",
            " 15  소속부서_대구            16690 non-null  uint8  \n",
            " 16  소속부서_부산            16690 non-null  uint8  \n",
            " 17  소속부서_전남            16690 non-null  uint8  \n",
            " 18  소속부서_충남            16690 non-null  uint8  \n",
            " 19  호칭_대리              16690 non-null  uint8  \n",
            " 20  호칭_부장              16690 non-null  uint8  \n",
            " 21  호칭_사원              16690 non-null  uint8  \n",
            " 22  호칭_임원              16690 non-null  uint8  \n",
            " 23  호칭_차장              16690 non-null  uint8  \n",
            " 24  직무_IT              16690 non-null  uint8  \n",
            " 25  직무_경영              16690 non-null  uint8  \n",
            " 26  직무_마케팅             16690 non-null  uint8  \n",
            " 27  직무_연구              16690 non-null  uint8  \n",
            " 28  직무_영업              16690 non-null  uint8  \n",
            " 29  직무_유통              16690 non-null  uint8  \n",
            " 30  직무_제조              16690 non-null  uint8  \n",
            " 31  직무_회계              16690 non-null  uint8  \n",
            " 32  자격증보유여부_Y          16690 non-null  uint8  \n",
            " 33  학습요일_CONV_목        16690 non-null  uint8  \n",
            " 34  학습요일_CONV_수        16690 non-null  uint8  \n",
            " 35  학습요일_CONV_월        16690 non-null  uint8  \n",
            " 36  학습요일_CONV_일        16690 non-null  uint8  \n",
            " 37  학습요일_CONV_토        16690 non-null  uint8  \n",
            " 38  학습요일_CONV_화        16690 non-null  uint8  \n",
            " 39  학습요일_WEEK_weekend  16690 non-null  uint8  \n",
            "dtypes: float64(5), int64(1), object(1), uint8(33)\n",
            "memory usage: 2.2+ MB\n"
          ]
        }
      ],
      "source": [
        "df_IT_Q.info()"
      ]
    },
    {
      "cell_type": "code",
      "execution_count": null,
      "metadata": {
        "colab": {
          "base_uri": "https://localhost:8080/"
        },
        "id": "luB1PA8pN7RZ",
        "outputId": "056dbb13-bc8b-44c9-9052-968f81639176"
      },
      "outputs": [
        {
          "output_type": "execute_result",
          "data": {
            "text/plain": [
              "10"
            ]
          },
          "metadata": {},
          "execution_count": 223
        }
      ],
      "source": [
        "len(df_IT_Q['과정코드'].unique())"
      ]
    },
    {
      "cell_type": "markdown",
      "metadata": {
        "id": "XxJackXtKt62"
      },
      "source": [
        "# X, y 분리"
      ]
    },
    {
      "cell_type": "code",
      "execution_count": null,
      "metadata": {
        "id": "FcefKGy-Ks2I"
      },
      "outputs": [],
      "source": [
        "X = df_IT_Q.drop('과정코드', axis=1).values\n",
        "y = df_IT_Q['과정코드'].values"
      ]
    },
    {
      "cell_type": "code",
      "execution_count": null,
      "metadata": {
        "colab": {
          "base_uri": "https://localhost:8080/"
        },
        "id": "sWERVEcVKs4_",
        "outputId": "e2954bce-72ed-42ff-de91-83a887590538"
      },
      "outputs": [
        {
          "output_type": "execute_result",
          "data": {
            "text/plain": [
              "((16690, 39), (16690,))"
            ]
          },
          "metadata": {},
          "execution_count": 225
        }
      ],
      "source": [
        "X.shape, y.shape"
      ]
    },
    {
      "cell_type": "code",
      "execution_count": null,
      "metadata": {
        "colab": {
          "base_uri": "https://localhost:8080/"
        },
        "id": "-aEkxSqqPRpY",
        "outputId": "37a91880-30ba-4260-916a-279c202f1dfa"
      },
      "outputs": [
        {
          "output_type": "execute_result",
          "data": {
            "text/plain": [
              "array(['200018440', '100008496', '200018440', '200018440'], dtype=object)"
            ]
          },
          "metadata": {},
          "execution_count": 226
        }
      ],
      "source": [
        "y[:4]"
      ]
    },
    {
      "cell_type": "markdown",
      "metadata": {
        "id": "fIMhAzvzSEJl"
      },
      "source": [
        "# 라벨 인코딩"
      ]
    },
    {
      "cell_type": "code",
      "execution_count": null,
      "metadata": {
        "id": "xO8E3y8fSDUA"
      },
      "outputs": [],
      "source": [
        "from sklearn.preprocessing import LabelEncoder"
      ]
    },
    {
      "cell_type": "code",
      "execution_count": null,
      "metadata": {
        "id": "nMAVE87XSDg0"
      },
      "outputs": [],
      "source": [
        "le = LabelEncoder()\n",
        "y = le.fit_transform(y)"
      ]
    },
    {
      "cell_type": "code",
      "execution_count": null,
      "metadata": {
        "id": "qAHGG-5dSY5C",
        "colab": {
          "base_uri": "https://localhost:8080/"
        },
        "outputId": "c2118b92-2187-46c2-c099-70de32d0b8e2"
      },
      "outputs": [
        {
          "output_type": "stream",
          "name": "stdout",
          "text": [
            "[9 0 9]\n",
            "['100008496' '100008584' '200000506' '200000515' '200000516' '200000795'\n",
            " '200000800' '200000850' '200000890' '200018440']\n"
          ]
        }
      ],
      "source": [
        "print(y[:3])\n",
        "print(le.classes_)"
      ]
    },
    {
      "cell_type": "markdown",
      "metadata": {
        "id": "5tRjiz8wLT00"
      },
      "source": [
        "# Train/Test 데이터셋 나누기"
      ]
    },
    {
      "cell_type": "code",
      "execution_count": null,
      "metadata": {
        "id": "KpPnite7LXoL"
      },
      "outputs": [],
      "source": [
        "from sklearn.model_selection import train_test_split"
      ]
    },
    {
      "cell_type": "code",
      "execution_count": null,
      "metadata": {
        "id": "tQmI356dLXug"
      },
      "outputs": [],
      "source": [
        "X_train, X_test, y_train, y_test = train_test_split(X, y, test_size=0.2, stratify=y, random_state=41)"
      ]
    },
    {
      "cell_type": "code",
      "execution_count": null,
      "metadata": {
        "id": "iAUDNkKQLXxI",
        "colab": {
          "base_uri": "https://localhost:8080/"
        },
        "outputId": "f5a1862d-6254-438b-a48d-d648b29e6e3d"
      },
      "outputs": [
        {
          "output_type": "execute_result",
          "data": {
            "text/plain": [
              "((13352, 39), (3338, 39), (13352,), (3338,))"
            ]
          },
          "metadata": {},
          "execution_count": 232
        }
      ],
      "source": [
        "X_train.shape, X_test.shape, y_train.shape, y_test.shape"
      ]
    },
    {
      "cell_type": "markdown",
      "metadata": {
        "id": "yaRazhZWLFTt"
      },
      "source": [
        "# 스케일링"
      ]
    },
    {
      "cell_type": "code",
      "execution_count": null,
      "metadata": {
        "id": "XM7UPsynLCul"
      },
      "outputs": [],
      "source": [
        "from sklearn.preprocessing import StandardScaler"
      ]
    },
    {
      "cell_type": "code",
      "execution_count": null,
      "metadata": {
        "id": "cGcJozECKs8M"
      },
      "outputs": [],
      "source": [
        "ss = StandardScaler()\n",
        "ss.fit(X_train)\n",
        "X_train = ss.transform(X_train)\n",
        "X_test = ss.transform(X_test)"
      ]
    },
    {
      "cell_type": "code",
      "execution_count": null,
      "metadata": {
        "id": "Clwa_NakKs_B",
        "colab": {
          "base_uri": "https://localhost:8080/"
        },
        "outputId": "dc237598-25fb-4fd9-8a84-886d59a93e11"
      },
      "outputs": [
        {
          "output_type": "execute_result",
          "data": {
            "text/plain": [
              "array([ 0.15519799, -0.83302805,  0.87680272,  0.32525616,  0.46896075,\n",
              "        1.16354438, -0.17664011,  1.10443826, -0.34795794, -0.27440844,\n",
              "       -0.59418886, -0.41367299, -0.01731099,  1.23161312, -0.29230157,\n",
              "       -0.23397363, -0.30801777, -0.32138561,  1.72894306, -0.3296875 ,\n",
              "       -0.5751594 , -0.22930719, -0.41961507, -0.35092648, -0.35374699,\n",
              "       -0.3514647 , -0.3574884 , -0.35213682, -0.35602114,  2.81198711,\n",
              "       -0.3550857 ,  1.36012743,  2.10998133, -0.48704492, -0.45929938,\n",
              "       -0.18675737, -0.1793274 , -0.4947986 , -0.26335846])"
            ]
          },
          "metadata": {},
          "execution_count": 235
        }
      ],
      "source": [
        "X_train[0]"
      ]
    },
    {
      "cell_type": "code",
      "execution_count": null,
      "metadata": {
        "id": "Gfg32888TGa3"
      },
      "outputs": [],
      "source": [
        "from sklearn.ensemble import RandomForestClassifier"
      ]
    },
    {
      "cell_type": "code",
      "execution_count": null,
      "metadata": {
        "id": "6IIDBRbsTGdU",
        "colab": {
          "base_uri": "https://localhost:8080/"
        },
        "outputId": "4968d534-bc9c-4e24-8960-bb453441858f"
      },
      "outputs": [
        {
          "output_type": "execute_result",
          "data": {
            "text/plain": [
              "0.6731575793888556"
            ]
          },
          "metadata": {},
          "execution_count": 237
        }
      ],
      "source": [
        "rf = RandomForestClassifier(n_estimators=500, random_state=41)\n",
        "rf.fit(X_train, y_train)\n",
        "rf.score(X_test, y_test)"
      ]
    },
    {
      "cell_type": "code",
      "execution_count": null,
      "metadata": {
        "id": "rEUs4iopTGgB"
      },
      "outputs": [],
      "source": [
        ""
      ]
    },
    {
      "cell_type": "code",
      "execution_count": null,
      "metadata": {
        "id": "OIGwKBPPTGit"
      },
      "outputs": [],
      "source": [
        ""
      ]
    },
    {
      "cell_type": "code",
      "execution_count": null,
      "metadata": {
        "id": "Qj5LXaGoTGlq"
      },
      "outputs": [],
      "source": [
        ""
      ]
    },
    {
      "cell_type": "code",
      "execution_count": null,
      "metadata": {
        "id": "PrWBYM4QTGoV"
      },
      "outputs": [],
      "source": [
        ""
      ]
    },
    {
      "cell_type": "markdown",
      "metadata": {
        "id": "A5frMTdg79h5"
      },
      "source": [
        "# IT 분야 과정명 50개중에서 추천 3개 모델링 만들기"
      ]
    },
    {
      "cell_type": "code",
      "execution_count": null,
      "metadata": {
        "id": "BaCI0RMB3Qi8"
      },
      "outputs": [],
      "source": [
        "import tensorflow as tf\n",
        "from tensorflow.keras.models import Sequential\n",
        "from tensorflow.keras.layers import Dense, Dropout\n",
        "from tensorflow.keras.callbacks import ModelCheckpoint, EarlyStopping\n",
        "from tensorflow.keras.utils import to_categorical"
      ]
    },
    {
      "cell_type": "code",
      "execution_count": null,
      "metadata": {
        "id": "GS90I4Kk3Ql5"
      },
      "outputs": [],
      "source": [
        "EPOCHS = 100\n",
        "BATCH_SIZE = 32"
      ]
    },
    {
      "cell_type": "code",
      "execution_count": null,
      "metadata": {
        "id": "r14NGup68o_a"
      },
      "outputs": [],
      "source": [
        "model = Sequential()"
      ]
    },
    {
      "cell_type": "code",
      "execution_count": null,
      "metadata": {
        "id": "7L1SRNYK8pCD"
      },
      "outputs": [],
      "source": [
        "model.add(Dense(64, activation='relu', input_shape=(X.shape[1],)))\n",
        "model.add(Dropout(0.3))\n",
        "model.add(Dense(32, activation='relu'))\n",
        "model.add(Dropout(0.3))\n",
        "model.add(Dense(50, activation='softmax'))"
      ]
    },
    {
      "cell_type": "code",
      "execution_count": null,
      "metadata": {
        "id": "5pdxjt0D8pEw",
        "colab": {
          "base_uri": "https://localhost:8080/"
        },
        "outputId": "68da0e3c-9b79-40e6-f133-f686965ce8dd"
      },
      "outputs": [
        {
          "output_type": "stream",
          "name": "stdout",
          "text": [
            "Model: \"sequential\"\n",
            "_________________________________________________________________\n",
            " Layer (type)                Output Shape              Param #   \n",
            "=================================================================\n",
            " dense (Dense)               (None, 64)                2560      \n",
            "                                                                 \n",
            " dropout (Dropout)           (None, 64)                0         \n",
            "                                                                 \n",
            " dense_1 (Dense)             (None, 32)                2080      \n",
            "                                                                 \n",
            " dropout_1 (Dropout)         (None, 32)                0         \n",
            "                                                                 \n",
            " dense_2 (Dense)             (None, 50)                1650      \n",
            "                                                                 \n",
            "=================================================================\n",
            "Total params: 6,290\n",
            "Trainable params: 6,290\n",
            "Non-trainable params: 0\n",
            "_________________________________________________________________\n"
          ]
        }
      ],
      "source": [
        "model.summary()"
      ]
    },
    {
      "cell_type": "code",
      "execution_count": null,
      "metadata": {
        "id": "xALffAbV8pHZ"
      },
      "outputs": [],
      "source": [
        "mc = ModelCheckpoint('best_model.ht5', monitor='val_loss', save_best_only=True)\n",
        "es = EarlyStopping(monitor='val_loss', patience=10, restore_best_weights=True)"
      ]
    },
    {
      "cell_type": "code",
      "execution_count": null,
      "metadata": {
        "id": "s29a1Syo8pKN"
      },
      "outputs": [],
      "source": [
        "model.compile(loss='sparse_categorical_crossentropy', optimizer='adam', metrics=['accuracy'])"
      ]
    },
    {
      "cell_type": "code",
      "execution_count": null,
      "metadata": {
        "id": "ze2qJrkv8pNQ",
        "colab": {
          "base_uri": "https://localhost:8080/"
        },
        "outputId": "492559fd-4495-40c2-96cc-7eae273808e0"
      },
      "outputs": [
        {
          "output_type": "stream",
          "name": "stdout",
          "text": [
            "Epoch 1/100\n",
            "401/418 [===========================>..] - ETA: 0s - loss: 1.7468 - accuracy: 0.6380INFO:tensorflow:Assets written to: best_model.ht5/assets\n",
            "418/418 [==============================] - 3s 6ms/step - loss: 1.7330 - accuracy: 0.6407 - val_loss: 1.3706 - val_accuracy: 0.6732\n",
            "Epoch 2/100\n",
            "417/418 [============================>.] - ETA: 0s - loss: 1.4401 - accuracy: 0.6732INFO:tensorflow:Assets written to: best_model.ht5/assets\n",
            "418/418 [==============================] - 2s 5ms/step - loss: 1.4406 - accuracy: 0.6730 - val_loss: 1.3548 - val_accuracy: 0.6732\n",
            "Epoch 3/100\n",
            "415/418 [============================>.] - ETA: 0s - loss: 1.4112 - accuracy: 0.6725INFO:tensorflow:Assets written to: best_model.ht5/assets\n",
            "418/418 [==============================] - 2s 5ms/step - loss: 1.4095 - accuracy: 0.6731 - val_loss: 1.3542 - val_accuracy: 0.6732\n",
            "Epoch 4/100\n",
            "411/418 [============================>.] - ETA: 0s - loss: 1.3882 - accuracy: 0.6731INFO:tensorflow:Assets written to: best_model.ht5/assets\n",
            "418/418 [==============================] - 2s 5ms/step - loss: 1.3882 - accuracy: 0.6731 - val_loss: 1.3496 - val_accuracy: 0.6732\n",
            "Epoch 5/100\n",
            "406/418 [============================>.] - ETA: 0s - loss: 1.3816 - accuracy: 0.6735INFO:tensorflow:Assets written to: best_model.ht5/assets\n",
            "418/418 [==============================] - 2s 5ms/step - loss: 1.3824 - accuracy: 0.6731 - val_loss: 1.3486 - val_accuracy: 0.6732\n",
            "Epoch 6/100\n",
            "399/418 [===========================>..] - ETA: 0s - loss: 1.3691 - accuracy: 0.6731INFO:tensorflow:Assets written to: best_model.ht5/assets\n",
            "418/418 [==============================] - 2s 5ms/step - loss: 1.3686 - accuracy: 0.6731 - val_loss: 1.3474 - val_accuracy: 0.6732\n",
            "Epoch 7/100\n",
            "418/418 [==============================] - 1s 3ms/step - loss: 1.3664 - accuracy: 0.6731 - val_loss: 1.3501 - val_accuracy: 0.6732\n",
            "Epoch 8/100\n",
            "418/418 [==============================] - 1s 3ms/step - loss: 1.3595 - accuracy: 0.6731 - val_loss: 1.3481 - val_accuracy: 0.6732\n",
            "Epoch 9/100\n",
            "418/418 [==============================] - 1s 3ms/step - loss: 1.3612 - accuracy: 0.6731 - val_loss: 1.3476 - val_accuracy: 0.6732\n",
            "Epoch 10/100\n",
            "418/418 [==============================] - 1s 3ms/step - loss: 1.3552 - accuracy: 0.6731 - val_loss: 1.3485 - val_accuracy: 0.6732\n",
            "Epoch 11/100\n",
            "418/418 [==============================] - 1s 2ms/step - loss: 1.3529 - accuracy: 0.6731 - val_loss: 1.3480 - val_accuracy: 0.6732\n",
            "Epoch 12/100\n",
            "418/418 [==============================] - 1s 2ms/step - loss: 1.3514 - accuracy: 0.6731 - val_loss: 1.3484 - val_accuracy: 0.6732\n",
            "Epoch 13/100\n",
            "418/418 [==============================] - 1s 3ms/step - loss: 1.3503 - accuracy: 0.6731 - val_loss: 1.3506 - val_accuracy: 0.6732\n",
            "Epoch 14/100\n",
            "418/418 [==============================] - 1s 3ms/step - loss: 1.3447 - accuracy: 0.6731 - val_loss: 1.3479 - val_accuracy: 0.6732\n",
            "Epoch 15/100\n",
            "418/418 [==============================] - 1s 3ms/step - loss: 1.3456 - accuracy: 0.6731 - val_loss: 1.3497 - val_accuracy: 0.6732\n",
            "Epoch 16/100\n",
            "418/418 [==============================] - 1s 3ms/step - loss: 1.3456 - accuracy: 0.6731 - val_loss: 1.3476 - val_accuracy: 0.6732\n"
          ]
        }
      ],
      "source": [
        "history = model.fit(X_train, y_train, epochs=EPOCHS, batch_size=BATCH_SIZE, validation_data=(X_test, y_test), callbacks=[mc, es])"
      ]
    },
    {
      "cell_type": "code",
      "execution_count": null,
      "metadata": {
        "id": "D-9I2dcu3Qof"
      },
      "outputs": [],
      "source": [
        ""
      ]
    },
    {
      "cell_type": "code",
      "execution_count": null,
      "metadata": {
        "id": "0MwZZel53Qrh"
      },
      "outputs": [],
      "source": [
        ""
      ]
    }
  ],
  "metadata": {
    "colab": {
      "collapsed_sections": [],
      "name": "Online_study.ipynb",
      "provenance": []
    },
    "kernelspec": {
      "display_name": "Python 3",
      "name": "python3"
    },
    "language_info": {
      "name": "python"
    }
  },
  "nbformat": 4,
  "nbformat_minor": 0
}