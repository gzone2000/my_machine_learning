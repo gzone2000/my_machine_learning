{
 "cells": [
  {
   "cell_type": "code",
   "execution_count": 8,
   "metadata": {},
   "outputs": [
    {
     "name": "stdout",
     "output_type": "stream",
     "text": [
      "*y: [0.         0.90583808 0.28525552 1.        ]\n"
     ]
    }
   ],
   "source": [
    "import numpy as np \n",
    "def normalize(x):\n",
    "    current_min = np.min(x)\n",
    "    current_max = np.max(x)\n",
    "    x_normed = (x - current_min) / (current_max - current_min)\n",
    "    return x_normed\n",
    "x = [0.08614175, 0.34120742, 0.16646393, 0.36772151]\n",
    "y = normalize(x)\n",
    "print(\"*y:\", y)"
   ]
  },
  {
   "cell_type": "code",
   "execution_count": 4,
   "metadata": {},
   "outputs": [
    {
     "name": "stdout",
     "output_type": "stream",
     "text": [
      "*y: [-0.13078506  0.08549066 -0.06267814  0.10797253]\n"
     ]
    }
   ],
   "source": [
    "import numpy as np \n",
    "def normalize(x):\n",
    "    current_mean = np.mean(x)\n",
    "    current_std = np.std(x)\n",
    "    x_normed = (x - current_mean) / current_std\n",
    "    return x_normed/10\n",
    "x = [0.08614175, 0.34120742, 0.16646393, 0.36772151]\n",
    "y = normalize(x)\n",
    "print(\"*y:\", y)"
   ]
  },
  {
   "cell_type": "code",
   "execution_count": 69,
   "metadata": {},
   "outputs": [
    {
     "data": {
      "text/plain": [
       "Text(0.5, 1.0, 'glorot_uniform')"
      ]
     },
     "execution_count": 69,
     "metadata": {},
     "output_type": "execute_result"
    },
    {
     "data": {
      "image/png": "[encoded data removed]",
      "text/plain": [
       "<Figure size 720x360 with 2 Axes>"
      ]
     },
     "metadata": {
      "needs_background": "light"
     },
     "output_type": "display_data"
    }
   ],
   "source": [
    "import tensorflow.keras.initializers as init\n",
    "\n",
    "guniform = init.glorot_uniform()\n",
    "guniform_data = guniform((200,))\n",
    "n_guniform = guniform_data.numpy()\n",
    "\n",
    "gnormal = init.glorot_normal()\n",
    "gnormal_data = gnormal((200,))\n",
    "n_gnormal = gnormal_data.numpy()\n",
    "\n",
    "plt.figure(figsize=(10,5))\n",
    "plt.subplot(221)\n",
    "plt.hist(n_gnormal, color=\"orange\")\n",
    "plt.title(\"glorot_normal\")\n",
    "plt.subplot(222)\n",
    "plt.hist(n_guniform, color=\"blue\")\n",
    "plt.title(\"glorot_uniform\")"
   ]
  },
  {
   "cell_type": "code",
   "execution_count": 85,
   "metadata": {},
   "outputs": [
    {
     "data": {
      "text/plain": [
       "Text(0.5, 1.0, 'Uniform')"
      ]
     },
     "execution_count": 85,
     "metadata": {},
     "output_type": "execute_result"
    },
    {
     "data": {
      "image/png": "[encoded data removed]",
      "text/plain": [
       "<Figure size 720x360 with 2 Axes>"
      ]
     },
     "metadata": {
      "needs_background": "light"
     },
     "output_type": "display_data"
    }
   ],
   "source": [
    "import tensorflow.keras.initializers as init\n",
    "\n",
    "runiform = init.RandomUniform()\n",
    "runiform_data = runiform((10000,))\n",
    "n_runiform = runiform_data.numpy()\n",
    "\n",
    "rnormal = init.RandomNormal()\n",
    "rnormal_data = rnormal((10000,))\n",
    "n_rnormal = rnormal_data.numpy()\n",
    "\n",
    "plt.figure(figsize=(10,5))\n",
    "plt.subplot(221)\n",
    "plt.hist(n_rnormal, color=\"orange\")\n",
    "plt.title(\"Normal\")\n",
    "plt.subplot(222)\n",
    "plt.hist(n_runiform, color=\"blue\")\n",
    "plt.title(\"Uniform\")"
   ]
  },
  {
   "cell_type": "code",
   "execution_count": 71,
   "metadata": {},
   "outputs": [
    {
     "data": {
      "text/plain": [
       "Text(0.5, 1.0, 'RandomUniform')"
      ]
     },
     "execution_count": 71,
     "metadata": {},
     "output_type": "execute_result"
    },
    {
     "data": {
      "image/png": "[encoded data removed]",
      "text/plain": [
       "<Figure size 720x360 with 2 Axes>"
      ]
     },
     "metadata": {
      "needs_background": "light"
     },
     "output_type": "display_data"
    }
   ],
   "source": [
    "import tensorflow.keras.initializers as init\n",
    "\n",
    "huniform = init.he_uniform()\n",
    "huniform_data = huniform((200,))\n",
    "n_huniform = huniform_data.numpy()\n",
    "\n",
    "hnormal = init.he_normal()\n",
    "hnormal_data = hnormal((200,))\n",
    "n_hnormal = hnormal_data.numpy()\n",
    "\n",
    "plt.figure(figsize=(10,5))\n",
    "plt.subplot(221)\n",
    "plt.hist(n_hnormal, color=\"orange\")\n",
    "plt.title(\"RandomNormal\")\n",
    "plt.subplot(222)\n",
    "plt.hist(n_huniform, color=\"blue\")\n",
    "plt.title(\"RandomUniform\")"
   ]
  },
  {
   "cell_type": "code",
   "execution_count": null,
   "metadata": {},
   "outputs": [],
   "source": []
  }
 ],
 "metadata": {
  "kernelspec": {
   "display_name": "Python 3",
   "language": "python",
   "name": "python3"
  },
  "language_info": {
   "codemirror_mode": {
    "name": "ipython",
    "version": 3
   },
   "file_extension": ".py",
   "mimetype": "text/x-python",
   "name": "python",
   "nbconvert_exporter": "python",
   "pygments_lexer": "ipython3",
   "version": "3.7.7"
  }
 },
 "nbformat": 4,
 "nbformat_minor": 4
}
