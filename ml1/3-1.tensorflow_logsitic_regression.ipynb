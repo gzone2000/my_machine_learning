{
 "cells": [
  {
   "cell_type": "code",
   "execution_count": 29,
   "metadata": {},
   "outputs": [],
   "source": [
    "import tensorflow as tf\n",
    "import numpy as np\n",
    "import matplotlib.pyplot as plt"
   ]
  },
  {
   "cell_type": "code",
   "execution_count": 30,
   "metadata": {},
   "outputs": [],
   "source": [
    "# ======== 파라미터 ========\n",
    "training_steps = 22000\n",
    "display_step = 1000"
   ]
  },
  {
   "cell_type": "code",
   "execution_count": 31,
   "metadata": {},
   "outputs": [
    {
     "name": "stdout",
     "output_type": "stream",
     "text": [
      "[[54.]\n",
      " [ 8.]\n",
      " [30.]\n",
      " [24.]\n",
      " [46.]\n",
      " [12.]\n",
      " [20.]\n",
      " [37.]\n",
      " [40.]\n",
      " [48.]]\n",
      "[[1.]\n",
      " [0.]\n",
      " [1.]\n",
      " [0.]\n",
      " [1.]\n",
      " [0.]\n",
      " [0.]\n",
      " [1.]\n",
      " [1.]\n",
      " [1.]]\n"
     ]
    }
   ],
   "source": [
    "# ======== 학습데이터 ========\n",
    "xy = np.loadtxt('logistic_data.txt', unpack=True, dtype='float32')\n",
    "\n",
    "# 학습시간\n",
    "x_data = xy[0:-1]\n",
    "\n",
    "# 기술이민 (PASS: 1 , FAIL: 0)\n",
    "y_data = xy[-1]\n",
    "\n",
    "#  배열 위치 변환\n",
    "X = x_data[:].T\n",
    "print(X)\n",
    "Y = y_data.reshape(-1,1)\n",
    "print(Y)"
   ]
  },
  {
   "cell_type": "code",
   "execution_count": 32,
   "metadata": {},
   "outputs": [
    {
     "data": {
      "text/plain": [
       "<tf.Variable 'Variable:0' shape=() dtype=float32, numpy=0.1>"
      ]
     },
     "execution_count": 32,
     "metadata": {},
     "output_type": "execute_result"
    }
   ],
   "source": [
    "# ======== W, B 초기값 설정 =========\n",
    "#W1 = tf.Variable(np.random.randn(), name=\"weight\")\n",
    "#W2 = tf.Variable(np.random.randn(), name=\"weight\")\n",
    "#b = tf.Variable(np.random.randn(), name=\"bias\")\n",
    "W = tf.Variable(0.1)\n",
    "b = tf.Variable(1.0)\n",
    "W"
   ]
  },
  {
   "cell_type": "code",
   "execution_count": 33,
   "metadata": {},
   "outputs": [
    {
     "data": {
      "text/plain": [
       "array([[54.],\n",
       "       [ 8.],\n",
       "       [30.],\n",
       "       [24.],\n",
       "       [46.],\n",
       "       [12.],\n",
       "       [20.],\n",
       "       [37.],\n",
       "       [40.],\n",
       "       [48.]], dtype=float32)"
      ]
     },
     "execution_count": 33,
     "metadata": {},
     "output_type": "execute_result"
    }
   ],
   "source": [
    "X"
   ]
  },
  {
   "cell_type": "code",
   "execution_count": 34,
   "metadata": {},
   "outputs": [
    {
     "data": {
      "text/plain": [
       "<tf.Variable 'Variable:0' shape=() dtype=float32, numpy=0.1>"
      ]
     },
     "execution_count": 34,
     "metadata": {},
     "output_type": "execute_result"
    }
   ],
   "source": [
    "W"
   ]
  },
  {
   "cell_type": "code",
   "execution_count": 35,
   "metadata": {},
   "outputs": [
    {
     "data": {
      "text/plain": [
       "<tf.Tensor: shape=(10, 1), dtype=float32, numpy=\n",
       "array([[6.4],\n",
       "       [1.8],\n",
       "       [4. ],\n",
       "       [3.4],\n",
       "       [5.6],\n",
       "       [2.2],\n",
       "       [3. ],\n",
       "       [4.7],\n",
       "       [5. ],\n",
       "       [5.8]], dtype=float32)>"
      ]
     },
     "execution_count": 35,
     "metadata": {},
     "output_type": "execute_result"
    }
   ],
   "source": [
    "W * X + b"
   ]
  },
  {
   "cell_type": "code",
   "execution_count": 36,
   "metadata": {},
   "outputs": [],
   "source": [
    "h = W * X + b"
   ]
  },
  {
   "cell_type": "code",
   "execution_count": 37,
   "metadata": {},
   "outputs": [],
   "source": [
    "hypothesis = tf.divide(1., 1. + tf.exp(-h))"
   ]
  },
  {
   "cell_type": "code",
   "execution_count": null,
   "metadata": {},
   "outputs": [],
   "source": []
  },
  {
   "cell_type": "code",
   "execution_count": 38,
   "metadata": {},
   "outputs": [],
   "source": [
    "# ======== logistic Regression 에서 학습될 가설 ========\n",
    "# logistic regression : sigmoid 함수\n",
    "def logistic_regression(X):\n",
    "    h = W * X + b\n",
    "    return tf.divide(1., 1. + tf.exp(-h))"
   ]
  },
  {
   "cell_type": "code",
   "execution_count": 39,
   "metadata": {},
   "outputs": [],
   "source": [
    "# ======== logistic Regression 에서 학습될 가설의 Cost Function ========\n",
    "def cost_function(y_pred, y_true):\n",
    "    return -tf.reduce_mean(y_true * tf.math.log(y_pred) + (1 - y_true) * tf.math.log(1 - y_pred))"
   ]
  },
  {
   "cell_type": "code",
   "execution_count": 40,
   "metadata": {},
   "outputs": [],
   "source": [
    "# ======== Gradient Descent Algorithm 에서 Step ========\n",
    "learning_rate = 0.0006"
   ]
  },
  {
   "cell_type": "code",
   "execution_count": 41,
   "metadata": {},
   "outputs": [],
   "source": [
    "# ======== 텐서플로우에 내장된 GradientDescentOptimizer ========\n",
    "# Stochastic Gradient Descent Optimizer.\n",
    "optimizer = tf.optimizers.SGD(learning_rate)"
   ]
  },
  {
   "cell_type": "code",
   "execution_count": 42,
   "metadata": {},
   "outputs": [],
   "source": [
    "# ======== GradientDescentOptimizer ========\n",
    "# Optimization process. \n",
    "def run_optimization():\n",
    "    # Wrap computation inside a GradientTape for automatic differentiation. : 자동 미분\n",
    "    with tf.GradientTape() as g:\n",
    "        pred = logistic_regression(X)\n",
    "        cost = cost_function(pred, Y)\n",
    "\n",
    "    # Compute gradients.\n",
    "    # gradients = g.gradient(cost, [W, b])\n",
    "    \n",
    "    # Update W and b following gradients.\n",
    "    # optimizer.apply_gradients(zip(gradients, [W, b]))\n",
    "    \n",
    "    weight, bias = g.gradient(cost, [W, b])\n",
    "    #print(\"1. Weight: \" ,weight)\n",
    "    #print(\"2. Bais: \" ,bias)\n",
    "\n",
    "    W.assign_sub(learning_rate * weight)\n",
    "    b.assign_sub(learning_rate * bias)"
   ]
  },
  {
   "cell_type": "code",
   "execution_count": 47,
   "metadata": {},
   "outputs": [
    {
     "name": "stdout",
     "output_type": "stream",
     "text": [
      "step: 1000, cost: 0.681599, W: 0.012962, b: 0.885873\n",
      "step: 2000, cost: 0.661680, W: 0.015877, b: 0.776591\n",
      "step: 3000, cost: 0.642550, W: 0.018755, b: 0.669494\n",
      "step: 4000, cost: 0.624193, W: 0.021593, b: 0.564587\n",
      "step: 5000, cost: 0.606594, W: 0.024391, b: 0.461866\n",
      "step: 6000, cost: 0.589733, W: 0.027148, b: 0.361323\n",
      "step: 7000, cost: 0.573589, W: 0.029864, b: 0.262943\n",
      "step: 8000, cost: 0.558141, W: 0.032537, b: 0.166707\n",
      "step: 9000, cost: 0.543365, W: 0.035168, b: 0.072589\n",
      "step: 10000, cost: 0.529238, W: 0.037756, b: -0.019441\n",
      "step: 11000, cost: 0.515735, W: 0.040300, b: -0.109414\n",
      "step: 12000, cost: 0.502830, W: 0.042802, b: -0.197369\n",
      "step: 13000, cost: 0.490500, W: 0.045261, b: -0.283344\n",
      "step: 14000, cost: 0.478719, W: 0.047677, b: -0.367384\n",
      "step: 15000, cost: 0.467463, W: 0.050051, b: -0.449530\n",
      "step: 16000, cost: 0.456706, W: 0.052382, b: -0.529830\n",
      "step: 17000, cost: 0.446427, W: 0.054673, b: -0.608331\n",
      "step: 18000, cost: 0.436601, W: 0.056922, b: -0.685080\n",
      "step: 19000, cost: 0.427206, W: 0.059131, b: -0.760125\n",
      "step: 20000, cost: 0.418221, W: 0.061300, b: -0.833515\n",
      "step: 21000, cost: 0.409625, W: 0.063430, b: -0.905299\n",
      "step: 22000, cost: 0.401398, W: 0.065522, b: -0.975523\n"
     ]
    }
   ],
   "source": [
    "# Run training for the given number of steps.\n",
    "for step in range(1, training_steps + 1):\n",
    "    # Run the optimization to update W and b values.\n",
    "    run_optimization()\n",
    "    \n",
    "    if step % display_step == 0:\n",
    "        pred = logistic_regression(X)\n",
    "        cost = cost_function(pred, Y)\n",
    "        print(\"step: %i, cost: %f, W: %f, b: %f\" % (step, cost, W.numpy(), b.numpy()))\n",
    "        #print(\"예측값 : {}\".format(pred.numpy()))\n",
    "        \n",
    "        '''\n",
    "        print(\"cost type: {}\".format(type(cost)))\n",
    "        print(\"W type: {}\".format(type(W)))\n",
    "        print(\"b type: {}\".format(type(b)))\n",
    "        print(\"pred type: {}\".format(type(pred)))\n",
    "        '''"
   ]
  },
  {
   "cell_type": "code",
   "execution_count": 53,
   "metadata": {},
   "outputs": [
    {
     "name": "stdout",
     "output_type": "stream",
     "text": [
      "10 시간 학습: 기술이민 : False \n"
     ]
    }
   ],
   "source": [
    "# ======== 학습된 우리의 프로그램에 예측 문의 ========\n",
    "study = 10\n",
    "\n",
    "# 10  학습 시간일 경우 기술이면 성공 실패 여부\n",
    "print (\"%i 시간 학습: 기술이민 : %r \" % (study, logistic_regression(study).numpy() > 0.5))"
   ]
  },
  {
   "cell_type": "code",
   "execution_count": 52,
   "metadata": {},
   "outputs": [
    {
     "data": {
      "image/png": "[encoded data removed]",
      "text/plain": [
       "<Figure size 432x288 with 1 Axes>"
      ]
     },
     "metadata": {
      "needs_background": "light"
     },
     "output_type": "display_data"
    }
   ],
   "source": [
    "# ======== 학습된 최적의 그래프 그리기 ========\n",
    "# Graphic display\n",
    "plt.plot(X, Y, 'ro', label='Original data')\n",
    "plt.plot(X, np.array(W * X + b), label='Fitted line')\n",
    "plt.ylim(0,1)\n",
    "plt.legend()\n",
    "plt.show()"
   ]
  },
  {
   "cell_type": "code",
   "execution_count": null,
   "metadata": {},
   "outputs": [],
   "source": [
    "tf.math.log_sigmoid"
   ]
  }
 ],
 "metadata": {
  "kernelspec": {
   "display_name": "Python 3",
   "language": "python",
   "name": "python3"
  },
  "language_info": {
   "codemirror_mode": {
    "name": "ipython",
    "version": 3
   },
   "file_extension": ".py",
   "mimetype": "text/x-python",
   "name": "python",
   "nbconvert_exporter": "python",
   "pygments_lexer": "ipython3",
   "version": "3.7.6"
  }
 },
 "nbformat": 4,
 "nbformat_minor": 4
}
