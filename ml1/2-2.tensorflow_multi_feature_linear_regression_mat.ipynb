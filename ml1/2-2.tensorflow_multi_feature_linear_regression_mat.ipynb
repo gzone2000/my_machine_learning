{
 "cells": [
  {
   "cell_type": "code",
   "execution_count": 1,
   "metadata": {},
   "outputs": [],
   "source": [
    "import tensorflow as tf\n",
    "import numpy as np\n",
    "import matplotlib.pyplot as plt"
   ]
  },
  {
   "cell_type": "code",
   "execution_count": 2,
   "metadata": {},
   "outputs": [],
   "source": [
    "# ======== 파라미터 ========\n",
    "training_steps = 22000\n",
    "display_step = 1000"
   ]
  },
  {
   "cell_type": "code",
   "execution_count": 3,
   "metadata": {},
   "outputs": [
    {
     "name": "stdout",
     "output_type": "stream",
     "text": [
      "[[54. 12.]\n",
      " [ 8.  0.]\n",
      " [30. 12.]\n",
      " [24. 15.]\n",
      " [46. 12.]\n",
      " [12.  0.]\n",
      " [20. 36.]\n",
      " [37. 12.]\n",
      " [40. 12.]\n",
      " [48. 24.]]\n",
      "[[800.]\n",
      " [320.]\n",
      " [600.]\n",
      " [630.]\n",
      " [700.]\n",
      " [680.]\n",
      " [730.]\n",
      " [720.]\n",
      " [700.]\n",
      " [920.]]\n"
     ]
    }
   ],
   "source": [
    "# ======== 학습데이터 ========\n",
    "# 학습시간, 해외거주\n",
    "x_data = np.array( [\n",
    "    [54, 8, 30, 24, 46, 12, 20, 37, 40, 48],  # 학습시간\n",
    "    [12, 0, 12, 15, 12, 0, 36, 12, 12, 24]  # 해외거주\n",
    "], dtype=np.float32)\n",
    "\n",
    "# 토익점수\n",
    "y_data = np.array([800, 320, 600, 630, 700, 680, 730, 720, 700, 920], dtype=np.float32)\n",
    "\n",
    "#  배열 위치 변환\n",
    "X = x_data[:].T\n",
    "print(X)\n",
    "Y = y_data.reshape(-1,1)\n",
    "print(Y)"
   ]
  },
  {
   "cell_type": "code",
   "execution_count": 4,
   "metadata": {},
   "outputs": [
    {
     "data": {
      "text/plain": [
       "<tf.Variable 'Variable:0' shape=(2, 1) dtype=float32, numpy=\n",
       "array([[0.1],\n",
       "       [0.1]], dtype=float32)>"
      ]
     },
     "execution_count": 4,
     "metadata": {},
     "output_type": "execute_result"
    }
   ],
   "source": [
    "# ======== W, B 초기값 설정 =========\n",
    "#W = tf.Variable(tf.random.normal((2,1)))\n",
    "#b = tf.Variable(np.random.randn(), name=\"bias\")\n",
    "W = tf.Variable(np.array([[0.1],[0.1]], dtype=np.float32))\n",
    "b = tf.Variable(1.0)\n",
    "W"
   ]
  },
  {
   "cell_type": "code",
   "execution_count": 5,
   "metadata": {},
   "outputs": [
    {
     "data": {
      "text/plain": [
       "array([[54., 12.],\n",
       "       [ 8.,  0.],\n",
       "       [30., 12.],\n",
       "       [24., 15.],\n",
       "       [46., 12.],\n",
       "       [12.,  0.],\n",
       "       [20., 36.],\n",
       "       [37., 12.],\n",
       "       [40., 12.],\n",
       "       [48., 24.]], dtype=float32)"
      ]
     },
     "execution_count": 5,
     "metadata": {},
     "output_type": "execute_result"
    }
   ],
   "source": [
    "X"
   ]
  },
  {
   "cell_type": "code",
   "execution_count": 6,
   "metadata": {},
   "outputs": [
    {
     "data": {
      "text/plain": [
       "<tf.Variable 'Variable:0' shape=(2, 1) dtype=float32, numpy=\n",
       "array([[0.1],\n",
       "       [0.1]], dtype=float32)>"
      ]
     },
     "execution_count": 6,
     "metadata": {},
     "output_type": "execute_result"
    }
   ],
   "source": [
    "W"
   ]
  },
  {
   "cell_type": "code",
   "execution_count": 7,
   "metadata": {},
   "outputs": [
    {
     "data": {
      "text/plain": [
       "<tf.Tensor: shape=(10, 1), dtype=float32, numpy=\n",
       "array([[7.6000004],\n",
       "       [1.8      ],\n",
       "       [5.2      ],\n",
       "       [4.9      ],\n",
       "       [6.8      ],\n",
       "       [2.2      ],\n",
       "       [6.6000004],\n",
       "       [5.9      ],\n",
       "       [6.2      ],\n",
       "       [8.200001 ]], dtype=float32)>"
      ]
     },
     "execution_count": 7,
     "metadata": {},
     "output_type": "execute_result"
    }
   ],
   "source": [
    "tf.matmul(X, W) + b"
   ]
  },
  {
   "cell_type": "code",
   "execution_count": 8,
   "metadata": {},
   "outputs": [],
   "source": [
    "pred1 = tf.matmul(X, W) + b"
   ]
  },
  {
   "cell_type": "code",
   "execution_count": 9,
   "metadata": {},
   "outputs": [
    {
     "data": {
      "text/plain": [
       "<tf.Tensor: shape=(10, 1), dtype=float32, numpy=\n",
       "array([[7.6000004],\n",
       "       [1.8      ],\n",
       "       [5.2      ],\n",
       "       [4.9      ],\n",
       "       [6.8      ],\n",
       "       [2.2      ],\n",
       "       [6.6000004],\n",
       "       [5.9      ],\n",
       "       [6.2      ],\n",
       "       [8.200001 ]], dtype=float32)>"
      ]
     },
     "execution_count": 9,
     "metadata": {},
     "output_type": "execute_result"
    }
   ],
   "source": [
    "pred1"
   ]
  },
  {
   "cell_type": "code",
   "execution_count": 10,
   "metadata": {},
   "outputs": [
    {
     "data": {
      "text/plain": [
       "array([[800.],\n",
       "       [320.],\n",
       "       [600.],\n",
       "       [630.],\n",
       "       [700.],\n",
       "       [680.],\n",
       "       [730.],\n",
       "       [720.],\n",
       "       [700.],\n",
       "       [920.]], dtype=float32)"
      ]
     },
     "execution_count": 10,
     "metadata": {},
     "output_type": "execute_result"
    }
   ],
   "source": [
    "Y"
   ]
  },
  {
   "cell_type": "code",
   "execution_count": 11,
   "metadata": {},
   "outputs": [
    {
     "data": {
      "text/plain": [
       "<tf.Tensor: shape=(10, 1), dtype=float32, numpy=\n",
       "array([[-792.4],\n",
       "       [-318.2],\n",
       "       [-594.8],\n",
       "       [-625.1],\n",
       "       [-693.2],\n",
       "       [-677.8],\n",
       "       [-723.4],\n",
       "       [-714.1],\n",
       "       [-693.8],\n",
       "       [-911.8]], dtype=float32)>"
      ]
     },
     "execution_count": 11,
     "metadata": {},
     "output_type": "execute_result"
    }
   ],
   "source": [
    "pred1 - Y"
   ]
  },
  {
   "cell_type": "code",
   "execution_count": 12,
   "metadata": {},
   "outputs": [
    {
     "data": {
      "text/plain": [
       "<tf.Tensor: shape=(), dtype=float32, numpy=475960.9>"
      ]
     },
     "execution_count": 12,
     "metadata": {},
     "output_type": "execute_result"
    }
   ],
   "source": [
    "tf.reduce_mean(tf.square(pred1 - Y)) "
   ]
  },
  {
   "cell_type": "code",
   "execution_count": 13,
   "metadata": {},
   "outputs": [],
   "source": [
    "cost1 = tf.reduce_mean(tf.square(pred1 - Y)) "
   ]
  },
  {
   "cell_type": "code",
   "execution_count": 14,
   "metadata": {},
   "outputs": [
    {
     "data": {
      "text/plain": [
       "<tf.Tensor: shape=(), dtype=float32, numpy=475960.9>"
      ]
     },
     "execution_count": 14,
     "metadata": {},
     "output_type": "execute_result"
    }
   ],
   "source": [
    "cost1"
   ]
  },
  {
   "cell_type": "code",
   "execution_count": null,
   "metadata": {},
   "outputs": [],
   "source": []
  },
  {
   "cell_type": "code",
   "execution_count": 15,
   "metadata": {},
   "outputs": [],
   "source": [
    "# ======== Multiple Linear Regression 에서 학습될 가설 ========\n",
    "# Linear regression (Wx + b).\n",
    "def linear_regression(X):\n",
    "    return tf.matmul(X, W) + b"
   ]
  },
  {
   "cell_type": "code",
   "execution_count": null,
   "metadata": {},
   "outputs": [],
   "source": []
  },
  {
   "cell_type": "code",
   "execution_count": 16,
   "metadata": {},
   "outputs": [],
   "source": [
    "# ======== Multiple Linear Regression 에서 학습될 가설의 Cost Function ========\n",
    "# Mean square error.\n",
    "def mean_square(y_pred, y_true):\n",
    "    return tf.reduce_mean(tf.square(y_pred - y_true)) "
   ]
  },
  {
   "cell_type": "code",
   "execution_count": 17,
   "metadata": {},
   "outputs": [],
   "source": [
    "# ======== Gradient Descent Algorithm 에서 Step ========\n",
    "learning_rate = 0.0006"
   ]
  },
  {
   "cell_type": "code",
   "execution_count": 18,
   "metadata": {},
   "outputs": [],
   "source": [
    "# ======== 텐서플로우에 내장된 GradientDescentOptimizer ========\n",
    "# Stochastic Gradient Descent Optimizer.\n",
    "optimizer = tf.optimizers.SGD(learning_rate)"
   ]
  },
  {
   "cell_type": "code",
   "execution_count": 19,
   "metadata": {},
   "outputs": [],
   "source": [
    "# ======== GradientDescentOptimizer ========\n",
    "# Optimization process. \n",
    "def run_optimization():\n",
    "    # Wrap computation inside a GradientTape for automatic differentiation. : 자동 미분\n",
    "    with tf.GradientTape() as g:\n",
    "        pred = linear_regression(X)\n",
    "        cost = mean_square(pred, Y)\n",
    "\n",
    "    # Compute gradients.\n",
    "    # gradients = g.gradient(cost, [W, b])\n",
    "    \n",
    "    # Update W and b following gradients.\n",
    "    # optimizer.apply_gradients(zip(gradients, [W, b]))\n",
    "    \n",
    "    weight, bias = g.gradient(cost, [W, b])\n",
    "    #print(\"1. Weight: \" ,weight)\n",
    "    #print(\"2. Bais: \" ,bias)\n",
    "    \n",
    "    W.assign_sub(learning_rate * weight)\n",
    "    b.assign_sub(learning_rate * bias)"
   ]
  },
  {
   "cell_type": "code",
   "execution_count": 20,
   "metadata": {},
   "outputs": [
    {
     "name": "stdout",
     "output_type": "stream",
     "text": [
      "step: 1000, cost: 25434.839844, W1: 12.987769, W2: 10.282816, b: 72.890022\n",
      "step: 2000, cost: 19626.621094, W1: 11.768386, W2: 9.499773, b: 131.817352\n",
      "step: 3000, cost: 15675.356445, W1: 10.762645, W2: 8.853922, b: 180.420380\n",
      "step: 4000, cost: 12987.370117, W1: 9.933115, W2: 8.321228, b: 220.507812\n",
      "step: 5000, cost: 11158.762695, W1: 9.248921, W2: 7.881864, b: 253.571823\n",
      "step: 6000, cost: 9914.785156, W1: 8.684603, W2: 7.519478, b: 280.842834\n",
      "step: 7000, cost: 9068.521484, W1: 8.219154, W2: 7.220584, b: 303.335876\n",
      "step: 8000, cost: 8492.819336, W1: 7.835254, W2: 6.974057, b: 321.888062\n",
      "step: 9000, cost: 8101.177246, W1: 7.518616, W2: 6.770725, b: 337.189697\n",
      "step: 10000, cost: 7834.747070, W1: 7.257454, W2: 6.603015, b: 349.810577\n",
      "step: 11000, cost: 7653.497559, W1: 7.042048, W2: 6.464690, b: 360.220123\n",
      "step: 12000, cost: 7530.196777, W1: 6.864385, W2: 6.350600, b: 368.805817\n",
      "step: 13000, cost: 7446.317383, W1: 6.717846, W2: 6.256498, b: 375.887329\n",
      "step: 14000, cost: 7389.252441, W1: 6.596981, W2: 6.178885, b: 381.728180\n",
      "step: 15000, cost: 7350.434570, W1: 6.497295, W2: 6.114869, b: 386.545563\n",
      "step: 16000, cost: 7324.027344, W1: 6.415075, W2: 6.062069, b: 390.518921\n",
      "step: 17000, cost: 7306.061523, W1: 6.347257, W2: 6.018519, b: 393.796295\n",
      "step: 18000, cost: 7293.842285, W1: 6.291324, W2: 5.982602, b: 396.499268\n",
      "step: 19000, cost: 7285.526367, W1: 6.245190, W2: 5.952976, b: 398.728699\n",
      "step: 20000, cost: 7279.869629, W1: 6.207135, W2: 5.928540, b: 400.567657\n",
      "step: 21000, cost: 7276.022461, W1: 6.175756, W2: 5.908388, b: 402.084106\n",
      "step: 22000, cost: 7273.406250, W1: 6.149871, W2: 5.891765, b: 403.335022\n"
     ]
    }
   ],
   "source": [
    "# Run training for the given number of steps.\n",
    "for step in range(1, training_steps + 1):\n",
    "    # Run the optimization to update W and b values.\n",
    "    run_optimization()\n",
    "    \n",
    "    if step % display_step == 0:\n",
    "        pred = linear_regression(X)\n",
    "        cost = mean_square(pred, Y)\n",
    "        print(\"step: %i, cost: %f, W1: %f, W2: %f, b: %f\" % (step, cost, W[0].numpy(), W[1].numpy(), b.numpy()))\n",
    "        #print(\"예측값 : {}\".format(pred.numpy()))\n",
    "        \n",
    "        '''\n",
    "        print(\"cost type: {}\".format(type(cost)))\n",
    "        print(\"W type: {}\".format(type(W)))\n",
    "        print(\"b type: {}\".format(type(b)))\n",
    "        print(\"pred type: {}\".format(type(pred)))\n",
    "        '''"
   ]
  },
  {
   "cell_type": "code",
   "execution_count": 21,
   "metadata": {},
   "outputs": [
    {
     "name": "stdout",
     "output_type": "stream",
     "text": [
      "30 시간, 10 개월 해외거주: 646.748779 점\n",
      "2 시간, 24 개월 해외거주: 557.037109 점\n"
     ]
    }
   ],
   "source": [
    "# ======== 학습된 우리의 프로그램에 예측 문의 ========\n",
    "\n",
    "sample = np.array([\n",
    "    [30, 10] \n",
    "], dtype=np.float32)\n",
    "\n",
    "sample1 = np.array([\n",
    "    [2, 24] \n",
    "], dtype=np.float32)\n",
    "\n",
    "# 30 시간 공부하고 10개월 해외에서 거주했을 경우 토익점수 예측\n",
    "print (\"%i 시간, %i 개월 해외거주: %f 점\" % (sample[0,0], sample[0,1], linear_regression(sample).numpy()))\n",
    "# 2 시간 공부하고 24개월 해외에서 거주했을 경우 토익점수 예측\n",
    "print (\"%i 시간, %i 개월 해외거주: %f 점\" % (sample1[0,0], sample1[0,1], linear_regression(sample1).numpy()))"
   ]
  },
  {
   "cell_type": "code",
   "execution_count": null,
   "metadata": {},
   "outputs": [],
   "source": []
  }
 ],
 "metadata": {
  "kernelspec": {
   "display_name": "Python 3",
   "language": "python",
   "name": "python3"
  },
  "language_info": {
   "codemirror_mode": {
    "name": "ipython",
    "version": 3
   },
   "file_extension": ".py",
   "mimetype": "text/x-python",
   "name": "python",
   "nbconvert_exporter": "python",
   "pygments_lexer": "ipython3",
   "version": "3.7.6"
  }
 },
 "nbformat": 4,
 "nbformat_minor": 4
}
