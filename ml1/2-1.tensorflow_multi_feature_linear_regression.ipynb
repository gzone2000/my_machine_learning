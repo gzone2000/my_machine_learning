{
 "cells": [
  {
   "cell_type": "code",
   "execution_count": 1,
   "metadata": {},
   "outputs": [],
   "source": [
    "import tensorflow as tf\n",
    "import numpy as np\n",
    "import matplotlib.pyplot as plt"
   ]
  },
  {
   "cell_type": "code",
   "execution_count": 2,
   "metadata": {},
   "outputs": [],
   "source": [
    "# ======== 파라미터 ========\n",
    "training_steps = 22000\n",
    "display_step = 1000"
   ]
  },
  {
   "cell_type": "code",
   "execution_count": 3,
   "metadata": {},
   "outputs": [
    {
     "name": "stdout",
     "output_type": "stream",
     "text": [
      "샘플수: 10\n"
     ]
    }
   ],
   "source": [
    "# ======== 학습데이터 ========\n",
    "# 학습시간\n",
    "X1 = np.array([54, 8, 30, 24, 46, 12, 20, 37, 40, 48])\n",
    "# 해외거주(월)\n",
    "X2 = [12, 0, 12, 15, 12, 0, 36, 12, 12, 24]\n",
    "# 토익점수\n",
    "Y = np.array([800, 320, 600, 630, 700, 680, 730, 720, 700, 920])\n",
    "# 샘플 갯수\n",
    "n_samples = X1.shape[0]\n",
    "\n",
    "print(\"샘플수: %i\" % (n_samples))"
   ]
  },
  {
   "cell_type": "code",
   "execution_count": 4,
   "metadata": {},
   "outputs": [
    {
     "data": {
      "text/plain": [
       "<tf.Variable 'Variable:0' shape=() dtype=float32, numpy=0.1>"
      ]
     },
     "execution_count": 4,
     "metadata": {},
     "output_type": "execute_result"
    }
   ],
   "source": [
    "# ======== W, B 초기값 설정 =========\n",
    "#W1 = tf.Variable(np.random.randn(), name=\"weight\")\n",
    "#W2 = tf.Variable(np.random.randn(), name=\"weight\")\n",
    "#b = tf.Variable(np.random.randn(), name=\"bias\")\n",
    "W1 = tf.Variable(0.1)\n",
    "W2 = tf.Variable(0.1)\n",
    "b = tf.Variable(1.0)\n",
    "W1"
   ]
  },
  {
   "cell_type": "code",
   "execution_count": 5,
   "metadata": {},
   "outputs": [],
   "source": [
    "# ======== Multiple Linear Regression 에서 학습될 가설 ========\n",
    "# Linear regression (Wx + b).\n",
    "def linear_regression(x1, x2):\n",
    "    return W1 * x1 + W2 * x2 + b"
   ]
  },
  {
   "cell_type": "code",
   "execution_count": 6,
   "metadata": {},
   "outputs": [],
   "source": [
    "# ======== Multiple Linear Regression 에서 학습될 가설의 Cost Function ========\n",
    "# Mean square error.\n",
    "def mean_square(y_pred, y_true):\n",
    "    return tf.reduce_mean(tf.square(y_pred - y_true)) "
   ]
  },
  {
   "cell_type": "code",
   "execution_count": 7,
   "metadata": {},
   "outputs": [],
   "source": [
    "# ======== Gradient Descent Algorithm 에서 Step ========\n",
    "learning_rate = 0.0006"
   ]
  },
  {
   "cell_type": "code",
   "execution_count": 8,
   "metadata": {},
   "outputs": [],
   "source": [
    "# ======== 텐서플로우에 내장된 GradientDescentOptimizer ========\n",
    "# Stochastic Gradient Descent Optimizer.\n",
    "optimizer = tf.optimizers.SGD(learning_rate)"
   ]
  },
  {
   "cell_type": "code",
   "execution_count": 9,
   "metadata": {},
   "outputs": [],
   "source": [
    "# ======== GradientDescentOptimizer ========\n",
    "# Optimization process. \n",
    "def run_optimization():\n",
    "    # Wrap computation inside a GradientTape for automatic differentiation. : 자동 미분\n",
    "    with tf.GradientTape() as g:\n",
    "        pred = linear_regression(X1, X2)\n",
    "        cost = mean_square(pred, Y)\n",
    "        #pred = W1 * X1 + W2 * X2 + b\n",
    "        #cost = tf.reduce_mean(tf.square(pred - Y)) \n",
    "\n",
    "    # Compute gradients.\n",
    "    weight1, weight2, bias = g.gradient(cost, [W1, W2, b])\n",
    "\n",
    "    # Update W and b following gradients.\n",
    "    W1.assign_sub(learning_rate * weight1)\n",
    "    W2.assign_sub(learning_rate * weight2)\n",
    "    b.assign_sub(learning_rate * bias)\n",
    "    "
   ]
  },
  {
   "cell_type": "code",
   "execution_count": 10,
   "metadata": {
    "scrolled": true
   },
   "outputs": [
    {
     "name": "stdout",
     "output_type": "stream",
     "text": [
      "step: 1000, cost: 25434.837891, W1: 12.987772, W2: 10.282817, b: 72.890015\n",
      "step: 2000, cost: 19626.619141, W1: 11.768388, W2: 9.499772, b: 131.817337\n",
      "step: 3000, cost: 15675.362305, W1: 10.762647, W2: 8.853922, b: 180.420319\n",
      "step: 4000, cost: 12987.374023, W1: 9.933116, W2: 8.321228, b: 220.507782\n",
      "step: 5000, cost: 11158.765625, W1: 9.248922, W2: 7.881864, b: 253.571808\n",
      "step: 6000, cost: 9914.788086, W1: 8.684604, W2: 7.519479, b: 280.842773\n",
      "step: 7000, cost: 9068.521484, W1: 8.219154, W2: 7.220584, b: 303.335876\n",
      "step: 8000, cost: 8492.819336, W1: 7.835254, W2: 6.974058, b: 321.888062\n",
      "step: 9000, cost: 8101.180664, W1: 7.518618, W2: 6.770725, b: 337.189667\n",
      "step: 10000, cost: 7834.748535, W1: 7.257453, W2: 6.603015, b: 349.810547\n",
      "step: 11000, cost: 7653.498535, W1: 7.042048, W2: 6.464689, b: 360.220123\n",
      "step: 12000, cost: 7530.196777, W1: 6.864383, W2: 6.350600, b: 368.805878\n",
      "step: 13000, cost: 7446.317871, W1: 6.717845, W2: 6.256498, b: 375.887390\n",
      "step: 14000, cost: 7389.252441, W1: 6.596981, W2: 6.178885, b: 381.728180\n",
      "step: 15000, cost: 7350.435059, W1: 6.497296, W2: 6.114869, b: 386.545532\n",
      "step: 16000, cost: 7324.027344, W1: 6.415075, W2: 6.062069, b: 390.518921\n",
      "step: 17000, cost: 7306.062500, W1: 6.347256, W2: 6.018519, b: 393.796265\n",
      "step: 18000, cost: 7293.842285, W1: 6.291324, W2: 5.982602, b: 396.499237\n",
      "step: 19000, cost: 7285.524902, W1: 6.245190, W2: 5.952976, b: 398.728668\n",
      "step: 20000, cost: 7279.871094, W1: 6.207136, W2: 5.928539, b: 400.567657\n",
      "step: 21000, cost: 7276.022461, W1: 6.175756, W2: 5.908388, b: 402.084106\n",
      "step: 22000, cost: 7273.407227, W1: 6.149871, W2: 5.891765, b: 403.335022\n"
     ]
    }
   ],
   "source": [
    "#run_optimization()\n",
    "#'''\n",
    "# Run training for the given number of steps.\n",
    "for step in range(1, training_steps + 1):\n",
    "    # Run the optimization to update W and b values.\n",
    "    run_optimization()\n",
    "    \n",
    "    if step % display_step == 0:\n",
    "        pred = linear_regression(X1, X2)\n",
    "        cost = mean_square(pred, Y)\n",
    "        print(\"step: %i, cost: %f, W1: %f, W2: %f, b: %f\" % (step, cost, W1.numpy(), W2.numpy(), b.numpy()))\n",
    "        #print(\"예측값 : {}\".format(pred.numpy()))\n"
   ]
  },
  {
   "cell_type": "code",
   "execution_count": 11,
   "metadata": {},
   "outputs": [
    {
     "name": "stdout",
     "output_type": "stream",
     "text": [
      "30시간, 10개월 해외거주: 646.748779 점\n",
      "2시간, 24개월 해외거주: 557.037109 점\n"
     ]
    }
   ],
   "source": [
    "# ======== 학습된 우리의 프로그램에 예측 문의 ========\n",
    "\n",
    "# 30 시간 공부하고 10개월 해외에서 거주했을 경우 토익점수 예측\n",
    "print (\"30시간, 10개월 해외거주: %f 점\" % (linear_regression(30,10).numpy()))\n",
    "# 2 시간 공부하고 124월 해외에서 거주했을 경우 토익점수 예측\n",
    "print (\"2시간, 24개월 해외거주: %f 점\" % (linear_regression(2,24).numpy()))"
   ]
  },
  {
   "cell_type": "code",
   "execution_count": null,
   "metadata": {},
   "outputs": [],
   "source": []
  }
 ],
 "metadata": {
  "kernelspec": {
   "display_name": "Python 3",
   "language": "python",
   "name": "python3"
  },
  "language_info": {
   "codemirror_mode": {
    "name": "ipython",
    "version": 3
   },
   "file_extension": ".py",
   "mimetype": "text/x-python",
   "name": "python",
   "nbconvert_exporter": "python",
   "pygments_lexer": "ipython3",
   "version": "3.7.6"
  }
 },
 "nbformat": 4,
 "nbformat_minor": 4
}
